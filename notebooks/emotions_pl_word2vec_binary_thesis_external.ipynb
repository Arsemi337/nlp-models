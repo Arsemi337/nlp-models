{
 "cells": [
  {
   "cell_type": "code",
   "execution_count": 1,
   "metadata": {},
   "outputs": [],
   "source": [
    "import numpy as np\n",
    "import tensorflow as tf\n",
    "import string\n",
    "import pandas as pd\n",
    "import gensim\n",
    "from datasets import Dataset\n",
    "import spacy\n",
    "import core.model_utils as model_utils\n",
    "import core.constants as constants\n",
    "import matplotlib.pyplot as plt\n",
    "import os\n",
    "import re"
   ]
  },
  {
   "cell_type": "code",
   "execution_count": 2,
   "metadata": {},
   "outputs": [],
   "source": [
    "spacy_model = spacy.load(\"pl_core_news_sm\")\n",
    "\n",
    "# Stop words\n",
    "stop_words = spacy_model.Defaults.stop_words.copy()\n",
    "stop_words.remove(\"nie\")\n",
    "\n",
    "# Punctuation\n",
    "punctuations = string.punctuation\n",
    "\n",
    "\n",
    "# Tokenizer\n",
    "def spacy_tokenizer(sentence):\n",
    "    doc = spacy_model(sentence)\n",
    "\n",
    "    # Lemmatizing each token and converting each token into lowercase\n",
    "    my_tokens = [ word.lemma_.lower().strip() for word in doc ]\n",
    "\n",
    "    # Removing stop words and punctuation\n",
    "    my_tokens = [ word for word in my_tokens if word not in stop_words and word not in punctuations ]\n",
    "    return my_tokens\n",
    "\n",
    "\n",
    "df = pd.read_json('./../data/polish_translated/emotions/assignments_dataset.json')"
   ]
  },
  {
   "cell_type": "code",
   "execution_count": 3,
   "metadata": {},
   "outputs": [],
   "source": [
    "ordered_class_labels = {\n",
    "    \"joy\": 0,\n",
    "    \"love\": 1,\n",
    "    \"surprise\": 2,\n",
    "    \"sadness\": 3,\n",
    "    \"anger\": 4,\n",
    "    \"fear\": 5,\n",
    "}\n",
    "\n",
    "df = df.replace({\"emotion\": ordered_class_labels})"
   ]
  },
  {
   "cell_type": "code",
   "execution_count": 4,
   "metadata": {},
   "outputs": [
    {
     "data": {
      "image/png": "[encoded data removed]",
      "text/plain": [
       "<Figure size 640x480 with 1 Axes>"
      ]
     },
     "metadata": {},
     "output_type": "display_data"
    }
   ],
   "source": [
    "data = df[\"emotion\"]\n",
    "data.value_counts().plot.bar()\n",
    "plt.show()"
   ]
  },
  {
   "cell_type": "code",
   "execution_count": 5,
   "metadata": {},
   "outputs": [],
   "source": [
    "emoji_pattern = re.compile(\"[\"\n",
    "        u\"\\U0001F600-\\U0001F64F\"  # emoticons\n",
    "        u\"\\U0001F300-\\U0001F5FF\"  # symbols & pictographs\n",
    "        u\"\\U0001F680-\\U0001F6FF\"  # transport & map symbols\n",
    "        u\"\\U0001F1E0-\\U0001F1FF\"  # flags (iOS)\n",
    "                           \"]+\", flags=re.UNICODE)"
   ]
  },
  {
   "cell_type": "code",
   "execution_count": 6,
   "metadata": {},
   "outputs": [
    {
     "data": {
      "text/html": [
       "<div>\n",
       "<style scoped>\n",
       "    .dataframe tbody tr th:only-of-type {\n",
       "        vertical-align: middle;\n",
       "    }\n",
       "\n",
       "    .dataframe tbody tr th {\n",
       "        vertical-align: top;\n",
       "    }\n",
       "\n",
       "    .dataframe thead th {\n",
       "        text-align: right;\n",
       "    }\n",
       "</style>\n",
       "<table border=\"1\" class=\"dataframe\">\n",
       "  <thead>\n",
       "    <tr style=\"text-align: right;\">\n",
       "      <th></th>\n",
       "      <th>comment</th>\n",
       "      <th>emotion</th>\n",
       "    </tr>\n",
       "  </thead>\n",
       "  <tbody>\n",
       "    <tr>\n",
       "      <th>0</th>\n",
       "      <td>Jak palion zrobi piosenkę to wiadomo co będzie...</td>\n",
       "      <td>0</td>\n",
       "    </tr>\n",
       "    <tr>\n",
       "      <th>1</th>\n",
       "      <td>Wiem, że palion może tego nigdy nie zobaczyć, ...</td>\n",
       "      <td>0</td>\n",
       "    </tr>\n",
       "    <tr>\n",
       "      <th>2</th>\n",
       "      <td>Był kiedyś taki serial : Kasia i Tomek i wedłu...</td>\n",
       "      <td>0</td>\n",
       "    </tr>\n",
       "    <tr>\n",
       "      <th>3</th>\n",
       "      <td>Mamy właśnie przykład jak powinna wyglądać pra...</td>\n",
       "      <td>0</td>\n",
       "    </tr>\n",
       "    <tr>\n",
       "      <th>4</th>\n",
       "      <td>Siemka WK teraz moja kolej na nagrodę  pozdraw...</td>\n",
       "      <td>0</td>\n",
       "    </tr>\n",
       "    <tr>\n",
       "      <th>...</th>\n",
       "      <td>...</td>\n",
       "      <td>...</td>\n",
       "    </tr>\n",
       "    <tr>\n",
       "      <th>1327</th>\n",
       "      <td>Uwielbiam twoje firmy zabieram się za oglądani...</td>\n",
       "      <td>0</td>\n",
       "    </tr>\n",
       "    <tr>\n",
       "      <th>1328</th>\n",
       "      <td>Dla mnie \"Film o pszczołach\" był genialny. Zar...</td>\n",
       "      <td>3</td>\n",
       "    </tr>\n",
       "    <tr>\n",
       "      <th>1329</th>\n",
       "      <td>Zawsze o 14.00 odrazu każda sobota jest lepsza...</td>\n",
       "      <td>0</td>\n",
       "    </tr>\n",
       "    <tr>\n",
       "      <th>1330</th>\n",
       "      <td>Zawsze oglądane do końca! La Budda &lt;3</td>\n",
       "      <td>1</td>\n",
       "    </tr>\n",
       "    <tr>\n",
       "      <th>1331</th>\n",
       "      <td>Bardzo podoba mi się moment w którym Trener pr...</td>\n",
       "      <td>1</td>\n",
       "    </tr>\n",
       "  </tbody>\n",
       "</table>\n",
       "<p>1332 rows × 2 columns</p>\n",
       "</div>"
      ],
      "text/plain": [
       "                                                comment  emotion\n",
       "0     Jak palion zrobi piosenkę to wiadomo co będzie...        0\n",
       "1     Wiem, że palion może tego nigdy nie zobaczyć, ...        0\n",
       "2     Był kiedyś taki serial : Kasia i Tomek i wedłu...        0\n",
       "3     Mamy właśnie przykład jak powinna wyglądać pra...        0\n",
       "4     Siemka WK teraz moja kolej na nagrodę  pozdraw...        0\n",
       "...                                                 ...      ...\n",
       "1327  Uwielbiam twoje firmy zabieram się za oglądani...        0\n",
       "1328  Dla mnie \"Film o pszczołach\" był genialny. Zar...        3\n",
       "1329  Zawsze o 14.00 odrazu każda sobota jest lepsza...        0\n",
       "1330              Zawsze oglądane do końca! La Budda <3        1\n",
       "1331  Bardzo podoba mi się moment w którym Trener pr...        1\n",
       "\n",
       "[1332 rows x 2 columns]"
      ]
     },
     "execution_count": 6,
     "metadata": {},
     "output_type": "execute_result"
    }
   ],
   "source": [
    "df['comment'] = df['comment'].apply(lambda row: emoji_pattern.sub(r'', row))\n",
    "df"
   ]
  },
  {
   "cell_type": "code",
   "execution_count": 7,
   "metadata": {},
   "outputs": [],
   "source": [
    "df['tokens'] = df['comment'].apply(spacy_tokenizer)\n",
    "df['joined_tokens'] = df['tokens'].apply(lambda tokens: ' '.join(tokens))\n",
    "df.to_json('./../data/polish_translated/emotions/assignments_dataset_pl_with_tokens.json')"
   ]
  },
  {
   "cell_type": "code",
   "execution_count": 7,
   "metadata": {},
   "outputs": [
    {
     "data": {
      "text/html": [
       "<div>\n",
       "<style scoped>\n",
       "    .dataframe tbody tr th:only-of-type {\n",
       "        vertical-align: middle;\n",
       "    }\n",
       "\n",
       "    .dataframe tbody tr th {\n",
       "        vertical-align: top;\n",
       "    }\n",
       "\n",
       "    .dataframe thead th {\n",
       "        text-align: right;\n",
       "    }\n",
       "</style>\n",
       "<table border=\"1\" class=\"dataframe\">\n",
       "  <thead>\n",
       "    <tr style=\"text-align: right;\">\n",
       "      <th></th>\n",
       "      <th>comment</th>\n",
       "      <th>emotion</th>\n",
       "      <th>tokens</th>\n",
       "      <th>joined_tokens</th>\n",
       "    </tr>\n",
       "  </thead>\n",
       "  <tbody>\n",
       "    <tr>\n",
       "      <th>0</th>\n",
       "      <td>Jak palion zrobi piosenkę to wiadomo co będzie...</td>\n",
       "      <td>0</td>\n",
       "      <td>[palion, zrobić, piosenka, wiadomo, kanał, poz...</td>\n",
       "      <td>palion zrobić piosenka wiadomo kanał pozdrawia...</td>\n",
       "    </tr>\n",
       "    <tr>\n",
       "      <th>1</th>\n",
       "      <td>Wiem, że palion może tego nigdy nie zobaczyć, ...</td>\n",
       "      <td>0</td>\n",
       "      <td>[wiedzieć, palion, móc, nie, zobaczyć, zrobić,...</td>\n",
       "      <td>wiedzieć palion móc nie zobaczyć zrobić chcieć...</td>\n",
       "    </tr>\n",
       "    <tr>\n",
       "      <th>2</th>\n",
       "      <td>Był kiedyś taki serial : Kasia i Tomek i wedłu...</td>\n",
       "      <td>0</td>\n",
       "      <td>[kiedyś, serial, kasia, tomek, jesteście, nowo...</td>\n",
       "      <td>kiedyś serial kasia tomek jesteście nowoczesny...</td>\n",
       "    </tr>\n",
       "    <tr>\n",
       "      <th>3</th>\n",
       "      <td>Mamy właśnie przykład jak powinna wyglądać pra...</td>\n",
       "      <td>0</td>\n",
       "      <td>[mieć, przykład, wyglądać, prawdziwy, konferen...</td>\n",
       "      <td>mieć przykład wyglądać prawdziwy konferencja w...</td>\n",
       "    </tr>\n",
       "    <tr>\n",
       "      <th>4</th>\n",
       "      <td>Siemka WK teraz moja kolej na nagrodę  pozdraw...</td>\n",
       "      <td>0</td>\n",
       "      <td>[siemka, wk, kolej, nagroda, pozdrawiać]</td>\n",
       "      <td>siemka wk kolej nagroda pozdrawiać</td>\n",
       "    </tr>\n",
       "    <tr>\n",
       "      <th>...</th>\n",
       "      <td>...</td>\n",
       "      <td>...</td>\n",
       "      <td>...</td>\n",
       "      <td>...</td>\n",
       "    </tr>\n",
       "    <tr>\n",
       "      <th>1327</th>\n",
       "      <td>Uwielbiam twoje firmy zabieram się za oglądani...</td>\n",
       "      <td>0</td>\n",
       "      <td>[uwielbiam, firma, zabierać, oglądać, pozdrawi...</td>\n",
       "      <td>uwielbiam firma zabierać oglądać pozdrawiać ws...</td>\n",
       "    </tr>\n",
       "    <tr>\n",
       "      <th>1328</th>\n",
       "      <td>Dla mnie \"Film o pszczołach\" był genialny. Zar...</td>\n",
       "      <td>3</td>\n",
       "      <td>[film, pszczoł, genialny, zarówno, całokształt...</td>\n",
       "      <td>film pszczoł genialny zarówno całokształt swój...</td>\n",
       "    </tr>\n",
       "    <tr>\n",
       "      <th>1329</th>\n",
       "      <td>Zawsze o 14.00 odrazu każda sobota jest lepsza...</td>\n",
       "      <td>0</td>\n",
       "      <td>[14, 00, odraz, sobota, dobry, dzięki, kamil, ...</td>\n",
       "      <td>14 00 odraz sobota dobry dzięki kamil ❤ ️</td>\n",
       "    </tr>\n",
       "    <tr>\n",
       "      <th>1330</th>\n",
       "      <td>Zawsze oglądane do końca! La Budda &lt;3</td>\n",
       "      <td>1</td>\n",
       "      <td>[oglądać, koniec, la, budda, &lt;3]</td>\n",
       "      <td>oglądać koniec la budda &lt;3</td>\n",
       "    </tr>\n",
       "    <tr>\n",
       "      <th>1331</th>\n",
       "      <td>Bardzo podoba mi się moment w którym Trener pr...</td>\n",
       "      <td>1</td>\n",
       "      <td>[podobać, moment, trener, próbować, uświadomić...</td>\n",
       "      <td>podobać moment trener próbować uświadomić powi...</td>\n",
       "    </tr>\n",
       "  </tbody>\n",
       "</table>\n",
       "<p>1332 rows × 4 columns</p>\n",
       "</div>"
      ],
      "text/plain": [
       "                                                comment  emotion  \\\n",
       "0     Jak palion zrobi piosenkę to wiadomo co będzie...        0   \n",
       "1     Wiem, że palion może tego nigdy nie zobaczyć, ...        0   \n",
       "2     Był kiedyś taki serial : Kasia i Tomek i wedłu...        0   \n",
       "3     Mamy właśnie przykład jak powinna wyglądać pra...        0   \n",
       "4     Siemka WK teraz moja kolej na nagrodę  pozdraw...        0   \n",
       "...                                                 ...      ...   \n",
       "1327  Uwielbiam twoje firmy zabieram się za oglądani...        0   \n",
       "1328  Dla mnie \"Film o pszczołach\" był genialny. Zar...        3   \n",
       "1329  Zawsze o 14.00 odrazu każda sobota jest lepsza...        0   \n",
       "1330              Zawsze oglądane do końca! La Budda <3        1   \n",
       "1331  Bardzo podoba mi się moment w którym Trener pr...        1   \n",
       "\n",
       "                                                 tokens  \\\n",
       "0     [palion, zrobić, piosenka, wiadomo, kanał, poz...   \n",
       "1     [wiedzieć, palion, móc, nie, zobaczyć, zrobić,...   \n",
       "2     [kiedyś, serial, kasia, tomek, jesteście, nowo...   \n",
       "3     [mieć, przykład, wyglądać, prawdziwy, konferen...   \n",
       "4              [siemka, wk, kolej, nagroda, pozdrawiać]   \n",
       "...                                                 ...   \n",
       "1327  [uwielbiam, firma, zabierać, oglądać, pozdrawi...   \n",
       "1328  [film, pszczoł, genialny, zarówno, całokształt...   \n",
       "1329  [14, 00, odraz, sobota, dobry, dzięki, kamil, ...   \n",
       "1330                   [oglądać, koniec, la, budda, <3]   \n",
       "1331  [podobać, moment, trener, próbować, uświadomić...   \n",
       "\n",
       "                                          joined_tokens  \n",
       "0     palion zrobić piosenka wiadomo kanał pozdrawia...  \n",
       "1     wiedzieć palion móc nie zobaczyć zrobić chcieć...  \n",
       "2     kiedyś serial kasia tomek jesteście nowoczesny...  \n",
       "3     mieć przykład wyglądać prawdziwy konferencja w...  \n",
       "4                    siemka wk kolej nagroda pozdrawiać  \n",
       "...                                                 ...  \n",
       "1327  uwielbiam firma zabierać oglądać pozdrawiać ws...  \n",
       "1328  film pszczoł genialny zarówno całokształt swój...  \n",
       "1329          14 00 odraz sobota dobry dzięki kamil ❤ ️  \n",
       "1330                         oglądać koniec la budda <3  \n",
       "1331  podobać moment trener próbować uświadomić powi...  \n",
       "\n",
       "[1332 rows x 4 columns]"
      ]
     },
     "execution_count": 7,
     "metadata": {},
     "output_type": "execute_result"
    }
   ],
   "source": [
    "tokenized_sentences_df = pd.read_json(\n",
    "    './../data/polish_translated/emotions/assignments_dataset_pl_with_tokens.json')\n",
    "tokenized_sentences_df"
   ]
  },
  {
   "cell_type": "code",
   "execution_count": 8,
   "metadata": {},
   "outputs": [],
   "source": [
    "emotions = [0, 1]\n",
    "rslt_df = tokenized_sentences_df[tokenized_sentences_df['emotion'].isin(emotions)]"
   ]
  },
  {
   "cell_type": "code",
   "execution_count": 9,
   "metadata": {},
   "outputs": [
    {
     "data": {
      "text/plain": [
       "1009"
      ]
     },
     "execution_count": 9,
     "metadata": {},
     "output_type": "execute_result"
    }
   ],
   "source": [
    "len(rslt_df)"
   ]
  },
  {
   "cell_type": "code",
   "execution_count": 10,
   "metadata": {},
   "outputs": [
    {
     "data": {
      "image/png": "[encoded data removed]",
      "text/plain": [
       "<Figure size 640x480 with 1 Axes>"
      ]
     },
     "metadata": {},
     "output_type": "display_data"
    }
   ],
   "source": [
    "data = rslt_df[\"emotion\"]\n",
    "data.value_counts().plot.bar()\n",
    "plt.show()"
   ]
  },
  {
   "cell_type": "code",
   "execution_count": 11,
   "metadata": {},
   "outputs": [
    {
     "data": {
      "text/plain": [
       "Dataset({\n",
       "    features: ['comment', 'emotion', 'tokens', 'joined_tokens'],\n",
       "    num_rows: 1009\n",
       "})"
      ]
     },
     "execution_count": 11,
     "metadata": {},
     "output_type": "execute_result"
    }
   ],
   "source": [
    "full_dataset = Dataset.from_pandas(rslt_df).remove_columns(\"__index_level_0__\")\n",
    "full_dataset"
   ]
  },
  {
   "cell_type": "code",
   "execution_count": 12,
   "metadata": {},
   "outputs": [],
   "source": [
    "# Train set: 80%, Validation set: 10%, Test set: 10%\n",
    "train_dataset, val_dataset, test_dataset = model_utils.split_train_val_test(\n",
    "    full_dataset,\n",
    "    train_size=0.8,\n",
    "    test_size_of_val_test_batch=0.5,\n",
    "    shuffle=True,\n",
    "    seed=42)"
   ]
  },
  {
   "cell_type": "code",
   "execution_count": 13,
   "metadata": {},
   "outputs": [],
   "source": [
    "# https://github.com/sdadas/polish-nlp-resources#word2vec (needs to be downloaded manually)\n",
    "w2v_model = gensim.models.KeyedVectors.load(\"./word2vec/word2vec_100_3_polish.bin\")"
   ]
  },
  {
   "cell_type": "code",
   "execution_count": 14,
   "metadata": {},
   "outputs": [],
   "source": [
    "# # Word2Vec\n",
    "# tokenized_sentences = train_dataset['tokens']\n",
    "# w2v_model = gensim.models.Word2Vec(sentences=tokenized_sentences, vector_size=100, window=6, min_count=1)\n",
    "# w2v_model.train(tokenized_sentences, epochs=10, total_examples=len(tokenized_sentences))"
   ]
  },
  {
   "cell_type": "code",
   "execution_count": 20,
   "metadata": {},
   "outputs": [],
   "source": [
    "def tokens_to_vector(tokens):\n",
    "    vector_size = w2v_model.vector_size\n",
    "    wv_res = np.zeros(vector_size)\n",
    "    ctr = 1\n",
    "    for w in tokens:\n",
    "        if w in w2v_model:\n",
    "            ctr += 1\n",
    "            wv_res += w2v_model[w]\n",
    "    wv_res = wv_res / ctr\n",
    "    return wv_res"
   ]
  },
  {
   "cell_type": "code",
   "execution_count": 21,
   "metadata": {},
   "outputs": [
    {
     "data": {
      "application/vnd.jupyter.widget-view+json": {
       "model_id": "872b6485c75f4ea6969e97563a62c0c6",
       "version_major": 2,
       "version_minor": 0
      },
      "text/plain": [
       "Map:   0%|          | 0/807 [00:00<?, ? examples/s]"
      ]
     },
     "metadata": {},
     "output_type": "display_data"
    },
    {
     "data": {
      "application/vnd.jupyter.widget-view+json": {
       "model_id": "dcc60b3e7295407e95bed9de9f88f182",
       "version_major": 2,
       "version_minor": 0
      },
      "text/plain": [
       "Map:   0%|          | 0/101 [00:00<?, ? examples/s]"
      ]
     },
     "metadata": {},
     "output_type": "display_data"
    },
    {
     "data": {
      "application/vnd.jupyter.widget-view+json": {
       "model_id": "d7e57d327dfc4c3cbfb5aa7e14ec8232",
       "version_major": 2,
       "version_minor": 0
      },
      "text/plain": [
       "Map:   0%|          | 0/101 [00:00<?, ? examples/s]"
      ]
     },
     "metadata": {},
     "output_type": "display_data"
    }
   ],
   "source": [
    "def tokenize_for_word2vec(sample):\n",
    "    sample['embeddings'] = [tokens_to_vector(tokens) for tokens in sample['tokens']]\n",
    "    return sample\n",
    "\n",
    "\n",
    "train_dataset = train_dataset.map(tokenize_for_word2vec, batched=True)\n",
    "val_dataset = val_dataset.map(tokenize_for_word2vec, batched=True)\n",
    "test_dataset = test_dataset.map(tokenize_for_word2vec, batched=True)"
   ]
  },
  {
   "cell_type": "code",
   "execution_count": 22,
   "metadata": {},
   "outputs": [
    {
     "name": "stderr",
     "output_type": "stream",
     "text": [
      "c:\\Users\\Artur\\.conda\\envs\\nlp\\lib\\site-packages\\datasets\\arrow_dataset.py:388: FutureWarning: The output of `to_tf_dataset` will change when a passing single element list for `labels` or `columns` in the next datasets version. To return a tuple structure rather than dict, pass a single string.\n",
      "Old behaviour: columns=['a'], labels=['labels'] -> (tf.Tensor, tf.Tensor)  \n",
      "             : columns='a', labels='labels' -> (tf.Tensor, tf.Tensor)  \n",
      "New behaviour: columns=['a'],labels=['labels'] -> ({'a': tf.Tensor}, {'labels': tf.Tensor})  \n",
      "             : columns='a', labels='labels' -> (tf.Tensor, tf.Tensor) \n",
      "  warnings.warn(\n"
     ]
    }
   ],
   "source": [
    "columns = [\"embeddings\"]\n",
    "label_cols = [\"emotion\"]\n",
    "batch_size = 16\n",
    "\n",
    "tf_train_dataset = model_utils.convert_to_tf_dataset(train_dataset, columns, label_cols, None, batch_size)\n",
    "tf_val_dataset = model_utils.convert_to_tf_dataset(val_dataset, columns, label_cols, None, batch_size)\n",
    "tf_test_dataset = model_utils.convert_to_tf_dataset(test_dataset, columns, label_cols, None, batch_size)"
   ]
  },
  {
   "cell_type": "code",
   "execution_count": 23,
   "metadata": {},
   "outputs": [],
   "source": [
    "model = tf.keras.models.Sequential()\n",
    "model.add(tf.keras.layers.Flatten())\n",
    "model.add(tf.keras.layers.Dense(64, activation='relu'))\n",
    "model.add(tf.keras.layers.Dense(2, activation='sigmoid'))"
   ]
  },
  {
   "cell_type": "code",
   "execution_count": 24,
   "metadata": {},
   "outputs": [],
   "source": [
    "model.compile(optimizer=\"adam\", loss=tf.keras.losses.SparseCategoricalCrossentropy(), metrics=[\"accuracy\"])"
   ]
  },
  {
   "cell_type": "code",
   "execution_count": 25,
   "metadata": {},
   "outputs": [],
   "source": [
    "# Model parameters\n",
    "training_number = 2\n",
    "model_name = 'emotions_pl_word2vec_binary_thesis'\n",
    "training_name = f\"training_{training_number}\"\n",
    "figures_dir = f\"./../documentation/models/{model_name}/figures\"\n",
    "checkpoint_filename_template = \"cp-{epoch:04d}.ckpt\"\n",
    "checkpoints_dir = os.path.join(constants.TRAINING_CHECKPOINTS_PATH, model_name, training_name)\n",
    "checkpoint_path = os.path.join(checkpoints_dir, checkpoint_filename_template)"
   ]
  },
  {
   "cell_type": "code",
   "execution_count": 26,
   "metadata": {},
   "outputs": [],
   "source": [
    "# Callbacks\n",
    "checkpoint_cb = tf.keras.callbacks.ModelCheckpoint(checkpoint_path, verbose=1, save_weights_only=True)\n",
    "early_stop_cb = tf.keras.callbacks.EarlyStopping(patience=3)\n",
    "callbacks = [checkpoint_cb, early_stop_cb]"
   ]
  },
  {
   "cell_type": "code",
   "execution_count": 27,
   "metadata": {},
   "outputs": [
    {
     "name": "stdout",
     "output_type": "stream",
     "text": [
      "Epoch 1/20\n",
      "46/51 [==========================>...] - ETA: 0s - loss: 0.8526 - accuracy: 0.4878\n",
      "Epoch 1: saving model to ./../training_checkpoints\\emotions_pl_word2vec_binary_thesis\\training_2\\cp-0001.ckpt\n",
      "51/51 [==============================] - 1s 11ms/step - loss: 0.8531 - accuracy: 0.4758 - val_loss: 0.7814 - val_accuracy: 0.4851\n",
      "Epoch 2/20\n",
      "43/51 [========================>.....] - ETA: 0s - loss: 0.6708 - accuracy: 0.6061\n",
      "Epoch 2: saving model to ./../training_checkpoints\\emotions_pl_word2vec_binary_thesis\\training_2\\cp-0002.ckpt\n",
      "51/51 [==============================] - 0s 7ms/step - loss: 0.6721 - accuracy: 0.5985 - val_loss: 0.7553 - val_accuracy: 0.5545\n",
      "Epoch 3/20\n",
      "26/51 [==============>...............] - ETA: 0s - loss: 0.6122 - accuracy: 0.6538\n",
      "Epoch 3: saving model to ./../training_checkpoints\\emotions_pl_word2vec_binary_thesis\\training_2\\cp-0003.ckpt\n",
      "51/51 [==============================] - 0s 6ms/step - loss: 0.6096 - accuracy: 0.6580 - val_loss: 0.7574 - val_accuracy: 0.5347\n",
      "Epoch 4/20\n",
      "27/51 [==============>...............] - ETA: 0s - loss: 0.5687 - accuracy: 0.6921\n",
      "Epoch 4: saving model to ./../training_checkpoints\\emotions_pl_word2vec_binary_thesis\\training_2\\cp-0004.ckpt\n",
      "51/51 [==============================] - 0s 6ms/step - loss: 0.5678 - accuracy: 0.6989 - val_loss: 0.7690 - val_accuracy: 0.5248\n",
      "Epoch 5/20\n",
      "27/51 [==============>...............] - ETA: 0s - loss: 0.5318 - accuracy: 0.7384\n",
      "Epoch 5: saving model to ./../training_checkpoints\\emotions_pl_word2vec_binary_thesis\\training_2\\cp-0005.ckpt\n",
      "51/51 [==============================] - 0s 6ms/step - loss: 0.5331 - accuracy: 0.7336 - val_loss: 0.7862 - val_accuracy: 0.5050\n"
     ]
    }
   ],
   "source": [
    "history = model.fit(tf_train_dataset, validation_data=tf_val_dataset, epochs=20,\n",
    "                    callbacks=[checkpoint_cb, early_stop_cb])"
   ]
  },
  {
   "cell_type": "code",
   "execution_count": 28,
   "metadata": {},
   "outputs": [
    {
     "data": {
      "image/png": "[encoded data removed]",
      "text/plain": [
       "<Figure size 640x480 with 1 Axes>"
      ]
     },
     "metadata": {},
     "output_type": "display_data"
    },
    {
     "data": {
      "image/png": "[encoded data removed]",
      "text/plain": [
       "<Figure size 640x480 with 1 Axes>"
      ]
     },
     "metadata": {},
     "output_type": "display_data"
    }
   ],
   "source": [
    "model_utils.plot_and_save_fig_from_history(history,\n",
    "                                           attributes=['accuracy', 'val_accuracy'],\n",
    "                                           title='Model accuracy',\n",
    "                                           y_label='Accuracy',\n",
    "                                           x_label='Epoch',\n",
    "                                           legend_descriptors=['Train', 'Val'],\n",
    "                                           figure_dir_path=figures_dir,\n",
    "                                           figure_filename=f\"{training_name}_accuracy.png\")\n",
    "\n",
    "model_utils.plot_and_save_fig_from_history(history,\n",
    "                                           attributes=['loss', 'val_loss'],\n",
    "                                           title='Model loss',\n",
    "                                           y_label='Loss',\n",
    "                                           x_label='Epoch',\n",
    "                                           legend_descriptors=['Train', 'Val'],\n",
    "                                           figure_dir_path=figures_dir,\n",
    "                                           figure_filename=f\"{training_name}_loss.png\")"
   ]
  },
  {
   "cell_type": "code",
   "execution_count": 29,
   "metadata": {},
   "outputs": [],
   "source": [
    "best_model = model_utils.get_best_model_from_checkpoints(model, history,\n",
    "                                                         checkpoints_dir=checkpoints_dir,\n",
    "                                                         checkpoint_filename_template=checkpoint_filename_template)"
   ]
  },
  {
   "cell_type": "code",
   "execution_count": 30,
   "metadata": {},
   "outputs": [
    {
     "name": "stdout",
     "output_type": "stream",
     "text": [
      "INFO:tensorflow:Assets written to: ./../trained_models\\emotions_pl_word2vec_binary_thesis_2\\1\\assets\n"
     ]
    }
   ],
   "source": [
    "model_utils.save_model(best_model, model_name=model_name, training_number=training_number, saved_models_dir=constants.SAVED_MODEL_LOCATION, default_model_version=constants.DEFAULT_MODEL_VERSION)"
   ]
  },
  {
   "cell_type": "code",
   "execution_count": 31,
   "metadata": {},
   "outputs": [],
   "source": [
    "w2v_model.save(f\"./word2vec/{model_name}_{training_number}.model\")"
   ]
  },
  {
   "cell_type": "code",
   "execution_count": 32,
   "metadata": {},
   "outputs": [
    {
     "name": "stdout",
     "output_type": "stream",
     "text": [
      "7/7 [==============================] - 0s 2ms/step - loss: 0.6571 - accuracy: 0.6139\n"
     ]
    },
    {
     "data": {
      "text/plain": [
       "[0.6571410298347473, 0.6138613820075989]"
      ]
     },
     "execution_count": 32,
     "metadata": {},
     "output_type": "execute_result"
    }
   ],
   "source": [
    "# Evaluation\n",
    "best_model.evaluate(tf_test_dataset, batch_size=batch_size)"
   ]
  },
  {
   "cell_type": "code",
   "execution_count": 33,
   "metadata": {},
   "outputs": [
    {
     "name": "stdout",
     "output_type": "stream",
     "text": [
      "7/7 [==============================] - 0s 2ms/step\n"
     ]
    }
   ],
   "source": [
    "class_preds = model_utils.get_class_preds(best_model, tf_test_dataset, model_returns_logits=False)"
   ]
  },
  {
   "cell_type": "code",
   "execution_count": 34,
   "metadata": {},
   "outputs": [
    {
     "name": "stdout",
     "output_type": "stream",
     "text": [
      "Precision score:  0.6138613861386139\n",
      "Recall score:  0.6138613861386139\n",
      "F1 score:  0.6138613861386139\n"
     ]
    }
   ],
   "source": [
    "precision, recall, f1 = model_utils.get_classification_evaluation_metrics(\n",
    "    class_actual=test_dataset['emotion'],\n",
    "    class_preds=class_preds,\n",
    "    average='micro'\n",
    ")\n",
    "\n",
    "print(f\"Precision score: \", precision)\n",
    "print(f\"Recall score: \", recall)\n",
    "print(f\"F1 score: \", f1)"
   ]
  },
  {
   "cell_type": "code",
   "execution_count": 35,
   "metadata": {},
   "outputs": [
    {
     "data": {
      "image/png": "[encoded data removed]",
      "text/plain": [
       "<Figure size 640x480 with 2 Axes>"
      ]
     },
     "metadata": {},
     "output_type": "display_data"
    }
   ],
   "source": [
    "model_utils.plot_and_save_conf_matrix(class_actual=test_dataset['emotion'],\n",
    "                                      class_preds=class_preds,\n",
    "                                      figure_dir_path=figures_dir,\n",
    "                                      figure_filename=f\"{training_name}_confmatrix.png\")"
   ]
  },
  {
   "cell_type": "code",
   "execution_count": 36,
   "metadata": {},
   "outputs": [
    {
     "name": "stdout",
     "output_type": "stream",
     "text": [
      "\n",
      "            BAD PREDICTION:\n",
      "            - INDEX: 6\n",
      "            - TEXT: Rozjebane teraz czekamy na wspólną płytkę ❤️\n",
      "            - PREDICTED VALUE: 0\n",
      "            - CORRECT VALUE: 1\n",
      "            \n",
      "\n",
      "            BAD PREDICTION:\n",
      "            - INDEX: 7\n",
      "            - TEXT: Tą reklamę powinni puścić w telewizji \n",
      "            - PREDICTED VALUE: 0\n",
      "            - CORRECT VALUE: 1\n",
      "            \n",
      "\n",
      "            BAD PREDICTION:\n",
      "            - INDEX: 8\n",
      "            - TEXT: XDDDD CZY JESTEM Przystojny tamto coś tak OOOO DZIAŁAAAAAAAAAAA\n",
      "            - PREDICTED VALUE: 1\n",
      "            - CORRECT VALUE: 0\n",
      "            \n",
      "\n",
      "            BAD PREDICTION:\n",
      "            - INDEX: 11\n",
      "            - TEXT: Hahaha nie No autentycznie masz talent to takich histori przy stole. Dawaj więcej bo to dalej mnie śmieszy haha\n",
      "            - PREDICTED VALUE: 1\n",
      "            - CORRECT VALUE: 0\n",
      "            \n",
      "\n",
      "            BAD PREDICTION:\n",
      "            - INDEX: 14\n",
      "            - TEXT: Powrót Kubana cieszy bardziej niż jakby Polska wygrała mundial\n",
      "            - PREDICTED VALUE: 1\n",
      "            - CORRECT VALUE: 0\n",
      "            \n",
      "\n",
      "            BAD PREDICTION:\n",
      "            - INDEX: 15\n",
      "            - TEXT: Aga zapomniałaś jeszcze o lipstikach . Razem z konturówką do ust wygląda lepiej. Super film ! Byle było ich więcej .❤️\n",
      "            - PREDICTED VALUE: 0\n",
      "            - CORRECT VALUE: 1\n",
      "            \n",
      "\n",
      "            BAD PREDICTION:\n",
      "            - INDEX: 16\n",
      "            - TEXT: Prosimy o pełny film z tej akcji :)\n",
      "            - PREDICTED VALUE: 1\n",
      "            - CORRECT VALUE: 0\n",
      "            \n",
      "\n",
      "            BAD PREDICTION:\n",
      "            - INDEX: 23\n",
      "            - TEXT: zróbcie odcinek na takiej samej zasadzie, że można kombinować z nazwą, ale wszystkie produkty na jedną wylosowaną literę!\n",
      "            - PREDICTED VALUE: 0\n",
      "            - CORRECT VALUE: 1\n",
      "            \n",
      "\n",
      "            BAD PREDICTION:\n",
      "            - INDEX: 24\n",
      "            - TEXT: Kiedy to nagrywane jak w krótkich koszulkach chodzą ? Adam jak zwykle najlepszy ! Zawsze trzeba wszystko święcić :D To się ogląda tylko dla Adama.\n",
      "            - PREDICTED VALUE: 0\n",
      "            - CORRECT VALUE: 1\n",
      "            \n",
      "\n",
      "            BAD PREDICTION:\n",
      "            - INDEX: 25\n",
      "            - TEXT: nie od dziś wiadomo że Fonos to klasa sama w sobie a głos GMB wywołuje ciary , czekam na nute Fonosów z Kiełasem ❤️‍\n",
      "            - PREDICTED VALUE: 1\n",
      "            - CORRECT VALUE: 0\n",
      "            \n"
     ]
    }
   ],
   "source": [
    "model_utils.print_incorrectly_predicted_texts(texts=test_dataset['comment'],\n",
    "                                              class_actual=test_dataset['emotion'],\n",
    "                                              class_preds=class_preds)"
   ]
  },
  {
   "cell_type": "code",
   "execution_count": 37,
   "metadata": {},
   "outputs": [
    {
     "data": {
      "text/html": [
       "<div>\n",
       "<style scoped>\n",
       "    .dataframe tbody tr th:only-of-type {\n",
       "        vertical-align: middle;\n",
       "    }\n",
       "\n",
       "    .dataframe tbody tr th {\n",
       "        vertical-align: top;\n",
       "    }\n",
       "\n",
       "    .dataframe thead th {\n",
       "        text-align: right;\n",
       "    }\n",
       "</style>\n",
       "<table border=\"1\" class=\"dataframe\">\n",
       "  <thead>\n",
       "    <tr style=\"text-align: right;\">\n",
       "      <th></th>\n",
       "      <th>comment</th>\n",
       "      <th>emotion</th>\n",
       "      <th>prediction</th>\n",
       "    </tr>\n",
       "  </thead>\n",
       "  <tbody>\n",
       "    <tr>\n",
       "      <th>0</th>\n",
       "      <td>solidny imprezowy numer, nie ma się do czego p...</td>\n",
       "      <td>0</td>\n",
       "      <td>0</td>\n",
       "    </tr>\n",
       "    <tr>\n",
       "      <th>1</th>\n",
       "      <td>Dojebane jak każdy Wasz kawałek ! Panowie czek...</td>\n",
       "      <td>1</td>\n",
       "      <td>1</td>\n",
       "    </tr>\n",
       "    <tr>\n",
       "      <th>2</th>\n",
       "      <td>Na uwagę zasługuje fakt ze Sanah jako jedna z ...</td>\n",
       "      <td>0</td>\n",
       "      <td>0</td>\n",
       "    </tr>\n",
       "    <tr>\n",
       "      <th>3</th>\n",
       "      <td>Mistrz! Idealne przed snem po calym dniu</td>\n",
       "      <td>1</td>\n",
       "      <td>1</td>\n",
       "    </tr>\n",
       "    <tr>\n",
       "      <th>4</th>\n",
       "      <td>Miszczostwo świata, pełen szacunek za tekst</td>\n",
       "      <td>1</td>\n",
       "      <td>1</td>\n",
       "    </tr>\n",
       "    <tr>\n",
       "      <th>...</th>\n",
       "      <td>...</td>\n",
       "      <td>...</td>\n",
       "      <td>...</td>\n",
       "    </tr>\n",
       "    <tr>\n",
       "      <th>96</th>\n",
       "      <td>Witaj tato ❤ Zdrowia dla Waszej trójki. Cudown...</td>\n",
       "      <td>0</td>\n",
       "      <td>0</td>\n",
       "    </tr>\n",
       "    <tr>\n",
       "      <th>97</th>\n",
       "      <td>Oboję musicie iść na TOP MODEL ❤❤❤</td>\n",
       "      <td>1</td>\n",
       "      <td>0</td>\n",
       "    </tr>\n",
       "    <tr>\n",
       "      <th>98</th>\n",
       "      <td>Dlatych co nie chcą czekać 5 lat mają taki kol...</td>\n",
       "      <td>0</td>\n",
       "      <td>0</td>\n",
       "    </tr>\n",
       "    <tr>\n",
       "      <th>99</th>\n",
       "      <td>Jak dla mnie najlepszy kawałek na tej płycie 🤯</td>\n",
       "      <td>1</td>\n",
       "      <td>1</td>\n",
       "    </tr>\n",
       "    <tr>\n",
       "      <th>100</th>\n",
       "      <td>Nie umiem. To jest takie urocze❤️</td>\n",
       "      <td>1</td>\n",
       "      <td>1</td>\n",
       "    </tr>\n",
       "  </tbody>\n",
       "</table>\n",
       "<p>101 rows × 3 columns</p>\n",
       "</div>"
      ],
      "text/plain": [
       "                                               comment  emotion  prediction\n",
       "0    solidny imprezowy numer, nie ma się do czego p...        0           0\n",
       "1    Dojebane jak każdy Wasz kawałek ! Panowie czek...        1           1\n",
       "2    Na uwagę zasługuje fakt ze Sanah jako jedna z ...        0           0\n",
       "3            Mistrz! Idealne przed snem po calym dniu         1           1\n",
       "4         Miszczostwo świata, pełen szacunek za tekst         1           1\n",
       "..                                                 ...      ...         ...\n",
       "96   Witaj tato ❤ Zdrowia dla Waszej trójki. Cudown...        0           0\n",
       "97                  Oboję musicie iść na TOP MODEL ❤❤❤        1           0\n",
       "98   Dlatych co nie chcą czekać 5 lat mają taki kol...        0           0\n",
       "99      Jak dla mnie najlepszy kawałek na tej płycie 🤯        1           1\n",
       "100                  Nie umiem. To jest takie urocze❤️        1           1\n",
       "\n",
       "[101 rows x 3 columns]"
      ]
     },
     "execution_count": 37,
     "metadata": {},
     "output_type": "execute_result"
    }
   ],
   "source": [
    "test_df = pd.DataFrame(\n",
    "    list(zip(test_dataset['comment'], test_dataset['emotion'], class_preds)),\n",
    "    columns=['comment', 'emotion', 'prediction'])\n",
    "test_df"
   ]
  },
  {
   "cell_type": "code",
   "execution_count": 38,
   "metadata": {},
   "outputs": [
    {
     "data": {
      "text/html": [
       "<div>\n",
       "<style scoped>\n",
       "    .dataframe tbody tr th:only-of-type {\n",
       "        vertical-align: middle;\n",
       "    }\n",
       "\n",
       "    .dataframe tbody tr th {\n",
       "        vertical-align: top;\n",
       "    }\n",
       "\n",
       "    .dataframe thead th {\n",
       "        text-align: right;\n",
       "    }\n",
       "</style>\n",
       "<table border=\"1\" class=\"dataframe\">\n",
       "  <thead>\n",
       "    <tr style=\"text-align: right;\">\n",
       "      <th></th>\n",
       "      <th>comment</th>\n",
       "      <th>emotion</th>\n",
       "      <th>prediction</th>\n",
       "      <th>token_count</th>\n",
       "      <th>count_belonging</th>\n",
       "      <th>correctly_predicted</th>\n",
       "    </tr>\n",
       "  </thead>\n",
       "  <tbody>\n",
       "    <tr>\n",
       "      <th>0</th>\n",
       "      <td>solidny imprezowy numer, nie ma się do czego p...</td>\n",
       "      <td>0</td>\n",
       "      <td>0</td>\n",
       "      <td>10</td>\n",
       "      <td>6-11</td>\n",
       "      <td>1</td>\n",
       "    </tr>\n",
       "    <tr>\n",
       "      <th>1</th>\n",
       "      <td>Dojebane jak każdy Wasz kawałek ! Panowie czek...</td>\n",
       "      <td>1</td>\n",
       "      <td>1</td>\n",
       "      <td>14</td>\n",
       "      <td>12-17</td>\n",
       "      <td>1</td>\n",
       "    </tr>\n",
       "    <tr>\n",
       "      <th>2</th>\n",
       "      <td>Na uwagę zasługuje fakt ze Sanah jako jedna z ...</td>\n",
       "      <td>0</td>\n",
       "      <td>0</td>\n",
       "      <td>70</td>\n",
       "      <td>66-71</td>\n",
       "      <td>1</td>\n",
       "    </tr>\n",
       "    <tr>\n",
       "      <th>3</th>\n",
       "      <td>Mistrz! Idealne przed snem po calym dniu</td>\n",
       "      <td>1</td>\n",
       "      <td>1</td>\n",
       "      <td>7</td>\n",
       "      <td>6-11</td>\n",
       "      <td>1</td>\n",
       "    </tr>\n",
       "    <tr>\n",
       "      <th>4</th>\n",
       "      <td>Miszczostwo świata, pełen szacunek za tekst</td>\n",
       "      <td>1</td>\n",
       "      <td>1</td>\n",
       "      <td>6</td>\n",
       "      <td>6-11</td>\n",
       "      <td>1</td>\n",
       "    </tr>\n",
       "    <tr>\n",
       "      <th>...</th>\n",
       "      <td>...</td>\n",
       "      <td>...</td>\n",
       "      <td>...</td>\n",
       "      <td>...</td>\n",
       "      <td>...</td>\n",
       "      <td>...</td>\n",
       "    </tr>\n",
       "    <tr>\n",
       "      <th>96</th>\n",
       "      <td>Witaj tato ❤ Zdrowia dla Waszej trójki. Cudown...</td>\n",
       "      <td>0</td>\n",
       "      <td>0</td>\n",
       "      <td>10</td>\n",
       "      <td>6-11</td>\n",
       "      <td>1</td>\n",
       "    </tr>\n",
       "    <tr>\n",
       "      <th>97</th>\n",
       "      <td>Oboję musicie iść na TOP MODEL ❤❤❤</td>\n",
       "      <td>1</td>\n",
       "      <td>0</td>\n",
       "      <td>7</td>\n",
       "      <td>6-11</td>\n",
       "      <td>0</td>\n",
       "    </tr>\n",
       "    <tr>\n",
       "      <th>98</th>\n",
       "      <td>Dlatych co nie chcą czekać 5 lat mają taki kol...</td>\n",
       "      <td>0</td>\n",
       "      <td>0</td>\n",
       "      <td>14</td>\n",
       "      <td>12-17</td>\n",
       "      <td>1</td>\n",
       "    </tr>\n",
       "    <tr>\n",
       "      <th>99</th>\n",
       "      <td>Jak dla mnie najlepszy kawałek na tej płycie 🤯</td>\n",
       "      <td>1</td>\n",
       "      <td>1</td>\n",
       "      <td>9</td>\n",
       "      <td>6-11</td>\n",
       "      <td>1</td>\n",
       "    </tr>\n",
       "    <tr>\n",
       "      <th>100</th>\n",
       "      <td>Nie umiem. To jest takie urocze❤️</td>\n",
       "      <td>1</td>\n",
       "      <td>1</td>\n",
       "      <td>6</td>\n",
       "      <td>6-11</td>\n",
       "      <td>1</td>\n",
       "    </tr>\n",
       "  </tbody>\n",
       "</table>\n",
       "<p>101 rows × 6 columns</p>\n",
       "</div>"
      ],
      "text/plain": [
       "                                               comment  emotion  prediction  \\\n",
       "0    solidny imprezowy numer, nie ma się do czego p...        0           0   \n",
       "1    Dojebane jak każdy Wasz kawałek ! Panowie czek...        1           1   \n",
       "2    Na uwagę zasługuje fakt ze Sanah jako jedna z ...        0           0   \n",
       "3            Mistrz! Idealne przed snem po calym dniu         1           1   \n",
       "4         Miszczostwo świata, pełen szacunek za tekst         1           1   \n",
       "..                                                 ...      ...         ...   \n",
       "96   Witaj tato ❤ Zdrowia dla Waszej trójki. Cudown...        0           0   \n",
       "97                  Oboję musicie iść na TOP MODEL ❤❤❤        1           0   \n",
       "98   Dlatych co nie chcą czekać 5 lat mają taki kol...        0           0   \n",
       "99      Jak dla mnie najlepszy kawałek na tej płycie 🤯        1           1   \n",
       "100                  Nie umiem. To jest takie urocze❤️        1           1   \n",
       "\n",
       "     token_count count_belonging  correctly_predicted  \n",
       "0             10            6-11                    1  \n",
       "1             14           12-17                    1  \n",
       "2             70           66-71                    1  \n",
       "3              7            6-11                    1  \n",
       "4              6            6-11                    1  \n",
       "..           ...             ...                  ...  \n",
       "96            10            6-11                    1  \n",
       "97             7            6-11                    0  \n",
       "98            14           12-17                    1  \n",
       "99             9            6-11                    1  \n",
       "100            6            6-11                    1  \n",
       "\n",
       "[101 rows x 6 columns]"
      ]
     },
     "execution_count": 38,
     "metadata": {},
     "output_type": "execute_result"
    }
   ],
   "source": [
    "def map_token_counts(row):\n",
    "    return len(row['comment'].split())\n",
    "\n",
    "def map_count_belonging(row, divider):\n",
    "    int_division_result = int(row['token_count'] / divider) + 1\n",
    "    lower_boundary = divider * int_division_result - divider\n",
    "    upper_boundary = divider * int_division_result - 1\n",
    "    return f\"{lower_boundary}-{upper_boundary}\"\n",
    "\n",
    "def map_correctly_predicted(row):\n",
    "    return int(row['emotion'] == row['prediction'])\n",
    "\n",
    "\n",
    "test_df['token_count'] = test_df.apply(lambda row: map_token_counts(row), axis=1)\n",
    "test_df['count_belonging'] = test_df.apply(lambda row: map_count_belonging(row, divider=6), axis=1)\n",
    "test_df['correctly_predicted'] = test_df.apply(lambda row: map_correctly_predicted(row), axis=1)\n",
    "test_df"
   ]
  },
  {
   "cell_type": "code",
   "execution_count": 39,
   "metadata": {},
   "outputs": [],
   "source": [
    "test_df = test_df.drop(test_df[test_df.token_count > 41].index)"
   ]
  },
  {
   "cell_type": "code",
   "execution_count": 40,
   "metadata": {},
   "outputs": [],
   "source": [
    "test_df = test_df.sort_values(by=['token_count']).reset_index(drop=True)"
   ]
  },
  {
   "cell_type": "code",
   "execution_count": 41,
   "metadata": {},
   "outputs": [
    {
     "data": {
      "image/png": "[encoded data removed]",
      "text/plain": [
       "<Figure size 640x480 with 1 Axes>"
      ]
     },
     "metadata": {},
     "output_type": "display_data"
    }
   ],
   "source": [
    "data = test_df['count_belonging']\n",
    "data.value_counts(sort=False).plot.bar()\n",
    "plt.xlabel('Token count range')\n",
    "plt.ylabel('Count')\n",
    "plt.savefig(os.path.join(figures_dir, f'{training_name}_counts_per_range.png'))\n",
    "plt.show()"
   ]
  },
  {
   "cell_type": "code",
   "execution_count": 42,
   "metadata": {},
   "outputs": [],
   "source": [
    "range_to_valid_predictions_count_dict = {'0-5': 0, '6-11': 0, '12-17': 0, '18-23': 0, '24-29': 0, '30-35': 0, '36-41': 0}\n",
    "range_to_element_count_dict = {'0-5': 0, '6-11': 0, '12-17': 0, '18-23': 0, '24-29': 0, '30-35': 0, '36-41': 0}\n",
    "range_to_pred_accuracy_dict = {'0-5': 0., '6-11': 0., '12-17': 0., '18-23': 0., '24-29': 0., '30-35': 0., '36-41': 0.}"
   ]
  },
  {
   "cell_type": "code",
   "execution_count": null,
   "metadata": {},
   "outputs": [],
   "source": []
  }
 ],
 "metadata": {
  "kernelspec": {
   "display_name": "nlp",
   "language": "python",
   "name": "python3"
  },
  "language_info": {
   "codemirror_mode": {
    "name": "ipython",
    "version": 3
   },
   "file_extension": ".py",
   "mimetype": "text/x-python",
   "name": "python",
   "nbconvert_exporter": "python",
   "pygments_lexer": "ipython3",
   "version": "3.10.11"
  },
  "orig_nbformat": 4
 },
 "nbformat": 4,
 "nbformat_minor": 2
}
