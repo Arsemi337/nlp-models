{
 "cells": [
  {
   "cell_type": "code",
   "execution_count": 1,
   "metadata": {
    "ExecuteTime": {
     "end_time": "2023-06-22T13:18:34.099160Z",
     "start_time": "2023-06-22T13:18:25.819381500Z"
    }
   },
   "outputs": [],
   "source": [
    "import numpy as np\n",
    "import tensorflow as tf\n",
    "import string\n",
    "import pandas as pd\n",
    "from gensim.models import KeyedVectors\n",
    "from datasets import Dataset\n",
    "import spacy\n",
    "import core.model_utils as model_utils\n",
    "import core.constants as constants\n",
    "import matplotlib.pyplot as plt\n",
    "import os"
   ]
  },
  {
   "cell_type": "code",
   "execution_count": 2,
   "metadata": {
    "ExecuteTime": {
     "end_time": "2023-06-22T13:18:50.306016Z",
     "start_time": "2023-06-22T13:18:34.101671600Z"
    }
   },
   "outputs": [],
   "source": [
    "# https://github.com/sdadas/polish-nlp-resources#word2vec (needs to be downloaded manually)\n",
    "word2vec_kv = KeyedVectors.load(\"./word2vec/word2vec_100_3_polish.bin\")"
   ]
  },
  {
   "cell_type": "code",
   "execution_count": 3,
   "metadata": {
    "ExecuteTime": {
     "end_time": "2023-06-22T13:18:50.329588100Z",
     "start_time": "2023-06-22T13:18:50.307010500Z"
    }
   },
   "outputs": [],
   "source": [
    "def tokens_to_vector(tokens):\n",
    "    vector_size = word2vec_kv.vector_size\n",
    "    wv_res = np.zeros(vector_size)\n",
    "    ctr = 1\n",
    "    for w in tokens:\n",
    "        if w in word2vec_kv:\n",
    "            ctr += 1\n",
    "            wv_res += word2vec_kv[w]\n",
    "    wv_res = wv_res / ctr\n",
    "    return wv_res"
   ]
  },
  {
   "cell_type": "code",
   "execution_count": 4,
   "outputs": [],
   "source": [
    "# Needs to be used to download spacy model for Polish\n",
    "# !python -m spacy download pl_core_news_sm"
   ],
   "metadata": {
    "collapsed": false,
    "ExecuteTime": {
     "end_time": "2023-06-22T13:18:50.352642Z",
     "start_time": "2023-06-22T13:18:50.322588800Z"
    }
   }
  },
  {
   "cell_type": "code",
   "execution_count": 5,
   "outputs": [],
   "source": [
    "# spacy_model = spacy.load(\"pl_core_news_sm\")\n",
    "#\n",
    "# # Stop words\n",
    "# stop_words = spacy_model.Defaults.stop_words.copy()\n",
    "#\n",
    "# # Punctuation\n",
    "# punctuations = string.punctuation\n",
    "#\n",
    "#\n",
    "# # Tokenizer\n",
    "# def spacy_tokenizer(sentence):\n",
    "#     doc = spacy_model(sentence)\n",
    "#\n",
    "#     # Lemmatizing each token and converting each token into lowercase\n",
    "#     my_tokens = [ word.lemma_.lower().strip() for word in doc ]\n",
    "#\n",
    "#     # Removing stop words and punctuation\n",
    "#     my_tokens = [ word for word in my_tokens if word not in stop_words and word not in punctuations ]\n",
    "#     return my_tokens\n",
    "#\n",
    "#\n",
    "# df = pd.read_json('./../data/polish_translated/sarcasm/sarcasm_headlines_dataset_pl.json')\n",
    "# df = df.drop(columns=['headline', 'article_link'])\n",
    "# df['tokens'] = df['headline_pl'].apply(spacy_tokenizer)\n",
    "# df['joined_tokens'] = df['tokens'].apply(lambda tokens: ' '.join(tokens))\n",
    "# df.to_json('./../data/polish_translated/sarcasm/sarcasm_headlines_dataset_pl_with_tokens.json')"
   ],
   "metadata": {
    "collapsed": false,
    "ExecuteTime": {
     "end_time": "2023-06-22T13:18:50.353640800Z",
     "start_time": "2023-06-22T13:18:50.341121200Z"
    }
   }
  },
  {
   "cell_type": "code",
   "execution_count": 6,
   "metadata": {
    "ExecuteTime": {
     "end_time": "2023-06-22T13:18:50.569210500Z",
     "start_time": "2023-06-22T13:18:50.354641600Z"
    }
   },
   "outputs": [
    {
     "data": {
      "text/plain": "       is_sarcastic                                        headline_pl  \\\n0                 1  Naukowcy z lat trzydziestych odkrywają zegar z...   \n1                 0  Reprezentantka rządu USA wyjaśnia, dlaczego Ko...   \n2                 0          Jedz warzywa: 9 pysznie różnych przepisów   \n3                 1  Nieprzyjemna pogoda uniemożliwia kłamcy dotarc...   \n4                 1  matka jest bardzo blisko użycia słowa \"streami...   \n...             ...                                                ...   \n28614             1               Żydzi świętują Rosh Hashasha czy coś   \n28615             1  Śledczy spraw wewnętrznych rozczarowany spiski...   \n28616             0  Najpiękniejsza przemowa akceptacyjna w tym tyg...   \n28617             1  Mars zniszczony przez pałac kosmiczny na orbic...   \n28618             1  Tata wyjaśnia, że to nie jest przerwa na jedzenie   \n\n                                                  tokens  \\\n0      [naukowiec, rok, trzydziesty, odkrywać, zegar,...   \n1      [reprezentantek, rząd, usa, wyjaśniać, kongres...   \n2           [jedz, warzywać, 9, pysznie, różny, przepis]   \n3      [nieprzyjemny, pogoda, uniemożliwiać, kłamca, ...   \n4      [matka, blisko, użyć, słowo, streaming, popraw...   \n...                                                  ...   \n28614                 [żydzi, świętować, rosh, hashasha]   \n28615  [śledczy, sprawa, wewnętrzny, rozczarować, spi...   \n28616  [najpiękniejsza, przemowy, akceptacyjny, tydzi...   \n28617  [mars, zniszczona, pałac, kosmiczny, orbicie, ...   \n28618                   [tata, wyjaśniać, przerwa, jeść]   \n\n                                           joined_tokens  \n0      naukowiec rok trzydziesty odkrywać zegar zagła...  \n1      reprezentantek rząd usa wyjaśniać kongres brak...  \n2                  jedz warzywać 9 pysznie różny przepis  \n3      nieprzyjemny pogoda uniemożliwiać kłamca dotar...  \n4            matka blisko użyć słowo streaming poprawnie  \n...                                                  ...  \n28614                      żydzi świętować rosh hashasha  \n28615  śledczy sprawa wewnętrzny rozczarować spisk iś...  \n28616  najpiękniejsza przemowy akceptacyjny tydzień p...  \n28617  mars zniszczona pałac kosmiczny orbicie wrót g...  \n28618                        tata wyjaśniać przerwa jeść  \n\n[28619 rows x 4 columns]",
      "text/html": "<div>\n<style scoped>\n    .dataframe tbody tr th:only-of-type {\n        vertical-align: middle;\n    }\n\n    .dataframe tbody tr th {\n        vertical-align: top;\n    }\n\n    .dataframe thead th {\n        text-align: right;\n    }\n</style>\n<table border=\"1\" class=\"dataframe\">\n  <thead>\n    <tr style=\"text-align: right;\">\n      <th></th>\n      <th>is_sarcastic</th>\n      <th>headline_pl</th>\n      <th>tokens</th>\n      <th>joined_tokens</th>\n    </tr>\n  </thead>\n  <tbody>\n    <tr>\n      <th>0</th>\n      <td>1</td>\n      <td>Naukowcy z lat trzydziestych odkrywają zegar z...</td>\n      <td>[naukowiec, rok, trzydziesty, odkrywać, zegar,...</td>\n      <td>naukowiec rok trzydziesty odkrywać zegar zagła...</td>\n    </tr>\n    <tr>\n      <th>1</th>\n      <td>0</td>\n      <td>Reprezentantka rządu USA wyjaśnia, dlaczego Ko...</td>\n      <td>[reprezentantek, rząd, usa, wyjaśniać, kongres...</td>\n      <td>reprezentantek rząd usa wyjaśniać kongres brak...</td>\n    </tr>\n    <tr>\n      <th>2</th>\n      <td>0</td>\n      <td>Jedz warzywa: 9 pysznie różnych przepisów</td>\n      <td>[jedz, warzywać, 9, pysznie, różny, przepis]</td>\n      <td>jedz warzywać 9 pysznie różny przepis</td>\n    </tr>\n    <tr>\n      <th>3</th>\n      <td>1</td>\n      <td>Nieprzyjemna pogoda uniemożliwia kłamcy dotarc...</td>\n      <td>[nieprzyjemny, pogoda, uniemożliwiać, kłamca, ...</td>\n      <td>nieprzyjemny pogoda uniemożliwiać kłamca dotar...</td>\n    </tr>\n    <tr>\n      <th>4</th>\n      <td>1</td>\n      <td>matka jest bardzo blisko użycia słowa \"streami...</td>\n      <td>[matka, blisko, użyć, słowo, streaming, popraw...</td>\n      <td>matka blisko użyć słowo streaming poprawnie</td>\n    </tr>\n    <tr>\n      <th>...</th>\n      <td>...</td>\n      <td>...</td>\n      <td>...</td>\n      <td>...</td>\n    </tr>\n    <tr>\n      <th>28614</th>\n      <td>1</td>\n      <td>Żydzi świętują Rosh Hashasha czy coś</td>\n      <td>[żydzi, świętować, rosh, hashasha]</td>\n      <td>żydzi świętować rosh hashasha</td>\n    </tr>\n    <tr>\n      <th>28615</th>\n      <td>1</td>\n      <td>Śledczy spraw wewnętrznych rozczarowany spiski...</td>\n      <td>[śledczy, sprawa, wewnętrzny, rozczarować, spi...</td>\n      <td>śledczy sprawa wewnętrzny rozczarować spisk iś...</td>\n    </tr>\n    <tr>\n      <th>28616</th>\n      <td>0</td>\n      <td>Najpiękniejsza przemowa akceptacyjna w tym tyg...</td>\n      <td>[najpiękniejsza, przemowy, akceptacyjny, tydzi...</td>\n      <td>najpiękniejsza przemowy akceptacyjny tydzień p...</td>\n    </tr>\n    <tr>\n      <th>28617</th>\n      <td>1</td>\n      <td>Mars zniszczony przez pałac kosmiczny na orbic...</td>\n      <td>[mars, zniszczona, pałac, kosmiczny, orbicie, ...</td>\n      <td>mars zniszczona pałac kosmiczny orbicie wrót g...</td>\n    </tr>\n    <tr>\n      <th>28618</th>\n      <td>1</td>\n      <td>Tata wyjaśnia, że to nie jest przerwa na jedzenie</td>\n      <td>[tata, wyjaśniać, przerwa, jeść]</td>\n      <td>tata wyjaśniać przerwa jeść</td>\n    </tr>\n  </tbody>\n</table>\n<p>28619 rows × 4 columns</p>\n</div>"
     },
     "execution_count": 6,
     "metadata": {},
     "output_type": "execute_result"
    }
   ],
   "source": [
    "tokenized_sentences_df = pd.read_json('./../data/polish_translated/sarcasm/sarcasm_headlines_dataset_pl_with_tokens.json')\n",
    "tokenized_sentences_df"
   ]
  },
  {
   "cell_type": "code",
   "execution_count": 7,
   "metadata": {
    "ExecuteTime": {
     "end_time": "2023-06-22T13:18:50.661659200Z",
     "start_time": "2023-06-22T13:18:50.571720600Z"
    }
   },
   "outputs": [
    {
     "data": {
      "text/plain": "Dataset({\n    features: ['is_sarcastic', 'headline_pl', 'tokens', 'joined_tokens'],\n    num_rows: 28619\n})"
     },
     "execution_count": 7,
     "metadata": {},
     "output_type": "execute_result"
    }
   ],
   "source": [
    "full_dataset = Dataset.from_pandas(tokenized_sentences_df).remove_columns(\"__index_level_0__\")\n",
    "full_dataset"
   ]
  },
  {
   "cell_type": "code",
   "execution_count": 8,
   "metadata": {
    "ExecuteTime": {
     "end_time": "2023-06-22T13:19:06.846508900Z",
     "start_time": "2023-06-22T13:18:50.649635Z"
    }
   },
   "outputs": [
    {
     "data": {
      "text/plain": "Map:   0%|          | 0/28619 [00:00<?, ? examples/s]",
      "application/vnd.jupyter.widget-view+json": {
       "version_major": 2,
       "version_minor": 0,
       "model_id": "557d11e84fbb4b4d83205dc8a58884b3"
      }
     },
     "metadata": {},
     "output_type": "display_data"
    }
   ],
   "source": [
    "def tokenize_for_word2vec(sample):\n",
    "    sample['embeddings'] = [tokens_to_vector(tokens) for tokens in sample['tokens']]\n",
    "    return sample\n",
    "\n",
    "\n",
    "full_dataset = full_dataset.map(tokenize_for_word2vec, batched=True)"
   ]
  },
  {
   "cell_type": "code",
   "execution_count": 9,
   "metadata": {
    "ExecuteTime": {
     "end_time": "2023-06-22T13:19:06.880656900Z",
     "start_time": "2023-06-22T13:19:06.851553600Z"
    }
   },
   "outputs": [],
   "source": [
    "# Train set: 80%, Validation set: 10%, Test set: 10%\n",
    "train_dataset, val_dataset, test_dataset = model_utils.split_train_val_test(\n",
    "    full_dataset,\n",
    "    train_size=0.8,\n",
    "    test_size_of_val_test_batch=0.5,\n",
    "    shuffle=True,\n",
    "    seed=42)"
   ]
  },
  {
   "cell_type": "code",
   "execution_count": 10,
   "outputs": [
    {
     "name": "stderr",
     "output_type": "stream",
     "text": [
      "C:\\Users\\Karol\\anaconda3\\envs\\ml-tf2gpu\\lib\\site-packages\\datasets\\arrow_dataset.py:388: FutureWarning: The output of `to_tf_dataset` will change when a passing single element list for `labels` or `columns` in the next datasets version. To return a tuple structure rather than dict, pass a single string.\n",
      "Old behaviour: columns=['a'], labels=['labels'] -> (tf.Tensor, tf.Tensor)  \n",
      "             : columns='a', labels='labels' -> (tf.Tensor, tf.Tensor)  \n",
      "New behaviour: columns=['a'],labels=['labels'] -> ({'a': tf.Tensor}, {'labels': tf.Tensor})  \n",
      "             : columns='a', labels='labels' -> (tf.Tensor, tf.Tensor) \n",
      "  warnings.warn(\n"
     ]
    }
   ],
   "source": [
    "columns = [\"embeddings\"]\n",
    "label_cols = [\"is_sarcastic\"]\n",
    "batch_size = 16\n",
    "\n",
    "tf_train_dataset = model_utils.convert_to_tf_dataset(train_dataset, columns, label_cols, None, batch_size)\n",
    "tf_val_dataset = model_utils.convert_to_tf_dataset(val_dataset, columns, label_cols, None, batch_size)\n",
    "tf_test_dataset = model_utils.convert_to_tf_dataset(test_dataset, columns, label_cols, None, batch_size)"
   ],
   "metadata": {
    "collapsed": false,
    "ExecuteTime": {
     "end_time": "2023-06-22T13:19:10.494191500Z",
     "start_time": "2023-06-22T13:19:06.879148800Z"
    }
   }
  },
  {
   "cell_type": "code",
   "execution_count": 11,
   "metadata": {
    "ExecuteTime": {
     "end_time": "2023-06-22T13:19:11.129795200Z",
     "start_time": "2023-06-22T13:19:10.497192200Z"
    }
   },
   "outputs": [],
   "source": [
    "model = tf.keras.models.Sequential()\n",
    "model.add(tf.keras.layers.Flatten())\n",
    "model.add(tf.keras.layers.Dense(128, activation='relu'))\n",
    "model.add(tf.keras.layers.Dense(64, activation='relu'))\n",
    "model.add(tf.keras.layers.Dense(16, activation='relu'))\n",
    "model.add(tf.keras.layers.Dense(2, activation='sigmoid'))"
   ]
  },
  {
   "cell_type": "code",
   "execution_count": 12,
   "metadata": {
    "ExecuteTime": {
     "end_time": "2023-06-22T13:19:11.144921Z",
     "start_time": "2023-06-22T13:19:11.136892Z"
    }
   },
   "outputs": [],
   "source": [
    "model.compile(optimizer=\"adam\", loss=tf.keras.losses.SparseCategoricalCrossentropy(), metrics=[\"accuracy\"])"
   ]
  },
  {
   "cell_type": "code",
   "execution_count": 13,
   "metadata": {
    "ExecuteTime": {
     "end_time": "2023-06-22T13:19:11.177861Z",
     "start_time": "2023-06-22T13:19:11.145917Z"
    }
   },
   "outputs": [],
   "source": [
    "# Model parameters\n",
    "training_number = 1\n",
    "model_name = 'sarcasm_pl_word2vec_sentence_external'\n",
    "training_name = f\"training_{training_number}\"\n",
    "figures_dir = f\"./../documentation/models/{model_name}/figures\"\n",
    "checkpoint_filename_template = \"cp-{epoch:04d}.ckpt\"\n",
    "checkpoints_dir = os.path.join(constants.TRAINING_CHECKPOINTS_PATH, model_name, training_name)\n",
    "checkpoint_path = os.path.join(checkpoints_dir, checkpoint_filename_template)"
   ]
  },
  {
   "cell_type": "code",
   "execution_count": 14,
   "metadata": {
    "ExecuteTime": {
     "end_time": "2023-06-22T13:19:11.177861Z",
     "start_time": "2023-06-22T13:19:11.165650400Z"
    }
   },
   "outputs": [],
   "source": [
    "# Callbacks\n",
    "checkpoint_cb = tf.keras.callbacks.ModelCheckpoint(checkpoint_path, verbose=1, save_weights_only=True)\n",
    "early_stop_cb = tf.keras.callbacks.EarlyStopping(patience=3)\n",
    "callbacks = [checkpoint_cb, early_stop_cb]"
   ]
  },
  {
   "cell_type": "code",
   "execution_count": 15,
   "metadata": {
    "ExecuteTime": {
     "end_time": "2023-06-22T13:19:35.563999800Z",
     "start_time": "2023-06-22T13:19:11.177861Z"
    }
   },
   "outputs": [
    {
     "name": "stdout",
     "output_type": "stream",
     "text": [
      "Epoch 1/20\n",
      "1431/1431 [==============================] - 8s 3ms/step - loss: 0.6096 - accuracy: 0.6682 - val_loss: 0.5948 - val_accuracy: 0.6740\n",
      "\n",
      "Epoch 00001: saving model to ./../training_checkpoints\\sarcasm_pl_word2vec_sentence_external\\training_1\\cp-0001.ckpt\n",
      "Epoch 2/20\n",
      "1431/1431 [==============================] - 4s 3ms/step - loss: 0.5645 - accuracy: 0.7098 - val_loss: 0.5932 - val_accuracy: 0.6848\n",
      "\n",
      "Epoch 00002: saving model to ./../training_checkpoints\\sarcasm_pl_word2vec_sentence_external\\training_1\\cp-0002.ckpt\n",
      "Epoch 3/20\n",
      "1431/1431 [==============================] - 4s 3ms/step - loss: 0.5366 - accuracy: 0.7292 - val_loss: 0.5955 - val_accuracy: 0.6852\n",
      "\n",
      "Epoch 00003: saving model to ./../training_checkpoints\\sarcasm_pl_word2vec_sentence_external\\training_1\\cp-0003.ckpt\n",
      "Epoch 4/20\n",
      "1431/1431 [==============================] - 4s 3ms/step - loss: 0.5092 - accuracy: 0.7523 - val_loss: 0.6005 - val_accuracy: 0.6817\n",
      "\n",
      "Epoch 00004: saving model to ./../training_checkpoints\\sarcasm_pl_word2vec_sentence_external\\training_1\\cp-0004.ckpt\n",
      "Epoch 5/20\n",
      "1431/1431 [==============================] - 4s 3ms/step - loss: 0.4795 - accuracy: 0.7729 - val_loss: 0.6083 - val_accuracy: 0.6799\n",
      "\n",
      "Epoch 00005: saving model to ./../training_checkpoints\\sarcasm_pl_word2vec_sentence_external\\training_1\\cp-0005.ckpt\n"
     ]
    }
   ],
   "source": [
    "history = model.fit(tf_train_dataset, validation_data=tf_val_dataset, epochs=20, callbacks=[checkpoint_cb, early_stop_cb])"
   ]
  },
  {
   "cell_type": "code",
   "execution_count": 16,
   "outputs": [
    {
     "data": {
      "text/plain": "<Figure size 640x480 with 1 Axes>",
      "image/png": "[encoded data removed]"
     },
     "metadata": {},
     "output_type": "display_data"
    },
    {
     "data": {
      "text/plain": "<Figure size 640x480 with 1 Axes>",
      "image/png": "[encoded data removed]"
     },
     "metadata": {},
     "output_type": "display_data"
    }
   ],
   "source": [
    "model_utils.plot_and_save_fig_from_history(history,\n",
    "                                           attributes=['accuracy', 'val_accuracy'],\n",
    "                                           title='Model accuracy',\n",
    "                                           y_label='Accuracy',\n",
    "                                           x_label='Epoch',\n",
    "                                           legend_descriptors=['Train', 'Val'],\n",
    "                                           figure_dir_path=figures_dir,\n",
    "                                           figure_filename=f\"{training_name}_accuracy.png\")\n",
    "\n",
    "model_utils.plot_and_save_fig_from_history(history,\n",
    "                                           attributes=['loss', 'val_loss'],\n",
    "                                           title='Model loss',\n",
    "                                           y_label='Loss',\n",
    "                                           x_label='Epoch',\n",
    "                                           legend_descriptors=['Train', 'Val'],\n",
    "                                           figure_dir_path=figures_dir,\n",
    "                                           figure_filename=f\"{training_name}_loss.png\")"
   ],
   "metadata": {
    "collapsed": false,
    "ExecuteTime": {
     "end_time": "2023-06-22T13:19:36.256575300Z",
     "start_time": "2023-06-22T13:19:35.566998300Z"
    }
   }
  },
  {
   "cell_type": "code",
   "execution_count": 17,
   "outputs": [],
   "source": [
    "best_model = model_utils.get_best_model_from_checkpoints(model, history,\n",
    "                                                         checkpoints_dir=checkpoints_dir,\n",
    "                                                         checkpoint_filename_template=checkpoint_filename_template)"
   ],
   "metadata": {
    "collapsed": false,
    "ExecuteTime": {
     "end_time": "2023-06-22T13:19:36.256575300Z",
     "start_time": "2023-06-22T13:19:36.207090Z"
    }
   }
  },
  {
   "cell_type": "code",
   "execution_count": 18,
   "outputs": [
    {
     "name": "stdout",
     "output_type": "stream",
     "text": [
      "INFO:tensorflow:Assets written to: ./../trained_models\\sarcasm_pl_word2vec_sentence_external_1\\1\\assets\n"
     ]
    }
   ],
   "source": [
    "model_utils.save_model(best_model, model_name=model_name, training_number=training_number, saved_models_dir=constants.SAVED_MODEL_LOCATION, default_model_version=constants.DEFAULT_MODEL_VERSION)"
   ],
   "metadata": {
    "collapsed": false,
    "ExecuteTime": {
     "end_time": "2023-06-22T13:19:38.439090300Z",
     "start_time": "2023-06-22T13:19:36.258574300Z"
    }
   }
  },
  {
   "cell_type": "code",
   "execution_count": 19,
   "outputs": [
    {
     "name": "stdout",
     "output_type": "stream",
     "text": [
      "179/179 [==============================] - 0s 2ms/step - loss: 0.5699 - accuracy: 0.7006\n"
     ]
    },
    {
     "data": {
      "text/plain": "[0.5699091553688049, 0.7005590200424194]"
     },
     "execution_count": 19,
     "metadata": {},
     "output_type": "execute_result"
    }
   ],
   "source": [
    "# Evaluation\n",
    "best_model.evaluate(tf_test_dataset, batch_size=batch_size)"
   ],
   "metadata": {
    "collapsed": false,
    "ExecuteTime": {
     "end_time": "2023-06-22T13:19:38.880012100Z",
     "start_time": "2023-06-22T13:19:38.441091300Z"
    }
   }
  },
  {
   "cell_type": "code",
   "execution_count": 20,
   "outputs": [],
   "source": [
    "class_preds = model_utils.get_class_preds(best_model, tf_test_dataset, model_returns_logits=False)"
   ],
   "metadata": {
    "collapsed": false,
    "ExecuteTime": {
     "end_time": "2023-06-22T13:19:39.310763Z",
     "start_time": "2023-06-22T13:19:38.880012100Z"
    }
   }
  },
  {
   "cell_type": "code",
   "execution_count": 21,
   "outputs": [
    {
     "name": "stdout",
     "output_type": "stream",
     "text": [
      "Precision score:  0.6789115646258503\n",
      "Recall score:  0.7216196673897325\n",
      "F1 score:  0.6996144409393622\n"
     ]
    }
   ],
   "source": [
    "precision, recall, f1 = model_utils.get_classification_evaluation_metrics(\n",
    "    class_actual=test_dataset['is_sarcastic'],\n",
    "    class_preds=class_preds,\n",
    ")\n",
    "\n",
    "print(f\"Precision score: \", precision)\n",
    "print(f\"Recall score: \", recall)\n",
    "print(f\"F1 score: \", f1)"
   ],
   "metadata": {
    "collapsed": false,
    "ExecuteTime": {
     "end_time": "2023-06-22T13:19:39.327924400Z",
     "start_time": "2023-06-22T13:19:39.295871300Z"
    }
   }
  },
  {
   "cell_type": "code",
   "execution_count": 22,
   "outputs": [
    {
     "data": {
      "text/plain": "<Figure size 640x480 with 2 Axes>",
      "image/png": "[encoded data removed]"
     },
     "metadata": {},
     "output_type": "display_data"
    }
   ],
   "source": [
    "model_utils.plot_and_save_conf_matrix(class_actual=test_dataset['is_sarcastic'],\n",
    "                                      class_preds=class_preds,\n",
    "                                      figure_dir_path=figures_dir,\n",
    "                                      figure_filename=f\"{training_name}_confmatrix.png\")"
   ],
   "metadata": {
    "collapsed": false,
    "ExecuteTime": {
     "end_time": "2023-06-22T13:19:39.569210200Z",
     "start_time": "2023-06-22T13:19:39.329924500Z"
    }
   }
  },
  {
   "cell_type": "code",
   "execution_count": 23,
   "outputs": [
    {
     "name": "stdout",
     "output_type": "stream",
     "text": [
      "\n",
      "            BAD PREDICTION:\n",
      "            - INDEX: 1\n",
      "            - TEXT: \"New York Times\": tyran wybija stos sondaży z rąk Nate'a Silvera\n",
      "            - PREDICTED VALUE: 0\n",
      "            - CORRECT VALUE: 1\n",
      "            \n",
      "\n",
      "            BAD PREDICTION:\n",
      "            - INDEX: 2\n",
      "            - TEXT: przygotuj się na lizanie w tej przyczepie \"force Wakens\" z jar jar binks\n",
      "            - PREDICTED VALUE: 1\n",
      "            - CORRECT VALUE: 0\n",
      "            \n",
      "\n",
      "            BAD PREDICTION:\n",
      "            - INDEX: 3\n",
      "            - TEXT: hare krishnas: 'hare krishna, hare krishna, krishna krishna, hare hare'\n",
      "            - PREDICTED VALUE: 0\n",
      "            - CORRECT VALUE: 1\n",
      "            \n",
      "\n",
      "            BAD PREDICTION:\n",
      "            - INDEX: 10\n",
      "            - TEXT: Obama odwiedza zniszczoną południową Karolinę\n",
      "            - PREDICTED VALUE: 0\n",
      "            - CORRECT VALUE: 1\n",
      "            \n",
      "\n",
      "            BAD PREDICTION:\n",
      "            - INDEX: 12\n",
      "            - TEXT: Pier 1 wydało oficjalne przeprosiny za marsz śmierci w Rattan\n",
      "            - PREDICTED VALUE: 0\n",
      "            - CORRECT VALUE: 1\n",
      "            \n",
      "\n",
      "            BAD PREDICTION:\n",
      "            - INDEX: 13\n",
      "            - TEXT: Amazon nie zawodzi\n",
      "            - PREDICTED VALUE: 1\n",
      "            - CORRECT VALUE: 0\n",
      "            \n",
      "\n",
      "            BAD PREDICTION:\n",
      "            - INDEX: 15\n",
      "            - TEXT: Władze tranzytowe zobowiązują się do podwojenia liczby autobusów wyłączonych z eksploatacji do 2006 roku\n",
      "            - PREDICTED VALUE: 0\n",
      "            - CORRECT VALUE: 1\n",
      "            \n",
      "\n",
      "            BAD PREDICTION:\n",
      "            - INDEX: 20\n",
      "            - TEXT: Andrew W.K. zajmuje stanowisko zagorzałego rzecznika partii\n",
      "            - PREDICTED VALUE: 0\n",
      "            - CORRECT VALUE: 1\n",
      "            \n",
      "\n",
      "            BAD PREDICTION:\n",
      "            - INDEX: 21\n",
      "            - TEXT: jeszcze jedno (feministyczne) zdziwienie o „cudownej kobiecie”: przechodzi test lakmusowy na nadużycia\n",
      "            - PREDICTED VALUE: 1\n",
      "            - CORRECT VALUE: 0\n",
      "            \n",
      "\n",
      "            BAD PREDICTION:\n",
      "            - INDEX: 23\n",
      "            - TEXT: Grupa etyczna wysadza pensa za używanie podróży rządowych dla kaskadera ośląt\n",
      "            - PREDICTED VALUE: 1\n",
      "            - CORRECT VALUE: 0\n",
      "            \n"
     ]
    }
   ],
   "source": [
    "model_utils.print_incorrectly_predicted_texts(texts=test_dataset['headline_pl'],\n",
    "                                              class_actual=test_dataset['is_sarcastic'],\n",
    "                                              class_preds=class_preds)"
   ],
   "metadata": {
    "collapsed": false,
    "ExecuteTime": {
     "end_time": "2023-06-22T13:19:39.569210200Z",
     "start_time": "2023-06-22T13:19:39.514172600Z"
    }
   }
  },
  {
   "cell_type": "code",
   "execution_count": 24,
   "outputs": [
    {
     "data": {
      "text/plain": "                                            headline_pl  is_sarcastic  \\\n0     Szef uważa, że kobieta pracownik może być goto...             1   \n1     \"New York Times\": tyran wybija stos sondaży z ...             1   \n2     przygotuj się na lizanie w tej przyczepie \"for...             0   \n3     hare krishnas: 'hare krishna, hare krishna, kr...             1   \n4     Powerball wyciąga plastikowe kulki z solanki z...             1   \n...                                                 ...           ...   \n2857                   Lena Dunham na czerwonym dywanie             0   \n2858  PayPal wycofuje się po tymczasowej globalnej p...             0   \n2859  Naród zrzuca tyrańskie jarzmo umiarkowanego sz...             1   \n2860         Jonathan Rhys Meyers przeprasza za zdjęcia             0   \n2861  Putin dowiaduje się, że stoi za spiskiem mając...             1   \n\n      prediction  \n0              1  \n1              0  \n2              1  \n3              0  \n4              1  \n...          ...  \n2857           0  \n2858           1  \n2859           1  \n2860           0  \n2861           0  \n\n[2862 rows x 3 columns]",
      "text/html": "<div>\n<style scoped>\n    .dataframe tbody tr th:only-of-type {\n        vertical-align: middle;\n    }\n\n    .dataframe tbody tr th {\n        vertical-align: top;\n    }\n\n    .dataframe thead th {\n        text-align: right;\n    }\n</style>\n<table border=\"1\" class=\"dataframe\">\n  <thead>\n    <tr style=\"text-align: right;\">\n      <th></th>\n      <th>headline_pl</th>\n      <th>is_sarcastic</th>\n      <th>prediction</th>\n    </tr>\n  </thead>\n  <tbody>\n    <tr>\n      <th>0</th>\n      <td>Szef uważa, że kobieta pracownik może być goto...</td>\n      <td>1</td>\n      <td>1</td>\n    </tr>\n    <tr>\n      <th>1</th>\n      <td>\"New York Times\": tyran wybija stos sondaży z ...</td>\n      <td>1</td>\n      <td>0</td>\n    </tr>\n    <tr>\n      <th>2</th>\n      <td>przygotuj się na lizanie w tej przyczepie \"for...</td>\n      <td>0</td>\n      <td>1</td>\n    </tr>\n    <tr>\n      <th>3</th>\n      <td>hare krishnas: 'hare krishna, hare krishna, kr...</td>\n      <td>1</td>\n      <td>0</td>\n    </tr>\n    <tr>\n      <th>4</th>\n      <td>Powerball wyciąga plastikowe kulki z solanki z...</td>\n      <td>1</td>\n      <td>1</td>\n    </tr>\n    <tr>\n      <th>...</th>\n      <td>...</td>\n      <td>...</td>\n      <td>...</td>\n    </tr>\n    <tr>\n      <th>2857</th>\n      <td>Lena Dunham na czerwonym dywanie</td>\n      <td>0</td>\n      <td>0</td>\n    </tr>\n    <tr>\n      <th>2858</th>\n      <td>PayPal wycofuje się po tymczasowej globalnej p...</td>\n      <td>0</td>\n      <td>1</td>\n    </tr>\n    <tr>\n      <th>2859</th>\n      <td>Naród zrzuca tyrańskie jarzmo umiarkowanego sz...</td>\n      <td>1</td>\n      <td>1</td>\n    </tr>\n    <tr>\n      <th>2860</th>\n      <td>Jonathan Rhys Meyers przeprasza za zdjęcia</td>\n      <td>0</td>\n      <td>0</td>\n    </tr>\n    <tr>\n      <th>2861</th>\n      <td>Putin dowiaduje się, że stoi za spiskiem mając...</td>\n      <td>1</td>\n      <td>0</td>\n    </tr>\n  </tbody>\n</table>\n<p>2862 rows × 3 columns</p>\n</div>"
     },
     "execution_count": 24,
     "metadata": {},
     "output_type": "execute_result"
    }
   ],
   "source": [
    "test_df = pd.DataFrame(\n",
    "    list(zip(test_dataset['headline_pl'], test_dataset['is_sarcastic'], class_preds)),\n",
    "    columns=['headline_pl', 'is_sarcastic', 'prediction'])\n",
    "test_df"
   ],
   "metadata": {
    "collapsed": false,
    "ExecuteTime": {
     "end_time": "2023-06-22T13:19:39.637755800Z",
     "start_time": "2023-06-22T13:19:39.545326Z"
    }
   }
  },
  {
   "cell_type": "code",
   "execution_count": 25,
   "outputs": [
    {
     "data": {
      "text/plain": "                                            headline_pl  is_sarcastic  \\\n0     Szef uważa, że kobieta pracownik może być goto...             1   \n1     \"New York Times\": tyran wybija stos sondaży z ...             1   \n2     przygotuj się na lizanie w tej przyczepie \"for...             0   \n3     hare krishnas: 'hare krishna, hare krishna, kr...             1   \n4     Powerball wyciąga plastikowe kulki z solanki z...             1   \n...                                                 ...           ...   \n2857                   Lena Dunham na czerwonym dywanie             0   \n2858  PayPal wycofuje się po tymczasowej globalnej p...             0   \n2859  Naród zrzuca tyrańskie jarzmo umiarkowanego sz...             1   \n2860         Jonathan Rhys Meyers przeprasza za zdjęcia             0   \n2861  Putin dowiaduje się, że stoi za spiskiem mając...             1   \n\n      prediction  token_count count_belonging  correctly_predicted  \n0              1           16           12-17                    1  \n1              0           11            6-11                    0  \n2              1           13           12-17                    0  \n3              0           10            6-11                    0  \n4              1            9            6-11                    1  \n...          ...          ...             ...                  ...  \n2857           0            5             0-5                    1  \n2858           1            7            6-11                    0  \n2859           1            8            6-11                    1  \n2860           0            6            6-11                    1  \n2861           0           12           12-17                    0  \n\n[2862 rows x 6 columns]",
      "text/html": "<div>\n<style scoped>\n    .dataframe tbody tr th:only-of-type {\n        vertical-align: middle;\n    }\n\n    .dataframe tbody tr th {\n        vertical-align: top;\n    }\n\n    .dataframe thead th {\n        text-align: right;\n    }\n</style>\n<table border=\"1\" class=\"dataframe\">\n  <thead>\n    <tr style=\"text-align: right;\">\n      <th></th>\n      <th>headline_pl</th>\n      <th>is_sarcastic</th>\n      <th>prediction</th>\n      <th>token_count</th>\n      <th>count_belonging</th>\n      <th>correctly_predicted</th>\n    </tr>\n  </thead>\n  <tbody>\n    <tr>\n      <th>0</th>\n      <td>Szef uważa, że kobieta pracownik może być goto...</td>\n      <td>1</td>\n      <td>1</td>\n      <td>16</td>\n      <td>12-17</td>\n      <td>1</td>\n    </tr>\n    <tr>\n      <th>1</th>\n      <td>\"New York Times\": tyran wybija stos sondaży z ...</td>\n      <td>1</td>\n      <td>0</td>\n      <td>11</td>\n      <td>6-11</td>\n      <td>0</td>\n    </tr>\n    <tr>\n      <th>2</th>\n      <td>przygotuj się na lizanie w tej przyczepie \"for...</td>\n      <td>0</td>\n      <td>1</td>\n      <td>13</td>\n      <td>12-17</td>\n      <td>0</td>\n    </tr>\n    <tr>\n      <th>3</th>\n      <td>hare krishnas: 'hare krishna, hare krishna, kr...</td>\n      <td>1</td>\n      <td>0</td>\n      <td>10</td>\n      <td>6-11</td>\n      <td>0</td>\n    </tr>\n    <tr>\n      <th>4</th>\n      <td>Powerball wyciąga plastikowe kulki z solanki z...</td>\n      <td>1</td>\n      <td>1</td>\n      <td>9</td>\n      <td>6-11</td>\n      <td>1</td>\n    </tr>\n    <tr>\n      <th>...</th>\n      <td>...</td>\n      <td>...</td>\n      <td>...</td>\n      <td>...</td>\n      <td>...</td>\n      <td>...</td>\n    </tr>\n    <tr>\n      <th>2857</th>\n      <td>Lena Dunham na czerwonym dywanie</td>\n      <td>0</td>\n      <td>0</td>\n      <td>5</td>\n      <td>0-5</td>\n      <td>1</td>\n    </tr>\n    <tr>\n      <th>2858</th>\n      <td>PayPal wycofuje się po tymczasowej globalnej p...</td>\n      <td>0</td>\n      <td>1</td>\n      <td>7</td>\n      <td>6-11</td>\n      <td>0</td>\n    </tr>\n    <tr>\n      <th>2859</th>\n      <td>Naród zrzuca tyrańskie jarzmo umiarkowanego sz...</td>\n      <td>1</td>\n      <td>1</td>\n      <td>8</td>\n      <td>6-11</td>\n      <td>1</td>\n    </tr>\n    <tr>\n      <th>2860</th>\n      <td>Jonathan Rhys Meyers przeprasza za zdjęcia</td>\n      <td>0</td>\n      <td>0</td>\n      <td>6</td>\n      <td>6-11</td>\n      <td>1</td>\n    </tr>\n    <tr>\n      <th>2861</th>\n      <td>Putin dowiaduje się, że stoi za spiskiem mając...</td>\n      <td>1</td>\n      <td>0</td>\n      <td>12</td>\n      <td>12-17</td>\n      <td>0</td>\n    </tr>\n  </tbody>\n</table>\n<p>2862 rows × 6 columns</p>\n</div>"
     },
     "execution_count": 25,
     "metadata": {},
     "output_type": "execute_result"
    }
   ],
   "source": [
    "def map_token_counts(row):\n",
    "    return len(row['headline_pl'].split())\n",
    "\n",
    "def map_count_belonging(row, divider):\n",
    "    int_division_result = int(row['token_count'] / divider) + 1\n",
    "    lower_boundary = divider * int_division_result - divider\n",
    "    upper_boundary = divider * int_division_result - 1\n",
    "    return f\"{lower_boundary}-{upper_boundary}\"\n",
    "\n",
    "def map_correctly_predicted(row):\n",
    "    return int(row['is_sarcastic'] == row['prediction'])\n",
    "\n",
    "\n",
    "test_df['token_count'] = test_df.apply(lambda row: map_token_counts(row), axis=1)\n",
    "test_df['count_belonging'] = test_df.apply(lambda row: map_count_belonging(row, divider=6), axis=1)\n",
    "test_df['correctly_predicted'] = test_df.apply(lambda row: map_correctly_predicted(row), axis=1)\n",
    "test_df"
   ],
   "metadata": {
    "collapsed": false,
    "ExecuteTime": {
     "end_time": "2023-06-22T13:19:39.743237600Z",
     "start_time": "2023-06-22T13:19:39.612823500Z"
    }
   }
  },
  {
   "cell_type": "code",
   "execution_count": 26,
   "outputs": [],
   "source": [
    "test_df = test_df.drop(test_df[test_df.token_count > 23].index)"
   ],
   "metadata": {
    "collapsed": false,
    "ExecuteTime": {
     "end_time": "2023-06-22T13:19:39.745238500Z",
     "start_time": "2023-06-22T13:19:39.701521600Z"
    }
   }
  },
  {
   "cell_type": "code",
   "execution_count": 27,
   "outputs": [],
   "source": [
    "test_df = test_df.sort_values(by=['token_count']).reset_index(drop=True)"
   ],
   "metadata": {
    "collapsed": false,
    "ExecuteTime": {
     "end_time": "2023-06-22T13:19:39.746237800Z",
     "start_time": "2023-06-22T13:19:39.741232500Z"
    }
   }
  },
  {
   "cell_type": "code",
   "execution_count": 28,
   "outputs": [
    {
     "data": {
      "text/plain": "<Figure size 640x480 with 1 Axes>",
      "image/png": "[encoded data removed]"
     },
     "metadata": {},
     "output_type": "display_data"
    }
   ],
   "source": [
    "data = test_df['count_belonging']\n",
    "data.value_counts(sort=False).plot.bar()\n",
    "plt.xlabel('Token count range')\n",
    "plt.ylabel('Count')\n",
    "plt.savefig(os.path.join(figures_dir, f'{training_name}_counts_per_range.png'))\n",
    "plt.show()"
   ],
   "metadata": {
    "collapsed": false,
    "ExecuteTime": {
     "end_time": "2023-06-22T13:19:39.975985700Z",
     "start_time": "2023-06-22T13:19:39.742238100Z"
    }
   }
  },
  {
   "cell_type": "code",
   "execution_count": 29,
   "outputs": [],
   "source": [
    "range_to_valid_predictions_count_dict = {'0-5': 0, '6-11': 0, '12-17': 0, '18-23': 0}\n",
    "range_to_element_count_dict = {'0-5': 0, '6-11': 0, '12-17': 0, '18-23': 0}\n",
    "range_to_pred_accuracy_dict = {'0-5': 0., '6-11': 0., '12-17': 0., '18-23': 0.}"
   ],
   "metadata": {
    "collapsed": false,
    "ExecuteTime": {
     "end_time": "2023-06-22T13:19:39.976985100Z",
     "start_time": "2023-06-22T13:19:39.948799400Z"
    }
   }
  },
  {
   "cell_type": "code",
   "execution_count": 30,
   "outputs": [
    {
     "name": "stdout",
     "output_type": "stream",
     "text": [
      "Correct predictions count:  {'0-5': 188, '6-11': 1290, '12-17': 477, '18-23': 47}\n",
      "Element count:  {'0-5': 291, '6-11': 1855, '12-17': 654, '18-23': 57}\n",
      "Accuracies:  {'0-5': 0.6460481099656358, '6-11': 0.6954177897574124, '12-17': 0.7293577981651376, '18-23': 0.8245614035087719}\n"
     ]
    }
   ],
   "source": [
    "for _, row in test_df.iterrows():\n",
    "    count_belonging = row['count_belonging']\n",
    "\n",
    "    range_to_element_count_dict[count_belonging] = range_to_element_count_dict[count_belonging] + 1\n",
    "\n",
    "    if row['correctly_predicted']:\n",
    "        range_to_valid_predictions_count_dict[count_belonging] = range_to_valid_predictions_count_dict[count_belonging] + 1\n",
    "\n",
    "for key in range_to_pred_accuracy_dict.keys():\n",
    "    range_to_pred_accuracy_dict[key] = range_to_valid_predictions_count_dict[key] / range_to_element_count_dict[key]\n",
    "\n",
    "print(\"Correct predictions count: \", range_to_valid_predictions_count_dict)\n",
    "print(\"Element count: \", range_to_element_count_dict)\n",
    "print(\"Accuracies: \", range_to_pred_accuracy_dict)"
   ],
   "metadata": {
    "collapsed": false,
    "ExecuteTime": {
     "end_time": "2023-06-22T13:19:40.089594600Z",
     "start_time": "2023-06-22T13:19:39.965823700Z"
    }
   }
  },
  {
   "cell_type": "code",
   "execution_count": 31,
   "outputs": [
    {
     "data": {
      "text/plain": "<Figure size 640x480 with 1 Axes>",
      "image/png": "[encoded data removed]"
     },
     "metadata": {},
     "output_type": "display_data"
    }
   ],
   "source": [
    "import matplotlib.ticker as mtick\n",
    "\n",
    "plt.bar(['0-5', '6-11', '12-17', '18-23'], [val for val in range_to_pred_accuracy_dict.values()])\n",
    "plt.xlabel('Token count range')\n",
    "plt.ylabel('Accuracy')\n",
    "plt.gca().yaxis.set_major_formatter(mtick.PercentFormatter(xmax=1.0))\n",
    "plt.savefig(os.path.join(figures_dir, f'{training_name}_accuracies_per_range.png'))\n",
    "plt.show()"
   ],
   "metadata": {
    "collapsed": false,
    "ExecuteTime": {
     "end_time": "2023-06-22T13:19:40.196887600Z",
     "start_time": "2023-06-22T13:19:40.057398200Z"
    }
   }
  },
  {
   "cell_type": "code",
   "execution_count": 31,
   "outputs": [],
   "source": [],
   "metadata": {
    "collapsed": false,
    "ExecuteTime": {
     "end_time": "2023-06-22T13:19:40.209125500Z",
     "start_time": "2023-06-22T13:19:40.194887900Z"
    }
   }
  }
 ],
 "metadata": {
  "kernelspec": {
   "display_name": "nlp",
   "language": "python",
   "name": "python3"
  },
  "language_info": {
   "codemirror_mode": {
    "name": "ipython",
    "version": 3
   },
   "file_extension": ".py",
   "mimetype": "text/x-python",
   "name": "python",
   "nbconvert_exporter": "python",
   "pygments_lexer": "ipython3",
   "version": "3.10.11"
  },
  "orig_nbformat": 4
 },
 "nbformat": 4,
 "nbformat_minor": 2
}
