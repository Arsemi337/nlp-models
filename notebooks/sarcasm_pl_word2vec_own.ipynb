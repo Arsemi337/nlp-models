{
 "cells": [
  {
   "cell_type": "code",
   "execution_count": 1,
   "metadata": {
    "ExecuteTime": {
     "end_time": "2023-06-17T07:51:51.045256500Z",
     "start_time": "2023-06-17T07:51:46.929824500Z"
    }
   },
   "outputs": [],
   "source": [
    "import numpy as np\n",
    "import tensorflow as tf\n",
    "import string\n",
    "import pandas as pd\n",
    "from gensim.models import KeyedVectors\n",
    "import spacy\n",
    "import model_utils\n",
    "import constants\n",
    "import os\n",
    "import matplotlib.pyplot as plt\n",
    "import gensim"
   ]
  },
  {
   "cell_type": "code",
   "execution_count": 2,
   "metadata": {
    "ExecuteTime": {
     "end_time": "2023-06-17T07:51:51.139214400Z",
     "start_time": "2023-06-17T07:51:51.046768500Z"
    }
   },
   "outputs": [],
   "source": [
    "df = pd.read_json('../../data/translated/sarcasm/sarcasm_headlines_dataset_pl.json')"
   ]
  },
  {
   "cell_type": "code",
   "execution_count": 3,
   "metadata": {
    "ExecuteTime": {
     "end_time": "2023-06-17T07:51:51.155313300Z",
     "start_time": "2023-06-17T07:51:51.141215300Z"
    }
   },
   "outputs": [
    {
     "data": {
      "text/plain": "       is_sarcastic                                        headline_pl\n0                 1  Naukowcy z lat trzydziestych odkrywają zegar z...\n1                 0  Reprezentantka rządu USA wyjaśnia, dlaczego Ko...\n2                 0          Jedz warzywa: 9 pysznie różnych przepisów\n3                 1  Nieprzyjemna pogoda uniemożliwia kłamcy dotarc...\n4                 1  matka jest bardzo blisko użycia słowa \"streami...\n...             ...                                                ...\n28614             1               Żydzi świętują Rosh Hashasha czy coś\n28615             1  Śledczy spraw wewnętrznych rozczarowany spiski...\n28616             0  Najpiękniejsza przemowa akceptacyjna w tym tyg...\n28617             1  Mars zniszczony przez pałac kosmiczny na orbic...\n28618             1  Tata wyjaśnia, że to nie jest przerwa na jedzenie\n\n[28619 rows x 2 columns]",
      "text/html": "<div>\n<style scoped>\n    .dataframe tbody tr th:only-of-type {\n        vertical-align: middle;\n    }\n\n    .dataframe tbody tr th {\n        vertical-align: top;\n    }\n\n    .dataframe thead th {\n        text-align: right;\n    }\n</style>\n<table border=\"1\" class=\"dataframe\">\n  <thead>\n    <tr style=\"text-align: right;\">\n      <th></th>\n      <th>is_sarcastic</th>\n      <th>headline_pl</th>\n    </tr>\n  </thead>\n  <tbody>\n    <tr>\n      <th>0</th>\n      <td>1</td>\n      <td>Naukowcy z lat trzydziestych odkrywają zegar z...</td>\n    </tr>\n    <tr>\n      <th>1</th>\n      <td>0</td>\n      <td>Reprezentantka rządu USA wyjaśnia, dlaczego Ko...</td>\n    </tr>\n    <tr>\n      <th>2</th>\n      <td>0</td>\n      <td>Jedz warzywa: 9 pysznie różnych przepisów</td>\n    </tr>\n    <tr>\n      <th>3</th>\n      <td>1</td>\n      <td>Nieprzyjemna pogoda uniemożliwia kłamcy dotarc...</td>\n    </tr>\n    <tr>\n      <th>4</th>\n      <td>1</td>\n      <td>matka jest bardzo blisko użycia słowa \"streami...</td>\n    </tr>\n    <tr>\n      <th>...</th>\n      <td>...</td>\n      <td>...</td>\n    </tr>\n    <tr>\n      <th>28614</th>\n      <td>1</td>\n      <td>Żydzi świętują Rosh Hashasha czy coś</td>\n    </tr>\n    <tr>\n      <th>28615</th>\n      <td>1</td>\n      <td>Śledczy spraw wewnętrznych rozczarowany spiski...</td>\n    </tr>\n    <tr>\n      <th>28616</th>\n      <td>0</td>\n      <td>Najpiękniejsza przemowa akceptacyjna w tym tyg...</td>\n    </tr>\n    <tr>\n      <th>28617</th>\n      <td>1</td>\n      <td>Mars zniszczony przez pałac kosmiczny na orbic...</td>\n    </tr>\n    <tr>\n      <th>28618</th>\n      <td>1</td>\n      <td>Tata wyjaśnia, że to nie jest przerwa na jedzenie</td>\n    </tr>\n  </tbody>\n</table>\n<p>28619 rows × 2 columns</p>\n</div>"
     },
     "execution_count": 3,
     "metadata": {},
     "output_type": "execute_result"
    }
   ],
   "source": [
    "df = df.drop(columns=['article_link', 'headline'])\n",
    "df"
   ]
  },
  {
   "cell_type": "code",
   "execution_count": 4,
   "metadata": {
    "ExecuteTime": {
     "end_time": "2023-06-17T07:51:51.305481100Z",
     "start_time": "2023-06-17T07:51:51.158824300Z"
    }
   },
   "outputs": [
    {
     "data": {
      "text/plain": "<Figure size 640x480 with 1 Axes>",
      "image/png": "[encoded data removed]"
     },
     "metadata": {},
     "output_type": "display_data"
    }
   ],
   "source": [
    "data = df[\"is_sarcastic\"]\n",
    "data.value_counts().plot.bar()\n",
    "plt.show()"
   ]
  },
  {
   "cell_type": "code",
   "execution_count": 6,
   "outputs": [
    {
     "name": "stdout",
     "output_type": "stream",
     "text": [
      "Collecting pl-core-news-sm==3.5.0\n",
      "  Downloading https://github.com/explosion/spacy-models/releases/download/pl_core_news_sm-3.5.0/pl_core_news_sm-3.5.0-py3-none-any.whl (20.2 MB)\n",
      "     ---------------------------------------- 0.0/20.2 MB ? eta -:--:--\n",
      "     ---------------------------------------- 0.0/20.2 MB 1.4 MB/s eta 0:00:15\n",
      "     ---------------------------------------- 0.1/20.2 MB 1.3 MB/s eta 0:00:16\n",
      "     ---------------------------------------- 0.2/20.2 MB 1.2 MB/s eta 0:00:18\n",
      "     ---------------------------------------- 0.2/20.2 MB 1.1 MB/s eta 0:00:18\n",
      "      --------------------------------------- 0.3/20.2 MB 1.4 MB/s eta 0:00:15\n",
      "      --------------------------------------- 0.5/20.2 MB 1.6 MB/s eta 0:00:13\n",
      "     - -------------------------------------- 0.6/20.2 MB 1.7 MB/s eta 0:00:12\n",
      "     - -------------------------------------- 0.7/20.2 MB 1.9 MB/s eta 0:00:11\n",
      "     - -------------------------------------- 0.8/20.2 MB 1.9 MB/s eta 0:00:10\n",
      "     - -------------------------------------- 0.9/20.2 MB 2.0 MB/s eta 0:00:10\n",
      "     -- ------------------------------------- 1.0/20.2 MB 2.1 MB/s eta 0:00:10\n",
      "     -- ------------------------------------- 1.2/20.2 MB 2.1 MB/s eta 0:00:10\n",
      "     -- ------------------------------------- 1.3/20.2 MB 2.1 MB/s eta 0:00:09\n",
      "     -- ------------------------------------- 1.4/20.2 MB 2.2 MB/s eta 0:00:09\n",
      "     --- ------------------------------------ 1.5/20.2 MB 2.2 MB/s eta 0:00:09\n",
      "     --- ------------------------------------ 1.6/20.2 MB 2.2 MB/s eta 0:00:09\n",
      "     --- ------------------------------------ 1.8/20.2 MB 2.2 MB/s eta 0:00:09\n",
      "     --- ------------------------------------ 1.9/20.2 MB 2.3 MB/s eta 0:00:09\n",
      "     --- ------------------------------------ 2.0/20.2 MB 2.3 MB/s eta 0:00:08\n",
      "     ---- ----------------------------------- 2.1/20.2 MB 2.3 MB/s eta 0:00:08\n",
      "     ---- ----------------------------------- 2.3/20.2 MB 2.3 MB/s eta 0:00:08\n",
      "     ---- ----------------------------------- 2.4/20.2 MB 2.3 MB/s eta 0:00:08\n",
      "     ---- ----------------------------------- 2.5/20.2 MB 2.3 MB/s eta 0:00:08\n",
      "     ----- ---------------------------------- 2.6/20.2 MB 2.3 MB/s eta 0:00:08\n",
      "     ----- ---------------------------------- 2.7/20.2 MB 2.3 MB/s eta 0:00:08\n",
      "     ----- ---------------------------------- 2.8/20.2 MB 2.3 MB/s eta 0:00:08\n",
      "     ----- ---------------------------------- 3.0/20.2 MB 2.4 MB/s eta 0:00:08\n",
      "     ------ --------------------------------- 3.1/20.2 MB 2.4 MB/s eta 0:00:08\n",
      "     ------ --------------------------------- 3.2/20.2 MB 2.4 MB/s eta 0:00:08\n",
      "     ------ --------------------------------- 3.3/20.2 MB 2.4 MB/s eta 0:00:08\n",
      "     ------ --------------------------------- 3.4/20.2 MB 2.4 MB/s eta 0:00:08\n",
      "     ------- -------------------------------- 3.6/20.2 MB 2.4 MB/s eta 0:00:07\n",
      "     ------- -------------------------------- 3.7/20.2 MB 2.4 MB/s eta 0:00:07\n",
      "     ------- -------------------------------- 3.8/20.2 MB 2.4 MB/s eta 0:00:07\n",
      "     ------- -------------------------------- 3.9/20.2 MB 2.4 MB/s eta 0:00:07\n",
      "     ------- -------------------------------- 4.0/20.2 MB 2.4 MB/s eta 0:00:07\n",
      "     -------- ------------------------------- 4.1/20.2 MB 2.4 MB/s eta 0:00:07\n",
      "     -------- ------------------------------- 4.3/20.2 MB 2.4 MB/s eta 0:00:07\n",
      "     -------- ------------------------------- 4.4/20.2 MB 2.4 MB/s eta 0:00:07\n",
      "     -------- ------------------------------- 4.5/20.2 MB 2.4 MB/s eta 0:00:07\n",
      "     --------- ------------------------------ 4.6/20.2 MB 2.4 MB/s eta 0:00:07\n",
      "     --------- ------------------------------ 4.8/20.2 MB 2.4 MB/s eta 0:00:07\n",
      "     --------- ------------------------------ 4.9/20.2 MB 2.4 MB/s eta 0:00:07\n",
      "     --------- ------------------------------ 5.0/20.2 MB 2.4 MB/s eta 0:00:07\n",
      "     ---------- ----------------------------- 5.1/20.2 MB 2.4 MB/s eta 0:00:07\n",
      "     ---------- ----------------------------- 5.2/20.2 MB 2.4 MB/s eta 0:00:07\n",
      "     ---------- ----------------------------- 5.3/20.2 MB 2.4 MB/s eta 0:00:07\n",
      "     ---------- ----------------------------- 5.5/20.2 MB 2.4 MB/s eta 0:00:07\n",
      "     ----------- ---------------------------- 5.6/20.2 MB 2.4 MB/s eta 0:00:06\n",
      "     ----------- ---------------------------- 5.7/20.2 MB 2.4 MB/s eta 0:00:06\n",
      "     ----------- ---------------------------- 5.8/20.2 MB 2.4 MB/s eta 0:00:06\n",
      "     ----------- ---------------------------- 5.9/20.2 MB 2.4 MB/s eta 0:00:06\n",
      "     ----------- ---------------------------- 6.1/20.2 MB 2.5 MB/s eta 0:00:06\n",
      "     ------------ --------------------------- 6.2/20.2 MB 2.5 MB/s eta 0:00:06\n",
      "     ------------ --------------------------- 6.3/20.2 MB 2.5 MB/s eta 0:00:06\n",
      "     ------------ --------------------------- 6.4/20.2 MB 2.5 MB/s eta 0:00:06\n",
      "     ------------ --------------------------- 6.5/20.2 MB 2.4 MB/s eta 0:00:06\n",
      "     ------------- -------------------------- 6.6/20.2 MB 2.5 MB/s eta 0:00:06\n",
      "     ------------- -------------------------- 6.8/20.2 MB 2.5 MB/s eta 0:00:06\n",
      "     ------------- -------------------------- 6.9/20.2 MB 2.5 MB/s eta 0:00:06\n",
      "     ------------- -------------------------- 7.0/20.2 MB 2.5 MB/s eta 0:00:06\n",
      "     -------------- ------------------------- 7.1/20.2 MB 2.5 MB/s eta 0:00:06\n",
      "     -------------- ------------------------- 7.2/20.2 MB 2.5 MB/s eta 0:00:06\n",
      "     -------------- ------------------------- 7.4/20.2 MB 2.5 MB/s eta 0:00:06\n",
      "     -------------- ------------------------- 7.5/20.2 MB 2.5 MB/s eta 0:00:06\n",
      "     --------------- ------------------------ 7.6/20.2 MB 2.5 MB/s eta 0:00:06\n",
      "     --------------- ------------------------ 7.7/20.2 MB 2.5 MB/s eta 0:00:06\n",
      "     --------------- ------------------------ 7.8/20.2 MB 2.5 MB/s eta 0:00:06\n",
      "     --------------- ------------------------ 8.0/20.2 MB 2.5 MB/s eta 0:00:05\n",
      "     ---------------- ----------------------- 8.1/20.2 MB 2.5 MB/s eta 0:00:05\n",
      "     ---------------- ----------------------- 8.2/20.2 MB 2.5 MB/s eta 0:00:05\n",
      "     ---------------- ----------------------- 8.3/20.2 MB 2.5 MB/s eta 0:00:05\n",
      "     ---------------- ----------------------- 8.4/20.2 MB 2.5 MB/s eta 0:00:05\n",
      "     ---------------- ----------------------- 8.6/20.2 MB 2.5 MB/s eta 0:00:05\n",
      "     ----------------- ---------------------- 8.7/20.2 MB 2.5 MB/s eta 0:00:05\n",
      "     ----------------- ---------------------- 8.8/20.2 MB 2.5 MB/s eta 0:00:05\n",
      "     ----------------- ---------------------- 8.9/20.2 MB 2.5 MB/s eta 0:00:05\n",
      "     ----------------- ---------------------- 9.0/20.2 MB 2.5 MB/s eta 0:00:05\n",
      "     ------------------ --------------------- 9.2/20.2 MB 2.5 MB/s eta 0:00:05\n",
      "     ------------------ --------------------- 9.3/20.2 MB 2.5 MB/s eta 0:00:05\n",
      "     ------------------ --------------------- 9.4/20.2 MB 2.5 MB/s eta 0:00:05\n",
      "     ------------------ --------------------- 9.5/20.2 MB 2.5 MB/s eta 0:00:05\n",
      "     ------------------- -------------------- 9.6/20.2 MB 2.5 MB/s eta 0:00:05\n",
      "     ------------------- -------------------- 9.8/20.2 MB 2.5 MB/s eta 0:00:05\n",
      "     ------------------- -------------------- 9.9/20.2 MB 2.5 MB/s eta 0:00:05\n",
      "     ------------------- -------------------- 10.0/20.2 MB 2.5 MB/s eta 0:00:05\n",
      "     -------------------- ------------------- 10.1/20.2 MB 2.5 MB/s eta 0:00:05\n",
      "     -------------------- ------------------- 10.2/20.2 MB 2.5 MB/s eta 0:00:05\n",
      "     -------------------- ------------------- 10.3/20.2 MB 2.5 MB/s eta 0:00:04\n",
      "     -------------------- ------------------- 10.5/20.2 MB 2.6 MB/s eta 0:00:04\n",
      "     -------------------- ------------------- 10.6/20.2 MB 2.5 MB/s eta 0:00:04\n",
      "     --------------------- ------------------ 10.7/20.2 MB 2.5 MB/s eta 0:00:04\n",
      "     --------------------- ------------------ 10.8/20.2 MB 2.6 MB/s eta 0:00:04\n",
      "     --------------------- ------------------ 10.9/20.2 MB 2.6 MB/s eta 0:00:04\n",
      "     --------------------- ------------------ 11.1/20.2 MB 2.6 MB/s eta 0:00:04\n",
      "     ---------------------- ----------------- 11.2/20.2 MB 2.6 MB/s eta 0:00:04\n",
      "     ---------------------- ----------------- 11.3/20.2 MB 2.5 MB/s eta 0:00:04\n",
      "     ---------------------- ----------------- 11.4/20.2 MB 2.6 MB/s eta 0:00:04\n",
      "     ---------------------- ----------------- 11.5/20.2 MB 2.6 MB/s eta 0:00:04\n",
      "     ----------------------- ---------------- 11.7/20.2 MB 2.6 MB/s eta 0:00:04\n",
      "     ----------------------- ---------------- 11.8/20.2 MB 2.6 MB/s eta 0:00:04\n",
      "     ----------------------- ---------------- 11.9/20.2 MB 2.5 MB/s eta 0:00:04\n",
      "     ----------------------- ---------------- 12.0/20.2 MB 2.6 MB/s eta 0:00:04\n",
      "     ------------------------ --------------- 12.1/20.2 MB 2.6 MB/s eta 0:00:04\n",
      "     ------------------------ --------------- 12.2/20.2 MB 2.6 MB/s eta 0:00:04\n",
      "     ------------------------ --------------- 12.4/20.2 MB 2.6 MB/s eta 0:00:04\n",
      "     ------------------------ --------------- 12.5/20.2 MB 2.6 MB/s eta 0:00:04\n",
      "     ------------------------ --------------- 12.6/20.2 MB 2.5 MB/s eta 0:00:03\n",
      "     ------------------------- -------------- 12.7/20.2 MB 2.6 MB/s eta 0:00:03\n",
      "     ------------------------- -------------- 12.9/20.2 MB 2.6 MB/s eta 0:00:03\n",
      "     ------------------------- -------------- 13.0/20.2 MB 2.6 MB/s eta 0:00:03\n",
      "     ------------------------- -------------- 13.1/20.2 MB 2.6 MB/s eta 0:00:03\n",
      "     -------------------------- ------------- 13.2/20.2 MB 2.6 MB/s eta 0:00:03\n",
      "     -------------------------- ------------- 13.3/20.2 MB 2.6 MB/s eta 0:00:03\n",
      "     -------------------------- ------------- 13.5/20.2 MB 2.6 MB/s eta 0:00:03\n",
      "     -------------------------- ------------- 13.6/20.2 MB 2.6 MB/s eta 0:00:03\n",
      "     --------------------------- ------------ 13.7/20.2 MB 2.6 MB/s eta 0:00:03\n",
      "     --------------------------- ------------ 13.8/20.2 MB 2.6 MB/s eta 0:00:03\n",
      "     --------------------------- ------------ 13.9/20.2 MB 2.6 MB/s eta 0:00:03\n",
      "     --------------------------- ------------ 14.1/20.2 MB 2.6 MB/s eta 0:00:03\n",
      "     ---------------------------- ----------- 14.2/20.2 MB 2.6 MB/s eta 0:00:03\n",
      "     ---------------------------- ----------- 14.3/20.2 MB 2.6 MB/s eta 0:00:03\n",
      "     ---------------------------- ----------- 14.4/20.2 MB 2.6 MB/s eta 0:00:03\n",
      "     ---------------------------- ----------- 14.5/20.2 MB 2.6 MB/s eta 0:00:03\n",
      "     ---------------------------- ----------- 14.7/20.2 MB 2.6 MB/s eta 0:00:03\n",
      "     ----------------------------- ---------- 14.8/20.2 MB 2.6 MB/s eta 0:00:03\n",
      "     ----------------------------- ---------- 14.9/20.2 MB 2.6 MB/s eta 0:00:03\n",
      "     ----------------------------- ---------- 15.0/20.2 MB 2.6 MB/s eta 0:00:03\n",
      "     ----------------------------- ---------- 15.1/20.2 MB 2.6 MB/s eta 0:00:02\n",
      "     ------------------------------ --------- 15.3/20.2 MB 2.6 MB/s eta 0:00:02\n",
      "     ------------------------------ --------- 15.4/20.2 MB 2.6 MB/s eta 0:00:02\n",
      "     ------------------------------ --------- 15.5/20.2 MB 2.6 MB/s eta 0:00:02\n",
      "     ------------------------------ --------- 15.6/20.2 MB 2.6 MB/s eta 0:00:02\n",
      "     ------------------------------- -------- 15.7/20.2 MB 2.6 MB/s eta 0:00:02\n",
      "     ------------------------------- -------- 15.8/20.2 MB 2.6 MB/s eta 0:00:02\n",
      "     ------------------------------- -------- 16.0/20.2 MB 2.6 MB/s eta 0:00:02\n",
      "     ------------------------------- -------- 16.1/20.2 MB 2.6 MB/s eta 0:00:02\n",
      "     -------------------------------- ------- 16.2/20.2 MB 2.6 MB/s eta 0:00:02\n",
      "     -------------------------------- ------- 16.3/20.2 MB 2.6 MB/s eta 0:00:02\n",
      "     -------------------------------- ------- 16.4/20.2 MB 2.6 MB/s eta 0:00:02\n",
      "     -------------------------------- ------- 16.6/20.2 MB 2.6 MB/s eta 0:00:02\n",
      "     --------------------------------- ------ 16.7/20.2 MB 2.6 MB/s eta 0:00:02\n",
      "     --------------------------------- ------ 16.8/20.2 MB 2.6 MB/s eta 0:00:02\n",
      "     --------------------------------- ------ 16.9/20.2 MB 2.6 MB/s eta 0:00:02\n",
      "     --------------------------------- ------ 17.0/20.2 MB 2.6 MB/s eta 0:00:02\n",
      "     --------------------------------- ------ 17.2/20.2 MB 2.6 MB/s eta 0:00:02\n",
      "     ---------------------------------- ----- 17.3/20.2 MB 2.6 MB/s eta 0:00:02\n",
      "     ---------------------------------- ----- 17.4/20.2 MB 2.6 MB/s eta 0:00:02\n",
      "     ---------------------------------- ----- 17.5/20.2 MB 2.6 MB/s eta 0:00:02\n",
      "     ---------------------------------- ----- 17.6/20.2 MB 2.6 MB/s eta 0:00:02\n",
      "     ----------------------------------- ---- 17.8/20.2 MB 2.6 MB/s eta 0:00:01\n",
      "     ----------------------------------- ---- 17.9/20.2 MB 2.6 MB/s eta 0:00:01\n",
      "     ----------------------------------- ---- 18.0/20.2 MB 2.6 MB/s eta 0:00:01\n",
      "     ----------------------------------- ---- 18.1/20.2 MB 2.6 MB/s eta 0:00:01\n",
      "     ------------------------------------ --- 18.2/20.2 MB 2.6 MB/s eta 0:00:01\n",
      "     ------------------------------------ --- 18.4/20.2 MB 2.6 MB/s eta 0:00:01\n",
      "     ------------------------------------ --- 18.5/20.2 MB 2.6 MB/s eta 0:00:01\n",
      "     ------------------------------------ --- 18.6/20.2 MB 2.6 MB/s eta 0:00:01\n",
      "     ------------------------------------- -- 18.7/20.2 MB 2.6 MB/s eta 0:00:01\n",
      "     ------------------------------------- -- 18.8/20.2 MB 2.6 MB/s eta 0:00:01\n",
      "     ------------------------------------- -- 19.0/20.2 MB 2.6 MB/s eta 0:00:01\n",
      "     ------------------------------------- -- 19.1/20.2 MB 2.6 MB/s eta 0:00:01\n",
      "     ------------------------------------- -- 19.2/20.2 MB 2.6 MB/s eta 0:00:01\n",
      "     -------------------------------------- - 19.3/20.2 MB 2.6 MB/s eta 0:00:01\n",
      "     -------------------------------------- - 19.4/20.2 MB 2.6 MB/s eta 0:00:01\n",
      "     -------------------------------------- - 19.5/20.2 MB 2.6 MB/s eta 0:00:01\n",
      "     -------------------------------------- - 19.7/20.2 MB 2.6 MB/s eta 0:00:01\n",
      "     ---------------------------------------  19.8/20.2 MB 2.6 MB/s eta 0:00:01\n",
      "     ---------------------------------------  19.9/20.2 MB 2.6 MB/s eta 0:00:01\n",
      "     ---------------------------------------  20.0/20.2 MB 2.6 MB/s eta 0:00:01\n",
      "     ---------------------------------------  20.2/20.2 MB 2.6 MB/s eta 0:00:01\n",
      "     ---------------------------------------  20.2/20.2 MB 2.6 MB/s eta 0:00:01\n",
      "     ---------------------------------------- 20.2/20.2 MB 2.5 MB/s eta 0:00:00\n",
      "Requirement already satisfied: spacy<3.6.0,>=3.5.0 in c:\\users\\karol\\anaconda3\\envs\\ml-tf2gpu\\lib\\site-packages (from pl-core-news-sm==3.5.0) (3.5.3)\n",
      "Requirement already satisfied: preshed<3.1.0,>=3.0.2 in c:\\users\\karol\\anaconda3\\envs\\ml-tf2gpu\\lib\\site-packages (from spacy<3.6.0,>=3.5.0->pl-core-news-sm==3.5.0) (3.0.6)\n",
      "Requirement already satisfied: pathy>=0.10.0 in c:\\users\\karol\\anaconda3\\envs\\ml-tf2gpu\\lib\\site-packages (from spacy<3.6.0,>=3.5.0->pl-core-news-sm==3.5.0) (0.10.1)\n",
      "Requirement already satisfied: wasabi<1.2.0,>=0.9.1 in c:\\users\\karol\\anaconda3\\envs\\ml-tf2gpu\\lib\\site-packages (from spacy<3.6.0,>=3.5.0->pl-core-news-sm==3.5.0) (0.9.1)\n",
      "Requirement already satisfied: smart-open<7.0.0,>=5.2.1 in c:\\users\\karol\\anaconda3\\envs\\ml-tf2gpu\\lib\\site-packages (from spacy<3.6.0,>=3.5.0->pl-core-news-sm==3.5.0) (5.2.1)\n",
      "Requirement already satisfied: thinc<8.2.0,>=8.1.8 in c:\\users\\karol\\anaconda3\\envs\\ml-tf2gpu\\lib\\site-packages (from spacy<3.6.0,>=3.5.0->pl-core-news-sm==3.5.0) (8.1.10)\n",
      "Requirement already satisfied: packaging>=20.0 in c:\\users\\karol\\anaconda3\\envs\\ml-tf2gpu\\lib\\site-packages (from spacy<3.6.0,>=3.5.0->pl-core-news-sm==3.5.0) (23.0)\n",
      "Requirement already satisfied: cymem<2.1.0,>=2.0.2 in c:\\users\\karol\\anaconda3\\envs\\ml-tf2gpu\\lib\\site-packages (from spacy<3.6.0,>=3.5.0->pl-core-news-sm==3.5.0) (2.0.6)\n",
      "Requirement already satisfied: spacy-loggers<2.0.0,>=1.0.0 in c:\\users\\karol\\anaconda3\\envs\\ml-tf2gpu\\lib\\site-packages (from spacy<3.6.0,>=3.5.0->pl-core-news-sm==3.5.0) (1.0.4)\n",
      "Requirement already satisfied: requests<3.0.0,>=2.13.0 in c:\\users\\karol\\anaconda3\\envs\\ml-tf2gpu\\lib\\site-packages (from spacy<3.6.0,>=3.5.0->pl-core-news-sm==3.5.0) (2.28.1)\n",
      "Requirement already satisfied: pydantic!=1.8,!=1.8.1,<1.11.0,>=1.7.4 in c:\\users\\karol\\anaconda3\\envs\\ml-tf2gpu\\lib\\site-packages (from spacy<3.6.0,>=3.5.0->pl-core-news-sm==3.5.0) (1.10.8)\n",
      "Requirement already satisfied: langcodes<4.0.0,>=3.2.0 in c:\\users\\karol\\anaconda3\\envs\\ml-tf2gpu\\lib\\site-packages (from spacy<3.6.0,>=3.5.0->pl-core-news-sm==3.5.0) (3.3.0)\n",
      "Requirement already satisfied: spacy-legacy<3.1.0,>=3.0.11 in c:\\users\\karol\\anaconda3\\envs\\ml-tf2gpu\\lib\\site-packages (from spacy<3.6.0,>=3.5.0->pl-core-news-sm==3.5.0) (3.0.12)\n",
      "Requirement already satisfied: jinja2 in c:\\users\\karol\\anaconda3\\envs\\ml-tf2gpu\\lib\\site-packages (from spacy<3.6.0,>=3.5.0->pl-core-news-sm==3.5.0) (3.1.2)\n",
      "Requirement already satisfied: setuptools in c:\\users\\karol\\anaconda3\\envs\\ml-tf2gpu\\lib\\site-packages (from spacy<3.6.0,>=3.5.0->pl-core-news-sm==3.5.0) (65.6.3)\n",
      "Requirement already satisfied: tqdm<5.0.0,>=4.38.0 in c:\\users\\karol\\anaconda3\\envs\\ml-tf2gpu\\lib\\site-packages (from spacy<3.6.0,>=3.5.0->pl-core-news-sm==3.5.0) (4.64.1)\n",
      "Requirement already satisfied: murmurhash<1.1.0,>=0.28.0 in c:\\users\\karol\\anaconda3\\envs\\ml-tf2gpu\\lib\\site-packages (from spacy<3.6.0,>=3.5.0->pl-core-news-sm==3.5.0) (1.0.7)\n",
      "Requirement already satisfied: typer<0.8.0,>=0.3.0 in c:\\users\\karol\\anaconda3\\envs\\ml-tf2gpu\\lib\\site-packages (from spacy<3.6.0,>=3.5.0->pl-core-news-sm==3.5.0) (0.4.1)\n",
      "Requirement already satisfied: catalogue<2.1.0,>=2.0.6 in c:\\users\\karol\\anaconda3\\envs\\ml-tf2gpu\\lib\\site-packages (from spacy<3.6.0,>=3.5.0->pl-core-news-sm==3.5.0) (2.0.7)\n",
      "Requirement already satisfied: srsly<3.0.0,>=2.4.3 in c:\\users\\karol\\anaconda3\\envs\\ml-tf2gpu\\lib\\site-packages (from spacy<3.6.0,>=3.5.0->pl-core-news-sm==3.5.0) (2.4.6)\n",
      "Requirement already satisfied: numpy>=1.15.0 in c:\\users\\karol\\anaconda3\\envs\\ml-tf2gpu\\lib\\site-packages (from spacy<3.6.0,>=3.5.0->pl-core-news-sm==3.5.0) (1.23.5)\n",
      "Requirement already satisfied: typing-extensions>=4.2.0 in c:\\users\\karol\\anaconda3\\envs\\ml-tf2gpu\\lib\\site-packages (from pydantic!=1.8,!=1.8.1,<1.11.0,>=1.7.4->spacy<3.6.0,>=3.5.0->pl-core-news-sm==3.5.0) (4.4.0)\n",
      "Requirement already satisfied: idna<4,>=2.5 in c:\\users\\karol\\anaconda3\\envs\\ml-tf2gpu\\lib\\site-packages (from requests<3.0.0,>=2.13.0->spacy<3.6.0,>=3.5.0->pl-core-news-sm==3.5.0) (3.4)\n",
      "Requirement already satisfied: charset-normalizer<3,>=2 in c:\\users\\karol\\anaconda3\\envs\\ml-tf2gpu\\lib\\site-packages (from requests<3.0.0,>=2.13.0->spacy<3.6.0,>=3.5.0->pl-core-news-sm==3.5.0) (2.0.4)\n",
      "Requirement already satisfied: certifi>=2017.4.17 in c:\\users\\karol\\anaconda3\\envs\\ml-tf2gpu\\lib\\site-packages (from requests<3.0.0,>=2.13.0->spacy<3.6.0,>=3.5.0->pl-core-news-sm==3.5.0) (2023.5.7)\n",
      "Requirement already satisfied: urllib3<1.27,>=1.21.1 in c:\\users\\karol\\anaconda3\\envs\\ml-tf2gpu\\lib\\site-packages (from requests<3.0.0,>=2.13.0->spacy<3.6.0,>=3.5.0->pl-core-news-sm==3.5.0) (1.26.14)\n",
      "Requirement already satisfied: confection<1.0.0,>=0.0.1 in c:\\users\\karol\\anaconda3\\envs\\ml-tf2gpu\\lib\\site-packages (from thinc<8.2.0,>=8.1.8->spacy<3.6.0,>=3.5.0->pl-core-news-sm==3.5.0) (0.0.4)\n",
      "Requirement already satisfied: blis<0.8.0,>=0.7.8 in c:\\users\\karol\\anaconda3\\envs\\ml-tf2gpu\\lib\\site-packages (from thinc<8.2.0,>=8.1.8->spacy<3.6.0,>=3.5.0->pl-core-news-sm==3.5.0) (0.7.9)\n",
      "Requirement already satisfied: colorama in c:\\users\\karol\\anaconda3\\envs\\ml-tf2gpu\\lib\\site-packages (from tqdm<5.0.0,>=4.38.0->spacy<3.6.0,>=3.5.0->pl-core-news-sm==3.5.0) (0.4.6)\n",
      "Requirement already satisfied: click<9.0.0,>=7.1.1 in c:\\users\\karol\\anaconda3\\envs\\ml-tf2gpu\\lib\\site-packages (from typer<0.8.0,>=0.3.0->spacy<3.6.0,>=3.5.0->pl-core-news-sm==3.5.0) (8.0.4)\n",
      "Requirement already satisfied: MarkupSafe>=2.0 in c:\\users\\karol\\anaconda3\\envs\\ml-tf2gpu\\lib\\site-packages (from jinja2->spacy<3.6.0,>=3.5.0->pl-core-news-sm==3.5.0) (2.1.1)\n",
      "Installing collected packages: pl-core-news-sm\n",
      "Successfully installed pl-core-news-sm-3.5.0\n",
      "[+] Download and installation successful\n",
      "You can now load the package via spacy.load('pl_core_news_sm')\n"
     ]
    }
   ],
   "source": [
    "# !python -m spacy download pl_core_news_sm"
   ],
   "metadata": {
    "collapsed": false,
    "ExecuteTime": {
     "end_time": "2023-06-17T07:51:30.113424900Z",
     "start_time": "2023-06-17T07:51:14.910054700Z"
    }
   }
  },
  {
   "cell_type": "code",
   "execution_count": 5,
   "metadata": {
    "ExecuteTime": {
     "end_time": "2023-06-17T07:51:54.233905700Z",
     "start_time": "2023-06-17T07:51:53.703651900Z"
    }
   },
   "outputs": [],
   "source": [
    "spacy_model = spacy.load(\"pl_core_news_sm\")"
   ]
  },
  {
   "cell_type": "code",
   "execution_count": 6,
   "metadata": {
    "ExecuteTime": {
     "end_time": "2023-06-17T07:52:00.107974400Z",
     "start_time": "2023-06-17T07:52:00.091407200Z"
    }
   },
   "outputs": [
    {
     "name": "stdout",
     "output_type": "stream",
     "text": [
      "{'prawie', 'pan', 'taka', 'takze', 'jednak', 'wtedy', 'taki', 'xiv', 'jakiś', 'ach', 'był', 'ty', 'niego', 'była', 'jestem', 'beda', 'gdzies', 'jedna', 'ma', 'się', 'oraz', 'cię', 'nasz', 'było', 'moj', 'tel', 'jakos', 'te', 'vi', 'jakis', 'cały', 'naszego', 'sam', 'tys', 'twoja', 'cie', 'mu', 'mam', 'będzie', 'jeszcze', 'jemu', 'pod', 'nich', 'go', 'nasze', 'kims', 'mój', 'godz', 'niech', 'przedtem', 'soba', 'bowiem', 'ktorej', 'dlatego', 'zapewne', 'od', 'wasi', 'jakie', 'poniewaz', 'dziś', 'xv', 'który', 'oto', 'ja', 'takie', 'więcej', 'moim', 'wśród', 'poza', 'ale', 'dwie', 'gdzie', 'dwoje', 'duzo', 'zadne', 'według', 'wszystkich', 'żadnych', 'tym', 'byla', 'kilka', 'będą', 'daleko', 'on', 'rowniez', 'one', 'jednym', 'tam', 'kto', 'mną', 'bardzo', 'ona', 'im', 'możliwe', 'wasz', 'bym', 'dwaj', 'żeby', 'swoje', 'że', 'pomimo', 'zadnych', 'viii', 'tak', 'z', 'ktorzy', 'bo', 'które', 'trzeba', 'dlaczego', 'ci', 'byli', 'do', 'żadne', 'żaden', 'niemu', 'totobą', 'mało', 'sie', 'wszyscy', 'znow', 'jesli', 'wszystko', 'cali', 'moja', 'zaś', 'która', 'jeśli', 'tej', 'powinien', 'może', 'a', 'mi', 'nim', 'ponad', 'twoje', 'ktorych', 'wszystkie', 'powinno', 'ku', 'tę', 'coraz', 'byly', 'którym', 'miedzy', 'przecież', 'jako', 'jakoś', 'mamy', 'ją', 'choć', 'między', 'po', 'zawsze', 'natychmiast', 'lecz', 'skad', 'gdyż', 'xi', 'albo', 'tzw', 'nawet', 'ta', 'ciebie', 'toba', 'nas', 'nasi', 'cala', 'oni', 'często', 'wielu', 'gdziekolwiek', 'ix', 'około', 'ono', 'dosc', 'być', 'tego', 'pana', 'dobrze', 'lub', 'podczas', 'natomiast', 'moga', 'ktore', 'we', 'cokolwiek', 'kazdy', 'właśnie', 'toteż', 'twym', 'kilku', 'więc', 'totez', 'czasem', 'je', 'już', 'twoim', 'mogą', 'wszystkim', 'kimś', 'was', 'niz', 'jakichś', 'jedno', 'iz', 'czemu', 'no', 'były', 'byl', 'dla', 'obok', 'nasza', 'czyli', 'dokąd', 'ktorego', 'ktos', 'sama', 'zeby', 'kiedy', 'jakas', 'o', 'dzis', 'jednakże', 'ktoś', 'są', 'w', 'niż', 'powinna', 'ktokolwiek', 'wy', 'teraz', 'roku', 'inna', 'ile', 'gdy', 'sobą', 'jej', 'mozliwe', 'iż', 'to', 'bylo', 'takich', 'nią', 'mozna', 'przede', 'wami', 'nami', 'co', 'nic', 'u', 'niej', 'powinni', 'mają', 'również', 'inne', 'jakkolwiek', 'tutaj', 'żadna', 'twoi', 'jakichs', 'iv', 'coś', 'gdyby', 'ktora', 'wasza', 'cała', 'jest', 'wie', 'jeżeli', 'tobą', 'nimi', 'sposob', 'xiii', 'ktorym', 'miał', 'za', 'raz', 'aj', 'czasami', 'innych', 'wam', 'ok', 'owszem', 'bedzie', 'także', 'którzy', 'każdy', 'wasze', 'naszych', 'ponieważ', 'ktory', 'został', 'bez', 'mna', 'jakiz', 'przy', 'przez', 'dwa', 'jak', 'by', 'tu', 'zostal', 'których', 'wiele', 'gdzieś', 'aby', 'i', 'ani', 'wlasnie', 'przed', 'moi', 'aż', 'jakaś', 'juz', 'xii', 'czy', 'dzisiaj', 'bardziej', 'caly', 'mimo', 'musi', 'temu', 'sobie', 'można', 'na', 'nigdy', 'dużo', 'tylko', 'my', 'az', 'też', 'moje', 'znów', 'vii', 'jezeli', 'znowu', 'skąd', 'kierunku', 'sposób', 'byc', 'razie', 'tych', 'moze', 'cos', 'twój', 'jaki', 'będę', 'ależ', 'bynajmniej', 'ich', 'nia', 'bede', 'jego', 'przeciez', 'którego', 'nam', 'inny', 'aczkolwiek', 'acz', 'dokad', 'dość', 'alez', 'gdyz', 'jakby', 'nad', 'zadna', 'tobie', 'twoj', 'zaden', 'jakiż', 'jednakze', 'ze', 'pani', 'której', 'jeden', 'ten', 'mnie', 'jedynie', 'chce'}\n"
     ]
    }
   ],
   "source": [
    "# Stop words\n",
    "stop_words = spacy_model.Defaults.stop_words.copy()\n",
    "stop_words.remove(\"nie\")\n",
    "print(stop_words)"
   ]
  },
  {
   "cell_type": "code",
   "execution_count": 7,
   "metadata": {
    "ExecuteTime": {
     "end_time": "2023-06-17T07:52:02.708289400Z",
     "start_time": "2023-06-17T07:52:02.695774Z"
    }
   },
   "outputs": [
    {
     "name": "stdout",
     "output_type": "stream",
     "text": [
      "!\"#$%&'()*+,-./:;<=>?@[\\]^_`{|}~\n"
     ]
    }
   ],
   "source": [
    "# Punctuation\n",
    "punctuations = string.punctuation\n",
    "print(punctuations)"
   ]
  },
  {
   "cell_type": "code",
   "execution_count": 8,
   "metadata": {
    "ExecuteTime": {
     "end_time": "2023-06-17T07:52:05.619870300Z",
     "start_time": "2023-06-17T07:52:05.590480900Z"
    }
   },
   "outputs": [],
   "source": [
    "# Tokenizer\n",
    "def spacy_tokenizer(sentence):\n",
    "    doc = spacy_model(sentence)\n",
    "\n",
    "    # Lemmatizing each token and converting each token into lowercase\n",
    "    mytokens = [ word.lemma_.lower().strip() for word in doc ]\n",
    "\n",
    "    # Removing stop words and punctuation\n",
    "    mytokens = [ word for word in mytokens if word not in stop_words and word not in punctuations ]\n",
    "\n",
    "    # return preprocessed list of tokens\n",
    "    return mytokens"
   ]
  },
  {
   "cell_type": "code",
   "execution_count": 9,
   "metadata": {
    "ExecuteTime": {
     "end_time": "2023-06-17T07:54:58.254194Z",
     "start_time": "2023-06-17T07:52:06.147705200Z"
    }
   },
   "outputs": [],
   "source": [
    "texts = df['headline_pl'].to_list()\n",
    "tokenized_sentences = [spacy_tokenizer(text) for text in texts]"
   ]
  },
  {
   "cell_type": "code",
   "execution_count": 10,
   "metadata": {
    "ExecuteTime": {
     "end_time": "2023-06-17T07:54:59.232699900Z",
     "start_time": "2023-06-17T07:54:58.263708100Z"
    }
   },
   "outputs": [],
   "source": [
    "# Word2Vec\n",
    "w2v_model = gensim.models.Word2Vec(sentences=tokenized_sentences, vector_size=100, window=6, min_count=1)"
   ]
  },
  {
   "cell_type": "code",
   "execution_count": 11,
   "metadata": {
    "ExecuteTime": {
     "end_time": "2023-06-17T07:55:00.352475900Z",
     "start_time": "2023-06-17T07:54:59.235203700Z"
    }
   },
   "outputs": [
    {
     "data": {
      "text/plain": "(2011630, 2077060)"
     },
     "execution_count": 11,
     "metadata": {},
     "output_type": "execute_result"
    }
   ],
   "source": [
    "w2v_model.train(tokenized_sentences, epochs=10, total_examples=len(tokenized_sentences))"
   ]
  },
  {
   "cell_type": "code",
   "execution_count": 12,
   "metadata": {
    "ExecuteTime": {
     "end_time": "2023-06-17T07:55:00.382629900Z",
     "start_time": "2023-06-17T07:55:00.354476600Z"
    }
   },
   "outputs": [
    {
     "name": "stdout",
     "output_type": "stream",
     "text": [
      "The no of words : 32485\n"
     ]
    }
   ],
   "source": [
    "print(\"The no of words :\", len(w2v_model.wv))"
   ]
  },
  {
   "cell_type": "code",
   "execution_count": 13,
   "metadata": {
    "ExecuteTime": {
     "end_time": "2023-06-17T07:55:00.383629100Z",
     "start_time": "2023-06-17T07:55:00.373494300Z"
    }
   },
   "outputs": [],
   "source": [
    "def tokens_to_vector(sentence):\n",
    "    vector_size = w2v_model.vector_size\n",
    "    wv_res = np.zeros(vector_size)\n",
    "    ctr = 1\n",
    "    for w in sentence:\n",
    "        if w in w2v_model.wv:\n",
    "            ctr += 1\n",
    "            wv_res += w2v_model.wv[w]\n",
    "    wv_res = wv_res/ctr\n",
    "    return wv_res"
   ]
  },
  {
   "cell_type": "code",
   "execution_count": 14,
   "metadata": {
    "ExecuteTime": {
     "end_time": "2023-06-17T07:55:00.805243400Z",
     "start_time": "2023-06-17T07:55:00.385628Z"
    }
   },
   "outputs": [],
   "source": [
    "vectors = [tokens_to_vector(tokenized_sentence) for tokenized_sentence in tokenized_sentences]"
   ]
  },
  {
   "cell_type": "code",
   "execution_count": 15,
   "metadata": {
    "ExecuteTime": {
     "end_time": "2023-06-17T07:55:00.837421100Z",
     "start_time": "2023-06-17T07:55:00.808248100Z"
    }
   },
   "outputs": [],
   "source": [
    "X = np.array(vectors)\n",
    "Y = df['is_sarcastic'].to_numpy()"
   ]
  },
  {
   "cell_type": "code",
   "execution_count": 16,
   "metadata": {
    "ExecuteTime": {
     "end_time": "2023-06-17T07:55:00.898326500Z",
     "start_time": "2023-06-17T07:55:00.841426100Z"
    }
   },
   "outputs": [],
   "source": [
    "from sklearn.model_selection import train_test_split\n",
    "\n",
    "X_train, X_test, Y_train, Y_test = train_test_split(X, Y, train_size=0.8, random_state=42)\n",
    "X_val, X_test, Y_val, Y_test = train_test_split(X_test, Y_test, train_size=0.5, random_state=42)"
   ]
  },
  {
   "cell_type": "code",
   "execution_count": 17,
   "metadata": {
    "ExecuteTime": {
     "end_time": "2023-06-17T07:55:06.058574400Z",
     "start_time": "2023-06-17T07:55:00.903327200Z"
    }
   },
   "outputs": [],
   "source": [
    "model=tf.keras.models.Sequential()\n",
    "model.add(tf.keras.layers.Dense(128, activation='relu'))\n",
    "model.add(tf.keras.layers.Dense(64, activation='relu'))\n",
    "model.add(tf.keras.layers.Dense(32, activation='relu'))\n",
    "model.add(tf.keras.layers.Dense(16, activation='relu'))\n",
    "model.add(tf.keras.layers.Dense(8, activation='relu'))\n",
    "model.add(tf.keras.layers.Dense(2, activation='sigmoid'))"
   ]
  },
  {
   "cell_type": "code",
   "execution_count": 18,
   "metadata": {
    "ExecuteTime": {
     "end_time": "2023-06-17T07:55:06.104640300Z",
     "start_time": "2023-06-17T07:55:06.065574600Z"
    }
   },
   "outputs": [],
   "source": [
    "model.compile(optimizer=\"adam\", loss=tf.keras.losses.SparseCategoricalCrossentropy(), metrics=[\"accuracy\"])"
   ]
  },
  {
   "cell_type": "code",
   "execution_count": 19,
   "metadata": {
    "ExecuteTime": {
     "end_time": "2023-06-17T07:55:06.105640Z",
     "start_time": "2023-06-17T07:55:06.092124200Z"
    }
   },
   "outputs": [],
   "source": [
    "# Model parameters\n",
    "training_number = 1\n",
    "model_name = 'sarcasm_pl_word2vec_own'\n",
    "training_name = model_name\n",
    "figures_dir = f\"../../documentation/models/{model_name}/figures\"\n",
    "checkpoint_filename_template = \"cp-{epoch:04d}.ckpt\"\n",
    "checkpoints_dir = os.path.join(constants.TRAINING_CHECKPOINTS_PATH, model_name, training_name)\n",
    "checkpoint_path = os.path.join(checkpoints_dir, checkpoint_filename_template)\n",
    "batch_size = 32"
   ]
  },
  {
   "cell_type": "code",
   "execution_count": 20,
   "metadata": {
    "ExecuteTime": {
     "end_time": "2023-06-17T07:55:06.118667700Z",
     "start_time": "2023-06-17T07:55:06.105640Z"
    }
   },
   "outputs": [],
   "source": [
    "# Callbacks\n",
    "checkpoint_cb = tf.keras.callbacks.ModelCheckpoint(checkpoint_path, verbose=1, save_weights_only=True)\n",
    "early_stop_cb = tf.keras.callbacks.EarlyStopping(patience=3)\n",
    "callbacks = [checkpoint_cb, early_stop_cb]"
   ]
  },
  {
   "cell_type": "code",
   "execution_count": 21,
   "metadata": {
    "ExecuteTime": {
     "end_time": "2023-06-17T07:55:25.288607Z",
     "start_time": "2023-06-17T07:55:06.120668500Z"
    }
   },
   "outputs": [
    {
     "name": "stdout",
     "output_type": "stream",
     "text": [
      "Epoch 1/10\n",
      "716/716 [==============================] - 4s 3ms/step - loss: 0.6405 - accuracy: 0.6237 - val_loss: 0.6365 - val_accuracy: 0.6076\n",
      "\n",
      "Epoch 00001: saving model to ../../training_checkpoints\\sarcasm_pl_word2vec_own\\sarcasm_pl_word2vec_own\\cp-0001.ckpt\n",
      "Epoch 2/10\n",
      "716/716 [==============================] - 2s 2ms/step - loss: 0.6230 - accuracy: 0.6489 - val_loss: 0.6538 - val_accuracy: 0.6150\n",
      "\n",
      "Epoch 00002: saving model to ../../training_checkpoints\\sarcasm_pl_word2vec_own\\sarcasm_pl_word2vec_own\\cp-0002.ckpt\n",
      "Epoch 3/10\n",
      "716/716 [==============================] - 2s 2ms/step - loss: 0.6157 - accuracy: 0.6544 - val_loss: 0.6235 - val_accuracy: 0.6548\n",
      "\n",
      "Epoch 00003: saving model to ../../training_checkpoints\\sarcasm_pl_word2vec_own\\sarcasm_pl_word2vec_own\\cp-0003.ckpt\n",
      "Epoch 4/10\n",
      "716/716 [==============================] - 2s 2ms/step - loss: 0.6108 - accuracy: 0.6592 - val_loss: 0.6258 - val_accuracy: 0.6433\n",
      "\n",
      "Epoch 00004: saving model to ../../training_checkpoints\\sarcasm_pl_word2vec_own\\sarcasm_pl_word2vec_own\\cp-0004.ckpt\n",
      "Epoch 5/10\n",
      "716/716 [==============================] - 2s 2ms/step - loss: 0.6075 - accuracy: 0.6632 - val_loss: 0.6068 - val_accuracy: 0.6649\n",
      "\n",
      "Epoch 00005: saving model to ../../training_checkpoints\\sarcasm_pl_word2vec_own\\sarcasm_pl_word2vec_own\\cp-0005.ckpt\n",
      "Epoch 6/10\n",
      "716/716 [==============================] - 2s 2ms/step - loss: 0.6037 - accuracy: 0.6661 - val_loss: 0.6069 - val_accuracy: 0.6674\n",
      "\n",
      "Epoch 00006: saving model to ../../training_checkpoints\\sarcasm_pl_word2vec_own\\sarcasm_pl_word2vec_own\\cp-0006.ckpt\n",
      "Epoch 7/10\n",
      "716/716 [==============================] - 2s 2ms/step - loss: 0.6026 - accuracy: 0.6680 - val_loss: 0.6030 - val_accuracy: 0.6702\n",
      "\n",
      "Epoch 00007: saving model to ../../training_checkpoints\\sarcasm_pl_word2vec_own\\sarcasm_pl_word2vec_own\\cp-0007.ckpt\n",
      "Epoch 8/10\n",
      "716/716 [==============================] - 2s 2ms/step - loss: 0.5994 - accuracy: 0.6690 - val_loss: 0.6012 - val_accuracy: 0.6705\n",
      "\n",
      "Epoch 00008: saving model to ../../training_checkpoints\\sarcasm_pl_word2vec_own\\sarcasm_pl_word2vec_own\\cp-0008.ckpt\n",
      "Epoch 9/10\n",
      "716/716 [==============================] - 1s 2ms/step - loss: 0.5990 - accuracy: 0.6721 - val_loss: 0.6032 - val_accuracy: 0.6611\n",
      "\n",
      "Epoch 00009: saving model to ../../training_checkpoints\\sarcasm_pl_word2vec_own\\sarcasm_pl_word2vec_own\\cp-0009.ckpt\n",
      "Epoch 10/10\n",
      "716/716 [==============================] - 2s 2ms/step - loss: 0.5986 - accuracy: 0.6716 - val_loss: 0.6005 - val_accuracy: 0.6642\n",
      "\n",
      "Epoch 00010: saving model to ../../training_checkpoints\\sarcasm_pl_word2vec_own\\sarcasm_pl_word2vec_own\\cp-0010.ckpt\n"
     ]
    }
   ],
   "source": [
    "history = model.fit(x=X_train, y=Y_train, validation_data=(X_val, Y_val), epochs=10, batch_size=batch_size, callbacks=[checkpoint_cb, early_stop_cb])"
   ]
  },
  {
   "cell_type": "code",
   "execution_count": 22,
   "metadata": {
    "ExecuteTime": {
     "end_time": "2023-06-17T07:55:25.731957900Z",
     "start_time": "2023-06-17T07:55:25.313247300Z"
    }
   },
   "outputs": [
    {
     "data": {
      "text/plain": "<Figure size 640x480 with 1 Axes>",
      "image/png": "[encoded data removed]"
     },
     "metadata": {},
     "output_type": "display_data"
    },
    {
     "data": {
      "text/plain": "<Figure size 640x480 with 1 Axes>",
      "image/png": "[encoded data removed]"
     },
     "metadata": {},
     "output_type": "display_data"
    }
   ],
   "source": [
    "model_utils.plot_and_save_fig_from_history(history,\n",
    "                                           attributes=['accuracy', 'val_accuracy'],\n",
    "                                           title='Model accuracy',\n",
    "                                           y_label='Accuracy',\n",
    "                                           x_label='Epoch',\n",
    "                                           legend_descriptors=['Train', 'Val'],\n",
    "                                           figure_dir_path=figures_dir,\n",
    "                                           figure_filename=f\"{training_name}_accuracy.png\")\n",
    "\n",
    "model_utils.plot_and_save_fig_from_history(history,\n",
    "                                           attributes=['loss', 'val_loss'],\n",
    "                                           title='Model loss',\n",
    "                                           y_label='Loss',\n",
    "                                           x_label='Epoch',\n",
    "                                           legend_descriptors=['Train', 'Val'],\n",
    "                                           figure_dir_path=figures_dir,\n",
    "                                           figure_filename=f\"{training_name}_loss.png\")"
   ]
  },
  {
   "cell_type": "code",
   "execution_count": 23,
   "metadata": {
    "ExecuteTime": {
     "end_time": "2023-06-17T07:55:25.752981700Z",
     "start_time": "2023-06-17T07:55:25.725950200Z"
    }
   },
   "outputs": [],
   "source": [
    "best_model = model_utils.get_best_model_from_checkpoints(model, history,\n",
    "                                                         checkpoints_dir=checkpoints_dir,\n",
    "                                                         checkpoint_filename_template=checkpoint_filename_template)"
   ]
  },
  {
   "cell_type": "code",
   "execution_count": 24,
   "metadata": {
    "ExecuteTime": {
     "end_time": "2023-06-17T07:55:26.047264Z",
     "start_time": "2023-06-17T07:55:25.757504700Z"
    }
   },
   "outputs": [
    {
     "data": {
      "text/plain": "<Figure size 640x480 with 2 Axes>",
      "image/png": "[encoded data removed]"
     },
     "metadata": {},
     "output_type": "display_data"
    }
   ],
   "source": [
    "class_preds = model_utils.get_class_preds(best_model, X_test, model_returns_logits=False)\n",
    "model_utils. plot_and_save_conf_matrix(class_actual=Y_test,\n",
    "                                      class_preds=class_preds,\n",
    "                                      figure_dir_path=figures_dir,\n",
    "                                      figure_filename=f\"{training_name}_confmatrix.png\")"
   ]
  },
  {
   "cell_type": "code",
   "execution_count": 25,
   "metadata": {
    "ExecuteTime": {
     "end_time": "2023-06-17T07:55:26.239477500Z",
     "start_time": "2023-06-17T07:55:26.049263300Z"
    }
   },
   "outputs": [
    {
     "name": "stdout",
     "output_type": "stream",
     "text": [
      "90/90 [==============================] - 0s 2ms/step - loss: 0.6014 - accuracy: 0.6516\n"
     ]
    },
    {
     "data": {
      "text/plain": "[0.6013844609260559, 0.6516422033309937]"
     },
     "execution_count": 25,
     "metadata": {},
     "output_type": "execute_result"
    }
   ],
   "source": [
    "# Evaluation\n",
    "best_model.evaluate(X_test, Y_test, batch_size=batch_size)"
   ]
  },
  {
   "cell_type": "code",
   "execution_count": 26,
   "metadata": {
    "ExecuteTime": {
     "end_time": "2023-06-17T07:55:27.777846400Z",
     "start_time": "2023-06-17T07:55:26.242480800Z"
    }
   },
   "outputs": [
    {
     "name": "stdout",
     "output_type": "stream",
     "text": [
      "INFO:tensorflow:Assets written to: ../../trained_models\\sarcasm_pl_word2vec_own_1\\1\\assets\n"
     ]
    }
   ],
   "source": [
    "model_utils.save_model(best_model, model_name=model_name, training_number=training_number,\n",
    "                       saved_models_dir=constants.SAVED_MODEL_LOCATION,\n",
    "                       default_model_version=constants.DEFAULT_MODEL_VERSION)"
   ]
  }
 ],
 "metadata": {
  "kernelspec": {
   "display_name": "nlp",
   "language": "python",
   "name": "python3"
  },
  "language_info": {
   "codemirror_mode": {
    "name": "ipython",
    "version": 3
   },
   "file_extension": ".py",
   "mimetype": "text/x-python",
   "name": "python",
   "nbconvert_exporter": "python",
   "pygments_lexer": "ipython3",
   "version": "3.10.11"
  },
  "orig_nbformat": 4
 },
 "nbformat": 4,
 "nbformat_minor": 2
}
