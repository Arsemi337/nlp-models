{
 "cells": [
  {
   "cell_type": "code",
   "execution_count": 1,
   "metadata": {
    "ExecuteTime": {
     "end_time": "2023-06-19T16:46:46.394571Z",
     "start_time": "2023-06-19T16:46:42.012406500Z"
    }
   },
   "outputs": [],
   "source": [
    "import numpy as np\n",
    "import tensorflow as tf\n",
    "import string\n",
    "import pandas as pd\n",
    "import gensim\n",
    "from datasets import Dataset\n",
    "import spacy\n",
    "import core.model_utils as model_utils\n",
    "import core.constants as constants\n",
    "import matplotlib.pyplot as plt\n",
    "import os"
   ]
  },
  {
   "cell_type": "code",
   "execution_count": null,
   "outputs": [],
   "source": [
    "# Needs to be used to download spacy model for Polish\n",
    "# !python -m spacy download pl_core_news_sm"
   ],
   "metadata": {
    "collapsed": false
   }
  },
  {
   "cell_type": "code",
   "execution_count": null,
   "outputs": [],
   "source": [
    "# spacy_model = spacy.load(\"pl_core_news_sm\")\n",
    "#\n",
    "# # Stop words\n",
    "# stop_words = spacy_model.Defaults.stop_words.copy()\n",
    "# stop_words.remove(\"nie\")\n",
    "#\n",
    "# # Punctuation\n",
    "# punctuations = string.punctuation\n",
    "#\n",
    "#\n",
    "# # Tokenizer\n",
    "# def spacy_tokenizer(sentence):\n",
    "#     doc = spacy_model(sentence)\n",
    "#\n",
    "#     # Lemmatizing each token and converting each token into lowercase\n",
    "#     my_tokens = [ word.lemma_.lower().strip() for word in doc ]\n",
    "#\n",
    "#     # Removing stop words and punctuation\n",
    "#     my_tokens = [ word for word in my_tokens if word not in stop_words and word not in punctuations ]\n",
    "#     return my_tokens\n",
    "#\n",
    "#\n",
    "# df = pd.read_json('./../data/polish_translated/emotions/equalized_emotions_dataset_pl.json')\n",
    "# df = df.drop(columns=['text'])\n",
    "# df['tokens'] = df['text_pl'].apply(spacy_tokenizer)\n",
    "# df['joined_tokens'] = df['tokens'].apply(lambda tokens: ' '.join(tokens))\n",
    "# df.to_json('./../data/polish_translated/emotions/equalized_emotions_dataset_pl_with_tokens_no_diacritics.json')"
   ],
   "metadata": {
    "collapsed": false
   }
  },
  {
   "cell_type": "code",
   "execution_count": 2,
   "outputs": [
    {
     "data": {
      "text/plain": "       emotions                                            text_pl  \\\n0         anger                        Czuje sie calkowicie chciwy   \n1          fear                Czuje sie tak przytloczony emocjami   \n2      surprise  Nie czulem efektu sily g Jestem oszolomiony Po...   \n3         anger  ive just got to tell you all that I feel Racze...   \n4         anger  Powiedzialem ci, ze przepraszam, ze czujesz si...   \n...         ...                                                ...   \n39995       joy  czuje sie ostatnio dosc hojny, poniewaz pracuj...   \n39996      love  Czuje, ze niektore postacie nie zasluguja na w...   \n39997      fear  Czuje strach w moich kosciach, ktorego nie moz...   \n39998       joy  Czulem sie bardziej kreatywny i mniej jak czys...   \n39999   sadness          Czuje sie zdruzgotany i pomagam Hellipowi   \n\n                                                  tokens  \\\n0                            [czuje, calkowicie, chciwy]   \n1                           [czuje, przytloczyć, emocja]   \n2      [nie, czul, efekt, sily, g, oszolomić, poszedl...   \n3      [ive, just, got, tell, you, all, that, feel, r...   \n4      [powiedzial, przepraszać, czuć, sfrustrować, z...   \n...                                                  ...   \n39995  [czuć, ostatnio, hojny, pracować, znacznie, wi...   \n39996  [czuje, niektory, postać, nie, zaslugujać, wsp...   \n39997  [czuć, strach, koscio, nie, wytrzasnac, wymusz...   \n39998                [czul, kreatywny, czysty, redaktor]   \n39999               [czuje, zdruzgotać, pomagać, hellip]   \n\n                                           joined_tokens  \n0                                czuje calkowicie chciwy  \n1                               czuje przytloczyć emocja  \n2      nie czul efekt sily g oszolomić poszedl przeja...  \n3      ive just got tell you all that feel raczej nie...  \n4      powiedzial przepraszać czuć sfrustrować zapyta...  \n...                                                  ...  \n39995  czuć ostatnio hojny pracować znacznie wiecej z...  \n39996  czuje niektory postać nie zaslugujać wsparcie ...  \n39997  czuć strach koscio nie wytrzasnac wymuszć racj...  \n39998                     czul kreatywny czysty redaktor  \n39999                    czuje zdruzgotać pomagać hellip  \n\n[40000 rows x 4 columns]",
      "text/html": "<div>\n<style scoped>\n    .dataframe tbody tr th:only-of-type {\n        vertical-align: middle;\n    }\n\n    .dataframe tbody tr th {\n        vertical-align: top;\n    }\n\n    .dataframe thead th {\n        text-align: right;\n    }\n</style>\n<table border=\"1\" class=\"dataframe\">\n  <thead>\n    <tr style=\"text-align: right;\">\n      <th></th>\n      <th>emotions</th>\n      <th>text_pl</th>\n      <th>tokens</th>\n      <th>joined_tokens</th>\n    </tr>\n  </thead>\n  <tbody>\n    <tr>\n      <th>0</th>\n      <td>anger</td>\n      <td>Czuje sie calkowicie chciwy</td>\n      <td>[czuje, calkowicie, chciwy]</td>\n      <td>czuje calkowicie chciwy</td>\n    </tr>\n    <tr>\n      <th>1</th>\n      <td>fear</td>\n      <td>Czuje sie tak przytloczony emocjami</td>\n      <td>[czuje, przytloczyć, emocja]</td>\n      <td>czuje przytloczyć emocja</td>\n    </tr>\n    <tr>\n      <th>2</th>\n      <td>surprise</td>\n      <td>Nie czulem efektu sily g Jestem oszolomiony Po...</td>\n      <td>[nie, czul, efekt, sily, g, oszolomić, poszedl...</td>\n      <td>nie czul efekt sily g oszolomić poszedl przeja...</td>\n    </tr>\n    <tr>\n      <th>3</th>\n      <td>anger</td>\n      <td>ive just got to tell you all that I feel Racze...</td>\n      <td>[ive, just, got, tell, you, all, that, feel, r...</td>\n      <td>ive just got tell you all that feel raczej nie...</td>\n    </tr>\n    <tr>\n      <th>4</th>\n      <td>anger</td>\n      <td>Powiedzialem ci, ze przepraszam, ze czujesz si...</td>\n      <td>[powiedzial, przepraszać, czuć, sfrustrować, z...</td>\n      <td>powiedzial przepraszać czuć sfrustrować zapyta...</td>\n    </tr>\n    <tr>\n      <th>...</th>\n      <td>...</td>\n      <td>...</td>\n      <td>...</td>\n      <td>...</td>\n    </tr>\n    <tr>\n      <th>39995</th>\n      <td>joy</td>\n      <td>czuje sie ostatnio dosc hojny, poniewaz pracuj...</td>\n      <td>[czuć, ostatnio, hojny, pracować, znacznie, wi...</td>\n      <td>czuć ostatnio hojny pracować znacznie wiecej z...</td>\n    </tr>\n    <tr>\n      <th>39996</th>\n      <td>love</td>\n      <td>Czuje, ze niektore postacie nie zasluguja na w...</td>\n      <td>[czuje, niektory, postać, nie, zaslugujać, wsp...</td>\n      <td>czuje niektory postać nie zaslugujać wsparcie ...</td>\n    </tr>\n    <tr>\n      <th>39997</th>\n      <td>fear</td>\n      <td>Czuje strach w moich kosciach, ktorego nie moz...</td>\n      <td>[czuć, strach, koscio, nie, wytrzasnac, wymusz...</td>\n      <td>czuć strach koscio nie wytrzasnac wymuszć racj...</td>\n    </tr>\n    <tr>\n      <th>39998</th>\n      <td>joy</td>\n      <td>Czulem sie bardziej kreatywny i mniej jak czys...</td>\n      <td>[czul, kreatywny, czysty, redaktor]</td>\n      <td>czul kreatywny czysty redaktor</td>\n    </tr>\n    <tr>\n      <th>39999</th>\n      <td>sadness</td>\n      <td>Czuje sie zdruzgotany i pomagam Hellipowi</td>\n      <td>[czuje, zdruzgotać, pomagać, hellip]</td>\n      <td>czuje zdruzgotać pomagać hellip</td>\n    </tr>\n  </tbody>\n</table>\n<p>40000 rows × 4 columns</p>\n</div>"
     },
     "execution_count": 2,
     "metadata": {},
     "output_type": "execute_result"
    }
   ],
   "source": [
    "tokenized_sentences_df = pd.read_json(\n",
    "    './../data/polish_translated/emotions/equalized_emotions_dataset_pl_with_tokens_no_diacritics.json')\n",
    "tokenized_sentences_df"
   ],
   "metadata": {
    "collapsed": false,
    "ExecuteTime": {
     "end_time": "2023-06-19T16:46:46.565187100Z",
     "start_time": "2023-06-19T16:46:46.395571600Z"
    }
   }
  },
  {
   "cell_type": "code",
   "execution_count": 3,
   "metadata": {
    "ExecuteTime": {
     "end_time": "2023-06-19T16:46:46.654920200Z",
     "start_time": "2023-06-19T16:46:46.567187Z"
    }
   },
   "outputs": [],
   "source": [
    "ordered_class_labels = {\n",
    "    \"joy\": 0,\n",
    "    \"love\": 1,\n",
    "    \"surprise\": 2,\n",
    "    \"sadness\": 3,\n",
    "    \"anger\": 4,\n",
    "    \"fear\": 5,\n",
    "}\n",
    "\n",
    "tokenized_sentences_df = tokenized_sentences_df.replace({\"emotions\": ordered_class_labels})"
   ]
  },
  {
   "cell_type": "code",
   "execution_count": 4,
   "outputs": [
    {
     "data": {
      "text/plain": "Dataset({\n    features: ['emotions', 'text_pl', 'tokens', 'joined_tokens'],\n    num_rows: 40000\n})"
     },
     "execution_count": 4,
     "metadata": {},
     "output_type": "execute_result"
    }
   ],
   "source": [
    "full_dataset = Dataset.from_pandas(tokenized_sentences_df).remove_columns(\"__index_level_0__\")\n",
    "full_dataset"
   ],
   "metadata": {
    "collapsed": false,
    "ExecuteTime": {
     "end_time": "2023-06-19T16:46:46.679863600Z",
     "start_time": "2023-06-19T16:46:46.599238100Z"
    }
   }
  },
  {
   "cell_type": "code",
   "execution_count": 5,
   "outputs": [],
   "source": [
    "# Train set: 80%, Validation set: 10%, Test set: 10%\n",
    "train_dataset, val_dataset, test_dataset = model_utils.split_train_val_test(\n",
    "    full_dataset,\n",
    "    train_size=0.8,\n",
    "    test_size_of_val_test_batch=0.5,\n",
    "    shuffle=True,\n",
    "    seed=42)"
   ],
   "metadata": {
    "collapsed": false,
    "ExecuteTime": {
     "end_time": "2023-06-19T16:46:48.839870100Z",
     "start_time": "2023-06-19T16:46:48.808362300Z"
    }
   }
  },
  {
   "cell_type": "code",
   "execution_count": 6,
   "outputs": [
    {
     "data": {
      "text/plain": "(2557327, 2940330)"
     },
     "execution_count": 6,
     "metadata": {},
     "output_type": "execute_result"
    }
   ],
   "source": [
    "# Word2Vec\n",
    "tokenized_sentences = train_dataset['tokens']\n",
    "w2v_model = gensim.models.Word2Vec(sentences=tokenized_sentences, vector_size=100, window=6, min_count=1)\n",
    "w2v_model.train(tokenized_sentences, epochs=10, total_examples=len(tokenized_sentences))"
   ],
   "metadata": {
    "collapsed": false,
    "ExecuteTime": {
     "end_time": "2023-06-19T16:46:55.346569200Z",
     "start_time": "2023-06-19T16:46:52.535602700Z"
    }
   }
  },
  {
   "cell_type": "code",
   "execution_count": 7,
   "outputs": [],
   "source": [
    "def tokens_to_vector(tokens):\n",
    "    vector_size = w2v_model.vector_size\n",
    "    wv_res = np.zeros(vector_size)\n",
    "    ctr = 1\n",
    "    for w in tokens:\n",
    "        if w in w2v_model.wv:\n",
    "            ctr += 1\n",
    "            wv_res += w2v_model.wv[w]\n",
    "    wv_res = wv_res / ctr\n",
    "    return wv_res"
   ],
   "metadata": {
    "collapsed": false,
    "ExecuteTime": {
     "end_time": "2023-06-19T16:47:14.574509300Z",
     "start_time": "2023-06-19T16:47:14.555446Z"
    }
   }
  },
  {
   "cell_type": "code",
   "execution_count": 8,
   "outputs": [
    {
     "data": {
      "text/plain": "Map:   0%|          | 0/32000 [00:00<?, ? examples/s]",
      "application/vnd.jupyter.widget-view+json": {
       "version_major": 2,
       "version_minor": 0,
       "model_id": "bb128a6bcda1482e83dd664b2b050b6f"
      }
     },
     "metadata": {},
     "output_type": "display_data"
    },
    {
     "data": {
      "text/plain": "Map:   0%|          | 0/4000 [00:00<?, ? examples/s]",
      "application/vnd.jupyter.widget-view+json": {
       "version_major": 2,
       "version_minor": 0,
       "model_id": "bdd4b85000a24311b4840002f0e5f15e"
      }
     },
     "metadata": {},
     "output_type": "display_data"
    },
    {
     "data": {
      "text/plain": "Map:   0%|          | 0/4000 [00:00<?, ? examples/s]",
      "application/vnd.jupyter.widget-view+json": {
       "version_major": 2,
       "version_minor": 0,
       "model_id": "fdf5f7ea8ad44619aa085473a85c37aa"
      }
     },
     "metadata": {},
     "output_type": "display_data"
    }
   ],
   "source": [
    "def tokenize_for_word2vec(sample):\n",
    "    sample['embeddings'] = [tokens_to_vector(tokens) for tokens in sample['tokens']]\n",
    "    return sample\n",
    "\n",
    "\n",
    "train_dataset = train_dataset.map(tokenize_for_word2vec, batched=True)\n",
    "val_dataset = val_dataset.map(tokenize_for_word2vec, batched=True)\n",
    "test_dataset = test_dataset.map(tokenize_for_word2vec, batched=True)"
   ],
   "metadata": {
    "collapsed": false,
    "ExecuteTime": {
     "end_time": "2023-06-19T16:47:18.991350600Z",
     "start_time": "2023-06-19T16:47:15.838708900Z"
    }
   }
  },
  {
   "cell_type": "code",
   "execution_count": 9,
   "outputs": [
    {
     "name": "stderr",
     "output_type": "stream",
     "text": [
      "C:\\Users\\Karol\\anaconda3\\envs\\ml-tf2gpu\\lib\\site-packages\\datasets\\arrow_dataset.py:388: FutureWarning: The output of `to_tf_dataset` will change when a passing single element list for `labels` or `columns` in the next datasets version. To return a tuple structure rather than dict, pass a single string.\n",
      "Old behaviour: columns=['a'], labels=['labels'] -> (tf.Tensor, tf.Tensor)  \n",
      "             : columns='a', labels='labels' -> (tf.Tensor, tf.Tensor)  \n",
      "New behaviour: columns=['a'],labels=['labels'] -> ({'a': tf.Tensor}, {'labels': tf.Tensor})  \n",
      "             : columns='a', labels='labels' -> (tf.Tensor, tf.Tensor) \n",
      "  warnings.warn(\n"
     ]
    }
   ],
   "source": [
    "columns = [\"embeddings\"]\n",
    "label_cols = [\"emotions\"]\n",
    "batch_size = 16\n",
    "\n",
    "tf_train_dataset = model_utils.convert_to_tf_dataset(train_dataset, columns, label_cols, None, batch_size)\n",
    "tf_val_dataset = model_utils.convert_to_tf_dataset(val_dataset, columns, label_cols, None, batch_size)\n",
    "tf_test_dataset = model_utils.convert_to_tf_dataset(test_dataset, columns, label_cols, None, batch_size)"
   ],
   "metadata": {
    "collapsed": false,
    "ExecuteTime": {
     "end_time": "2023-06-19T16:47:23.757344800Z",
     "start_time": "2023-06-19T16:47:18.994351Z"
    }
   }
  },
  {
   "cell_type": "code",
   "execution_count": 15,
   "metadata": {
    "ExecuteTime": {
     "end_time": "2023-06-19T16:50:14.774024300Z",
     "start_time": "2023-06-19T16:50:14.758992900Z"
    }
   },
   "outputs": [],
   "source": [
    "model = tf.keras.models.Sequential()\n",
    "model.add(tf.keras.layers.Flatten())\n",
    "model.add(tf.keras.layers.Dense(128, activation='relu'))\n",
    "model.add(tf.keras.layers.Dense(64, activation='relu'))\n",
    "model.add(tf.keras.layers.Dense(16, activation='relu'))\n",
    "model.add(tf.keras.layers.Dense(6, activation='sigmoid'))"
   ]
  },
  {
   "cell_type": "code",
   "execution_count": 16,
   "outputs": [],
   "source": [
    "model.compile(optimizer=\"adam\", loss=tf.keras.losses.SparseCategoricalCrossentropy(), metrics=[\"accuracy\"])"
   ],
   "metadata": {
    "collapsed": false,
    "ExecuteTime": {
     "end_time": "2023-06-19T16:50:15.146772700Z",
     "start_time": "2023-06-19T16:50:15.132261700Z"
    }
   }
  },
  {
   "cell_type": "code",
   "execution_count": 17,
   "outputs": [],
   "source": [
    "# Model parameters\n",
    "training_number = 1\n",
    "model_name = 'emotions_pl_word2vec_sentence_own_no_diacritics'\n",
    "training_name = f\"training_{training_number}\"\n",
    "figures_dir = f\"./../documentation/models/{model_name}/figures\"\n",
    "checkpoint_filename_template = \"cp-{epoch:04d}.ckpt\"\n",
    "checkpoints_dir = os.path.join(constants.TRAINING_CHECKPOINTS_PATH, model_name, training_name)\n",
    "checkpoint_path = os.path.join(checkpoints_dir, checkpoint_filename_template)"
   ],
   "metadata": {
    "collapsed": false,
    "ExecuteTime": {
     "end_time": "2023-06-19T16:50:15.962822900Z",
     "start_time": "2023-06-19T16:50:15.954301800Z"
    }
   }
  },
  {
   "cell_type": "code",
   "execution_count": 18,
   "outputs": [],
   "source": [
    "# Callbacks\n",
    "checkpoint_cb = tf.keras.callbacks.ModelCheckpoint(checkpoint_path, verbose=1, save_weights_only=True)\n",
    "early_stop_cb = tf.keras.callbacks.EarlyStopping(patience=3)\n",
    "callbacks = [checkpoint_cb, early_stop_cb]"
   ],
   "metadata": {
    "collapsed": false,
    "ExecuteTime": {
     "end_time": "2023-06-19T16:50:17.044617Z",
     "start_time": "2023-06-19T16:50:17.023592300Z"
    }
   }
  },
  {
   "cell_type": "code",
   "execution_count": 19,
   "outputs": [
    {
     "name": "stdout",
     "output_type": "stream",
     "text": [
      "Epoch 1/50\n",
      "2000/2000 [==============================] - 4s 2ms/step - loss: 1.5896 - accuracy: 0.3305 - val_loss: 1.5411 - val_accuracy: 0.3623\n",
      "\n",
      "Epoch 00001: saving model to ./../training_checkpoints\\emotions_pl_word2vec_sentence_own_no_diacritics\\training_1\\cp-0001.ckpt\n",
      "Epoch 2/50\n",
      "2000/2000 [==============================] - 4s 2ms/step - loss: 1.5022 - accuracy: 0.3793 - val_loss: 1.5032 - val_accuracy: 0.3812\n",
      "\n",
      "Epoch 00002: saving model to ./../training_checkpoints\\emotions_pl_word2vec_sentence_own_no_diacritics\\training_1\\cp-0002.ckpt\n",
      "Epoch 3/50\n",
      "2000/2000 [==============================] - 4s 2ms/step - loss: 1.4697 - accuracy: 0.3958 - val_loss: 1.4842 - val_accuracy: 0.3902\n",
      "\n",
      "Epoch 00003: saving model to ./../training_checkpoints\\emotions_pl_word2vec_sentence_own_no_diacritics\\training_1\\cp-0003.ckpt\n",
      "Epoch 4/50\n",
      "2000/2000 [==============================] - 4s 2ms/step - loss: 1.4456 - accuracy: 0.4103 - val_loss: 1.4596 - val_accuracy: 0.4022\n",
      "\n",
      "Epoch 00004: saving model to ./../training_checkpoints\\emotions_pl_word2vec_sentence_own_no_diacritics\\training_1\\cp-0004.ckpt\n",
      "Epoch 5/50\n",
      "2000/2000 [==============================] - 4s 2ms/step - loss: 1.4244 - accuracy: 0.4180 - val_loss: 1.4544 - val_accuracy: 0.4120\n",
      "\n",
      "Epoch 00005: saving model to ./../training_checkpoints\\emotions_pl_word2vec_sentence_own_no_diacritics\\training_1\\cp-0005.ckpt\n",
      "Epoch 6/50\n",
      "2000/2000 [==============================] - 4s 2ms/step - loss: 1.4072 - accuracy: 0.4252 - val_loss: 1.4451 - val_accuracy: 0.4150\n",
      "\n",
      "Epoch 00006: saving model to ./../training_checkpoints\\emotions_pl_word2vec_sentence_own_no_diacritics\\training_1\\cp-0006.ckpt\n",
      "Epoch 7/50\n",
      "2000/2000 [==============================] - 4s 2ms/step - loss: 1.3918 - accuracy: 0.4346 - val_loss: 1.4380 - val_accuracy: 0.4137\n",
      "\n",
      "Epoch 00007: saving model to ./../training_checkpoints\\emotions_pl_word2vec_sentence_own_no_diacritics\\training_1\\cp-0007.ckpt\n",
      "Epoch 8/50\n",
      "2000/2000 [==============================] - 4s 2ms/step - loss: 1.3787 - accuracy: 0.4403 - val_loss: 1.4363 - val_accuracy: 0.4115\n",
      "\n",
      "Epoch 00008: saving model to ./../training_checkpoints\\emotions_pl_word2vec_sentence_own_no_diacritics\\training_1\\cp-0008.ckpt\n",
      "Epoch 9/50\n",
      "2000/2000 [==============================] - 4s 2ms/step - loss: 1.3670 - accuracy: 0.4477 - val_loss: 1.4225 - val_accuracy: 0.4185\n",
      "\n",
      "Epoch 00009: saving model to ./../training_checkpoints\\emotions_pl_word2vec_sentence_own_no_diacritics\\training_1\\cp-0009.ckpt\n",
      "Epoch 10/50\n",
      "2000/2000 [==============================] - 5s 2ms/step - loss: 1.3563 - accuracy: 0.4515 - val_loss: 1.4297 - val_accuracy: 0.4225\n",
      "\n",
      "Epoch 00010: saving model to ./../training_checkpoints\\emotions_pl_word2vec_sentence_own_no_diacritics\\training_1\\cp-0010.ckpt\n",
      "Epoch 11/50\n",
      "2000/2000 [==============================] - 4s 2ms/step - loss: 1.3462 - accuracy: 0.4558 - val_loss: 1.4258 - val_accuracy: 0.4232\n",
      "\n",
      "Epoch 00011: saving model to ./../training_checkpoints\\emotions_pl_word2vec_sentence_own_no_diacritics\\training_1\\cp-0011.ckpt\n",
      "Epoch 12/50\n",
      "2000/2000 [==============================] - 4s 2ms/step - loss: 1.3376 - accuracy: 0.4599 - val_loss: 1.4201 - val_accuracy: 0.4212\n",
      "\n",
      "Epoch 00012: saving model to ./../training_checkpoints\\emotions_pl_word2vec_sentence_own_no_diacritics\\training_1\\cp-0012.ckpt\n",
      "Epoch 13/50\n",
      "2000/2000 [==============================] - 4s 2ms/step - loss: 1.3289 - accuracy: 0.4615 - val_loss: 1.4250 - val_accuracy: 0.4223\n",
      "\n",
      "Epoch 00013: saving model to ./../training_checkpoints\\emotions_pl_word2vec_sentence_own_no_diacritics\\training_1\\cp-0013.ckpt\n",
      "Epoch 14/50\n",
      "2000/2000 [==============================] - 4s 2ms/step - loss: 1.3201 - accuracy: 0.4663 - val_loss: 1.4167 - val_accuracy: 0.4270\n",
      "\n",
      "Epoch 00014: saving model to ./../training_checkpoints\\emotions_pl_word2vec_sentence_own_no_diacritics\\training_1\\cp-0014.ckpt\n",
      "Epoch 15/50\n",
      "2000/2000 [==============================] - 4s 2ms/step - loss: 1.3139 - accuracy: 0.4682 - val_loss: 1.4130 - val_accuracy: 0.4250\n",
      "\n",
      "Epoch 00015: saving model to ./../training_checkpoints\\emotions_pl_word2vec_sentence_own_no_diacritics\\training_1\\cp-0015.ckpt\n",
      "Epoch 16/50\n",
      "2000/2000 [==============================] - 4s 2ms/step - loss: 1.3059 - accuracy: 0.4735 - val_loss: 1.4194 - val_accuracy: 0.4263\n",
      "\n",
      "Epoch 00016: saving model to ./../training_checkpoints\\emotions_pl_word2vec_sentence_own_no_diacritics\\training_1\\cp-0016.ckpt\n",
      "Epoch 17/50\n",
      "2000/2000 [==============================] - 4s 2ms/step - loss: 1.2975 - accuracy: 0.4767 - val_loss: 1.4221 - val_accuracy: 0.4327\n",
      "\n",
      "Epoch 00017: saving model to ./../training_checkpoints\\emotions_pl_word2vec_sentence_own_no_diacritics\\training_1\\cp-0017.ckpt\n",
      "Epoch 18/50\n",
      "2000/2000 [==============================] - 4s 2ms/step - loss: 1.2913 - accuracy: 0.4823 - val_loss: 1.4168 - val_accuracy: 0.4325\n",
      "\n",
      "Epoch 00018: saving model to ./../training_checkpoints\\emotions_pl_word2vec_sentence_own_no_diacritics\\training_1\\cp-0018.ckpt\n"
     ]
    }
   ],
   "source": [
    "history = model.fit(tf_train_dataset, validation_data=tf_val_dataset, epochs=50,\n",
    "                    callbacks=[checkpoint_cb, early_stop_cb])"
   ],
   "metadata": {
    "collapsed": false,
    "ExecuteTime": {
     "end_time": "2023-06-19T16:51:35.545771900Z",
     "start_time": "2023-06-19T16:50:19.959520200Z"
    }
   }
  },
  {
   "cell_type": "code",
   "execution_count": 20,
   "outputs": [
    {
     "data": {
      "text/plain": "<Figure size 640x480 with 1 Axes>",
      "image/png": "[encoded data removed]"
     },
     "metadata": {},
     "output_type": "display_data"
    },
    {
     "data": {
      "text/plain": "<Figure size 640x480 with 1 Axes>",
      "image/png": "[encoded data removed]"
     },
     "metadata": {},
     "output_type": "display_data"
    }
   ],
   "source": [
    "model_utils.plot_and_save_fig_from_history(history,\n",
    "                                           attributes=['accuracy', 'val_accuracy'],\n",
    "                                           title='Model accuracy',\n",
    "                                           y_label='Accuracy',\n",
    "                                           x_label='Epoch',\n",
    "                                           legend_descriptors=['Train', 'Val'],\n",
    "                                           figure_dir_path=figures_dir,\n",
    "                                           figure_filename=f\"{training_name}_accuracy.png\")\n",
    "\n",
    "model_utils.plot_and_save_fig_from_history(history,\n",
    "                                           attributes=['loss', 'val_loss'],\n",
    "                                           title='Model loss',\n",
    "                                           y_label='Loss',\n",
    "                                           x_label='Epoch',\n",
    "                                           legend_descriptors=['Train', 'Val'],\n",
    "                                           figure_dir_path=figures_dir,\n",
    "                                           figure_filename=f\"{training_name}_loss.png\")"
   ],
   "metadata": {
    "collapsed": false,
    "ExecuteTime": {
     "end_time": "2023-06-19T16:51:35.904333100Z",
     "start_time": "2023-06-19T16:51:35.548772100Z"
    }
   }
  },
  {
   "cell_type": "code",
   "execution_count": 21,
   "outputs": [],
   "source": [
    "best_model = model_utils.get_best_model_from_checkpoints(model, history,\n",
    "                                                         checkpoints_dir=checkpoints_dir,\n",
    "                                                         checkpoint_filename_template=checkpoint_filename_template)"
   ],
   "metadata": {
    "collapsed": false,
    "ExecuteTime": {
     "end_time": "2023-06-19T16:51:35.972735200Z",
     "start_time": "2023-06-19T16:51:35.908857800Z"
    }
   }
  },
  {
   "cell_type": "code",
   "execution_count": 22,
   "outputs": [
    {
     "name": "stdout",
     "output_type": "stream",
     "text": [
      "INFO:tensorflow:Assets written to: ./../trained_models\\emotions_pl_word2vec_sentence_own_no_diacritics_1\\1\\assets\n"
     ]
    }
   ],
   "source": [
    "model_utils.save_model(best_model, model_name=model_name, training_number=training_number, saved_models_dir=constants.SAVED_MODEL_LOCATION, default_model_version=constants.DEFAULT_MODEL_VERSION)"
   ],
   "metadata": {
    "collapsed": false,
    "ExecuteTime": {
     "end_time": "2023-06-19T16:51:36.638597Z",
     "start_time": "2023-06-19T16:51:35.939194200Z"
    }
   }
  },
  {
   "cell_type": "code",
   "execution_count": 23,
   "outputs": [],
   "source": [
    "w2v_model.save(f\"./word2vec/{model_name}_{training_number}.model\")"
   ],
   "metadata": {
    "collapsed": false,
    "ExecuteTime": {
     "end_time": "2023-06-19T16:51:36.699627400Z",
     "start_time": "2023-06-19T16:51:36.638597Z"
    }
   }
  },
  {
   "cell_type": "code",
   "execution_count": 24,
   "outputs": [
    {
     "name": "stdout",
     "output_type": "stream",
     "text": [
      "250/250 [==============================] - 0s 2ms/step - loss: 1.4023 - accuracy: 0.4372\n"
     ]
    },
    {
     "data": {
      "text/plain": "[1.4023326635360718, 0.4372499883174896]"
     },
     "execution_count": 24,
     "metadata": {},
     "output_type": "execute_result"
    }
   ],
   "source": [
    "# Evaluation\n",
    "best_model.evaluate(tf_test_dataset, batch_size=batch_size)"
   ],
   "metadata": {
    "collapsed": false,
    "ExecuteTime": {
     "end_time": "2023-06-19T16:51:37.243393400Z",
     "start_time": "2023-06-19T16:51:36.701628100Z"
    }
   }
  },
  {
   "cell_type": "code",
   "execution_count": 25,
   "outputs": [],
   "source": [
    "class_preds = model_utils.get_class_preds(best_model, tf_test_dataset, model_returns_logits=False)"
   ],
   "metadata": {
    "collapsed": false,
    "ExecuteTime": {
     "end_time": "2023-06-19T16:51:37.480441700Z",
     "start_time": "2023-06-19T16:51:37.215858300Z"
    }
   }
  },
  {
   "cell_type": "code",
   "execution_count": 26,
   "outputs": [
    {
     "name": "stdout",
     "output_type": "stream",
     "text": [
      "Precision score:  0.43725\n",
      "Recall score:  0.43725\n",
      "F1 score:  0.43725\n"
     ]
    }
   ],
   "source": [
    "precision, recall, f1 = model_utils.get_classification_evaluation_metrics(\n",
    "    class_actual=test_dataset['emotions'],\n",
    "    class_preds=class_preds,\n",
    "    average='micro'\n",
    ")\n",
    "\n",
    "print(f\"Precision score: \", precision)\n",
    "print(f\"Recall score: \", recall)\n",
    "print(f\"F1 score: \", f1)"
   ],
   "metadata": {
    "collapsed": false,
    "ExecuteTime": {
     "end_time": "2023-06-19T16:51:37.496960200Z",
     "start_time": "2023-06-19T16:51:37.480441700Z"
    }
   }
  },
  {
   "cell_type": "code",
   "execution_count": 27,
   "outputs": [
    {
     "data": {
      "text/plain": "<Figure size 640x480 with 2 Axes>",
      "image/png": "[encoded data removed]"
     },
     "metadata": {},
     "output_type": "display_data"
    }
   ],
   "source": [
    "model_utils.plot_and_save_conf_matrix(class_actual=test_dataset['emotions'],\n",
    "                                      class_preds=class_preds,\n",
    "                                      figure_dir_path=figures_dir,\n",
    "                                      figure_filename=f\"{training_name}_confmatrix.png\")"
   ],
   "metadata": {
    "collapsed": false,
    "ExecuteTime": {
     "end_time": "2023-06-19T16:51:37.697518500Z",
     "start_time": "2023-06-19T16:51:37.494962Z"
    }
   }
  },
  {
   "cell_type": "code",
   "execution_count": 28,
   "outputs": [
    {
     "name": "stdout",
     "output_type": "stream",
     "text": [
      "\n",
      "            BAD PREDICTION:\n",
      "            - INDEX: 2\n",
      "            - TEXT: Ostatnio czuje sie dosc nostalgicznie, ale to mile uczucie i lubie patrzec wstecz na te wspomnienia\n",
      "            - PREDICTED VALUE: 0\n",
      "            - CORRECT VALUE: 1\n",
      "            \n",
      "\n",
      "            BAD PREDICTION:\n",
      "            - INDEX: 6\n",
      "            - TEXT: Nie wiem, jak kilka zdan moze sprawic, ze ludzie, ktorzy je czytaja, natychmiast wiedza, co naprawde mysle lub czuje, a nikt nie zadal sobie trudu, aby zapytac mnie w twarz.\n",
      "            - PREDICTED VALUE: 1\n",
      "            - CORRECT VALUE: 4\n",
      "            \n",
      "\n",
      "            BAD PREDICTION:\n",
      "            - INDEX: 10\n",
      "            - TEXT: Nie chce listopada daleko lub probuje zapomniec o Swieto Dziekczynienia, ale musze byc swiadomy tego, co naprawde sie liczy, gdy czuje sie przytloczony\n",
      "            - PREDICTED VALUE: 4\n",
      "            - CORRECT VALUE: 5\n",
      "            \n",
      "\n",
      "            BAD PREDICTION:\n",
      "            - INDEX: 15\n",
      "            - TEXT: placze duzo, a potem czuje sie zniesmaczony soba za marnowanie duzo dobrego makijazu na niedobrego przegranego\n",
      "            - PREDICTED VALUE: 3\n",
      "            - CORRECT VALUE: 4\n",
      "            \n",
      "\n",
      "            BAD PREDICTION:\n",
      "            - INDEX: 16\n",
      "            - TEXT: Czuje sie bardziej chetnie, aby powiedziec czesc przypadkowym ludziom\n",
      "            - PREDICTED VALUE: 4\n",
      "            - CORRECT VALUE: 0\n",
      "            \n",
      "\n",
      "            BAD PREDICTION:\n",
      "            - INDEX: 17\n",
      "            - TEXT: Mam ochote na goracy napoj\n",
      "            - PREDICTED VALUE: 0\n",
      "            - CORRECT VALUE: 1\n",
      "            \n",
      "\n",
      "            BAD PREDICTION:\n",
      "            - INDEX: 18\n",
      "            - TEXT: Czuje sie naprawde niepewny wszystkich wyborow tkaniny dla tej koldry, wiec po prostu przygotowuje kilka blokow na raz, aby zobaczyc, jak ida\n",
      "            - PREDICTED VALUE: 2\n",
      "            - CORRECT VALUE: 5\n",
      "            \n",
      "\n",
      "            BAD PREDICTION:\n",
      "            - INDEX: 19\n",
      "            - TEXT: Czuje radosc z powodu tego, jak poznalem twoja matke konczaca sie szerokoscia wysokosci src wp zawartosc przesyla neil Patrick Harris i oplata x\n",
      "            - PREDICTED VALUE: 3\n",
      "            - CORRECT VALUE: 0\n",
      "            \n",
      "\n",
      "            BAD PREDICTION:\n",
      "            - INDEX: 20\n",
      "            - TEXT: Chcialbym nie czuc sie tak, ale czuje i nie wiem, co to jest czuje to jest dziwne dla mnie jest to, co kocham czuje\n",
      "            - PREDICTED VALUE: 1\n",
      "            - CORRECT VALUE: 5\n",
      "            \n",
      "\n",
      "            BAD PREDICTION:\n",
      "            - INDEX: 23\n",
      "            - TEXT: Nigdy nie wstrzasnelam uczuciem dzikiej opiekunczosci, ktore mialam, gdy po raz pierwszy zostalam matka.\n",
      "            - PREDICTED VALUE: 1\n",
      "            - CORRECT VALUE: 4\n",
      "            \n"
     ]
    }
   ],
   "source": [
    "model_utils.print_incorrectly_predicted_texts(texts=test_dataset['text_pl'],\n",
    "                                              class_actual=test_dataset['emotions'],\n",
    "                                              class_preds=class_preds)"
   ],
   "metadata": {
    "collapsed": false,
    "ExecuteTime": {
     "end_time": "2023-06-19T16:51:37.712856600Z",
     "start_time": "2023-06-19T16:51:37.699849500Z"
    }
   }
  },
  {
   "cell_type": "code",
   "execution_count": 29,
   "outputs": [
    {
     "data": {
      "text/plain": "                                                text_pl  emotions  prediction\n0     Mysle, ze to prawdopodobnie dobry pomysl, wcia...         5           2\n1     Wciaz czuje, ze wciaz boje sie tego uczucia i ...         5           5\n2     Ostatnio czuje sie dosc nostalgicznie, ale to ...         1           0\n3     Jestem pod wrazeniem, ze udalo mi sie wyciagna...         2           2\n4     Nie sadze, ze wymienilem choc jeden usmiech z ...         2           2\n...                                                 ...       ...         ...\n3995          Czuje sie wspaniale zrelaksowany w wyniku         0           0\n3996  Czuje sie zrzedliwy teraz fani futbolu obudzil...         4           4\n3997  sa zwiazani z tym, co robia, pomimo tego, jak ...         0           0\n3998  Czuje i bedziesz zaskoczony zmianami, ktore na...         2           2\n3999  Czuje sie wsciekly na siebie za zdobycie ponad...         4           4\n\n[4000 rows x 3 columns]",
      "text/html": "<div>\n<style scoped>\n    .dataframe tbody tr th:only-of-type {\n        vertical-align: middle;\n    }\n\n    .dataframe tbody tr th {\n        vertical-align: top;\n    }\n\n    .dataframe thead th {\n        text-align: right;\n    }\n</style>\n<table border=\"1\" class=\"dataframe\">\n  <thead>\n    <tr style=\"text-align: right;\">\n      <th></th>\n      <th>text_pl</th>\n      <th>emotions</th>\n      <th>prediction</th>\n    </tr>\n  </thead>\n  <tbody>\n    <tr>\n      <th>0</th>\n      <td>Mysle, ze to prawdopodobnie dobry pomysl, wcia...</td>\n      <td>5</td>\n      <td>2</td>\n    </tr>\n    <tr>\n      <th>1</th>\n      <td>Wciaz czuje, ze wciaz boje sie tego uczucia i ...</td>\n      <td>5</td>\n      <td>5</td>\n    </tr>\n    <tr>\n      <th>2</th>\n      <td>Ostatnio czuje sie dosc nostalgicznie, ale to ...</td>\n      <td>1</td>\n      <td>0</td>\n    </tr>\n    <tr>\n      <th>3</th>\n      <td>Jestem pod wrazeniem, ze udalo mi sie wyciagna...</td>\n      <td>2</td>\n      <td>2</td>\n    </tr>\n    <tr>\n      <th>4</th>\n      <td>Nie sadze, ze wymienilem choc jeden usmiech z ...</td>\n      <td>2</td>\n      <td>2</td>\n    </tr>\n    <tr>\n      <th>...</th>\n      <td>...</td>\n      <td>...</td>\n      <td>...</td>\n    </tr>\n    <tr>\n      <th>3995</th>\n      <td>Czuje sie wspaniale zrelaksowany w wyniku</td>\n      <td>0</td>\n      <td>0</td>\n    </tr>\n    <tr>\n      <th>3996</th>\n      <td>Czuje sie zrzedliwy teraz fani futbolu obudzil...</td>\n      <td>4</td>\n      <td>4</td>\n    </tr>\n    <tr>\n      <th>3997</th>\n      <td>sa zwiazani z tym, co robia, pomimo tego, jak ...</td>\n      <td>0</td>\n      <td>0</td>\n    </tr>\n    <tr>\n      <th>3998</th>\n      <td>Czuje i bedziesz zaskoczony zmianami, ktore na...</td>\n      <td>2</td>\n      <td>2</td>\n    </tr>\n    <tr>\n      <th>3999</th>\n      <td>Czuje sie wsciekly na siebie za zdobycie ponad...</td>\n      <td>4</td>\n      <td>4</td>\n    </tr>\n  </tbody>\n</table>\n<p>4000 rows × 3 columns</p>\n</div>"
     },
     "execution_count": 29,
     "metadata": {},
     "output_type": "execute_result"
    }
   ],
   "source": [
    "test_df = pd.DataFrame(\n",
    "    list(zip(test_dataset['text_pl'], test_dataset['emotions'], class_preds)),\n",
    "    columns=['text_pl', 'emotions', 'prediction'])\n",
    "test_df"
   ],
   "metadata": {
    "collapsed": false,
    "ExecuteTime": {
     "end_time": "2023-06-19T16:51:37.775662600Z",
     "start_time": "2023-06-19T16:51:37.712856600Z"
    }
   }
  },
  {
   "cell_type": "code",
   "execution_count": 30,
   "outputs": [
    {
     "data": {
      "text/plain": "                                                text_pl  emotions  prediction  \\\n0     Mysle, ze to prawdopodobnie dobry pomysl, wcia...         5           2   \n1     Wciaz czuje, ze wciaz boje sie tego uczucia i ...         5           5   \n2     Ostatnio czuje sie dosc nostalgicznie, ale to ...         1           0   \n3     Jestem pod wrazeniem, ze udalo mi sie wyciagna...         2           2   \n4     Nie sadze, ze wymienilem choc jeden usmiech z ...         2           2   \n...                                                 ...       ...         ...   \n3995          Czuje sie wspaniale zrelaksowany w wyniku         0           0   \n3996  Czuje sie zrzedliwy teraz fani futbolu obudzil...         4           4   \n3997  sa zwiazani z tym, co robia, pomimo tego, jak ...         0           0   \n3998  Czuje i bedziesz zaskoczony zmianami, ktore na...         2           2   \n3999  Czuje sie wsciekly na siebie za zdobycie ponad...         4           4   \n\n      token_count count_belonging  correctly_predicted  \n0              13           12-17                    0  \n1              21           18-23                    1  \n2              16           12-17                    0  \n3              11            6-11                    1  \n4              17           12-17                    1  \n...           ...             ...                  ...  \n3995            6            6-11                    1  \n3996           12           12-17                    1  \n3997           22           18-23                    1  \n3998            9            6-11                    1  \n3999           15           12-17                    1  \n\n[4000 rows x 6 columns]",
      "text/html": "<div>\n<style scoped>\n    .dataframe tbody tr th:only-of-type {\n        vertical-align: middle;\n    }\n\n    .dataframe tbody tr th {\n        vertical-align: top;\n    }\n\n    .dataframe thead th {\n        text-align: right;\n    }\n</style>\n<table border=\"1\" class=\"dataframe\">\n  <thead>\n    <tr style=\"text-align: right;\">\n      <th></th>\n      <th>text_pl</th>\n      <th>emotions</th>\n      <th>prediction</th>\n      <th>token_count</th>\n      <th>count_belonging</th>\n      <th>correctly_predicted</th>\n    </tr>\n  </thead>\n  <tbody>\n    <tr>\n      <th>0</th>\n      <td>Mysle, ze to prawdopodobnie dobry pomysl, wcia...</td>\n      <td>5</td>\n      <td>2</td>\n      <td>13</td>\n      <td>12-17</td>\n      <td>0</td>\n    </tr>\n    <tr>\n      <th>1</th>\n      <td>Wciaz czuje, ze wciaz boje sie tego uczucia i ...</td>\n      <td>5</td>\n      <td>5</td>\n      <td>21</td>\n      <td>18-23</td>\n      <td>1</td>\n    </tr>\n    <tr>\n      <th>2</th>\n      <td>Ostatnio czuje sie dosc nostalgicznie, ale to ...</td>\n      <td>1</td>\n      <td>0</td>\n      <td>16</td>\n      <td>12-17</td>\n      <td>0</td>\n    </tr>\n    <tr>\n      <th>3</th>\n      <td>Jestem pod wrazeniem, ze udalo mi sie wyciagna...</td>\n      <td>2</td>\n      <td>2</td>\n      <td>11</td>\n      <td>6-11</td>\n      <td>1</td>\n    </tr>\n    <tr>\n      <th>4</th>\n      <td>Nie sadze, ze wymienilem choc jeden usmiech z ...</td>\n      <td>2</td>\n      <td>2</td>\n      <td>17</td>\n      <td>12-17</td>\n      <td>1</td>\n    </tr>\n    <tr>\n      <th>...</th>\n      <td>...</td>\n      <td>...</td>\n      <td>...</td>\n      <td>...</td>\n      <td>...</td>\n      <td>...</td>\n    </tr>\n    <tr>\n      <th>3995</th>\n      <td>Czuje sie wspaniale zrelaksowany w wyniku</td>\n      <td>0</td>\n      <td>0</td>\n      <td>6</td>\n      <td>6-11</td>\n      <td>1</td>\n    </tr>\n    <tr>\n      <th>3996</th>\n      <td>Czuje sie zrzedliwy teraz fani futbolu obudzil...</td>\n      <td>4</td>\n      <td>4</td>\n      <td>12</td>\n      <td>12-17</td>\n      <td>1</td>\n    </tr>\n    <tr>\n      <th>3997</th>\n      <td>sa zwiazani z tym, co robia, pomimo tego, jak ...</td>\n      <td>0</td>\n      <td>0</td>\n      <td>22</td>\n      <td>18-23</td>\n      <td>1</td>\n    </tr>\n    <tr>\n      <th>3998</th>\n      <td>Czuje i bedziesz zaskoczony zmianami, ktore na...</td>\n      <td>2</td>\n      <td>2</td>\n      <td>9</td>\n      <td>6-11</td>\n      <td>1</td>\n    </tr>\n    <tr>\n      <th>3999</th>\n      <td>Czuje sie wsciekly na siebie za zdobycie ponad...</td>\n      <td>4</td>\n      <td>4</td>\n      <td>15</td>\n      <td>12-17</td>\n      <td>1</td>\n    </tr>\n  </tbody>\n</table>\n<p>4000 rows × 6 columns</p>\n</div>"
     },
     "execution_count": 30,
     "metadata": {},
     "output_type": "execute_result"
    }
   ],
   "source": [
    "def map_token_counts(row):\n",
    "    return len(row['text_pl'].split())\n",
    "\n",
    "def map_count_belonging(row, divider):\n",
    "    int_division_result = int(row['token_count'] / divider) + 1\n",
    "    lower_boundary = divider * int_division_result - divider\n",
    "    upper_boundary = divider * int_division_result - 1\n",
    "    return f\"{lower_boundary}-{upper_boundary}\"\n",
    "\n",
    "def map_correctly_predicted(row):\n",
    "    return int(row['emotions'] == row['prediction'])\n",
    "\n",
    "\n",
    "test_df['token_count'] = test_df.apply(lambda row: map_token_counts(row), axis=1)\n",
    "test_df['count_belonging'] = test_df.apply(lambda row: map_count_belonging(row, divider=6), axis=1)\n",
    "test_df['correctly_predicted'] = test_df.apply(lambda row: map_correctly_predicted(row), axis=1)\n",
    "test_df"
   ],
   "metadata": {
    "collapsed": false,
    "ExecuteTime": {
     "end_time": "2023-06-19T16:51:37.880827200Z",
     "start_time": "2023-06-19T16:51:37.744382500Z"
    }
   }
  },
  {
   "cell_type": "code",
   "execution_count": 31,
   "outputs": [],
   "source": [
    "test_df = test_df.drop(test_df[test_df.token_count > 41].index)"
   ],
   "metadata": {
    "collapsed": false,
    "ExecuteTime": {
     "end_time": "2023-06-19T16:51:37.897157Z",
     "start_time": "2023-06-19T16:51:37.846508Z"
    }
   }
  },
  {
   "cell_type": "code",
   "execution_count": 32,
   "outputs": [],
   "source": [
    "test_df = test_df.sort_values(by=['token_count']).reset_index(drop=True)"
   ],
   "metadata": {
    "collapsed": false,
    "ExecuteTime": {
     "end_time": "2023-06-19T16:51:37.922203400Z",
     "start_time": "2023-06-19T16:51:37.854029400Z"
    }
   }
  },
  {
   "cell_type": "code",
   "execution_count": 33,
   "outputs": [
    {
     "data": {
      "text/plain": "<Figure size 640x480 with 1 Axes>",
      "image/png": "[encoded data removed]"
     },
     "metadata": {},
     "output_type": "display_data"
    }
   ],
   "source": [
    "data = test_df['count_belonging']\n",
    "data.value_counts(sort=False).plot.bar()\n",
    "plt.xlabel('Token count range')\n",
    "plt.ylabel('Count')\n",
    "plt.savefig(os.path.join(figures_dir, f'{training_name}_counts_per_range.png'))\n",
    "plt.show()"
   ],
   "metadata": {
    "collapsed": false,
    "ExecuteTime": {
     "end_time": "2023-06-19T16:51:38.023603500Z",
     "start_time": "2023-06-19T16:51:37.868540Z"
    }
   }
  },
  {
   "cell_type": "code",
   "execution_count": 34,
   "outputs": [],
   "source": [
    "range_to_valid_predictions_count_dict = {'0-5': 0, '6-11': 0, '12-17': 0, '18-23': 0, '24-29': 0, '30-35': 0, '36-41': 0}\n",
    "range_to_element_count_dict = {'0-5': 0, '6-11': 0, '12-17': 0, '18-23': 0, '24-29': 0, '30-35': 0, '36-41': 0}\n",
    "range_to_pred_accuracy_dict = {'0-5': 0., '6-11': 0., '12-17': 0., '18-23': 0., '24-29': 0., '30-35': 0., '36-41': 0.}"
   ],
   "metadata": {
    "collapsed": false,
    "ExecuteTime": {
     "end_time": "2023-06-19T16:51:38.023603500Z",
     "start_time": "2023-06-19T16:51:38.009080700Z"
    }
   }
  },
  {
   "cell_type": "code",
   "execution_count": 35,
   "outputs": [
    {
     "name": "stdout",
     "output_type": "stream",
     "text": [
      "Correct predictions count:  {'0-5': 198, '6-11': 541, '12-17': 461, '18-23': 277, '24-29': 141, '30-35': 72, '36-41': 33}\n",
      "Element count:  {'0-5': 386, '6-11': 1106, '12-17': 1064, '18-23': 702, '24-29': 383, '30-35': 197, '36-41': 93}\n",
      "Accuracies:  {'0-5': 0.5129533678756477, '6-11': 0.4891500904159132, '12-17': 0.4332706766917293, '18-23': 0.3945868945868946, '24-29': 0.3681462140992167, '30-35': 0.36548223350253806, '36-41': 0.3548387096774194}\n"
     ]
    }
   ],
   "source": [
    "for _, row in test_df.iterrows():\n",
    "    count_belonging = row['count_belonging']\n",
    "\n",
    "    range_to_element_count_dict[count_belonging] = range_to_element_count_dict[count_belonging] + 1\n",
    "\n",
    "    if row['correctly_predicted']:\n",
    "        range_to_valid_predictions_count_dict[count_belonging] = range_to_valid_predictions_count_dict[count_belonging] + 1\n",
    "\n",
    "for key in range_to_pred_accuracy_dict.keys():\n",
    "    range_to_pred_accuracy_dict[key] = range_to_valid_predictions_count_dict[key] / range_to_element_count_dict[key]\n",
    "\n",
    "print(\"Correct predictions count: \", range_to_valid_predictions_count_dict)\n",
    "print(\"Element count: \", range_to_element_count_dict)\n",
    "print(\"Accuracies: \", range_to_pred_accuracy_dict)"
   ],
   "metadata": {
    "collapsed": false,
    "ExecuteTime": {
     "end_time": "2023-06-19T16:51:38.115494400Z",
     "start_time": "2023-06-19T16:51:38.023603500Z"
    }
   }
  },
  {
   "cell_type": "code",
   "execution_count": 36,
   "outputs": [
    {
     "data": {
      "text/plain": "<Figure size 640x480 with 1 Axes>",
      "image/png": "[encoded data removed]"
     },
     "metadata": {},
     "output_type": "display_data"
    }
   ],
   "source": [
    "import matplotlib.ticker as mtick\n",
    "\n",
    "plt.bar(['0-5', '6-11', '12-17', '18-23', '24-29', '30-35', '36-41'], [val for val in range_to_pred_accuracy_dict.values()])\n",
    "plt.xlabel('Token count range')\n",
    "plt.ylabel('Accuracy')\n",
    "plt.gca().yaxis.set_major_formatter(mtick.PercentFormatter(xmax=1.0))\n",
    "plt.savefig(os.path.join(figures_dir, f'{training_name}_accuracies_per_range.png'))\n",
    "plt.show()"
   ],
   "metadata": {
    "collapsed": false,
    "ExecuteTime": {
     "end_time": "2023-06-19T16:51:38.237092700Z",
     "start_time": "2023-06-19T16:51:38.115494400Z"
    }
   }
  },
  {
   "cell_type": "code",
   "execution_count": null,
   "outputs": [],
   "source": [],
   "metadata": {
    "collapsed": false
   }
  }
 ],
 "metadata": {
  "kernelspec": {
   "display_name": "nlp",
   "language": "python",
   "name": "python3"
  },
  "language_info": {
   "codemirror_mode": {
    "name": "ipython",
    "version": 3
   },
   "file_extension": ".py",
   "mimetype": "text/x-python",
   "name": "python",
   "nbconvert_exporter": "python",
   "pygments_lexer": "ipython3",
   "version": "3.10.11"
  },
  "orig_nbformat": 4
 },
 "nbformat": 4,
 "nbformat_minor": 2
}
