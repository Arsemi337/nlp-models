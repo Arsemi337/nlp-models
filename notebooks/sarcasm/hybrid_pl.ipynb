{
 "cells": [
  {
   "cell_type": "code",
   "execution_count": 1,
   "metadata": {
    "collapsed": true,
    "ExecuteTime": {
     "end_time": "2023-06-07T16:38:08.040415800Z",
     "start_time": "2023-06-07T16:38:03.563676300Z"
    }
   },
   "outputs": [],
   "source": [
    "import sys\n",
    "\n",
    "sys.path.append('./../../notebooks')\n",
    "import os\n",
    "import tensorflow as tf\n",
    "import pandas as pd\n",
    "from notebooks.core import model_utils\n",
    "\n",
    "from transformers import AutoTokenizer, DataCollatorWithPadding\n",
    "from datasets import Dataset"
   ]
  },
  {
   "cell_type": "code",
   "execution_count": 2,
   "outputs": [
    {
     "data": {
      "text/plain": "       label                                               text\n0          1  Naukowcy z lat trzydziestych odkrywają zegar z...\n1          0  Reprezentantka rządu USA wyjaśnia, dlaczego Ko...\n2          0          Jedz warzywa: 9 pysznie różnych przepisów\n3          1  Nieprzyjemna pogoda uniemożliwia kłamcy dotarc...\n4          1  matka jest bardzo blisko użycia słowa \"streami...\n...      ...                                                ...\n28614      1               Żydzi świętują Rosh Hashasha czy coś\n28615      1  Śledczy spraw wewnętrznych rozczarowany spiski...\n28616      0  Najpiękniejsza przemowa akceptacyjna w tym tyg...\n28617      1  Mars zniszczony przez pałac kosmiczny na orbic...\n28618      1  Tata wyjaśnia, że to nie jest przerwa na jedzenie\n\n[28619 rows x 2 columns]",
      "text/html": "<div>\n<style scoped>\n    .dataframe tbody tr th:only-of-type {\n        vertical-align: middle;\n    }\n\n    .dataframe tbody tr th {\n        vertical-align: top;\n    }\n\n    .dataframe thead th {\n        text-align: right;\n    }\n</style>\n<table border=\"1\" class=\"dataframe\">\n  <thead>\n    <tr style=\"text-align: right;\">\n      <th></th>\n      <th>label</th>\n      <th>text</th>\n    </tr>\n  </thead>\n  <tbody>\n    <tr>\n      <th>0</th>\n      <td>1</td>\n      <td>Naukowcy z lat trzydziestych odkrywają zegar z...</td>\n    </tr>\n    <tr>\n      <th>1</th>\n      <td>0</td>\n      <td>Reprezentantka rządu USA wyjaśnia, dlaczego Ko...</td>\n    </tr>\n    <tr>\n      <th>2</th>\n      <td>0</td>\n      <td>Jedz warzywa: 9 pysznie różnych przepisów</td>\n    </tr>\n    <tr>\n      <th>3</th>\n      <td>1</td>\n      <td>Nieprzyjemna pogoda uniemożliwia kłamcy dotarc...</td>\n    </tr>\n    <tr>\n      <th>4</th>\n      <td>1</td>\n      <td>matka jest bardzo blisko użycia słowa \"streami...</td>\n    </tr>\n    <tr>\n      <th>...</th>\n      <td>...</td>\n      <td>...</td>\n    </tr>\n    <tr>\n      <th>28614</th>\n      <td>1</td>\n      <td>Żydzi świętują Rosh Hashasha czy coś</td>\n    </tr>\n    <tr>\n      <th>28615</th>\n      <td>1</td>\n      <td>Śledczy spraw wewnętrznych rozczarowany spiski...</td>\n    </tr>\n    <tr>\n      <th>28616</th>\n      <td>0</td>\n      <td>Najpiękniejsza przemowa akceptacyjna w tym tyg...</td>\n    </tr>\n    <tr>\n      <th>28617</th>\n      <td>1</td>\n      <td>Mars zniszczony przez pałac kosmiczny na orbic...</td>\n    </tr>\n    <tr>\n      <th>28618</th>\n      <td>1</td>\n      <td>Tata wyjaśnia, że to nie jest przerwa na jedzenie</td>\n    </tr>\n  </tbody>\n</table>\n<p>28619 rows × 2 columns</p>\n</div>"
     },
     "execution_count": 2,
     "metadata": {},
     "output_type": "execute_result"
    }
   ],
   "source": [
    "df = pd.read_json('../../data/translated/sarcasm/sarcasm_headlines_dataset_pl.json')\n",
    "df = df.drop(columns=['headline', 'article_link'])\n",
    "df.rename(columns={'is_sarcastic': 'label', 'headline_pl': 'text'}, inplace=True)\n",
    "df"
   ],
   "metadata": {
    "collapsed": false,
    "ExecuteTime": {
     "end_time": "2023-06-07T16:38:08.134230600Z",
     "start_time": "2023-06-07T16:38:08.042919300Z"
    }
   }
  },
  {
   "cell_type": "code",
   "execution_count": 3,
   "outputs": [
    {
     "data": {
      "text/plain": "Dataset({\n    features: ['label', 'text'],\n    num_rows: 28619\n})"
     },
     "execution_count": 3,
     "metadata": {},
     "output_type": "execute_result"
    }
   ],
   "source": [
    "test_dataset = Dataset.from_pandas(df).remove_columns(\"__index_level_0__\")\n",
    "test_dataset"
   ],
   "metadata": {
    "collapsed": false,
    "ExecuteTime": {
     "end_time": "2023-06-07T16:38:10.634706Z",
     "start_time": "2023-06-07T16:38:10.609248100Z"
    }
   }
  },
  {
   "cell_type": "code",
   "execution_count": 4,
   "outputs": [],
   "source": [
    "# Load models\n",
    "version = \"1\"\n",
    "trained_bert = os.path.join(\"./../../trained_models/sarcasm_pl_bert_1\", version)\n",
    "trained_gpt = os.path.join(\"./../../trained_models/sarcasm_pl_gpt2_1\", version)\n",
    "\n",
    "bert = tf.keras.models.load_model(trained_bert)\n",
    "gpt2 = tf.keras.models.load_model(trained_gpt)"
   ],
   "metadata": {
    "collapsed": false,
    "ExecuteTime": {
     "end_time": "2023-06-07T16:39:27.043156900Z",
     "start_time": "2023-06-07T16:38:11.733057500Z"
    }
   }
  },
  {
   "cell_type": "code",
   "execution_count": 5,
   "outputs": [
    {
     "name": "stdout",
     "output_type": "stream",
     "text": [
      "Model: \"tf_bert_for_sequence_classification\"\n",
      "_________________________________________________________________\n",
      "Layer (type)                 Output Shape              Param #   \n",
      "=================================================================\n",
      "bert (Custom>TFBertMainLayer multiple                  132121344 \n",
      "_________________________________________________________________\n",
      "dropout_37 (Dropout)         multiple                  0         \n",
      "_________________________________________________________________\n",
      "classifier (Dense)           multiple                  1538      \n",
      "=================================================================\n",
      "Total params: 132,122,882\n",
      "Trainable params: 132,122,882\n",
      "Non-trainable params: 0\n",
      "_________________________________________________________________\n"
     ]
    }
   ],
   "source": [
    "bert.summary()"
   ],
   "metadata": {
    "collapsed": false,
    "ExecuteTime": {
     "end_time": "2023-06-07T16:39:27.059859800Z",
     "start_time": "2023-06-07T16:39:27.044334600Z"
    }
   }
  },
  {
   "cell_type": "code",
   "execution_count": 6,
   "outputs": [
    {
     "name": "stdout",
     "output_type": "stream",
     "text": [
      "Model: \"tfgp_t2for_sequence_classification\"\n",
      "_________________________________________________________________\n",
      "Layer (type)                 Output Shape              Param #   \n",
      "=================================================================\n",
      "score (Dense)                multiple                  1536      \n",
      "_________________________________________________________________\n",
      "transformer (Custom>TFGPT2Ma multiple                  124439808 \n",
      "=================================================================\n",
      "Total params: 124,441,344\n",
      "Trainable params: 124,441,344\n",
      "Non-trainable params: 0\n",
      "_________________________________________________________________\n"
     ]
    }
   ],
   "source": [
    "gpt2.summary()"
   ],
   "metadata": {
    "collapsed": false,
    "ExecuteTime": {
     "end_time": "2023-06-07T16:39:27.104323400Z",
     "start_time": "2023-06-07T16:39:27.060857300Z"
    }
   }
  },
  {
   "cell_type": "code",
   "execution_count": 7,
   "outputs": [
    {
     "data": {
      "text/plain": "Map:   0%|          | 0/28619 [00:00<?, ? examples/s]",
      "application/vnd.jupyter.widget-view+json": {
       "version_major": 2,
       "version_minor": 0,
       "model_id": "b6219f77e0264f5194389e228a2240b3"
      }
     },
     "metadata": {},
     "output_type": "display_data"
    },
    {
     "name": "stderr",
     "output_type": "stream",
     "text": [
      "C:\\Users\\Karol\\anaconda3\\envs\\ml-tf2gpu\\lib\\site-packages\\datasets\\arrow_dataset.py:388: FutureWarning: The output of `to_tf_dataset` will change when a passing single element list for `labels` or `columns` in the next datasets version. To return a tuple structure rather than dict, pass a single string.\n",
      "Old behaviour: columns=['a'], labels=['labels'] -> (tf.Tensor, tf.Tensor)  \n",
      "             : columns='a', labels='labels' -> (tf.Tensor, tf.Tensor)  \n",
      "New behaviour: columns=['a'],labels=['labels'] -> ({'a': tf.Tensor}, {'labels': tf.Tensor})  \n",
      "             : columns='a', labels='labels' -> (tf.Tensor, tf.Tensor) \n",
      "  warnings.warn(\n",
      "You're using a BertTokenizerFast tokenizer. Please note that with a fast tokenizer, using the `__call__` method is faster than using a method to encode the text followed by a call to the `pad` method to get a padded encoding.\n"
     ]
    }
   ],
   "source": [
    "# Create BERT tokenizer and collator\n",
    "bert_checkpoint = \"dkleczek/bert-base-polish-uncased-v1\"\n",
    "\n",
    "bert_tokenizer = AutoTokenizer.from_pretrained(bert_checkpoint, model_max_length=512)\n",
    "\n",
    "\n",
    "def tokenize_for_bert(example):\n",
    "    return bert_tokenizer(example[\"text\"], truncation=True)\n",
    "\n",
    "\n",
    "bert_tokenized_test_dataset = test_dataset.map(tokenize_for_bert, batched=True)\n",
    "\n",
    "bert_input_columns = [\"attention_mask\", \"input_ids\", \"token_type_ids\"]\n",
    "bert_label_columns = ['label']\n",
    "bert_batch_size = 16\n",
    "bert_data_collator = DataCollatorWithPadding(tokenizer=bert_tokenizer, return_tensors=\"tf\")\n",
    "bert_tf_dataset = model_utils.convert_to_tf_dataset(bert_tokenized_test_dataset, bert_input_columns, bert_label_columns, bert_data_collator, bert_batch_size)"
   ],
   "metadata": {
    "collapsed": false,
    "ExecuteTime": {
     "end_time": "2023-06-07T16:39:44.160111800Z",
     "start_time": "2023-06-07T16:39:42.785737900Z"
    }
   }
  },
  {
   "cell_type": "code",
   "execution_count": 8,
   "outputs": [
    {
     "data": {
      "text/plain": "Map:   0%|          | 0/28619 [00:00<?, ? examples/s]",
      "application/vnd.jupyter.widget-view+json": {
       "version_major": 2,
       "version_minor": 0,
       "model_id": "ed014eb48bf94cc2a175fa1953a7ab75"
      }
     },
     "metadata": {},
     "output_type": "display_data"
    },
    {
     "name": "stderr",
     "output_type": "stream",
     "text": [
      "C:\\Users\\Karol\\anaconda3\\envs\\ml-tf2gpu\\lib\\site-packages\\datasets\\arrow_dataset.py:388: FutureWarning: The output of `to_tf_dataset` will change when a passing single element list for `labels` or `columns` in the next datasets version. To return a tuple structure rather than dict, pass a single string.\n",
      "Old behaviour: columns=['a'], labels=['labels'] -> (tf.Tensor, tf.Tensor)  \n",
      "             : columns='a', labels='labels' -> (tf.Tensor, tf.Tensor)  \n",
      "New behaviour: columns=['a'],labels=['labels'] -> ({'a': tf.Tensor}, {'labels': tf.Tensor})  \n",
      "             : columns='a', labels='labels' -> (tf.Tensor, tf.Tensor) \n",
      "  warnings.warn(\n",
      "You're using a GPT2TokenizerFast tokenizer. Please note that with a fast tokenizer, using the `__call__` method is faster than using a method to encode the text followed by a call to the `pad` method to get a padded encoding.\n"
     ]
    }
   ],
   "source": [
    "# Create GPT2 tokenizer\n",
    "gpt_checkpoint = MAX_TOKENS = 128\n",
    "EOS_TOKEN = \"<|endoftext|>\"\n",
    "checkpoint = \"flax-community/papuGaPT2\"\n",
    "\n",
    "gpt2_tokenizer = AutoTokenizer.from_pretrained(\n",
    "    checkpoint,\n",
    "    eos_token=EOS_TOKEN,\n",
    "    pad_token=EOS_TOKEN,\n",
    "    max_length=MAX_TOKENS,\n",
    "    is_split_into_words=True,\n",
    ")\n",
    "\n",
    "gpt2_tokenizer.padding_side = \"left\"\n",
    "\n",
    "\n",
    "def tokenize_for_gpt2(examples):\n",
    "    examples = [ex + EOS_TOKEN for ex in examples['text']]\n",
    "\n",
    "    output = gpt2_tokenizer(\n",
    "        examples,\n",
    "        add_special_tokens=True,\n",
    "        max_length=MAX_TOKENS,\n",
    "        truncation=True,\n",
    "        padding=True,\n",
    "    )\n",
    "\n",
    "    # truncate input ids and attention mask to account for label shift\n",
    "    output[\"input_ids\"] = [x[:-1] for x in output[\"input_ids\"]]\n",
    "    output[\"attention_mask\"] = [x[:-1] for x in output[\"attention_mask\"]]\n",
    "    return output\n",
    "\n",
    "\n",
    "gpt2_tokenized_test_dataset = test_dataset.map(tokenize_for_gpt2, batched=True)\n",
    "\n",
    "gpt2_input_columns = [\"input_ids\", \"attention_mask\"]\n",
    "gpt2_label_columns = [\"label\"]\n",
    "gpt2_batch_size = 16\n",
    "gpt2_data_collator = DataCollatorWithPadding(tokenizer=gpt2_tokenizer, return_tensors=\"tf\")\n",
    "gpt2_tf_dataset = model_utils.convert_to_tf_dataset(gpt2_tokenized_test_dataset, gpt2_input_columns, gpt2_label_columns, gpt2_data_collator, gpt2_batch_size)"
   ],
   "metadata": {
    "collapsed": false,
    "ExecuteTime": {
     "end_time": "2023-06-07T16:39:45.801149500Z",
     "start_time": "2023-06-07T16:39:44.602347800Z"
    }
   }
  },
  {
   "cell_type": "code",
   "execution_count": 9,
   "outputs": [],
   "source": [
    "probabilities = model_utils.get_class_preds(bert, bert_tf_dataset, return_classes=False)"
   ],
   "metadata": {
    "collapsed": false,
    "ExecuteTime": {
     "end_time": "2023-06-07T16:40:37.188188700Z",
     "start_time": "2023-06-07T16:39:46.659151600Z"
    }
   }
  },
  {
   "cell_type": "code",
   "execution_count": 10,
   "outputs": [
    {
     "data": {
      "text/plain": "<tf.Tensor: shape=(5, 2), dtype=float32, numpy=\narray([[0.06979693, 0.930203  ],\n       [0.6138801 , 0.38611984],\n       [0.98400867, 0.01599133],\n       [0.06063552, 0.93936455],\n       [0.30825564, 0.6917443 ]], dtype=float32)>"
     },
     "execution_count": 10,
     "metadata": {},
     "output_type": "execute_result"
    }
   ],
   "source": [
    "probabilities[:5]"
   ],
   "metadata": {
    "collapsed": false,
    "ExecuteTime": {
     "end_time": "2023-06-07T16:40:37.249217200Z",
     "start_time": "2023-06-07T16:40:37.204216400Z"
    }
   }
  },
  {
   "cell_type": "code",
   "execution_count": 51,
   "outputs": [],
   "source": [
    "class_preds = model_utils.get_class_preds(bert, bert_tf_dataset)"
   ],
   "metadata": {
    "collapsed": false,
    "ExecuteTime": {
     "end_time": "2023-06-07T16:25:10.201199700Z",
     "start_time": "2023-06-07T16:24:18.450463300Z"
    }
   }
  },
  {
   "cell_type": "code",
   "execution_count": 53,
   "outputs": [
    {
     "data": {
      "text/plain": "[1, 0, 0, 1, 1, 0, 0, 1, 1, 0]"
     },
     "execution_count": 53,
     "metadata": {},
     "output_type": "execute_result"
    }
   ],
   "source": [
    "class_preds[:10].tolist()"
   ],
   "metadata": {
    "collapsed": false,
    "ExecuteTime": {
     "end_time": "2023-06-07T16:25:41.599478Z",
     "start_time": "2023-06-07T16:25:41.573297900Z"
    }
   }
  },
  {
   "cell_type": "code",
   "execution_count": 54,
   "outputs": [
    {
     "data": {
      "text/plain": "[1, 0, 0, 1, 1, 0, 0, 1, 1, 0]"
     },
     "execution_count": 54,
     "metadata": {},
     "output_type": "execute_result"
    }
   ],
   "source": [
    "test_dataset['label'][:10]"
   ],
   "metadata": {
    "collapsed": false,
    "ExecuteTime": {
     "end_time": "2023-06-07T16:26:10.487311Z",
     "start_time": "2023-06-07T16:26:10.433715300Z"
    }
   }
  },
  {
   "cell_type": "code",
   "execution_count": 55,
   "outputs": [
    {
     "data": {
      "text/plain": "<Figure size 640x480 with 2 Axes>",
      "image/png": "[encoded data removed]"
     },
     "metadata": {},
     "output_type": "display_data"
    }
   ],
   "source": [
    "model_utils.plot_and_save_conf_matrix(class_actual=test_dataset['label'],\n",
    "                                      class_preds=class_preds,\n",
    "                                      figure_dir_path=\".\",\n",
    "                                      figure_filename=\"test.png\")"
   ],
   "metadata": {
    "collapsed": false,
    "ExecuteTime": {
     "end_time": "2023-06-07T16:27:36.864705Z",
     "start_time": "2023-06-07T16:27:36.571833100Z"
    }
   }
  },
  {
   "cell_type": "code",
   "execution_count": null,
   "outputs": [],
   "source": [],
   "metadata": {
    "collapsed": false
   }
  }
 ],
 "metadata": {
  "kernelspec": {
   "display_name": "Python 3",
   "language": "python",
   "name": "python3"
  },
  "language_info": {
   "codemirror_mode": {
    "name": "ipython",
    "version": 2
   },
   "file_extension": ".py",
   "mimetype": "text/x-python",
   "name": "python",
   "nbconvert_exporter": "python",
   "pygments_lexer": "ipython2",
   "version": "2.7.6"
  }
 },
 "nbformat": 4,
 "nbformat_minor": 0
}
