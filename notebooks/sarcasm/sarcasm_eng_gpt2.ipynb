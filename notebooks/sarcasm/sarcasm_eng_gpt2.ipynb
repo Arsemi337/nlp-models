{
 "cells": [
  {
   "cell_type": "code",
   "execution_count": 1,
   "metadata": {
    "id": "Ka3QGbQZYNB0"
   },
   "outputs": [],
   "source": [
    "import os\n",
    "\n",
    "import pandas as pd\n",
    "import tensorflow as tf\n",
    "import matplotlib.pyplot as plt\n",
    "import numpy as np"
   ]
  },
  {
   "cell_type": "code",
   "execution_count": 2,
   "metadata": {
    "id": "Q_ONFG6cYNB2",
    "outputId": "329af92e-cf48-414f-ee33-e53baf9468b1"
   },
   "outputs": [],
   "source": [
    "import json\n",
    "\n",
    "\n",
    "def parse_sarcasm_json_dataset(file):\n",
    "    for line in open(file, 'r'):\n",
    "        yield json.loads(line)"
   ]
  },
  {
   "cell_type": "code",
   "execution_count": 3,
   "metadata": {
    "collapsed": false
   },
   "outputs": [
    {
     "data": {
      "text/plain": "       is_sarcastic                                           headline  \\\n0                 1  thirtysomething scientists unveil doomsday clo...   \n1                 0  dem rep. totally nails why congress is falling...   \n2                 0  eat your veggies: 9 deliciously different recipes   \n3                 1  inclement weather prevents liar from getting t...   \n4                 1  mother comes pretty close to using word 'strea...   \n...             ...                                                ...   \n28614             1       jews to celebrate rosh hashasha or something   \n28615             1  internal affairs investigator disappointed con...   \n28616             0  the most beautiful acceptance speech this week...   \n28617             1  mars probe destroyed by orbiting spielberg-gat...   \n28618             1                 dad clarifies this not a food stop   \n\n                                            article_link  \n0      https://www.theonion.com/thirtysomething-scien...  \n1      https://www.huffingtonpost.com/entry/donna-edw...  \n2      https://www.huffingtonpost.com/entry/eat-your-...  \n3      https://local.theonion.com/inclement-weather-p...  \n4      https://www.theonion.com/mother-comes-pretty-c...  \n...                                                  ...  \n28614  https://www.theonion.com/jews-to-celebrate-ros...  \n28615  https://local.theonion.com/internal-affairs-in...  \n28616  https://www.huffingtonpost.com/entry/andrew-ah...  \n28617  https://www.theonion.com/mars-probe-destroyed-...  \n28618  https://www.theonion.com/dad-clarifies-this-no...  \n\n[28619 rows x 3 columns]",
      "text/html": "<div>\n<style scoped>\n    .dataframe tbody tr th:only-of-type {\n        vertical-align: middle;\n    }\n\n    .dataframe tbody tr th {\n        vertical-align: top;\n    }\n\n    .dataframe thead th {\n        text-align: right;\n    }\n</style>\n<table border=\"1\" class=\"dataframe\">\n  <thead>\n    <tr style=\"text-align: right;\">\n      <th></th>\n      <th>is_sarcastic</th>\n      <th>headline</th>\n      <th>article_link</th>\n    </tr>\n  </thead>\n  <tbody>\n    <tr>\n      <th>0</th>\n      <td>1</td>\n      <td>thirtysomething scientists unveil doomsday clo...</td>\n      <td>https://www.theonion.com/thirtysomething-scien...</td>\n    </tr>\n    <tr>\n      <th>1</th>\n      <td>0</td>\n      <td>dem rep. totally nails why congress is falling...</td>\n      <td>https://www.huffingtonpost.com/entry/donna-edw...</td>\n    </tr>\n    <tr>\n      <th>2</th>\n      <td>0</td>\n      <td>eat your veggies: 9 deliciously different recipes</td>\n      <td>https://www.huffingtonpost.com/entry/eat-your-...</td>\n    </tr>\n    <tr>\n      <th>3</th>\n      <td>1</td>\n      <td>inclement weather prevents liar from getting t...</td>\n      <td>https://local.theonion.com/inclement-weather-p...</td>\n    </tr>\n    <tr>\n      <th>4</th>\n      <td>1</td>\n      <td>mother comes pretty close to using word 'strea...</td>\n      <td>https://www.theonion.com/mother-comes-pretty-c...</td>\n    </tr>\n    <tr>\n      <th>...</th>\n      <td>...</td>\n      <td>...</td>\n      <td>...</td>\n    </tr>\n    <tr>\n      <th>28614</th>\n      <td>1</td>\n      <td>jews to celebrate rosh hashasha or something</td>\n      <td>https://www.theonion.com/jews-to-celebrate-ros...</td>\n    </tr>\n    <tr>\n      <th>28615</th>\n      <td>1</td>\n      <td>internal affairs investigator disappointed con...</td>\n      <td>https://local.theonion.com/internal-affairs-in...</td>\n    </tr>\n    <tr>\n      <th>28616</th>\n      <td>0</td>\n      <td>the most beautiful acceptance speech this week...</td>\n      <td>https://www.huffingtonpost.com/entry/andrew-ah...</td>\n    </tr>\n    <tr>\n      <th>28617</th>\n      <td>1</td>\n      <td>mars probe destroyed by orbiting spielberg-gat...</td>\n      <td>https://www.theonion.com/mars-probe-destroyed-...</td>\n    </tr>\n    <tr>\n      <th>28618</th>\n      <td>1</td>\n      <td>dad clarifies this not a food stop</td>\n      <td>https://www.theonion.com/dad-clarifies-this-no...</td>\n    </tr>\n  </tbody>\n</table>\n<p>28619 rows × 3 columns</p>\n</div>"
     },
     "execution_count": 3,
     "metadata": {},
     "output_type": "execute_result"
    }
   ],
   "source": [
    "data = list(\n",
    "    parse_sarcasm_json_dataset('../../data/news_headlines_for_sarcasm_detection/Sarcasm_Headlines_Dataset_v2.json'))\n",
    "\n",
    "df = pd.DataFrame(data)\n",
    "df"
   ]
  },
  {
   "cell_type": "code",
   "execution_count": 4,
   "metadata": {
    "id": "s3vSJzBbYNB3"
   },
   "outputs": [
    {
     "data": {
      "text/plain": "       is_sarcastic                                           headline\n0                 1  thirtysomething scientists unveil doomsday clo...\n1                 0  dem rep. totally nails why congress is falling...\n2                 0  eat your veggies: 9 deliciously different recipes\n3                 1  inclement weather prevents liar from getting t...\n4                 1  mother comes pretty close to using word 'strea...\n...             ...                                                ...\n28614             1       jews to celebrate rosh hashasha or something\n28615             1  internal affairs investigator disappointed con...\n28616             0  the most beautiful acceptance speech this week...\n28617             1  mars probe destroyed by orbiting spielberg-gat...\n28618             1                 dad clarifies this not a food stop\n\n[28619 rows x 2 columns]",
      "text/html": "<div>\n<style scoped>\n    .dataframe tbody tr th:only-of-type {\n        vertical-align: middle;\n    }\n\n    .dataframe tbody tr th {\n        vertical-align: top;\n    }\n\n    .dataframe thead th {\n        text-align: right;\n    }\n</style>\n<table border=\"1\" class=\"dataframe\">\n  <thead>\n    <tr style=\"text-align: right;\">\n      <th></th>\n      <th>is_sarcastic</th>\n      <th>headline</th>\n    </tr>\n  </thead>\n  <tbody>\n    <tr>\n      <th>0</th>\n      <td>1</td>\n      <td>thirtysomething scientists unveil doomsday clo...</td>\n    </tr>\n    <tr>\n      <th>1</th>\n      <td>0</td>\n      <td>dem rep. totally nails why congress is falling...</td>\n    </tr>\n    <tr>\n      <th>2</th>\n      <td>0</td>\n      <td>eat your veggies: 9 deliciously different recipes</td>\n    </tr>\n    <tr>\n      <th>3</th>\n      <td>1</td>\n      <td>inclement weather prevents liar from getting t...</td>\n    </tr>\n    <tr>\n      <th>4</th>\n      <td>1</td>\n      <td>mother comes pretty close to using word 'strea...</td>\n    </tr>\n    <tr>\n      <th>...</th>\n      <td>...</td>\n      <td>...</td>\n    </tr>\n    <tr>\n      <th>28614</th>\n      <td>1</td>\n      <td>jews to celebrate rosh hashasha or something</td>\n    </tr>\n    <tr>\n      <th>28615</th>\n      <td>1</td>\n      <td>internal affairs investigator disappointed con...</td>\n    </tr>\n    <tr>\n      <th>28616</th>\n      <td>0</td>\n      <td>the most beautiful acceptance speech this week...</td>\n    </tr>\n    <tr>\n      <th>28617</th>\n      <td>1</td>\n      <td>mars probe destroyed by orbiting spielberg-gat...</td>\n    </tr>\n    <tr>\n      <th>28618</th>\n      <td>1</td>\n      <td>dad clarifies this not a food stop</td>\n    </tr>\n  </tbody>\n</table>\n<p>28619 rows × 2 columns</p>\n</div>"
     },
     "execution_count": 4,
     "metadata": {},
     "output_type": "execute_result"
    }
   ],
   "source": [
    "df = df.drop(columns=['article_link'])\n",
    "df"
   ]
  },
  {
   "cell_type": "code",
   "execution_count": 5,
   "metadata": {
    "id": "5-BjY_M3YNB4",
    "outputId": "7d138676-210d-4d8d-c786-2164439be05e",
    "ExecuteTime": {
     "end_time": "2023-05-30T07:57:50.683513500Z",
     "start_time": "2023-05-30T07:57:50.623264900Z"
    }
   },
   "outputs": [],
   "source": [
    "# It is only fine-tuning, thus 400k data samples is a complete overkill. It can be reduced to 40k."
   ]
  },
  {
   "cell_type": "code",
   "execution_count": 6,
   "metadata": {
    "id": "oWxZkrn2YNB5",
    "outputId": "459b60e0-65ac-43db-adea-8b0190e84c39",
    "ExecuteTime": {
     "end_time": "2023-05-30T07:57:50.793700300Z",
     "start_time": "2023-05-30T07:57:50.642371700Z"
    }
   },
   "outputs": [
    {
     "data": {
      "text/plain": "<Figure size 640x480 with 1 Axes>",
      "image/png": "[encoded data removed]"
     },
     "metadata": {},
     "output_type": "display_data"
    }
   ],
   "source": [
    "data = df[\"is_sarcastic\"]\n",
    "data.value_counts().plot.bar()\n",
    "plt.show()"
   ]
  },
  {
   "cell_type": "code",
   "execution_count": 7,
   "metadata": {
    "id": "7pXZTJ1BYNB6",
    "outputId": "ea16f661-baa2-433d-ba1a-7871a2ad8b0d",
    "ExecuteTime": {
     "end_time": "2023-05-30T07:57:51.342248Z",
     "start_time": "2023-05-30T07:57:50.765081400Z"
    }
   },
   "outputs": [
    {
     "data": {
      "text/plain": "Dataset({\n    features: ['is_sarcastic', 'headline'],\n    num_rows: 28619\n})"
     },
     "execution_count": 7,
     "metadata": {},
     "output_type": "execute_result"
    }
   ],
   "source": [
    "from datasets import Dataset\n",
    "\n",
    "raw_dataset = Dataset.from_pandas(df)\n",
    "raw_dataset"
   ]
  },
  {
   "cell_type": "code",
   "execution_count": 8,
   "metadata": {
    "id": "tLLo9NxbYNB7",
    "ExecuteTime": {
     "end_time": "2023-05-30T07:57:58.460496500Z",
     "start_time": "2023-05-30T07:57:57.395742400Z"
    }
   },
   "outputs": [],
   "source": [
    "from transformers import AutoTokenizer\n",
    "\n",
    "MAX_TOKENS = 128\n",
    "EOS_TOKEN = \"<|endoftext|>\"\n",
    "checkpoint = \"gpt2\"\n",
    "\n",
    "tokenizer = AutoTokenizer.from_pretrained(\n",
    "    checkpoint,\n",
    "    eos_token=EOS_TOKEN,\n",
    "    pad_token=EOS_TOKEN,\n",
    "    max_length=MAX_TOKENS,\n",
    "    is_split_into_words=True,\n",
    ")\n",
    "\n",
    "tokenizer.padding_side = \"left\""
   ]
  },
  {
   "cell_type": "code",
   "execution_count": 9,
   "metadata": {
    "id": "2JVg8ng9YNB7",
    "ExecuteTime": {
     "end_time": "2023-05-30T07:58:12.115684Z",
     "start_time": "2023-05-30T07:58:12.103164Z"
    }
   },
   "outputs": [],
   "source": [
    "def tokenize_function(examples):\n",
    "    examples = [ex + EOS_TOKEN for ex in examples['headline']]\n",
    "\n",
    "    output = tokenizer(\n",
    "        examples,\n",
    "        add_special_tokens=True,\n",
    "        max_length=MAX_TOKENS,\n",
    "        truncation=True,\n",
    "        padding=True,\n",
    "    )\n",
    "\n",
    "    # truncate input ids and attention mask to account for label shift\n",
    "    output[\"input_ids\"] = [x[:-1] for x in output[\"input_ids\"]]\n",
    "    output[\"attention_mask\"] = [x[:-1] for x in output[\"attention_mask\"]]\n",
    "    return output"
   ]
  },
  {
   "cell_type": "code",
   "execution_count": 10,
   "metadata": {
    "colab": {
     "referenced_widgets": [
      "154b70647d9f47339bb4ae5e4c392a3b"
     ]
    },
    "id": "W0Wt33Z9YNB7",
    "outputId": "9f4bb39c-3985-4701-c41f-5f3d36829e67",
    "ExecuteTime": {
     "end_time": "2023-05-30T07:58:13.986974Z",
     "start_time": "2023-05-30T07:58:13.177795500Z"
    }
   },
   "outputs": [
    {
     "data": {
      "text/plain": "Map:   0%|          | 0/28619 [00:00<?, ? examples/s]",
      "application/vnd.jupyter.widget-view+json": {
       "version_major": 2,
       "version_minor": 0,
       "model_id": "b783019ffe984a55ab63d47f3f15db33"
      }
     },
     "metadata": {},
     "output_type": "display_data"
    }
   ],
   "source": [
    "tokenized_dataset = raw_dataset.map(tokenize_function, batched=True)"
   ]
  },
  {
   "cell_type": "code",
   "execution_count": 11,
   "metadata": {
    "id": "2t1ZSHjeYNB8",
    "ExecuteTime": {
     "end_time": "2023-05-30T07:58:14.585271700Z",
     "start_time": "2023-05-30T07:58:14.564683Z"
    }
   },
   "outputs": [],
   "source": [
    "# Train set: 80%, Validation set: 10%, Test set: 10%\n",
    "split_train_val_and_test_dataset = tokenized_dataset.train_test_split(train_size=0.8)\n",
    "split_val_test_dataset = split_train_val_and_test_dataset[\"test\"].train_test_split(test_size=0.5)\n",
    "\n",
    "tokenized_train_dataset = split_train_val_and_test_dataset[\"train\"]\n",
    "tokenized_val_dataset = split_val_test_dataset[\"train\"]\n",
    "tokenized_test_dataset = split_val_test_dataset[\"test\"]"
   ]
  },
  {
   "cell_type": "code",
   "execution_count": 12,
   "metadata": {
    "id": "YVdKGW1IYNB8",
    "outputId": "9e34ac9e-a8b2-4f4b-e2fc-5b98fcbb96b4",
    "ExecuteTime": {
     "end_time": "2023-05-30T07:58:18.029373200Z",
     "start_time": "2023-05-30T07:58:16.114978600Z"
    }
   },
   "outputs": [
    {
     "name": "stderr",
     "output_type": "stream",
     "text": [
      "C:\\Users\\Karol\\anaconda3\\envs\\ml-tf2gpu\\lib\\site-packages\\datasets\\arrow_dataset.py:388: FutureWarning: The output of `to_tf_dataset` will change when a passing single element list for `labels` or `columns` in the next datasets version. To return a tuple structure rather than dict, pass a single string.\n",
      "Old behaviour: columns=['a'], labels=['labels'] -> (tf.Tensor, tf.Tensor)  \n",
      "             : columns='a', labels='labels' -> (tf.Tensor, tf.Tensor)  \n",
      "New behaviour: columns=['a'],labels=['labels'] -> ({'a': tf.Tensor}, {'labels': tf.Tensor})  \n",
      "             : columns='a', labels='labels' -> (tf.Tensor, tf.Tensor) \n",
      "  warnings.warn(\n",
      "You're using a GPT2TokenizerFast tokenizer. Please note that with a fast tokenizer, using the `__call__` method is faster than using a method to encode the text followed by a call to the `pad` method to get a padded encoding.\n"
     ]
    }
   ],
   "source": [
    "from transformers import DataCollatorWithPadding\n",
    "\n",
    "batch_size = 16\n",
    "\n",
    "\n",
    "def convert_to_tf_dataset(hf_dataset, collator, batch_size=batch_size, shuffle=False):\n",
    "    return hf_dataset.to_tf_dataset(\n",
    "        columns=[\"input_ids\", \"attention_mask\"],\n",
    "        label_cols=[\"is_sarcastic\"],\n",
    "        collate_fn=collator,\n",
    "        shuffle=shuffle,\n",
    "        batch_size=batch_size,\n",
    "    )\n",
    "\n",
    "\n",
    "data_collator = DataCollatorWithPadding(tokenizer=tokenizer, return_tensors=\"tf\")\n",
    "\n",
    "tf_train_dataset = convert_to_tf_dataset(hf_dataset=tokenized_train_dataset, collator=data_collator)\n",
    "tf_val_dataset = convert_to_tf_dataset(hf_dataset=tokenized_val_dataset, collator=data_collator)\n",
    "tf_test_dataset = convert_to_tf_dataset(hf_dataset=tokenized_test_dataset, collator=data_collator)"
   ]
  },
  {
   "cell_type": "code",
   "execution_count": 13,
   "metadata": {
    "id": "Cul0LLLXYNB9",
    "ExecuteTime": {
     "end_time": "2023-05-30T07:58:18.356407Z",
     "start_time": "2023-05-30T07:58:18.031373Z"
    }
   },
   "outputs": [],
   "source": [
    "import sys\n",
    "\n",
    "sys.path.append('../../notebooks')\n",
    "from notebooks import Constants\n",
    "\n",
    "# Callbacks\n",
    "training_number = 3\n",
    "model_name = \"sarcasm_eng_gpt2\"\n",
    "training_folder = f\"training_{training_number}\"\n",
    "checkpoint_filename = \"cp-{epoch:04d}.ckpt\"\n",
    "training_path = os.path.join(Constants.TRAINING_CHECKPOINTS_PATH, model_name, training_folder)\n",
    "checkpoint_path = os.path.join(training_path, checkpoint_filename)\n",
    "checkpoint_cb = tf.keras.callbacks.ModelCheckpoint(checkpoint_path, verbose=1, save_weights_only=True)\n",
    "\n",
    "early_stop_cb = tf.keras.callbacks.EarlyStopping(patience=3)"
   ]
  },
  {
   "cell_type": "code",
   "execution_count": 14,
   "metadata": {
    "id": "eTzBLhHVYNB9",
    "outputId": "3832f081-268e-4005-d2f6-d71ff407c64e",
    "ExecuteTime": {
     "end_time": "2023-05-30T07:58:18.903842900Z",
     "start_time": "2023-05-30T07:58:18.896399500Z"
    }
   },
   "outputs": [
    {
     "data": {
      "text/plain": "'../../training_checkpoints\\\\sarcasm_eng_gpt2\\\\training_3\\\\cp-{epoch:04d}.ckpt'"
     },
     "execution_count": 14,
     "metadata": {},
     "output_type": "execute_result"
    }
   ],
   "source": [
    "checkpoint_path"
   ]
  },
  {
   "cell_type": "code",
   "execution_count": 15,
   "metadata": {
    "id": "1FL-_F19YNB-",
    "ExecuteTime": {
     "end_time": "2023-05-30T07:58:19.839820700Z",
     "start_time": "2023-05-30T07:58:19.829485400Z"
    }
   },
   "outputs": [],
   "source": [
    "from tensorflow.keras.optimizers.schedules import PolynomialDecay\n",
    "from tensorflow.keras.optimizers import Adam\n",
    "\n",
    "num_epochs = 10\n",
    "# The number of training steps is the number of samples in the dataset, divided by the batch size then multiplied\n",
    "# by the total number of epochs. Note that the tf_train_dataset here is a batched tf.data.Dataset,\n",
    "# not the original Hugging Face Dataset, so its len() is already num_samples // batch_size.\n",
    "num_train_steps = len(tf_train_dataset) * num_epochs\n",
    "lr_scheduler = PolynomialDecay(\n",
    "    initial_learning_rate=5e-5, end_learning_rate=0.0, decay_steps=num_train_steps\n",
    ")\n",
    "\n",
    "optimizer = Adam(learning_rate=lr_scheduler)"
   ]
  },
  {
   "cell_type": "code",
   "execution_count": 16,
   "metadata": {
    "id": "yIfEW7T4YNB-",
    "outputId": "a3585925-4ca8-40dd-ec28-e3741ffadf19",
    "ExecuteTime": {
     "end_time": "2023-05-30T07:58:22.343601400Z",
     "start_time": "2023-05-30T07:58:20.245094Z"
    }
   },
   "outputs": [
    {
     "name": "stderr",
     "output_type": "stream",
     "text": [
      "All model checkpoint layers were used when initializing TFGPT2ForSequenceClassification.\n",
      "\n",
      "Some layers of TFGPT2ForSequenceClassification were not initialized from the model checkpoint at gpt2 and are newly initialized: ['score']\n",
      "You should probably TRAIN this model on a down-stream task to be able to use it for predictions and inference.\n"
     ]
    }
   ],
   "source": [
    "from transformers import TFAutoModelForSequenceClassification\n",
    "\n",
    "model = TFAutoModelForSequenceClassification.from_pretrained(checkpoint, pad_token_id=tokenizer.pad_token_id,\n",
    "                                                             eos_token_id=tokenizer.eos_token_id, use_cache=False,\n",
    "                                                             num_labels=2)"
   ]
  },
  {
   "cell_type": "code",
   "execution_count": 17,
   "metadata": {
    "id": "Br72t-R9YNB_",
    "outputId": "fb3f4432-ac9f-45b0-f77c-082530f53ab2",
    "ExecuteTime": {
     "end_time": "2023-05-30T07:58:22.388571700Z",
     "start_time": "2023-05-30T07:58:22.345599900Z"
    }
   },
   "outputs": [
    {
     "name": "stdout",
     "output_type": "stream",
     "text": [
      "Model: \"tfgp_t2for_sequence_classification\"\n",
      "_________________________________________________________________\n",
      "Layer (type)                 Output Shape              Param #   \n",
      "=================================================================\n",
      "score (Dense)                multiple                  1536      \n",
      "_________________________________________________________________\n",
      "transformer (TFGPT2MainLayer multiple                  124439808 \n",
      "=================================================================\n",
      "Total params: 124,441,344\n",
      "Trainable params: 124,441,344\n",
      "Non-trainable params: 0\n",
      "_________________________________________________________________\n"
     ]
    }
   ],
   "source": [
    "model.summary()"
   ]
  },
  {
   "cell_type": "code",
   "execution_count": 18,
   "metadata": {
    "id": "5vzQiE1TYNB_",
    "ExecuteTime": {
     "end_time": "2023-05-30T07:58:24.641272700Z",
     "start_time": "2023-05-30T07:58:24.621194800Z"
    }
   },
   "outputs": [],
   "source": [
    "# Compile\n",
    "loss = tf.keras.losses.SparseCategoricalCrossentropy(from_logits=True)\n",
    "metrics = [\"accuracy\"]\n",
    "model.compile(optimizer=optimizer, loss=loss, metrics=metrics)"
   ]
  },
  {
   "cell_type": "code",
   "execution_count": 19,
   "metadata": {
    "id": "MKVJVVG0YNCA",
    "outputId": "581edcf5-68b4-4cdb-f44f-95d83c54bef1",
    "ExecuteTime": {
     "end_time": "2023-05-30T08:16:22.073541600Z",
     "start_time": "2023-05-30T07:58:24.952456900Z"
    }
   },
   "outputs": [
    {
     "name": "stdout",
     "output_type": "stream",
     "text": [
      "Epoch 1/10\n",
      "1431/1431 [==============================] - 192s 125ms/step - loss: 0.4703 - accuracy: 0.7688 - val_loss: 0.3567 - val_accuracy: 0.8560\n",
      "\n",
      "Epoch 00001: saving model to ../../training_checkpoints\\sarcasm_eng_gpt2\\training_3\\cp-0001.ckpt\n",
      "Epoch 2/10\n",
      "1431/1431 [==============================] - 175s 122ms/step - loss: 0.2670 - accuracy: 0.8870 - val_loss: 0.3119 - val_accuracy: 0.8823\n",
      "\n",
      "Epoch 00002: saving model to ../../training_checkpoints\\sarcasm_eng_gpt2\\training_3\\cp-0002.ckpt\n",
      "Epoch 3/10\n",
      "1431/1431 [==============================] - 174s 121ms/step - loss: 0.1814 - accuracy: 0.9264 - val_loss: 0.3005 - val_accuracy: 0.8969\n",
      "\n",
      "Epoch 00003: saving model to ../../training_checkpoints\\sarcasm_eng_gpt2\\training_3\\cp-0003.ckpt\n",
      "Epoch 4/10\n",
      "1431/1431 [==============================] - 174s 121ms/step - loss: 0.1188 - accuracy: 0.9536 - val_loss: 0.3527 - val_accuracy: 0.8931\n",
      "\n",
      "Epoch 00004: saving model to ../../training_checkpoints\\sarcasm_eng_gpt2\\training_3\\cp-0004.ckpt\n",
      "Epoch 5/10\n",
      "1431/1431 [==============================] - 174s 121ms/step - loss: 0.0795 - accuracy: 0.9699 - val_loss: 0.3308 - val_accuracy: 0.8973\n",
      "\n",
      "Epoch 00005: saving model to ../../training_checkpoints\\sarcasm_eng_gpt2\\training_3\\cp-0005.ckpt\n",
      "Epoch 6/10\n",
      "1431/1431 [==============================] - 174s 121ms/step - loss: 0.0470 - accuracy: 0.9832 - val_loss: 0.5357 - val_accuracy: 0.8878\n",
      "\n",
      "Epoch 00006: saving model to ../../training_checkpoints\\sarcasm_eng_gpt2\\training_3\\cp-0006.ckpt\n"
     ]
    }
   ],
   "source": [
    "history = model.fit(tf_train_dataset, validation_data=tf_val_dataset, epochs=num_epochs,\n",
    "                    callbacks=[checkpoint_cb, early_stop_cb])"
   ]
  },
  {
   "cell_type": "code",
   "execution_count": 20,
   "metadata": {
    "id": "8dzdtjYnYNCA",
    "outputId": "a324428d-c799-4ea4-afa5-91aec06cefba",
    "ExecuteTime": {
     "end_time": "2023-05-30T08:16:22.340215500Z",
     "start_time": "2023-05-30T08:16:22.074543200Z"
    }
   },
   "outputs": [
    {
     "data": {
      "text/plain": "<Figure size 640x480 with 1 Axes>",
      "image/png": "[encoded data removed]"
     },
     "metadata": {},
     "output_type": "display_data"
    },
    {
     "data": {
      "text/plain": "<Figure size 640x480 with 1 Axes>",
      "image/png": "[encoded data removed]"
     },
     "metadata": {},
     "output_type": "display_data"
    }
   ],
   "source": [
    "plt.plot(history.history['accuracy'])\n",
    "plt.plot(history.history['val_accuracy'])\n",
    "plt.title('Model accuracy')\n",
    "plt.ylabel('Accuracy')\n",
    "plt.xlabel('Epoch')\n",
    "plt.legend(['Train', 'Val'], loc='upper left')\n",
    "plt.savefig(f\"../../documentation/models/{model_name}/figures/{training_folder}_accuracy.png\")\n",
    "plt.show()\n",
    "\n",
    "plt.plot(history.history['loss'])\n",
    "plt.plot(history.history['val_loss'])\n",
    "plt.title('Model loss')\n",
    "plt.ylabel('Loss')\n",
    "plt.xlabel('Epoch')\n",
    "plt.legend(['Train', 'Val'], loc='upper left')\n",
    "plt.savefig(f\"../../documentation/models/{model_name}/figures/{training_folder}_loss.png\")\n",
    "plt.show()"
   ]
  },
  {
   "cell_type": "code",
   "execution_count": 21,
   "metadata": {
    "id": "N2Pn8rnOYNCA",
    "outputId": "0a16c6cf-dd25-46a2-cd3e-9a320f525404",
    "ExecuteTime": {
     "end_time": "2023-05-30T08:16:25.061915400Z",
     "start_time": "2023-05-30T08:16:22.341213500Z"
    }
   },
   "outputs": [],
   "source": [
    "import shutil\n",
    "\n",
    "best_model_checkpoint_index = np.argmin(history.history[\"val_accuracy\"]) + 1\n",
    "best_model_weights_path = os.path.join(training_path, checkpoint_filename.format(epoch=best_model_checkpoint_index))\n",
    "best_model = model\n",
    "best_model.load_weights(best_model_weights_path)\n",
    "\n",
    "shutil.rmtree(training_path)"
   ]
  },
  {
   "cell_type": "code",
   "execution_count": 22,
   "metadata": {
    "id": "TppFtVNWYNCB",
    "outputId": "9de40922-0b69-4ca5-d49e-edff85d3a090",
    "ExecuteTime": {
     "end_time": "2023-05-30T08:17:00.904370300Z",
     "start_time": "2023-05-30T08:16:25.063420700Z"
    }
   },
   "outputs": [
    {
     "name": "stderr",
     "output_type": "stream",
     "text": [
      "WARNING:absl:Found untraced functions such as wte_layer_call_and_return_conditional_losses, wte_layer_call_fn, dropout_layer_call_and_return_conditional_losses, dropout_layer_call_fn, ln_f_layer_call_and_return_conditional_losses while saving (showing 5 of 735). These functions will not be directly callable after loading.\n"
     ]
    },
    {
     "name": "stdout",
     "output_type": "stream",
     "text": [
      "INFO:tensorflow:Assets written to: ../../trained_models\\sarcasm_eng_gpt2_3\\1\\assets\n"
     ]
    },
    {
     "name": "stderr",
     "output_type": "stream",
     "text": [
      "INFO:tensorflow:Assets written to: ../../trained_models\\sarcasm_eng_gpt2_3\\1\\assets\n"
     ]
    }
   ],
   "source": [
    "saved_model_name = f\"{model_name}_{training_number}\"\n",
    "\n",
    "# Save to Saved Model format\n",
    "best_model.save(os.path.join(Constants.SAVED_MODEL_LOCATION, saved_model_name, Constants.DEFAULT_MODEL_VERSION))"
   ]
  },
  {
   "cell_type": "code",
   "execution_count": 23,
   "metadata": {
    "id": "fVnaC9mEYNCB",
    "outputId": "ff61cc25-d8bb-4d72-9f4e-67f5ef856344",
    "ExecuteTime": {
     "end_time": "2023-05-30T08:17:08.197653800Z",
     "start_time": "2023-05-30T08:17:00.905369400Z"
    }
   },
   "outputs": [
    {
     "name": "stdout",
     "output_type": "stream",
     "text": [
      "179/179 [==============================] - 7s 40ms/step - loss: 0.3547 - accuracy: 0.8539\n"
     ]
    },
    {
     "data": {
      "text/plain": "[0.35474851727485657, 0.8539482951164246]"
     },
     "execution_count": 23,
     "metadata": {},
     "output_type": "execute_result"
    }
   ],
   "source": [
    "# Evaluation\n",
    "best_model.evaluate(tf_test_dataset, batch_size=32)"
   ]
  },
  {
   "cell_type": "code",
   "execution_count": 24,
   "metadata": {
    "id": "uVWYgU0wYNCC",
    "ExecuteTime": {
     "end_time": "2023-05-30T08:17:16.431762700Z",
     "start_time": "2023-05-30T08:17:08.199655600Z"
    }
   },
   "outputs": [],
   "source": [
    "# Getting predictions\n",
    "prediction_logits = best_model.predict(tf_test_dataset)['logits']\n",
    "probabilities = tf.nn.softmax(prediction_logits)\n",
    "class_preds = np.argmax(probabilities, axis=1)"
   ]
  },
  {
   "cell_type": "code",
   "execution_count": 25,
   "metadata": {
    "id": "uxQYPiK6YNCC",
    "ExecuteTime": {
     "end_time": "2023-05-30T08:17:16.479245900Z",
     "start_time": "2023-05-30T08:17:16.433762500Z"
    }
   },
   "outputs": [
    {
     "name": "stdout",
     "output_type": "stream",
     "text": [
      "Precision score:  0.8977853492333902\n",
      "Recall score:  0.7795857988165681\n",
      "F1 score:  0.8345209817893904\n"
     ]
    }
   ],
   "source": [
    "from sklearn.metrics import precision_score, recall_score, f1_score\n",
    "\n",
    "precision = precision_score(tokenized_test_dataset['is_sarcastic'], class_preds)\n",
    "recall = recall_score(tokenized_test_dataset['is_sarcastic'], class_preds)\n",
    "f1 = f1_score(tokenized_test_dataset['is_sarcastic'], class_preds)\n",
    "\n",
    "print(f\"Precision score: \", precision)\n",
    "print(f\"Recall score: \", recall)\n",
    "print(f\"F1 score: \", f1)"
   ]
  },
  {
   "cell_type": "code",
   "execution_count": 26,
   "metadata": {
    "id": "dkk5zWtmYNCC",
    "ExecuteTime": {
     "end_time": "2023-05-30T08:17:16.619782Z",
     "start_time": "2023-05-30T08:17:16.480248Z"
    }
   },
   "outputs": [
    {
     "data": {
      "text/plain": "<Figure size 640x480 with 2 Axes>",
      "image/png": "[encoded data removed]"
     },
     "metadata": {},
     "output_type": "display_data"
    }
   ],
   "source": [
    "from sklearn.metrics import confusion_matrix, ConfusionMatrixDisplay\n",
    "\n",
    "result = confusion_matrix(tokenized_test_dataset['is_sarcastic'], class_preds)\n",
    "\n",
    "disp = ConfusionMatrixDisplay(confusion_matrix=result)\n",
    "disp.plot()\n",
    "plt.savefig(f\"../../documentation/models/{model_name}/figures/{training_folder}_confmatrix.png\")\n",
    "plt.show()"
   ]
  },
  {
   "cell_type": "code",
   "execution_count": 43,
   "metadata": {
    "collapsed": false,
    "ExecuteTime": {
     "end_time": "2023-05-30T08:57:03.021021100Z",
     "start_time": "2023-05-30T08:57:02.969963100Z"
    }
   },
   "outputs": [
    {
     "name": "stdout",
     "output_type": "stream",
     "text": [
      "\n",
      "        BAD PREDICTION:\n",
      "        - INDEX: 3\n",
      "        - TEXT: inclement weather prevents liar from getting to work\n",
      "        - PREDICTED VALUE: 0\n",
      "        - CORRECT VALUE: 1\n",
      "        \n",
      "\n",
      "        BAD PREDICTION:\n",
      "        - INDEX: 4\n",
      "        - TEXT: mother comes pretty close to using word 'streaming' correctly\n",
      "        - PREDICTED VALUE: 0\n",
      "        - CORRECT VALUE: 1\n",
      "        \n",
      "\n",
      "        BAD PREDICTION:\n",
      "        - INDEX: 9\n",
      "        - TEXT: lots of parents know this scenario\n",
      "        - PREDICTED VALUE: 1\n",
      "        - CORRECT VALUE: 0\n",
      "        \n",
      "\n",
      "        BAD PREDICTION:\n",
      "        - INDEX: 10\n",
      "        - TEXT: this lesbian is considered a father in indiana (and an amazing one at that)\n",
      "        - PREDICTED VALUE: 1\n",
      "        - CORRECT VALUE: 0\n",
      "        \n",
      "\n",
      "        BAD PREDICTION:\n",
      "        - INDEX: 11\n",
      "        - TEXT: amanda peet told her daughter sex is 'a special hug'\n",
      "        - PREDICTED VALUE: 1\n",
      "        - CORRECT VALUE: 0\n",
      "        \n",
      "\n",
      "        BAD PREDICTION:\n",
      "        - INDEX: 15\n",
      "        - TEXT: uber ceo travis kalanick stepping down from trump economic advisory council\n",
      "        - PREDICTED VALUE: 1\n",
      "        - CORRECT VALUE: 0\n",
      "        \n",
      "\n",
      "        BAD PREDICTION:\n",
      "        - INDEX: 16\n",
      "        - TEXT: area boy enters jumping-and-touching-tops-of-doorways phase\n",
      "        - PREDICTED VALUE: 0\n",
      "        - CORRECT VALUE: 1\n",
      "        \n",
      "\n",
      "        BAD PREDICTION:\n",
      "        - INDEX: 18\n",
      "        - TEXT: leave no person with disabilities behind\n",
      "        - PREDICTED VALUE: 1\n",
      "        - CORRECT VALUE: 0\n",
      "        \n",
      "\n",
      "        BAD PREDICTION:\n",
      "        - INDEX: 20\n",
      "        - TEXT: 60 journalists killed in 2014 as targeting of international press rises\n",
      "        - PREDICTED VALUE: 1\n",
      "        - CORRECT VALUE: 0\n",
      "        \n",
      "\n",
      "        BAD PREDICTION:\n",
      "        - INDEX: 21\n",
      "        - TEXT: guard in video game under strict orders to repeatedly pace same stretch of hallway\n",
      "        - PREDICTED VALUE: 0\n",
      "        - CORRECT VALUE: 1\n",
      "        \n",
      "\n",
      "        BAD PREDICTION:\n",
      "        - INDEX: 24\n",
      "        - TEXT: bill clinton shoots down republicans: 'i strongly supported' obamacare\n",
      "        - PREDICTED VALUE: 1\n",
      "        - CORRECT VALUE: 0\n",
      "        \n",
      "\n",
      "        BAD PREDICTION:\n",
      "        - INDEX: 25\n",
      "        - TEXT: secret service agent not so secret about being david alan grier fan\n",
      "        - PREDICTED VALUE: 0\n",
      "        - CORRECT VALUE: 1\n",
      "        \n",
      "\n",
      "        BAD PREDICTION:\n",
      "        - INDEX: 26\n",
      "        - TEXT: this new orange era: the growing divide\n",
      "        - PREDICTED VALUE: 1\n",
      "        - CORRECT VALUE: 0\n",
      "        \n",
      "\n",
      "        BAD PREDICTION:\n",
      "        - INDEX: 27\n",
      "        - TEXT: things learned in the first month of having a baby\n",
      "        - PREDICTED VALUE: 1\n",
      "        - CORRECT VALUE: 0\n",
      "        \n",
      "\n",
      "        BAD PREDICTION:\n",
      "        - INDEX: 28\n",
      "        - TEXT: lamelo ball scores 92 points in a single high school basketball game\n",
      "        - PREDICTED VALUE: 1\n",
      "        - CORRECT VALUE: 0\n",
      "        \n",
      "\n",
      "        BAD PREDICTION:\n",
      "        - INDEX: 30\n",
      "        - TEXT: 10 essential life lessons from a grandma\n",
      "        - PREDICTED VALUE: 1\n",
      "        - CORRECT VALUE: 0\n",
      "        \n",
      "\n",
      "        BAD PREDICTION:\n",
      "        - INDEX: 33\n",
      "        - TEXT: leading probability researchers confounded by three coworkers wearing same shirt color on same day\n",
      "        - PREDICTED VALUE: 0\n",
      "        - CORRECT VALUE: 1\n",
      "        \n",
      "\n",
      "        BAD PREDICTION:\n",
      "        - INDEX: 40\n",
      "        - TEXT: the best clothes for the man-child in your life\n",
      "        - PREDICTED VALUE: 1\n",
      "        - CORRECT VALUE: 0\n",
      "        \n",
      "\n",
      "        BAD PREDICTION:\n",
      "        - INDEX: 46\n",
      "        - TEXT: report: bridge probably has whole mess of bats under there\n",
      "        - PREDICTED VALUE: 0\n",
      "        - CORRECT VALUE: 1\n",
      "        \n",
      "\n",
      "        BAD PREDICTION:\n",
      "        - INDEX: 47\n",
      "        - TEXT: texas republicans urge trump-style immigration crackdown\n",
      "        - PREDICTED VALUE: 1\n",
      "        - CORRECT VALUE: 0\n",
      "        \n",
      "\n",
      "        BAD PREDICTION:\n",
      "        - INDEX: 49\n",
      "        - TEXT: god getting strong urge to bring back dinosaurs\n",
      "        - PREDICTED VALUE: 0\n",
      "        - CORRECT VALUE: 1\n",
      "        \n",
      "\n",
      "        BAD PREDICTION:\n",
      "        - INDEX: 50\n",
      "        - TEXT: lgbt christians speak out: \"love the sinner, hate the sin\" won't cut it anymore\n",
      "        - PREDICTED VALUE: 1\n",
      "        - CORRECT VALUE: 0\n",
      "        \n",
      "\n",
      "        BAD PREDICTION:\n",
      "        - INDEX: 51\n",
      "        - TEXT: handshake comes in at unusually high angle, velocity\n",
      "        - PREDICTED VALUE: 0\n",
      "        - CORRECT VALUE: 1\n",
      "        \n",
      "\n",
      "        BAD PREDICTION:\n",
      "        - INDEX: 53\n",
      "        - TEXT: report: make it stop\n",
      "        - PREDICTED VALUE: 0\n",
      "        - CORRECT VALUE: 1\n",
      "        \n",
      "\n",
      "        BAD PREDICTION:\n",
      "        - INDEX: 57\n",
      "        - TEXT: gop congressman may not vote for president at all\n",
      "        - PREDICTED VALUE: 1\n",
      "        - CORRECT VALUE: 0\n",
      "        \n"
     ]
    }
   ],
   "source": [
    "bad_prediction_count = 0\n",
    "predictions_index = 0\n",
    "\n",
    "while bad_prediction_count < 25 and predictions_index < raw_dataset.num_rows:\n",
    "    predictions_index += 1\n",
    "\n",
    "    # if bad prediction then show text and increase count\n",
    "    if class_preds[predictions_index] != raw_dataset[predictions_index]['is_sarcastic']:\n",
    "        print(f\"\"\"\n",
    "        BAD PREDICTION:\n",
    "        - INDEX: {predictions_index}\n",
    "        - TEXT: {raw_dataset[predictions_index]['headline']}\n",
    "        - PREDICTED VALUE: {class_preds[predictions_index]}\n",
    "        - CORRECT VALUE: {raw_dataset[predictions_index]['is_sarcastic']}\n",
    "        \"\"\")\n",
    "        bad_prediction_count += 1"
   ]
  },
  {
   "cell_type": "code",
   "execution_count": null,
   "outputs": [],
   "source": [],
   "metadata": {
    "collapsed": false
   }
  }
 ],
 "metadata": {
  "accelerator": "GPU",
  "colab": {
   "gpuType": "T4",
   "provenance": []
  },
  "gpuClass": "standard",
  "kernelspec": {
   "display_name": "Python 3",
   "language": "python",
   "name": "python3"
  },
  "language_info": {
   "codemirror_mode": {
    "name": "ipython",
    "version": 2
   },
   "file_extension": ".py",
   "mimetype": "text/x-python",
   "name": "python",
   "nbconvert_exporter": "python",
   "pygments_lexer": "ipython2",
   "version": "3.10.11"
  }
 },
 "nbformat": 4,
 "nbformat_minor": 0
}
