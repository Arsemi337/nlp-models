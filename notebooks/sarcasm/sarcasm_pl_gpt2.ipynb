{
 "cells": [
  {
   "cell_type": "code",
   "execution_count": 1,
   "outputs": [],
   "source": [
    "import sys\n",
    "\n",
    "sys.path.append('../../notebooks')\n",
    "import os\n",
    "import pandas as pd\n",
    "import tensorflow as tf\n",
    "import matplotlib.pyplot as plt\n",
    "from notebooks.core import constants\n",
    "from notebooks.core import model_utils"
   ],
   "metadata": {
    "collapsed": false,
    "ExecuteTime": {
     "end_time": "2023-06-13T17:17:22.829091Z",
     "start_time": "2023-06-13T17:17:20.061179900Z"
    }
   }
  },
  {
   "cell_type": "code",
   "execution_count": 2,
   "outputs": [],
   "source": [
    "df = pd.read_json(\"../../data/translated/sarcasm/sarcasm_headlines_dataset_pl.json\")"
   ],
   "metadata": {
    "collapsed": false,
    "ExecuteTime": {
     "end_time": "2023-06-13T17:17:22.906228300Z",
     "start_time": "2023-06-13T17:17:22.832091600Z"
    }
   }
  },
  {
   "cell_type": "code",
   "execution_count": 3,
   "outputs": [
    {
     "data": {
      "text/plain": "       is_sarcastic                                        headline_pl\n0                 1  Naukowcy z lat trzydziestych odkrywają zegar z...\n1                 0  Reprezentantka rządu USA wyjaśnia, dlaczego Ko...\n2                 0          Jedz warzywa: 9 pysznie różnych przepisów\n3                 1  Nieprzyjemna pogoda uniemożliwia kłamcy dotarc...\n4                 1  matka jest bardzo blisko użycia słowa \"streami...\n...             ...                                                ...\n28614             1               Żydzi świętują Rosh Hashasha czy coś\n28615             1  Śledczy spraw wewnętrznych rozczarowany spiski...\n28616             0  Najpiękniejsza przemowa akceptacyjna w tym tyg...\n28617             1  Mars zniszczony przez pałac kosmiczny na orbic...\n28618             1  Tata wyjaśnia, że to nie jest przerwa na jedzenie\n\n[28619 rows x 2 columns]",
      "text/html": "<div>\n<style scoped>\n    .dataframe tbody tr th:only-of-type {\n        vertical-align: middle;\n    }\n\n    .dataframe tbody tr th {\n        vertical-align: top;\n    }\n\n    .dataframe thead th {\n        text-align: right;\n    }\n</style>\n<table border=\"1\" class=\"dataframe\">\n  <thead>\n    <tr style=\"text-align: right;\">\n      <th></th>\n      <th>is_sarcastic</th>\n      <th>headline_pl</th>\n    </tr>\n  </thead>\n  <tbody>\n    <tr>\n      <th>0</th>\n      <td>1</td>\n      <td>Naukowcy z lat trzydziestych odkrywają zegar z...</td>\n    </tr>\n    <tr>\n      <th>1</th>\n      <td>0</td>\n      <td>Reprezentantka rządu USA wyjaśnia, dlaczego Ko...</td>\n    </tr>\n    <tr>\n      <th>2</th>\n      <td>0</td>\n      <td>Jedz warzywa: 9 pysznie różnych przepisów</td>\n    </tr>\n    <tr>\n      <th>3</th>\n      <td>1</td>\n      <td>Nieprzyjemna pogoda uniemożliwia kłamcy dotarc...</td>\n    </tr>\n    <tr>\n      <th>4</th>\n      <td>1</td>\n      <td>matka jest bardzo blisko użycia słowa \"streami...</td>\n    </tr>\n    <tr>\n      <th>...</th>\n      <td>...</td>\n      <td>...</td>\n    </tr>\n    <tr>\n      <th>28614</th>\n      <td>1</td>\n      <td>Żydzi świętują Rosh Hashasha czy coś</td>\n    </tr>\n    <tr>\n      <th>28615</th>\n      <td>1</td>\n      <td>Śledczy spraw wewnętrznych rozczarowany spiski...</td>\n    </tr>\n    <tr>\n      <th>28616</th>\n      <td>0</td>\n      <td>Najpiękniejsza przemowa akceptacyjna w tym tyg...</td>\n    </tr>\n    <tr>\n      <th>28617</th>\n      <td>1</td>\n      <td>Mars zniszczony przez pałac kosmiczny na orbic...</td>\n    </tr>\n    <tr>\n      <th>28618</th>\n      <td>1</td>\n      <td>Tata wyjaśnia, że to nie jest przerwa na jedzenie</td>\n    </tr>\n  </tbody>\n</table>\n<p>28619 rows × 2 columns</p>\n</div>"
     },
     "execution_count": 3,
     "metadata": {},
     "output_type": "execute_result"
    }
   ],
   "source": [
    "df = df.drop(columns=['article_link', 'headline'])\n",
    "df"
   ],
   "metadata": {
    "collapsed": false,
    "ExecuteTime": {
     "end_time": "2023-06-13T17:17:22.922286500Z",
     "start_time": "2023-06-13T17:17:22.909229Z"
    }
   }
  },
  {
   "cell_type": "code",
   "execution_count": 4,
   "outputs": [
    {
     "data": {
      "text/plain": "<Figure size 640x480 with 1 Axes>",
      "image/png": "[encoded data removed]"
     },
     "metadata": {},
     "output_type": "display_data"
    }
   ],
   "source": [
    "data = df[\"is_sarcastic\"]\n",
    "data.value_counts().plot.bar()\n",
    "plt.show()"
   ],
   "metadata": {
    "collapsed": false,
    "ExecuteTime": {
     "end_time": "2023-06-13T17:17:23.048083800Z",
     "start_time": "2023-06-13T17:17:22.923287900Z"
    }
   }
  },
  {
   "cell_type": "code",
   "execution_count": 5,
   "outputs": [
    {
     "data": {
      "text/plain": "Dataset({\n    features: ['is_sarcastic', 'headline_pl'],\n    num_rows: 28619\n})"
     },
     "execution_count": 5,
     "metadata": {},
     "output_type": "execute_result"
    }
   ],
   "source": [
    "from datasets import Dataset\n",
    "\n",
    "raw_dataset = Dataset.from_pandas(df).remove_columns(\"__index_level_0__\")\n",
    "raw_dataset"
   ],
   "metadata": {
    "collapsed": false,
    "ExecuteTime": {
     "end_time": "2023-06-13T17:17:23.354645400Z",
     "start_time": "2023-06-13T17:17:23.032102500Z"
    }
   }
  },
  {
   "cell_type": "code",
   "execution_count": 6,
   "outputs": [],
   "source": [
    "from transformers import AutoTokenizer\n",
    "\n",
    "MAX_TOKENS = 128\n",
    "EOS_TOKEN = \"<|endoftext|>\"\n",
    "checkpoint = \"flax-community/papuGaPT2\"\n",
    "\n",
    "tokenizer = AutoTokenizer.from_pretrained(\n",
    "    checkpoint,\n",
    "    eos_token=EOS_TOKEN,\n",
    "    pad_token=EOS_TOKEN,\n",
    "    max_length=MAX_TOKENS,\n",
    "    is_split_into_words=True,\n",
    ")\n",
    "\n",
    "tokenizer.padding_side = \"left\""
   ],
   "metadata": {
    "collapsed": false,
    "ExecuteTime": {
     "end_time": "2023-06-13T17:17:23.901249Z",
     "start_time": "2023-06-13T17:17:23.357652600Z"
    }
   }
  },
  {
   "cell_type": "code",
   "execution_count": 7,
   "outputs": [],
   "source": [
    "def tokenize_function(examples):\n",
    "    examples = [ex + EOS_TOKEN for ex in examples['headline_pl']]\n",
    "\n",
    "    output = tokenizer(\n",
    "        examples,\n",
    "        add_special_tokens=True,\n",
    "        max_length=MAX_TOKENS,\n",
    "        truncation=True,\n",
    "        padding=True,\n",
    "    )\n",
    "\n",
    "    # truncate input ids and attention mask to account for label shift\n",
    "    output[\"input_ids\"] = [x[:-1] for x in output[\"input_ids\"]]\n",
    "    output[\"attention_mask\"] = [x[:-1] for x in output[\"attention_mask\"]]\n",
    "    return output"
   ],
   "metadata": {
    "collapsed": false,
    "ExecuteTime": {
     "end_time": "2023-06-13T17:17:23.917258500Z",
     "start_time": "2023-06-13T17:17:23.904374100Z"
    }
   }
  },
  {
   "cell_type": "code",
   "execution_count": 8,
   "outputs": [
    {
     "data": {
      "text/plain": "Map:   0%|          | 0/28619 [00:00<?, ? examples/s]",
      "application/vnd.jupyter.widget-view+json": {
       "version_major": 2,
       "version_minor": 0,
       "model_id": "c50f8964eea442238798a789d7081232"
      }
     },
     "metadata": {},
     "output_type": "display_data"
    }
   ],
   "source": [
    "tokenized_dataset = raw_dataset.map(tokenize_function, batched=True)"
   ],
   "metadata": {
    "collapsed": false,
    "ExecuteTime": {
     "end_time": "2023-06-13T17:17:24.929212600Z",
     "start_time": "2023-06-13T17:17:23.918258Z"
    }
   }
  },
  {
   "cell_type": "code",
   "execution_count": 9,
   "outputs": [],
   "source": [
    "# Train set: 80%, Validation set: 10%, Test set: 10%\n",
    "tokenized_train_dataset, tokenized_val_dataset, tokenized_test_dataset = model_utils.split_train_val_test(\n",
    "    tokenized_dataset,\n",
    "    train_size=0.8,\n",
    "    test_size_of_val_test_batch=0.5,\n",
    "    shuffle=True,\n",
    "    seed=42)"
   ],
   "metadata": {
    "collapsed": false,
    "ExecuteTime": {
     "end_time": "2023-06-13T17:17:24.946398700Z",
     "start_time": "2023-06-13T17:17:24.931209600Z"
    }
   }
  },
  {
   "cell_type": "code",
   "execution_count": 10,
   "outputs": [
    {
     "data": {
      "text/plain": "['Profil randkowy płasko stwierdza, że mężczyzna szuka kogoś, kogo może kontrolować',\n 'Sasha i Malia Obama próbowali (i nie udało im się) spotkać gwiazdę piłki nożnej w Argentynie',\n 'Sieci przerwą dzienne pokazy prawdziwego mydła, gdy komediant zeznaje',\n 'Najwyższy anglikański przywódca w Ugandzie podwaja prawo antygejowskie',\n 'Usterka komputera Wells Fargo przypadkowo zamyka wszystkie 5700 oddziałów']"
     },
     "execution_count": 10,
     "metadata": {},
     "output_type": "execute_result"
    }
   ],
   "source": [
    "tokenized_train_dataset['headline_pl'][:5]"
   ],
   "metadata": {
    "collapsed": false,
    "ExecuteTime": {
     "end_time": "2023-06-13T17:17:25.038871200Z",
     "start_time": "2023-06-13T17:17:24.948397800Z"
    }
   }
  },
  {
   "cell_type": "code",
   "execution_count": 11,
   "outputs": [
    {
     "name": "stderr",
     "output_type": "stream",
     "text": [
      "C:\\Users\\Karol\\anaconda3\\envs\\ml-tf2gpu\\lib\\site-packages\\datasets\\arrow_dataset.py:388: FutureWarning: The output of `to_tf_dataset` will change when a passing single element list for `labels` or `columns` in the next datasets version. To return a tuple structure rather than dict, pass a single string.\n",
      "Old behaviour: columns=['a'], labels=['labels'] -> (tf.Tensor, tf.Tensor)  \n",
      "             : columns='a', labels='labels' -> (tf.Tensor, tf.Tensor)  \n",
      "New behaviour: columns=['a'],labels=['labels'] -> ({'a': tf.Tensor}, {'labels': tf.Tensor})  \n",
      "             : columns='a', labels='labels' -> (tf.Tensor, tf.Tensor) \n",
      "  warnings.warn(\n",
      "You're using a GPT2TokenizerFast tokenizer. Please note that with a fast tokenizer, using the `__call__` method is faster than using a method to encode the text followed by a call to the `pad` method to get a padded encoding.\n"
     ]
    }
   ],
   "source": [
    "from transformers import DataCollatorWithPadding\n",
    "\n",
    "columns = [\"input_ids\", \"attention_mask\"]\n",
    "label_cols = [\"is_sarcastic\"]\n",
    "batch_size = 16\n",
    "data_collator = DataCollatorWithPadding(tokenizer=tokenizer, return_tensors=\"tf\")\n",
    "\n",
    "tf_train_dataset = model_utils.convert_to_tf_dataset(tokenized_train_dataset, columns, label_cols, data_collator,\n",
    "                                                     batch_size)\n",
    "tf_val_dataset = model_utils.convert_to_tf_dataset(tokenized_val_dataset, columns, label_cols, data_collator,\n",
    "                                                   batch_size)\n",
    "tf_test_dataset = model_utils.convert_to_tf_dataset(tokenized_test_dataset, columns, label_cols, data_collator,\n",
    "                                                    batch_size)"
   ],
   "metadata": {
    "collapsed": false,
    "ExecuteTime": {
     "end_time": "2023-06-13T17:17:26.324045600Z",
     "start_time": "2023-06-13T17:17:25.041870600Z"
    }
   }
  },
  {
   "cell_type": "code",
   "execution_count": 12,
   "outputs": [],
   "source": [
    "# Model parameters\n",
    "training_number = 4\n",
    "model_name = \"sarcasm_pl_gpt2\"\n",
    "\n",
    "training_name = f\"training_{training_number}\"\n",
    "checkpoint_filename_template = \"cp-{epoch:04d}.ckpt\"\n",
    "checkpoints_dir = os.path.join(constants.TRAINING_CHECKPOINTS_PATH, model_name, training_name)\n",
    "figures_dir = f\"../../documentation/models/{model_name}/figures\"\n",
    "checkpoint_path = os.path.join(checkpoints_dir, checkpoint_filename_template)"
   ],
   "metadata": {
    "collapsed": false,
    "ExecuteTime": {
     "end_time": "2023-06-13T17:17:26.340064400Z",
     "start_time": "2023-06-13T17:17:26.326044700Z"
    }
   }
  },
  {
   "cell_type": "code",
   "execution_count": 13,
   "outputs": [],
   "source": [
    "# Callbacks\n",
    "checkpoint_cb = tf.keras.callbacks.ModelCheckpoint(checkpoint_path, verbose=1, save_weights_only=True)\n",
    "early_stop_cb = tf.keras.callbacks.EarlyStopping(patience=3)\n",
    "callbacks = [checkpoint_cb, early_stop_cb]"
   ],
   "metadata": {
    "collapsed": false,
    "ExecuteTime": {
     "end_time": "2023-06-13T17:17:26.700737600Z",
     "start_time": "2023-06-13T17:17:26.344138Z"
    }
   }
  },
  {
   "cell_type": "code",
   "execution_count": 14,
   "outputs": [],
   "source": [
    "from tensorflow.keras.optimizers.schedules import PolynomialDecay\n",
    "from tensorflow.keras.optimizers import Adam\n",
    "\n",
    "num_epochs = 10\n",
    "num_train_steps = len(tf_train_dataset) * num_epochs\n",
    "lr_scheduler = PolynomialDecay(\n",
    "    initial_learning_rate=5e-5, end_learning_rate=0.0, decay_steps=num_train_steps\n",
    ")\n",
    "\n",
    "optimizer = Adam(learning_rate=lr_scheduler)"
   ],
   "metadata": {
    "collapsed": false,
    "ExecuteTime": {
     "end_time": "2023-06-13T17:17:26.716306500Z",
     "start_time": "2023-06-13T17:17:26.704248700Z"
    }
   }
  },
  {
   "cell_type": "code",
   "execution_count": 15,
   "outputs": [
    {
     "name": "stderr",
     "output_type": "stream",
     "text": [
      "Some weights of the PyTorch model were not used when initializing the TF 2.0 model TFGPT2ForSequenceClassification: ['transformer.h.4.attn.masked_bias', 'transformer.h.7.attn.masked_bias', 'lm_head.weight', 'transformer.h.9.attn.masked_bias', 'transformer.h.5.attn.masked_bias', 'transformer.h.6.attn.masked_bias', 'transformer.h.8.attn.masked_bias', 'transformer.h.11.attn.masked_bias', 'transformer.h.1.attn.masked_bias', 'transformer.h.10.attn.masked_bias', 'transformer.h.0.attn.masked_bias', 'transformer.h.3.attn.masked_bias', 'transformer.h.2.attn.masked_bias']\n",
      "- This IS expected if you are initializing TFGPT2ForSequenceClassification from a PyTorch model trained on another task or with another architecture (e.g. initializing a TFBertForSequenceClassification model from a BertForPreTraining model).\n",
      "- This IS NOT expected if you are initializing TFGPT2ForSequenceClassification from a PyTorch model that you expect to be exactly identical (e.g. initializing a TFBertForSequenceClassification model from a BertForSequenceClassification model).\n",
      "Some weights or buffers of the TF 2.0 model TFGPT2ForSequenceClassification were not initialized from the PyTorch model and are newly initialized: ['score.weight']\n",
      "You should probably TRAIN this model on a down-stream task to be able to use it for predictions and inference.\n"
     ]
    }
   ],
   "source": [
    "from transformers import TFAutoModelForSequenceClassification\n",
    "\n",
    "model = TFAutoModelForSequenceClassification.from_pretrained(checkpoint, pad_token_id=tokenizer.pad_token_id,\n",
    "                                                             eos_token_id=tokenizer.eos_token_id, use_cache=False,\n",
    "                                                             num_labels=2, from_pt=True)"
   ],
   "metadata": {
    "collapsed": false,
    "ExecuteTime": {
     "end_time": "2023-06-13T17:17:28.626875600Z",
     "start_time": "2023-06-13T17:17:26.717306500Z"
    }
   }
  },
  {
   "cell_type": "code",
   "execution_count": 16,
   "outputs": [
    {
     "name": "stdout",
     "output_type": "stream",
     "text": [
      "Model: \"tfgp_t2for_sequence_classification\"\n",
      "_________________________________________________________________\n",
      "Layer (type)                 Output Shape              Param #   \n",
      "=================================================================\n",
      "score (Dense)                multiple                  1536      \n",
      "_________________________________________________________________\n",
      "transformer (TFGPT2MainLayer multiple                  124439808 \n",
      "=================================================================\n",
      "Total params: 124,441,344\n",
      "Trainable params: 124,441,344\n",
      "Non-trainable params: 0\n",
      "_________________________________________________________________\n"
     ]
    }
   ],
   "source": [
    "model.summary()"
   ],
   "metadata": {
    "collapsed": false,
    "ExecuteTime": {
     "end_time": "2023-06-13T17:17:28.639268800Z",
     "start_time": "2023-06-13T17:17:28.597330200Z"
    }
   }
  },
  {
   "cell_type": "code",
   "execution_count": 17,
   "outputs": [],
   "source": [
    "# Compile\n",
    "loss = tf.keras.losses.SparseCategoricalCrossentropy(from_logits=True)\n",
    "metrics = [\"accuracy\"]\n",
    "model.compile(optimizer=optimizer, loss=loss, metrics=metrics)"
   ],
   "metadata": {
    "collapsed": false,
    "ExecuteTime": {
     "end_time": "2023-06-13T17:17:28.639268800Z",
     "start_time": "2023-06-13T17:17:28.614360300Z"
    }
   }
  },
  {
   "cell_type": "code",
   "execution_count": 18,
   "outputs": [
    {
     "name": "stdout",
     "output_type": "stream",
     "text": [
      "Epoch 1/10\n",
      "1431/1431 [==============================] - 226s 149ms/step - loss: 0.4888 - accuracy: 0.7523 - val_loss: 0.3756 - val_accuracy: 0.8302\n",
      "\n",
      "Epoch 00001: saving model to ../../training_checkpoints\\sarcasm_pl_gpt2\\training_4\\cp-0001.ckpt\n",
      "Epoch 2/10\n",
      "1431/1431 [==============================] - 210s 147ms/step - loss: 0.2445 - accuracy: 0.8974 - val_loss: 0.4941 - val_accuracy: 0.8078\n",
      "\n",
      "Epoch 00002: saving model to ../../training_checkpoints\\sarcasm_pl_gpt2\\training_4\\cp-0002.ckpt\n",
      "Epoch 3/10\n",
      "1431/1431 [==============================] - 211s 148ms/step - loss: 0.0929 - accuracy: 0.9655 - val_loss: 0.6032 - val_accuracy: 0.8361\n",
      "\n",
      "Epoch 00003: saving model to ../../training_checkpoints\\sarcasm_pl_gpt2\\training_4\\cp-0003.ckpt\n",
      "Epoch 4/10\n",
      "1431/1431 [==============================] - 211s 147ms/step - loss: 0.0337 - accuracy: 0.9873 - val_loss: 0.8752 - val_accuracy: 0.8249\n",
      "\n",
      "Epoch 00004: saving model to ../../training_checkpoints\\sarcasm_pl_gpt2\\training_4\\cp-0004.ckpt\n"
     ]
    }
   ],
   "source": [
    "history = model.fit(tf_train_dataset, validation_data=tf_val_dataset, epochs=num_epochs,\n",
    "                    callbacks=[checkpoint_cb, early_stop_cb])"
   ],
   "metadata": {
    "collapsed": false,
    "ExecuteTime": {
     "end_time": "2023-06-13T17:31:59.495692500Z",
     "start_time": "2023-06-13T17:17:28.629882100Z"
    }
   }
  },
  {
   "cell_type": "code",
   "execution_count": 19,
   "outputs": [
    {
     "data": {
      "text/plain": "<Figure size 640x480 with 1 Axes>",
      "image/png": "[encoded data removed]"
     },
     "metadata": {},
     "output_type": "display_data"
    },
    {
     "data": {
      "text/plain": "<Figure size 640x480 with 1 Axes>",
      "image/png": "[encoded data removed]"
     },
     "metadata": {},
     "output_type": "display_data"
    }
   ],
   "source": [
    "model_utils.plot_and_save_fig_from_history(history,\n",
    "                                           attributes=['accuracy', 'val_accuracy'],\n",
    "                                           title='Model accuracy',\n",
    "                                           y_label='Accuracy',\n",
    "                                           x_label='Epoch',\n",
    "                                           legend_descriptors=['Train', 'Val'],\n",
    "                                           figure_dir_path=figures_dir,\n",
    "                                           figure_filename=f\"{training_name}_accuracy.png\")\n",
    "\n",
    "model_utils.plot_and_save_fig_from_history(history,\n",
    "                                           attributes=['loss', 'val_loss'],\n",
    "                                           title='Model loss',\n",
    "                                           y_label='Loss',\n",
    "                                           x_label='Epoch',\n",
    "                                           legend_descriptors=['Train', 'Val'],\n",
    "                                           figure_dir_path=figures_dir,\n",
    "                                           figure_filename=f\"{training_name}_loss.png\")"
   ],
   "metadata": {
    "collapsed": false,
    "ExecuteTime": {
     "end_time": "2023-06-13T17:31:59.806082Z",
     "start_time": "2023-06-13T17:31:59.499689300Z"
    }
   }
  },
  {
   "cell_type": "code",
   "execution_count": 20,
   "outputs": [],
   "source": [
    "best_model = model_utils.get_best_model_from_checkpoints(model, history,\n",
    "                                                         checkpoints_dir=checkpoints_dir,\n",
    "                                                         checkpoint_filename_template=checkpoint_filename_template)"
   ],
   "metadata": {
    "collapsed": false,
    "ExecuteTime": {
     "end_time": "2023-06-13T17:32:02.707826300Z",
     "start_time": "2023-06-13T17:31:59.809088100Z"
    }
   }
  },
  {
   "cell_type": "code",
   "execution_count": 21,
   "outputs": [
    {
     "name": "stderr",
     "output_type": "stream",
     "text": [
      "WARNING:absl:Found untraced functions such as wte_layer_call_fn, wte_layer_call_and_return_conditional_losses, dropout_layer_call_fn, dropout_layer_call_and_return_conditional_losses, ln_f_layer_call_fn while saving (showing 5 of 735). These functions will not be directly callable after loading.\n"
     ]
    },
    {
     "name": "stdout",
     "output_type": "stream",
     "text": [
      "INFO:tensorflow:Assets written to: ../../trained_models\\sarcasm_pl_gpt2_4\\1\\assets\n"
     ]
    },
    {
     "name": "stderr",
     "output_type": "stream",
     "text": [
      "INFO:tensorflow:Assets written to: ../../trained_models\\sarcasm_pl_gpt2_4\\1\\assets\n"
     ]
    }
   ],
   "source": [
    "model_utils.save_model(best_model, model_name=model_name, training_number=training_number,\n",
    "                       saved_models_dir=constants.SAVED_MODEL_LOCATION,\n",
    "                       default_model_version=constants.DEFAULT_MODEL_VERSION)"
   ],
   "metadata": {
    "collapsed": false,
    "ExecuteTime": {
     "end_time": "2023-06-13T17:32:42.334181Z",
     "start_time": "2023-06-13T17:32:02.708914800Z"
    }
   }
  },
  {
   "cell_type": "code",
   "execution_count": 22,
   "outputs": [
    {
     "name": "stdout",
     "output_type": "stream",
     "text": [
      "179/179 [==============================] - 9s 51ms/step - loss: 0.3690 - accuracy: 0.8382\n"
     ]
    },
    {
     "data": {
      "text/plain": "[0.3689785897731781, 0.8382250070571899]"
     },
     "execution_count": 22,
     "metadata": {},
     "output_type": "execute_result"
    }
   ],
   "source": [
    "# Evaluation\n",
    "best_model.evaluate(tf_test_dataset, batch_size=batch_size)"
   ],
   "metadata": {
    "collapsed": false,
    "ExecuteTime": {
     "end_time": "2023-06-13T17:32:51.600580800Z",
     "start_time": "2023-06-13T17:32:42.336190500Z"
    }
   }
  },
  {
   "cell_type": "code",
   "execution_count": 23,
   "outputs": [],
   "source": [
    "class_preds = model_utils.get_class_preds(model, tf_test_dataset)"
   ],
   "metadata": {
    "collapsed": false,
    "ExecuteTime": {
     "end_time": "2023-06-13T17:33:02.589119800Z",
     "start_time": "2023-06-13T17:32:51.600580800Z"
    }
   }
  },
  {
   "cell_type": "code",
   "execution_count": 24,
   "outputs": [
    {
     "name": "stdout",
     "output_type": "stream",
     "text": [
      "Precision score:  0.8432835820895522\n",
      "Recall score:  0.8170643528561099\n",
      "F1 score:  0.8299669482188763\n"
     ]
    }
   ],
   "source": [
    "precision, recall, f1 = model_utils.get_classification_evaluation_metrics(\n",
    "    class_actual=tokenized_test_dataset['is_sarcastic'],\n",
    "    class_preds=class_preds,\n",
    ")\n",
    "\n",
    "print(f\"Precision score: \", precision)\n",
    "print(f\"Recall score: \", recall)\n",
    "print(f\"F1 score: \", f1)"
   ],
   "metadata": {
    "collapsed": false,
    "ExecuteTime": {
     "end_time": "2023-06-13T17:33:02.651838600Z",
     "start_time": "2023-06-13T17:33:02.591122600Z"
    }
   }
  },
  {
   "cell_type": "code",
   "execution_count": 25,
   "outputs": [
    {
     "data": {
      "text/plain": "<Figure size 640x480 with 2 Axes>",
      "image/png": "[encoded data removed]"
     },
     "metadata": {},
     "output_type": "display_data"
    }
   ],
   "source": [
    "model_utils.plot_and_save_conf_matrix(class_actual=tokenized_test_dataset['is_sarcastic'],\n",
    "                                      class_preds=class_preds,\n",
    "                                      figure_dir_path=figures_dir,\n",
    "                                      figure_filename=f\"{training_name}_confmatrix.png\")"
   ],
   "metadata": {
    "collapsed": false,
    "ExecuteTime": {
     "end_time": "2023-06-13T17:33:02.793875200Z",
     "start_time": "2023-06-13T17:33:02.624228900Z"
    }
   }
  },
  {
   "cell_type": "code",
   "execution_count": 26,
   "outputs": [
    {
     "name": "stdout",
     "output_type": "stream",
     "text": [
      "\n",
      "            BAD PREDICTION:\n",
      "            - INDEX: 3\n",
      "            - TEXT: Nieprzyjemna pogoda uniemożliwia kłamcy dotarcie do pracy\n",
      "            - PREDICTED VALUE: 0\n",
      "            - CORRECT VALUE: 1\n",
      "            \n",
      "\n",
      "            BAD PREDICTION:\n",
      "            - INDEX: 5\n",
      "            - TEXT: Białe dziedzictwo\n",
      "            - PREDICTED VALUE: 1\n",
      "            - CORRECT VALUE: 0\n",
      "            \n",
      "\n",
      "            BAD PREDICTION:\n",
      "            - INDEX: 9\n",
      "            - TEXT: Wielu rodziców zna ten scenariusz.\n",
      "            - PREDICTED VALUE: 1\n",
      "            - CORRECT VALUE: 0\n",
      "            \n",
      "\n",
      "            BAD PREDICTION:\n",
      "            - INDEX: 10\n",
      "            - TEXT: Ta lesbijka jest uważana za ojca w Indiach (i niesamowita w tym)\n",
      "            - PREDICTED VALUE: 1\n",
      "            - CORRECT VALUE: 0\n",
      "            \n",
      "\n",
      "            BAD PREDICTION:\n",
      "            - INDEX: 13\n",
      "            - TEXT: Chris Christie sugeruje, że Hillary Clinton był winny porwania setek uczennic przez Boko Harama\n",
      "            - PREDICTED VALUE: 1\n",
      "            - CORRECT VALUE: 0\n",
      "            \n",
      "\n",
      "            BAD PREDICTION:\n",
      "            - INDEX: 15\n",
      "            - TEXT: Travis Kalanick odchodzi z Trump Economic Advisor Council\n",
      "            - PREDICTED VALUE: 1\n",
      "            - CORRECT VALUE: 0\n",
      "            \n",
      "\n",
      "            BAD PREDICTION:\n",
      "            - INDEX: 16\n",
      "            - TEXT: chłopiec z obszaru wchodzi w fazę skakania i dotykania szczytów drzwi\n",
      "            - PREDICTED VALUE: 0\n",
      "            - CORRECT VALUE: 1\n",
      "            \n",
      "\n",
      "            BAD PREDICTION:\n",
      "            - INDEX: 21\n",
      "            - TEXT: strażnik w grze wideo pod ścisłym rozkazem wielokrotnego chodzenia tym samym odcinkiem korytarza\n",
      "            - PREDICTED VALUE: 0\n",
      "            - CORRECT VALUE: 1\n",
      "            \n",
      "\n",
      "            BAD PREDICTION:\n",
      "            - INDEX: 22\n",
      "            - TEXT: Jak żyć 110\n",
      "            - PREDICTED VALUE: 1\n",
      "            - CORRECT VALUE: 0\n",
      "            \n",
      "\n",
      "            BAD PREDICTION:\n",
      "            - INDEX: 31\n",
      "            - TEXT: Nastoletnia strzelanina z Isis\n",
      "            - PREDICTED VALUE: 1\n",
      "            - CORRECT VALUE: 0\n",
      "            \n"
     ]
    }
   ],
   "source": [
    "model_utils.print_incorrectly_predicted_texts(texts=raw_dataset['headline_pl'],\n",
    "                                              class_actual=raw_dataset['is_sarcastic'],\n",
    "                                              class_preds=class_preds)"
   ],
   "metadata": {
    "collapsed": false,
    "ExecuteTime": {
     "end_time": "2023-06-13T17:33:02.861900200Z",
     "start_time": "2023-06-13T17:33:02.793875200Z"
    }
   }
  },
  {
   "cell_type": "code",
   "execution_count": 27,
   "outputs": [
    {
     "data": {
      "text/plain": "Dataset({\n    features: ['is_sarcastic', 'headline_pl', 'input_ids', 'attention_mask'],\n    num_rows: 2862\n})"
     },
     "execution_count": 27,
     "metadata": {},
     "output_type": "execute_result"
    }
   ],
   "source": [
    "tokenized_test_dataset"
   ],
   "metadata": {
    "collapsed": false,
    "ExecuteTime": {
     "end_time": "2023-06-13T17:33:02.862899200Z",
     "start_time": "2023-06-13T17:33:02.841323400Z"
    }
   }
  },
  {
   "cell_type": "code",
   "execution_count": 35,
   "outputs": [
    {
     "data": {
      "text/plain": "                                            headline_pl  is_sarcastic  \\\n0     Szef uważa, że kobieta pracownik może być goto...             1   \n1     \"New York Times\": tyran wybija stos sondaży z ...             1   \n2     przygotuj się na lizanie w tej przyczepie \"for...             0   \n3     hare krishnas: 'hare krishna, hare krishna, kr...             1   \n4     Powerball wyciąga plastikowe kulki z solanki z...             1   \n...                                                 ...           ...   \n2857                   Lena Dunham na czerwonym dywanie             0   \n2858  PayPal wycofuje się po tymczasowej globalnej p...             0   \n2859  Naród zrzuca tyrańskie jarzmo umiarkowanego sz...             1   \n2860         Jonathan Rhys Meyers przeprasza za zdjęcia             0   \n2861  Putin dowiaduje się, że stoi za spiskiem mając...             1   \n\n      prediction  \n0              1  \n1              0  \n2              0  \n3              0  \n4              1  \n...          ...  \n2857           0  \n2858           1  \n2859           0  \n2860           0  \n2861           1  \n\n[2862 rows x 3 columns]",
      "text/html": "<div>\n<style scoped>\n    .dataframe tbody tr th:only-of-type {\n        vertical-align: middle;\n    }\n\n    .dataframe tbody tr th {\n        vertical-align: top;\n    }\n\n    .dataframe thead th {\n        text-align: right;\n    }\n</style>\n<table border=\"1\" class=\"dataframe\">\n  <thead>\n    <tr style=\"text-align: right;\">\n      <th></th>\n      <th>headline_pl</th>\n      <th>is_sarcastic</th>\n      <th>prediction</th>\n    </tr>\n  </thead>\n  <tbody>\n    <tr>\n      <th>0</th>\n      <td>Szef uważa, że kobieta pracownik może być goto...</td>\n      <td>1</td>\n      <td>1</td>\n    </tr>\n    <tr>\n      <th>1</th>\n      <td>\"New York Times\": tyran wybija stos sondaży z ...</td>\n      <td>1</td>\n      <td>0</td>\n    </tr>\n    <tr>\n      <th>2</th>\n      <td>przygotuj się na lizanie w tej przyczepie \"for...</td>\n      <td>0</td>\n      <td>0</td>\n    </tr>\n    <tr>\n      <th>3</th>\n      <td>hare krishnas: 'hare krishna, hare krishna, kr...</td>\n      <td>1</td>\n      <td>0</td>\n    </tr>\n    <tr>\n      <th>4</th>\n      <td>Powerball wyciąga plastikowe kulki z solanki z...</td>\n      <td>1</td>\n      <td>1</td>\n    </tr>\n    <tr>\n      <th>...</th>\n      <td>...</td>\n      <td>...</td>\n      <td>...</td>\n    </tr>\n    <tr>\n      <th>2857</th>\n      <td>Lena Dunham na czerwonym dywanie</td>\n      <td>0</td>\n      <td>0</td>\n    </tr>\n    <tr>\n      <th>2858</th>\n      <td>PayPal wycofuje się po tymczasowej globalnej p...</td>\n      <td>0</td>\n      <td>1</td>\n    </tr>\n    <tr>\n      <th>2859</th>\n      <td>Naród zrzuca tyrańskie jarzmo umiarkowanego sz...</td>\n      <td>1</td>\n      <td>0</td>\n    </tr>\n    <tr>\n      <th>2860</th>\n      <td>Jonathan Rhys Meyers przeprasza za zdjęcia</td>\n      <td>0</td>\n      <td>0</td>\n    </tr>\n    <tr>\n      <th>2861</th>\n      <td>Putin dowiaduje się, że stoi za spiskiem mając...</td>\n      <td>1</td>\n      <td>1</td>\n    </tr>\n  </tbody>\n</table>\n<p>2862 rows × 3 columns</p>\n</div>"
     },
     "execution_count": 35,
     "metadata": {},
     "output_type": "execute_result"
    }
   ],
   "source": [
    "test_df = pd.DataFrame(\n",
    "    list(zip(tokenized_test_dataset['headline_pl'], tokenized_test_dataset['is_sarcastic'], class_preds)),\n",
    "    columns=['headline_pl', 'is_sarcastic', 'prediction'])\n",
    "test_df"
   ],
   "metadata": {
    "collapsed": false,
    "ExecuteTime": {
     "end_time": "2023-06-13T17:37:30.209945900Z",
     "start_time": "2023-06-13T17:37:30.168406800Z"
    }
   }
  },
  {
   "cell_type": "code",
   "execution_count": 36,
   "outputs": [
    {
     "data": {
      "text/plain": "                                            headline_pl  is_sarcastic  \\\n0     Szef uważa, że kobieta pracownik może być goto...             1   \n1     \"New York Times\": tyran wybija stos sondaży z ...             1   \n2     przygotuj się na lizanie w tej przyczepie \"for...             0   \n3     hare krishnas: 'hare krishna, hare krishna, kr...             1   \n4     Powerball wyciąga plastikowe kulki z solanki z...             1   \n...                                                 ...           ...   \n2857                   Lena Dunham na czerwonym dywanie             0   \n2858  PayPal wycofuje się po tymczasowej globalnej p...             0   \n2859  Naród zrzuca tyrańskie jarzmo umiarkowanego sz...             1   \n2860         Jonathan Rhys Meyers przeprasza za zdjęcia             0   \n2861  Putin dowiaduje się, że stoi za spiskiem mając...             1   \n\n      prediction  token_count count_belonging  correctly_predicted  \n0              1           16           12-17                    1  \n1              0           11            6-11                    0  \n2              0           13           12-17                    1  \n3              0           10            6-11                    0  \n4              1            9            6-11                    1  \n...          ...          ...             ...                  ...  \n2857           0            5             0-5                    1  \n2858           1            7            6-11                    0  \n2859           0            8            6-11                    0  \n2860           0            6            6-11                    1  \n2861           1           12           12-17                    1  \n\n[2862 rows x 6 columns]",
      "text/html": "<div>\n<style scoped>\n    .dataframe tbody tr th:only-of-type {\n        vertical-align: middle;\n    }\n\n    .dataframe tbody tr th {\n        vertical-align: top;\n    }\n\n    .dataframe thead th {\n        text-align: right;\n    }\n</style>\n<table border=\"1\" class=\"dataframe\">\n  <thead>\n    <tr style=\"text-align: right;\">\n      <th></th>\n      <th>headline_pl</th>\n      <th>is_sarcastic</th>\n      <th>prediction</th>\n      <th>token_count</th>\n      <th>count_belonging</th>\n      <th>correctly_predicted</th>\n    </tr>\n  </thead>\n  <tbody>\n    <tr>\n      <th>0</th>\n      <td>Szef uważa, że kobieta pracownik może być goto...</td>\n      <td>1</td>\n      <td>1</td>\n      <td>16</td>\n      <td>12-17</td>\n      <td>1</td>\n    </tr>\n    <tr>\n      <th>1</th>\n      <td>\"New York Times\": tyran wybija stos sondaży z ...</td>\n      <td>1</td>\n      <td>0</td>\n      <td>11</td>\n      <td>6-11</td>\n      <td>0</td>\n    </tr>\n    <tr>\n      <th>2</th>\n      <td>przygotuj się na lizanie w tej przyczepie \"for...</td>\n      <td>0</td>\n      <td>0</td>\n      <td>13</td>\n      <td>12-17</td>\n      <td>1</td>\n    </tr>\n    <tr>\n      <th>3</th>\n      <td>hare krishnas: 'hare krishna, hare krishna, kr...</td>\n      <td>1</td>\n      <td>0</td>\n      <td>10</td>\n      <td>6-11</td>\n      <td>0</td>\n    </tr>\n    <tr>\n      <th>4</th>\n      <td>Powerball wyciąga plastikowe kulki z solanki z...</td>\n      <td>1</td>\n      <td>1</td>\n      <td>9</td>\n      <td>6-11</td>\n      <td>1</td>\n    </tr>\n    <tr>\n      <th>...</th>\n      <td>...</td>\n      <td>...</td>\n      <td>...</td>\n      <td>...</td>\n      <td>...</td>\n      <td>...</td>\n    </tr>\n    <tr>\n      <th>2857</th>\n      <td>Lena Dunham na czerwonym dywanie</td>\n      <td>0</td>\n      <td>0</td>\n      <td>5</td>\n      <td>0-5</td>\n      <td>1</td>\n    </tr>\n    <tr>\n      <th>2858</th>\n      <td>PayPal wycofuje się po tymczasowej globalnej p...</td>\n      <td>0</td>\n      <td>1</td>\n      <td>7</td>\n      <td>6-11</td>\n      <td>0</td>\n    </tr>\n    <tr>\n      <th>2859</th>\n      <td>Naród zrzuca tyrańskie jarzmo umiarkowanego sz...</td>\n      <td>1</td>\n      <td>0</td>\n      <td>8</td>\n      <td>6-11</td>\n      <td>0</td>\n    </tr>\n    <tr>\n      <th>2860</th>\n      <td>Jonathan Rhys Meyers przeprasza za zdjęcia</td>\n      <td>0</td>\n      <td>0</td>\n      <td>6</td>\n      <td>6-11</td>\n      <td>1</td>\n    </tr>\n    <tr>\n      <th>2861</th>\n      <td>Putin dowiaduje się, że stoi za spiskiem mając...</td>\n      <td>1</td>\n      <td>1</td>\n      <td>12</td>\n      <td>12-17</td>\n      <td>1</td>\n    </tr>\n  </tbody>\n</table>\n<p>2862 rows × 6 columns</p>\n</div>"
     },
     "execution_count": 36,
     "metadata": {},
     "output_type": "execute_result"
    }
   ],
   "source": [
    "def map_token_counts(row):\n",
    "    return len(row['headline_pl'].split())\n",
    "\n",
    "def map_count_belonging(row, divider):\n",
    "    int_division_result = int(row['token_count'] / divider) + 1\n",
    "    lower_boundary = divider * int_division_result - divider\n",
    "    upper_boundary = divider * int_division_result - 1\n",
    "    return f\"{lower_boundary}-{upper_boundary}\"\n",
    "\n",
    "def map_correctly_predicted(row):\n",
    "    return int(row['is_sarcastic'] == row['prediction'])\n",
    "\n",
    "\n",
    "test_df['token_count'] = test_df.apply(lambda row: map_token_counts(row), axis=1)\n",
    "test_df['count_belonging'] = test_df.apply(lambda row: map_count_belonging(row, divider=6), axis=1)\n",
    "test_df['correctly_predicted'] = test_df.apply(lambda row: map_correctly_predicted(row), axis=1)\n",
    "test_df"
   ],
   "metadata": {
    "collapsed": false,
    "ExecuteTime": {
     "end_time": "2023-06-13T17:37:31.031731800Z",
     "start_time": "2023-06-13T17:37:30.974484600Z"
    }
   }
  },
  {
   "cell_type": "code",
   "execution_count": 37,
   "outputs": [],
   "source": [
    "test_df = test_df.drop(test_df[test_df.token_count > 23].index)"
   ],
   "metadata": {
    "collapsed": false,
    "ExecuteTime": {
     "end_time": "2023-06-13T17:37:31.791082200Z",
     "start_time": "2023-06-13T17:37:31.776593300Z"
    }
   }
  },
  {
   "cell_type": "code",
   "execution_count": 38,
   "outputs": [],
   "source": [
    "test_df = test_df.sort_values(by=['token_count']).reset_index(drop=True)"
   ],
   "metadata": {
    "collapsed": false,
    "ExecuteTime": {
     "end_time": "2023-06-13T17:37:32.225385400Z",
     "start_time": "2023-06-13T17:37:32.207839100Z"
    }
   }
  },
  {
   "cell_type": "code",
   "execution_count": 39,
   "outputs": [
    {
     "data": {
      "text/plain": "<Figure size 640x480 with 1 Axes>",
      "image/png": "[encoded data removed]"
     },
     "metadata": {},
     "output_type": "display_data"
    }
   ],
   "source": [
    "data = test_df['count_belonging']\n",
    "data.value_counts(sort=False).plot.bar()\n",
    "plt.xlabel('Token count range')\n",
    "plt.ylabel('Count')\n",
    "plt.savefig(os.path.join(figures_dir, f'{training_name}_counts_per_range.png'))\n",
    "plt.show()"
   ],
   "metadata": {
    "collapsed": false,
    "ExecuteTime": {
     "end_time": "2023-06-13T17:37:32.691226900Z",
     "start_time": "2023-06-13T17:37:32.578925Z"
    }
   }
  },
  {
   "cell_type": "code",
   "execution_count": 40,
   "outputs": [],
   "source": [
    "range_to_valid_predictions_count_dict = {'0-5': 0, '6-11': 0, '12-17': 0, '18-23': 0}\n",
    "range_to_element_count_dict = {'0-5': 0, '6-11': 0, '12-17': 0, '18-23': 0}\n",
    "range_to_pred_accuracy_dict = {'0-5': 0., '6-11': 0., '12-17': 0., '18-23': 0.}"
   ],
   "metadata": {
    "collapsed": false,
    "ExecuteTime": {
     "end_time": "2023-06-13T17:37:33.968740600Z",
     "start_time": "2023-06-13T17:37:33.946721Z"
    }
   }
  },
  {
   "cell_type": "code",
   "execution_count": 41,
   "outputs": [
    {
     "name": "stdout",
     "output_type": "stream",
     "text": [
      "Correct predictions count:  {'0-5': 236, '6-11': 1548, '12-17': 559, '18-23': 52}\n",
      "Element count:  {'0-5': 291, '6-11': 1855, '12-17': 654, '18-23': 57}\n",
      "Accuracies:  {'0-5': 0.8109965635738832, '6-11': 0.8345013477088948, '12-17': 0.8547400611620795, '18-23': 0.9122807017543859}\n"
     ]
    }
   ],
   "source": [
    "for _, row in test_df.iterrows():\n",
    "    count_belonging = row['count_belonging']\n",
    "\n",
    "    range_to_element_count_dict[count_belonging] = range_to_element_count_dict[count_belonging] + 1\n",
    "\n",
    "    if row['correctly_predicted']:\n",
    "        range_to_valid_predictions_count_dict[count_belonging] = range_to_valid_predictions_count_dict[count_belonging] + 1\n",
    "\n",
    "for key in range_to_pred_accuracy_dict.keys():\n",
    "    range_to_pred_accuracy_dict[key] = range_to_valid_predictions_count_dict[key] / range_to_element_count_dict[key]\n",
    "\n",
    "print(\"Correct predictions count: \", range_to_valid_predictions_count_dict)\n",
    "print(\"Element count: \", range_to_element_count_dict)\n",
    "print(\"Accuracies: \", range_to_pred_accuracy_dict)"
   ],
   "metadata": {
    "collapsed": false,
    "ExecuteTime": {
     "end_time": "2023-06-13T17:37:34.501844Z",
     "start_time": "2023-06-13T17:37:34.435730700Z"
    }
   }
  },
  {
   "cell_type": "code",
   "execution_count": 42,
   "outputs": [
    {
     "data": {
      "text/plain": "<Figure size 640x480 with 1 Axes>",
      "image/png": "[encoded data removed]"
     },
     "metadata": {},
     "output_type": "display_data"
    }
   ],
   "source": [
    "import matplotlib.ticker as mtick\n",
    "\n",
    "plt.bar(['0-5', '6-11', '12-17', '18-23'], [val for val in range_to_pred_accuracy_dict.values()])\n",
    "plt.xlabel('Token count range')\n",
    "plt.ylabel('Accuracy')\n",
    "plt.gca().yaxis.set_major_formatter(mtick.PercentFormatter(xmax=1.0))\n",
    "plt.savefig(os.path.join(figures_dir, f'{training_name}_accuracies_per_range.png'))\n",
    "plt.show()"
   ],
   "metadata": {
    "collapsed": false,
    "ExecuteTime": {
     "end_time": "2023-06-13T17:37:35.278455300Z",
     "start_time": "2023-06-13T17:37:35.187340800Z"
    }
   }
  },
  {
   "cell_type": "code",
   "execution_count": null,
   "outputs": [],
   "source": [],
   "metadata": {
    "collapsed": false
   }
  }
 ],
 "metadata": {
  "kernelspec": {
   "display_name": "Python 3",
   "language": "python",
   "name": "python3"
  },
  "language_info": {
   "codemirror_mode": {
    "name": "ipython",
    "version": 2
   },
   "file_extension": ".py",
   "mimetype": "text/x-python",
   "name": "python",
   "nbconvert_exporter": "python",
   "pygments_lexer": "ipython2",
   "version": "2.7.6"
  }
 },
 "nbformat": 4,
 "nbformat_minor": 0
}
