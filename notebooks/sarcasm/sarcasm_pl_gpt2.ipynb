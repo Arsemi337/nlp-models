{
 "cells": [
  {
   "cell_type": "code",
   "execution_count": 1,
   "outputs": [],
   "source": [
    "import sys\n",
    "\n",
    "sys.path.append('../../notebooks')\n",
    "import os\n",
    "import pandas as pd\n",
    "import tensorflow as tf\n",
    "import matplotlib.pyplot as plt\n",
    "from notebooks.core import constants\n",
    "from notebooks.core import model_utils"
   ],
   "metadata": {
    "collapsed": false,
    "ExecuteTime": {
     "end_time": "2023-06-07T07:36:15.520709800Z",
     "start_time": "2023-06-07T07:36:08.537167400Z"
    }
   }
  },
  {
   "cell_type": "code",
   "execution_count": 2,
   "outputs": [
    {
     "data": {
      "text/plain": "       is_sarcastic                                           headline  \\\n0                 1  thirtysomething scientists unveil doomsday clo...   \n1                 0  dem rep. totally nails why congress is falling...   \n2                 0  eat your veggies: 9 deliciously different recipes   \n3                 1  inclement weather prevents liar from getting t...   \n4                 1  mother comes pretty close to using word 'strea...   \n...             ...                                                ...   \n28614             1       jews to celebrate rosh hashasha or something   \n28615             1  internal affairs investigator disappointed con...   \n28616             0  the most beautiful acceptance speech this week...   \n28617             1  mars probe destroyed by orbiting spielberg-gat...   \n28618             1                 dad clarifies this not a food stop   \n\n                                            article_link  \\\n0      https://www.theonion.com/thirtysomething-scien...   \n1      https://www.huffingtonpost.com/entry/donna-edw...   \n2      https://www.huffingtonpost.com/entry/eat-your-...   \n3      https://local.theonion.com/inclement-weather-p...   \n4      https://www.theonion.com/mother-comes-pretty-c...   \n...                                                  ...   \n28614  https://www.theonion.com/jews-to-celebrate-ros...   \n28615  https://local.theonion.com/internal-affairs-in...   \n28616  https://www.huffingtonpost.com/entry/andrew-ah...   \n28617  https://www.theonion.com/mars-probe-destroyed-...   \n28618  https://www.theonion.com/dad-clarifies-this-no...   \n\n                                             headline_pl  \n0      Naukowcy z lat trzydziestych odkrywają zegar z...  \n1      Reprezentantka rządu USA wyjaśnia, dlaczego Ko...  \n2              Jedz warzywa: 9 pysznie różnych przepisów  \n3      Nieprzyjemna pogoda uniemożliwia kłamcy dotarc...  \n4      matka jest bardzo blisko użycia słowa \"streami...  \n...                                                  ...  \n28614               Żydzi świętują Rosh Hashasha czy coś  \n28615  Śledczy spraw wewnętrznych rozczarowany spiski...  \n28616  Najpiękniejsza przemowa akceptacyjna w tym tyg...  \n28617  Mars zniszczony przez pałac kosmiczny na orbic...  \n28618  Tata wyjaśnia, że to nie jest przerwa na jedzenie  \n\n[28619 rows x 4 columns]",
      "text/html": "<div>\n<style scoped>\n    .dataframe tbody tr th:only-of-type {\n        vertical-align: middle;\n    }\n\n    .dataframe tbody tr th {\n        vertical-align: top;\n    }\n\n    .dataframe thead th {\n        text-align: right;\n    }\n</style>\n<table border=\"1\" class=\"dataframe\">\n  <thead>\n    <tr style=\"text-align: right;\">\n      <th></th>\n      <th>is_sarcastic</th>\n      <th>headline</th>\n      <th>article_link</th>\n      <th>headline_pl</th>\n    </tr>\n  </thead>\n  <tbody>\n    <tr>\n      <th>0</th>\n      <td>1</td>\n      <td>thirtysomething scientists unveil doomsday clo...</td>\n      <td>https://www.theonion.com/thirtysomething-scien...</td>\n      <td>Naukowcy z lat trzydziestych odkrywają zegar z...</td>\n    </tr>\n    <tr>\n      <th>1</th>\n      <td>0</td>\n      <td>dem rep. totally nails why congress is falling...</td>\n      <td>https://www.huffingtonpost.com/entry/donna-edw...</td>\n      <td>Reprezentantka rządu USA wyjaśnia, dlaczego Ko...</td>\n    </tr>\n    <tr>\n      <th>2</th>\n      <td>0</td>\n      <td>eat your veggies: 9 deliciously different recipes</td>\n      <td>https://www.huffingtonpost.com/entry/eat-your-...</td>\n      <td>Jedz warzywa: 9 pysznie różnych przepisów</td>\n    </tr>\n    <tr>\n      <th>3</th>\n      <td>1</td>\n      <td>inclement weather prevents liar from getting t...</td>\n      <td>https://local.theonion.com/inclement-weather-p...</td>\n      <td>Nieprzyjemna pogoda uniemożliwia kłamcy dotarc...</td>\n    </tr>\n    <tr>\n      <th>4</th>\n      <td>1</td>\n      <td>mother comes pretty close to using word 'strea...</td>\n      <td>https://www.theonion.com/mother-comes-pretty-c...</td>\n      <td>matka jest bardzo blisko użycia słowa \"streami...</td>\n    </tr>\n    <tr>\n      <th>...</th>\n      <td>...</td>\n      <td>...</td>\n      <td>...</td>\n      <td>...</td>\n    </tr>\n    <tr>\n      <th>28614</th>\n      <td>1</td>\n      <td>jews to celebrate rosh hashasha or something</td>\n      <td>https://www.theonion.com/jews-to-celebrate-ros...</td>\n      <td>Żydzi świętują Rosh Hashasha czy coś</td>\n    </tr>\n    <tr>\n      <th>28615</th>\n      <td>1</td>\n      <td>internal affairs investigator disappointed con...</td>\n      <td>https://local.theonion.com/internal-affairs-in...</td>\n      <td>Śledczy spraw wewnętrznych rozczarowany spiski...</td>\n    </tr>\n    <tr>\n      <th>28616</th>\n      <td>0</td>\n      <td>the most beautiful acceptance speech this week...</td>\n      <td>https://www.huffingtonpost.com/entry/andrew-ah...</td>\n      <td>Najpiękniejsza przemowa akceptacyjna w tym tyg...</td>\n    </tr>\n    <tr>\n      <th>28617</th>\n      <td>1</td>\n      <td>mars probe destroyed by orbiting spielberg-gat...</td>\n      <td>https://www.theonion.com/mars-probe-destroyed-...</td>\n      <td>Mars zniszczony przez pałac kosmiczny na orbic...</td>\n    </tr>\n    <tr>\n      <th>28618</th>\n      <td>1</td>\n      <td>dad clarifies this not a food stop</td>\n      <td>https://www.theonion.com/dad-clarifies-this-no...</td>\n      <td>Tata wyjaśnia, że to nie jest przerwa na jedzenie</td>\n    </tr>\n  </tbody>\n</table>\n<p>28619 rows × 4 columns</p>\n</div>"
     },
     "execution_count": 2,
     "metadata": {},
     "output_type": "execute_result"
    }
   ],
   "source": [
    "df = pd.read_json(\"../../data/translated/sarcasm/sarcasm_headlines_dataset_pl.json\")\n",
    "df"
   ],
   "metadata": {
    "collapsed": false,
    "ExecuteTime": {
     "end_time": "2023-06-07T07:36:15.648198900Z",
     "start_time": "2023-06-07T07:36:15.518261100Z"
    }
   }
  },
  {
   "cell_type": "code",
   "execution_count": 3,
   "outputs": [
    {
     "data": {
      "text/plain": "       is_sarcastic                                        headline_pl\n0                 1  Naukowcy z lat trzydziestych odkrywają zegar z...\n1                 0  Reprezentantka rządu USA wyjaśnia, dlaczego Ko...\n2                 0          Jedz warzywa: 9 pysznie różnych przepisów\n3                 1  Nieprzyjemna pogoda uniemożliwia kłamcy dotarc...\n4                 1  matka jest bardzo blisko użycia słowa \"streami...\n...             ...                                                ...\n28614             1               Żydzi świętują Rosh Hashasha czy coś\n28615             1  Śledczy spraw wewnętrznych rozczarowany spiski...\n28616             0  Najpiękniejsza przemowa akceptacyjna w tym tyg...\n28617             1  Mars zniszczony przez pałac kosmiczny na orbic...\n28618             1  Tata wyjaśnia, że to nie jest przerwa na jedzenie\n\n[28619 rows x 2 columns]",
      "text/html": "<div>\n<style scoped>\n    .dataframe tbody tr th:only-of-type {\n        vertical-align: middle;\n    }\n\n    .dataframe tbody tr th {\n        vertical-align: top;\n    }\n\n    .dataframe thead th {\n        text-align: right;\n    }\n</style>\n<table border=\"1\" class=\"dataframe\">\n  <thead>\n    <tr style=\"text-align: right;\">\n      <th></th>\n      <th>is_sarcastic</th>\n      <th>headline_pl</th>\n    </tr>\n  </thead>\n  <tbody>\n    <tr>\n      <th>0</th>\n      <td>1</td>\n      <td>Naukowcy z lat trzydziestych odkrywają zegar z...</td>\n    </tr>\n    <tr>\n      <th>1</th>\n      <td>0</td>\n      <td>Reprezentantka rządu USA wyjaśnia, dlaczego Ko...</td>\n    </tr>\n    <tr>\n      <th>2</th>\n      <td>0</td>\n      <td>Jedz warzywa: 9 pysznie różnych przepisów</td>\n    </tr>\n    <tr>\n      <th>3</th>\n      <td>1</td>\n      <td>Nieprzyjemna pogoda uniemożliwia kłamcy dotarc...</td>\n    </tr>\n    <tr>\n      <th>4</th>\n      <td>1</td>\n      <td>matka jest bardzo blisko użycia słowa \"streami...</td>\n    </tr>\n    <tr>\n      <th>...</th>\n      <td>...</td>\n      <td>...</td>\n    </tr>\n    <tr>\n      <th>28614</th>\n      <td>1</td>\n      <td>Żydzi świętują Rosh Hashasha czy coś</td>\n    </tr>\n    <tr>\n      <th>28615</th>\n      <td>1</td>\n      <td>Śledczy spraw wewnętrznych rozczarowany spiski...</td>\n    </tr>\n    <tr>\n      <th>28616</th>\n      <td>0</td>\n      <td>Najpiękniejsza przemowa akceptacyjna w tym tyg...</td>\n    </tr>\n    <tr>\n      <th>28617</th>\n      <td>1</td>\n      <td>Mars zniszczony przez pałac kosmiczny na orbic...</td>\n    </tr>\n    <tr>\n      <th>28618</th>\n      <td>1</td>\n      <td>Tata wyjaśnia, że to nie jest przerwa na jedzenie</td>\n    </tr>\n  </tbody>\n</table>\n<p>28619 rows × 2 columns</p>\n</div>"
     },
     "execution_count": 3,
     "metadata": {},
     "output_type": "execute_result"
    }
   ],
   "source": [
    "df = df.drop(columns=['article_link', 'headline'])\n",
    "df"
   ],
   "metadata": {
    "collapsed": false,
    "ExecuteTime": {
     "end_time": "2023-06-07T07:36:15.679719300Z",
     "start_time": "2023-06-07T07:36:15.643692900Z"
    }
   }
  },
  {
   "cell_type": "code",
   "execution_count": 4,
   "outputs": [
    {
     "data": {
      "text/plain": "<Figure size 640x480 with 1 Axes>",
      "image/png": "[encoded data removed]"
     },
     "metadata": {},
     "output_type": "display_data"
    }
   ],
   "source": [
    "data = df[\"is_sarcastic\"]\n",
    "data.value_counts().plot.bar()\n",
    "plt.show()"
   ],
   "metadata": {
    "collapsed": false,
    "ExecuteTime": {
     "end_time": "2023-06-07T07:36:15.860735600Z",
     "start_time": "2023-06-07T07:36:15.658212200Z"
    }
   }
  },
  {
   "cell_type": "code",
   "execution_count": 5,
   "outputs": [
    {
     "data": {
      "text/plain": "Dataset({\n    features: ['is_sarcastic', 'headline_pl'],\n    num_rows: 28619\n})"
     },
     "execution_count": 5,
     "metadata": {},
     "output_type": "execute_result"
    }
   ],
   "source": [
    "from datasets import Dataset\n",
    "\n",
    "raw_dataset = Dataset.from_pandas(df).remove_columns(\"__index_level_0__\")\n",
    "raw_dataset"
   ],
   "metadata": {
    "collapsed": false,
    "ExecuteTime": {
     "end_time": "2023-06-07T07:36:16.537255900Z",
     "start_time": "2023-06-07T07:36:15.862732800Z"
    }
   }
  },
  {
   "cell_type": "code",
   "execution_count": 6,
   "outputs": [],
   "source": [
    "from transformers import AutoTokenizer\n",
    "\n",
    "MAX_TOKENS = 128\n",
    "EOS_TOKEN = \"<|endoftext|>\"\n",
    "checkpoint = \"flax-community/papuGaPT2\"\n",
    "\n",
    "tokenizer = AutoTokenizer.from_pretrained(\n",
    "    checkpoint,\n",
    "    eos_token=EOS_TOKEN,\n",
    "    pad_token=EOS_TOKEN,\n",
    "    max_length=MAX_TOKENS,\n",
    "    is_split_into_words=True,\n",
    ")\n",
    "\n",
    "tokenizer.padding_side = \"left\""
   ],
   "metadata": {
    "collapsed": false,
    "ExecuteTime": {
     "end_time": "2023-06-07T07:36:17.602308300Z",
     "start_time": "2023-06-07T07:36:16.531256600Z"
    }
   }
  },
  {
   "cell_type": "code",
   "execution_count": 7,
   "outputs": [],
   "source": [
    "def tokenize_function(examples):\n",
    "    examples = [ex + EOS_TOKEN for ex in examples['headline_pl']]\n",
    "\n",
    "    output = tokenizer(\n",
    "        examples,\n",
    "        add_special_tokens=True,\n",
    "        max_length=MAX_TOKENS,\n",
    "        truncation=True,\n",
    "        padding=True,\n",
    "    )\n",
    "\n",
    "    # truncate input ids and attention mask to account for label shift\n",
    "    output[\"input_ids\"] = [x[:-1] for x in output[\"input_ids\"]]\n",
    "    output[\"attention_mask\"] = [x[:-1] for x in output[\"attention_mask\"]]\n",
    "    return output"
   ],
   "metadata": {
    "collapsed": false,
    "ExecuteTime": {
     "end_time": "2023-06-07T07:36:17.618329300Z",
     "start_time": "2023-06-07T07:36:17.603308800Z"
    }
   }
  },
  {
   "cell_type": "code",
   "execution_count": 8,
   "outputs": [
    {
     "data": {
      "text/plain": "Map:   0%|          | 0/28619 [00:00<?, ? examples/s]",
      "application/vnd.jupyter.widget-view+json": {
       "version_major": 2,
       "version_minor": 0,
       "model_id": "29ef6b2117cb435898e1412f4330cfd9"
      }
     },
     "metadata": {},
     "output_type": "display_data"
    }
   ],
   "source": [
    "tokenized_dataset = raw_dataset.map(tokenize_function, batched=True)"
   ],
   "metadata": {
    "collapsed": false,
    "ExecuteTime": {
     "end_time": "2023-06-07T07:36:18.572826800Z",
     "start_time": "2023-06-07T07:36:17.618329300Z"
    }
   }
  },
  {
   "cell_type": "code",
   "execution_count": 9,
   "outputs": [],
   "source": [
    "# Train set: 80%, Validation set: 10%, Test set: 10%\n",
    "tokenized_train_dataset, tokenized_val_dataset, tokenized_test_dataset = model_utils.split_train_val_test(\n",
    "    tokenized_dataset,\n",
    "    train_size=0.8,\n",
    "    test_size_of_val_test_batch=0.5)"
   ],
   "metadata": {
    "collapsed": false,
    "ExecuteTime": {
     "end_time": "2023-06-07T07:36:18.614372Z",
     "start_time": "2023-06-07T07:36:18.578328900Z"
    }
   }
  },
  {
   "cell_type": "code",
   "execution_count": 10,
   "outputs": [
    {
     "name": "stderr",
     "output_type": "stream",
     "text": [
      "C:\\Users\\Karol\\anaconda3\\envs\\ml-tf2gpu\\lib\\site-packages\\datasets\\arrow_dataset.py:388: FutureWarning: The output of `to_tf_dataset` will change when a passing single element list for `labels` or `columns` in the next datasets version. To return a tuple structure rather than dict, pass a single string.\n",
      "Old behaviour: columns=['a'], labels=['labels'] -> (tf.Tensor, tf.Tensor)  \n",
      "             : columns='a', labels='labels' -> (tf.Tensor, tf.Tensor)  \n",
      "New behaviour: columns=['a'],labels=['labels'] -> ({'a': tf.Tensor}, {'labels': tf.Tensor})  \n",
      "             : columns='a', labels='labels' -> (tf.Tensor, tf.Tensor) \n",
      "  warnings.warn(\n",
      "You're using a GPT2TokenizerFast tokenizer. Please note that with a fast tokenizer, using the `__call__` method is faster than using a method to encode the text followed by a call to the `pad` method to get a padded encoding.\n"
     ]
    }
   ],
   "source": [
    "from transformers import DataCollatorWithPadding\n",
    "\n",
    "columns = [\"input_ids\", \"attention_mask\"]\n",
    "label_cols = [\"is_sarcastic\"]\n",
    "batch_size = 16\n",
    "data_collator = DataCollatorWithPadding(tokenizer=tokenizer, return_tensors=\"tf\")\n",
    "\n",
    "tf_train_dataset = model_utils.convert_to_tf_dataset(tokenized_train_dataset, columns, label_cols, data_collator,\n",
    "                                                     batch_size)\n",
    "tf_val_dataset = model_utils.convert_to_tf_dataset(tokenized_val_dataset, columns, label_cols, data_collator,\n",
    "                                                   batch_size)\n",
    "tf_test_dataset = model_utils.convert_to_tf_dataset(tokenized_test_dataset, columns, label_cols, data_collator,\n",
    "                                                    batch_size)"
   ],
   "metadata": {
    "collapsed": false,
    "ExecuteTime": {
     "end_time": "2023-06-06T15:53:33.690218400Z",
     "start_time": "2023-06-06T15:53:32.355602200Z"
    }
   }
  },
  {
   "cell_type": "code",
   "execution_count": 11,
   "outputs": [],
   "source": [
    "# Model parameters\n",
    "training_number = 1\n",
    "model_name = \"sarcasm_pl_gpt2\"\n",
    "\n",
    "training_name = f\"training_{training_number}\"\n",
    "checkpoint_filename_template = \"cp-{epoch:04d}.ckpt\"\n",
    "checkpoints_dir = os.path.join(constants.TRAINING_CHECKPOINTS_PATH, model_name, training_name)\n",
    "figures_dir = f\"../../documentation/models/{model_name}/figures\"\n",
    "checkpoint_path = os.path.join(checkpoints_dir, checkpoint_filename_template)"
   ],
   "metadata": {
    "collapsed": false,
    "ExecuteTime": {
     "end_time": "2023-06-06T15:53:33.705728400Z",
     "start_time": "2023-06-06T15:53:33.691218400Z"
    }
   }
  },
  {
   "cell_type": "code",
   "execution_count": 12,
   "outputs": [],
   "source": [
    "# Callbacks\n",
    "checkpoint_cb = tf.keras.callbacks.ModelCheckpoint(checkpoint_path, verbose=1, save_weights_only=True)\n",
    "early_stop_cb = tf.keras.callbacks.EarlyStopping(patience=3)\n",
    "callbacks = [checkpoint_cb, early_stop_cb]"
   ],
   "metadata": {
    "collapsed": false,
    "ExecuteTime": {
     "end_time": "2023-06-06T15:53:34.018107900Z",
     "start_time": "2023-06-06T15:53:33.706728300Z"
    }
   }
  },
  {
   "cell_type": "code",
   "execution_count": 13,
   "outputs": [],
   "source": [
    "from tensorflow.keras.optimizers.schedules import PolynomialDecay\n",
    "from tensorflow.keras.optimizers import Adam\n",
    "\n",
    "num_epochs = 10\n",
    "num_train_steps = len(tf_train_dataset) * num_epochs\n",
    "lr_scheduler = PolynomialDecay(\n",
    "    initial_learning_rate=5e-5, end_learning_rate=0.0, decay_steps=num_train_steps\n",
    ")\n",
    "\n",
    "optimizer = Adam(learning_rate=lr_scheduler)"
   ],
   "metadata": {
    "collapsed": false,
    "ExecuteTime": {
     "end_time": "2023-06-06T15:53:34.034623300Z",
     "start_time": "2023-06-06T15:53:34.021112400Z"
    }
   }
  },
  {
   "cell_type": "code",
   "execution_count": 14,
   "outputs": [
    {
     "name": "stderr",
     "output_type": "stream",
     "text": [
      "Some weights of the PyTorch model were not used when initializing the TF 2.0 model TFGPT2ForSequenceClassification: ['transformer.h.3.attn.masked_bias', 'transformer.h.10.attn.masked_bias', 'lm_head.weight', 'transformer.h.9.attn.masked_bias', 'transformer.h.0.attn.masked_bias', 'transformer.h.6.attn.masked_bias', 'transformer.h.1.attn.masked_bias', 'transformer.h.2.attn.masked_bias', 'transformer.h.8.attn.masked_bias', 'transformer.h.5.attn.masked_bias', 'transformer.h.7.attn.masked_bias', 'transformer.h.4.attn.masked_bias', 'transformer.h.11.attn.masked_bias']\n",
      "- This IS expected if you are initializing TFGPT2ForSequenceClassification from a PyTorch model trained on another task or with another architecture (e.g. initializing a TFBertForSequenceClassification model from a BertForPreTraining model).\n",
      "- This IS NOT expected if you are initializing TFGPT2ForSequenceClassification from a PyTorch model that you expect to be exactly identical (e.g. initializing a TFBertForSequenceClassification model from a BertForSequenceClassification model).\n",
      "Some weights or buffers of the TF 2.0 model TFGPT2ForSequenceClassification were not initialized from the PyTorch model and are newly initialized: ['score.weight']\n",
      "You should probably TRAIN this model on a down-stream task to be able to use it for predictions and inference.\n"
     ]
    }
   ],
   "source": [
    "from transformers import TFAutoModelForSequenceClassification\n",
    "\n",
    "model = TFAutoModelForSequenceClassification.from_pretrained(checkpoint, pad_token_id=tokenizer.pad_token_id,\n",
    "                                                             eos_token_id=tokenizer.eos_token_id, use_cache=False,\n",
    "                                                             num_labels=2, from_pt=True)"
   ],
   "metadata": {
    "collapsed": false,
    "ExecuteTime": {
     "end_time": "2023-06-06T15:53:36.122915Z",
     "start_time": "2023-06-06T15:53:34.038126900Z"
    }
   }
  },
  {
   "cell_type": "code",
   "execution_count": 15,
   "outputs": [
    {
     "name": "stdout",
     "output_type": "stream",
     "text": [
      "Model: \"tfgp_t2for_sequence_classification\"\n",
      "_________________________________________________________________\n",
      "Layer (type)                 Output Shape              Param #   \n",
      "=================================================================\n",
      "score (Dense)                multiple                  1536      \n",
      "_________________________________________________________________\n",
      "transformer (TFGPT2MainLayer multiple                  124439808 \n",
      "=================================================================\n",
      "Total params: 124,441,344\n",
      "Trainable params: 124,441,344\n",
      "Non-trainable params: 0\n",
      "_________________________________________________________________\n"
     ]
    }
   ],
   "source": [
    "model.summary()"
   ],
   "metadata": {
    "collapsed": false,
    "ExecuteTime": {
     "end_time": "2023-06-06T15:53:36.167956400Z",
     "start_time": "2023-06-06T15:53:36.122915Z"
    }
   }
  },
  {
   "cell_type": "code",
   "execution_count": 16,
   "outputs": [],
   "source": [
    "# Compile\n",
    "loss = tf.keras.losses.SparseCategoricalCrossentropy(from_logits=True)\n",
    "metrics = [\"accuracy\"]\n",
    "model.compile(optimizer=optimizer, loss=loss, metrics=metrics)"
   ],
   "metadata": {
    "collapsed": false,
    "ExecuteTime": {
     "end_time": "2023-06-06T15:53:36.176960100Z",
     "start_time": "2023-06-06T15:53:36.141930100Z"
    }
   }
  },
  {
   "cell_type": "code",
   "execution_count": 17,
   "outputs": [
    {
     "name": "stdout",
     "output_type": "stream",
     "text": [
      "Epoch 1/10\n",
      "1431/1431 [==============================] - 228s 150ms/step - loss: 0.4964 - accuracy: 0.7432 - val_loss: 0.3980 - val_accuracy: 0.8249\n",
      "\n",
      "Epoch 00001: saving model to ../../training_checkpoints\\sarcasm_pl_gpt2\\training_4\\cp-0001.ckpt\n",
      "Epoch 2/10\n",
      "1431/1431 [==============================] - 224s 156ms/step - loss: 0.2701 - accuracy: 0.8817 - val_loss: 0.5352 - val_accuracy: 0.8204\n",
      "\n",
      "Epoch 00002: saving model to ../../training_checkpoints\\sarcasm_pl_gpt2\\training_4\\cp-0002.ckpt\n",
      "Epoch 3/10\n",
      "1431/1431 [==============================] - 209s 146ms/step - loss: 0.1036 - accuracy: 0.9598 - val_loss: 0.6849 - val_accuracy: 0.8239\n",
      "\n",
      "Epoch 00003: saving model to ../../training_checkpoints\\sarcasm_pl_gpt2\\training_4\\cp-0003.ckpt\n",
      "Epoch 4/10\n",
      "1431/1431 [==============================] - 214s 149ms/step - loss: 0.0395 - accuracy: 0.9865 - val_loss: 0.9579 - val_accuracy: 0.8337\n",
      "\n",
      "Epoch 00004: saving model to ../../training_checkpoints\\sarcasm_pl_gpt2\\training_4\\cp-0004.ckpt\n"
     ]
    }
   ],
   "source": [
    "history = model.fit(tf_train_dataset, validation_data=tf_val_dataset, epochs=num_epochs,\n",
    "                    callbacks=[checkpoint_cb, early_stop_cb])"
   ],
   "metadata": {
    "collapsed": false,
    "ExecuteTime": {
     "end_time": "2023-06-06T16:08:22.407516600Z",
     "start_time": "2023-06-06T15:53:36.154437900Z"
    }
   }
  },
  {
   "cell_type": "code",
   "execution_count": 18,
   "outputs": [
    {
     "data": {
      "text/plain": "<Figure size 640x480 with 1 Axes>",
      "image/png": "[encoded data removed]"
     },
     "metadata": {},
     "output_type": "display_data"
    },
    {
     "data": {
      "text/plain": "<Figure size 640x480 with 1 Axes>",
      "image/png": "[encoded data removed]"
     },
     "metadata": {},
     "output_type": "display_data"
    }
   ],
   "source": [
    "model_utils.plot_and_save_fig_from_history(history,\n",
    "                                           attributes=['accuracy', 'val_accuracy'],\n",
    "                                           title='Model accuracy',\n",
    "                                           y_label='Accuracy',\n",
    "                                           x_label='Epoch',\n",
    "                                           legend_descriptors=['Train', 'Val'],\n",
    "                                           figure_dir_path=figures_dir,\n",
    "                                           figure_filename=f\"{training_name}_accuracy.png\")\n",
    "\n",
    "model_utils.plot_and_save_fig_from_history(history,\n",
    "                                           attributes=['loss', 'val_loss'],\n",
    "                                           title='Model loss',\n",
    "                                           y_label='Loss',\n",
    "                                           x_label='Epoch',\n",
    "                                           legend_descriptors=['Train', 'Val'],\n",
    "                                           figure_dir_path=figures_dir,\n",
    "                                           figure_filename=f\"{training_name}_loss.png\")"
   ],
   "metadata": {
    "collapsed": false,
    "ExecuteTime": {
     "end_time": "2023-06-06T16:08:22.736890900Z",
     "start_time": "2023-06-06T16:08:22.411521100Z"
    }
   }
  },
  {
   "cell_type": "code",
   "execution_count": 19,
   "outputs": [],
   "source": [
    "best_model = model_utils.get_best_model_from_checkpoints(model, history,\n",
    "                                                         checkpoints_dir=checkpoints_dir,\n",
    "                                                         checkpoint_filename_template=checkpoint_filename_template)"
   ],
   "metadata": {
    "collapsed": false,
    "ExecuteTime": {
     "end_time": "2023-06-06T16:08:25.714112800Z",
     "start_time": "2023-06-06T16:08:22.780572800Z"
    }
   }
  },
  {
   "cell_type": "code",
   "execution_count": 20,
   "outputs": [
    {
     "name": "stderr",
     "output_type": "stream",
     "text": [
      "WARNING:absl:Found untraced functions such as wte_layer_call_and_return_conditional_losses, wte_layer_call_fn, dropout_layer_call_and_return_conditional_losses, dropout_layer_call_fn, ln_f_layer_call_and_return_conditional_losses while saving (showing 5 of 735). These functions will not be directly callable after loading.\n"
     ]
    },
    {
     "name": "stdout",
     "output_type": "stream",
     "text": [
      "INFO:tensorflow:Assets written to: ../../trained_models\\sarcasm_pl_gpt2_4\\1\\assets\n"
     ]
    },
    {
     "name": "stderr",
     "output_type": "stream",
     "text": [
      "INFO:tensorflow:Assets written to: ../../trained_models\\sarcasm_pl_gpt2_4\\1\\assets\n"
     ]
    }
   ],
   "source": [
    "model_utils.save_model(best_model, model_name=model_name, training_number=training_number,\n",
    "                       saved_models_dir=constants.SAVED_MODEL_LOCATION,\n",
    "                       default_model_version=constants.DEFAULT_MODEL_VERSION)"
   ],
   "metadata": {
    "collapsed": false,
    "ExecuteTime": {
     "end_time": "2023-06-06T16:09:06.391566700Z",
     "start_time": "2023-06-06T16:08:25.717618100Z"
    }
   }
  },
  {
   "cell_type": "code",
   "execution_count": 21,
   "outputs": [
    {
     "name": "stdout",
     "output_type": "stream",
     "text": [
      "179/179 [==============================] - 17s 95ms/step - loss: 0.3886 - accuracy: 0.8152\n"
     ]
    },
    {
     "data": {
      "text/plain": "[0.38862577080726624, 0.8151642084121704]"
     },
     "execution_count": 21,
     "metadata": {},
     "output_type": "execute_result"
    }
   ],
   "source": [
    "# Evaluation\n",
    "best_model.evaluate(tf_test_dataset, batch_size=batch_size)"
   ],
   "metadata": {
    "collapsed": false,
    "ExecuteTime": {
     "end_time": "2023-06-06T16:09:23.497687500Z",
     "start_time": "2023-06-06T16:09:06.392568600Z"
    }
   }
  },
  {
   "cell_type": "code",
   "execution_count": 22,
   "outputs": [],
   "source": [
    "class_preds = model_utils.get_class_preds(model, tf_test_dataset)"
   ],
   "metadata": {
    "collapsed": false,
    "ExecuteTime": {
     "end_time": "2023-06-06T16:09:39.613627700Z",
     "start_time": "2023-06-06T16:09:23.498692500Z"
    }
   }
  },
  {
   "cell_type": "code",
   "execution_count": 23,
   "outputs": [
    {
     "name": "stdout",
     "output_type": "stream",
     "text": [
      "Precision score:  0.7580340264650284\n",
      "Recall score:  0.892433234421365\n",
      "F1 score:  0.8197614991482113\n"
     ]
    }
   ],
   "source": [
    "precision, recall, f1 = model_utils.get_classification_evaluation_metrics(\n",
    "    class_actual=tokenized_test_dataset['is_sarcastic'],\n",
    "    class_preds=class_preds,\n",
    ")\n",
    "\n",
    "print(f\"Precision score: \", precision)\n",
    "print(f\"Recall score: \", recall)\n",
    "print(f\"F1 score: \", f1)"
   ],
   "metadata": {
    "collapsed": false,
    "ExecuteTime": {
     "end_time": "2023-06-06T16:09:39.674381500Z",
     "start_time": "2023-06-06T16:09:39.615627Z"
    }
   }
  },
  {
   "cell_type": "code",
   "execution_count": 24,
   "outputs": [
    {
     "data": {
      "text/plain": "<Figure size 640x480 with 2 Axes>",
      "image/png": "[encoded data removed]"
     },
     "metadata": {},
     "output_type": "display_data"
    }
   ],
   "source": [
    "model_utils.plot_and_save_conf_matrix(class_actual=tokenized_test_dataset['is_sarcastic'],\n",
    "                                      class_preds=class_preds,\n",
    "                                      figure_dir_path=figures_dir,\n",
    "                                      figure_filename=f\"{training_name}_confmatrix.png\")"
   ],
   "metadata": {
    "collapsed": false,
    "ExecuteTime": {
     "end_time": "2023-06-06T16:09:39.801312400Z",
     "start_time": "2023-06-06T16:09:39.645848700Z"
    }
   }
  },
  {
   "cell_type": "code",
   "execution_count": 25,
   "outputs": [
    {
     "name": "stdout",
     "output_type": "stream",
     "text": [
      "\n",
      "            BAD PREDICTION:\n",
      "            - INDEX: 2\n",
      "            - TEXT: Jedz warzywa: 9 pysznie różnych przepisów\n",
      "            - PREDICTED VALUE: 1\n",
      "            - CORRECT VALUE: 0\n",
      "            \n",
      "\n",
      "            BAD PREDICTION:\n",
      "            - INDEX: 5\n",
      "            - TEXT: Białe dziedzictwo\n",
      "            - PREDICTED VALUE: 1\n",
      "            - CORRECT VALUE: 0\n",
      "            \n",
      "\n",
      "            BAD PREDICTION:\n",
      "            - INDEX: 6\n",
      "            - TEXT: 5 sposobów na złożenie podatków przy mniejszym stresie\n",
      "            - PREDICTED VALUE: 1\n",
      "            - CORRECT VALUE: 0\n",
      "            \n",
      "\n",
      "            BAD PREDICTION:\n",
      "            - INDEX: 8\n",
      "            - TEXT: Rząd cieni zbyt duży, by spotkać się w sali konferencyjnej Marriott\n",
      "            - PREDICTED VALUE: 0\n",
      "            - CORRECT VALUE: 1\n",
      "            \n",
      "\n",
      "            BAD PREDICTION:\n",
      "            - INDEX: 9\n",
      "            - TEXT: Wielu rodziców zna ten scenariusz.\n",
      "            - PREDICTED VALUE: 1\n",
      "            - CORRECT VALUE: 0\n",
      "            \n",
      "\n",
      "            BAD PREDICTION:\n",
      "            - INDEX: 12\n",
      "            - TEXT: Co należy wiedzieć o obecnych metodach leczenia eboli\n",
      "            - PREDICTED VALUE: 1\n",
      "            - CORRECT VALUE: 0\n",
      "            \n",
      "\n",
      "            BAD PREDICTION:\n",
      "            - INDEX: 13\n",
      "            - TEXT: Chris Christie sugeruje, że Hillary Clinton był winny porwania setek uczennic przez Boko Harama\n",
      "            - PREDICTED VALUE: 1\n",
      "            - CORRECT VALUE: 0\n",
      "            \n",
      "\n",
      "            BAD PREDICTION:\n",
      "            - INDEX: 14\n",
      "            - TEXT: Ford stworzył nowy SUV, który będzie działał wyłącznie na benzynie\n",
      "            - PREDICTED VALUE: 0\n",
      "            - CORRECT VALUE: 1\n",
      "            \n",
      "\n",
      "            BAD PREDICTION:\n",
      "            - INDEX: 15\n",
      "            - TEXT: Travis Kalanick odchodzi z Trump Economic Advisor Council\n",
      "            - PREDICTED VALUE: 1\n",
      "            - CORRECT VALUE: 0\n",
      "            \n",
      "\n",
      "            BAD PREDICTION:\n",
      "            - INDEX: 16\n",
      "            - TEXT: chłopiec z obszaru wchodzi w fazę skakania i dotykania szczytów drzwi\n",
      "            - PREDICTED VALUE: 0\n",
      "            - CORRECT VALUE: 1\n",
      "            \n"
     ]
    }
   ],
   "source": [
    "model_utils.print_incorrectly_predicted_texts(texts=raw_dataset['headline_pl'],\n",
    "                                              class_actual=raw_dataset['is_sarcastic'],\n",
    "                                              class_preds=class_preds)"
   ],
   "metadata": {
    "collapsed": false,
    "ExecuteTime": {
     "end_time": "2023-06-06T16:09:39.868128300Z",
     "start_time": "2023-06-06T16:09:39.801312400Z"
    }
   }
  },
  {
   "cell_type": "code",
   "execution_count": 123,
   "outputs": [
    {
     "data": {
      "text/plain": "Dataset({\n    features: ['is_sarcastic', 'headline_pl', 'input_ids', 'attention_mask'],\n    num_rows: 2862\n})"
     },
     "execution_count": 123,
     "metadata": {},
     "output_type": "execute_result"
    }
   ],
   "source": [
    "tokenized_test_dataset"
   ],
   "metadata": {
    "collapsed": false,
    "ExecuteTime": {
     "end_time": "2023-06-06T21:36:35.930922400Z",
     "start_time": "2023-06-06T21:36:35.906919100Z"
    }
   }
  },
  {
   "cell_type": "code",
   "execution_count": 10,
   "outputs": [
    {
     "ename": "NameError",
     "evalue": "name 'class_preds' is not defined",
     "output_type": "error",
     "traceback": [
      "\u001B[1;31m---------------------------------------------------------------------------\u001B[0m",
      "\u001B[1;31mNameError\u001B[0m                                 Traceback (most recent call last)",
      "Cell \u001B[1;32mIn[10], line 2\u001B[0m\n\u001B[0;32m      1\u001B[0m test_df \u001B[38;5;241m=\u001B[39m pd\u001B[38;5;241m.\u001B[39mDataFrame(\n\u001B[1;32m----> 2\u001B[0m     \u001B[38;5;28mlist\u001B[39m(\u001B[38;5;28mzip\u001B[39m(tokenized_test_dataset[\u001B[38;5;124m'\u001B[39m\u001B[38;5;124mheadline_pl\u001B[39m\u001B[38;5;124m'\u001B[39m], tokenized_test_dataset[\u001B[38;5;124m'\u001B[39m\u001B[38;5;124mis_sarcastic\u001B[39m\u001B[38;5;124m'\u001B[39m], \u001B[43mclass_preds\u001B[49m)),\n\u001B[0;32m      3\u001B[0m     columns\u001B[38;5;241m=\u001B[39m[\u001B[38;5;124m'\u001B[39m\u001B[38;5;124mheadline_pl\u001B[39m\u001B[38;5;124m'\u001B[39m, \u001B[38;5;124m'\u001B[39m\u001B[38;5;124mis_sarcastic\u001B[39m\u001B[38;5;124m'\u001B[39m, \u001B[38;5;124m'\u001B[39m\u001B[38;5;124mprediction\u001B[39m\u001B[38;5;124m'\u001B[39m])\n\u001B[0;32m      4\u001B[0m test_df\n",
      "\u001B[1;31mNameError\u001B[0m: name 'class_preds' is not defined"
     ]
    }
   ],
   "source": [
    "test_df = pd.DataFrame(\n",
    "    list(zip(tokenized_test_dataset['headline_pl'], tokenized_test_dataset['is_sarcastic'], class_preds)),\n",
    "    columns=['headline_pl', 'is_sarcastic', 'prediction'])\n",
    "test_df"
   ],
   "metadata": {
    "collapsed": false,
    "ExecuteTime": {
     "end_time": "2023-06-07T07:36:28.388205400Z",
     "start_time": "2023-06-07T07:36:28.110502200Z"
    }
   }
  },
  {
   "cell_type": "code",
   "execution_count": 125,
   "outputs": [
    {
     "data": {
      "text/plain": "                                            headline_pl  is_sarcastic  \\\n0     Obserwowanie Netflix sprawia, że czujesz się s...             0   \n1     Policja i muzułmańscy przywódcy łączą ręce w ż...             0   \n2                  Bush bardzo dumny z nowego garnituru             1   \n3     Policja śledzi doniesienia o miejscowym geju w...             1   \n4     sparaliżowany pies nie mógłby być szczęśliwszy...             0   \n...                                                 ...           ...   \n2857  Mężczyzna oskarżony o oddawanie moczu na polic...             0   \n2858  \"humor w mundurze\" zgłoszenia na najniższym po...             1   \n2859  wyczerpany lekarz wstaje wcześnie rano, kończy...             1   \n2860                             Ujrzyj majestat indyka             0   \n2861  Huffpollster: Jak zapytać o taką rasę senacką ...             0   \n\n      prediction  token_count count_belonging  correctly_predicted  \n0              1            9            6-11                    0  \n1              0           11            6-11                    1  \n2              1            6            6-11                    1  \n3              1            9            6-11                    1  \n4              1           12           12-17                    0  \n...          ...          ...             ...                  ...  \n2857           0           11            6-11                    1  \n2858           1            7            6-11                    1  \n2859           1            7            6-11                    1  \n2860           0            3             0-5                    1  \n2861           0            9            6-11                    1  \n\n[2862 rows x 6 columns]",
      "text/html": "<div>\n<style scoped>\n    .dataframe tbody tr th:only-of-type {\n        vertical-align: middle;\n    }\n\n    .dataframe tbody tr th {\n        vertical-align: top;\n    }\n\n    .dataframe thead th {\n        text-align: right;\n    }\n</style>\n<table border=\"1\" class=\"dataframe\">\n  <thead>\n    <tr style=\"text-align: right;\">\n      <th></th>\n      <th>headline_pl</th>\n      <th>is_sarcastic</th>\n      <th>prediction</th>\n      <th>token_count</th>\n      <th>count_belonging</th>\n      <th>correctly_predicted</th>\n    </tr>\n  </thead>\n  <tbody>\n    <tr>\n      <th>0</th>\n      <td>Obserwowanie Netflix sprawia, że czujesz się s...</td>\n      <td>0</td>\n      <td>1</td>\n      <td>9</td>\n      <td>6-11</td>\n      <td>0</td>\n    </tr>\n    <tr>\n      <th>1</th>\n      <td>Policja i muzułmańscy przywódcy łączą ręce w ż...</td>\n      <td>0</td>\n      <td>0</td>\n      <td>11</td>\n      <td>6-11</td>\n      <td>1</td>\n    </tr>\n    <tr>\n      <th>2</th>\n      <td>Bush bardzo dumny z nowego garnituru</td>\n      <td>1</td>\n      <td>1</td>\n      <td>6</td>\n      <td>6-11</td>\n      <td>1</td>\n    </tr>\n    <tr>\n      <th>3</th>\n      <td>Policja śledzi doniesienia o miejscowym geju w...</td>\n      <td>1</td>\n      <td>1</td>\n      <td>9</td>\n      <td>6-11</td>\n      <td>1</td>\n    </tr>\n    <tr>\n      <th>4</th>\n      <td>sparaliżowany pies nie mógłby być szczęśliwszy...</td>\n      <td>0</td>\n      <td>1</td>\n      <td>12</td>\n      <td>12-17</td>\n      <td>0</td>\n    </tr>\n    <tr>\n      <th>...</th>\n      <td>...</td>\n      <td>...</td>\n      <td>...</td>\n      <td>...</td>\n      <td>...</td>\n      <td>...</td>\n    </tr>\n    <tr>\n      <th>2857</th>\n      <td>Mężczyzna oskarżony o oddawanie moczu na polic...</td>\n      <td>0</td>\n      <td>0</td>\n      <td>11</td>\n      <td>6-11</td>\n      <td>1</td>\n    </tr>\n    <tr>\n      <th>2858</th>\n      <td>\"humor w mundurze\" zgłoszenia na najniższym po...</td>\n      <td>1</td>\n      <td>1</td>\n      <td>7</td>\n      <td>6-11</td>\n      <td>1</td>\n    </tr>\n    <tr>\n      <th>2859</th>\n      <td>wyczerpany lekarz wstaje wcześnie rano, kończy...</td>\n      <td>1</td>\n      <td>1</td>\n      <td>7</td>\n      <td>6-11</td>\n      <td>1</td>\n    </tr>\n    <tr>\n      <th>2860</th>\n      <td>Ujrzyj majestat indyka</td>\n      <td>0</td>\n      <td>0</td>\n      <td>3</td>\n      <td>0-5</td>\n      <td>1</td>\n    </tr>\n    <tr>\n      <th>2861</th>\n      <td>Huffpollster: Jak zapytać o taką rasę senacką ...</td>\n      <td>0</td>\n      <td>0</td>\n      <td>9</td>\n      <td>6-11</td>\n      <td>1</td>\n    </tr>\n  </tbody>\n</table>\n<p>2862 rows × 6 columns</p>\n</div>"
     },
     "execution_count": 125,
     "metadata": {},
     "output_type": "execute_result"
    }
   ],
   "source": [
    "def map_token_counts(row):\n",
    "    return len(row['headline_pl'].split())\n",
    "\n",
    "def map_count_belonging(row, divider):\n",
    "    int_division_result = int(row['token_count'] / divider) + 1\n",
    "    lower_boundary = divider * int_division_result - divider\n",
    "    upper_boundary = divider * int_division_result - 1\n",
    "    return f\"{lower_boundary}-{upper_boundary}\"\n",
    "\n",
    "def map_correctly_predicted(row):\n",
    "    return int(row['is_sarcastic'] == row['prediction'])\n",
    "\n",
    "\n",
    "test_df['token_count'] = test_df.apply(lambda row: map_token_counts(row), axis=1)\n",
    "test_df['count_belonging'] = test_df.apply(lambda row: map_count_belonging(row, divider=6), axis=1)\n",
    "test_df['correctly_predicted'] = test_df.apply(lambda row: map_correctly_predicted(row), axis=1)\n",
    "test_df"
   ],
   "metadata": {
    "collapsed": false,
    "ExecuteTime": {
     "end_time": "2023-06-06T21:36:37.239807500Z",
     "start_time": "2023-06-06T21:36:37.173901200Z"
    }
   }
  },
  {
   "cell_type": "code",
   "execution_count": 126,
   "outputs": [],
   "source": [
    "test_df = test_df.drop(test_df[test_df.token_count > 24].index)"
   ],
   "metadata": {
    "collapsed": false,
    "ExecuteTime": {
     "end_time": "2023-06-06T21:36:37.861128500Z",
     "start_time": "2023-06-06T21:36:37.843128600Z"
    }
   }
  },
  {
   "cell_type": "code",
   "execution_count": 127,
   "outputs": [],
   "source": [
    "test_df = test_df.sort_values(by=['token_count']).reset_index(drop=True)"
   ],
   "metadata": {
    "collapsed": false,
    "ExecuteTime": {
     "end_time": "2023-06-06T21:36:38.380493700Z",
     "start_time": "2023-06-06T21:36:38.368492100Z"
    }
   }
  },
  {
   "cell_type": "code",
   "execution_count": 128,
   "outputs": [
    {
     "data": {
      "text/plain": "<Figure size 640x480 with 1 Axes>",
      "image/png": "[encoded data removed]"
     },
     "metadata": {},
     "output_type": "display_data"
    }
   ],
   "source": [
    "data = test_df['count_belonging']\n",
    "data.value_counts(sort=False).plot.bar()\n",
    "plt.xlabel('Token count range')\n",
    "plt.ylabel('Count')\n",
    "plt.savefig(os.path.join(figures_dir, f'{training_name}_counts_per_range.png'))\n",
    "plt.show()"
   ],
   "metadata": {
    "collapsed": false,
    "ExecuteTime": {
     "end_time": "2023-06-06T21:36:39.307838900Z",
     "start_time": "2023-06-06T21:36:39.194011200Z"
    }
   }
  },
  {
   "cell_type": "code",
   "execution_count": 129,
   "outputs": [],
   "source": [
    "range_to_valid_predictions_count_dict = {'0-5': 0, '6-11': 0, '12-17': 0, '18-23': 0}\n",
    "range_to_element_count_dict = {'0-5': 0, '6-11': 0, '12-17': 0, '18-23': 0}\n",
    "range_to_pred_accuracy_dict = {'0-5': 0., '6-11': 0., '12-17': 0., '18-23': 0.}"
   ],
   "metadata": {
    "collapsed": false,
    "ExecuteTime": {
     "end_time": "2023-06-06T21:36:40.933551700Z",
     "start_time": "2023-06-06T21:36:40.903549700Z"
    }
   }
  },
  {
   "cell_type": "code",
   "execution_count": 130,
   "outputs": [
    {
     "name": "stdout",
     "output_type": "stream",
     "text": [
      "Correct predictions count:  {'0-5': 267, '6-11': 1464, '12-17': 554, '18-23': 47}\n",
      "Element count:  {'0-5': 321, '6-11': 1815, '12-17': 668, '18-23': 55}\n",
      "Accuracies:  {'0-5': 0.8317757009345794, '6-11': 0.8066115702479338, '12-17': 0.8293413173652695, '18-23': 0.8545454545454545}\n"
     ]
    }
   ],
   "source": [
    "for _, row in test_df.iterrows():\n",
    "    count_belonging = row['count_belonging']\n",
    "\n",
    "    range_to_element_count_dict[count_belonging] = range_to_element_count_dict[count_belonging] + 1\n",
    "\n",
    "    if row['correctly_predicted']:\n",
    "        range_to_valid_predictions_count_dict[count_belonging] = range_to_valid_predictions_count_dict[count_belonging] + 1\n",
    "\n",
    "for key in range_to_pred_accuracy_dict.keys():\n",
    "    range_to_pred_accuracy_dict[key] = range_to_valid_predictions_count_dict[key] / range_to_element_count_dict[key]\n",
    "\n",
    "print(\"Correct predictions count: \", range_to_valid_predictions_count_dict)\n",
    "print(\"Element count: \", range_to_element_count_dict)\n",
    "print(\"Accuracies: \", range_to_pred_accuracy_dict)"
   ],
   "metadata": {
    "collapsed": false,
    "ExecuteTime": {
     "end_time": "2023-06-06T21:36:41.626067100Z",
     "start_time": "2023-06-06T21:36:41.551520800Z"
    }
   }
  },
  {
   "cell_type": "code",
   "execution_count": 131,
   "outputs": [
    {
     "data": {
      "text/plain": "<Figure size 640x480 with 1 Axes>",
      "image/png": "[encoded data removed]"
     },
     "metadata": {},
     "output_type": "display_data"
    }
   ],
   "source": [
    "import matplotlib.ticker as mtick\n",
    "\n",
    "plt.bar(['0-5', '6-11', '12-17', '18-23'], [val for val in range_to_pred_accuracy_dict.values()])\n",
    "plt.xlabel('Token count range')\n",
    "plt.ylabel('Accuracy')\n",
    "plt.gca().yaxis.set_major_formatter(mtick.PercentFormatter(xmax=1.0))\n",
    "plt.savefig(os.path.join(figures_dir, f'{training_name}_accuracies_per_range.png'))\n",
    "plt.show()"
   ],
   "metadata": {
    "collapsed": false,
    "ExecuteTime": {
     "end_time": "2023-06-06T21:36:42.399451900Z",
     "start_time": "2023-06-06T21:36:42.294286900Z"
    }
   }
  },
  {
   "cell_type": "code",
   "execution_count": null,
   "outputs": [],
   "source": [],
   "metadata": {
    "collapsed": false
   }
  }
 ],
 "metadata": {
  "kernelspec": {
   "display_name": "Python 3",
   "language": "python",
   "name": "python3"
  },
  "language_info": {
   "codemirror_mode": {
    "name": "ipython",
    "version": 2
   },
   "file_extension": ".py",
   "mimetype": "text/x-python",
   "name": "python",
   "nbconvert_exporter": "python",
   "pygments_lexer": "ipython2",
   "version": "2.7.6"
  }
 },
 "nbformat": 4,
 "nbformat_minor": 0
}
