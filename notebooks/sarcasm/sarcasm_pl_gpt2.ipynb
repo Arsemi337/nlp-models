{
 "cells": [
  {
   "cell_type": "code",
   "execution_count": 1,
   "outputs": [],
   "source": [
    "import sys\n",
    "\n",
    "sys.path.append('../../notebooks')\n",
    "import os\n",
    "import pandas as pd\n",
    "import tensorflow as tf\n",
    "import matplotlib.pyplot as plt\n",
    "from notebooks.core import constants\n",
    "from notebooks.core import model_utils"
   ],
   "metadata": {
    "collapsed": false,
    "ExecuteTime": {
     "end_time": "2023-06-01T18:58:18.116077400Z",
     "start_time": "2023-06-01T18:58:14.186548500Z"
    }
   }
  },
  {
   "cell_type": "code",
   "execution_count": 2,
   "outputs": [
    {
     "data": {
      "text/plain": "       is_sarcastic                                           headline  \\\n0                 1  thirtysomething scientists unveil doomsday clo...   \n1                 0  dem rep. totally nails why congress is falling...   \n2                 0  eat your veggies: 9 deliciously different recipes   \n3                 1  inclement weather prevents liar from getting t...   \n4                 1  mother comes pretty close to using word 'strea...   \n...             ...                                                ...   \n28614             1       jews to celebrate rosh hashasha or something   \n28615             1  internal affairs investigator disappointed con...   \n28616             0  the most beautiful acceptance speech this week...   \n28617             1  mars probe destroyed by orbiting spielberg-gat...   \n28618             1                 dad clarifies this not a food stop   \n\n                                            article_link  \\\n0      https://www.theonion.com/thirtysomething-scien...   \n1      https://www.huffingtonpost.com/entry/donna-edw...   \n2      https://www.huffingtonpost.com/entry/eat-your-...   \n3      https://local.theonion.com/inclement-weather-p...   \n4      https://www.theonion.com/mother-comes-pretty-c...   \n...                                                  ...   \n28614  https://www.theonion.com/jews-to-celebrate-ros...   \n28615  https://local.theonion.com/internal-affairs-in...   \n28616  https://www.huffingtonpost.com/entry/andrew-ah...   \n28617  https://www.theonion.com/mars-probe-destroyed-...   \n28618  https://www.theonion.com/dad-clarifies-this-no...   \n\n                                             headline_pl  \n0      Naukowcy z lat trzydziestych odkrywają zegar z...  \n1      Reprezentantka rządu USA wyjaśnia, dlaczego Ko...  \n2              Jedz warzywa: 9 pysznie różnych przepisów  \n3      Nieprzyjemna pogoda uniemożliwia kłamcy dotarc...  \n4      matka jest bardzo blisko użycia słowa \"streami...  \n...                                                  ...  \n28614               Żydzi świętują Rosh Hashasha czy coś  \n28615  Śledczy spraw wewnętrznych rozczarowany spiski...  \n28616  Najpiękniejsza przemowa akceptacyjna w tym tyg...  \n28617  Mars zniszczony przez pałac kosmiczny na orbic...  \n28618  Tata wyjaśnia, że to nie jest przerwa na jedzenie  \n\n[28619 rows x 4 columns]",
      "text/html": "<div>\n<style scoped>\n    .dataframe tbody tr th:only-of-type {\n        vertical-align: middle;\n    }\n\n    .dataframe tbody tr th {\n        vertical-align: top;\n    }\n\n    .dataframe thead th {\n        text-align: right;\n    }\n</style>\n<table border=\"1\" class=\"dataframe\">\n  <thead>\n    <tr style=\"text-align: right;\">\n      <th></th>\n      <th>is_sarcastic</th>\n      <th>headline</th>\n      <th>article_link</th>\n      <th>headline_pl</th>\n    </tr>\n  </thead>\n  <tbody>\n    <tr>\n      <th>0</th>\n      <td>1</td>\n      <td>thirtysomething scientists unveil doomsday clo...</td>\n      <td>https://www.theonion.com/thirtysomething-scien...</td>\n      <td>Naukowcy z lat trzydziestych odkrywają zegar z...</td>\n    </tr>\n    <tr>\n      <th>1</th>\n      <td>0</td>\n      <td>dem rep. totally nails why congress is falling...</td>\n      <td>https://www.huffingtonpost.com/entry/donna-edw...</td>\n      <td>Reprezentantka rządu USA wyjaśnia, dlaczego Ko...</td>\n    </tr>\n    <tr>\n      <th>2</th>\n      <td>0</td>\n      <td>eat your veggies: 9 deliciously different recipes</td>\n      <td>https://www.huffingtonpost.com/entry/eat-your-...</td>\n      <td>Jedz warzywa: 9 pysznie różnych przepisów</td>\n    </tr>\n    <tr>\n      <th>3</th>\n      <td>1</td>\n      <td>inclement weather prevents liar from getting t...</td>\n      <td>https://local.theonion.com/inclement-weather-p...</td>\n      <td>Nieprzyjemna pogoda uniemożliwia kłamcy dotarc...</td>\n    </tr>\n    <tr>\n      <th>4</th>\n      <td>1</td>\n      <td>mother comes pretty close to using word 'strea...</td>\n      <td>https://www.theonion.com/mother-comes-pretty-c...</td>\n      <td>matka jest bardzo blisko użycia słowa \"streami...</td>\n    </tr>\n    <tr>\n      <th>...</th>\n      <td>...</td>\n      <td>...</td>\n      <td>...</td>\n      <td>...</td>\n    </tr>\n    <tr>\n      <th>28614</th>\n      <td>1</td>\n      <td>jews to celebrate rosh hashasha or something</td>\n      <td>https://www.theonion.com/jews-to-celebrate-ros...</td>\n      <td>Żydzi świętują Rosh Hashasha czy coś</td>\n    </tr>\n    <tr>\n      <th>28615</th>\n      <td>1</td>\n      <td>internal affairs investigator disappointed con...</td>\n      <td>https://local.theonion.com/internal-affairs-in...</td>\n      <td>Śledczy spraw wewnętrznych rozczarowany spiski...</td>\n    </tr>\n    <tr>\n      <th>28616</th>\n      <td>0</td>\n      <td>the most beautiful acceptance speech this week...</td>\n      <td>https://www.huffingtonpost.com/entry/andrew-ah...</td>\n      <td>Najpiękniejsza przemowa akceptacyjna w tym tyg...</td>\n    </tr>\n    <tr>\n      <th>28617</th>\n      <td>1</td>\n      <td>mars probe destroyed by orbiting spielberg-gat...</td>\n      <td>https://www.theonion.com/mars-probe-destroyed-...</td>\n      <td>Mars zniszczony przez pałac kosmiczny na orbic...</td>\n    </tr>\n    <tr>\n      <th>28618</th>\n      <td>1</td>\n      <td>dad clarifies this not a food stop</td>\n      <td>https://www.theonion.com/dad-clarifies-this-no...</td>\n      <td>Tata wyjaśnia, że to nie jest przerwa na jedzenie</td>\n    </tr>\n  </tbody>\n</table>\n<p>28619 rows × 4 columns</p>\n</div>"
     },
     "execution_count": 2,
     "metadata": {},
     "output_type": "execute_result"
    }
   ],
   "source": [
    "df = pd.read_json(\"../../data/translated/sarcasm/sarcasm_headlines_dataset_pl.json\")\n",
    "df"
   ],
   "metadata": {
    "collapsed": false,
    "ExecuteTime": {
     "end_time": "2023-06-01T18:58:18.211079600Z",
     "start_time": "2023-06-01T18:58:18.117075400Z"
    }
   }
  },
  {
   "cell_type": "code",
   "execution_count": 3,
   "outputs": [
    {
     "data": {
      "text/plain": "       is_sarcastic                                        headline_pl\n0                 1  Naukowcy z lat trzydziestych odkrywają zegar z...\n1                 0  Reprezentantka rządu USA wyjaśnia, dlaczego Ko...\n2                 0          Jedz warzywa: 9 pysznie różnych przepisów\n3                 1  Nieprzyjemna pogoda uniemożliwia kłamcy dotarc...\n4                 1  matka jest bardzo blisko użycia słowa \"streami...\n...             ...                                                ...\n28614             1               Żydzi świętują Rosh Hashasha czy coś\n28615             1  Śledczy spraw wewnętrznych rozczarowany spiski...\n28616             0  Najpiękniejsza przemowa akceptacyjna w tym tyg...\n28617             1  Mars zniszczony przez pałac kosmiczny na orbic...\n28618             1  Tata wyjaśnia, że to nie jest przerwa na jedzenie\n\n[28619 rows x 2 columns]",
      "text/html": "<div>\n<style scoped>\n    .dataframe tbody tr th:only-of-type {\n        vertical-align: middle;\n    }\n\n    .dataframe tbody tr th {\n        vertical-align: top;\n    }\n\n    .dataframe thead th {\n        text-align: right;\n    }\n</style>\n<table border=\"1\" class=\"dataframe\">\n  <thead>\n    <tr style=\"text-align: right;\">\n      <th></th>\n      <th>is_sarcastic</th>\n      <th>headline_pl</th>\n    </tr>\n  </thead>\n  <tbody>\n    <tr>\n      <th>0</th>\n      <td>1</td>\n      <td>Naukowcy z lat trzydziestych odkrywają zegar z...</td>\n    </tr>\n    <tr>\n      <th>1</th>\n      <td>0</td>\n      <td>Reprezentantka rządu USA wyjaśnia, dlaczego Ko...</td>\n    </tr>\n    <tr>\n      <th>2</th>\n      <td>0</td>\n      <td>Jedz warzywa: 9 pysznie różnych przepisów</td>\n    </tr>\n    <tr>\n      <th>3</th>\n      <td>1</td>\n      <td>Nieprzyjemna pogoda uniemożliwia kłamcy dotarc...</td>\n    </tr>\n    <tr>\n      <th>4</th>\n      <td>1</td>\n      <td>matka jest bardzo blisko użycia słowa \"streami...</td>\n    </tr>\n    <tr>\n      <th>...</th>\n      <td>...</td>\n      <td>...</td>\n    </tr>\n    <tr>\n      <th>28614</th>\n      <td>1</td>\n      <td>Żydzi świętują Rosh Hashasha czy coś</td>\n    </tr>\n    <tr>\n      <th>28615</th>\n      <td>1</td>\n      <td>Śledczy spraw wewnętrznych rozczarowany spiski...</td>\n    </tr>\n    <tr>\n      <th>28616</th>\n      <td>0</td>\n      <td>Najpiękniejsza przemowa akceptacyjna w tym tyg...</td>\n    </tr>\n    <tr>\n      <th>28617</th>\n      <td>1</td>\n      <td>Mars zniszczony przez pałac kosmiczny na orbic...</td>\n    </tr>\n    <tr>\n      <th>28618</th>\n      <td>1</td>\n      <td>Tata wyjaśnia, że to nie jest przerwa na jedzenie</td>\n    </tr>\n  </tbody>\n</table>\n<p>28619 rows × 2 columns</p>\n</div>"
     },
     "execution_count": 3,
     "metadata": {},
     "output_type": "execute_result"
    }
   ],
   "source": [
    "df = df.drop(columns=['article_link', 'headline'])\n",
    "df"
   ],
   "metadata": {
    "collapsed": false,
    "ExecuteTime": {
     "end_time": "2023-06-01T18:58:18.234623800Z",
     "start_time": "2023-06-01T18:58:18.212077300Z"
    }
   }
  },
  {
   "cell_type": "code",
   "execution_count": 4,
   "outputs": [
    {
     "data": {
      "text/plain": "<Figure size 640x480 with 1 Axes>",
      "image/png": "[encoded data removed]"
     },
     "metadata": {},
     "output_type": "display_data"
    }
   ],
   "source": [
    "data = df[\"is_sarcastic\"]\n",
    "data.value_counts().plot.bar()\n",
    "plt.show()"
   ],
   "metadata": {
    "collapsed": false,
    "ExecuteTime": {
     "end_time": "2023-06-01T18:58:18.370624Z",
     "start_time": "2023-06-01T18:58:18.228624300Z"
    }
   }
  },
  {
   "cell_type": "code",
   "execution_count": 5,
   "outputs": [
    {
     "data": {
      "text/plain": "Dataset({\n    features: ['is_sarcastic', 'headline_pl'],\n    num_rows: 28619\n})"
     },
     "execution_count": 5,
     "metadata": {},
     "output_type": "execute_result"
    }
   ],
   "source": [
    "from datasets import Dataset\n",
    "\n",
    "raw_dataset = Dataset.from_pandas(df).remove_columns(\"__index_level_0__\")\n",
    "raw_dataset"
   ],
   "metadata": {
    "collapsed": false,
    "ExecuteTime": {
     "end_time": "2023-06-01T18:58:18.889873Z",
     "start_time": "2023-06-01T18:58:18.353622700Z"
    }
   }
  },
  {
   "cell_type": "code",
   "execution_count": 6,
   "outputs": [],
   "source": [
    "from transformers import AutoTokenizer\n",
    "\n",
    "MAX_TOKENS = 128\n",
    "EOS_TOKEN = \"<|endoftext|>\"\n",
    "checkpoint = \"flax-community/papuGaPT2\"\n",
    "\n",
    "tokenizer = AutoTokenizer.from_pretrained(\n",
    "    checkpoint,\n",
    "    eos_token=EOS_TOKEN,\n",
    "    pad_token=EOS_TOKEN,\n",
    "    max_length=MAX_TOKENS,\n",
    "    is_split_into_words=True,\n",
    ")\n",
    "\n",
    "tokenizer.padding_side = \"left\""
   ],
   "metadata": {
    "collapsed": false,
    "ExecuteTime": {
     "end_time": "2023-06-01T18:58:19.571360500Z",
     "start_time": "2023-06-01T18:58:18.889873Z"
    }
   }
  },
  {
   "cell_type": "code",
   "execution_count": 7,
   "outputs": [],
   "source": [
    "def tokenize_function(examples):\n",
    "    examples = [ex + EOS_TOKEN for ex in examples['headline_pl']]\n",
    "\n",
    "    output = tokenizer(\n",
    "        examples,\n",
    "        add_special_tokens=True,\n",
    "        max_length=MAX_TOKENS,\n",
    "        truncation=True,\n",
    "        padding=True,\n",
    "    )\n",
    "\n",
    "    # truncate input ids and attention mask to account for label shift\n",
    "    output[\"input_ids\"] = [x[:-1] for x in output[\"input_ids\"]]\n",
    "    output[\"attention_mask\"] = [x[:-1] for x in output[\"attention_mask\"]]\n",
    "    return output"
   ],
   "metadata": {
    "collapsed": false,
    "ExecuteTime": {
     "end_time": "2023-06-01T18:58:19.588367300Z",
     "start_time": "2023-06-01T18:58:19.574362Z"
    }
   }
  },
  {
   "cell_type": "code",
   "execution_count": 8,
   "outputs": [
    {
     "data": {
      "text/plain": "Map:   0%|          | 0/28619 [00:00<?, ? examples/s]",
      "application/vnd.jupyter.widget-view+json": {
       "version_major": 2,
       "version_minor": 0,
       "model_id": "7d46e6121990494882633f8bf91b2e91"
      }
     },
     "metadata": {},
     "output_type": "display_data"
    }
   ],
   "source": [
    "tokenized_dataset = raw_dataset.map(tokenize_function, batched=True)"
   ],
   "metadata": {
    "collapsed": false,
    "ExecuteTime": {
     "end_time": "2023-06-01T18:58:20.566554800Z",
     "start_time": "2023-06-01T18:58:19.607372400Z"
    }
   }
  },
  {
   "cell_type": "code",
   "execution_count": 9,
   "outputs": [],
   "source": [
    "# Train set: 80%, Validation set: 10%, Test set: 10%\n",
    "tokenized_train_dataset, tokenized_val_dataset, tokenized_test_dataset = model_utils.split_train_val_test(\n",
    "    tokenized_dataset,\n",
    "    train_size=0.8,\n",
    "    test_size_of_val_test_batch=0.5)"
   ],
   "metadata": {
    "collapsed": false,
    "ExecuteTime": {
     "end_time": "2023-06-01T18:58:20.598553800Z",
     "start_time": "2023-06-01T18:58:20.567552500Z"
    }
   }
  },
  {
   "cell_type": "code",
   "execution_count": 10,
   "outputs": [
    {
     "name": "stderr",
     "output_type": "stream",
     "text": [
      "C:\\Users\\Karol\\anaconda3\\envs\\ml-tf2gpu\\lib\\site-packages\\datasets\\arrow_dataset.py:388: FutureWarning: The output of `to_tf_dataset` will change when a passing single element list for `labels` or `columns` in the next datasets version. To return a tuple structure rather than dict, pass a single string.\n",
      "Old behaviour: columns=['a'], labels=['labels'] -> (tf.Tensor, tf.Tensor)  \n",
      "             : columns='a', labels='labels' -> (tf.Tensor, tf.Tensor)  \n",
      "New behaviour: columns=['a'],labels=['labels'] -> ({'a': tf.Tensor}, {'labels': tf.Tensor})  \n",
      "             : columns='a', labels='labels' -> (tf.Tensor, tf.Tensor) \n",
      "  warnings.warn(\n",
      "You're using a GPT2TokenizerFast tokenizer. Please note that with a fast tokenizer, using the `__call__` method is faster than using a method to encode the text followed by a call to the `pad` method to get a padded encoding.\n"
     ]
    }
   ],
   "source": [
    "from transformers import DataCollatorWithPadding\n",
    "\n",
    "columns = [\"input_ids\", \"attention_mask\"]\n",
    "label_cols = [\"is_sarcastic\"]\n",
    "batch_size = 16\n",
    "data_collator = DataCollatorWithPadding(tokenizer=tokenizer, return_tensors=\"tf\")\n",
    "\n",
    "tf_train_dataset = model_utils.convert_to_tf_dataset(tokenized_train_dataset, columns, label_cols, data_collator,\n",
    "                                                     batch_size)\n",
    "tf_val_dataset = model_utils.convert_to_tf_dataset(tokenized_val_dataset, columns, label_cols, data_collator,\n",
    "                                                   batch_size)\n",
    "tf_test_dataset = model_utils.convert_to_tf_dataset(tokenized_test_dataset, columns, label_cols, data_collator,\n",
    "                                                    batch_size)"
   ],
   "metadata": {
    "collapsed": false,
    "ExecuteTime": {
     "end_time": "2023-06-01T18:58:22.418141600Z",
     "start_time": "2023-06-01T18:58:20.597554Z"
    }
   }
  },
  {
   "cell_type": "code",
   "execution_count": 11,
   "outputs": [],
   "source": [
    "# Model parameters\n",
    "training_number = 1\n",
    "model_name = \"sarcasm_pl_gpt2\"\n",
    "\n",
    "training_name = f\"training_{training_number}\"\n",
    "checkpoint_filename_template = \"cp-{epoch:04d}.ckpt\"\n",
    "checkpoints_dir = os.path.join(constants.TRAINING_CHECKPOINTS_PATH, model_name, training_name)\n",
    "figures_dir = f\"../../documentation/models/{model_name}/figures\"\n",
    "checkpoint_path = os.path.join(checkpoints_dir, checkpoint_filename_template)"
   ],
   "metadata": {
    "collapsed": false,
    "ExecuteTime": {
     "end_time": "2023-06-01T18:58:22.434142200Z",
     "start_time": "2023-06-01T18:58:22.419142600Z"
    }
   }
  },
  {
   "cell_type": "code",
   "execution_count": 12,
   "outputs": [],
   "source": [
    "# Callbacks\n",
    "checkpoint_cb = tf.keras.callbacks.ModelCheckpoint(checkpoint_path, verbose=1, save_weights_only=True)\n",
    "early_stop_cb = tf.keras.callbacks.EarlyStopping(patience=3)\n",
    "callbacks = [checkpoint_cb, early_stop_cb]"
   ],
   "metadata": {
    "collapsed": false,
    "ExecuteTime": {
     "end_time": "2023-06-01T18:58:22.797686900Z",
     "start_time": "2023-06-01T18:58:22.434142200Z"
    }
   }
  },
  {
   "cell_type": "code",
   "execution_count": 13,
   "outputs": [],
   "source": [
    "from tensorflow.keras.optimizers.schedules import PolynomialDecay\n",
    "from tensorflow.keras.optimizers import Adam\n",
    "\n",
    "num_epochs = 10\n",
    "num_train_steps = len(tf_train_dataset) * num_epochs\n",
    "lr_scheduler = PolynomialDecay(\n",
    "    initial_learning_rate=5e-5, end_learning_rate=0.0, decay_steps=num_train_steps\n",
    ")\n",
    "\n",
    "optimizer = Adam(learning_rate=lr_scheduler)"
   ],
   "metadata": {
    "collapsed": false,
    "ExecuteTime": {
     "end_time": "2023-06-01T18:58:22.812819700Z",
     "start_time": "2023-06-01T18:58:22.798687900Z"
    }
   }
  },
  {
   "cell_type": "code",
   "execution_count": 14,
   "outputs": [
    {
     "name": "stderr",
     "output_type": "stream",
     "text": [
      "Some weights of the PyTorch model were not used when initializing the TF 2.0 model TFGPT2ForSequenceClassification: ['transformer.h.10.attn.masked_bias', 'transformer.h.1.attn.masked_bias', 'transformer.h.5.attn.masked_bias', 'transformer.h.0.attn.masked_bias', 'lm_head.weight', 'transformer.h.6.attn.masked_bias', 'transformer.h.2.attn.masked_bias', 'transformer.h.4.attn.masked_bias', 'transformer.h.11.attn.masked_bias', 'transformer.h.3.attn.masked_bias', 'transformer.h.9.attn.masked_bias', 'transformer.h.8.attn.masked_bias', 'transformer.h.7.attn.masked_bias']\n",
      "- This IS expected if you are initializing TFGPT2ForSequenceClassification from a PyTorch model trained on another task or with another architecture (e.g. initializing a TFBertForSequenceClassification model from a BertForPreTraining model).\n",
      "- This IS NOT expected if you are initializing TFGPT2ForSequenceClassification from a PyTorch model that you expect to be exactly identical (e.g. initializing a TFBertForSequenceClassification model from a BertForSequenceClassification model).\n",
      "Some weights or buffers of the TF 2.0 model TFGPT2ForSequenceClassification were not initialized from the PyTorch model and are newly initialized: ['score.weight']\n",
      "You should probably TRAIN this model on a down-stream task to be able to use it for predictions and inference.\n"
     ]
    }
   ],
   "source": [
    "from transformers import TFAutoModelForSequenceClassification\n",
    "\n",
    "model = TFAutoModelForSequenceClassification.from_pretrained(checkpoint, pad_token_id=tokenizer.pad_token_id, eos_token_id=tokenizer.eos_token_id, use_cache=False, num_labels=2, from_pt=True)"
   ],
   "metadata": {
    "collapsed": false,
    "ExecuteTime": {
     "end_time": "2023-06-01T18:58:24.699866900Z",
     "start_time": "2023-06-01T18:58:22.814820900Z"
    }
   }
  },
  {
   "cell_type": "code",
   "execution_count": 15,
   "outputs": [
    {
     "name": "stdout",
     "output_type": "stream",
     "text": [
      "Model: \"tfgp_t2for_sequence_classification\"\n",
      "_________________________________________________________________\n",
      "Layer (type)                 Output Shape              Param #   \n",
      "=================================================================\n",
      "score (Dense)                multiple                  1536      \n",
      "_________________________________________________________________\n",
      "transformer (TFGPT2MainLayer multiple                  124439808 \n",
      "=================================================================\n",
      "Total params: 124,441,344\n",
      "Trainable params: 124,441,344\n",
      "Non-trainable params: 0\n",
      "_________________________________________________________________\n"
     ]
    }
   ],
   "source": [
    "model.summary()"
   ],
   "metadata": {
    "collapsed": false,
    "ExecuteTime": {
     "end_time": "2023-06-01T18:58:24.708866900Z",
     "start_time": "2023-06-01T18:58:24.671207Z"
    }
   }
  },
  {
   "cell_type": "code",
   "execution_count": 16,
   "outputs": [],
   "source": [
    "# Compile\n",
    "loss = tf.keras.losses.SparseCategoricalCrossentropy(from_logits=True)\n",
    "metrics = [\"accuracy\"]\n",
    "model.compile(optimizer=optimizer, loss=loss, metrics=metrics)"
   ],
   "metadata": {
    "collapsed": false,
    "ExecuteTime": {
     "end_time": "2023-06-01T18:58:24.708866900Z",
     "start_time": "2023-06-01T18:58:24.699866900Z"
    }
   }
  },
  {
   "cell_type": "code",
   "execution_count": 17,
   "outputs": [
    {
     "name": "stdout",
     "output_type": "stream",
     "text": [
      "Epoch 1/10\n",
      "1431/1431 [==============================] - 215s 143ms/step - loss: 0.4729 - accuracy: 0.7686 - val_loss: 0.4359 - val_accuracy: 0.7921\n",
      "\n",
      "Epoch 00001: saving model to ../../training_checkpoints\\sarcasm_pl_gpt2\\training_1\\cp-0001.ckpt\n",
      "Epoch 2/10\n",
      "1431/1431 [==============================] - 203s 142ms/step - loss: 0.2432 - accuracy: 0.8985 - val_loss: 0.4413 - val_accuracy: 0.8183\n",
      "\n",
      "Epoch 00002: saving model to ../../training_checkpoints\\sarcasm_pl_gpt2\\training_1\\cp-0002.ckpt\n",
      "Epoch 3/10\n",
      "1431/1431 [==============================] - 201s 140ms/step - loss: 0.0874 - accuracy: 0.9689 - val_loss: 0.6315 - val_accuracy: 0.8274\n",
      "\n",
      "Epoch 00003: saving model to ../../training_checkpoints\\sarcasm_pl_gpt2\\training_1\\cp-0003.ckpt\n",
      "Epoch 4/10\n",
      "1431/1431 [==============================] - 203s 142ms/step - loss: 0.0328 - accuracy: 0.9887 - val_loss: 0.7347 - val_accuracy: 0.8256\n",
      "\n",
      "Epoch 00004: saving model to ../../training_checkpoints\\sarcasm_pl_gpt2\\training_1\\cp-0004.ckpt\n"
     ]
    }
   ],
   "source": [
    "history = model.fit(tf_train_dataset, validation_data=tf_val_dataset, epochs=num_epochs,\n",
    "                    callbacks=[checkpoint_cb, early_stop_cb])"
   ],
   "metadata": {
    "collapsed": false,
    "ExecuteTime": {
     "end_time": "2023-06-01T19:12:16.967342400Z",
     "start_time": "2023-06-01T18:58:24.702868400Z"
    }
   }
  },
  {
   "cell_type": "code",
   "execution_count": 18,
   "outputs": [
    {
     "data": {
      "text/plain": "<Figure size 640x480 with 1 Axes>",
      "image/png": "[encoded data removed]"
     },
     "metadata": {},
     "output_type": "display_data"
    },
    {
     "data": {
      "text/plain": "<Figure size 640x480 with 1 Axes>",
      "image/png": "[encoded data removed]"
     },
     "metadata": {},
     "output_type": "display_data"
    }
   ],
   "source": [
    "model_utils.plot_and_save_fig_from_history(history,\n",
    "                                           attributes=['accuracy', 'val_accuracy'],\n",
    "                                           title='Model accuracy',\n",
    "                                           y_label='Accuracy',\n",
    "                                           x_label='Epoch',\n",
    "                                           legend_descriptors=['Train', 'Val'],\n",
    "                                           figure_dir_path=figures_dir,\n",
    "                                           figure_filename=f\"{training_name}_accuracy.png\")\n",
    "\n",
    "model_utils.plot_and_save_fig_from_history(history,\n",
    "                                           attributes=['loss', 'val_loss'],\n",
    "                                           title='Model loss',\n",
    "                                           y_label='Loss',\n",
    "                                           x_label='Epoch',\n",
    "                                           legend_descriptors=['Train', 'Val'],\n",
    "                                           figure_dir_path=figures_dir,\n",
    "                                           figure_filename=f\"{training_name}_loss.png\")"
   ],
   "metadata": {
    "collapsed": false,
    "ExecuteTime": {
     "end_time": "2023-06-01T19:12:17.267944100Z",
     "start_time": "2023-06-01T19:12:16.968340400Z"
    }
   }
  },
  {
   "cell_type": "code",
   "execution_count": 19,
   "outputs": [],
   "source": [
    "best_model = model_utils.get_best_model_from_checkpoints(model, history,\n",
    "                                                         checkpoints_dir=checkpoints_dir,\n",
    "                                                         checkpoint_filename_template=checkpoint_filename_template)"
   ],
   "metadata": {
    "collapsed": false,
    "ExecuteTime": {
     "end_time": "2023-06-01T19:12:20.199511600Z",
     "start_time": "2023-06-01T19:12:17.267944100Z"
    }
   }
  },
  {
   "cell_type": "code",
   "execution_count": 20,
   "outputs": [
    {
     "name": "stderr",
     "output_type": "stream",
     "text": [
      "WARNING:absl:Found untraced functions such as wte_layer_call_and_return_conditional_losses, wte_layer_call_fn, dropout_layer_call_and_return_conditional_losses, dropout_layer_call_fn, ln_f_layer_call_and_return_conditional_losses while saving (showing 5 of 735). These functions will not be directly callable after loading.\n"
     ]
    },
    {
     "name": "stdout",
     "output_type": "stream",
     "text": [
      "INFO:tensorflow:Assets written to: ../../trained_models\\sarcasm_pl_gpt2_1\\1\\assets\n"
     ]
    },
    {
     "name": "stderr",
     "output_type": "stream",
     "text": [
      "INFO:tensorflow:Assets written to: ../../trained_models\\sarcasm_pl_gpt2_1\\1\\assets\n"
     ]
    }
   ],
   "source": [
    "model_utils.save_model(best_model, model_name=model_name, training_number=training_number, saved_models_dir=constants.SAVED_MODEL_LOCATION, default_model_version=constants.DEFAULT_MODEL_VERSION)"
   ],
   "metadata": {
    "collapsed": false,
    "ExecuteTime": {
     "end_time": "2023-06-01T19:12:54.937492200Z",
     "start_time": "2023-06-01T19:12:20.200512100Z"
    }
   }
  },
  {
   "cell_type": "code",
   "execution_count": 21,
   "outputs": [
    {
     "name": "stdout",
     "output_type": "stream",
     "text": [
      "179/179 [==============================] - 9s 47ms/step - loss: 0.4110 - accuracy: 0.8071\n"
     ]
    },
    {
     "data": {
      "text/plain": "[0.4109562039375305, 0.8071278929710388]"
     },
     "execution_count": 21,
     "metadata": {},
     "output_type": "execute_result"
    }
   ],
   "source": [
    "# Evaluation\n",
    "best_model.evaluate(tf_test_dataset, batch_size=batch_size)"
   ],
   "metadata": {
    "collapsed": false,
    "ExecuteTime": {
     "end_time": "2023-06-01T19:13:03.713947800Z",
     "start_time": "2023-06-01T19:12:54.938491500Z"
    }
   }
  },
  {
   "cell_type": "code",
   "execution_count": 22,
   "outputs": [],
   "source": [
    "class_preds = model_utils.get_class_preds(model, tf_test_dataset)"
   ],
   "metadata": {
    "collapsed": false,
    "ExecuteTime": {
     "end_time": "2023-06-01T19:13:14.844900700Z",
     "start_time": "2023-06-01T19:13:03.714949600Z"
    }
   }
  },
  {
   "cell_type": "code",
   "execution_count": 23,
   "outputs": [
    {
     "name": "stdout",
     "output_type": "stream",
     "text": [
      "Precision score:  0.9125628140703518\n",
      "Recall score:  0.6613255644573925\n",
      "F1 score:  0.7668918918918919\n"
     ]
    }
   ],
   "source": [
    "precision, recall, f1 = model_utils.get_classification_evaluation_metrics(\n",
    "    class_actual=tokenized_test_dataset['is_sarcastic'],\n",
    "    class_preds=class_preds,\n",
    ")\n",
    "\n",
    "print(f\"Precision score: \", precision)\n",
    "print(f\"Recall score: \", recall)\n",
    "print(f\"F1 score: \", f1)"
   ],
   "metadata": {
    "collapsed": false,
    "ExecuteTime": {
     "end_time": "2023-06-01T19:13:14.905570Z",
     "start_time": "2023-06-01T19:13:14.845900Z"
    }
   }
  },
  {
   "cell_type": "code",
   "execution_count": 24,
   "outputs": [
    {
     "data": {
      "text/plain": "<Figure size 640x480 with 2 Axes>",
      "image/png": "[encoded data removed]"
     },
     "metadata": {},
     "output_type": "display_data"
    }
   ],
   "source": [
    "model_utils.plot_and_save_conf_matrix(class_actual=tokenized_test_dataset['is_sarcastic'],\n",
    "                                      class_preds=class_preds,\n",
    "                                      figure_dir_path=figures_dir,\n",
    "                                      figure_filename=f\"{training_name}_confmatrix.png\")"
   ],
   "metadata": {
    "collapsed": false,
    "ExecuteTime": {
     "end_time": "2023-06-01T19:13:15.033481100Z",
     "start_time": "2023-06-01T19:13:14.876574300Z"
    }
   }
  },
  {
   "cell_type": "code",
   "execution_count": 25,
   "outputs": [
    {
     "name": "stdout",
     "output_type": "stream",
     "text": [
      "\n",
      "            BAD PREDICTION:\n",
      "            - INDEX: 2\n",
      "            - TEXT: Jedz warzywa: 9 pysznie różnych przepisów\n",
      "            - PREDICTED VALUE: 1\n",
      "            - CORRECT VALUE: 0\n",
      "            \n",
      "\n",
      "            BAD PREDICTION:\n",
      "            - INDEX: 4\n",
      "            - TEXT: matka jest bardzo blisko użycia słowa \"streaming\" poprawnie\n",
      "            - PREDICTED VALUE: 0\n",
      "            - CORRECT VALUE: 1\n",
      "            \n",
      "\n",
      "            BAD PREDICTION:\n",
      "            - INDEX: 7\n",
      "            - TEXT: Darowizna Richarda Brandona na ocieplenie świata prawie tyle samo, co koszt nieudanych lotów balonem\n",
      "            - PREDICTED VALUE: 0\n",
      "            - CORRECT VALUE: 1\n",
      "            \n",
      "\n",
      "            BAD PREDICTION:\n",
      "            - INDEX: 9\n",
      "            - TEXT: Wielu rodziców zna ten scenariusz.\n",
      "            - PREDICTED VALUE: 1\n",
      "            - CORRECT VALUE: 0\n",
      "            \n",
      "\n",
      "            BAD PREDICTION:\n",
      "            - INDEX: 10\n",
      "            - TEXT: Ta lesbijka jest uważana za ojca w Indiach (i niesamowita w tym)\n",
      "            - PREDICTED VALUE: 1\n",
      "            - CORRECT VALUE: 0\n",
      "            \n",
      "\n",
      "            BAD PREDICTION:\n",
      "            - INDEX: 14\n",
      "            - TEXT: Ford stworzył nowy SUV, który będzie działał wyłącznie na benzynie\n",
      "            - PREDICTED VALUE: 0\n",
      "            - CORRECT VALUE: 1\n",
      "            \n",
      "\n",
      "            BAD PREDICTION:\n",
      "            - INDEX: 16\n",
      "            - TEXT: chłopiec z obszaru wchodzi w fazę skakania i dotykania szczytów drzwi\n",
      "            - PREDICTED VALUE: 0\n",
      "            - CORRECT VALUE: 1\n",
      "            \n",
      "\n",
      "            BAD PREDICTION:\n",
      "            - INDEX: 18\n",
      "            - TEXT: Nie pozostawiaj osoby niepełnosprawnej w tyle\n",
      "            - PREDICTED VALUE: 1\n",
      "            - CORRECT VALUE: 0\n",
      "            \n",
      "\n",
      "            BAD PREDICTION:\n",
      "            - INDEX: 19\n",
      "            - TEXT: Lin-Manuel Miranda chciałby przypomnieć ci, żebyś odłożył telefon.\n",
      "            - PREDICTED VALUE: 1\n",
      "            - CORRECT VALUE: 0\n",
      "            \n",
      "\n",
      "            BAD PREDICTION:\n",
      "            - INDEX: 20\n",
      "            - TEXT: 60 dziennikarzy zabitych w 2014 roku w wyniku ataków na międzynarodową prasę\n",
      "            - PREDICTED VALUE: 1\n",
      "            - CORRECT VALUE: 0\n",
      "            \n"
     ]
    }
   ],
   "source": [
    "model_utils.print_incorrectly_predicted_texts(texts=raw_dataset['headline_pl'],\n",
    "                                              class_actual=raw_dataset['is_sarcastic'],\n",
    "                                              class_preds=class_preds)"
   ],
   "metadata": {
    "collapsed": false,
    "ExecuteTime": {
     "end_time": "2023-06-01T19:13:15.086478500Z",
     "start_time": "2023-06-01T19:13:15.058479300Z"
    }
   }
  },
  {
   "cell_type": "code",
   "execution_count": 25,
   "outputs": [],
   "source": [],
   "metadata": {
    "collapsed": false,
    "ExecuteTime": {
     "end_time": "2023-06-01T19:13:15.094489600Z",
     "start_time": "2023-06-01T19:13:15.080482800Z"
    }
   }
  }
 ],
 "metadata": {
  "kernelspec": {
   "display_name": "Python 3",
   "language": "python",
   "name": "python3"
  },
  "language_info": {
   "codemirror_mode": {
    "name": "ipython",
    "version": 2
   },
   "file_extension": ".py",
   "mimetype": "text/x-python",
   "name": "python",
   "nbconvert_exporter": "python",
   "pygments_lexer": "ipython2",
   "version": "2.7.6"
  }
 },
 "nbformat": 4,
 "nbformat_minor": 0
}
