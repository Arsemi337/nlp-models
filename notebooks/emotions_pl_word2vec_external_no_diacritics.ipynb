{
 "cells": [
  {
   "cell_type": "code",
   "execution_count": 1,
   "metadata": {
    "ExecuteTime": {
     "end_time": "2023-06-17T07:54:02.074304500Z",
     "start_time": "2023-06-17T07:53:57.741712800Z"
    }
   },
   "outputs": [],
   "source": [
    "import numpy as np\n",
    "import tensorflow as tf\n",
    "import string\n",
    "import pandas as pd\n",
    "from gensim.models import KeyedVectors\n",
    "import spacy\n",
    "from unidecode import unidecode\n",
    "import model_utils\n",
    "import constants\n",
    "import os"
   ]
  },
  {
   "cell_type": "code",
   "execution_count": 2,
   "metadata": {
    "ExecuteTime": {
     "end_time": "2023-06-17T07:54:15.162433700Z",
     "start_time": "2023-06-17T07:54:02.077054600Z"
    }
   },
   "outputs": [],
   "source": [
    "word2vec = KeyedVectors.load(\"./../word2vec/word2vec_100_3_polish.bin\")"
   ]
  },
  {
   "cell_type": "code",
   "execution_count": 3,
   "metadata": {
    "ExecuteTime": {
     "end_time": "2023-06-17T07:54:15.178507900Z",
     "start_time": "2023-06-17T07:54:15.163434700Z"
    }
   },
   "outputs": [],
   "source": [
    "def tokens_to_vector(sentence):\n",
    "    vector_size = word2vec.vector_size\n",
    "    wv_res = np.zeros(vector_size)\n",
    "    ctr = 1\n",
    "    for w in sentence:\n",
    "        if w in word2vec:\n",
    "            ctr += 1\n",
    "            wv_res += word2vec[w]\n",
    "    wv_res = wv_res/ctr\n",
    "    return wv_res"
   ]
  },
  {
   "cell_type": "code",
   "execution_count": 4,
   "metadata": {},
   "outputs": [],
   "source": [
    "spacy_model = spacy.load(\"pl_core_news_sm\")"
   ]
  },
  {
   "cell_type": "code",
   "execution_count": 5,
   "metadata": {},
   "outputs": [
    {
     "name": "stdout",
     "output_type": "stream",
     "text": [
      "{'cos', 'cała', 'twoje', 'niego', 'moim', 'przeciez', 'jaki', 'można', 'aż', 'gdy', 'ktorych', 'teraz', 'mogą', 'iz', 'im', 'o', 'czemu', 'dziś', 'którym', 'ktore', 'jeden', 'powinno', 'której', 'ktorym', 'bym', 'mało', 'ktos', 'nasi', 'twym', 'niemu', 'nic', 'pod', 'zaś', 'było', 'kazdy', 'sposob', 'chce', 'pana', 'dosc', 'z', 'kiedy', 'tys', 'bo', 'cały', 'gdzie', 'żadna', 'jakichś', 'dokad', 'byla', 'moga', 'az', 'nasze', 'których', 'natomiast', 'tak', 'swoje', 'one', 'być', 'ponad', 'nim', 'oni', 'przede', 'was', 'jesli', 'wtedy', 'toba', 'był', 'bowiem', 'sobie', 'do', 'bede', 'jakis', 'oraz', 'cali', 'ktora', 'ktorej', 'były', 'byli', 'jakkolwiek', 'mam', 'vi', 'jakiś', 'inny', 'lub', 'duzo', 'przecież', 'wy', 'miał', 'miedzy', 'niż', 'sobą', 'xiv', 'więc', 'beda', 'która', 'nad', 'tylko', 'tego', 'moj', 'ponieważ', 'inna', 'jedynie', 'bedzie', 'ja', 'cię', 'zadnych', 'nią', 'będą', 'co', 'razie', 'gdzies', 'skad', 'które', 'żeby', 'ale', 'na', 'zadne', 'zapewne', 'w', 'jest', 'kilka', 'taki', 'mozliwe', 'oto', 'kilku', 'vii', 'coraz', 'wasze', 'kierunku', 'moze', 'ze', 'według', 'tel', 'nasz', 'gdyby', 'jestem', 'to', 'kims', 'xiii', 'natychmiast', 'czasem', 'bynajmniej', 'we', 'cokolwiek', 'rowniez', 'aczkolwiek', 'powinna', 'też', 'wielu', 'ktoś', 'pan', 'tobie', 'znowu', 'owszem', 'roku', 'ci', 'dlaczego', 'ależ', 'jakoś', 'dwaj', 'jakaś', 'jezeli', 'ją', 'jeżeli', 'którego', 'przed', 'jednakze', 'wszystkim', 'dwoje', 'takze', 'od', 'po', 'moje', 'tej', 'zeby', 'może', 'nawet', 'będę', 'zaden', 'ile', 'między', 'powinien', 'viii', 'nimi', 'sposób', 'musi', 'te', 'xi', 'a', 'ten', 'poza', 'zawsze', 'jakie', 'niech', 'taka', 'sam', 'ona', 'tym', 'nami', 'wiele', 'mój', 'ono', 'raz', 'totez', 'żaden', 'przy', 'wszystko', 'takich', 'ku', 'tutaj', 'takie', 'pani', 'również', 'on', 'dobrze', 'dwa', 'wszystkie', 'albo', 'mnie', 'nia', 'tu', 'mimo', 'i', 'bylo', 'niej', 'moja', 'ix', 'przez', 'by', 'innych', 'nigdy', 'gdyż', 'wami', 'często', 'ta', 'więcej', 'mu', 'właśnie', 'wszystkich', 'już', 'tych', 'wam', 'wie', 'twoim', 'acz', 'ktorzy', 'ich', 'trzeba', 'ani', 'byc', 'toteż', 'jakos', 'mną', 'jakas', 'możliwe', 'wasza', 'byly', 'nam', 'my', 'czy', 'przedtem', 'skąd', 'godz', 'twoi', 'mna', 'byl', 'jakichs', 'inne', 'sama', 'ktory', 'tam', 'jeśli', 'tzw', 'czyli', 'wlasnie', 'około', 'soba', 'żadne', 'czasami', 'cie', 'dużo', 'dwie', 'jako', 'dokąd', 'bez', 'no', 'znów', 'gdzieś', 'jakiz', 'cala', 'wasi', 'jednym', 'była', 'tę', 'moi', 'dzisiaj', 'który', 'którzy', 'bardzo', 'choć', 'go', 'naszego', 'u', 'gdziekolwiek', 'ach', 'zadna', 'bardziej', 'wszyscy', 'ty', 'mozna', 'wasz', 'aby', 'alez', 'nasza', 'ma', 'mamy', 'caly', 'podczas', 'wśród', 'jedna', 'tobą', 'twoja', 'znow', 'dlatego', 'są', 'temu', 'daleko', 'mi', 'dość', 'zostal', 'nas', 'za', 'je', 'pomimo', 'xv', 'lecz', 'jego', 'coś', 'kimś', 'xii', 'iż', 'został', 'ktokolwiek', 'twoj', 'poniewaz', 'dla', 'totobą', 'jednak', 'juz', 'jeszcze', 'nich', 'jedno', 'ok', 'jej', 'naszych', 'każdy', 'powinni', 'obok', 'się', 'jakiż', 'jak', 'że', 'ktorego', 'także', 'gdyz', 'kto', 'twój', 'jemu', 'aj', 'iv', 'mają', 'żadnych', 'jednakże', 'niz', 'jakby', 'sie', 'dzis', 'będzie', 'ciebie', 'prawie'}\n"
     ]
    }
   ],
   "source": [
    "# Stop words\n",
    "stop_words = spacy_model.Defaults.stop_words.copy()\n",
    "stop_words.remove(\"nie\")\n",
    "print(stop_words)"
   ]
  },
  {
   "cell_type": "code",
   "execution_count": 6,
   "metadata": {},
   "outputs": [
    {
     "data": {
      "text/plain": [
       "380"
      ]
     },
     "execution_count": 6,
     "metadata": {},
     "output_type": "execute_result"
    }
   ],
   "source": [
    "len(stop_words)"
   ]
  },
  {
   "cell_type": "code",
   "execution_count": 7,
   "metadata": {},
   "outputs": [
    {
     "name": "stdout",
     "output_type": "stream",
     "text": [
      "!\"#$%&'()*+,-./:;<=>?@[\\]^_`{|}~\n"
     ]
    }
   ],
   "source": [
    "punctuations = string.punctuation\n",
    "print(punctuations)"
   ]
  },
  {
   "cell_type": "code",
   "execution_count": 8,
   "metadata": {},
   "outputs": [],
   "source": [
    "# Tokenizer\n",
    "def spacy_tokenizer(sentence):\n",
    "    doc = spacy_model(sentence)\n",
    "\n",
    "    # Lemmatizing each token and converting each token into lowercase\n",
    "    mytokens = [ word.lemma_.lower().strip() for word in doc ]\n",
    "\n",
    "    # Removing stop words and punctuation\n",
    "    mytokens = [ word for word in mytokens if word not in stop_words and word not in punctuations ]\n",
    "\n",
    "    # return preprocessed list of tokens\n",
    "    return mytokens"
   ]
  },
  {
   "cell_type": "code",
   "execution_count": 9,
   "metadata": {},
   "outputs": [
    {
     "data": {
      "text/html": [
       "<div>\n",
       "<style scoped>\n",
       "    .dataframe tbody tr th:only-of-type {\n",
       "        vertical-align: middle;\n",
       "    }\n",
       "\n",
       "    .dataframe tbody tr th {\n",
       "        vertical-align: top;\n",
       "    }\n",
       "\n",
       "    .dataframe thead th {\n",
       "        text-align: right;\n",
       "    }\n",
       "</style>\n",
       "<table border=\"1\" class=\"dataframe\">\n",
       "  <thead>\n",
       "    <tr style=\"text-align: right;\">\n",
       "      <th></th>\n",
       "      <th>emotions</th>\n",
       "      <th>text_pl</th>\n",
       "    </tr>\n",
       "  </thead>\n",
       "  <tbody>\n",
       "    <tr>\n",
       "      <th>0</th>\n",
       "      <td>anger</td>\n",
       "      <td>Czuję się całkowicie chciwy</td>\n",
       "    </tr>\n",
       "    <tr>\n",
       "      <th>1</th>\n",
       "      <td>fear</td>\n",
       "      <td>Czuję się tak przytłoczony emocjami</td>\n",
       "    </tr>\n",
       "    <tr>\n",
       "      <th>2</th>\n",
       "      <td>surprise</td>\n",
       "      <td>Nie czułem efektu siły g Jestem oszołomiony Po...</td>\n",
       "    </tr>\n",
       "    <tr>\n",
       "      <th>3</th>\n",
       "      <td>anger</td>\n",
       "      <td>ive just got to tell you all that I feel Racze...</td>\n",
       "    </tr>\n",
       "    <tr>\n",
       "      <th>4</th>\n",
       "      <td>anger</td>\n",
       "      <td>Powiedziałem ci, że przepraszam, że czujesz si...</td>\n",
       "    </tr>\n",
       "    <tr>\n",
       "      <th>...</th>\n",
       "      <td>...</td>\n",
       "      <td>...</td>\n",
       "    </tr>\n",
       "    <tr>\n",
       "      <th>39995</th>\n",
       "      <td>joy</td>\n",
       "      <td>czuję się ostatnio dość hojny, ponieważ pracuj...</td>\n",
       "    </tr>\n",
       "    <tr>\n",
       "      <th>39996</th>\n",
       "      <td>love</td>\n",
       "      <td>Czuję, że niektóre postacie nie zasługują na w...</td>\n",
       "    </tr>\n",
       "    <tr>\n",
       "      <th>39997</th>\n",
       "      <td>fear</td>\n",
       "      <td>Czuję strach w moich kościach, którego nie moż...</td>\n",
       "    </tr>\n",
       "    <tr>\n",
       "      <th>39998</th>\n",
       "      <td>joy</td>\n",
       "      <td>Czułem się bardziej kreatywny i mniej jak czys...</td>\n",
       "    </tr>\n",
       "    <tr>\n",
       "      <th>39999</th>\n",
       "      <td>sadness</td>\n",
       "      <td>Czuję się zdruzgotany i pomagam Hellipowi</td>\n",
       "    </tr>\n",
       "  </tbody>\n",
       "</table>\n",
       "<p>40000 rows × 2 columns</p>\n",
       "</div>"
      ],
      "text/plain": [
       "       emotions                                            text_pl\n",
       "0         anger                        Czuję się całkowicie chciwy\n",
       "1          fear                Czuję się tak przytłoczony emocjami\n",
       "2      surprise  Nie czułem efektu siły g Jestem oszołomiony Po...\n",
       "3         anger  ive just got to tell you all that I feel Racze...\n",
       "4         anger  Powiedziałem ci, że przepraszam, że czujesz si...\n",
       "...         ...                                                ...\n",
       "39995       joy  czuję się ostatnio dość hojny, ponieważ pracuj...\n",
       "39996      love  Czuję, że niektóre postacie nie zasługują na w...\n",
       "39997      fear  Czuję strach w moich kościach, którego nie moż...\n",
       "39998       joy  Czułem się bardziej kreatywny i mniej jak czys...\n",
       "39999   sadness          Czuję się zdruzgotany i pomagam Hellipowi\n",
       "\n",
       "[40000 rows x 2 columns]"
      ]
     },
     "execution_count": 9,
     "metadata": {},
     "output_type": "execute_result"
    }
   ],
   "source": [
    "df = pd.read_json('../../data/translated/emotions/equalized_emotions_dataset_pl.json')\n",
    "df = df.drop(columns=['text'])\n",
    "df"
   ]
  },
  {
   "cell_type": "code",
   "execution_count": 11,
   "metadata": {},
   "outputs": [],
   "source": [
    "df['text_pl'] = df['text_pl'].apply(unidecode)"
   ]
  },
  {
   "cell_type": "code",
   "execution_count": 12,
   "metadata": {},
   "outputs": [],
   "source": [
    "df['tokens'] = df['text_pl'].apply(spacy_tokenizer)\n",
    "df.to_json(r'./utils/tokenized_dataset_no_diacritics.json')"
   ]
  },
  {
   "cell_type": "code",
   "execution_count": 14,
   "metadata": {
    "ExecuteTime": {
     "end_time": "2023-06-17T07:54:15.378808Z",
     "start_time": "2023-06-17T07:54:15.180506800Z"
    }
   },
   "outputs": [],
   "source": [
    "tokenized_sentences_df = pd.read_json('./utils/tokenized_dataset_no_diacritics.json')"
   ]
  },
  {
   "cell_type": "code",
   "execution_count": 15,
   "metadata": {},
   "outputs": [],
   "source": [
    "ordered_class_labels = {\n",
    "    \"joy\": 0,\n",
    "    \"love\": 1,\n",
    "    \"surprise\": 2,\n",
    "    \"sadness\": 3,\n",
    "    \"anger\": 4,\n",
    "    \"fear\": 5,\n",
    "}"
   ]
  },
  {
   "cell_type": "code",
   "execution_count": 20,
   "metadata": {},
   "outputs": [],
   "source": [
    "tokenized_sentences_df = tokenized_sentences_df.replace({\"emotions\": ordered_class_labels})"
   ]
  },
  {
   "cell_type": "code",
   "execution_count": 21,
   "metadata": {},
   "outputs": [],
   "source": [
    "tokenized_sentences = tokenized_sentences_df['tokens'].values.tolist()\n",
    "emotions_labels = tokenized_sentences_df['emotions'].values.tolist()"
   ]
  },
  {
   "cell_type": "code",
   "execution_count": 22,
   "metadata": {
    "ExecuteTime": {
     "end_time": "2023-06-17T07:54:15.892768500Z",
     "start_time": "2023-06-17T07:54:15.381805Z"
    }
   },
   "outputs": [],
   "source": [
    "vectors = [tokens_to_vector(tokenized_sentence) for tokenized_sentence in tokenized_sentences]"
   ]
  },
  {
   "cell_type": "code",
   "execution_count": 23,
   "metadata": {
    "ExecuteTime": {
     "end_time": "2023-06-17T07:54:15.921313300Z",
     "start_time": "2023-06-17T07:54:15.884253500Z"
    }
   },
   "outputs": [],
   "source": [
    "X = np.array(vectors)\n",
    "Y = np.array(emotions_labels)"
   ]
  },
  {
   "cell_type": "code",
   "execution_count": 24,
   "metadata": {
    "ExecuteTime": {
     "end_time": "2023-06-17T07:54:15.967854100Z",
     "start_time": "2023-06-17T07:54:15.915306900Z"
    }
   },
   "outputs": [],
   "source": [
    "from sklearn.model_selection import train_test_split\n",
    "\n",
    "X_train, X_test, Y_train, Y_test = train_test_split(X, Y, train_size=0.8, random_state=42)\n",
    "X_val, X_test, Y_val, Y_test = train_test_split(X_test, Y_test, train_size=0.5, random_state=42)"
   ]
  },
  {
   "cell_type": "code",
   "execution_count": 25,
   "metadata": {
    "ExecuteTime": {
     "end_time": "2023-06-17T07:54:28.233627400Z",
     "start_time": "2023-06-17T07:54:15.962345900Z"
    }
   },
   "outputs": [],
   "source": [
    "model=tf.keras.models.Sequential()\n",
    "model.add(tf.keras.layers.Dense(512, activation='relu'))\n",
    "model.add(tf.keras.layers.Dense(256, activation='relu'))\n",
    "model.add(tf.keras.layers.Dense(128, activation='relu'))\n",
    "model.add(tf.keras.layers.Dense(64, activation='relu'))\n",
    "model.add(tf.keras.layers.Dense(32, activation='relu'))\n",
    "model.add(tf.keras.layers.Dense(16, activation='relu'))\n",
    "model.add(tf.keras.layers.Dense(6, activation='sigmoid'))"
   ]
  },
  {
   "cell_type": "code",
   "execution_count": 26,
   "metadata": {
    "ExecuteTime": {
     "end_time": "2023-06-17T07:54:28.351380800Z",
     "start_time": "2023-06-17T07:54:28.242151500Z"
    }
   },
   "outputs": [],
   "source": [
    "model.compile(optimizer=\"adam\", loss=tf.keras.losses.SparseCategoricalCrossentropy(), metrics=[\"accuracy\"])"
   ]
  },
  {
   "cell_type": "code",
   "execution_count": 27,
   "metadata": {
    "ExecuteTime": {
     "end_time": "2023-06-17T07:54:28.365607Z",
     "start_time": "2023-06-17T07:54:28.354380400Z"
    }
   },
   "outputs": [],
   "source": [
    "# Model parameters\n",
    "training_number = 1\n",
    "model_name = 'emotions_pl_word2vec_external_no_diacritics'\n",
    "training_name = model_name\n",
    "figures_dir = f\"../../documentation/models/{model_name}/figures\"\n",
    "checkpoint_filename_template = \"cp-{epoch:04d}.ckpt\"\n",
    "checkpoints_dir = os.path.join(constants.TRAINING_CHECKPOINTS_PATH, model_name, training_name)\n",
    "checkpoint_path = os.path.join(checkpoints_dir, checkpoint_filename_template)\n",
    "batch_size = 32"
   ]
  },
  {
   "cell_type": "code",
   "execution_count": 28,
   "metadata": {
    "ExecuteTime": {
     "end_time": "2023-06-17T07:54:28.386654400Z",
     "start_time": "2023-06-17T07:54:28.368117500Z"
    }
   },
   "outputs": [],
   "source": [
    "# Callbacks\n",
    "checkpoint_cb = tf.keras.callbacks.ModelCheckpoint(checkpoint_path, verbose=1, save_weights_only=True)\n",
    "early_stop_cb = tf.keras.callbacks.EarlyStopping(patience=3)\n",
    "callbacks = [checkpoint_cb, early_stop_cb]"
   ]
  },
  {
   "cell_type": "code",
   "execution_count": 29,
   "metadata": {
    "ExecuteTime": {
     "end_time": "2023-06-17T07:54:44.472788800Z",
     "start_time": "2023-06-17T07:54:28.383140800Z"
    }
   },
   "outputs": [
    {
     "name": "stdout",
     "output_type": "stream",
     "text": [
      "Epoch 1/20\n",
      " 984/1000 [============================>.] - ETA: 0s - loss: 1.5698 - accuracy: 0.3589\n",
      "Epoch 1: saving model to ../../training_checkpoints\\emotions_pl_word2vec_external_no_diacritics\\emotions_pl_word2vec_external_no_diacritics\\cp-0001.ckpt\n",
      "1000/1000 [==============================] - 4s 4ms/step - loss: 1.5685 - accuracy: 0.3598 - val_loss: 1.4653 - val_accuracy: 0.4117\n",
      "Epoch 2/20\n",
      " 989/1000 [============================>.] - ETA: 0s - loss: 1.4369 - accuracy: 0.4347\n",
      "Epoch 2: saving model to ../../training_checkpoints\\emotions_pl_word2vec_external_no_diacritics\\emotions_pl_word2vec_external_no_diacritics\\cp-0002.ckpt\n",
      "1000/1000 [==============================] - 3s 3ms/step - loss: 1.4366 - accuracy: 0.4348 - val_loss: 1.4302 - val_accuracy: 0.4350\n",
      "Epoch 3/20\n",
      " 985/1000 [============================>.] - ETA: 0s - loss: 1.3751 - accuracy: 0.4639\n",
      "Epoch 3: saving model to ../../training_checkpoints\\emotions_pl_word2vec_external_no_diacritics\\emotions_pl_word2vec_external_no_diacritics\\cp-0003.ckpt\n",
      "1000/1000 [==============================] - 3s 3ms/step - loss: 1.3752 - accuracy: 0.4639 - val_loss: 1.4259 - val_accuracy: 0.4423\n",
      "Epoch 4/20\n",
      " 990/1000 [============================>.] - ETA: 0s - loss: 1.3196 - accuracy: 0.4863\n",
      "Epoch 4: saving model to ../../training_checkpoints\\emotions_pl_word2vec_external_no_diacritics\\emotions_pl_word2vec_external_no_diacritics\\cp-0004.ckpt\n",
      "1000/1000 [==============================] - 3s 3ms/step - loss: 1.3201 - accuracy: 0.4860 - val_loss: 1.4187 - val_accuracy: 0.4383\n",
      "Epoch 5/20\n",
      " 986/1000 [============================>.] - ETA: 0s - loss: 1.2686 - accuracy: 0.5068\n",
      "Epoch 5: saving model to ../../training_checkpoints\\emotions_pl_word2vec_external_no_diacritics\\emotions_pl_word2vec_external_no_diacritics\\cp-0005.ckpt\n",
      "1000/1000 [==============================] - 3s 3ms/step - loss: 1.2692 - accuracy: 0.5066 - val_loss: 1.4099 - val_accuracy: 0.4493\n",
      "Epoch 6/20\n",
      " 999/1000 [============================>.] - ETA: 0s - loss: 1.2119 - accuracy: 0.5329\n",
      "Epoch 6: saving model to ../../training_checkpoints\\emotions_pl_word2vec_external_no_diacritics\\emotions_pl_word2vec_external_no_diacritics\\cp-0006.ckpt\n",
      "1000/1000 [==============================] - 3s 3ms/step - loss: 1.2120 - accuracy: 0.5329 - val_loss: 1.4331 - val_accuracy: 0.4433\n",
      "Epoch 7/20\n",
      " 990/1000 [============================>.] - ETA: 0s - loss: 1.1535 - accuracy: 0.5570\n",
      "Epoch 7: saving model to ../../training_checkpoints\\emotions_pl_word2vec_external_no_diacritics\\emotions_pl_word2vec_external_no_diacritics\\cp-0007.ckpt\n",
      "1000/1000 [==============================] - 3s 3ms/step - loss: 1.1537 - accuracy: 0.5570 - val_loss: 1.4666 - val_accuracy: 0.4333\n",
      "Epoch 8/20\n",
      " 987/1000 [============================>.] - ETA: 0s - loss: 1.0903 - accuracy: 0.5831\n",
      "Epoch 8: saving model to ../../training_checkpoints\\emotions_pl_word2vec_external_no_diacritics\\emotions_pl_word2vec_external_no_diacritics\\cp-0008.ckpt\n",
      "1000/1000 [==============================] - 3s 3ms/step - loss: 1.0903 - accuracy: 0.5835 - val_loss: 1.4885 - val_accuracy: 0.4322\n"
     ]
    }
   ],
   "source": [
    "history = model.fit(x=X_train, y=Y_train, validation_data=(X_val, Y_val), epochs=20, batch_size=batch_size, callbacks=[checkpoint_cb, early_stop_cb])"
   ]
  },
  {
   "cell_type": "code",
   "execution_count": 30,
   "metadata": {
    "ExecuteTime": {
     "end_time": "2023-06-17T07:54:45.247280300Z",
     "start_time": "2023-06-17T07:54:44.477305600Z"
    }
   },
   "outputs": [
    {
     "data": {
      "image/png": "[encoded data removed]",
      "text/plain": [
       "<Figure size 640x480 with 1 Axes>"
      ]
     },
     "metadata": {},
     "output_type": "display_data"
    },
    {
     "data": {
      "image/png": "[encoded data removed]",
      "text/plain": [
       "<Figure size 640x480 with 1 Axes>"
      ]
     },
     "metadata": {},
     "output_type": "display_data"
    }
   ],
   "source": [
    "model_utils.plot_and_save_fig_from_history(history,\n",
    "                                           attributes=['accuracy', 'val_accuracy'],\n",
    "                                           title='Model accuracy',\n",
    "                                           y_label='Accuracy',\n",
    "                                           x_label='Epoch',\n",
    "                                           legend_descriptors=['Train', 'Val'],\n",
    "                                           figure_dir_path=figures_dir,\n",
    "                                           figure_filename=f\"{training_name}_accuracy.png\")\n",
    "\n",
    "model_utils.plot_and_save_fig_from_history(history,\n",
    "                                           attributes=['loss', 'val_loss'],\n",
    "                                           title='Model loss',\n",
    "                                           y_label='Loss',\n",
    "                                           x_label='Epoch',\n",
    "                                           legend_descriptors=['Train', 'Val'],\n",
    "                                           figure_dir_path=figures_dir,\n",
    "                                           figure_filename=f\"{training_name}_loss.png\")"
   ]
  },
  {
   "cell_type": "code",
   "execution_count": 31,
   "metadata": {
    "ExecuteTime": {
     "end_time": "2023-06-17T07:54:45.873299500Z",
     "start_time": "2023-06-17T07:54:45.250279800Z"
    }
   },
   "outputs": [],
   "source": [
    "best_model = model_utils.get_best_model_from_checkpoints(model, history,\n",
    "                                                         checkpoints_dir=checkpoints_dir,\n",
    "                                                         checkpoint_filename_template=checkpoint_filename_template)"
   ]
  },
  {
   "cell_type": "code",
   "execution_count": 32,
   "metadata": {
    "ExecuteTime": {
     "end_time": "2023-06-17T07:54:46.215857700Z",
     "start_time": "2023-06-17T07:54:45.875300Z"
    }
   },
   "outputs": [
    {
     "name": "stdout",
     "output_type": "stream",
     "text": [
      "125/125 [==============================] - 0s 1ms/step\n"
     ]
    },
    {
     "data": {
      "image/png": "[encoded data removed]",
      "text/plain": [
       "<Figure size 640x480 with 2 Axes>"
      ]
     },
     "metadata": {},
     "output_type": "display_data"
    }
   ],
   "source": [
    "class_preds = model_utils.get_class_preds(best_model, X_test, model_returns_logits=False)\n",
    "model_utils. plot_and_save_conf_matrix(class_actual=Y_test,\n",
    "                                      class_preds=class_preds,\n",
    "                                      figure_dir_path=figures_dir,\n",
    "                                      figure_filename=f\"{training_name}_confmatrix.png\")"
   ]
  },
  {
   "cell_type": "code",
   "execution_count": 33,
   "metadata": {
    "ExecuteTime": {
     "end_time": "2023-06-17T07:54:46.463667100Z",
     "start_time": "2023-06-17T07:54:46.216862900Z"
    }
   },
   "outputs": [
    {
     "name": "stdout",
     "output_type": "stream",
     "text": [
      "125/125 [==============================] - 0s 2ms/step - loss: 1.4016 - accuracy: 0.4500\n"
     ]
    },
    {
     "data": {
      "text/plain": [
       "[1.401607871055603, 0.44999998807907104]"
      ]
     },
     "execution_count": 33,
     "metadata": {},
     "output_type": "execute_result"
    }
   ],
   "source": [
    "# Evaluation\n",
    "best_model.evaluate(X_test, Y_test, batch_size=batch_size)"
   ]
  },
  {
   "cell_type": "code",
   "execution_count": 34,
   "metadata": {
    "ExecuteTime": {
     "end_time": "2023-06-17T07:54:47.692623300Z",
     "start_time": "2023-06-17T07:54:46.466181300Z"
    }
   },
   "outputs": [
    {
     "name": "stdout",
     "output_type": "stream",
     "text": [
      "INFO:tensorflow:Assets written to: ../../trained_models\\emotions_pl_word2vec_external_no_diacritics_1\\1\\assets\n"
     ]
    }
   ],
   "source": [
    "model_utils.save_model(best_model, model_name=model_name, training_number=training_number,\n",
    "                       saved_models_dir=constants.SAVED_MODEL_LOCATION,\n",
    "                       default_model_version=constants.DEFAULT_MODEL_VERSION)"
   ]
  }
 ],
 "metadata": {
  "kernelspec": {
   "display_name": "nlp",
   "language": "python",
   "name": "python3"
  },
  "language_info": {
   "codemirror_mode": {
    "name": "ipython",
    "version": 3
   },
   "file_extension": ".py",
   "mimetype": "text/x-python",
   "name": "python",
   "nbconvert_exporter": "python",
   "pygments_lexer": "ipython3",
   "version": "3.10.11"
  },
  "orig_nbformat": 4
 },
 "nbformat": 4,
 "nbformat_minor": 2
}
