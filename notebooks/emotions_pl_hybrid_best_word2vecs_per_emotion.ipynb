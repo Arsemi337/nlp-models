{
 "cells": [
  {
   "cell_type": "code",
   "execution_count": 1,
   "metadata": {
    "collapsed": true,
    "ExecuteTime": {
     "end_time": "2023-06-19T17:25:34.412121100Z",
     "start_time": "2023-06-19T17:25:28.281915300Z"
    }
   },
   "outputs": [],
   "source": [
    "import os\n",
    "import tensorflow as tf\n",
    "import pandas as pd\n",
    "import numpy as np\n",
    "import gensim\n",
    "import spacy\n",
    "import string\n",
    "import core.model_utils as model_utils\n",
    "from sklearn.metrics import accuracy_score\n",
    "import matplotlib.pyplot as plt\n",
    "\n",
    "from transformers import AutoTokenizer, DataCollatorWithPadding\n",
    "from datasets import Dataset"
   ]
  },
  {
   "cell_type": "code",
   "execution_count": 2,
   "outputs": [
    {
     "data": {
      "text/plain": "          label                                               text  \\\n0         anger                        Czuję się całkowicie chciwy   \n1          fear                Czuję się tak przytłoczony emocjami   \n2      surprise  Nie czułem efektu siły g Jestem oszołomiony Po...   \n3         anger  ive just got to tell you all that I feel Racze...   \n4         anger  Powiedziałem ci, że przepraszam, że czujesz si...   \n...         ...                                                ...   \n39995       joy  czuję się ostatnio dość hojny, ponieważ pracuj...   \n39996      love  Czuję, że niektóre postacie nie zasługują na w...   \n39997      fear  Czuję strach w moich kościach, którego nie moż...   \n39998       joy  Czułem się bardziej kreatywny i mniej jak czys...   \n39999   sadness          Czuję się zdruzgotany i pomagam Hellipowi   \n\n                                                  tokens  \\\n0                            [czuję, całkowicie, chciwy]   \n1                            [czuję, przytłocić, emocja]   \n2      [nie, czuć, być, efekt, siła, g, oszołomiona, ...   \n3      [ive, just, got, tell, you, all, that, feel, r...   \n4      [powiedzieć, być, przepraszać, czuć, sfrustrow...   \n...                                                  ...   \n39995  [czuć, ostatnio, hojny, pracować, znacznie, zw...   \n39996  [czuję, niektóry, postać, nie, zasługiwać, wsp...   \n39997  [czuję, strach, kość, nie, móc, wytrząsnąć, wy...   \n39998           [czuć, być, kreatywny, czysty, redaktor]   \n39999               [czuję, zdruzgotać, pomagać, hellip]   \n\n                                           joined_tokens  \n0                                czuję całkowicie chciwy  \n1                                czuję przytłocić emocja  \n2      nie czuć być efekt siła g oszołomiona poszedłe...  \n3      ive just got tell you all that feel raczej nie...  \n4      powiedzieć być przepraszać czuć sfrustrowany z...  \n...                                                  ...  \n39995  czuć ostatnio hojny pracować znacznie zwykle z...  \n39996  czuję niektóry postać nie zasługiwać wsparcie ...  \n39997  czuję strach kość nie móc wytrząsnąć wymuszć r...  \n39998                 czuć być kreatywny czysty redaktor  \n39999                    czuję zdruzgotać pomagać hellip  \n\n[40000 rows x 4 columns]",
      "text/html": "<div>\n<style scoped>\n    .dataframe tbody tr th:only-of-type {\n        vertical-align: middle;\n    }\n\n    .dataframe tbody tr th {\n        vertical-align: top;\n    }\n\n    .dataframe thead th {\n        text-align: right;\n    }\n</style>\n<table border=\"1\" class=\"dataframe\">\n  <thead>\n    <tr style=\"text-align: right;\">\n      <th></th>\n      <th>label</th>\n      <th>text</th>\n      <th>tokens</th>\n      <th>joined_tokens</th>\n    </tr>\n  </thead>\n  <tbody>\n    <tr>\n      <th>0</th>\n      <td>anger</td>\n      <td>Czuję się całkowicie chciwy</td>\n      <td>[czuję, całkowicie, chciwy]</td>\n      <td>czuję całkowicie chciwy</td>\n    </tr>\n    <tr>\n      <th>1</th>\n      <td>fear</td>\n      <td>Czuję się tak przytłoczony emocjami</td>\n      <td>[czuję, przytłocić, emocja]</td>\n      <td>czuję przytłocić emocja</td>\n    </tr>\n    <tr>\n      <th>2</th>\n      <td>surprise</td>\n      <td>Nie czułem efektu siły g Jestem oszołomiony Po...</td>\n      <td>[nie, czuć, być, efekt, siła, g, oszołomiona, ...</td>\n      <td>nie czuć być efekt siła g oszołomiona poszedłe...</td>\n    </tr>\n    <tr>\n      <th>3</th>\n      <td>anger</td>\n      <td>ive just got to tell you all that I feel Racze...</td>\n      <td>[ive, just, got, tell, you, all, that, feel, r...</td>\n      <td>ive just got tell you all that feel raczej nie...</td>\n    </tr>\n    <tr>\n      <th>4</th>\n      <td>anger</td>\n      <td>Powiedziałem ci, że przepraszam, że czujesz si...</td>\n      <td>[powiedzieć, być, przepraszać, czuć, sfrustrow...</td>\n      <td>powiedzieć być przepraszać czuć sfrustrowany z...</td>\n    </tr>\n    <tr>\n      <th>...</th>\n      <td>...</td>\n      <td>...</td>\n      <td>...</td>\n      <td>...</td>\n    </tr>\n    <tr>\n      <th>39995</th>\n      <td>joy</td>\n      <td>czuję się ostatnio dość hojny, ponieważ pracuj...</td>\n      <td>[czuć, ostatnio, hojny, pracować, znacznie, zw...</td>\n      <td>czuć ostatnio hojny pracować znacznie zwykle z...</td>\n    </tr>\n    <tr>\n      <th>39996</th>\n      <td>love</td>\n      <td>Czuję, że niektóre postacie nie zasługują na w...</td>\n      <td>[czuję, niektóry, postać, nie, zasługiwać, wsp...</td>\n      <td>czuję niektóry postać nie zasługiwać wsparcie ...</td>\n    </tr>\n    <tr>\n      <th>39997</th>\n      <td>fear</td>\n      <td>Czuję strach w moich kościach, którego nie moż...</td>\n      <td>[czuję, strach, kość, nie, móc, wytrząsnąć, wy...</td>\n      <td>czuję strach kość nie móc wytrząsnąć wymuszć r...</td>\n    </tr>\n    <tr>\n      <th>39998</th>\n      <td>joy</td>\n      <td>Czułem się bardziej kreatywny i mniej jak czys...</td>\n      <td>[czuć, być, kreatywny, czysty, redaktor]</td>\n      <td>czuć być kreatywny czysty redaktor</td>\n    </tr>\n    <tr>\n      <th>39999</th>\n      <td>sadness</td>\n      <td>Czuję się zdruzgotany i pomagam Hellipowi</td>\n      <td>[czuję, zdruzgotać, pomagać, hellip]</td>\n      <td>czuję zdruzgotać pomagać hellip</td>\n    </tr>\n  </tbody>\n</table>\n<p>40000 rows × 4 columns</p>\n</div>"
     },
     "execution_count": 2,
     "metadata": {},
     "output_type": "execute_result"
    }
   ],
   "source": [
    "df = pd.read_json('./../data/polish_translated/emotions/equalized_emotions_dataset_pl_with_tokens.json')\n",
    "df.rename(columns={'emotions': 'label', 'text_pl': 'text'}, inplace=True)\n",
    "df"
   ],
   "metadata": {
    "collapsed": false,
    "ExecuteTime": {
     "end_time": "2023-06-19T17:25:34.603334500Z",
     "start_time": "2023-06-19T17:25:34.414121600Z"
    }
   }
  },
  {
   "cell_type": "code",
   "execution_count": 3,
   "outputs": [],
   "source": [
    "ordered_class_labels = {\n",
    "    \"joy\": 0,\n",
    "    \"love\": 1,\n",
    "    \"surprise\": 2,\n",
    "    \"sadness\": 3,\n",
    "    \"anger\": 4,\n",
    "    \"fear\": 5,\n",
    "}\n",
    "\n",
    "df = df.replace({\"label\": ordered_class_labels})"
   ],
   "metadata": {
    "collapsed": false,
    "ExecuteTime": {
     "end_time": "2023-06-19T17:25:41.446238800Z",
     "start_time": "2023-06-19T17:25:41.411633600Z"
    }
   }
  },
  {
   "cell_type": "code",
   "execution_count": 4,
   "outputs": [
    {
     "data": {
      "text/plain": "Dataset({\n    features: ['label', 'text', 'tokens', 'joined_tokens'],\n    num_rows: 40000\n})"
     },
     "execution_count": 4,
     "metadata": {},
     "output_type": "execute_result"
    }
   ],
   "source": [
    "full_dataset = Dataset.from_pandas(df).remove_columns(\"__index_level_0__\")\n",
    "full_dataset"
   ],
   "metadata": {
    "collapsed": false,
    "ExecuteTime": {
     "end_time": "2023-06-19T17:25:41.790045900Z",
     "start_time": "2023-06-19T17:25:41.710431100Z"
    }
   }
  },
  {
   "cell_type": "code",
   "execution_count": 5,
   "outputs": [
    {
     "data": {
      "text/plain": "Dataset({\n    features: ['label', 'text', 'tokens', 'joined_tokens'],\n    num_rows: 4000\n})"
     },
     "execution_count": 5,
     "metadata": {},
     "output_type": "execute_result"
    }
   ],
   "source": [
    "# Train set: 80%, Validation set: 10%, Test set: 10%\n",
    "_, _, test_dataset = model_utils.split_train_val_test(\n",
    "    full_dataset,\n",
    "    train_size=0.8,\n",
    "    test_size_of_val_test_batch=0.5,\n",
    "    shuffle=True,\n",
    "    seed=42)\n",
    "test_dataset"
   ],
   "metadata": {
    "collapsed": false,
    "ExecuteTime": {
     "end_time": "2023-06-19T17:25:44.867454600Z",
     "start_time": "2023-06-19T17:25:44.844554600Z"
    }
   }
  },
  {
   "cell_type": "code",
   "execution_count": null,
   "outputs": [],
   "source": [
    "# Load models\n",
    "version = \"1\"\n",
    "trained_bert = os.path.join(\"./../trained_models/emotions_pl_bert_5\", version)\n",
    "trained_gpt = os.path.join(\"./../trained_models/emotions_pl_gpt2_2\", version)\n",
    "trained_word2vec_sentence_external = os.path.join(\"./../trained_models/emotions_pl_word2vec_sentence_external_1\", version)\n",
    "trained_word2vec_sentence_own = os.path.join(\"./../trained_models/emotions_pl_word2vec_sentence_own_1\", version)\n",
    "\n",
    "bert = tf.keras.models.load_model(trained_bert)\n",
    "gpt2 = tf.keras.models.load_model(trained_gpt)\n",
    "word2vec_sentence_external = tf.keras.models.load_model(trained_word2vec_sentence_external)\n",
    "word2vec_sentence_own = tf.keras.models.load_model(trained_word2vec_sentence_own)"
   ],
   "metadata": {
    "collapsed": false
   }
  },
  {
   "cell_type": "code",
   "execution_count": 9,
   "outputs": [
    {
     "data": {
      "text/plain": "Map:   0%|          | 0/4000 [00:00<?, ? examples/s]",
      "application/vnd.jupyter.widget-view+json": {
       "version_major": 2,
       "version_minor": 0,
       "model_id": "98bba7174b1c430b84002e4d3bab0d97"
      }
     },
     "metadata": {},
     "output_type": "display_data"
    },
    {
     "name": "stderr",
     "output_type": "stream",
     "text": [
      "C:\\Users\\Karol\\anaconda3\\envs\\ml-tf2gpu\\lib\\site-packages\\datasets\\arrow_dataset.py:388: FutureWarning: The output of `to_tf_dataset` will change when a passing single element list for `labels` or `columns` in the next datasets version. To return a tuple structure rather than dict, pass a single string.\n",
      "Old behaviour: columns=['a'], labels=['labels'] -> (tf.Tensor, tf.Tensor)  \n",
      "             : columns='a', labels='labels' -> (tf.Tensor, tf.Tensor)  \n",
      "New behaviour: columns=['a'],labels=['labels'] -> ({'a': tf.Tensor}, {'labels': tf.Tensor})  \n",
      "             : columns='a', labels='labels' -> (tf.Tensor, tf.Tensor) \n",
      "  warnings.warn(\n",
      "You're using a BertTokenizerFast tokenizer. Please note that with a fast tokenizer, using the `__call__` method is faster than using a method to encode the text followed by a call to the `pad` method to get a padded encoding.\n"
     ]
    }
   ],
   "source": [
    "# Create BERT tokenizer and collator\n",
    "bert_checkpoint = \"dkleczek/bert-base-polish-uncased-v1\"\n",
    "\n",
    "bert_tokenizer = AutoTokenizer.from_pretrained(bert_checkpoint, model_max_length=512)\n",
    "\n",
    "\n",
    "def tokenize_for_bert(example):\n",
    "    return bert_tokenizer(example[\"text\"], truncation=True)\n",
    "\n",
    "\n",
    "bert_tokenized_test_dataset = test_dataset.map(tokenize_for_bert, batched=True)\n",
    "\n",
    "bert_input_columns = [\"attention_mask\", \"input_ids\", \"token_type_ids\"]\n",
    "bert_label_columns = ['label']\n",
    "bert_batch_size = 16\n",
    "bert_data_collator = DataCollatorWithPadding(tokenizer=bert_tokenizer, return_tensors=\"tf\")\n",
    "bert_tf_dataset = model_utils.convert_to_tf_dataset(bert_tokenized_test_dataset, bert_input_columns, bert_label_columns,\n",
    "                                                    bert_data_collator, bert_batch_size)"
   ],
   "metadata": {
    "collapsed": false,
    "ExecuteTime": {
     "end_time": "2023-06-19T17:30:41.278582700Z",
     "start_time": "2023-06-19T17:30:40.049855700Z"
    }
   }
  },
  {
   "cell_type": "code",
   "execution_count": 10,
   "outputs": [
    {
     "data": {
      "text/plain": "Map:   0%|          | 0/4000 [00:00<?, ? examples/s]",
      "application/vnd.jupyter.widget-view+json": {
       "version_major": 2,
       "version_minor": 0,
       "model_id": "d806beb7f6e3477b8ed3558712bbd801"
      }
     },
     "metadata": {},
     "output_type": "display_data"
    },
    {
     "name": "stderr",
     "output_type": "stream",
     "text": [
      "C:\\Users\\Karol\\anaconda3\\envs\\ml-tf2gpu\\lib\\site-packages\\datasets\\arrow_dataset.py:388: FutureWarning: The output of `to_tf_dataset` will change when a passing single element list for `labels` or `columns` in the next datasets version. To return a tuple structure rather than dict, pass a single string.\n",
      "Old behaviour: columns=['a'], labels=['labels'] -> (tf.Tensor, tf.Tensor)  \n",
      "             : columns='a', labels='labels' -> (tf.Tensor, tf.Tensor)  \n",
      "New behaviour: columns=['a'],labels=['labels'] -> ({'a': tf.Tensor}, {'labels': tf.Tensor})  \n",
      "             : columns='a', labels='labels' -> (tf.Tensor, tf.Tensor) \n",
      "  warnings.warn(\n",
      "You're using a GPT2TokenizerFast tokenizer. Please note that with a fast tokenizer, using the `__call__` method is faster than using a method to encode the text followed by a call to the `pad` method to get a padded encoding.\n"
     ]
    }
   ],
   "source": [
    "# Create GPT2 tokenizer\n",
    "gpt_checkpoint = MAX_TOKENS = 128\n",
    "EOS_TOKEN = \"<|endoftext|>\"\n",
    "checkpoint = \"flax-community/papuGaPT2\"\n",
    "\n",
    "gpt2_tokenizer = AutoTokenizer.from_pretrained(\n",
    "    checkpoint,\n",
    "    eos_token=EOS_TOKEN,\n",
    "    pad_token=EOS_TOKEN,\n",
    "    max_length=MAX_TOKENS,\n",
    "    is_split_into_words=True,\n",
    ")\n",
    "\n",
    "gpt2_tokenizer.padding_side = \"left\"\n",
    "\n",
    "\n",
    "def tokenize_for_gpt2(examples):\n",
    "    examples = [ex + EOS_TOKEN for ex in examples['text']]\n",
    "\n",
    "    output = gpt2_tokenizer(\n",
    "        examples,\n",
    "        add_special_tokens=True,\n",
    "        max_length=MAX_TOKENS,\n",
    "        truncation=True,\n",
    "        padding=True,\n",
    "    )\n",
    "\n",
    "    # truncate input ids and attention mask to account for label shift\n",
    "    output[\"input_ids\"] = [x[:-1] for x in output[\"input_ids\"]]\n",
    "    output[\"attention_mask\"] = [x[:-1] for x in output[\"attention_mask\"]]\n",
    "    return output\n",
    "\n",
    "\n",
    "gpt2_tokenized_test_dataset = test_dataset.map(tokenize_for_gpt2, batched=True)\n",
    "\n",
    "gpt2_input_columns = [\"input_ids\", \"attention_mask\"]\n",
    "gpt2_label_columns = [\"label\"]\n",
    "gpt2_batch_size = 16\n",
    "gpt2_data_collator = DataCollatorWithPadding(tokenizer=gpt2_tokenizer, return_tensors=\"tf\")\n",
    "gpt2_tf_dataset = model_utils.convert_to_tf_dataset(gpt2_tokenized_test_dataset, gpt2_input_columns, gpt2_label_columns,\n",
    "                                                    gpt2_data_collator, gpt2_batch_size)"
   ],
   "metadata": {
    "collapsed": false,
    "ExecuteTime": {
     "end_time": "2023-06-19T17:31:02.166537900Z",
     "start_time": "2023-06-19T17:31:01.541944400Z"
    }
   }
  },
  {
   "cell_type": "code",
   "execution_count": 11,
   "outputs": [
    {
     "data": {
      "text/plain": "Map:   0%|          | 0/4000 [00:00<?, ? examples/s]",
      "application/vnd.jupyter.widget-view+json": {
       "version_major": 2,
       "version_minor": 0,
       "model_id": "f172436288c441aca55eeb07bc940b07"
      }
     },
     "metadata": {},
     "output_type": "display_data"
    },
    {
     "name": "stderr",
     "output_type": "stream",
     "text": [
      "C:\\Users\\Karol\\anaconda3\\envs\\ml-tf2gpu\\lib\\site-packages\\datasets\\arrow_dataset.py:388: FutureWarning: The output of `to_tf_dataset` will change when a passing single element list for `labels` or `columns` in the next datasets version. To return a tuple structure rather than dict, pass a single string.\n",
      "Old behaviour: columns=['a'], labels=['labels'] -> (tf.Tensor, tf.Tensor)  \n",
      "             : columns='a', labels='labels' -> (tf.Tensor, tf.Tensor)  \n",
      "New behaviour: columns=['a'],labels=['labels'] -> ({'a': tf.Tensor}, {'labels': tf.Tensor})  \n",
      "             : columns='a', labels='labels' -> (tf.Tensor, tf.Tensor) \n",
      "  warnings.warn(\n"
     ]
    }
   ],
   "source": [
    "# Create Word2Vec external tokenizer\n",
    "word2vec_external_kv = gensim.models.KeyedVectors.load(\"./word2vec/word2vec_100_3_polish.bin\")\n",
    "\n",
    "def tokens_to_vector_external(tokens):\n",
    "    vector_size = word2vec_external_kv.vector_size\n",
    "    wv_res = np.zeros(vector_size)\n",
    "    ctr = 1\n",
    "    for w in tokens:\n",
    "        if w in word2vec_external_kv:\n",
    "            ctr += 1\n",
    "            wv_res += word2vec_external_kv[w]\n",
    "    wv_res = wv_res / ctr\n",
    "    return wv_res\n",
    "\n",
    "def tokenize_for_word2vec_external(sample):\n",
    "    sample['embeddings'] = [tokens_to_vector_external(tokens) for tokens in sample['tokens']]\n",
    "    return sample\n",
    "\n",
    "\n",
    "word2vec_external_test_dataset = test_dataset.map(tokenize_for_word2vec_external, batched=True)\n",
    "\n",
    "word2vec_external_input_columns = [\"embeddings\"]\n",
    "word2vec_external_label_columns = [\"label\"]\n",
    "word2vec_external_batch_size = 16\n",
    "word2vec_external_tf_dataset = model_utils.convert_to_tf_dataset(word2vec_external_test_dataset, word2vec_external_input_columns,\n",
    "                                                        word2vec_external_label_columns,\n",
    "                                                        None, word2vec_external_batch_size)"
   ],
   "metadata": {
    "collapsed": false,
    "ExecuteTime": {
     "end_time": "2023-06-19T17:33:26.351238600Z",
     "start_time": "2023-06-19T17:33:03.847622200Z"
    }
   }
  },
  {
   "cell_type": "code",
   "execution_count": 14,
   "outputs": [
    {
     "data": {
      "text/plain": "Map:   0%|          | 0/4000 [00:00<?, ? examples/s]",
      "application/vnd.jupyter.widget-view+json": {
       "version_major": 2,
       "version_minor": 0,
       "model_id": "5bb24553341741adba9c67ec819ef9e8"
      }
     },
     "metadata": {},
     "output_type": "display_data"
    },
    {
     "name": "stderr",
     "output_type": "stream",
     "text": [
      "C:\\Users\\Karol\\anaconda3\\envs\\ml-tf2gpu\\lib\\site-packages\\datasets\\arrow_dataset.py:388: FutureWarning: The output of `to_tf_dataset` will change when a passing single element list for `labels` or `columns` in the next datasets version. To return a tuple structure rather than dict, pass a single string.\n",
      "Old behaviour: columns=['a'], labels=['labels'] -> (tf.Tensor, tf.Tensor)  \n",
      "             : columns='a', labels='labels' -> (tf.Tensor, tf.Tensor)  \n",
      "New behaviour: columns=['a'],labels=['labels'] -> ({'a': tf.Tensor}, {'labels': tf.Tensor})  \n",
      "             : columns='a', labels='labels' -> (tf.Tensor, tf.Tensor) \n",
      "  warnings.warn(\n"
     ]
    }
   ],
   "source": [
    "# Create Word2Vec own tokenizer\n",
    "word2vec_own_kv = gensim.models.KeyedVectors.load(\"./word2vec/emotions_pl_word2vec_sentence_own_1.model\")\n",
    "\n",
    "def tokens_to_vector_own(tokens):\n",
    "    vector_size = word2vec_own_kv.vector_size\n",
    "    wv_res = np.zeros(vector_size)\n",
    "    ctr = 1\n",
    "    for w in tokens:\n",
    "        if w in word2vec_own_kv.wv:\n",
    "            ctr += 1\n",
    "            wv_res += word2vec_own_kv.wv[w]\n",
    "    wv_res = wv_res / ctr\n",
    "    return wv_res\n",
    "\n",
    "def tokenize_for_word2vec_own(sample):\n",
    "    sample['embeddings'] = [tokens_to_vector_own(tokens) for tokens in sample['tokens']]\n",
    "    return sample\n",
    "\n",
    "\n",
    "word2vec_own_test_dataset = test_dataset.map(tokenize_for_word2vec_own, batched=True)\n",
    "\n",
    "word2vec_own_input_columns = [\"embeddings\"]\n",
    "word2vec_own_label_columns = [\"label\"]\n",
    "word2vec_own_batch_size = 16\n",
    "word2vec_own_tf_dataset = model_utils.convert_to_tf_dataset(word2vec_own_test_dataset, word2vec_own_input_columns,\n",
    "                                                                 word2vec_own_label_columns,\n",
    "                                                                 None, word2vec_own_batch_size)"
   ],
   "metadata": {
    "collapsed": false,
    "ExecuteTime": {
     "end_time": "2023-06-19T17:36:51.725608700Z",
     "start_time": "2023-06-19T17:36:51.200986500Z"
    }
   }
  },
  {
   "cell_type": "code",
   "execution_count": 16,
   "outputs": [],
   "source": [
    "def combine_probabilities(model1_probabilities, model2_probabilities, model3_probabilities, model4_probabilities, model1_weights,\n",
    "                          model2_weights, model3_weights, model4_weights):\n",
    "    weighted_avg_probabilities = (\n",
    "                                             model1_weights * model1_probabilities + model2_weights * model2_probabilities + model3_weights * model3_probabilities + model4_weights * model4_probabilities) / (\n",
    "                                             model1_weights + model2_weights + model3_weights + model4_weights)\n",
    "    normalized_probabilities = weighted_avg_probabilities / np.sum(weighted_avg_probabilities, axis=1, keepdims=True)\n",
    "\n",
    "    return normalized_probabilities\n",
    "\n",
    "\n",
    "def hybrid_predict(bert_input, gpt2_input, word2vec_external_input, word2vec_own_input, bert_model, gpt2_model, word2vec_external_model, word2vec_own_model, bert_weights,\n",
    "                   gpt2_weights, word2vec_external_weights, word2vec_own_weights, return_classes=True):\n",
    "    bert_probabilities = model_utils.get_class_preds(bert_model, bert_input, return_classes=False)\n",
    "    gpt2_probabilities = model_utils.get_class_preds(gpt2_model, gpt2_input, return_classes=False)\n",
    "    word2vec_external_probabilities = model_utils.get_class_preds(word2vec_external_model, word2vec_external_input, return_classes=False,\n",
    "                                                         model_returns_logits=False)\n",
    "    word2vec_own_probabilities = model_utils.get_class_preds(word2vec_own_model, word2vec_own_input, return_classes=False,\n",
    "                                                                  model_returns_logits=False)\n",
    "    final_output = combine_probabilities(bert_probabilities, gpt2_probabilities, word2vec_external_probabilities, word2vec_own_probabilities, bert_weights,\n",
    "                                         gpt2_weights, word2vec_external_weights, word2vec_own_weights)\n",
    "    if return_classes:\n",
    "        final_output = np.argmax(final_output, axis=1)\n",
    "    return final_output"
   ],
   "metadata": {
    "collapsed": false,
    "ExecuteTime": {
     "end_time": "2023-06-19T17:39:57.009994200Z",
     "start_time": "2023-06-19T17:39:56.999968400Z"
    }
   }
  },
  {
   "cell_type": "code",
   "execution_count": 17,
   "outputs": [],
   "source": [
    "bert_weights = np.array([88, 88, 88, 87, 94, 76])\n",
    "gpt2_weights = np.array([91, 82, 87, 81, 92, 84])\n",
    "word2vec_external_weights = np.array([50, 0, 0, 46, 50, 44])\n",
    "word2vec_own_weights = np.array([0, 48, 62, 0, 0, 0])\n",
    "\n",
    "hybrid_preds = hybrid_predict(\n",
    "    bert_input=bert_tf_dataset, gpt2_input=gpt2_tf_dataset, word2vec_external_input=word2vec_external_tf_dataset, word2vec_own_input=word2vec_own_tf_dataset,\n",
    "    bert_model=bert, gpt2_model=gpt2, word2vec_external_model=word2vec_sentence_external, word2vec_own_model=word2vec_sentence_own,\n",
    "    bert_weights=bert_weights, gpt2_weights=gpt2_weights, word2vec_external_weights=word2vec_external_weights, word2vec_own_weights=word2vec_own_weights,\n",
    ")\n",
    "\n",
    "hybrid_probas = hybrid_predict(\n",
    "    bert_input=bert_tf_dataset, gpt2_input=gpt2_tf_dataset, word2vec_external_input=word2vec_external_tf_dataset, word2vec_own_input=word2vec_own_tf_dataset,\n",
    "    bert_model=bert, gpt2_model=gpt2, word2vec_external_model=word2vec_sentence_external, word2vec_own_model=word2vec_sentence_own,\n",
    "    bert_weights=bert_weights, gpt2_weights=gpt2_weights, word2vec_external_weights=word2vec_external_weights, word2vec_own_weights=word2vec_own_weights,\n",
    "    return_classes=False\n",
    ")"
   ],
   "metadata": {
    "collapsed": false,
    "ExecuteTime": {
     "end_time": "2023-06-19T17:44:27.464168700Z",
     "start_time": "2023-06-19T17:43:48.778668Z"
    }
   }
  },
  {
   "cell_type": "code",
   "execution_count": 18,
   "outputs": [
    {
     "name": "stdout",
     "output_type": "stream",
     "text": [
      "Precision score:  0.875\n",
      "Recall score:  0.875\n",
      "F1 score:  0.875\n",
      "Accuracy:  0.875\n",
      "Loss:  0.5375136137008667\n"
     ]
    }
   ],
   "source": [
    "precision, recall, f1 = model_utils.get_classification_evaluation_metrics(\n",
    "    class_actual=test_dataset['label'],\n",
    "    class_preds=hybrid_preds,\n",
    "    average='micro'\n",
    ")\n",
    "\n",
    "accuracy = accuracy_score(test_dataset['label'], hybrid_preds)\n",
    "loss = tf.keras.losses.SparseCategoricalCrossentropy()\n",
    "loss = loss(test_dataset['label'], hybrid_probas).numpy()\n",
    "\n",
    "print(f\"Precision score: \", precision)\n",
    "print(f\"Recall score: \", recall)\n",
    "print(f\"F1 score: \", f1)\n",
    "print(f\"Accuracy: \", accuracy)\n",
    "print(f\"Loss: \", loss)"
   ],
   "metadata": {
    "collapsed": false,
    "ExecuteTime": {
     "end_time": "2023-06-19T17:44:34.049939700Z",
     "start_time": "2023-06-19T17:44:33.975719400Z"
    }
   }
  },
  {
   "cell_type": "code",
   "execution_count": 19,
   "outputs": [
    {
     "data": {
      "text/plain": "<Figure size 640x480 with 2 Axes>",
      "image/png": "[encoded data removed]"
     },
     "metadata": {},
     "output_type": "display_data"
    }
   ],
   "source": [
    "training_name = \"best_word2vec_per_emotion\"\n",
    "figures_dir = \"./../documentation/models/emotions_pl_hybrid/figures\"\n",
    "\n",
    "model_utils.plot_and_save_conf_matrix(class_actual=test_dataset['label'],\n",
    "                                      class_preds=hybrid_preds,\n",
    "                                      figure_dir_path=figures_dir,\n",
    "                                      figure_filename=f\"{training_name}_confmatrix.png\")"
   ],
   "metadata": {
    "collapsed": false,
    "ExecuteTime": {
     "end_time": "2023-06-19T17:46:26.193788800Z",
     "start_time": "2023-06-19T17:46:25.798847900Z"
    }
   }
  },
  {
   "cell_type": "code",
   "execution_count": 29,
   "outputs": [
    {
     "name": "stdout",
     "output_type": "stream",
     "text": [
      "\n",
      "            BAD PREDICTION:\n",
      "            - INDEX: 6\n",
      "            - TEXT: Nie wiem, jak kilka zdań może sprawić, że ludzie, którzy je czytają, natychmiast wiedzą, co naprawdę myślę lub czuję, a nikt nie zadał sobie trudu, aby zapytać mnie w twarz.\n",
      "            - PREDICTED VALUE: 5\n",
      "            - CORRECT VALUE: 4\n",
      "            \n",
      "\n",
      "            BAD PREDICTION:\n",
      "            - INDEX: 10\n",
      "            - TEXT: Nie chcę listopada daleko lub próbuje zapomnieć o Święto Dziękczynienia, ale muszę być świadomy tego, co naprawdę się liczy, gdy czuję się przytłoczony\n",
      "            - PREDICTED VALUE: 2\n",
      "            - CORRECT VALUE: 5\n",
      "            \n",
      "\n",
      "            BAD PREDICTION:\n",
      "            - INDEX: 20\n",
      "            - TEXT: Chciałbym nie czuć się tak, ale czuję i nie wiem, co to jest czuję to jest dziwne dla mnie jest to, co kocham czuję\n",
      "            - PREDICTED VALUE: 2\n",
      "            - CORRECT VALUE: 5\n",
      "            \n",
      "\n",
      "            BAD PREDICTION:\n",
      "            - INDEX: 23\n",
      "            - TEXT: Nigdy nie wstrząsnęłam uczuciem dzikiej opiekuńczości, które miałam, gdy po raz pierwszy zostałam matką.\n",
      "            - PREDICTED VALUE: 1\n",
      "            - CORRECT VALUE: 4\n",
      "            \n",
      "\n",
      "            BAD PREDICTION:\n",
      "            - INDEX: 40\n",
      "            - TEXT: Miałem jakiś problem związany z najlepszymi broniami społeczeństwa, ponieważ pochodziłem również z elit miasta, ale miałem poczucie, że zostałem popędzony do głównych obowiązków\n",
      "            - PREDICTED VALUE: 3\n",
      "            - CORRECT VALUE: 4\n",
      "            \n",
      "\n",
      "            BAD PREDICTION:\n",
      "            - INDEX: 44\n",
      "            - TEXT: Czuję się rozczarowana sobą i innymi rozgoryczonymi i wszystkimi rzeczami, które wyrzuciłam, kiedy opuściłam Jasona\n",
      "            - PREDICTED VALUE: 3\n",
      "            - CORRECT VALUE: 4\n",
      "            \n",
      "\n",
      "            BAD PREDICTION:\n",
      "            - INDEX: 50\n",
      "            - TEXT: Jakiś czas temu mężczyzna próbował mnie czegoś nauczyć, ponieważ bardzo trudno jest nauczyć kogoś, gdy sam nie jesteś kompetentny i wykształcony.\n",
      "            - PREDICTED VALUE: 0\n",
      "            - CORRECT VALUE: 4\n",
      "            \n",
      "\n",
      "            BAD PREDICTION:\n",
      "            - INDEX: 67\n",
      "            - TEXT: Nie widzę, żebym dawał pieniądze na wspieranie czegoś, co uważam za niebezpieczne dla świata\n",
      "            - PREDICTED VALUE: 1\n",
      "            - CORRECT VALUE: 4\n",
      "            \n",
      "\n",
      "            BAD PREDICTION:\n",
      "            - INDEX: 74\n",
      "            - TEXT: /Czułem się tak dziwnie wzburzony, /że wydawało się, /że jest daleko\n",
      "            - PREDICTED VALUE: 5\n",
      "            - CORRECT VALUE: 4\n",
      "            \n",
      "\n",
      "            BAD PREDICTION:\n",
      "            - INDEX: 148\n",
      "            - TEXT: Nie obchodziło mnie to, że zacząłem czuć się dość oszołomiony Nie biorę snu ani antylękowych rzeczy, ponieważ jestem na wyjątkowe ryzyko uzależnienia\n",
      "            - PREDICTED VALUE: 2\n",
      "            - CORRECT VALUE: 3\n",
      "            \n",
      "\n",
      "            BAD PREDICTION:\n",
      "            - INDEX: 169\n",
      "            - TEXT: Czułem to, kiedy siedziałem na egzaminie z anatomii\n",
      "            - PREDICTED VALUE: 3\n",
      "            - CORRECT VALUE: 5\n",
      "            \n",
      "\n",
      "            BAD PREDICTION:\n",
      "            - INDEX: 177\n",
      "            - TEXT: Byłem bardzo zadowolony z posiłku, kiedy nasza kelnerka przyniosła menu deserowe i zobaczyłem milwaukees najlepszy flan prawo na górze nie mogłem przepuścić okazję, aby spróbować kawałek\n",
      "            - PREDICTED VALUE: 5\n",
      "            - CORRECT VALUE: 0\n",
      "            \n",
      "\n",
      "            BAD PREDICTION:\n",
      "            - INDEX: 189\n",
      "            - TEXT: Zachęcałam do tych rozważań, aby te z nas, które są feministkami, nie spieszyły się szybko, aby poczuć się cnotliwie, dbając o cnoty czucia cudu troski.\n",
      "            - PREDICTED VALUE: 1\n",
      "            - CORRECT VALUE: 0\n",
      "            \n",
      "\n",
      "            BAD PREDICTION:\n",
      "            - INDEX: 198\n",
      "            - TEXT: Czuję się naprawdę dziwnie i samoświadomy faktu, że używam tej przestrzeni, aby podzielić się zarówno moimi szczerymi przemyśleniami na temat stanu mojego życia, jak i href http www\n",
      "            - PREDICTED VALUE: 2\n",
      "            - CORRECT VALUE: 5\n",
      "            \n",
      "\n",
      "            BAD PREDICTION:\n",
      "            - INDEX: 205\n",
      "            - TEXT: kiedy zobaczyłem dobrego męskiego przyjaciela niespodziewanie po roku\n",
      "            - PREDICTED VALUE: 4\n",
      "            - CORRECT VALUE: 5\n",
      "            \n",
      "\n",
      "            BAD PREDICTION:\n",
      "            - INDEX: 213\n",
      "            - TEXT: Czuję, że chwile, kiedy twoje serce przepełnia radość, są chwilami cennymi, ponieważ nie mogą się utrzymać.\n",
      "            - PREDICTED VALUE: 0\n",
      "            - CORRECT VALUE: 1\n",
      "            \n",
      "\n",
      "            BAD PREDICTION:\n",
      "            - INDEX: 219\n",
      "            - TEXT: Czułem się trochę niewspaniale, więc ta lil podnieś mnie całkowicie pomogła\n",
      "            - PREDICTED VALUE: 3\n",
      "            - CORRECT VALUE: 0\n",
      "            \n",
      "\n",
      "            BAD PREDICTION:\n",
      "            - INDEX: 235\n",
      "            - TEXT: Czuję się wspaniale, że odeszli, ale jest poczucie ulgi, że ich cierpienie się skończyło.\n",
      "            - PREDICTED VALUE: 0\n",
      "            - CORRECT VALUE: 3\n",
      "            \n",
      "\n",
      "            BAD PREDICTION:\n",
      "            - INDEX: 239\n",
      "            - TEXT: Rzadko chodziłem do biura w sobotę, ale czuł się tak dziwnie, że myślał, że trochę pracy może oczyścić jego umysł.\n",
      "            - PREDICTED VALUE: 2\n",
      "            - CORRECT VALUE: 5\n",
      "            \n",
      "\n",
      "            BAD PREDICTION:\n",
      "            - INDEX: 254\n",
      "            - TEXT: Z pewnością nie czułem się bardzo łaskawy, ponieważ zaakceptowałem, że nie jestem w stanie wymyślić wymówki wystarczająco szybko, że wyszło całkiem dobrze, choć tak było dobrze\n",
      "            - PREDICTED VALUE: 1\n",
      "            - CORRECT VALUE: 0\n",
      "            \n",
      "\n",
      "            BAD PREDICTION:\n",
      "            - INDEX: 257\n",
      "            - TEXT: Lubię mieszkać i rozmyślać i czuć się źle, ponieważ wtedy czuję, że mogę mieć rację, a wszyscy inni się mylą.\n",
      "            - PREDICTED VALUE: 3\n",
      "            - CORRECT VALUE: 4\n",
      "            \n",
      "\n",
      "            BAD PREDICTION:\n",
      "            - INDEX: 258\n",
      "            - TEXT: Czasami czuję się kompletnie przytłoczony\n",
      "            - PREDICTED VALUE: 2\n",
      "            - CORRECT VALUE: 5\n",
      "            \n",
      "\n",
      "            BAD PREDICTION:\n",
      "            - INDEX: 271\n",
      "            - TEXT: Idę do Joesa ziarna kawy na rogu mogę czuć się jak wspieranie społeczności, ale on pali espresso używa sproszkowanej czekolady i nie mogę nawet zacząć mówić, jak obrzydliwe to jest i jakoś udaje się zamienić sekundę na minutę wysiłku w minutę eskapady\n",
      "            - PREDICTED VALUE: 1\n",
      "            - CORRECT VALUE: 0\n",
      "            \n",
      "\n",
      "            BAD PREDICTION:\n",
      "            - INDEX: 281\n",
      "            - TEXT: Czuję się łatwo zdenerwowany, a jednocześnie tak odrętwiały\n",
      "            - PREDICTED VALUE: 5\n",
      "            - CORRECT VALUE: 4\n",
      "            \n",
      "\n",
      "            BAD PREDICTION:\n",
      "            - INDEX: 284\n",
      "            - TEXT: Czułem się raczej zaniepokojony rzeczami\n",
      "            - PREDICTED VALUE: 5\n",
      "            - CORRECT VALUE: 3\n",
      "            \n",
      "\n",
      "            BAD PREDICTION:\n",
      "            - INDEX: 288\n",
      "            - TEXT: Czuję, że sprawca torturował zwierzęta, kiedy był dzieckiem, nie był odpowiednio wyszkolony w nocniku i posiada różową koszulę.\n",
      "            - PREDICTED VALUE: 5\n",
      "            - CORRECT VALUE: 4\n",
      "            \n",
      "\n",
      "            BAD PREDICTION:\n",
      "            - INDEX: 289\n",
      "            - TEXT: Mówię ludziom, którzy czują się trochę zahamowani lub nieśmiali, po prostu udawaj, aż to zrobisz.\n",
      "            - PREDICTED VALUE: 5\n",
      "            - CORRECT VALUE: 3\n",
      "            \n",
      "\n",
      "            BAD PREDICTION:\n",
      "            - INDEX: 290\n",
      "            - TEXT: Próbowałem powstrzymać się od zbytniego podekscytowania zbliżającymi się wakacjami.\n",
      "            - PREDICTED VALUE: 5\n",
      "            - CORRECT VALUE: 0\n",
      "            \n",
      "\n",
      "            BAD PREDICTION:\n",
      "            - INDEX: 315\n",
      "            - TEXT: Jestem pewien, że wiele osób czułoby się bezpieczniej, gdyby FBI badało więcej podejrzanych incydentów.\n",
      "            - PREDICTED VALUE: 0\n",
      "            - CORRECT VALUE: 5\n",
      "            \n",
      "\n",
      "            BAD PREDICTION:\n",
      "            - INDEX: 321\n",
      "            - TEXT: Czuję, że elementy, które podziwiałem w tym ostatnim, nie są niezgodne z formatem prozy, więc staram się wyrazić nieograniczoną energię i większą niż życie prezentację japońskiej rozrywki w moich pracach pisanych.\n",
      "            - PREDICTED VALUE: 1\n",
      "            - CORRECT VALUE: 0\n",
      "            \n",
      "\n",
      "            BAD PREDICTION:\n",
      "            - INDEX: 326\n",
      "            - TEXT: Czułem się hojny, przypuszczam, że warto zapłacić kredyt radzie, że przynajmniej nie odbyła się całkowita konsultacja w czasie wakacji szkolnych, ale nie czuję się hojny.\n",
      "            - PREDICTED VALUE: 1\n",
      "            - CORRECT VALUE: 0\n",
      "            \n",
      "\n",
      "            BAD PREDICTION:\n",
      "            - INDEX: 332\n",
      "            - TEXT: Rozumiem, jak muszą się czuć, z drugiej strony, kiedy oglądałem wiadomości i widziałem, co ci nastolatkowie robili zniszczenia, które powodowali.\n",
      "            - PREDICTED VALUE: 3\n",
      "            - CORRECT VALUE: 4\n",
      "            \n",
      "\n",
      "            BAD PREDICTION:\n",
      "            - INDEX: 340\n",
      "            - TEXT: Zaokrągliłem to tylko dlatego, że czuję się hojny\n",
      "            - PREDICTED VALUE: 1\n",
      "            - CORRECT VALUE: 0\n",
      "            \n",
      "\n",
      "            BAD PREDICTION:\n",
      "            - INDEX: 351\n",
      "            - TEXT: Byłem bardzo świadomy tego, ile gotówki zostawiłem w kopercie na gaz i jedzenie i nadal mam to, co zamierzałem zaoszczędzić na następny tydzień, co pomaga mi nie czuć się tak zestresowany i przestraszony.\n",
      "            - PREDICTED VALUE: 5\n",
      "            - CORRECT VALUE: 4\n",
      "            \n",
      "\n",
      "            BAD PREDICTION:\n",
      "            - INDEX: 359\n",
      "            - TEXT: Czuję, że moja kariera dopiero się zaczyna, czy to w branży rozrywkowej, czy w jakiejkolwiek innej dziedzinie, wciąż mam długą drogę do przebycia i chcę podziękować wszystkim ludziom, którzy mnie wspierali i dopingowali.\n",
      "            - PREDICTED VALUE: 0\n",
      "            - CORRECT VALUE: 1\n",
      "            \n",
      "\n",
      "            BAD PREDICTION:\n",
      "            - INDEX: 360\n",
      "            - TEXT: Czuję się taka wzburzona i zła\n",
      "            - PREDICTED VALUE: 5\n",
      "            - CORRECT VALUE: 4\n",
      "            \n",
      "\n",
      "            BAD PREDICTION:\n",
      "            - INDEX: 373\n",
      "            - TEXT: Czuję twój strach przed Bogiem, jak On daje i zabiera i jak mój czuły rdzeń płonął odwagą, którą zabrałeś ze sobą nawet po tym, jak odcięto sznury, które wiążą.\n",
      "            - PREDICTED VALUE: 5\n",
      "            - CORRECT VALUE: 1\n",
      "            \n",
      "\n",
      "            BAD PREDICTION:\n",
      "            - INDEX: 377\n",
      "            - TEXT: Czuję się wstrząśnięta.\n",
      "            - PREDICTED VALUE: 5\n",
      "            - CORRECT VALUE: 2\n",
      "            \n",
      "\n",
      "            BAD PREDICTION:\n",
      "            - INDEX: 388\n",
      "            - TEXT: Nie płakałam, tylko stałam tam czując się bezradna.\n",
      "            - PREDICTED VALUE: 5\n",
      "            - CORRECT VALUE: 3\n",
      "            \n",
      "\n",
      "            BAD PREDICTION:\n",
      "            - INDEX: 395\n",
      "            - TEXT: Nie zaktualizowałem mojego Twittera ani Instagrama w ciągu całego tygodnia i czułem się dziwnie, ale wróciłem teraz z kilkoma zmianami\n",
      "            - PREDICTED VALUE: 2\n",
      "            - CORRECT VALUE: 5\n",
      "            \n",
      "\n",
      "            BAD PREDICTION:\n",
      "            - INDEX: 404\n",
      "            - TEXT: To chyba nie jest takie złe, ale wciąż czuję się jakbym był mięczakiem.\n",
      "            - PREDICTED VALUE: 3\n",
      "            - CORRECT VALUE: 5\n",
      "            \n",
      "\n",
      "            BAD PREDICTION:\n",
      "            - INDEX: 414\n",
      "            - TEXT: odkryłem, że ktoś, kogo dobrze znałem, nie rozumiał mnie przez lata\n",
      "            - PREDICTED VALUE: 3\n",
      "            - CORRECT VALUE: 4\n",
      "            \n",
      "\n",
      "            BAD PREDICTION:\n",
      "            - INDEX: 425\n",
      "            - TEXT: Chłopiec na ziemi\n",
      "            - PREDICTED VALUE: 5\n",
      "            - CORRECT VALUE: 4\n",
      "            \n",
      "\n",
      "            BAD PREDICTION:\n",
      "            - INDEX: 437\n",
      "            - TEXT: Będę tęsknić za Robinem Williamsem i naprawdę czuję, że świat stał się wczoraj trochę mniej zabawny\n",
      "            - PREDICTED VALUE: 3\n",
      "            - CORRECT VALUE: 2\n",
      "            \n",
      "\n",
      "            BAD PREDICTION:\n",
      "            - INDEX: 454\n",
      "            - TEXT: Czuję, że wraca Casanova nie interesuje się tobą i nadal jesteś tak zachwycony nim\n",
      "            - PREDICTED VALUE: 0\n",
      "            - CORRECT VALUE: 2\n",
      "            \n",
      "\n",
      "            BAD PREDICTION:\n",
      "            - INDEX: 458\n",
      "            - TEXT: Nie nienawidziłem liceum i pamiętając te czasy nie sprawia, że czuję się torturowany lub coś innego niż człowiek, kiedy byłem byłem kawałek pracy\n",
      "            - PREDICTED VALUE: 5\n",
      "            - CORRECT VALUE: 4\n",
      "            \n",
      "\n",
      "            BAD PREDICTION:\n",
      "            - INDEX: 480\n",
      "            - TEXT: Czuję się łagodnie poszedł\n",
      "            - PREDICTED VALUE: 0\n",
      "            - CORRECT VALUE: 1\n",
      "            \n",
      "\n",
      "            BAD PREDICTION:\n",
      "            - INDEX: 485\n",
      "            - TEXT: Podoba mi się, jak byłem tym, który namalował lakier do paznokci, na którym jest coś, co prawie nie robię, ponieważ często kończę czując się niezadowolony z mojej pracy i wycierania wszystkiego off\n",
      "            - PREDICTED VALUE: 1\n",
      "            - CORRECT VALUE: 4\n",
      "            \n",
      "\n",
      "            BAD PREDICTION:\n",
      "            - INDEX: 496\n",
      "            - TEXT: Zawsze będę wzburzony i zmartwiony twoimi udrękami i cierpieniami, a z mojego utrapienia i udręki będę płakał nieustannie dla ciebie rano i wieczorem, a zamiast łez będę przelewał krew za ciebie.\n",
      "            - PREDICTED VALUE: 5\n",
      "            - CORRECT VALUE: 4\n",
      "            \n",
      "\n",
      "            BAD PREDICTION:\n",
      "            - INDEX: 497\n",
      "            - TEXT: Czuję się taka przytłoczona\n",
      "            - PREDICTED VALUE: 2\n",
      "            - CORRECT VALUE: 5\n",
      "            \n",
      "\n",
      "            BAD PREDICTION:\n",
      "            - INDEX: 511\n",
      "            - TEXT: Uważam, że rasizm i homofobia w Ameryce wynikają z ignorancji, a także z pragnienia pewności siebie.\n",
      "            - PREDICTED VALUE: 3\n",
      "            - CORRECT VALUE: 0\n",
      "            \n",
      "\n",
      "            BAD PREDICTION:\n",
      "            - INDEX: 516\n",
      "            - TEXT: Myślę, że straciliśmy coś w tym, że uczestniczymy w tych wydarzeniach tylko z daleka, chcąc dotknąć smaku, zobaczyć zapach i poczuć coś, ale chcąc się zdystansować, gdy dzieje się bałagan.\n",
      "            - PREDICTED VALUE: 5\n",
      "            - CORRECT VALUE: 3\n",
      "            \n",
      "\n",
      "            BAD PREDICTION:\n",
      "            - INDEX: 520\n",
      "            - TEXT: Czuję się bardziej jak mięczak niż Billy Graham na kółkach\n",
      "            - PREDICTED VALUE: 4\n",
      "            - CORRECT VALUE: 5\n",
      "            \n",
      "\n",
      "            BAD PREDICTION:\n",
      "            - INDEX: 529\n",
      "            - TEXT: Czułbym się sparaliżowany, ale już nie widziałem ciemnego, cieniującego potwora.\n",
      "            - PREDICTED VALUE: 3\n",
      "            - CORRECT VALUE: 5\n",
      "            \n",
      "\n",
      "            BAD PREDICTION:\n",
      "            - INDEX: 541\n",
      "            - TEXT: Powiedziałem jej wszystko o tym, jak cierpiałem przez te tygodnie żalu i czując, że będę przez nią znienawidzony na zawsze\n",
      "            - PREDICTED VALUE: 3\n",
      "            - CORRECT VALUE: 4\n",
      "            \n",
      "\n",
      "            BAD PREDICTION:\n",
      "            - INDEX: 546\n",
      "            - TEXT: Po prostu nie czułam się słodko przez jakiś czas.\n",
      "            - PREDICTED VALUE: 1\n",
      "            - CORRECT VALUE: 0\n",
      "            \n",
      "\n",
      "            BAD PREDICTION:\n",
      "            - INDEX: 559\n",
      "            - TEXT: Czuję, że Bóg daje ci tylko to, co możesz znieść, nawet gdy czujesz, że nie możesz i jesteś w takim wiernym duchu w tej chwili, gdy czuję potrzebę, abym poczuł się lepiej z tym głupim, desperackim postem\n",
      "            - PREDICTED VALUE: 3\n",
      "            - CORRECT VALUE: 1\n",
      "            \n",
      "\n",
      "            BAD PREDICTION:\n",
      "            - INDEX: 576\n",
      "            - TEXT: Nie wiem, co o tym myślę, ale teraz trochę się bawię.\n",
      "            - PREDICTED VALUE: 5\n",
      "            - CORRECT VALUE: 0\n",
      "            \n",
      "\n",
      "            BAD PREDICTION:\n",
      "            - INDEX: 580\n",
      "            - TEXT: Czuję, że fabuła nie czułbym się tak szybko, ale jak to jest drzewo trucizna spadła trochę płasko dla mnie i nie wierzę, że będzie zapamiętany tak pozytywnie jak większość dramatów, że kanał wyprodukował w roku 2000.\n",
      "            - PREDICTED VALUE: 3\n",
      "            - CORRECT VALUE: 4\n",
      "            \n",
      "\n",
      "            BAD PREDICTION:\n",
      "            - INDEX: 588\n",
      "            - TEXT: Czuję się smutny lub zły\n",
      "            - PREDICTED VALUE: 3\n",
      "            - CORRECT VALUE: 4\n",
      "            \n",
      "\n",
      "            BAD PREDICTION:\n",
      "            - INDEX: 600\n",
      "            - TEXT: Nie czuję się tak, kiedy jestem trochę zestresowany rzeczami, kiedy presja jest na i muszę kopać trochę głębiej w środku, aby rzeczy się stały\n",
      "            - PREDICTED VALUE: 4\n",
      "            - CORRECT VALUE: 3\n",
      "            \n",
      "\n",
      "            BAD PREDICTION:\n",
      "            - INDEX: 607\n",
      "            - TEXT: Naprawdę czuję, że warto się tym przejmować\n",
      "            - PREDICTED VALUE: 4\n",
      "            - CORRECT VALUE: 1\n",
      "            \n",
      "\n",
      "            BAD PREDICTION:\n",
      "            - INDEX: 609\n",
      "            - TEXT: Czuję się jak sprzedawca czuję się jak człowiek chciałbym się z niego nabijać powiedział\n",
      "            - PREDICTED VALUE: 4\n",
      "            - CORRECT VALUE: 3\n",
      "            \n",
      "\n",
      "            BAD PREDICTION:\n",
      "            - INDEX: 641\n",
      "            - TEXT: Czuję, że siły powietrzne mnie znęcają, zmuszając mnie do tego.\n",
      "            - PREDICTED VALUE: 4\n",
      "            - CORRECT VALUE: 3\n",
      "            \n",
      "\n",
      "            BAD PREDICTION:\n",
      "            - INDEX: 644\n",
      "            - TEXT: kiedy uczyłem studenta zaczął robić głupie uwagi w klasie\n",
      "            - PREDICTED VALUE: 3\n",
      "            - CORRECT VALUE: 4\n",
      "            \n",
      "\n",
      "            BAD PREDICTION:\n",
      "            - INDEX: 657\n",
      "            - TEXT: Podróżowałem lokalnym pociągiem, kiedy pijany\n",
      "            - PREDICTED VALUE: 5\n",
      "            - CORRECT VALUE: 4\n",
      "            \n",
      "\n",
      "            BAD PREDICTION:\n",
      "            - INDEX: 664\n",
      "            - TEXT: Na drodze było martwe zwierzę z wnętrznościami i zmiażdżoną czaszką.\n",
      "            - PREDICTED VALUE: 5\n",
      "            - CORRECT VALUE: 4\n",
      "            \n",
      "\n",
      "            BAD PREDICTION:\n",
      "            - INDEX: 667\n",
      "            - TEXT: Zacząłem iść w dół przygody czując się całkowicie niedorzecznie i zastanawiając się, czy to nie było tylko stratą mojego czasu, kiedy zobaczyłem ten zrzut ekranu\n",
      "            - PREDICTED VALUE: 2\n",
      "            - CORRECT VALUE: 3\n",
      "            \n",
      "\n",
      "            BAD PREDICTION:\n",
      "            - INDEX: 669\n",
      "            - TEXT: Nie próbowałem się bronić, raczej miałem wrażenie, że coś mnie dręczy.\n",
      "            - PREDICTED VALUE: 5\n",
      "            - CORRECT VALUE: 4\n",
      "            \n",
      "\n",
      "            BAD PREDICTION:\n",
      "            - INDEX: 682\n",
      "            - TEXT: Czuję się znienawidzony href http predmore\n",
      "            - PREDICTED VALUE: 3\n",
      "            - CORRECT VALUE: 4\n",
      "            \n",
      "\n",
      "            BAD PREDICTION:\n",
      "            - INDEX: 689\n",
      "            - TEXT: Żal mi ich z jakichkolwiek powodów, które zdają się nosić na t wiem jak to jest stać tak delikatnie i troskliwie\n",
      "            - PREDICTED VALUE: 3\n",
      "            - CORRECT VALUE: 1\n",
      "            \n",
      "\n",
      "            BAD PREDICTION:\n",
      "            - INDEX: 698\n",
      "            - TEXT: Jestem zmęczony gniewem na świat i zmęczony strachem przed budzeniem się każdego ranka.\n",
      "            - PREDICTED VALUE: 5\n",
      "            - CORRECT VALUE: 4\n",
      "            \n",
      "\n",
      "            BAD PREDICTION:\n",
      "            - INDEX: 706\n",
      "            - TEXT: Ciągle czuję się źle, ponieważ codziennie wchodzę w interakcje z ludźmi o niskim IQ i zasadniczo idiotami.\n",
      "            - PREDICTED VALUE: 3\n",
      "            - CORRECT VALUE: 4\n",
      "            \n",
      "\n",
      "            BAD PREDICTION:\n",
      "            - INDEX: 716\n",
      "            - TEXT: Jestem dobry w czymś, co mnie pasjonuje, a wszyscy inni studenci, którzy ukończyli ten rok, są na tej samej łodzi, co dzieje się po tym, jak zostali wykluczeni.\n",
      "            - PREDICTED VALUE: 1\n",
      "            - CORRECT VALUE: 0\n",
      "            \n",
      "\n",
      "            BAD PREDICTION:\n",
      "            - INDEX: 717\n",
      "            - TEXT: Ledwo ruszyłem się z kanapy, po prostu dużo czytania przy komputerze i ogólne poczucie, że nie mogę się kłopotać, aby wstać i wyjść z niczego\n",
      "            - PREDICTED VALUE: 3\n",
      "            - CORRECT VALUE: 4\n",
      "            \n",
      "\n",
      "            BAD PREDICTION:\n",
      "            - INDEX: 720\n",
      "            - TEXT: Czuję się bardzo błogosławiona, że mam męża, który tak bardzo mnie kocha i jest tak dostosowany do moich potrzeb.\n",
      "            - PREDICTED VALUE: 1\n",
      "            - CORRECT VALUE: 0\n",
      "            \n",
      "\n",
      "            BAD PREDICTION:\n",
      "            - INDEX: 722\n",
      "            - TEXT: Czuję tylko spokój, że wszystko się jakoś ułoży, nawet jeśli mój gpa jest do bani.\n",
      "            - PREDICTED VALUE: 3\n",
      "            - CORRECT VALUE: 0\n",
      "            \n",
      "\n",
      "            BAD PREDICTION:\n",
      "            - INDEX: 723\n",
      "            - TEXT: Naprawdę mi się podobało i mam wrażenie, że ukochany też by to polubił, z wyjątkiem tego, że wciąż jest daleko i przegapił\n",
      "            - PREDICTED VALUE: 1\n",
      "            - CORRECT VALUE: 0\n",
      "            \n",
      "\n",
      "            BAD PREDICTION:\n",
      "            - INDEX: 733\n",
      "            - TEXT: Poznałem mojego drogiego przyjaciela po długim czasie wyraziłem moje uczucia w nasz własny zwykły sposób\n",
      "            - PREDICTED VALUE: 3\n",
      "            - CORRECT VALUE: 0\n",
      "            \n",
      "\n",
      "            BAD PREDICTION:\n",
      "            - INDEX: 740\n",
      "            - TEXT: Chcę ponownie włączyć się w całą dyskusję na temat antydepresantów Nie jestem ekspertem medycznym Mogę tylko przekazać moją historię i to, co czuję, że Bóg wywarł wpływ na moje serce w mojej sytuacji i czyniąc to, módl się, aby zachęciło cię to do poszukiwania Jego dobrej i doskonałej woli dla twojego życia, jak również\n",
      "            - PREDICTED VALUE: 0\n",
      "            - CORRECT VALUE: 2\n",
      "            \n",
      "\n",
      "            BAD PREDICTION:\n",
      "            - INDEX: 746\n",
      "            - TEXT: Jechałem ponad miesiąc po lewej stronie i teraz czuję się dziwnie, aby zmienić ponownie\n",
      "            - PREDICTED VALUE: 2\n",
      "            - CORRECT VALUE: 5\n",
      "            \n",
      "\n",
      "            BAD PREDICTION:\n",
      "            - INDEX: 753\n",
      "            - TEXT: Wstyd mi, że kiedykolwiek podziwiałem tę świnię.\n",
      "            - PREDICTED VALUE: 3\n",
      "            - CORRECT VALUE: 1\n",
      "            \n",
      "\n",
      "            BAD PREDICTION:\n",
      "            - INDEX: 755\n",
      "            - TEXT: Cieszę się, że czuje się tak zaniepokojony moją złością, jak ja.\n",
      "            - PREDICTED VALUE: 5\n",
      "            - CORRECT VALUE: 3\n",
      "            \n",
      "\n",
      "            BAD PREDICTION:\n",
      "            - INDEX: 759\n",
      "            - TEXT: Czuję się wzburzony bez powodu\n",
      "            - PREDICTED VALUE: 5\n",
      "            - CORRECT VALUE: 4\n",
      "            \n",
      "\n",
      "            BAD PREDICTION:\n",
      "            - INDEX: 763\n",
      "            - TEXT: Czuję się chory i słaby\n",
      "            - PREDICTED VALUE: 3\n",
      "            - CORRECT VALUE: 2\n",
      "            \n",
      "\n",
      "            BAD PREDICTION:\n",
      "            - INDEX: 799\n",
      "            - TEXT: Będę nadal wspierać moich przyjaciół, którzy zdecydują się karmić piersią, ale będę też tam dla moich przyjaciół, którzy czują się winni wybierając zamiast tego formułę\n",
      "            - PREDICTED VALUE: 1\n",
      "            - CORRECT VALUE: 3\n",
      "            \n",
      "\n",
      "            BAD PREDICTION:\n",
      "            - INDEX: 820\n",
      "            - TEXT: Nadal czuję się dziwnie z powodu płaszcza wolności\n",
      "            - PREDICTED VALUE: 2\n",
      "            - CORRECT VALUE: 5\n",
      "            \n",
      "\n",
      "            BAD PREDICTION:\n",
      "            - INDEX: 822\n",
      "            - TEXT: Kocham moją koszulkę maratońską, ale czuję się trochę dziwnie nosząc ją, jakbym próbował się przechwalać czy coś\n",
      "            - PREDICTED VALUE: 2\n",
      "            - CORRECT VALUE: 5\n",
      "            \n",
      "\n",
      "            BAD PREDICTION:\n",
      "            - INDEX: 825\n",
      "            - TEXT: Wydaje mi się, że pamiętam, że to był złoty kurz, a nie złote bilety w stylu Willy Winka, ale czuję się hojny i chociaż podobał mi się nowy płyta dla mnie przeprojektowanie po prostu nie zadziałało\n",
      "            - PREDICTED VALUE: 1\n",
      "            - CORRECT VALUE: 0\n",
      "            \n",
      "\n",
      "            BAD PREDICTION:\n",
      "            - INDEX: 845\n",
      "            - TEXT: ive made it through a Week I just feel beat down\n",
      "            - PREDICTED VALUE: 5\n",
      "            - CORRECT VALUE: 3\n",
      "            \n",
      "\n",
      "            BAD PREDICTION:\n",
      "            - INDEX: 853\n",
      "            - TEXT: Dobre wieści o chorym krewnym\n",
      "            - PREDICTED VALUE: 3\n",
      "            - CORRECT VALUE: 0\n",
      "            \n",
      "\n",
      "            BAD PREDICTION:\n",
      "            - INDEX: 867\n",
      "            - TEXT: Czuję się zaniepokojony tym problemem powinienem lub nie powinienem\n",
      "            - PREDICTED VALUE: 5\n",
      "            - CORRECT VALUE: 3\n",
      "            \n",
      "\n",
      "            BAD PREDICTION:\n",
      "            - INDEX: 877\n",
      "            - TEXT: Wiem jak to jest być znienawidzonym\n",
      "            - PREDICTED VALUE: 3\n",
      "            - CORRECT VALUE: 4\n",
      "            \n",
      "\n",
      "            BAD PREDICTION:\n",
      "            - INDEX: 886\n",
      "            - TEXT: Wierzę, że choć nie zawsze czuję się szczególnie wierny\n",
      "            - PREDICTED VALUE: 1\n",
      "            - CORRECT VALUE: 0\n",
      "            \n",
      "\n",
      "            BAD PREDICTION:\n",
      "            - INDEX: 890\n",
      "            - TEXT: Powiedziałem Justinowi kilka dni temu, że czuję się lepiej fizycznie niż od jakiegoś czasu.\n",
      "            - PREDICTED VALUE: 3\n",
      "            - CORRECT VALUE: 0\n",
      "            \n",
      "\n",
      "            BAD PREDICTION:\n",
      "            - INDEX: 898\n",
      "            - TEXT: Jestem podekscytowany, aby narysować kolaż farb i ubrudzić sobie ręce, ale z jakiegokolwiek powodu czuję się trochę przytłoczony\n",
      "            - PREDICTED VALUE: 2\n",
      "            - CORRECT VALUE: 5\n",
      "            \n",
      "\n",
      "            BAD PREDICTION:\n",
      "            - INDEX: 903\n",
      "            - TEXT: Mogę kłamać niewykryty czuć się jak mogę umrzeć bez ochrony od bezpiecznego jak domy James jest pewien, aby wciągnąć cię do swojego świata i trzymać cię w swoim uścisku, dopóki nie jest pewien, że masz jego wiadomość\n",
      "            - PREDICTED VALUE: 0\n",
      "            - CORRECT VALUE: 5\n",
      "            \n",
      "\n",
      "            BAD PREDICTION:\n",
      "            - INDEX: 906\n",
      "            - TEXT: Odkryłem, że całkowita niechęć jest emocją, którą mogę czuć wobec moich bliskich\n",
      "            - PREDICTED VALUE: 5\n",
      "            - CORRECT VALUE: 1\n",
      "            \n",
      "\n",
      "            BAD PREDICTION:\n",
      "            - INDEX: 911\n",
      "            - TEXT: To znaczy, że nie jestem dumny z bycia chcianym przez kogoś, ale po prostu zdaję sobie sprawę, jak to jest być nieakceptowanym.\n",
      "            - PREDICTED VALUE: 3\n",
      "            - CORRECT VALUE: 0\n",
      "            \n",
      "\n",
      "            BAD PREDICTION:\n",
      "            - INDEX: 919\n",
      "            - TEXT: Czuję się dość torturowany, ponieważ pracuję i często inspiracja uderza, gdy jestem w pracy\n",
      "            - PREDICTED VALUE: 5\n",
      "            - CORRECT VALUE: 4\n",
      "            \n"
     ]
    }
   ],
   "source": [
    "model_utils.print_incorrectly_predicted_texts(texts=test_dataset['text'],\n",
    "                                              class_actual=test_dataset['label'],\n",
    "                                              class_preds=hybrid_preds,\n",
    "                                              number_of_incorrect_preds=100)"
   ],
   "metadata": {
    "collapsed": false,
    "ExecuteTime": {
     "end_time": "2023-06-19T17:48:03.587136500Z",
     "start_time": "2023-06-19T17:48:03.538208300Z"
    }
   }
  },
  {
   "cell_type": "code",
   "execution_count": 21,
   "outputs": [
    {
     "data": {
      "text/plain": "                                                   text  label  prediction\n0     Myślę, że to prawdopodobnie dobry pomysł, wcią...      5           5\n1     Wciąż czuję, że wciąż boję się tego uczucia i ...      5           5\n2     Ostatnio czuję się dość nostalgicznie, ale to ...      1           1\n3     Jestem pod wrażeniem, że udało mi się wyciągną...      2           2\n4     Nie sądzę, że wymieniłem choć jeden uśmiech z ...      2           2\n...                                                 ...    ...         ...\n3995          Czuję się wspaniale zrelaksowany w wyniku      0           0\n3996  Czuję się zrzędliwy teraz fani futbolu obudzil...      4           4\n3997  są związani z tym, co robią, pomimo tego, jak ...      0           5\n3998  Czuję i będziesz zaskoczony zmianami, które na...      2           2\n3999  Czuję się wściekły na siebie za zdobycie ponad...      4           4\n\n[4000 rows x 3 columns]",
      "text/html": "<div>\n<style scoped>\n    .dataframe tbody tr th:only-of-type {\n        vertical-align: middle;\n    }\n\n    .dataframe tbody tr th {\n        vertical-align: top;\n    }\n\n    .dataframe thead th {\n        text-align: right;\n    }\n</style>\n<table border=\"1\" class=\"dataframe\">\n  <thead>\n    <tr style=\"text-align: right;\">\n      <th></th>\n      <th>text</th>\n      <th>label</th>\n      <th>prediction</th>\n    </tr>\n  </thead>\n  <tbody>\n    <tr>\n      <th>0</th>\n      <td>Myślę, że to prawdopodobnie dobry pomysł, wcią...</td>\n      <td>5</td>\n      <td>5</td>\n    </tr>\n    <tr>\n      <th>1</th>\n      <td>Wciąż czuję, że wciąż boję się tego uczucia i ...</td>\n      <td>5</td>\n      <td>5</td>\n    </tr>\n    <tr>\n      <th>2</th>\n      <td>Ostatnio czuję się dość nostalgicznie, ale to ...</td>\n      <td>1</td>\n      <td>1</td>\n    </tr>\n    <tr>\n      <th>3</th>\n      <td>Jestem pod wrażeniem, że udało mi się wyciągną...</td>\n      <td>2</td>\n      <td>2</td>\n    </tr>\n    <tr>\n      <th>4</th>\n      <td>Nie sądzę, że wymieniłem choć jeden uśmiech z ...</td>\n      <td>2</td>\n      <td>2</td>\n    </tr>\n    <tr>\n      <th>...</th>\n      <td>...</td>\n      <td>...</td>\n      <td>...</td>\n    </tr>\n    <tr>\n      <th>3995</th>\n      <td>Czuję się wspaniale zrelaksowany w wyniku</td>\n      <td>0</td>\n      <td>0</td>\n    </tr>\n    <tr>\n      <th>3996</th>\n      <td>Czuję się zrzędliwy teraz fani futbolu obudzil...</td>\n      <td>4</td>\n      <td>4</td>\n    </tr>\n    <tr>\n      <th>3997</th>\n      <td>są związani z tym, co robią, pomimo tego, jak ...</td>\n      <td>0</td>\n      <td>5</td>\n    </tr>\n    <tr>\n      <th>3998</th>\n      <td>Czuję i będziesz zaskoczony zmianami, które na...</td>\n      <td>2</td>\n      <td>2</td>\n    </tr>\n    <tr>\n      <th>3999</th>\n      <td>Czuję się wściekły na siebie za zdobycie ponad...</td>\n      <td>4</td>\n      <td>4</td>\n    </tr>\n  </tbody>\n</table>\n<p>4000 rows × 3 columns</p>\n</div>"
     },
     "execution_count": 21,
     "metadata": {},
     "output_type": "execute_result"
    }
   ],
   "source": [
    "test_df = pd.DataFrame(\n",
    "    list(zip(test_dataset['text'], test_dataset['label'], hybrid_preds)),\n",
    "    columns=['text', 'label', 'prediction'])\n",
    "test_df"
   ],
   "metadata": {
    "collapsed": false,
    "ExecuteTime": {
     "end_time": "2023-06-19T17:46:33.204251600Z",
     "start_time": "2023-06-19T17:46:33.139356300Z"
    }
   }
  },
  {
   "cell_type": "code",
   "execution_count": 22,
   "outputs": [
    {
     "data": {
      "text/plain": "                                                   text  label  prediction  \\\n0     Myślę, że to prawdopodobnie dobry pomysł, wcią...      5           5   \n1     Wciąż czuję, że wciąż boję się tego uczucia i ...      5           5   \n2     Ostatnio czuję się dość nostalgicznie, ale to ...      1           1   \n3     Jestem pod wrażeniem, że udało mi się wyciągną...      2           2   \n4     Nie sądzę, że wymieniłem choć jeden uśmiech z ...      2           2   \n...                                                 ...    ...         ...   \n3995          Czuję się wspaniale zrelaksowany w wyniku      0           0   \n3996  Czuję się zrzędliwy teraz fani futbolu obudzil...      4           4   \n3997  są związani z tym, co robią, pomimo tego, jak ...      0           5   \n3998  Czuję i będziesz zaskoczony zmianami, które na...      2           2   \n3999  Czuję się wściekły na siebie za zdobycie ponad...      4           4   \n\n      token_count count_belonging  correctly_predicted  \n0              13           12-17                    1  \n1              21           18-23                    1  \n2              16           12-17                    1  \n3              11            6-11                    1  \n4              17           12-17                    1  \n...           ...             ...                  ...  \n3995            6            6-11                    1  \n3996           12           12-17                    1  \n3997           22           18-23                    0  \n3998            9            6-11                    1  \n3999           15           12-17                    1  \n\n[4000 rows x 6 columns]",
      "text/html": "<div>\n<style scoped>\n    .dataframe tbody tr th:only-of-type {\n        vertical-align: middle;\n    }\n\n    .dataframe tbody tr th {\n        vertical-align: top;\n    }\n\n    .dataframe thead th {\n        text-align: right;\n    }\n</style>\n<table border=\"1\" class=\"dataframe\">\n  <thead>\n    <tr style=\"text-align: right;\">\n      <th></th>\n      <th>text</th>\n      <th>label</th>\n      <th>prediction</th>\n      <th>token_count</th>\n      <th>count_belonging</th>\n      <th>correctly_predicted</th>\n    </tr>\n  </thead>\n  <tbody>\n    <tr>\n      <th>0</th>\n      <td>Myślę, że to prawdopodobnie dobry pomysł, wcią...</td>\n      <td>5</td>\n      <td>5</td>\n      <td>13</td>\n      <td>12-17</td>\n      <td>1</td>\n    </tr>\n    <tr>\n      <th>1</th>\n      <td>Wciąż czuję, że wciąż boję się tego uczucia i ...</td>\n      <td>5</td>\n      <td>5</td>\n      <td>21</td>\n      <td>18-23</td>\n      <td>1</td>\n    </tr>\n    <tr>\n      <th>2</th>\n      <td>Ostatnio czuję się dość nostalgicznie, ale to ...</td>\n      <td>1</td>\n      <td>1</td>\n      <td>16</td>\n      <td>12-17</td>\n      <td>1</td>\n    </tr>\n    <tr>\n      <th>3</th>\n      <td>Jestem pod wrażeniem, że udało mi się wyciągną...</td>\n      <td>2</td>\n      <td>2</td>\n      <td>11</td>\n      <td>6-11</td>\n      <td>1</td>\n    </tr>\n    <tr>\n      <th>4</th>\n      <td>Nie sądzę, że wymieniłem choć jeden uśmiech z ...</td>\n      <td>2</td>\n      <td>2</td>\n      <td>17</td>\n      <td>12-17</td>\n      <td>1</td>\n    </tr>\n    <tr>\n      <th>...</th>\n      <td>...</td>\n      <td>...</td>\n      <td>...</td>\n      <td>...</td>\n      <td>...</td>\n      <td>...</td>\n    </tr>\n    <tr>\n      <th>3995</th>\n      <td>Czuję się wspaniale zrelaksowany w wyniku</td>\n      <td>0</td>\n      <td>0</td>\n      <td>6</td>\n      <td>6-11</td>\n      <td>1</td>\n    </tr>\n    <tr>\n      <th>3996</th>\n      <td>Czuję się zrzędliwy teraz fani futbolu obudzil...</td>\n      <td>4</td>\n      <td>4</td>\n      <td>12</td>\n      <td>12-17</td>\n      <td>1</td>\n    </tr>\n    <tr>\n      <th>3997</th>\n      <td>są związani z tym, co robią, pomimo tego, jak ...</td>\n      <td>0</td>\n      <td>5</td>\n      <td>22</td>\n      <td>18-23</td>\n      <td>0</td>\n    </tr>\n    <tr>\n      <th>3998</th>\n      <td>Czuję i będziesz zaskoczony zmianami, które na...</td>\n      <td>2</td>\n      <td>2</td>\n      <td>9</td>\n      <td>6-11</td>\n      <td>1</td>\n    </tr>\n    <tr>\n      <th>3999</th>\n      <td>Czuję się wściekły na siebie za zdobycie ponad...</td>\n      <td>4</td>\n      <td>4</td>\n      <td>15</td>\n      <td>12-17</td>\n      <td>1</td>\n    </tr>\n  </tbody>\n</table>\n<p>4000 rows × 6 columns</p>\n</div>"
     },
     "execution_count": 22,
     "metadata": {},
     "output_type": "execute_result"
    }
   ],
   "source": [
    "def map_token_counts(row):\n",
    "    return len(row['text'].split())\n",
    "\n",
    "def map_count_belonging(row, divider):\n",
    "    int_division_result = int(row['token_count'] / divider) + 1\n",
    "    lower_boundary = divider * int_division_result - divider\n",
    "    upper_boundary = divider * int_division_result - 1\n",
    "    return f\"{lower_boundary}-{upper_boundary}\"\n",
    "\n",
    "def map_correctly_predicted(row):\n",
    "    return int(row['label'] == row['prediction'])\n",
    "\n",
    "\n",
    "test_df['token_count'] = test_df.apply(lambda row: map_token_counts(row), axis=1)\n",
    "test_df['count_belonging'] = test_df.apply(lambda row: map_count_belonging(row, divider=6), axis=1)\n",
    "test_df['correctly_predicted'] = test_df.apply(lambda row: map_correctly_predicted(row), axis=1)\n",
    "test_df"
   ],
   "metadata": {
    "collapsed": false,
    "ExecuteTime": {
     "end_time": "2023-06-19T17:46:34.484472900Z",
     "start_time": "2023-06-19T17:46:34.423188900Z"
    }
   }
  },
  {
   "cell_type": "code",
   "execution_count": 23,
   "outputs": [],
   "source": [
    "test_df = test_df.drop(test_df[test_df.token_count > 41].index)"
   ],
   "metadata": {
    "collapsed": false,
    "ExecuteTime": {
     "end_time": "2023-06-19T17:46:36.255964600Z",
     "start_time": "2023-06-19T17:46:36.242424100Z"
    }
   }
  },
  {
   "cell_type": "code",
   "execution_count": 24,
   "outputs": [],
   "source": [
    "test_df = test_df.sort_values(by=['token_count']).reset_index(drop=True)"
   ],
   "metadata": {
    "collapsed": false,
    "ExecuteTime": {
     "end_time": "2023-06-19T17:46:36.617218900Z",
     "start_time": "2023-06-19T17:46:36.592598900Z"
    }
   }
  },
  {
   "cell_type": "code",
   "execution_count": 25,
   "outputs": [
    {
     "data": {
      "text/plain": "<Figure size 640x480 with 1 Axes>",
      "image/png": "[encoded data removed]"
     },
     "metadata": {},
     "output_type": "display_data"
    }
   ],
   "source": [
    "data = test_df['count_belonging']\n",
    "data.value_counts(sort=False).plot.bar()\n",
    "plt.xlabel('Token count range')\n",
    "plt.ylabel('Count')\n",
    "plt.savefig(os.path.join(figures_dir, f'{training_name}_counts_per_range.png'))\n",
    "plt.show()"
   ],
   "metadata": {
    "collapsed": false,
    "ExecuteTime": {
     "end_time": "2023-06-19T17:46:37.045132100Z",
     "start_time": "2023-06-19T17:46:36.916002Z"
    }
   }
  },
  {
   "cell_type": "code",
   "execution_count": 26,
   "outputs": [],
   "source": [
    "range_to_valid_predictions_count_dict = {'0-5': 0, '6-11': 0, '12-17': 0, '18-23': 0, '24-29': 0, '30-35': 0, '36-41': 0}\n",
    "range_to_element_count_dict = {'0-5': 0, '6-11': 0, '12-17': 0, '18-23': 0, '24-29': 0, '30-35': 0, '36-41': 0}\n",
    "range_to_pred_accuracy_dict = {'0-5': 0., '6-11': 0., '12-17': 0., '18-23': 0., '24-29': 0., '30-35': 0., '36-41': 0.}"
   ],
   "metadata": {
    "collapsed": false,
    "ExecuteTime": {
     "end_time": "2023-06-19T17:46:37.515099400Z",
     "start_time": "2023-06-19T17:46:37.494993300Z"
    }
   }
  },
  {
   "cell_type": "code",
   "execution_count": 27,
   "outputs": [
    {
     "name": "stdout",
     "output_type": "stream",
     "text": [
      "Correct predictions count:  {'0-5': 340, '6-11': 977, '12-17': 949, '18-23': 602, '24-29': 330, '30-35': 167, '36-41': 74}\n",
      "Element count:  {'0-5': 386, '6-11': 1106, '12-17': 1064, '18-23': 702, '24-29': 383, '30-35': 197, '36-41': 93}\n",
      "Accuracies:  {'0-5': 0.8808290155440415, '6-11': 0.8833634719710669, '12-17': 0.8919172932330827, '18-23': 0.8575498575498576, '24-29': 0.8616187989556136, '30-35': 0.8477157360406091, '36-41': 0.7956989247311828}\n"
     ]
    }
   ],
   "source": [
    "for _, row in test_df.iterrows():\n",
    "    count_belonging = row['count_belonging']\n",
    "\n",
    "    range_to_element_count_dict[count_belonging] = range_to_element_count_dict[count_belonging] + 1\n",
    "\n",
    "    if row['correctly_predicted']:\n",
    "        range_to_valid_predictions_count_dict[count_belonging] = range_to_valid_predictions_count_dict[count_belonging] + 1\n",
    "\n",
    "for key in range_to_pred_accuracy_dict.keys():\n",
    "    range_to_pred_accuracy_dict[key] = range_to_valid_predictions_count_dict[key] / range_to_element_count_dict[key]\n",
    "\n",
    "print(\"Correct predictions count: \", range_to_valid_predictions_count_dict)\n",
    "print(\"Element count: \", range_to_element_count_dict)\n",
    "print(\"Accuracies: \", range_to_pred_accuracy_dict)"
   ],
   "metadata": {
    "collapsed": false,
    "ExecuteTime": {
     "end_time": "2023-06-19T17:46:38.138182Z",
     "start_time": "2023-06-19T17:46:38.038467200Z"
    }
   }
  },
  {
   "cell_type": "code",
   "execution_count": 28,
   "outputs": [
    {
     "data": {
      "text/plain": "<Figure size 640x480 with 1 Axes>",
      "image/png": "[encoded data removed]"
     },
     "metadata": {},
     "output_type": "display_data"
    }
   ],
   "source": [
    "import matplotlib.ticker as mtick\n",
    "\n",
    "plt.bar(['0-5', '6-11', '12-17', '18-23', '24-29', '30-35', '36-41'], [val for val in range_to_pred_accuracy_dict.values()])\n",
    "plt.xlabel('Token count range')\n",
    "plt.ylabel('Accuracy')\n",
    "plt.gca().yaxis.set_major_formatter(mtick.PercentFormatter(xmax=1.0))\n",
    "plt.savefig(os.path.join(figures_dir, f'{training_name}_accuracies_per_range.png'))\n",
    "plt.show()"
   ],
   "metadata": {
    "collapsed": false,
    "ExecuteTime": {
     "end_time": "2023-06-19T17:46:38.951188400Z",
     "start_time": "2023-06-19T17:46:38.854080Z"
    }
   }
  },
  {
   "cell_type": "code",
   "execution_count": null,
   "outputs": [],
   "source": [],
   "metadata": {
    "collapsed": false
   }
  }
 ],
 "metadata": {
  "kernelspec": {
   "display_name": "Python 3",
   "language": "python",
   "name": "python3"
  },
  "language_info": {
   "codemirror_mode": {
    "name": "ipython",
    "version": 2
   },
   "file_extension": ".py",
   "mimetype": "text/x-python",
   "name": "python",
   "nbconvert_exporter": "python",
   "pygments_lexer": "ipython2",
   "version": "2.7.6"
  }
 },
 "nbformat": 4,
 "nbformat_minor": 0
}
