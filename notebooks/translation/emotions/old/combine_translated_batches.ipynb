{
 "cells": [
  {
   "cell_type": "code",
   "execution_count": 1,
   "outputs": [],
   "source": [
    "import pandas as pd"
   ],
   "metadata": {
    "collapsed": false,
    "ExecuteTime": {
     "end_time": "2023-05-26T10:41:04.408185400Z",
     "start_time": "2023-05-26T10:41:03.581009100Z"
    }
   }
  },
  {
   "cell_type": "code",
   "execution_count": 2,
   "metadata": {
    "collapsed": true,
    "ExecuteTime": {
     "end_time": "2023-05-26T10:41:21.970138300Z",
     "start_time": "2023-05-26T10:41:21.855101600Z"
    }
   },
   "outputs": [],
   "source": [
    "df_00000_10158 = pd.read_json('../../../data/translated/emotions/00000_10158_emotions_dataset_pl.json')\n",
    "df_10158_16000 = pd.read_json('../../../data/translated/emotions/10158_16000_emotions_dataset_pl.json')\n",
    "df_16000_22000 = pd.read_json('../../../data/translated/emotions/16000_22000_emotions_dataset_pl.json')\n",
    "df_22000_28000 = pd.read_json('../../../data/translated/emotions/22000_28000_emotions_dataset_pl.json')\n",
    "df_28000_34000 = pd.read_json('../../../data/translated/emotions/28000_34000_emotions_dataset_pl.json')\n",
    "df_34000_40000 = pd.read_json('../../../data/translated/emotions/34000_40000_emotions_dataset_pl.json')\n",
    "\n",
    "combined_df = pd.concat([df_00000_10158, df_10158_16000, df_16000_22000, df_22000_28000, df_28000_34000, df_34000_40000], ignore_index=True)"
   ]
  },
  {
   "cell_type": "code",
   "execution_count": 3,
   "outputs": [
    {
     "data": {
      "text/plain": "                                                    text emotions  \\\n0      i feel awful about it too because it s my job ...  sadness   \n1                                  im alone i feel awful  sadness   \n2      ive probably mentioned this before but i reall...      joy   \n3               i was feeling a little low few days back  sadness   \n4      i beleive that i am much more sensitive to oth...     love   \n...                                                  ...      ...   \n39995  i witness what i feel helpless to change i tak...  sadness   \n39996  i feel unwelcome and i feel very self consciou...  sadness   \n39997  i feel like boston is so romantic when its rai...     love   \n39998  i thought sure i was coming down with somethin...      joy   \n39999  i cant be bothered to look it up right now and...      joy   \n\n                                                 text_pl  \n0      Też czuję się z tym okropnie, bo moim zadaniem...  \n1                         Jestem sama czuję się okropnie  \n2      Prawdopodobnie wspomniałem o tym wcześniej, al...  \n3                 Czułem się trochę nisko kilka dni temu  \n4      Wyobrażam sobie, że jestem znacznie bardziej w...  \n...                                                  ...  \n39995  Jestem świadkiem tego, co czuję się bezradny z...  \n39996  Czuję się niemile widziany i czuję się bardzo ...  \n39997  Czuję, że Boston jest taki romantyczny, kiedy ...  \n39998  Myślałem, że z czymś zejdę, ale dziś rano czuj...  \n39999  Nie mogę się teraz tym przejmować, pół kielisz...  \n\n[40000 rows x 3 columns]",
      "text/html": "<div>\n<style scoped>\n    .dataframe tbody tr th:only-of-type {\n        vertical-align: middle;\n    }\n\n    .dataframe tbody tr th {\n        vertical-align: top;\n    }\n\n    .dataframe thead th {\n        text-align: right;\n    }\n</style>\n<table border=\"1\" class=\"dataframe\">\n  <thead>\n    <tr style=\"text-align: right;\">\n      <th></th>\n      <th>text</th>\n      <th>emotions</th>\n      <th>text_pl</th>\n    </tr>\n  </thead>\n  <tbody>\n    <tr>\n      <th>0</th>\n      <td>i feel awful about it too because it s my job ...</td>\n      <td>sadness</td>\n      <td>Też czuję się z tym okropnie, bo moim zadaniem...</td>\n    </tr>\n    <tr>\n      <th>1</th>\n      <td>im alone i feel awful</td>\n      <td>sadness</td>\n      <td>Jestem sama czuję się okropnie</td>\n    </tr>\n    <tr>\n      <th>2</th>\n      <td>ive probably mentioned this before but i reall...</td>\n      <td>joy</td>\n      <td>Prawdopodobnie wspomniałem o tym wcześniej, al...</td>\n    </tr>\n    <tr>\n      <th>3</th>\n      <td>i was feeling a little low few days back</td>\n      <td>sadness</td>\n      <td>Czułem się trochę nisko kilka dni temu</td>\n    </tr>\n    <tr>\n      <th>4</th>\n      <td>i beleive that i am much more sensitive to oth...</td>\n      <td>love</td>\n      <td>Wyobrażam sobie, że jestem znacznie bardziej w...</td>\n    </tr>\n    <tr>\n      <th>...</th>\n      <td>...</td>\n      <td>...</td>\n      <td>...</td>\n    </tr>\n    <tr>\n      <th>39995</th>\n      <td>i witness what i feel helpless to change i tak...</td>\n      <td>sadness</td>\n      <td>Jestem świadkiem tego, co czuję się bezradny z...</td>\n    </tr>\n    <tr>\n      <th>39996</th>\n      <td>i feel unwelcome and i feel very self consciou...</td>\n      <td>sadness</td>\n      <td>Czuję się niemile widziany i czuję się bardzo ...</td>\n    </tr>\n    <tr>\n      <th>39997</th>\n      <td>i feel like boston is so romantic when its rai...</td>\n      <td>love</td>\n      <td>Czuję, że Boston jest taki romantyczny, kiedy ...</td>\n    </tr>\n    <tr>\n      <th>39998</th>\n      <td>i thought sure i was coming down with somethin...</td>\n      <td>joy</td>\n      <td>Myślałem, że z czymś zejdę, ale dziś rano czuj...</td>\n    </tr>\n    <tr>\n      <th>39999</th>\n      <td>i cant be bothered to look it up right now and...</td>\n      <td>joy</td>\n      <td>Nie mogę się teraz tym przejmować, pół kielisz...</td>\n    </tr>\n  </tbody>\n</table>\n<p>40000 rows × 3 columns</p>\n</div>"
     },
     "execution_count": 3,
     "metadata": {},
     "output_type": "execute_result"
    }
   ],
   "source": [
    "combined_df"
   ],
   "metadata": {
    "collapsed": false,
    "ExecuteTime": {
     "end_time": "2023-05-26T10:41:22.658324700Z",
     "start_time": "2023-05-26T10:41:22.631222100Z"
    }
   }
  },
  {
   "cell_type": "code",
   "execution_count": 4,
   "outputs": [],
   "source": [
    "combined_df.to_json('../../../data/translated/emotions/emotions_dataset_pl.json')"
   ],
   "metadata": {
    "collapsed": false,
    "ExecuteTime": {
     "end_time": "2023-05-26T10:41:26.200672Z",
     "start_time": "2023-05-26T10:41:26.135781100Z"
    }
   }
  },
  {
   "cell_type": "code",
   "execution_count": null,
   "outputs": [],
   "source": [],
   "metadata": {
    "collapsed": false
   }
  }
 ],
 "metadata": {
  "kernelspec": {
   "display_name": "Python 3",
   "language": "python",
   "name": "python3"
  },
  "language_info": {
   "codemirror_mode": {
    "name": "ipython",
    "version": 2
   },
   "file_extension": ".py",
   "mimetype": "text/x-python",
   "name": "python",
   "nbconvert_exporter": "python",
   "pygments_lexer": "ipython2",
   "version": "2.7.6"
  }
 },
 "nbformat": 4,
 "nbformat_minor": 0
}
