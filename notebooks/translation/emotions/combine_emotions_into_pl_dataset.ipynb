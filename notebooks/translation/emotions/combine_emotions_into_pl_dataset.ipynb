{
 "cells": [
  {
   "cell_type": "code",
   "execution_count": 7,
   "outputs": [],
   "source": [
    "import pandas as pd"
   ],
   "metadata": {
    "collapsed": false,
    "ExecuteTime": {
     "end_time": "2023-06-01T11:48:25.745150400Z",
     "start_time": "2023-06-01T11:48:25.738152Z"
    }
   }
  },
  {
   "cell_type": "code",
   "execution_count": 8,
   "outputs": [],
   "source": [
    "df_anger = pd.read_json('../../../data/translated/emotions/intermediate/anger_emotions_dataset_pl.json')\n",
    "df_fear = pd.read_json('../../../data/translated/emotions/intermediate/fear_emotions_dataset_pl.json')\n",
    "df_joy = pd.read_json('../../../data/translated/emotions/intermediate/joy_emotions_dataset_pl.json')\n",
    "df_love = pd.read_json('../../../data/translated/emotions/intermediate/love_emotions_dataset_pl.json')\n",
    "df_sadness = pd.read_json('../../../data/translated/emotions/intermediate/sadness_emotions_dataset_pl.json')\n",
    "df_surprise = pd.read_json('../../../data/translated/emotions/intermediate/surprise_emotions_dataset_pl.json')\n",
    "\n",
    "frames = [df_anger, df_fear, df_joy, df_love, df_sadness, df_surprise]\n",
    "combined_df = pd.concat(frames, ignore_index=True)\n",
    "combined_df = combined_df.sample(frac=1)\n",
    "combined_df.reset_index(drop=True, inplace=True)"
   ],
   "metadata": {
    "collapsed": false,
    "ExecuteTime": {
     "end_time": "2023-06-01T11:48:26.694896600Z",
     "start_time": "2023-06-01T11:48:26.586393900Z"
    }
   }
  },
  {
   "cell_type": "code",
   "execution_count": 9,
   "outputs": [
    {
     "data": {
      "text/plain": "                                                    text  emotions  \\\n0                                  i feel totally greedy     anger   \n1                    i feel so overwhelmed with emotions      fear   \n2      i didnt feel the g force effect i am stunned i...  surprise   \n3      ive just got to tell you all that im feeling r...     anger   \n4      i told you i was sorry you were feeling frustr...     anger   \n...                                                  ...       ...   \n39995  im feeling quite generous lately as ive been w...       joy   \n39996  i feel like some of the characters dont deserv...      love   \n39997  im feel fear within my bones that cant be shak...      fear   \n39998  ive been feeling more creative and less like a...       joy   \n39999                  i feel devastated and help hellip   sadness   \n\n                                                 text_pl  \n0                            Czuję się całkowicie chciwy  \n1                    Czuję się tak przytłoczony emocjami  \n2      Nie czułem efektu siły g Jestem oszołomiony Po...  \n3      ive just got to tell you all that I feel Racze...  \n4      Powiedziałem ci, że przepraszam, że czujesz si...  \n...                                                  ...  \n39995  czuję się ostatnio dość hojny, ponieważ pracuj...  \n39996  Czuję, że niektóre postacie nie zasługują na w...  \n39997  Czuję strach w moich kościach, którego nie moż...  \n39998  Czułem się bardziej kreatywny i mniej jak czys...  \n39999          Czuję się zdruzgotany i pomagam Hellipowi  \n\n[40000 rows x 3 columns]",
      "text/html": "<div>\n<style scoped>\n    .dataframe tbody tr th:only-of-type {\n        vertical-align: middle;\n    }\n\n    .dataframe tbody tr th {\n        vertical-align: top;\n    }\n\n    .dataframe thead th {\n        text-align: right;\n    }\n</style>\n<table border=\"1\" class=\"dataframe\">\n  <thead>\n    <tr style=\"text-align: right;\">\n      <th></th>\n      <th>text</th>\n      <th>emotions</th>\n      <th>text_pl</th>\n    </tr>\n  </thead>\n  <tbody>\n    <tr>\n      <th>0</th>\n      <td>i feel totally greedy</td>\n      <td>anger</td>\n      <td>Czuję się całkowicie chciwy</td>\n    </tr>\n    <tr>\n      <th>1</th>\n      <td>i feel so overwhelmed with emotions</td>\n      <td>fear</td>\n      <td>Czuję się tak przytłoczony emocjami</td>\n    </tr>\n    <tr>\n      <th>2</th>\n      <td>i didnt feel the g force effect i am stunned i...</td>\n      <td>surprise</td>\n      <td>Nie czułem efektu siły g Jestem oszołomiony Po...</td>\n    </tr>\n    <tr>\n      <th>3</th>\n      <td>ive just got to tell you all that im feeling r...</td>\n      <td>anger</td>\n      <td>ive just got to tell you all that I feel Racze...</td>\n    </tr>\n    <tr>\n      <th>4</th>\n      <td>i told you i was sorry you were feeling frustr...</td>\n      <td>anger</td>\n      <td>Powiedziałem ci, że przepraszam, że czujesz si...</td>\n    </tr>\n    <tr>\n      <th>...</th>\n      <td>...</td>\n      <td>...</td>\n      <td>...</td>\n    </tr>\n    <tr>\n      <th>39995</th>\n      <td>im feeling quite generous lately as ive been w...</td>\n      <td>joy</td>\n      <td>czuję się ostatnio dość hojny, ponieważ pracuj...</td>\n    </tr>\n    <tr>\n      <th>39996</th>\n      <td>i feel like some of the characters dont deserv...</td>\n      <td>love</td>\n      <td>Czuję, że niektóre postacie nie zasługują na w...</td>\n    </tr>\n    <tr>\n      <th>39997</th>\n      <td>im feel fear within my bones that cant be shak...</td>\n      <td>fear</td>\n      <td>Czuję strach w moich kościach, którego nie moż...</td>\n    </tr>\n    <tr>\n      <th>39998</th>\n      <td>ive been feeling more creative and less like a...</td>\n      <td>joy</td>\n      <td>Czułem się bardziej kreatywny i mniej jak czys...</td>\n    </tr>\n    <tr>\n      <th>39999</th>\n      <td>i feel devastated and help hellip</td>\n      <td>sadness</td>\n      <td>Czuję się zdruzgotany i pomagam Hellipowi</td>\n    </tr>\n  </tbody>\n</table>\n<p>40000 rows × 3 columns</p>\n</div>"
     },
     "execution_count": 9,
     "metadata": {},
     "output_type": "execute_result"
    }
   ],
   "source": [
    "combined_df"
   ],
   "metadata": {
    "collapsed": false,
    "ExecuteTime": {
     "end_time": "2023-06-01T11:48:27.234449200Z",
     "start_time": "2023-06-01T11:48:27.211450200Z"
    }
   }
  },
  {
   "cell_type": "code",
   "execution_count": 10,
   "outputs": [],
   "source": [
    "combined_df.to_json('../../../data/translated/emotions/equalized_emotions_dataset_pl.json')"
   ],
   "metadata": {
    "collapsed": false,
    "ExecuteTime": {
     "end_time": "2023-06-01T11:48:31.791010600Z",
     "start_time": "2023-06-01T11:48:31.734749700Z"
    }
   }
  }
 ],
 "metadata": {
  "kernelspec": {
   "display_name": "Python 3",
   "language": "python",
   "name": "python3"
  },
  "language_info": {
   "codemirror_mode": {
    "name": "ipython",
    "version": 2
   },
   "file_extension": ".py",
   "mimetype": "text/x-python",
   "name": "python",
   "nbconvert_exporter": "python",
   "pygments_lexer": "ipython2",
   "version": "2.7.6"
  }
 },
 "nbformat": 4,
 "nbformat_minor": 0
}
