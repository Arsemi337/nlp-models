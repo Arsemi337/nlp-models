{
 "cells": [
  {
   "cell_type": "code",
   "execution_count": 1,
   "metadata": {
    "collapsed": true,
    "ExecuteTime": {
     "end_time": "2023-05-14T10:29:32.396425300Z",
     "start_time": "2023-05-14T10:29:27.847181800Z"
    }
   },
   "outputs": [],
   "source": [
    "import os\n",
    "\n",
    "import pandas as pd\n",
    "import tensorflow as tf\n",
    "import matplotlib.pyplot as plt\n",
    "import numpy as np"
   ]
  },
  {
   "cell_type": "code",
   "execution_count": 2,
   "outputs": [
    {
     "data": {
      "text/plain": "                                                     text emotions\n27383   i feel awful about it too because it s my job ...  sadness\n110083                              im alone i feel awful  sadness\n140764  ive probably mentioned this before but i reall...      joy\n100071           i was feeling a little low few days back  sadness\n2837    i beleive that i am much more sensitive to oth...     love\n...                                                   ...      ...\n566     that was what i felt when i was finally accept...      joy\n36236   i take every day as it comes i m just focussin...     fear\n76229       i just suddenly feel that everything was fake  sadness\n131640  im feeling more eager than ever to claw back w...      joy\n64703   i give you plenty of attention even when i fee...  sadness\n\n[416809 rows x 2 columns]",
      "text/html": "<div>\n<style scoped>\n    .dataframe tbody tr th:only-of-type {\n        vertical-align: middle;\n    }\n\n    .dataframe tbody tr th {\n        vertical-align: top;\n    }\n\n    .dataframe thead th {\n        text-align: right;\n    }\n</style>\n<table border=\"1\" class=\"dataframe\">\n  <thead>\n    <tr style=\"text-align: right;\">\n      <th></th>\n      <th>text</th>\n      <th>emotions</th>\n    </tr>\n  </thead>\n  <tbody>\n    <tr>\n      <th>27383</th>\n      <td>i feel awful about it too because it s my job ...</td>\n      <td>sadness</td>\n    </tr>\n    <tr>\n      <th>110083</th>\n      <td>im alone i feel awful</td>\n      <td>sadness</td>\n    </tr>\n    <tr>\n      <th>140764</th>\n      <td>ive probably mentioned this before but i reall...</td>\n      <td>joy</td>\n    </tr>\n    <tr>\n      <th>100071</th>\n      <td>i was feeling a little low few days back</td>\n      <td>sadness</td>\n    </tr>\n    <tr>\n      <th>2837</th>\n      <td>i beleive that i am much more sensitive to oth...</td>\n      <td>love</td>\n    </tr>\n    <tr>\n      <th>...</th>\n      <td>...</td>\n      <td>...</td>\n    </tr>\n    <tr>\n      <th>566</th>\n      <td>that was what i felt when i was finally accept...</td>\n      <td>joy</td>\n    </tr>\n    <tr>\n      <th>36236</th>\n      <td>i take every day as it comes i m just focussin...</td>\n      <td>fear</td>\n    </tr>\n    <tr>\n      <th>76229</th>\n      <td>i just suddenly feel that everything was fake</td>\n      <td>sadness</td>\n    </tr>\n    <tr>\n      <th>131640</th>\n      <td>im feeling more eager than ever to claw back w...</td>\n      <td>joy</td>\n    </tr>\n    <tr>\n      <th>64703</th>\n      <td>i give you plenty of attention even when i fee...</td>\n      <td>sadness</td>\n    </tr>\n  </tbody>\n</table>\n<p>416809 rows × 2 columns</p>\n</div>"
     },
     "execution_count": 2,
     "metadata": {},
     "output_type": "execute_result"
    }
   ],
   "source": [
    "df = pd.read_pickle(\"../data/dair-ai-emotions/merged_training.pkl\")\n",
    "df"
   ],
   "metadata": {
    "collapsed": false,
    "ExecuteTime": {
     "end_time": "2023-05-14T10:29:33.863699300Z",
     "start_time": "2023-05-14T10:29:33.734130500Z"
    }
   }
  },
  {
   "cell_type": "code",
   "execution_count": 3,
   "outputs": [],
   "source": [
    "# It is only fine-tuning, thus 400k data samples is a complete overkill. It can be reduced to 40k.\n",
    "df = df.iloc[:10000]"
   ],
   "metadata": {
    "collapsed": false,
    "ExecuteTime": {
     "end_time": "2023-05-14T10:30:08.986631400Z",
     "start_time": "2023-05-14T10:30:08.950513300Z"
    }
   }
  },
  {
   "cell_type": "code",
   "execution_count": 4,
   "outputs": [
    {
     "data": {
      "text/plain": "<Figure size 640x480 with 1 Axes>",
      "image/png": "[encoded data removed]"
     },
     "metadata": {},
     "output_type": "display_data"
    }
   ],
   "source": [
    "data = df[\"emotions\"]\n",
    "data.value_counts().plot.bar()\n",
    "plt.show()"
   ],
   "metadata": {
    "collapsed": false,
    "ExecuteTime": {
     "end_time": "2023-05-14T10:30:11.957721100Z",
     "start_time": "2023-05-14T10:30:11.779405Z"
    }
   }
  },
  {
   "cell_type": "code",
   "execution_count": 5,
   "outputs": [],
   "source": [
    "ordered_class_labels = {\n",
    "    \"joy\": 0,\n",
    "    \"love\": 1,\n",
    "    \"surprise\": 2,\n",
    "    \"sadness\": 3,\n",
    "    \"anger\": 4,\n",
    "    \"fear\": 5,\n",
    "}"
   ],
   "metadata": {
    "collapsed": false,
    "ExecuteTime": {
     "end_time": "2023-05-14T10:30:14.495137Z",
     "start_time": "2023-05-14T10:30:14.468096500Z"
    }
   }
  },
  {
   "cell_type": "code",
   "execution_count": 6,
   "outputs": [],
   "source": [
    "df = df.replace({\"emotions\": ordered_class_labels})"
   ],
   "metadata": {
    "collapsed": false,
    "ExecuteTime": {
     "end_time": "2023-05-14T10:30:16.638671100Z",
     "start_time": "2023-05-14T10:30:16.619629700Z"
    }
   }
  },
  {
   "cell_type": "code",
   "execution_count": 7,
   "outputs": [
    {
     "data": {
      "text/plain": "Dataset({\n    features: ['text', 'emotions'],\n    num_rows: 10000\n})"
     },
     "execution_count": 7,
     "metadata": {},
     "output_type": "execute_result"
    }
   ],
   "source": [
    "from datasets import Dataset\n",
    "\n",
    "raw_dataset = Dataset.from_pandas(df).remove_columns(\"__index_level_0__\")\n",
    "raw_dataset"
   ],
   "metadata": {
    "collapsed": false,
    "ExecuteTime": {
     "end_time": "2023-05-14T10:30:19.171254400Z",
     "start_time": "2023-05-14T10:30:18.508557200Z"
    }
   }
  },
  {
   "cell_type": "code",
   "execution_count": 8,
   "outputs": [],
   "source": [
    "from transformers import AutoTokenizer\n",
    "\n",
    "checkpoint = \"bert-base-uncased\"\n",
    "tokenizer = AutoTokenizer.from_pretrained(checkpoint)"
   ],
   "metadata": {
    "collapsed": false,
    "ExecuteTime": {
     "end_time": "2023-05-14T10:31:06.117575500Z",
     "start_time": "2023-05-14T10:31:05.049164600Z"
    }
   }
  },
  {
   "cell_type": "code",
   "execution_count": 9,
   "outputs": [
    {
     "data": {
      "text/plain": "Map:   0%|          | 0/10000 [00:00<?, ? examples/s]",
      "application/vnd.jupyter.widget-view+json": {
       "version_major": 2,
       "version_minor": 0,
       "model_id": "b0f9c807e4dd46d582fb493d56298f38"
      }
     },
     "metadata": {},
     "output_type": "display_data"
    }
   ],
   "source": [
    "def tokenize_function(example):\n",
    "    return tokenizer(example[\"text\"], truncation=True)\n",
    "\n",
    "\n",
    "tokenized_dataset = raw_dataset.map(tokenize_function, batched=True)"
   ],
   "metadata": {
    "collapsed": false,
    "ExecuteTime": {
     "end_time": "2023-05-14T10:31:09.521454900Z",
     "start_time": "2023-05-14T10:31:09.243748900Z"
    }
   }
  },
  {
   "cell_type": "code",
   "execution_count": 10,
   "outputs": [],
   "source": [
    "# Train set: 80%, Validation set: 10%, Test set: 10%\n",
    "split_train_val_and_test_dataset = tokenized_dataset.train_test_split(train_size=0.8)\n",
    "split_val_test_dataset = split_train_val_and_test_dataset[\"test\"].train_test_split(test_size=0.5)\n",
    "\n",
    "tokenized_train_dataset = split_train_val_and_test_dataset[\"train\"]\n",
    "tokenized_val_dataset = split_val_test_dataset[\"train\"]\n",
    "tokenized_test_dataset = split_val_test_dataset[\"test\"]"
   ],
   "metadata": {
    "collapsed": false,
    "ExecuteTime": {
     "end_time": "2023-05-14T10:31:19.170078400Z",
     "start_time": "2023-05-14T10:31:19.144523700Z"
    }
   }
  },
  {
   "cell_type": "code",
   "execution_count": 11,
   "outputs": [
    {
     "name": "stderr",
     "output_type": "stream",
     "text": [
      "C:\\Users\\Karol\\anaconda3\\envs\\ml-tf2gpu\\lib\\site-packages\\datasets\\arrow_dataset.py:388: FutureWarning: The output of `to_tf_dataset` will change when a passing single element list for `labels` or `columns` in the next datasets version. To return a tuple structure rather than dict, pass a single string.\n",
      "Old behaviour: columns=['a'], labels=['labels'] -> (tf.Tensor, tf.Tensor)  \n",
      "             : columns='a', labels='labels' -> (tf.Tensor, tf.Tensor)  \n",
      "New behaviour: columns=['a'],labels=['labels'] -> ({'a': tf.Tensor}, {'labels': tf.Tensor})  \n",
      "             : columns='a', labels='labels' -> (tf.Tensor, tf.Tensor) \n",
      "  warnings.warn(\n",
      "You're using a BertTokenizerFast tokenizer. Please note that with a fast tokenizer, using the `__call__` method is faster than using a method to encode the text followed by a call to the `pad` method to get a padded encoding.\n"
     ]
    }
   ],
   "source": [
    "from transformers import DataCollatorWithPadding\n",
    "\n",
    "batch_size = 16\n",
    "\n",
    "\n",
    "def convert_to_tf_dataset(hf_dataset, collator, batch_size=batch_size, shuffle=True):\n",
    "    return hf_dataset.to_tf_dataset(\n",
    "        columns=[\"attention_mask\", \"input_ids\", \"token_type_ids\"],\n",
    "        label_cols=[\"emotions\"],\n",
    "        collate_fn=collator,\n",
    "        shuffle=shuffle,\n",
    "        batch_size=batch_size,\n",
    "    )\n",
    "\n",
    "\n",
    "data_collator = DataCollatorWithPadding(tokenizer=tokenizer, return_tensors=\"tf\")\n",
    "\n",
    "tf_train_dataset = convert_to_tf_dataset(hf_dataset=tokenized_train_dataset, collator=data_collator)\n",
    "tf_val_dataset = convert_to_tf_dataset(hf_dataset=tokenized_val_dataset, collator=data_collator)\n",
    "tf_test_dataset = convert_to_tf_dataset(hf_dataset=tokenized_test_dataset, collator=data_collator)"
   ],
   "metadata": {
    "collapsed": false,
    "ExecuteTime": {
     "end_time": "2023-05-14T10:31:25.406090600Z",
     "start_time": "2023-05-14T10:31:21.801676Z"
    }
   }
  },
  {
   "cell_type": "code",
   "execution_count": 12,
   "outputs": [],
   "source": [
    "import Constants\n",
    "\n",
    "# Callbacks\n",
    "training_number = 2\n",
    "model_name = \"emotions_eng_bert\"\n",
    "training_folder = f\"training_{training_number}\"\n",
    "checkpoint_filename = \"cp-{epoch:04d}.ckpt\"\n",
    "training_path = os.path.join(Constants.TRAINING_CHECKPOINTS_PATH, model_name, training_folder)\n",
    "checkpoint_path = os.path.join(training_path, checkpoint_filename)\n",
    "checkpoint_cb = tf.keras.callbacks.ModelCheckpoint(checkpoint_path, verbose=1, save_weights_only=True)\n",
    "\n",
    "early_stop_cb = tf.keras.callbacks.EarlyStopping(patience=3)"
   ],
   "metadata": {
    "collapsed": false,
    "ExecuteTime": {
     "end_time": "2023-05-14T10:32:32.903847600Z",
     "start_time": "2023-05-14T10:32:32.506033900Z"
    }
   }
  },
  {
   "cell_type": "code",
   "execution_count": 26,
   "outputs": [
    {
     "data": {
      "text/plain": "'../training_checkpoints\\\\emotions_eng_bert\\\\training_2\\\\cp-{epoch:04d}.ckpt'"
     },
     "execution_count": 26,
     "metadata": {},
     "output_type": "execute_result"
    }
   ],
   "source": [
    "checkpoint_path"
   ],
   "metadata": {
    "collapsed": false,
    "ExecuteTime": {
     "end_time": "2023-05-14T10:55:20.755212100Z",
     "start_time": "2023-05-14T10:55:20.737186900Z"
    }
   }
  },
  {
   "cell_type": "code",
   "execution_count": 13,
   "outputs": [],
   "source": [
    "from tensorflow.keras.optimizers.schedules import PolynomialDecay\n",
    "from tensorflow.keras.optimizers import Adam\n",
    "\n",
    "num_epochs = 10\n",
    "# The number of training steps is the number of samples in the dataset, divided by the batch size then multiplied\n",
    "# by the total number of epochs. Note that the tf_train_dataset here is a batched tf.data.Dataset,\n",
    "# not the original Hugging Face Dataset, so its len() is already num_samples // batch_size.\n",
    "num_train_steps = len(tf_train_dataset) * num_epochs\n",
    "lr_scheduler = PolynomialDecay(\n",
    "    initial_learning_rate=5e-5, end_learning_rate=0.0, decay_steps=num_train_steps\n",
    ")\n",
    "\n",
    "optimizer = Adam(learning_rate=lr_scheduler)"
   ],
   "metadata": {
    "collapsed": false,
    "ExecuteTime": {
     "end_time": "2023-05-14T10:32:36.939207400Z",
     "start_time": "2023-05-14T10:32:36.920671300Z"
    }
   }
  },
  {
   "cell_type": "code",
   "execution_count": 14,
   "outputs": [
    {
     "name": "stderr",
     "output_type": "stream",
     "text": [
      "All model checkpoint layers were used when initializing TFBertForSequenceClassification.\n",
      "\n",
      "Some layers of TFBertForSequenceClassification were not initialized from the model checkpoint at bert-base-uncased and are newly initialized: ['classifier']\n",
      "You should probably TRAIN this model on a down-stream task to be able to use it for predictions and inference.\n"
     ]
    }
   ],
   "source": [
    "from transformers import TFAutoModelForSequenceClassification\n",
    "\n",
    "model = TFAutoModelForSequenceClassification.from_pretrained(checkpoint, num_labels=6)"
   ],
   "metadata": {
    "collapsed": false,
    "ExecuteTime": {
     "end_time": "2023-05-14T10:32:44.706526100Z",
     "start_time": "2023-05-14T10:32:40.692057600Z"
    }
   }
  },
  {
   "cell_type": "code",
   "execution_count": 15,
   "outputs": [],
   "source": [
    "# Compile\n",
    "loss = tf.keras.losses.SparseCategoricalCrossentropy(from_logits=True)\n",
    "metrics = [\"accuracy\"]\n",
    "model.compile(optimizer=optimizer, loss=loss, metrics=metrics)"
   ],
   "metadata": {
    "collapsed": false,
    "ExecuteTime": {
     "end_time": "2023-05-14T10:33:04.257375700Z",
     "start_time": "2023-05-14T10:33:04.244966300Z"
    }
   }
  },
  {
   "cell_type": "code",
   "execution_count": 16,
   "outputs": [
    {
     "name": "stdout",
     "output_type": "stream",
     "text": [
      "Epoch 1/10\n",
      "500/500 [==============================] - 58s 91ms/step - loss: 0.5708 - accuracy: 0.8069 - val_loss: 0.2436 - val_accuracy: 0.9180\n",
      "\n",
      "Epoch 00001: saving model to ../training_checkpoints\\emotions_eng_bert\\training_2\\cp-0001.ckpt\n",
      "Epoch 2/10\n",
      "500/500 [==============================] - 44s 88ms/step - loss: 0.1737 - accuracy: 0.9295 - val_loss: 0.1899 - val_accuracy: 0.9280\n",
      "\n",
      "Epoch 00002: saving model to ../training_checkpoints\\emotions_eng_bert\\training_2\\cp-0002.ckpt\n",
      "Epoch 3/10\n",
      "500/500 [==============================] - 43s 87ms/step - loss: 0.1111 - accuracy: 0.9524 - val_loss: 0.1696 - val_accuracy: 0.9310\n",
      "\n",
      "Epoch 00003: saving model to ../training_checkpoints\\emotions_eng_bert\\training_2\\cp-0003.ckpt\n",
      "Epoch 4/10\n",
      "500/500 [==============================] - 43s 87ms/step - loss: 0.0922 - accuracy: 0.9638 - val_loss: 0.1886 - val_accuracy: 0.9240\n",
      "\n",
      "Epoch 00004: saving model to ../training_checkpoints\\emotions_eng_bert\\training_2\\cp-0004.ckpt\n",
      "Epoch 5/10\n",
      "500/500 [==============================] - 43s 86ms/step - loss: 0.0603 - accuracy: 0.9745 - val_loss: 0.2083 - val_accuracy: 0.9190\n",
      "\n",
      "Epoch 00005: saving model to ../training_checkpoints\\emotions_eng_bert\\training_2\\cp-0005.ckpt\n",
      "Epoch 6/10\n",
      "500/500 [==============================] - 43s 86ms/step - loss: 0.0431 - accuracy: 0.9833 - val_loss: 0.2247 - val_accuracy: 0.9270\n",
      "\n",
      "Epoch 00006: saving model to ../training_checkpoints\\emotions_eng_bert\\training_2\\cp-0006.ckpt\n"
     ]
    }
   ],
   "source": [
    "history = model.fit(tf_train_dataset, validation_data=tf_val_dataset, epochs=num_epochs, callbacks=[checkpoint_cb, early_stop_cb])"
   ],
   "metadata": {
    "collapsed": false,
    "ExecuteTime": {
     "end_time": "2023-05-14T10:37:59.103542100Z",
     "start_time": "2023-05-14T10:33:10.161456Z"
    }
   }
  },
  {
   "cell_type": "code",
   "execution_count": 28,
   "outputs": [
    {
     "data": {
      "text/plain": "<Figure size 640x480 with 1 Axes>",
      "image/png": "[encoded data removed]"
     },
     "metadata": {},
     "output_type": "display_data"
    }
   ],
   "source": [
    "plt.plot(history.history['accuracy'])\n",
    "plt.plot(history.history['val_accuracy'])\n",
    "plt.title('Model accuracy')\n",
    "plt.ylabel('Accuracy')\n",
    "plt.xlabel('Epoch')\n",
    "plt.legend(['Train', 'Val'], loc='upper left')\n",
    "plt.savefig(f\"../documentation/models/{model_name}/figures/{training_folder}_accuracy.png\")\n",
    "plt.show()"
   ],
   "metadata": {
    "collapsed": false,
    "ExecuteTime": {
     "end_time": "2023-05-14T10:58:57.509538700Z",
     "start_time": "2023-05-14T10:58:57.359612700Z"
    }
   }
  },
  {
   "cell_type": "code",
   "execution_count": 19,
   "outputs": [],
   "source": [
    "import shutil\n",
    "\n",
    "best_model_checkpoint_index = np.argmin(history.history[\"val_accuracy\"]) + 1\n",
    "best_model_weights_path = os.path.join(training_path, checkpoint_filename.format(epoch=best_model_checkpoint_index))\n",
    "best_model = model\n",
    "best_model.load_weights(best_model_weights_path)\n",
    "\n",
    "shutil.rmtree(training_path)"
   ],
   "metadata": {
    "collapsed": false,
    "ExecuteTime": {
     "end_time": "2023-05-14T10:39:24.192034Z",
     "start_time": "2023-05-14T10:39:20.505006400Z"
    }
   }
  },
  {
   "cell_type": "code",
   "execution_count": 21,
   "outputs": [
    {
     "name": "stderr",
     "output_type": "stream",
     "text": [
      "WARNING:absl:Found untraced functions such as embeddings_layer_call_fn, embeddings_layer_call_and_return_conditional_losses, encoder_layer_call_fn, encoder_layer_call_and_return_conditional_losses, pooler_layer_call_fn while saving (showing 5 of 1050). These functions will not be directly callable after loading.\n"
     ]
    },
    {
     "name": "stdout",
     "output_type": "stream",
     "text": [
      "INFO:tensorflow:Assets written to: ../trained_models\\emotions_eng_bert_2\\1\\assets\n"
     ]
    },
    {
     "name": "stderr",
     "output_type": "stream",
     "text": [
      "INFO:tensorflow:Assets written to: ../trained_models\\emotions_eng_bert_2\\1\\assets\n"
     ]
    }
   ],
   "source": [
    "saved_model_name = f\"{model_name}_{training_number}\"\n",
    "\n",
    "# Save to Saved Model format\n",
    "best_model.save(os.path.join(Constants.SAVED_MODEL_LOCATION, saved_model_name, Constants.DEFAULT_MODEL_VERSION))"
   ],
   "metadata": {
    "collapsed": false,
    "ExecuteTime": {
     "end_time": "2023-05-14T10:41:17.904148Z",
     "start_time": "2023-05-14T10:40:40.175550100Z"
    }
   }
  },
  {
   "cell_type": "code",
   "execution_count": 22,
   "outputs": [
    {
     "name": "stdout",
     "output_type": "stream",
     "text": [
      "63/63 [==============================] - 2s 34ms/step - loss: 0.2452 - accuracy: 0.9130\n"
     ]
    },
    {
     "data": {
      "text/plain": "[0.2451886385679245, 0.9129999876022339]"
     },
     "execution_count": 22,
     "metadata": {},
     "output_type": "execute_result"
    }
   ],
   "source": [
    "# Evaluation\n",
    "best_model.evaluate(tf_test_dataset, batch_size=32)"
   ],
   "metadata": {
    "collapsed": false,
    "ExecuteTime": {
     "end_time": "2023-05-14T10:41:47.975741400Z",
     "start_time": "2023-05-14T10:41:45.620928900Z"
    }
   }
  },
  {
   "cell_type": "code",
   "execution_count": 20,
   "outputs": [],
   "source": [
    "# Getting predictions\n",
    "prediction_logits = best_model.predict(tf_test_dataset)['logits']\n",
    "probabilities = tf.nn.softmax(prediction_logits)\n",
    "class_preds = np.argmax(probabilities, axis=1)"
   ],
   "metadata": {
    "collapsed": false,
    "ExecuteTime": {
     "end_time": "2023-05-12T14:15:04.333778900Z",
     "start_time": "2023-05-12T14:14:54.558304900Z"
    }
   }
  }
 ],
 "metadata": {
  "kernelspec": {
   "display_name": "Python 3",
   "language": "python",
   "name": "python3"
  },
  "language_info": {
   "codemirror_mode": {
    "name": "ipython",
    "version": 2
   },
   "file_extension": ".py",
   "mimetype": "text/x-python",
   "name": "python",
   "nbconvert_exporter": "python",
   "pygments_lexer": "ipython2",
   "version": "2.7.6"
  }
 },
 "nbformat": 4,
 "nbformat_minor": 0
}
