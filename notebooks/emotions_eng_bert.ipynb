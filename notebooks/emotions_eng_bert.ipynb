{
 "cells": [
  {
   "cell_type": "code",
   "execution_count": 1,
   "metadata": {
    "collapsed": true,
    "ExecuteTime": {
     "end_time": "2023-05-14T13:04:22.886311600Z",
     "start_time": "2023-05-14T13:04:20.469379600Z"
    }
   },
   "outputs": [],
   "source": [
    "import os\n",
    "\n",
    "import pandas as pd\n",
    "import tensorflow as tf\n",
    "import matplotlib.pyplot as plt\n",
    "import numpy as np"
   ]
  },
  {
   "cell_type": "code",
   "execution_count": 2,
   "metadata": {
    "collapsed": false,
    "ExecuteTime": {
     "end_time": "2023-05-14T13:04:22.997388500Z",
     "start_time": "2023-05-14T13:04:22.889820500Z"
    }
   },
   "outputs": [
    {
     "data": {
      "text/plain": "                                                     text emotions\n27383   i feel awful about it too because it s my job ...  sadness\n110083                              im alone i feel awful  sadness\n140764  ive probably mentioned this before but i reall...      joy\n100071           i was feeling a little low few days back  sadness\n2837    i beleive that i am much more sensitive to oth...     love\n...                                                   ...      ...\n566     that was what i felt when i was finally accept...      joy\n36236   i take every day as it comes i m just focussin...     fear\n76229       i just suddenly feel that everything was fake  sadness\n131640  im feeling more eager than ever to claw back w...      joy\n64703   i give you plenty of attention even when i fee...  sadness\n\n[416809 rows x 2 columns]",
      "text/html": "<div>\n<style scoped>\n    .dataframe tbody tr th:only-of-type {\n        vertical-align: middle;\n    }\n\n    .dataframe tbody tr th {\n        vertical-align: top;\n    }\n\n    .dataframe thead th {\n        text-align: right;\n    }\n</style>\n<table border=\"1\" class=\"dataframe\">\n  <thead>\n    <tr style=\"text-align: right;\">\n      <th></th>\n      <th>text</th>\n      <th>emotions</th>\n    </tr>\n  </thead>\n  <tbody>\n    <tr>\n      <th>27383</th>\n      <td>i feel awful about it too because it s my job ...</td>\n      <td>sadness</td>\n    </tr>\n    <tr>\n      <th>110083</th>\n      <td>im alone i feel awful</td>\n      <td>sadness</td>\n    </tr>\n    <tr>\n      <th>140764</th>\n      <td>ive probably mentioned this before but i reall...</td>\n      <td>joy</td>\n    </tr>\n    <tr>\n      <th>100071</th>\n      <td>i was feeling a little low few days back</td>\n      <td>sadness</td>\n    </tr>\n    <tr>\n      <th>2837</th>\n      <td>i beleive that i am much more sensitive to oth...</td>\n      <td>love</td>\n    </tr>\n    <tr>\n      <th>...</th>\n      <td>...</td>\n      <td>...</td>\n    </tr>\n    <tr>\n      <th>566</th>\n      <td>that was what i felt when i was finally accept...</td>\n      <td>joy</td>\n    </tr>\n    <tr>\n      <th>36236</th>\n      <td>i take every day as it comes i m just focussin...</td>\n      <td>fear</td>\n    </tr>\n    <tr>\n      <th>76229</th>\n      <td>i just suddenly feel that everything was fake</td>\n      <td>sadness</td>\n    </tr>\n    <tr>\n      <th>131640</th>\n      <td>im feeling more eager than ever to claw back w...</td>\n      <td>joy</td>\n    </tr>\n    <tr>\n      <th>64703</th>\n      <td>i give you plenty of attention even when i fee...</td>\n      <td>sadness</td>\n    </tr>\n  </tbody>\n</table>\n<p>416809 rows × 2 columns</p>\n</div>"
     },
     "execution_count": 2,
     "metadata": {},
     "output_type": "execute_result"
    }
   ],
   "source": [
    "df = pd.read_pickle(\"../data/dair-ai-emotions/merged_training.pkl\")\n",
    "df"
   ]
  },
  {
   "cell_type": "code",
   "execution_count": 3,
   "metadata": {
    "ExecuteTime": {
     "end_time": "2023-05-14T13:04:23.151450300Z",
     "start_time": "2023-05-14T13:04:23.015402200Z"
    }
   },
   "outputs": [],
   "source": [
    "surprise_count = len(df.loc[df['emotions'] == 'surprise'])\n",
    "\n",
    "joy = df.loc[df['emotions'] == 'joy'].iloc[:surprise_count]\n",
    "sadness = df.loc[df['emotions'] == 'sadness'].iloc[:surprise_count]\n",
    "anger = df.loc[df['emotions'] == 'anger'].iloc[:surprise_count]\n",
    "fear = df.loc[df['emotions'] == 'fear'].iloc[:surprise_count]\n",
    "love = df.loc[df['emotions'] == 'love'].iloc[:surprise_count]\n",
    "surprise = df.loc[df['emotions'] == 'surprise']"
   ]
  },
  {
   "cell_type": "code",
   "execution_count": 4,
   "metadata": {
    "ExecuteTime": {
     "end_time": "2023-05-14T13:04:23.384172800Z",
     "start_time": "2023-05-14T13:04:23.311267700Z"
    }
   },
   "outputs": [
    {
     "data": {
      "text/plain": "                                                     text  emotions\n140764  i had this feeling of disappointment disappoin...      love\n10714   i remember in particular one new years day in ...   sadness\n35177                           im feeling so cold inside     anger\n122177  i learned that my girlfriend had been unjustly...     anger\n98659          i am able to feel calm even others are not       joy\n...                                                   ...       ...\n10560   i never felt that way about daughter if anythi...      love\n5282    i have no issue of forgiving because i never f...     anger\n6187              i feel more affectionate and thoughtful      love\n6813                     i feel about you im just curious  surprise\n1580    i pop in one of rick s dvds and i feel like i ...      love\n\n[89832 rows x 2 columns]",
      "text/html": "<div>\n<style scoped>\n    .dataframe tbody tr th:only-of-type {\n        vertical-align: middle;\n    }\n\n    .dataframe tbody tr th {\n        vertical-align: top;\n    }\n\n    .dataframe thead th {\n        text-align: right;\n    }\n</style>\n<table border=\"1\" class=\"dataframe\">\n  <thead>\n    <tr style=\"text-align: right;\">\n      <th></th>\n      <th>text</th>\n      <th>emotions</th>\n    </tr>\n  </thead>\n  <tbody>\n    <tr>\n      <th>140764</th>\n      <td>i had this feeling of disappointment disappoin...</td>\n      <td>love</td>\n    </tr>\n    <tr>\n      <th>10714</th>\n      <td>i remember in particular one new years day in ...</td>\n      <td>sadness</td>\n    </tr>\n    <tr>\n      <th>35177</th>\n      <td>im feeling so cold inside</td>\n      <td>anger</td>\n    </tr>\n    <tr>\n      <th>122177</th>\n      <td>i learned that my girlfriend had been unjustly...</td>\n      <td>anger</td>\n    </tr>\n    <tr>\n      <th>98659</th>\n      <td>i am able to feel calm even others are not</td>\n      <td>joy</td>\n    </tr>\n    <tr>\n      <th>...</th>\n      <td>...</td>\n      <td>...</td>\n    </tr>\n    <tr>\n      <th>10560</th>\n      <td>i never felt that way about daughter if anythi...</td>\n      <td>love</td>\n    </tr>\n    <tr>\n      <th>5282</th>\n      <td>i have no issue of forgiving because i never f...</td>\n      <td>anger</td>\n    </tr>\n    <tr>\n      <th>6187</th>\n      <td>i feel more affectionate and thoughtful</td>\n      <td>love</td>\n    </tr>\n    <tr>\n      <th>6813</th>\n      <td>i feel about you im just curious</td>\n      <td>surprise</td>\n    </tr>\n    <tr>\n      <th>1580</th>\n      <td>i pop in one of rick s dvds and i feel like i ...</td>\n      <td>love</td>\n    </tr>\n  </tbody>\n</table>\n<p>89832 rows × 2 columns</p>\n</div>"
     },
     "execution_count": 4,
     "metadata": {},
     "output_type": "execute_result"
    }
   ],
   "source": [
    "frames = [joy, sadness, anger, fear, love, surprise]\n",
    "equal_dataset = pd.concat(frames)\n",
    "\n",
    "np.random.shuffle(equal_dataset.values)\n",
    "equal_dataset"
   ]
  },
  {
   "cell_type": "code",
   "execution_count": 5,
   "metadata": {
    "collapsed": false,
    "ExecuteTime": {
     "end_time": "2023-05-14T13:04:24.988411800Z",
     "start_time": "2023-05-14T13:04:24.975256400Z"
    }
   },
   "outputs": [],
   "source": [
    "# It is only fine-tuning, thus 400k data samples is a complete overkill. It can be reduced to 40k.\n",
    "df = equal_dataset.iloc[:40000]"
   ]
  },
  {
   "cell_type": "code",
   "execution_count": 6,
   "metadata": {
    "collapsed": false,
    "ExecuteTime": {
     "end_time": "2023-05-14T13:04:25.785922100Z",
     "start_time": "2023-05-14T13:04:25.682714800Z"
    }
   },
   "outputs": [
    {
     "data": {
      "text/plain": "<Figure size 640x480 with 1 Axes>",
      "image/png": "[encoded data removed]"
     },
     "metadata": {},
     "output_type": "display_data"
    }
   ],
   "source": [
    "data = df[\"emotions\"]\n",
    "data.value_counts().plot.bar()\n",
    "plt.show()"
   ]
  },
  {
   "cell_type": "code",
   "execution_count": 7,
   "metadata": {
    "collapsed": false,
    "ExecuteTime": {
     "end_time": "2023-05-14T13:04:26.585925100Z",
     "start_time": "2023-05-14T13:04:26.574415400Z"
    }
   },
   "outputs": [],
   "source": [
    "ordered_class_labels = {\n",
    "    \"joy\": 0,\n",
    "    \"love\": 1,\n",
    "    \"surprise\": 2,\n",
    "    \"sadness\": 3,\n",
    "    \"anger\": 4,\n",
    "    \"fear\": 5,\n",
    "}"
   ]
  },
  {
   "cell_type": "code",
   "execution_count": 8,
   "metadata": {
    "collapsed": false,
    "ExecuteTime": {
     "end_time": "2023-05-14T13:04:27.377268900Z",
     "start_time": "2023-05-14T13:04:27.350646200Z"
    }
   },
   "outputs": [],
   "source": [
    "df = df.replace({\"emotions\": ordered_class_labels})"
   ]
  },
  {
   "cell_type": "code",
   "execution_count": 9,
   "metadata": {
    "collapsed": false,
    "ExecuteTime": {
     "end_time": "2023-05-14T13:04:28.419031Z",
     "start_time": "2023-05-14T13:04:27.981206300Z"
    }
   },
   "outputs": [
    {
     "data": {
      "text/plain": "Dataset({\n    features: ['text', 'emotions'],\n    num_rows: 40000\n})"
     },
     "execution_count": 9,
     "metadata": {},
     "output_type": "execute_result"
    }
   ],
   "source": [
    "from datasets import Dataset\n",
    "\n",
    "raw_dataset = Dataset.from_pandas(df).remove_columns(\"__index_level_0__\")\n",
    "raw_dataset"
   ]
  },
  {
   "cell_type": "code",
   "execution_count": 10,
   "metadata": {
    "collapsed": false,
    "ExecuteTime": {
     "end_time": "2023-05-14T13:04:29.773340Z",
     "start_time": "2023-05-14T13:04:28.930987600Z"
    }
   },
   "outputs": [],
   "source": [
    "from transformers import AutoTokenizer\n",
    "\n",
    "checkpoint = \"bert-base-uncased\"\n",
    "tokenizer = AutoTokenizer.from_pretrained(checkpoint)"
   ]
  },
  {
   "cell_type": "code",
   "execution_count": 11,
   "metadata": {
    "collapsed": false,
    "ExecuteTime": {
     "end_time": "2023-05-14T13:04:31.352758900Z",
     "start_time": "2023-05-14T13:04:30.221415800Z"
    }
   },
   "outputs": [
    {
     "data": {
      "text/plain": "Map:   0%|          | 0/40000 [00:00<?, ? examples/s]",
      "application/vnd.jupyter.widget-view+json": {
       "version_major": 2,
       "version_minor": 0,
       "model_id": "82cefe1fb3864b04a7e2fbfa2a12b642"
      }
     },
     "metadata": {},
     "output_type": "display_data"
    }
   ],
   "source": [
    "def tokenize_function(example):\n",
    "    return tokenizer(example[\"text\"], truncation=True)\n",
    "\n",
    "\n",
    "tokenized_dataset = raw_dataset.map(tokenize_function, batched=True)"
   ]
  },
  {
   "cell_type": "code",
   "execution_count": 12,
   "metadata": {
    "collapsed": false,
    "ExecuteTime": {
     "end_time": "2023-05-14T13:04:31.836991800Z",
     "start_time": "2023-05-14T13:04:31.809152500Z"
    }
   },
   "outputs": [],
   "source": [
    "# Train set: 80%, Validation set: 10%, Test set: 10%\n",
    "split_train_val_and_test_dataset = tokenized_dataset.train_test_split(train_size=0.8)\n",
    "split_val_test_dataset = split_train_val_and_test_dataset[\"test\"].train_test_split(test_size=0.5)\n",
    "\n",
    "tokenized_train_dataset = split_train_val_and_test_dataset[\"train\"]\n",
    "tokenized_val_dataset = split_val_test_dataset[\"train\"]\n",
    "tokenized_test_dataset = split_val_test_dataset[\"test\"]"
   ]
  },
  {
   "cell_type": "code",
   "execution_count": 13,
   "metadata": {
    "collapsed": false,
    "ExecuteTime": {
     "end_time": "2023-05-14T13:04:34.614153900Z",
     "start_time": "2023-05-14T13:04:32.943653400Z"
    }
   },
   "outputs": [
    {
     "name": "stderr",
     "output_type": "stream",
     "text": [
      "C:\\Users\\Karol\\anaconda3\\envs\\ml-tf2gpu\\lib\\site-packages\\datasets\\arrow_dataset.py:388: FutureWarning: The output of `to_tf_dataset` will change when a passing single element list for `labels` or `columns` in the next datasets version. To return a tuple structure rather than dict, pass a single string.\n",
      "Old behaviour: columns=['a'], labels=['labels'] -> (tf.Tensor, tf.Tensor)  \n",
      "             : columns='a', labels='labels' -> (tf.Tensor, tf.Tensor)  \n",
      "New behaviour: columns=['a'],labels=['labels'] -> ({'a': tf.Tensor}, {'labels': tf.Tensor})  \n",
      "             : columns='a', labels='labels' -> (tf.Tensor, tf.Tensor) \n",
      "  warnings.warn(\n",
      "You're using a BertTokenizerFast tokenizer. Please note that with a fast tokenizer, using the `__call__` method is faster than using a method to encode the text followed by a call to the `pad` method to get a padded encoding.\n"
     ]
    }
   ],
   "source": [
    "from transformers import DataCollatorWithPadding\n",
    "\n",
    "batch_size = 16\n",
    "\n",
    "\n",
    "def convert_to_tf_dataset(hf_dataset, collator, batch_size=batch_size, shuffle=True):\n",
    "    return hf_dataset.to_tf_dataset(\n",
    "        columns=[\"attention_mask\", \"input_ids\", \"token_type_ids\"],\n",
    "        label_cols=[\"emotions\"],\n",
    "        collate_fn=collator,\n",
    "        shuffle=shuffle,\n",
    "        batch_size=batch_size,\n",
    "    )\n",
    "\n",
    "\n",
    "data_collator = DataCollatorWithPadding(tokenizer=tokenizer, return_tensors=\"tf\")\n",
    "\n",
    "tf_train_dataset = convert_to_tf_dataset(hf_dataset=tokenized_train_dataset, collator=data_collator)\n",
    "tf_val_dataset = convert_to_tf_dataset(hf_dataset=tokenized_val_dataset, collator=data_collator)\n",
    "tf_test_dataset = convert_to_tf_dataset(hf_dataset=tokenized_test_dataset, collator=data_collator)"
   ]
  },
  {
   "cell_type": "code",
   "execution_count": 14,
   "metadata": {
    "collapsed": false,
    "ExecuteTime": {
     "end_time": "2023-05-14T13:04:34.860092500Z",
     "start_time": "2023-05-14T13:04:34.613154400Z"
    }
   },
   "outputs": [],
   "source": [
    "import Constants\n",
    "\n",
    "# Callbacks\n",
    "training_number = 4\n",
    "model_name = \"emotions_eng_bert\"\n",
    "training_folder = f\"training_{training_number}\"\n",
    "checkpoint_filename = \"cp-{epoch:04d}.ckpt\"\n",
    "training_path = os.path.join(Constants.TRAINING_CHECKPOINTS_PATH, model_name, training_folder)\n",
    "checkpoint_path = os.path.join(training_path, checkpoint_filename)\n",
    "checkpoint_cb = tf.keras.callbacks.ModelCheckpoint(checkpoint_path, verbose=1, save_weights_only=True)\n",
    "\n",
    "early_stop_cb = tf.keras.callbacks.EarlyStopping(patience=3)"
   ]
  },
  {
   "cell_type": "code",
   "execution_count": 15,
   "metadata": {
    "collapsed": false,
    "ExecuteTime": {
     "end_time": "2023-05-14T13:04:36.625023Z",
     "start_time": "2023-05-14T13:04:36.618025200Z"
    }
   },
   "outputs": [
    {
     "data": {
      "text/plain": "'../training_checkpoints\\\\emotions_eng_bert\\\\training_4\\\\cp-{epoch:04d}.ckpt'"
     },
     "execution_count": 15,
     "metadata": {},
     "output_type": "execute_result"
    }
   ],
   "source": [
    "checkpoint_path"
   ]
  },
  {
   "cell_type": "code",
   "execution_count": 16,
   "metadata": {
    "collapsed": false,
    "ExecuteTime": {
     "end_time": "2023-05-14T13:04:37.829174300Z",
     "start_time": "2023-05-14T13:04:37.818661Z"
    }
   },
   "outputs": [],
   "source": [
    "from tensorflow.keras.optimizers.schedules import PolynomialDecay\n",
    "from tensorflow.keras.optimizers import Adam\n",
    "\n",
    "num_epochs = 10\n",
    "# The number of training steps is the number of samples in the dataset, divided by the batch size then multiplied\n",
    "# by the total number of epochs. Note that the tf_train_dataset here is a batched tf.data.Dataset,\n",
    "# not the original Hugging Face Dataset, so its len() is already num_samples // batch_size.\n",
    "num_train_steps = len(tf_train_dataset) * num_epochs\n",
    "lr_scheduler = PolynomialDecay(\n",
    "    initial_learning_rate=5e-5, end_learning_rate=0.0, decay_steps=num_train_steps\n",
    ")\n",
    "\n",
    "optimizer = Adam(learning_rate=lr_scheduler)"
   ]
  },
  {
   "cell_type": "code",
   "execution_count": 17,
   "metadata": {
    "collapsed": false,
    "ExecuteTime": {
     "end_time": "2023-05-14T13:04:41.703902300Z",
     "start_time": "2023-05-14T13:04:39.807554900Z"
    }
   },
   "outputs": [
    {
     "name": "stderr",
     "output_type": "stream",
     "text": [
      "All model checkpoint layers were used when initializing TFBertForSequenceClassification.\n",
      "\n",
      "Some layers of TFBertForSequenceClassification were not initialized from the model checkpoint at bert-base-uncased and are newly initialized: ['classifier']\n",
      "You should probably TRAIN this model on a down-stream task to be able to use it for predictions and inference.\n"
     ]
    }
   ],
   "source": [
    "from transformers import TFAutoModelForSequenceClassification\n",
    "\n",
    "model = TFAutoModelForSequenceClassification.from_pretrained(checkpoint, num_labels=6)"
   ]
  },
  {
   "cell_type": "code",
   "execution_count": 18,
   "metadata": {
    "collapsed": false,
    "ExecuteTime": {
     "end_time": "2023-05-14T13:04:43.128116600Z",
     "start_time": "2023-05-14T13:04:43.105062600Z"
    }
   },
   "outputs": [],
   "source": [
    "# Compile\n",
    "loss = tf.keras.losses.SparseCategoricalCrossentropy(from_logits=True)\n",
    "metrics = [\"accuracy\"]\n",
    "model.compile(optimizer=optimizer, loss=loss, metrics=metrics)"
   ]
  },
  {
   "cell_type": "code",
   "execution_count": 19,
   "metadata": {
    "collapsed": false,
    "ExecuteTime": {
     "end_time": "2023-05-14T13:29:30.471938900Z",
     "start_time": "2023-05-14T13:04:44.376071300Z"
    }
   },
   "outputs": [
    {
     "name": "stdout",
     "output_type": "stream",
     "text": [
      "Epoch 1/10\n",
      "2000/2000 [==============================] - 193s 90ms/step - loss: 0.3131 - accuracy: 0.8896 - val_loss: 0.1771 - val_accuracy: 0.9425\n",
      "\n",
      "Epoch 00001: saving model to ../training_checkpoints\\emotions_eng_bert\\training_4\\cp-0001.ckpt\n",
      "Epoch 2/10\n",
      "2000/2000 [==============================] - 179s 89ms/step - loss: 0.1370 - accuracy: 0.9473 - val_loss: 0.1301 - val_accuracy: 0.9495\n",
      "\n",
      "Epoch 00002: saving model to ../training_checkpoints\\emotions_eng_bert\\training_4\\cp-0002.ckpt\n",
      "Epoch 3/10\n",
      "2000/2000 [==============================] - 178s 89ms/step - loss: 0.1187 - accuracy: 0.9522 - val_loss: 0.1318 - val_accuracy: 0.9515\n",
      "\n",
      "Epoch 00003: saving model to ../training_checkpoints\\emotions_eng_bert\\training_4\\cp-0003.ckpt\n",
      "Epoch 4/10\n",
      "2000/2000 [==============================] - 185s 93ms/step - loss: 0.1095 - accuracy: 0.9555 - val_loss: 0.1347 - val_accuracy: 0.9498\n",
      "\n",
      "Epoch 00004: saving model to ../training_checkpoints\\emotions_eng_bert\\training_4\\cp-0004.ckpt\n",
      "Epoch 5/10\n",
      "2000/2000 [==============================] - 182s 91ms/step - loss: 0.1027 - accuracy: 0.9572 - val_loss: 0.1265 - val_accuracy: 0.9523\n",
      "\n",
      "Epoch 00005: saving model to ../training_checkpoints\\emotions_eng_bert\\training_4\\cp-0005.ckpt\n",
      "Epoch 6/10\n",
      "2000/2000 [==============================] - 187s 94ms/step - loss: 0.0963 - accuracy: 0.9589 - val_loss: 0.1475 - val_accuracy: 0.9482\n",
      "\n",
      "Epoch 00006: saving model to ../training_checkpoints\\emotions_eng_bert\\training_4\\cp-0006.ckpt\n",
      "Epoch 7/10\n",
      "2000/2000 [==============================] - 183s 92ms/step - loss: 0.0873 - accuracy: 0.9628 - val_loss: 0.1456 - val_accuracy: 0.9488\n",
      "\n",
      "Epoch 00007: saving model to ../training_checkpoints\\emotions_eng_bert\\training_4\\cp-0007.ckpt\n",
      "Epoch 8/10\n",
      "2000/2000 [==============================] - 178s 89ms/step - loss: 0.0732 - accuracy: 0.9684 - val_loss: 0.1672 - val_accuracy: 0.9467\n",
      "\n",
      "Epoch 00008: saving model to ../training_checkpoints\\emotions_eng_bert\\training_4\\cp-0008.ckpt\n"
     ]
    }
   ],
   "source": [
    "history = model.fit(tf_train_dataset, validation_data=tf_val_dataset, epochs=num_epochs, callbacks=[checkpoint_cb, early_stop_cb])"
   ]
  },
  {
   "cell_type": "code",
   "execution_count": 20,
   "metadata": {
    "collapsed": false,
    "ExecuteTime": {
     "end_time": "2023-05-14T13:29:35.071945100Z",
     "start_time": "2023-05-14T13:29:34.887657900Z"
    }
   },
   "outputs": [
    {
     "data": {
      "text/plain": "<Figure size 640x480 with 1 Axes>",
      "image/png": "[encoded data removed]"
     },
     "metadata": {},
     "output_type": "display_data"
    }
   ],
   "source": [
    "plt.plot(history.history['accuracy'])\n",
    "plt.plot(history.history['val_accuracy'])\n",
    "plt.title('Model accuracy')\n",
    "plt.ylabel('Accuracy')\n",
    "plt.xlabel('Epoch')\n",
    "plt.legend(['Train', 'Val'], loc='upper left')\n",
    "plt.savefig(f\"../documentation/models/{model_name}/figures/{training_folder}_accuracy.png\")\n",
    "plt.show()"
   ]
  },
  {
   "cell_type": "code",
   "execution_count": 22,
   "metadata": {
    "collapsed": false,
    "ExecuteTime": {
     "end_time": "2023-05-14T13:31:31.668078700Z",
     "start_time": "2023-05-14T13:31:28.286724500Z"
    }
   },
   "outputs": [],
   "source": [
    "import shutil\n",
    "\n",
    "best_model_checkpoint_index = np.argmin(history.history[\"val_accuracy\"]) + 1\n",
    "best_model_weights_path = os.path.join(training_path, checkpoint_filename.format(epoch=best_model_checkpoint_index))\n",
    "best_model = model\n",
    "best_model.load_weights(best_model_weights_path)\n",
    "\n",
    "shutil.rmtree(training_path)"
   ]
  },
  {
   "cell_type": "code",
   "execution_count": 23,
   "metadata": {
    "collapsed": false,
    "ExecuteTime": {
     "end_time": "2023-05-14T13:32:13.165307700Z",
     "start_time": "2023-05-14T13:31:31.670079700Z"
    }
   },
   "outputs": [
    {
     "name": "stderr",
     "output_type": "stream",
     "text": [
      "WARNING:absl:Found untraced functions such as embeddings_layer_call_and_return_conditional_losses, embeddings_layer_call_fn, encoder_layer_call_and_return_conditional_losses, encoder_layer_call_fn, pooler_layer_call_and_return_conditional_losses while saving (showing 5 of 1050). These functions will not be directly callable after loading.\n"
     ]
    },
    {
     "name": "stdout",
     "output_type": "stream",
     "text": [
      "INFO:tensorflow:Assets written to: ../trained_models\\emotions_eng_bert_4\\1\\assets\n"
     ]
    },
    {
     "name": "stderr",
     "output_type": "stream",
     "text": [
      "INFO:tensorflow:Assets written to: ../trained_models\\emotions_eng_bert_4\\1\\assets\n"
     ]
    }
   ],
   "source": [
    "saved_model_name = f\"{model_name}_{training_number}\"\n",
    "\n",
    "# Save to Saved Model format\n",
    "best_model.save(os.path.join(Constants.SAVED_MODEL_LOCATION, saved_model_name, Constants.DEFAULT_MODEL_VERSION))"
   ]
  },
  {
   "cell_type": "code",
   "execution_count": 24,
   "metadata": {
    "collapsed": false,
    "ExecuteTime": {
     "end_time": "2023-05-14T13:32:22.042504100Z",
     "start_time": "2023-05-14T13:32:13.166307200Z"
    }
   },
   "outputs": [
    {
     "name": "stdout",
     "output_type": "stream",
     "text": [
      "250/250 [==============================] - 9s 34ms/step - loss: 0.1777 - accuracy: 0.9383\n"
     ]
    },
    {
     "data": {
      "text/plain": "[0.17774651944637299, 0.9382500052452087]"
     },
     "execution_count": 24,
     "metadata": {},
     "output_type": "execute_result"
    }
   ],
   "source": [
    "# Evaluation\n",
    "best_model.evaluate(tf_test_dataset, batch_size=32)"
   ]
  },
  {
   "cell_type": "code",
   "execution_count": null,
   "metadata": {
    "ExecuteTime": {
     "end_time": "2023-05-12T14:15:04.333778900Z",
     "start_time": "2023-05-12T14:14:54.558304900Z"
    },
    "collapsed": false
   },
   "outputs": [],
   "source": [
    "# Getting predictions\n",
    "prediction_logits = best_model.predict(tf_test_dataset)['logits']\n",
    "probabilities = tf.nn.softmax(prediction_logits)\n",
    "class_preds = np.argmax(probabilities, axis=1)"
   ]
  }
 ],
 "metadata": {
  "kernelspec": {
   "display_name": "Python 3",
   "language": "python",
   "name": "python3"
  },
  "language_info": {
   "codemirror_mode": {
    "name": "ipython",
    "version": 3
   },
   "file_extension": ".py",
   "mimetype": "text/x-python",
   "name": "python",
   "nbconvert_exporter": "python",
   "pygments_lexer": "ipython3",
   "version": "3.10.11"
  }
 },
 "nbformat": 4,
 "nbformat_minor": 0
}
