{
  "cells": [
    {
      "cell_type": "code",
      "execution_count": null,
      "outputs": [],
      "source": [
        "import os\n",
        "\n",
        "import pandas as pd\n",
        "import tensorflow as tf\n",
        "import matplotlib.pyplot as plt\n",
        "import numpy as np"
      ],
      "metadata": {
        "ExecuteTime": {
          "end_time": "2023-05-23T14:16:29.163438100Z",
          "start_time": "2023-05-23T14:16:25.753599900Z"
        },
        "id": "Ka3QGbQZYNB0"
      }
    },
    {
      "cell_type": "code",
      "source": [
        "import json\n",
        "\n",
        "def parse_sarcasm_json_dataset(file):\n",
        "    for line in open(file, 'r'):\n",
        "        yield json.loads(line)"
      ],
      "metadata": {
        "id": "p0VrXij_Zk4W"
      },
      "execution_count": null,
      "outputs": []
    },
    {
      "cell_type": "code",
      "execution_count": null,
      "outputs": [
        {
          "data": {
            "text/plain": "                                                     text emotions\n27383   i feel awful about it too because it s my job ...  sadness\n110083                              im alone i feel awful  sadness\n140764  ive probably mentioned this before but i reall...      joy\n100071           i was feeling a little low few days back  sadness\n2837    i beleive that i am much more sensitive to oth...     love\n...                                                   ...      ...\n566     that was what i felt when i was finally accept...      joy\n36236   i take every day as it comes i m just focussin...     fear\n76229       i just suddenly feel that everything was fake  sadness\n131640  im feeling more eager than ever to claw back w...      joy\n64703   i give you plenty of attention even when i fee...  sadness\n\n[416809 rows x 2 columns]",
            "text/html": "<div>\n<style scoped>\n    .dataframe tbody tr th:only-of-type {\n        vertical-align: middle;\n    }\n\n    .dataframe tbody tr th {\n        vertical-align: top;\n    }\n\n    .dataframe thead th {\n        text-align: right;\n    }\n</style>\n<table border=\"1\" class=\"dataframe\">\n  <thead>\n    <tr style=\"text-align: right;\">\n      <th></th>\n      <th>text</th>\n      <th>emotions</th>\n    </tr>\n  </thead>\n  <tbody>\n    <tr>\n      <th>27383</th>\n      <td>i feel awful about it too because it s my job ...</td>\n      <td>sadness</td>\n    </tr>\n    <tr>\n      <th>110083</th>\n      <td>im alone i feel awful</td>\n      <td>sadness</td>\n    </tr>\n    <tr>\n      <th>140764</th>\n      <td>ive probably mentioned this before but i reall...</td>\n      <td>joy</td>\n    </tr>\n    <tr>\n      <th>100071</th>\n      <td>i was feeling a little low few days back</td>\n      <td>sadness</td>\n    </tr>\n    <tr>\n      <th>2837</th>\n      <td>i beleive that i am much more sensitive to oth...</td>\n      <td>love</td>\n    </tr>\n    <tr>\n      <th>...</th>\n      <td>...</td>\n      <td>...</td>\n    </tr>\n    <tr>\n      <th>566</th>\n      <td>that was what i felt when i was finally accept...</td>\n      <td>joy</td>\n    </tr>\n    <tr>\n      <th>36236</th>\n      <td>i take every day as it comes i m just focussin...</td>\n      <td>fear</td>\n    </tr>\n    <tr>\n      <th>76229</th>\n      <td>i just suddenly feel that everything was fake</td>\n      <td>sadness</td>\n    </tr>\n    <tr>\n      <th>131640</th>\n      <td>im feeling more eager than ever to claw back w...</td>\n      <td>joy</td>\n    </tr>\n    <tr>\n      <th>64703</th>\n      <td>i give you plenty of attention even when i fee...</td>\n      <td>sadness</td>\n    </tr>\n  </tbody>\n</table>\n<p>416809 rows × 2 columns</p>\n</div>"
          },
          "execution_count": 2,
          "metadata": {},
          "output_type": "execute_result"
        }
      ],
      "source": [
        "df = pd.read_pickle(\"../data/news_headlines_for_sarcasm_detection/Sarcasm_Headlines_Dataset_v2.json\")\n",
        "df"
      ],
      "metadata": {
        "ExecuteTime": {
          "end_time": "2023-05-23T14:16:30.027340800Z",
          "start_time": "2023-05-23T14:16:29.920647200Z"
        },
        "id": "Q_ONFG6cYNB2",
        "outputId": "329af92e-cf48-414f-ee33-e53baf9468b1"
      }
    },
    {
      "cell_type": "code",
      "execution_count": null,
      "outputs": [],
      "source": [
        "df = df.drop(columns=['article_link'])\n",
        "df"
      ],
      "metadata": {
        "ExecuteTime": {
          "end_time": "2023-05-23T14:16:32.460404500Z",
          "start_time": "2023-05-23T14:16:32.330106900Z"
        },
        "id": "s3vSJzBbYNB3"
      }
    },
    {
      "cell_type": "code",
      "execution_count": null,
      "outputs": [
        {
          "data": {
            "text/plain": "                                                     text  emotions\n140764                                i feel too pathetic   sadness\n10714   i feel like i m the only guy on the planet tha...     anger\n35177   i remember feeling shocked and on some level d...  surprise\n122177  i just don t want to or i want to do my own th...     anger\n98659                                i feel impressed now  surprise\n...                                                   ...       ...\n10560   i feel like wanna post everything i narrated a...       joy\n5282    i really like the song the artists divine insp...  surprise\n6187    i wake up feeling horrible and counting down t...   sadness\n6813    i am feeling so irritated because this old man...     anger\n1580    i wish i could open up to people not feel so t...      fear\n\n[89832 rows x 2 columns]",
            "text/html": "<div>\n<style scoped>\n    .dataframe tbody tr th:only-of-type {\n        vertical-align: middle;\n    }\n\n    .dataframe tbody tr th {\n        vertical-align: top;\n    }\n\n    .dataframe thead th {\n        text-align: right;\n    }\n</style>\n<table border=\"1\" class=\"dataframe\">\n  <thead>\n    <tr style=\"text-align: right;\">\n      <th></th>\n      <th>text</th>\n      <th>emotions</th>\n    </tr>\n  </thead>\n  <tbody>\n    <tr>\n      <th>140764</th>\n      <td>i feel too pathetic</td>\n      <td>sadness</td>\n    </tr>\n    <tr>\n      <th>10714</th>\n      <td>i feel like i m the only guy on the planet tha...</td>\n      <td>anger</td>\n    </tr>\n    <tr>\n      <th>35177</th>\n      <td>i remember feeling shocked and on some level d...</td>\n      <td>surprise</td>\n    </tr>\n    <tr>\n      <th>122177</th>\n      <td>i just don t want to or i want to do my own th...</td>\n      <td>anger</td>\n    </tr>\n    <tr>\n      <th>98659</th>\n      <td>i feel impressed now</td>\n      <td>surprise</td>\n    </tr>\n    <tr>\n      <th>...</th>\n      <td>...</td>\n      <td>...</td>\n    </tr>\n    <tr>\n      <th>10560</th>\n      <td>i feel like wanna post everything i narrated a...</td>\n      <td>joy</td>\n    </tr>\n    <tr>\n      <th>5282</th>\n      <td>i really like the song the artists divine insp...</td>\n      <td>surprise</td>\n    </tr>\n    <tr>\n      <th>6187</th>\n      <td>i wake up feeling horrible and counting down t...</td>\n      <td>sadness</td>\n    </tr>\n    <tr>\n      <th>6813</th>\n      <td>i am feeling so irritated because this old man...</td>\n      <td>anger</td>\n    </tr>\n    <tr>\n      <th>1580</th>\n      <td>i wish i could open up to people not feel so t...</td>\n      <td>fear</td>\n    </tr>\n  </tbody>\n</table>\n<p>89832 rows × 2 columns</p>\n</div>"
          },
          "execution_count": 4,
          "metadata": {},
          "output_type": "execute_result"
        }
      ],
      "source": [
        "# It is only fine-tuning, thus 400k data samples is a complete overkill. It can be reduced to 40k.\n",
        "df = df.iloc[:40000]"
      ],
      "metadata": {
        "ExecuteTime": {
          "end_time": "2023-05-23T14:16:34.674478200Z",
          "start_time": "2023-05-23T14:16:34.594548700Z"
        },
        "id": "5-BjY_M3YNB4",
        "outputId": "7d138676-210d-4d8d-c786-2164439be05e"
      }
    },
    {
      "cell_type": "code",
      "execution_count": null,
      "outputs": [
        {
          "data": {
            "text/plain": "<Figure size 640x480 with 1 Axes>",
            "image/png": "[encoded data removed]"
          },
          "metadata": {},
          "output_type": "display_data"
        }
      ],
      "source": [
        "data = df[\"is_sarcastic\"]\n",
        "data.value_counts().plot.bar()\n",
        "plt.show()"
      ],
      "metadata": {
        "ExecuteTime": {
          "end_time": "2023-05-23T14:16:39.909452Z",
          "start_time": "2023-05-23T14:16:39.783426800Z"
        },
        "id": "oWxZkrn2YNB5",
        "outputId": "459b60e0-65ac-43db-adea-8b0190e84c39"
      }
    },
    {
      "cell_type": "code",
      "execution_count": null,
      "outputs": [
        {
          "data": {
            "text/plain": "Dataset({\n    features: ['text', 'emotions'],\n    num_rows: 40000\n})"
          },
          "execution_count": 9,
          "metadata": {},
          "output_type": "execute_result"
        }
      ],
      "source": [
        "from datasets import Dataset\n",
        "\n",
        "raw_dataset = Dataset.from_pandas(df)\n",
        "raw_dataset"
      ],
      "metadata": {
        "ExecuteTime": {
          "end_time": "2023-05-23T14:16:47.534116300Z",
          "start_time": "2023-05-23T14:16:46.947121Z"
        },
        "id": "7pXZTJ1BYNB6",
        "outputId": "ea16f661-baa2-433d-ba1a-7871a2ad8b0d"
      }
    },
    {
      "cell_type": "code",
      "execution_count": null,
      "outputs": [],
      "source": [
        "from transformers import AutoTokenizer\n",
        "\n",
        "MAX_TOKENS = 128\n",
        "EOS_TOKEN = \"<|endoftext|>\"\n",
        "checkpoint = \"gpt2\"\n",
        "\n",
        "tokenizer = AutoTokenizer.from_pretrained(\n",
        "    checkpoint,\n",
        "    eos_token=EOS_TOKEN,\n",
        "    pad_token=EOS_TOKEN,\n",
        "    max_length=MAX_TOKENS,\n",
        "    is_split_into_words=True,\n",
        ")\n",
        "\n",
        "tokenizer.padding_side = \"left\""
      ],
      "metadata": {
        "ExecuteTime": {
          "end_time": "2023-05-23T14:16:50.013663400Z",
          "start_time": "2023-05-23T14:16:48.925820400Z"
        },
        "id": "tLLo9NxbYNB7"
      }
    },
    {
      "cell_type": "code",
      "execution_count": null,
      "outputs": [],
      "source": [
        "def tokenize_function(examples):\n",
        "    examples = [ex + EOS_TOKEN for ex in examples['headline']]\n",
        "\n",
        "    output = tokenizer(\n",
        "        examples,\n",
        "        add_special_tokens=True,\n",
        "        max_length=MAX_TOKENS,\n",
        "        truncation=True,\n",
        "        padding=True,\n",
        "    )\n",
        "\n",
        "    # truncate input ids and attention mask to account for label shift\n",
        "    output[\"input_ids\"] = [x[:-1] for x in output[\"input_ids\"]]\n",
        "    output[\"attention_mask\"] = [x[:-1] for x in output[\"attention_mask\"]]\n",
        "    return output"
      ],
      "metadata": {
        "ExecuteTime": {
          "end_time": "2023-05-23T14:17:33.197576300Z",
          "start_time": "2023-05-23T14:17:33.180548100Z"
        },
        "id": "2JVg8ng9YNB7"
      }
    },
    {
      "cell_type": "code",
      "execution_count": null,
      "outputs": [
        {
          "data": {
            "text/plain": "Map:   0%|          | 0/40000 [00:00<?, ? examples/s]",
            "application/vnd.jupyter.widget-view+json": {
              "version_major": 2,
              "version_minor": 0,
              "model_id": "154b70647d9f47339bb4ae5e4c392a3b"
            }
          },
          "metadata": {},
          "output_type": "display_data"
        }
      ],
      "source": [
        "tokenized_dataset = raw_dataset.map(tokenize_function, batched=True)"
      ],
      "metadata": {
        "ExecuteTime": {
          "end_time": "2023-05-23T14:17:35.473850300Z",
          "start_time": "2023-05-23T14:17:34.052798500Z"
        },
        "colab": {
          "referenced_widgets": [
            "154b70647d9f47339bb4ae5e4c392a3b"
          ]
        },
        "id": "W0Wt33Z9YNB7",
        "outputId": "9f4bb39c-3985-4701-c41f-5f3d36829e67"
      }
    },
    {
      "cell_type": "code",
      "execution_count": null,
      "outputs": [],
      "source": [
        "# Train set: 80%, Validation set: 10%, Test set: 10%\n",
        "split_train_val_and_test_dataset = tokenized_dataset.train_test_split(train_size=0.8)\n",
        "split_val_test_dataset = split_train_val_and_test_dataset[\"test\"].train_test_split(test_size=0.5)\n",
        "\n",
        "tokenized_train_dataset = split_train_val_and_test_dataset[\"train\"]\n",
        "tokenized_val_dataset = split_val_test_dataset[\"train\"]\n",
        "tokenized_test_dataset = split_val_test_dataset[\"test\"]"
      ],
      "metadata": {
        "ExecuteTime": {
          "end_time": "2023-05-23T14:17:37.005508500Z",
          "start_time": "2023-05-23T14:17:36.982477800Z"
        },
        "id": "2t1ZSHjeYNB8"
      }
    },
    {
      "cell_type": "code",
      "execution_count": null,
      "outputs": [
        {
          "name": "stderr",
          "output_type": "stream",
          "text": [
            "C:\\Users\\Karol\\anaconda3\\envs\\ml-tf2gpu\\lib\\site-packages\\datasets\\arrow_dataset.py:388: FutureWarning: The output of `to_tf_dataset` will change when a passing single element list for `labels` or `columns` in the next datasets version. To return a tuple structure rather than dict, pass a single string.\n",
            "Old behaviour: columns=['a'], labels=['labels'] -> (tf.Tensor, tf.Tensor)  \n",
            "             : columns='a', labels='labels' -> (tf.Tensor, tf.Tensor)  \n",
            "New behaviour: columns=['a'],labels=['labels'] -> ({'a': tf.Tensor}, {'labels': tf.Tensor})  \n",
            "             : columns='a', labels='labels' -> (tf.Tensor, tf.Tensor) \n",
            "  warnings.warn(\n",
            "You're using a GPT2TokenizerFast tokenizer. Please note that with a fast tokenizer, using the `__call__` method is faster than using a method to encode the text followed by a call to the `pad` method to get a padded encoding.\n"
          ]
        }
      ],
      "source": [
        "from transformers import DataCollatorWithPadding\n",
        "\n",
        "batch_size = 16\n",
        "\n",
        "\n",
        "def convert_to_tf_dataset(hf_dataset, collator, batch_size=batch_size, shuffle=False):\n",
        "    return hf_dataset.to_tf_dataset(\n",
        "        columns=[\"input_ids\", \"attention_mask\"],\n",
        "        label_cols=[\"is_sarcastic\"],\n",
        "        collate_fn=collator,\n",
        "        shuffle=shuffle,\n",
        "        batch_size=batch_size,\n",
        "    )\n",
        "\n",
        "\n",
        "data_collator = DataCollatorWithPadding(tokenizer=tokenizer, return_tensors=\"tf\")\n",
        "\n",
        "tf_train_dataset = convert_to_tf_dataset(hf_dataset=tokenized_train_dataset, collator=data_collator)\n",
        "tf_val_dataset = convert_to_tf_dataset(hf_dataset=tokenized_val_dataset, collator=data_collator)\n",
        "tf_test_dataset = convert_to_tf_dataset(hf_dataset=tokenized_test_dataset, collator=data_collator)"
      ],
      "metadata": {
        "ExecuteTime": {
          "end_time": "2023-05-23T14:17:44.317660300Z",
          "start_time": "2023-05-23T14:17:41.844261Z"
        },
        "id": "YVdKGW1IYNB8",
        "outputId": "9e34ac9e-a8b2-4f4b-e2fc-5b98fcbb96b4"
      }
    },
    {
      "cell_type": "code",
      "execution_count": null,
      "outputs": [],
      "source": [
        "import Constants\n",
        "\n",
        "# Callbacks\n",
        "training_number = 1\n",
        "model_name = \"sarcasm_eng_gpt2\"\n",
        "training_folder = f\"training_{training_number}\"\n",
        "checkpoint_filename = \"cp-{epoch:04d}.ckpt\"\n",
        "training_path = os.path.join(Constants.TRAINING_CHECKPOINTS_PATH, model_name, training_folder)\n",
        "checkpoint_path = os.path.join(training_path, checkpoint_filename)\n",
        "checkpoint_cb = tf.keras.callbacks.ModelCheckpoint(checkpoint_path, verbose=1, save_weights_only=True)\n",
        "\n",
        "early_stop_cb = tf.keras.callbacks.EarlyStopping(patience=3)"
      ],
      "metadata": {
        "ExecuteTime": {
          "end_time": "2023-05-23T14:18:00.128966300Z",
          "start_time": "2023-05-23T14:17:59.705724300Z"
        },
        "id": "Cul0LLLXYNB9"
      }
    },
    {
      "cell_type": "code",
      "execution_count": null,
      "outputs": [
        {
          "data": {
            "text/plain": "'../training_checkpoints\\\\emotions_eng_gpt2\\\\training_1\\\\cp-{epoch:04d}.ckpt'"
          },
          "execution_count": 18,
          "metadata": {},
          "output_type": "execute_result"
        }
      ],
      "source": [
        "checkpoint_path"
      ],
      "metadata": {
        "ExecuteTime": {
          "end_time": "2023-05-23T14:18:00.722474400Z",
          "start_time": "2023-05-23T14:18:00.707963900Z"
        },
        "id": "eTzBLhHVYNB9",
        "outputId": "3832f081-268e-4005-d2f6-d71ff407c64e"
      }
    },
    {
      "cell_type": "code",
      "execution_count": null,
      "outputs": [],
      "source": [
        "from tensorflow.keras.optimizers.schedules import PolynomialDecay\n",
        "from tensorflow.keras.optimizers import Adam\n",
        "\n",
        "num_epochs = 10\n",
        "# The number of training steps is the number of samples in the dataset, divided by the batch size then multiplied\n",
        "# by the total number of epochs. Note that the tf_train_dataset here is a batched tf.data.Dataset,\n",
        "# not the original Hugging Face Dataset, so its len() is already num_samples // batch_size.\n",
        "num_train_steps = len(tf_train_dataset) * num_epochs\n",
        "lr_scheduler = PolynomialDecay(\n",
        "    initial_learning_rate=5e-5, end_learning_rate=0.0, decay_steps=num_train_steps\n",
        ")\n",
        "\n",
        "optimizer = Adam(learning_rate=lr_scheduler)"
      ],
      "metadata": {
        "ExecuteTime": {
          "end_time": "2023-05-23T14:18:04.131771100Z",
          "start_time": "2023-05-23T14:18:04.103516600Z"
        },
        "id": "1FL-_F19YNB-"
      }
    },
    {
      "cell_type": "code",
      "execution_count": null,
      "outputs": [
        {
          "name": "stderr",
          "output_type": "stream",
          "text": [
            "All model checkpoint layers were used when initializing TFGPT2ForSequenceClassification.\n",
            "\n",
            "Some layers of TFGPT2ForSequenceClassification were not initialized from the model checkpoint at gpt2 and are newly initialized: ['score']\n",
            "You should probably TRAIN this model on a down-stream task to be able to use it for predictions and inference.\n"
          ]
        }
      ],
      "source": [
        "from transformers import TFAutoModelForSequenceClassification\n",
        "\n",
        "model = TFAutoModelForSequenceClassification.from_pretrained(checkpoint, pad_token_id=tokenizer.pad_token_id, eos_token_id=tokenizer.eos_token_id, use_cache=False, num_labels=2)"
      ],
      "metadata": {
        "ExecuteTime": {
          "end_time": "2023-05-23T14:18:08.029785300Z",
          "start_time": "2023-05-23T14:18:05.555755700Z"
        },
        "id": "yIfEW7T4YNB-",
        "outputId": "a3585925-4ca8-40dd-ec28-e3741ffadf19"
      }
    },
    {
      "cell_type": "code",
      "execution_count": null,
      "outputs": [
        {
          "name": "stdout",
          "output_type": "stream",
          "text": [
            "Model: \"tfgp_t2for_sequence_classification\"\n",
            "_________________________________________________________________\n",
            "Layer (type)                 Output Shape              Param #   \n",
            "=================================================================\n",
            "score (Dense)                multiple                  4608      \n",
            "_________________________________________________________________\n",
            "transformer (TFGPT2MainLayer multiple                  124439808 \n",
            "=================================================================\n",
            "Total params: 124,444,416\n",
            "Trainable params: 124,444,416\n",
            "Non-trainable params: 0\n",
            "_________________________________________________________________\n"
          ]
        }
      ],
      "source": [
        "model.summary()"
      ],
      "metadata": {
        "ExecuteTime": {
          "end_time": "2023-05-23T14:18:15.403984100Z",
          "start_time": "2023-05-23T14:18:15.380385400Z"
        },
        "id": "Br72t-R9YNB_",
        "outputId": "fb3f4432-ac9f-45b0-f77c-082530f53ab2"
      }
    },
    {
      "cell_type": "code",
      "execution_count": null,
      "outputs": [],
      "source": [
        "# Compile\n",
        "loss = tf.keras.losses.SparseCategoricalCrossentropy(from_logits=True)\n",
        "metrics = [\"accuracy\"]\n",
        "model.compile(optimizer=optimizer, loss=loss, metrics=metrics)"
      ],
      "metadata": {
        "ExecuteTime": {
          "end_time": "2023-05-23T14:18:29.248886200Z",
          "start_time": "2023-05-23T14:18:29.224630Z"
        },
        "id": "5vzQiE1TYNB_"
      }
    },
    {
      "cell_type": "code",
      "execution_count": null,
      "outputs": [
        {
          "name": "stdout",
          "output_type": "stream",
          "text": [
            "2000/2000 [==============================] - 248s 118ms/step - loss: 0.7212 - accuracy: 0.7093 - val_loss: 0.2615 - val_accuracy: 0.8982\n",
            "\n",
            "Epoch 00001: saving model to ../training_checkpoints\\emotions_eng_gpt2\\training_1\\cp-0001.ckpt\n"
          ]
        }
      ],
      "source": [
        "history = model.fit(tf_train_dataset, validation_data=tf_val_dataset, epochs=num_epochs,\n",
        "                    callbacks=[checkpoint_cb, early_stop_cb])"
      ],
      "metadata": {
        "ExecuteTime": {
          "end_time": "2023-05-23T14:22:43.924313900Z",
          "start_time": "2023-05-23T14:18:33.298944500Z"
        },
        "id": "MKVJVVG0YNCA",
        "outputId": "581edcf5-68b4-4cdb-f44f-95d83c54bef1"
      }
    },
    {
      "cell_type": "code",
      "execution_count": null,
      "outputs": [
        {
          "data": {
            "text/plain": "<Figure size 640x480 with 1 Axes>",
            "image/png": "[encoded data removed]"
          },
          "metadata": {},
          "output_type": "display_data"
        },
        {
          "data": {
            "text/plain": "<Figure size 640x480 with 1 Axes>",
            "image/png": "[encoded data removed]"
          },
          "metadata": {},
          "output_type": "display_data"
        }
      ],
      "source": [
        "plt.plot(history.history['accuracy'])\n",
        "plt.plot(history.history['val_accuracy'])\n",
        "plt.title('Model accuracy')\n",
        "plt.ylabel('Accuracy')\n",
        "plt.xlabel('Epoch')\n",
        "plt.legend(['Train', 'Val'], loc='upper left')\n",
        "plt.savefig(f\"../documentation/models/{model_name}/figures/{training_folder}_accuracy.png\")\n",
        "plt.show()\n",
        "\n",
        "plt.plot(history.history['loss'])\n",
        "plt.plot(history.history['val_loss'])\n",
        "plt.title('Model loss')\n",
        "plt.ylabel('Loss')\n",
        "plt.xlabel('Epoch')\n",
        "plt.legend(['Train', 'Val'], loc='upper left')\n",
        "plt.savefig(f\"../documentation/models/{model_name}/figures/{training_folder}_loss.png\")\n",
        "plt.show()"
      ],
      "metadata": {
        "ExecuteTime": {
          "end_time": "2023-05-23T14:22:56.853302Z",
          "start_time": "2023-05-23T14:22:56.555774100Z"
        },
        "id": "8dzdtjYnYNCA",
        "outputId": "a324428d-c799-4ea4-afa5-91aec06cefba"
      }
    },
    {
      "cell_type": "code",
      "execution_count": null,
      "outputs": [
        {
          "data": {
            "text/plain": "<tensorflow.python.training.tracking.util.CheckpointLoadStatus at 0x239445b9040>"
          },
          "execution_count": 24,
          "metadata": {},
          "output_type": "execute_result"
        }
      ],
      "source": [
        "import shutil\n",
        "\n",
        "best_model_checkpoint_index = np.argmin(history.history[\"val_accuracy\"]) + 1\n",
        "best_model_weights_path = os.path.join(training_path, checkpoint_filename.format(epoch=best_model_checkpoint_index))\n",
        "best_model = model\n",
        "best_model.load_weights(best_model_weights_path)\n",
        "\n",
        "shutil.rmtree(training_path)"
      ],
      "metadata": {
        "ExecuteTime": {
          "end_time": "2023-05-23T13:42:22.094268200Z",
          "start_time": "2023-05-23T13:42:19.145782200Z"
        },
        "id": "N2Pn8rnOYNCA",
        "outputId": "0a16c6cf-dd25-46a2-cd3e-9a320f525404"
      }
    },
    {
      "cell_type": "code",
      "execution_count": null,
      "outputs": [
        {
          "name": "stderr",
          "output_type": "stream",
          "text": [
            "WARNING:absl:Found untraced functions such as wte_layer_call_fn, wte_layer_call_and_return_conditional_losses, dropout_layer_call_fn, dropout_layer_call_and_return_conditional_losses, ln_f_layer_call_fn while saving (showing 5 of 735). These functions will not be directly callable after loading.\n"
          ]
        },
        {
          "name": "stdout",
          "output_type": "stream",
          "text": [
            "INFO:tensorflow:Assets written to: ../trained_models\\emotions_eng_gpt2_4\\1\\assets\n"
          ]
        },
        {
          "name": "stderr",
          "output_type": "stream",
          "text": [
            "INFO:tensorflow:Assets written to: ../trained_models\\emotions_eng_gpt2_4\\1\\assets\n"
          ]
        }
      ],
      "source": [
        "saved_model_name = f\"{model_name}_{training_number}\"\n",
        "\n",
        "# Save to Saved Model format\n",
        "best_model.save(os.path.join(Constants.SAVED_MODEL_LOCATION, saved_model_name, Constants.DEFAULT_MODEL_VERSION))"
      ],
      "metadata": {
        "ExecuteTime": {
          "end_time": "2023-05-23T13:43:02.781131Z",
          "start_time": "2023-05-23T13:42:23.800212900Z"
        },
        "id": "TppFtVNWYNCB",
        "outputId": "9de40922-0b69-4ca5-d49e-edff85d3a090"
      }
    },
    {
      "cell_type": "code",
      "execution_count": null,
      "outputs": [
        {
          "name": "stdout",
          "output_type": "stream",
          "text": [
            "250/250 [==============================] - 10s 38ms/step - loss: 0.2434 - accuracy: 0.9043\n"
          ]
        },
        {
          "data": {
            "text/plain": "[0.24335874617099762, 0.9042500257492065]"
          },
          "execution_count": 43,
          "metadata": {},
          "output_type": "execute_result"
        }
      ],
      "source": [
        "# Evaluation\n",
        "best_model.evaluate(tf_test_dataset, batch_size=32)"
      ],
      "metadata": {
        "ExecuteTime": {
          "end_time": "2023-05-23T14:24:47.836801300Z",
          "start_time": "2023-05-23T14:24:38.260655500Z"
        },
        "id": "fVnaC9mEYNCB",
        "outputId": "ff61cc25-d8bb-4d72-9f4e-67f5ef856344"
      }
    },
    {
      "cell_type": "code",
      "execution_count": null,
      "outputs": [],
      "source": [
        "# Getting predictions\n",
        "prediction_logits = best_model.predict(tf_test_dataset)['logits']\n",
        "probabilities = tf.nn.softmax(prediction_logits)\n",
        "class_preds = np.argmax(probabilities, axis=1)"
      ],
      "metadata": {
        "ExecuteTime": {
          "end_time": "2023-05-23T13:44:21.447211700Z",
          "start_time": "2023-05-23T13:44:06.811249900Z"
        },
        "id": "uVWYgU0wYNCC"
      }
    },
    {
      "cell_type": "code",
      "execution_count": null,
      "outputs": [],
      "source": [
        "from sklearn.metrics import precision_score, recall_score, f1_score\n",
        "\n",
        "precision = precision_score(tokenized_test_dataset['is_sarcastic'], class_preds)\n",
        "recall = recall_score(tokenized_test_dataset['is_sarcastic'], class_preds)\n",
        "f1 = f1_score(tokenized_test_dataset['is_sarcastic'], class_preds)\n",
        "\n",
        "print(f\"Precision score: \", precision)\n",
        "print(f\"Recall score: \", recall)\n",
        "print(f\"F1 score: \", f1)"
      ],
      "metadata": {
        "id": "uxQYPiK6YNCC"
      }
    },
    {
      "cell_type": "code",
      "execution_count": null,
      "outputs": [],
      "source": [
        "from sklearn.metrics import confusion_matrix, ConfusionMatrixDisplay\n",
        "\n",
        "result = confusion_matrix(tokenized_test_dataset['is_sarcastic'], class_preds)\n",
        "\n",
        "disp = ConfusionMatrixDisplay(confusion_matrix=result)\n",
        "disp.plot()\n",
        "plt.savefig(f\"../documentation/models/{model_name}/figures/{training_folder}_confmatrix.png\")\n",
        "plt.show()"
      ],
      "metadata": {
        "id": "dkk5zWtmYNCC"
      }
    }
  ],
  "metadata": {
    "kernelspec": {
      "display_name": "Python 3",
      "language": "python",
      "name": "python3"
    },
    "language_info": {
      "codemirror_mode": {
        "name": "ipython",
        "version": 2
      },
      "file_extension": ".py",
      "mimetype": "text/x-python",
      "name": "python",
      "nbconvert_exporter": "python",
      "pygments_lexer": "ipython2",
      "version": "2.7.6"
    },
    "colab": {
      "provenance": [],
      "gpuType": "T4"
    },
    "accelerator": "GPU",
    "gpuClass": "standard"
  },
  "nbformat": 4,
  "nbformat_minor": 0
}