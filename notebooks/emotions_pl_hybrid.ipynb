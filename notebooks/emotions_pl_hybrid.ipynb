{
 "cells": [
  {
   "cell_type": "code",
   "execution_count": 1,
   "metadata": {
    "collapsed": true,
    "ExecuteTime": {
     "end_time": "2023-06-17T11:09:56.751797500Z",
     "start_time": "2023-06-17T11:09:46.277239300Z"
    }
   },
   "outputs": [],
   "source": [
    "import sys\n",
    "\n",
    "sys.path.append('./../../notebooks')\n",
    "import os\n",
    "import tensorflow as tf\n",
    "import pandas as pd\n",
    "import numpy as np\n",
    "import gensim\n",
    "import spacy\n",
    "import string\n",
    "from notebooks.core import model_utils\n",
    "\n",
    "from transformers import AutoTokenizer, DataCollatorWithPadding\n",
    "from datasets import Dataset"
   ]
  },
  {
   "cell_type": "code",
   "execution_count": 2,
   "outputs": [
    {
     "data": {
      "text/plain": "          label                                               text\n0         anger                        Czuję się całkowicie chciwy\n1          fear                Czuję się tak przytłoczony emocjami\n2      surprise  Nie czułem efektu siły g Jestem oszołomiony Po...\n3         anger  ive just got to tell you all that I feel Racze...\n4         anger  Powiedziałem ci, że przepraszam, że czujesz si...\n...         ...                                                ...\n39995       joy  czuję się ostatnio dość hojny, ponieważ pracuj...\n39996      love  Czuję, że niektóre postacie nie zasługują na w...\n39997      fear  Czuję strach w moich kościach, którego nie moż...\n39998       joy  Czułem się bardziej kreatywny i mniej jak czys...\n39999   sadness          Czuję się zdruzgotany i pomagam Hellipowi\n\n[40000 rows x 2 columns]",
      "text/html": "<div>\n<style scoped>\n    .dataframe tbody tr th:only-of-type {\n        vertical-align: middle;\n    }\n\n    .dataframe tbody tr th {\n        vertical-align: top;\n    }\n\n    .dataframe thead th {\n        text-align: right;\n    }\n</style>\n<table border=\"1\" class=\"dataframe\">\n  <thead>\n    <tr style=\"text-align: right;\">\n      <th></th>\n      <th>label</th>\n      <th>text</th>\n    </tr>\n  </thead>\n  <tbody>\n    <tr>\n      <th>0</th>\n      <td>anger</td>\n      <td>Czuję się całkowicie chciwy</td>\n    </tr>\n    <tr>\n      <th>1</th>\n      <td>fear</td>\n      <td>Czuję się tak przytłoczony emocjami</td>\n    </tr>\n    <tr>\n      <th>2</th>\n      <td>surprise</td>\n      <td>Nie czułem efektu siły g Jestem oszołomiony Po...</td>\n    </tr>\n    <tr>\n      <th>3</th>\n      <td>anger</td>\n      <td>ive just got to tell you all that I feel Racze...</td>\n    </tr>\n    <tr>\n      <th>4</th>\n      <td>anger</td>\n      <td>Powiedziałem ci, że przepraszam, że czujesz si...</td>\n    </tr>\n    <tr>\n      <th>...</th>\n      <td>...</td>\n      <td>...</td>\n    </tr>\n    <tr>\n      <th>39995</th>\n      <td>joy</td>\n      <td>czuję się ostatnio dość hojny, ponieważ pracuj...</td>\n    </tr>\n    <tr>\n      <th>39996</th>\n      <td>love</td>\n      <td>Czuję, że niektóre postacie nie zasługują na w...</td>\n    </tr>\n    <tr>\n      <th>39997</th>\n      <td>fear</td>\n      <td>Czuję strach w moich kościach, którego nie moż...</td>\n    </tr>\n    <tr>\n      <th>39998</th>\n      <td>joy</td>\n      <td>Czułem się bardziej kreatywny i mniej jak czys...</td>\n    </tr>\n    <tr>\n      <th>39999</th>\n      <td>sadness</td>\n      <td>Czuję się zdruzgotany i pomagam Hellipowi</td>\n    </tr>\n  </tbody>\n</table>\n<p>40000 rows × 2 columns</p>\n</div>"
     },
     "execution_count": 2,
     "metadata": {},
     "output_type": "execute_result"
    }
   ],
   "source": [
    "df = pd.read_json('../../data/translated/emotions/equalized_emotions_dataset_pl.json')\n",
    "df = df.drop(columns=['text'])\n",
    "df.rename(columns={'emotions': 'label', 'text_pl': 'text'}, inplace=True)\n",
    "df"
   ],
   "metadata": {
    "collapsed": false,
    "ExecuteTime": {
     "end_time": "2023-06-17T11:09:56.890697500Z",
     "start_time": "2023-06-17T11:09:56.754796300Z"
    }
   }
  },
  {
   "cell_type": "code",
   "execution_count": 3,
   "outputs": [
    {
     "data": {
      "text/plain": "       label                                               text\n0          4                        Czuję się całkowicie chciwy\n1          5                Czuję się tak przytłoczony emocjami\n2          2  Nie czułem efektu siły g Jestem oszołomiony Po...\n3          4  ive just got to tell you all that I feel Racze...\n4          4  Powiedziałem ci, że przepraszam, że czujesz si...\n...      ...                                                ...\n39995      0  czuję się ostatnio dość hojny, ponieważ pracuj...\n39996      1  Czuję, że niektóre postacie nie zasługują na w...\n39997      5  Czuję strach w moich kościach, którego nie moż...\n39998      0  Czułem się bardziej kreatywny i mniej jak czys...\n39999      3          Czuję się zdruzgotany i pomagam Hellipowi\n\n[40000 rows x 2 columns]",
      "text/html": "<div>\n<style scoped>\n    .dataframe tbody tr th:only-of-type {\n        vertical-align: middle;\n    }\n\n    .dataframe tbody tr th {\n        vertical-align: top;\n    }\n\n    .dataframe thead th {\n        text-align: right;\n    }\n</style>\n<table border=\"1\" class=\"dataframe\">\n  <thead>\n    <tr style=\"text-align: right;\">\n      <th></th>\n      <th>label</th>\n      <th>text</th>\n    </tr>\n  </thead>\n  <tbody>\n    <tr>\n      <th>0</th>\n      <td>4</td>\n      <td>Czuję się całkowicie chciwy</td>\n    </tr>\n    <tr>\n      <th>1</th>\n      <td>5</td>\n      <td>Czuję się tak przytłoczony emocjami</td>\n    </tr>\n    <tr>\n      <th>2</th>\n      <td>2</td>\n      <td>Nie czułem efektu siły g Jestem oszołomiony Po...</td>\n    </tr>\n    <tr>\n      <th>3</th>\n      <td>4</td>\n      <td>ive just got to tell you all that I feel Racze...</td>\n    </tr>\n    <tr>\n      <th>4</th>\n      <td>4</td>\n      <td>Powiedziałem ci, że przepraszam, że czujesz si...</td>\n    </tr>\n    <tr>\n      <th>...</th>\n      <td>...</td>\n      <td>...</td>\n    </tr>\n    <tr>\n      <th>39995</th>\n      <td>0</td>\n      <td>czuję się ostatnio dość hojny, ponieważ pracuj...</td>\n    </tr>\n    <tr>\n      <th>39996</th>\n      <td>1</td>\n      <td>Czuję, że niektóre postacie nie zasługują na w...</td>\n    </tr>\n    <tr>\n      <th>39997</th>\n      <td>5</td>\n      <td>Czuję strach w moich kościach, którego nie moż...</td>\n    </tr>\n    <tr>\n      <th>39998</th>\n      <td>0</td>\n      <td>Czułem się bardziej kreatywny i mniej jak czys...</td>\n    </tr>\n    <tr>\n      <th>39999</th>\n      <td>3</td>\n      <td>Czuję się zdruzgotany i pomagam Hellipowi</td>\n    </tr>\n  </tbody>\n</table>\n<p>40000 rows × 2 columns</p>\n</div>"
     },
     "execution_count": 3,
     "metadata": {},
     "output_type": "execute_result"
    }
   ],
   "source": [
    "ordered_class_labels = {\n",
    "    \"joy\": 0,\n",
    "    \"love\": 1,\n",
    "    \"surprise\": 2,\n",
    "    \"sadness\": 3,\n",
    "    \"anger\": 4,\n",
    "    \"fear\": 5,\n",
    "}\n",
    "df = df.replace({\"label\": ordered_class_labels})\n",
    "df"
   ],
   "metadata": {
    "collapsed": false,
    "ExecuteTime": {
     "end_time": "2023-06-17T11:09:56.976985900Z",
     "start_time": "2023-06-17T11:09:56.891815600Z"
    }
   }
  },
  {
   "cell_type": "code",
   "execution_count": 4,
   "outputs": [
    {
     "data": {
      "text/plain": "Dataset({\n    features: ['label', 'text'],\n    num_rows: 40000\n})"
     },
     "execution_count": 4,
     "metadata": {},
     "output_type": "execute_result"
    }
   ],
   "source": [
    "full_dataset = Dataset.from_pandas(df).remove_columns(\"__index_level_0__\")\n",
    "full_dataset"
   ],
   "metadata": {
    "collapsed": false,
    "ExecuteTime": {
     "end_time": "2023-06-17T11:09:57.006757200Z",
     "start_time": "2023-06-17T11:09:56.923974500Z"
    }
   }
  },
  {
   "cell_type": "code",
   "execution_count": 5,
   "outputs": [
    {
     "data": {
      "text/plain": "Dataset({\n    features: ['label', 'text'],\n    num_rows: 4000\n})"
     },
     "execution_count": 5,
     "metadata": {},
     "output_type": "execute_result"
    }
   ],
   "source": [
    "# Train set: 80%, Validation set: 10%, Test set: 10%\n",
    "_, _, test_dataset = model_utils.split_train_val_test(\n",
    "    full_dataset,\n",
    "    train_size=0.8,\n",
    "    test_size_of_val_test_batch=0.5,\n",
    "    shuffle=True,\n",
    "    seed=42)\n",
    "test_dataset"
   ],
   "metadata": {
    "collapsed": false,
    "ExecuteTime": {
     "end_time": "2023-06-17T11:09:57.038318800Z",
     "start_time": "2023-06-17T11:09:56.952511300Z"
    }
   }
  },
  {
   "cell_type": "code",
   "execution_count": 6,
   "outputs": [],
   "source": [
    "# Load models\n",
    "version = \"1\"\n",
    "trained_bert = os.path.join(\"./../../trained_models/emotions_pl_bert_5\", version)\n",
    "trained_gpt = os.path.join(\"./../../trained_models/emotions_pl_gpt2_2\", version)\n",
    "trained_word2vec = os.path.join(\"./../../trained_models/emotions_pl_word2vec_external_1\", version)\n",
    "\n",
    "bert = tf.keras.models.load_model(trained_bert)\n",
    "gpt2 = tf.keras.models.load_model(trained_gpt)\n",
    "word2vec = tf.keras.models.load_model(trained_word2vec)"
   ],
   "metadata": {
    "collapsed": false,
    "ExecuteTime": {
     "end_time": "2023-06-17T11:11:20.430792Z",
     "start_time": "2023-06-17T11:09:56.983741100Z"
    }
   }
  },
  {
   "cell_type": "code",
   "execution_count": 7,
   "outputs": [
    {
     "name": "stdout",
     "output_type": "stream",
     "text": [
      "Model: \"tf_bert_for_sequence_classification\"\n",
      "_________________________________________________________________\n",
      "Layer (type)                 Output Shape              Param #   \n",
      "=================================================================\n",
      "bert (Custom>TFBertMainLayer multiple                  132121344 \n",
      "_________________________________________________________________\n",
      "dropout_37 (Dropout)         multiple                  0         \n",
      "_________________________________________________________________\n",
      "classifier (Dense)           multiple                  4614      \n",
      "=================================================================\n",
      "Total params: 132,125,958\n",
      "Trainable params: 132,125,958\n",
      "Non-trainable params: 0\n",
      "_________________________________________________________________\n"
     ]
    }
   ],
   "source": [
    "bert.summary()"
   ],
   "metadata": {
    "collapsed": false,
    "ExecuteTime": {
     "end_time": "2023-06-17T11:11:20.441931200Z",
     "start_time": "2023-06-17T11:11:20.433808700Z"
    }
   }
  },
  {
   "cell_type": "code",
   "execution_count": 8,
   "outputs": [
    {
     "name": "stdout",
     "output_type": "stream",
     "text": [
      "Model: \"tfgp_t2for_sequence_classification\"\n",
      "_________________________________________________________________\n",
      "Layer (type)                 Output Shape              Param #   \n",
      "=================================================================\n",
      "score (Dense)                multiple                  4608      \n",
      "_________________________________________________________________\n",
      "transformer (Custom>TFGPT2Ma multiple                  124439808 \n",
      "=================================================================\n",
      "Total params: 124,444,416\n",
      "Trainable params: 124,444,416\n",
      "Non-trainable params: 0\n",
      "_________________________________________________________________\n"
     ]
    }
   ],
   "source": [
    "gpt2.summary()"
   ],
   "metadata": {
    "collapsed": false,
    "ExecuteTime": {
     "end_time": "2023-06-17T11:11:20.516872Z",
     "start_time": "2023-06-17T11:11:20.443931700Z"
    }
   }
  },
  {
   "cell_type": "code",
   "execution_count": 9,
   "outputs": [
    {
     "name": "stdout",
     "output_type": "stream",
     "text": [
      "Model: \"sequential\"\n",
      "_________________________________________________________________\n",
      "Layer (type)                 Output Shape              Param #   \n",
      "=================================================================\n",
      "dense (Dense)                (None, 512)               51712     \n",
      "_________________________________________________________________\n",
      "dense_1 (Dense)              (None, 256)               131328    \n",
      "_________________________________________________________________\n",
      "dense_2 (Dense)              (None, 128)               32896     \n",
      "_________________________________________________________________\n",
      "dense_3 (Dense)              (None, 64)                8256      \n",
      "_________________________________________________________________\n",
      "dense_4 (Dense)              (None, 32)                2080      \n",
      "_________________________________________________________________\n",
      "dense_5 (Dense)              (None, 16)                528       \n",
      "_________________________________________________________________\n",
      "dense_6 (Dense)              (None, 6)                 102       \n",
      "=================================================================\n",
      "Total params: 226,902\n",
      "Trainable params: 226,902\n",
      "Non-trainable params: 0\n",
      "_________________________________________________________________\n"
     ]
    }
   ],
   "source": [
    "word2vec.summary()"
   ],
   "metadata": {
    "collapsed": false,
    "ExecuteTime": {
     "end_time": "2023-06-17T11:11:20.539445700Z",
     "start_time": "2023-06-17T11:11:20.459056300Z"
    }
   }
  },
  {
   "cell_type": "code",
   "execution_count": 10,
   "outputs": [
    {
     "data": {
      "text/plain": "Map:   0%|          | 0/4000 [00:00<?, ? examples/s]",
      "application/vnd.jupyter.widget-view+json": {
       "version_major": 2,
       "version_minor": 0,
       "model_id": "e1f45cda2f7746109dafb22917360196"
      }
     },
     "metadata": {},
     "output_type": "display_data"
    },
    {
     "name": "stderr",
     "output_type": "stream",
     "text": [
      "C:\\Users\\Karol\\anaconda3\\envs\\ml-tf2gpu\\lib\\site-packages\\datasets\\arrow_dataset.py:388: FutureWarning: The output of `to_tf_dataset` will change when a passing single element list for `labels` or `columns` in the next datasets version. To return a tuple structure rather than dict, pass a single string.\n",
      "Old behaviour: columns=['a'], labels=['labels'] -> (tf.Tensor, tf.Tensor)  \n",
      "             : columns='a', labels='labels' -> (tf.Tensor, tf.Tensor)  \n",
      "New behaviour: columns=['a'],labels=['labels'] -> ({'a': tf.Tensor}, {'labels': tf.Tensor})  \n",
      "             : columns='a', labels='labels' -> (tf.Tensor, tf.Tensor) \n",
      "  warnings.warn(\n",
      "You're using a BertTokenizerFast tokenizer. Please note that with a fast tokenizer, using the `__call__` method is faster than using a method to encode the text followed by a call to the `pad` method to get a padded encoding.\n"
     ]
    }
   ],
   "source": [
    "# Create BERT tokenizer and collator\n",
    "bert_checkpoint = \"dkleczek/bert-base-polish-uncased-v1\"\n",
    "\n",
    "bert_tokenizer = AutoTokenizer.from_pretrained(bert_checkpoint, model_max_length=512)\n",
    "\n",
    "\n",
    "def tokenize_for_bert(example):\n",
    "    return bert_tokenizer(example[\"text\"], truncation=True)\n",
    "\n",
    "\n",
    "bert_tokenized_test_dataset = test_dataset.map(tokenize_for_bert, batched=True)\n",
    "\n",
    "bert_input_columns = [\"attention_mask\", \"input_ids\", \"token_type_ids\"]\n",
    "bert_label_columns = ['label']\n",
    "bert_batch_size = 16\n",
    "bert_data_collator = DataCollatorWithPadding(tokenizer=bert_tokenizer, return_tensors=\"tf\")\n",
    "bert_tf_dataset = model_utils.convert_to_tf_dataset(bert_tokenized_test_dataset, bert_input_columns, bert_label_columns,\n",
    "                                                    bert_data_collator, bert_batch_size)"
   ],
   "metadata": {
    "collapsed": false,
    "ExecuteTime": {
     "end_time": "2023-06-17T11:11:21.676281Z",
     "start_time": "2023-06-17T11:11:20.492174500Z"
    }
   }
  },
  {
   "cell_type": "code",
   "execution_count": 11,
   "outputs": [
    {
     "data": {
      "text/plain": "Map:   0%|          | 0/4000 [00:00<?, ? examples/s]",
      "application/vnd.jupyter.widget-view+json": {
       "version_major": 2,
       "version_minor": 0,
       "model_id": "1e1fb38d49b54750a2e14c74b005b849"
      }
     },
     "metadata": {},
     "output_type": "display_data"
    },
    {
     "name": "stderr",
     "output_type": "stream",
     "text": [
      "You're using a GPT2TokenizerFast tokenizer. Please note that with a fast tokenizer, using the `__call__` method is faster than using a method to encode the text followed by a call to the `pad` method to get a padded encoding.\n"
     ]
    }
   ],
   "source": [
    "# Create GPT2 tokenizer\n",
    "gpt_checkpoint = MAX_TOKENS = 128\n",
    "EOS_TOKEN = \"<|endoftext|>\"\n",
    "checkpoint = \"flax-community/papuGaPT2\"\n",
    "\n",
    "gpt2_tokenizer = AutoTokenizer.from_pretrained(\n",
    "    checkpoint,\n",
    "    eos_token=EOS_TOKEN,\n",
    "    pad_token=EOS_TOKEN,\n",
    "    max_length=MAX_TOKENS,\n",
    "    is_split_into_words=True,\n",
    ")\n",
    "\n",
    "gpt2_tokenizer.padding_side = \"left\"\n",
    "\n",
    "\n",
    "def tokenize_for_gpt2(examples):\n",
    "    examples = [ex + EOS_TOKEN for ex in examples['text']]\n",
    "\n",
    "    output = gpt2_tokenizer(\n",
    "        examples,\n",
    "        add_special_tokens=True,\n",
    "        max_length=MAX_TOKENS,\n",
    "        truncation=True,\n",
    "        padding=True,\n",
    "    )\n",
    "\n",
    "    # truncate input ids and attention mask to account for label shift\n",
    "    output[\"input_ids\"] = [x[:-1] for x in output[\"input_ids\"]]\n",
    "    output[\"attention_mask\"] = [x[:-1] for x in output[\"attention_mask\"]]\n",
    "    return output\n",
    "\n",
    "\n",
    "gpt2_tokenized_test_dataset = test_dataset.map(tokenize_for_gpt2, batched=True)\n",
    "\n",
    "gpt2_input_columns = [\"input_ids\", \"attention_mask\"]\n",
    "gpt2_label_columns = [\"label\"]\n",
    "gpt2_batch_size = 16\n",
    "gpt2_data_collator = DataCollatorWithPadding(tokenizer=gpt2_tokenizer, return_tensors=\"tf\")\n",
    "gpt2_tf_dataset = model_utils.convert_to_tf_dataset(gpt2_tokenized_test_dataset, gpt2_input_columns, gpt2_label_columns,\n",
    "                                                    gpt2_data_collator, gpt2_batch_size)"
   ],
   "metadata": {
    "collapsed": false,
    "ExecuteTime": {
     "end_time": "2023-06-17T11:11:22.256875Z",
     "start_time": "2023-06-17T11:11:21.675281600Z"
    }
   }
  },
  {
   "cell_type": "code",
   "execution_count": 12,
   "outputs": [
    {
     "data": {
      "text/plain": "Map:   0%|          | 0/4000 [00:00<?, ? examples/s]",
      "application/vnd.jupyter.widget-view+json": {
       "version_major": 2,
       "version_minor": 0,
       "model_id": "5f831a5207034e6fbd48a349bb755b10"
      }
     },
     "metadata": {},
     "output_type": "display_data"
    },
    {
     "name": "stderr",
     "output_type": "stream",
     "text": [
      "C:\\Users\\Karol\\anaconda3\\envs\\ml-tf2gpu\\lib\\site-packages\\datasets\\arrow_dataset.py:388: FutureWarning: The output of `to_tf_dataset` will change when a passing single element list for `labels` or `columns` in the next datasets version. To return a tuple structure rather than dict, pass a single string.\n",
      "Old behaviour: columns=['a'], labels=['labels'] -> (tf.Tensor, tf.Tensor)  \n",
      "             : columns='a', labels='labels' -> (tf.Tensor, tf.Tensor)  \n",
      "New behaviour: columns=['a'],labels=['labels'] -> ({'a': tf.Tensor}, {'labels': tf.Tensor})  \n",
      "             : columns='a', labels='labels' -> (tf.Tensor, tf.Tensor) \n",
      "  warnings.warn(\n"
     ]
    }
   ],
   "source": [
    "# Create Word2Vec tokenizer\n",
    "word2vec_kv = gensim.models.KeyedVectors.load(\"./../word2vec/word2vec_100_3_polish.bin\")\n",
    "\n",
    "# !python -m spacy download pl_core_news_sm\n",
    "spacy_model = spacy.load(\"pl_core_news_sm\")\n",
    "stop_words = spacy_model.Defaults.stop_words.copy()\n",
    "stop_words.remove(\"nie\")\n",
    "punctuations = string.punctuation\n",
    "\n",
    "\n",
    "def spacy_tokenizer(sentence):\n",
    "    doc = spacy_model(sentence)\n",
    "    my_tokens = [word.lemma_.lower().strip() for word in doc]\n",
    "    my_tokens = [word for word in my_tokens if word not in stop_words and word not in punctuations]\n",
    "    return my_tokens\n",
    "\n",
    "\n",
    "def tokens_to_vector(sentence):\n",
    "    vector_size = word2vec_kv.vector_size\n",
    "    wv_res = np.zeros(vector_size)\n",
    "    ctr = 1\n",
    "    for w in sentence:\n",
    "        if w in word2vec_kv:\n",
    "            ctr += 1\n",
    "            wv_res += word2vec_kv[w]\n",
    "    wv_res = wv_res / ctr\n",
    "    return wv_res\n",
    "\n",
    "\n",
    "def tokenize_for_word2vec(example):\n",
    "    example['tokens'] = [spacy_tokenizer(text) for text in example['text']]\n",
    "    example['embeddings'] = [tokens_to_vector(tokens) for tokens in example['tokens']]\n",
    "    return example\n",
    "\n",
    "\n",
    "word2vec_tokenized_test_dataset = test_dataset.map(tokenize_for_word2vec, batched=True)\n",
    "\n",
    "word2vec_input_columns = [\"embeddings\"]\n",
    "word2vec_label_columns = [\"label\"]\n",
    "word2vec_batch_size = 16\n",
    "word2vec_tf_dataset = model_utils.convert_to_tf_dataset(word2vec_tokenized_test_dataset, word2vec_input_columns,\n",
    "                                                        word2vec_label_columns,\n",
    "                                                        None, word2vec_batch_size)"
   ],
   "metadata": {
    "collapsed": false,
    "ExecuteTime": {
     "end_time": "2023-06-17T11:12:18.402474300Z",
     "start_time": "2023-06-17T11:11:22.232740Z"
    }
   }
  },
  {
   "cell_type": "code",
   "execution_count": null,
   "outputs": [],
   "source": [
    "def combine_probabilities(model1_probabilities, model2_probabilities, model3_probabilities, model1_weights,\n",
    "                          model2_weights, model3_weights):\n",
    "    weighted_avg_probabilities = (\n",
    "                                             model1_weights * model1_probabilities + model2_weights * model2_probabilities + model3_weights * model3_probabilities) / (\n",
    "                                             model1_weights + model2_weights + model3_weights)\n",
    "    normalized_probabilities = weighted_avg_probabilities / np.sum(weighted_avg_probabilities, axis=1, keepdims=True)\n",
    "\n",
    "    return normalized_probabilities\n",
    "\n",
    "\n",
    "def hybrid_predict(bert_input, gpt2_input, word2vec_input, bert_model, gpt2_model, word2vec_model, bert_weights,\n",
    "                   gpt2_weights, word2vec_weights):\n",
    "    bert_probabilities = model_utils.get_class_preds(bert_model, bert_input, return_classes=False)\n",
    "    gpt2_probabilities = model_utils.get_class_preds(gpt2_model, gpt2_input, return_classes=False)\n",
    "    word2vec_probabilities = model_utils.get_class_preds(word2vec_model, word2vec_input, return_classes=False,\n",
    "                                                         model_returns_logits=False)\n",
    "    final_output = combine_probabilities(bert_probabilities, gpt2_probabilities, word2vec_probabilities, bert_weights,\n",
    "                                         gpt2_weights, word2vec_weights)\n",
    "    return final_output"
   ],
   "metadata": {
    "collapsed": false
   }
  },
  {
   "cell_type": "code",
   "execution_count": null,
   "outputs": [],
   "source": [
    "bert_weights = np.array([88, 88, 88, 87, 94, 76])\n",
    "gpt2_weights = np.array([91, 82, 87, 81, 92, 84])\n",
    "word2vec_weights = np.array([52, 53, 54, 45, 43, 48])\n",
    "\n",
    "hybrid_preds = hybrid_predict(\n",
    "    bert_input=bert_tf_dataset, gpt2_input=gpt2_tf_dataset,\n",
    "    bert_model=bert, gpt2_model=gpt2, word2vec_model=word2vec,\n",
    "    bert_weights=bert_weights, gpt2_weights=gpt2_weights\n",
    ")"
   ],
   "metadata": {
    "collapsed": false
   }
  },
  {
   "cell_type": "code",
   "execution_count": 13,
   "outputs": [],
   "source": [
    "class_preds = model_utils.get_class_preds(word2vec, word2vec_tf_dataset, model_returns_logits=False)"
   ],
   "metadata": {
    "collapsed": false,
    "ExecuteTime": {
     "end_time": "2023-06-17T11:12:26.230612700Z",
     "start_time": "2023-06-17T11:12:21.861300800Z"
    }
   }
  },
  {
   "cell_type": "code",
   "execution_count": 15,
   "outputs": [
    {
     "data": {
      "text/plain": "<Figure size 640x480 with 2 Axes>",
      "image/png": "[encoded data removed]"
     },
     "metadata": {},
     "output_type": "display_data"
    }
   ],
   "source": [
    "model_utils.plot_and_save_conf_matrix(class_actual=test_dataset['label'],\n",
    "                                      class_preds=class_preds,\n",
    "                                      figure_dir_path=\".\",\n",
    "                                      figure_filename=\"test_confmatrix.png\")"
   ],
   "metadata": {
    "collapsed": false,
    "ExecuteTime": {
     "end_time": "2023-06-17T11:12:47.537327700Z",
     "start_time": "2023-06-17T11:12:46.544276Z"
    }
   }
  },
  {
   "cell_type": "code",
   "execution_count": null,
   "outputs": [],
   "source": [],
   "metadata": {
    "collapsed": false
   }
  }
 ],
 "metadata": {
  "kernelspec": {
   "display_name": "Python 3",
   "language": "python",
   "name": "python3"
  },
  "language_info": {
   "codemirror_mode": {
    "name": "ipython",
    "version": 2
   },
   "file_extension": ".py",
   "mimetype": "text/x-python",
   "name": "python",
   "nbconvert_exporter": "python",
   "pygments_lexer": "ipython2",
   "version": "2.7.6"
  }
 },
 "nbformat": 4,
 "nbformat_minor": 0
}
