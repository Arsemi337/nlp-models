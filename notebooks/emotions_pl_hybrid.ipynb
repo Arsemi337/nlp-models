{
 "cells": [
  {
   "cell_type": "code",
   "execution_count": 35,
   "metadata": {
    "collapsed": true,
    "ExecuteTime": {
     "end_time": "2023-06-18T17:43:58.974322200Z",
     "start_time": "2023-06-18T17:43:58.954297900Z"
    }
   },
   "outputs": [],
   "source": [
    "import os\n",
    "import tensorflow as tf\n",
    "import pandas as pd\n",
    "import numpy as np\n",
    "import gensim\n",
    "import spacy\n",
    "import string\n",
    "import core.model_utils as model_utils\n",
    "from sklearn.metrics import accuracy_score\n",
    "import matplotlib.pyplot as plt\n",
    "\n",
    "from transformers import AutoTokenizer, DataCollatorWithPadding\n",
    "from datasets import Dataset"
   ]
  },
  {
   "cell_type": "code",
   "execution_count": 2,
   "outputs": [
    {
     "data": {
      "text/plain": "          label                                               text  \\\n0         anger                        Czuję się całkowicie chciwy   \n1          fear                Czuję się tak przytłoczony emocjami   \n2      surprise  Nie czułem efektu siły g Jestem oszołomiony Po...   \n3         anger  ive just got to tell you all that I feel Racze...   \n4         anger  Powiedziałem ci, że przepraszam, że czujesz si...   \n...         ...                                                ...   \n39995       joy  czuję się ostatnio dość hojny, ponieważ pracuj...   \n39996      love  Czuję, że niektóre postacie nie zasługują na w...   \n39997      fear  Czuję strach w moich kościach, którego nie moż...   \n39998       joy  Czułem się bardziej kreatywny i mniej jak czys...   \n39999   sadness          Czuję się zdruzgotany i pomagam Hellipowi   \n\n                                                  tokens  \\\n0                            [czuję, całkowicie, chciwy]   \n1                            [czuję, przytłocić, emocja]   \n2      [nie, czuć być, efekt, siła, g, oszołomiona, p...   \n3      [ive, just, got, tell, you, all, that, feel, r...   \n4      [powiedzieć być, przepraszać, czuć, sfrustrowa...   \n...                                                  ...   \n39995  [czuć, ostatnio, hojny, pracować, znacznie, zw...   \n39996  [czuję, niektóry, postać, nie, zasługiwać, wsp...   \n39997  [czuję, strach, kość, nie, móc, wytrząsnąć, wy...   \n39998            [czuć być, kreatywny, czysty, redaktor]   \n39999               [czuję, zdruzgotać, pomagać, hellip]   \n\n                                           joined_tokens  \n0                                czuję całkowicie chciwy  \n1                                czuję przytłocić emocja  \n2      nie czuć być efekt siła g oszołomiona poszedłe...  \n3      ive just got tell you all that feel raczej nie...  \n4      powiedzieć być przepraszać czuć sfrustrowany z...  \n...                                                  ...  \n39995  czuć ostatnio hojny pracować znacznie zwykle z...  \n39996  czuję niektóry postać nie zasługiwać wsparcie ...  \n39997  czuję strach kość nie móc wytrząsnąć wymuszć r...  \n39998                 czuć być kreatywny czysty redaktor  \n39999                    czuję zdruzgotać pomagać hellip  \n\n[40000 rows x 4 columns]",
      "text/html": "<div>\n<style scoped>\n    .dataframe tbody tr th:only-of-type {\n        vertical-align: middle;\n    }\n\n    .dataframe tbody tr th {\n        vertical-align: top;\n    }\n\n    .dataframe thead th {\n        text-align: right;\n    }\n</style>\n<table border=\"1\" class=\"dataframe\">\n  <thead>\n    <tr style=\"text-align: right;\">\n      <th></th>\n      <th>label</th>\n      <th>text</th>\n      <th>tokens</th>\n      <th>joined_tokens</th>\n    </tr>\n  </thead>\n  <tbody>\n    <tr>\n      <th>0</th>\n      <td>anger</td>\n      <td>Czuję się całkowicie chciwy</td>\n      <td>[czuję, całkowicie, chciwy]</td>\n      <td>czuję całkowicie chciwy</td>\n    </tr>\n    <tr>\n      <th>1</th>\n      <td>fear</td>\n      <td>Czuję się tak przytłoczony emocjami</td>\n      <td>[czuję, przytłocić, emocja]</td>\n      <td>czuję przytłocić emocja</td>\n    </tr>\n    <tr>\n      <th>2</th>\n      <td>surprise</td>\n      <td>Nie czułem efektu siły g Jestem oszołomiony Po...</td>\n      <td>[nie, czuć być, efekt, siła, g, oszołomiona, p...</td>\n      <td>nie czuć być efekt siła g oszołomiona poszedłe...</td>\n    </tr>\n    <tr>\n      <th>3</th>\n      <td>anger</td>\n      <td>ive just got to tell you all that I feel Racze...</td>\n      <td>[ive, just, got, tell, you, all, that, feel, r...</td>\n      <td>ive just got tell you all that feel raczej nie...</td>\n    </tr>\n    <tr>\n      <th>4</th>\n      <td>anger</td>\n      <td>Powiedziałem ci, że przepraszam, że czujesz si...</td>\n      <td>[powiedzieć być, przepraszać, czuć, sfrustrowa...</td>\n      <td>powiedzieć być przepraszać czuć sfrustrowany z...</td>\n    </tr>\n    <tr>\n      <th>...</th>\n      <td>...</td>\n      <td>...</td>\n      <td>...</td>\n      <td>...</td>\n    </tr>\n    <tr>\n      <th>39995</th>\n      <td>joy</td>\n      <td>czuję się ostatnio dość hojny, ponieważ pracuj...</td>\n      <td>[czuć, ostatnio, hojny, pracować, znacznie, zw...</td>\n      <td>czuć ostatnio hojny pracować znacznie zwykle z...</td>\n    </tr>\n    <tr>\n      <th>39996</th>\n      <td>love</td>\n      <td>Czuję, że niektóre postacie nie zasługują na w...</td>\n      <td>[czuję, niektóry, postać, nie, zasługiwać, wsp...</td>\n      <td>czuję niektóry postać nie zasługiwać wsparcie ...</td>\n    </tr>\n    <tr>\n      <th>39997</th>\n      <td>fear</td>\n      <td>Czuję strach w moich kościach, którego nie moż...</td>\n      <td>[czuję, strach, kość, nie, móc, wytrząsnąć, wy...</td>\n      <td>czuję strach kość nie móc wytrząsnąć wymuszć r...</td>\n    </tr>\n    <tr>\n      <th>39998</th>\n      <td>joy</td>\n      <td>Czułem się bardziej kreatywny i mniej jak czys...</td>\n      <td>[czuć być, kreatywny, czysty, redaktor]</td>\n      <td>czuć być kreatywny czysty redaktor</td>\n    </tr>\n    <tr>\n      <th>39999</th>\n      <td>sadness</td>\n      <td>Czuję się zdruzgotany i pomagam Hellipowi</td>\n      <td>[czuję, zdruzgotać, pomagać, hellip]</td>\n      <td>czuję zdruzgotać pomagać hellip</td>\n    </tr>\n  </tbody>\n</table>\n<p>40000 rows × 4 columns</p>\n</div>"
     },
     "execution_count": 2,
     "metadata": {},
     "output_type": "execute_result"
    }
   ],
   "source": [
    "df = pd.read_json('./../data/polish_translated/emotions/equalized_emotions_dataset_pl_with_tokens.json')\n",
    "df.rename(columns={'emotions': 'label', 'text_pl': 'text'}, inplace=True)\n",
    "df"
   ],
   "metadata": {
    "collapsed": false,
    "ExecuteTime": {
     "end_time": "2023-06-18T17:25:21.534379200Z",
     "start_time": "2023-06-18T17:25:21.296123300Z"
    }
   }
  },
  {
   "cell_type": "code",
   "execution_count": 3,
   "outputs": [],
   "source": [
    "ordered_class_labels = {\n",
    "    \"joy\": 0,\n",
    "    \"love\": 1,\n",
    "    \"surprise\": 2,\n",
    "    \"sadness\": 3,\n",
    "    \"anger\": 4,\n",
    "    \"fear\": 5,\n",
    "}\n",
    "\n",
    "df = df.replace({\"label\": ordered_class_labels})"
   ],
   "metadata": {
    "collapsed": false,
    "ExecuteTime": {
     "end_time": "2023-06-18T17:25:21.590017700Z",
     "start_time": "2023-06-18T17:25:21.532380300Z"
    }
   }
  },
  {
   "cell_type": "code",
   "execution_count": 4,
   "outputs": [
    {
     "data": {
      "text/plain": "Dataset({\n    features: ['label', 'text', 'tokens', 'joined_tokens'],\n    num_rows: 40000\n})"
     },
     "execution_count": 4,
     "metadata": {},
     "output_type": "execute_result"
    }
   ],
   "source": [
    "full_dataset = Dataset.from_pandas(df).remove_columns(\"__index_level_0__\")\n",
    "full_dataset"
   ],
   "metadata": {
    "collapsed": false,
    "ExecuteTime": {
     "end_time": "2023-06-18T17:25:21.691873300Z",
     "start_time": "2023-06-18T17:25:21.564468200Z"
    }
   }
  },
  {
   "cell_type": "code",
   "execution_count": 5,
   "outputs": [
    {
     "data": {
      "text/plain": "Dataset({\n    features: ['label', 'text', 'tokens', 'joined_tokens'],\n    num_rows: 4000\n})"
     },
     "execution_count": 5,
     "metadata": {},
     "output_type": "execute_result"
    }
   ],
   "source": [
    "# Train set: 80%, Validation set: 10%, Test set: 10%\n",
    "_, _, test_dataset = model_utils.split_train_val_test(\n",
    "    full_dataset,\n",
    "    train_size=0.8,\n",
    "    test_size_of_val_test_batch=0.5,\n",
    "    shuffle=True,\n",
    "    seed=42)\n",
    "test_dataset"
   ],
   "metadata": {
    "collapsed": false,
    "ExecuteTime": {
     "end_time": "2023-06-18T17:25:21.776901600Z",
     "start_time": "2023-06-18T17:25:21.673242100Z"
    }
   }
  },
  {
   "cell_type": "code",
   "execution_count": 6,
   "outputs": [],
   "source": [
    "# Load models\n",
    "version = \"1\"\n",
    "trained_bert = os.path.join(\"./../trained_models/emotions_pl_bert_5\", version)\n",
    "trained_gpt = os.path.join(\"./../trained_models/emotions_pl_gpt2_2\", version)\n",
    "trained_word2vec = os.path.join(\"./../trained_models/emotions_pl_word2vec_external_1\", version)\n",
    "\n",
    "bert = tf.keras.models.load_model(trained_bert)\n",
    "gpt2 = tf.keras.models.load_model(trained_gpt)\n",
    "word2vec = tf.keras.models.load_model(trained_word2vec)"
   ],
   "metadata": {
    "collapsed": false,
    "ExecuteTime": {
     "end_time": "2023-06-18T17:26:45.769265800Z",
     "start_time": "2023-06-18T17:25:26.198813300Z"
    }
   }
  },
  {
   "cell_type": "code",
   "execution_count": 7,
   "outputs": [
    {
     "name": "stdout",
     "output_type": "stream",
     "text": [
      "Model: \"tf_bert_for_sequence_classification\"\n",
      "_________________________________________________________________\n",
      "Layer (type)                 Output Shape              Param #   \n",
      "=================================================================\n",
      "bert (Custom>TFBertMainLayer multiple                  132121344 \n",
      "_________________________________________________________________\n",
      "dropout_37 (Dropout)         multiple                  0         \n",
      "_________________________________________________________________\n",
      "classifier (Dense)           multiple                  4614      \n",
      "=================================================================\n",
      "Total params: 132,125,958\n",
      "Trainable params: 132,125,958\n",
      "Non-trainable params: 0\n",
      "_________________________________________________________________\n"
     ]
    }
   ],
   "source": [
    "bert.summary()"
   ],
   "metadata": {
    "collapsed": false,
    "ExecuteTime": {
     "end_time": "2023-06-18T17:26:45.827389500Z",
     "start_time": "2023-06-18T17:26:45.770265800Z"
    }
   }
  },
  {
   "cell_type": "code",
   "execution_count": 8,
   "outputs": [
    {
     "name": "stdout",
     "output_type": "stream",
     "text": [
      "Model: \"tfgp_t2for_sequence_classification\"\n",
      "_________________________________________________________________\n",
      "Layer (type)                 Output Shape              Param #   \n",
      "=================================================================\n",
      "score (Dense)                multiple                  4608      \n",
      "_________________________________________________________________\n",
      "transformer (Custom>TFGPT2Ma multiple                  124439808 \n",
      "=================================================================\n",
      "Total params: 124,444,416\n",
      "Trainable params: 124,444,416\n",
      "Non-trainable params: 0\n",
      "_________________________________________________________________\n"
     ]
    }
   ],
   "source": [
    "gpt2.summary()"
   ],
   "metadata": {
    "collapsed": false,
    "ExecuteTime": {
     "end_time": "2023-06-18T17:26:45.833391Z",
     "start_time": "2023-06-18T17:26:45.807861900Z"
    }
   }
  },
  {
   "cell_type": "code",
   "execution_count": 9,
   "outputs": [
    {
     "name": "stdout",
     "output_type": "stream",
     "text": [
      "Model: \"sequential_3\"\n",
      "_________________________________________________________________\n",
      "Layer (type)                 Output Shape              Param #   \n",
      "=================================================================\n",
      "flatten_2 (Flatten)          (None, 5000)              0         \n",
      "_________________________________________________________________\n",
      "dense_21 (Dense)             (None, 128)               640128    \n",
      "_________________________________________________________________\n",
      "dense_22 (Dense)             (None, 32)                4128      \n",
      "_________________________________________________________________\n",
      "dense_23 (Dense)             (None, 16)                528       \n",
      "_________________________________________________________________\n",
      "dense_24 (Dense)             (None, 6)                 102       \n",
      "=================================================================\n",
      "Total params: 644,886\n",
      "Trainable params: 644,886\n",
      "Non-trainable params: 0\n",
      "_________________________________________________________________\n"
     ]
    }
   ],
   "source": [
    "word2vec.summary()"
   ],
   "metadata": {
    "collapsed": false,
    "ExecuteTime": {
     "end_time": "2023-06-18T17:26:45.834389800Z",
     "start_time": "2023-06-18T17:26:45.814372500Z"
    }
   }
  },
  {
   "cell_type": "code",
   "execution_count": 10,
   "outputs": [
    {
     "data": {
      "text/plain": "Map:   0%|          | 0/4000 [00:00<?, ? examples/s]",
      "application/vnd.jupyter.widget-view+json": {
       "version_major": 2,
       "version_minor": 0,
       "model_id": "f9832e9dbb3c440b9dbf2976eed53f3a"
      }
     },
     "metadata": {},
     "output_type": "display_data"
    },
    {
     "name": "stderr",
     "output_type": "stream",
     "text": [
      "C:\\Users\\Karol\\anaconda3\\envs\\ml-tf2gpu\\lib\\site-packages\\datasets\\arrow_dataset.py:388: FutureWarning: The output of `to_tf_dataset` will change when a passing single element list for `labels` or `columns` in the next datasets version. To return a tuple structure rather than dict, pass a single string.\n",
      "Old behaviour: columns=['a'], labels=['labels'] -> (tf.Tensor, tf.Tensor)  \n",
      "             : columns='a', labels='labels' -> (tf.Tensor, tf.Tensor)  \n",
      "New behaviour: columns=['a'],labels=['labels'] -> ({'a': tf.Tensor}, {'labels': tf.Tensor})  \n",
      "             : columns='a', labels='labels' -> (tf.Tensor, tf.Tensor) \n",
      "  warnings.warn(\n",
      "You're using a BertTokenizerFast tokenizer. Please note that with a fast tokenizer, using the `__call__` method is faster than using a method to encode the text followed by a call to the `pad` method to get a padded encoding.\n"
     ]
    }
   ],
   "source": [
    "# Create BERT tokenizer and collator\n",
    "bert_checkpoint = \"dkleczek/bert-base-polish-uncased-v1\"\n",
    "\n",
    "bert_tokenizer = AutoTokenizer.from_pretrained(bert_checkpoint, model_max_length=512)\n",
    "\n",
    "\n",
    "def tokenize_for_bert(example):\n",
    "    return bert_tokenizer(example[\"text\"], truncation=True)\n",
    "\n",
    "\n",
    "bert_tokenized_test_dataset = test_dataset.map(tokenize_for_bert, batched=True)\n",
    "\n",
    "bert_input_columns = [\"attention_mask\", \"input_ids\", \"token_type_ids\"]\n",
    "bert_label_columns = ['label']\n",
    "bert_batch_size = 16\n",
    "bert_data_collator = DataCollatorWithPadding(tokenizer=bert_tokenizer, return_tensors=\"tf\")\n",
    "bert_tf_dataset = model_utils.convert_to_tf_dataset(bert_tokenized_test_dataset, bert_input_columns, bert_label_columns,\n",
    "                                                    bert_data_collator, bert_batch_size)"
   ],
   "metadata": {
    "collapsed": false,
    "ExecuteTime": {
     "end_time": "2023-06-18T17:26:50.540559200Z",
     "start_time": "2023-06-18T17:26:49.557989600Z"
    }
   }
  },
  {
   "cell_type": "code",
   "execution_count": 11,
   "outputs": [
    {
     "data": {
      "text/plain": "Map:   0%|          | 0/4000 [00:00<?, ? examples/s]",
      "application/vnd.jupyter.widget-view+json": {
       "version_major": 2,
       "version_minor": 0,
       "model_id": "a31e86cd59164dec9816c7b4e84cdd7c"
      }
     },
     "metadata": {},
     "output_type": "display_data"
    },
    {
     "name": "stderr",
     "output_type": "stream",
     "text": [
      "C:\\Users\\Karol\\anaconda3\\envs\\ml-tf2gpu\\lib\\site-packages\\datasets\\arrow_dataset.py:388: FutureWarning: The output of `to_tf_dataset` will change when a passing single element list for `labels` or `columns` in the next datasets version. To return a tuple structure rather than dict, pass a single string.\n",
      "Old behaviour: columns=['a'], labels=['labels'] -> (tf.Tensor, tf.Tensor)  \n",
      "             : columns='a', labels='labels' -> (tf.Tensor, tf.Tensor)  \n",
      "New behaviour: columns=['a'],labels=['labels'] -> ({'a': tf.Tensor}, {'labels': tf.Tensor})  \n",
      "             : columns='a', labels='labels' -> (tf.Tensor, tf.Tensor) \n",
      "  warnings.warn(\n",
      "You're using a GPT2TokenizerFast tokenizer. Please note that with a fast tokenizer, using the `__call__` method is faster than using a method to encode the text followed by a call to the `pad` method to get a padded encoding.\n"
     ]
    }
   ],
   "source": [
    "# Create GPT2 tokenizer\n",
    "gpt_checkpoint = MAX_TOKENS = 128\n",
    "EOS_TOKEN = \"<|endoftext|>\"\n",
    "checkpoint = \"flax-community/papuGaPT2\"\n",
    "\n",
    "gpt2_tokenizer = AutoTokenizer.from_pretrained(\n",
    "    checkpoint,\n",
    "    eos_token=EOS_TOKEN,\n",
    "    pad_token=EOS_TOKEN,\n",
    "    max_length=MAX_TOKENS,\n",
    "    is_split_into_words=True,\n",
    ")\n",
    "\n",
    "gpt2_tokenizer.padding_side = \"left\"\n",
    "\n",
    "\n",
    "def tokenize_for_gpt2(examples):\n",
    "    examples = [ex + EOS_TOKEN for ex in examples['text']]\n",
    "\n",
    "    output = gpt2_tokenizer(\n",
    "        examples,\n",
    "        add_special_tokens=True,\n",
    "        max_length=MAX_TOKENS,\n",
    "        truncation=True,\n",
    "        padding=True,\n",
    "    )\n",
    "\n",
    "    # truncate input ids and attention mask to account for label shift\n",
    "    output[\"input_ids\"] = [x[:-1] for x in output[\"input_ids\"]]\n",
    "    output[\"attention_mask\"] = [x[:-1] for x in output[\"attention_mask\"]]\n",
    "    return output\n",
    "\n",
    "\n",
    "gpt2_tokenized_test_dataset = test_dataset.map(tokenize_for_gpt2, batched=True)\n",
    "\n",
    "gpt2_input_columns = [\"input_ids\", \"attention_mask\"]\n",
    "gpt2_label_columns = [\"label\"]\n",
    "gpt2_batch_size = 16\n",
    "gpt2_data_collator = DataCollatorWithPadding(tokenizer=gpt2_tokenizer, return_tensors=\"tf\")\n",
    "gpt2_tf_dataset = model_utils.convert_to_tf_dataset(gpt2_tokenized_test_dataset, gpt2_input_columns, gpt2_label_columns,\n",
    "                                                    gpt2_data_collator, gpt2_batch_size)"
   ],
   "metadata": {
    "collapsed": false,
    "ExecuteTime": {
     "end_time": "2023-06-18T17:26:51.199441900Z",
     "start_time": "2023-06-18T17:26:50.600158200Z"
    }
   }
  },
  {
   "cell_type": "code",
   "execution_count": 13,
   "outputs": [
    {
     "data": {
      "text/plain": "Map:   0%|          | 0/4000 [00:00<?, ? examples/s]",
      "application/vnd.jupyter.widget-view+json": {
       "version_major": 2,
       "version_minor": 0,
       "model_id": "adde17a08f204e4cbdeb9539fcde5e91"
      }
     },
     "metadata": {},
     "output_type": "display_data"
    },
    {
     "name": "stderr",
     "output_type": "stream",
     "text": [
      "C:\\Users\\Karol\\anaconda3\\envs\\ml-tf2gpu\\lib\\site-packages\\datasets\\arrow_dataset.py:388: FutureWarning: The output of `to_tf_dataset` will change when a passing single element list for `labels` or `columns` in the next datasets version. To return a tuple structure rather than dict, pass a single string.\n",
      "Old behaviour: columns=['a'], labels=['labels'] -> (tf.Tensor, tf.Tensor)  \n",
      "             : columns='a', labels='labels' -> (tf.Tensor, tf.Tensor)  \n",
      "New behaviour: columns=['a'],labels=['labels'] -> ({'a': tf.Tensor}, {'labels': tf.Tensor})  \n",
      "             : columns='a', labels='labels' -> (tf.Tensor, tf.Tensor) \n",
      "  warnings.warn(\n"
     ]
    }
   ],
   "source": [
    "# Create Word2Vec tokenizer\n",
    "word2vec_kv = gensim.models.KeyedVectors.load(\"./word2vec/word2vec_100_3_polish.bin\")\n",
    "\n",
    "def tokens_to_vector(tokens, max_tokens=50):\n",
    "    vector_size = word2vec_kv.vector_size\n",
    "    wv_res = np.zeros((vector_size, max_tokens))\n",
    "    for index, word in enumerate(tokens):\n",
    "        if word in word2vec_kv and index < max_tokens:\n",
    "            wv_res.T[index] = word2vec_kv[word]\n",
    "    return wv_res\n",
    "\n",
    "def tokenize_for_word2vec(sample):\n",
    "    sample['embeddings'] = [tokens_to_vector(tokens) for tokens in sample['tokens']]\n",
    "    return sample\n",
    "\n",
    "\n",
    "word2vec_test_dataset = test_dataset.map(tokenize_for_word2vec, batched=True)\n",
    "\n",
    "word2vec_input_columns = [\"embeddings\"]\n",
    "word2vec_label_columns = [\"label\"]\n",
    "word2vec_batch_size = 16\n",
    "word2vec_tf_dataset = model_utils.convert_to_tf_dataset(word2vec_test_dataset, word2vec_input_columns,\n",
    "                                                        word2vec_label_columns,\n",
    "                                                        None, word2vec_batch_size)"
   ],
   "metadata": {
    "collapsed": false,
    "ExecuteTime": {
     "end_time": "2023-06-18T17:27:29.488907300Z",
     "start_time": "2023-06-18T17:27:05.030731400Z"
    }
   }
  },
  {
   "cell_type": "code",
   "execution_count": 19,
   "outputs": [],
   "source": [
    "def combine_probabilities(model1_probabilities, model2_probabilities, model3_probabilities, model1_weights,\n",
    "                          model2_weights, model3_weights):\n",
    "    weighted_avg_probabilities = (\n",
    "                                             model1_weights * model1_probabilities + model2_weights * model2_probabilities + model3_weights * model3_probabilities) / (\n",
    "                                             model1_weights + model2_weights + model3_weights)\n",
    "    normalized_probabilities = weighted_avg_probabilities / np.sum(weighted_avg_probabilities, axis=1, keepdims=True)\n",
    "\n",
    "    return normalized_probabilities\n",
    "\n",
    "\n",
    "def hybrid_predict(bert_input, gpt2_input, word2vec_input, bert_model, gpt2_model, word2vec_model, bert_weights,\n",
    "                   gpt2_weights, word2vec_weights, return_classes=True):\n",
    "    bert_probabilities = model_utils.get_class_preds(bert_model, bert_input, return_classes=False)\n",
    "    gpt2_probabilities = model_utils.get_class_preds(gpt2_model, gpt2_input, return_classes=False)\n",
    "    word2vec_probabilities = model_utils.get_class_preds(word2vec_model, word2vec_input, return_classes=False,\n",
    "                                                         model_returns_logits=False)\n",
    "    final_output = combine_probabilities(bert_probabilities, gpt2_probabilities, word2vec_probabilities, bert_weights,\n",
    "                                         gpt2_weights, word2vec_weights)\n",
    "    if return_classes:\n",
    "        final_output = np.argmax(final_output, axis=1)\n",
    "    return final_output"
   ],
   "metadata": {
    "collapsed": false,
    "ExecuteTime": {
     "end_time": "2023-06-18T17:34:57.426786100Z",
     "start_time": "2023-06-18T17:34:57.404428500Z"
    }
   }
  },
  {
   "cell_type": "code",
   "execution_count": 53,
   "outputs": [],
   "source": [
    "bert_weights = np.array([88, 88, 88, 87, 94, 76])\n",
    "gpt2_weights = np.array([91, 82, 87, 81, 92, 84])\n",
    "word2vec_weights = np.array([43, 46, 45, 44, 35, 37])\n",
    "\n",
    "hybrid_preds = hybrid_predict(\n",
    "    bert_input=bert_tf_dataset, gpt2_input=gpt2_tf_dataset, word2vec_input=word2vec_tf_dataset,\n",
    "    bert_model=bert, gpt2_model=gpt2, word2vec_model=word2vec,\n",
    "    bert_weights=bert_weights, gpt2_weights=gpt2_weights, word2vec_weights=word2vec_weights,\n",
    ")\n",
    "\n",
    "hybrid_preds_probas = hybrid_predict(\n",
    "    bert_input=bert_tf_dataset, gpt2_input=gpt2_tf_dataset, word2vec_input=word2vec_tf_dataset,\n",
    "    bert_model=bert, gpt2_model=gpt2, word2vec_model=word2vec,\n",
    "    bert_weights=bert_weights, gpt2_weights=gpt2_weights, word2vec_weights=word2vec_weights,\n",
    "    return_classes=False\n",
    ")"
   ],
   "metadata": {
    "collapsed": false,
    "ExecuteTime": {
     "end_time": "2023-06-18T17:50:04.701919500Z",
     "start_time": "2023-06-18T17:49:27.037872500Z"
    }
   }
  },
  {
   "cell_type": "code",
   "execution_count": 57,
   "outputs": [
    {
     "name": "stdout",
     "output_type": "stream",
     "text": [
      "Precision score:  0.87475\n",
      "Recall score:  0.87475\n",
      "F1 score:  0.87475\n",
      "Accuracy:  0.87475\n",
      "Loss:  0.5195457935333252\n"
     ]
    }
   ],
   "source": [
    "precision, recall, f1 = model_utils.get_classification_evaluation_metrics(\n",
    "    class_actual=test_dataset['label'],\n",
    "    class_preds=hybrid_preds,\n",
    "    average='micro'\n",
    ")\n",
    "\n",
    "accuracy = accuracy_score(test_dataset['label'], hybrid_preds)\n",
    "loss = tf.keras.losses.SparseCategoricalCrossentropy()\n",
    "loss = loss(test_dataset['label'], hybrid_preds_probas).numpy()\n",
    "\n",
    "print(f\"Precision score: \", precision)\n",
    "print(f\"Recall score: \", recall)\n",
    "print(f\"F1 score: \", f1)\n",
    "print(f\"Accuracy: \", accuracy)\n",
    "print(f\"Loss: \", loss)"
   ],
   "metadata": {
    "collapsed": false,
    "ExecuteTime": {
     "end_time": "2023-06-18T17:51:08.433415800Z",
     "start_time": "2023-06-18T17:51:08.365186300Z"
    }
   }
  },
  {
   "cell_type": "code",
   "execution_count": 58,
   "outputs": [
    {
     "data": {
      "text/plain": "<Figure size 640x480 with 2 Axes>",
      "image/png": "[encoded data removed]"
     },
     "metadata": {},
     "output_type": "display_data"
    }
   ],
   "source": [
    "training_name = \"training_1\"\n",
    "figures_dir = \"./../documentation/models/emotions_pl_hybrid/figures\"\n",
    "\n",
    "model_utils.plot_and_save_conf_matrix(class_actual=test_dataset['label'],\n",
    "                                      class_preds=hybrid_preds,\n",
    "                                      figure_dir_path=figures_dir,\n",
    "                                      figure_filename=f\"{training_name}_confmatrix.png\")"
   ],
   "metadata": {
    "collapsed": false,
    "ExecuteTime": {
     "end_time": "2023-06-18T17:51:18.006064400Z",
     "start_time": "2023-06-18T17:51:17.784297800Z"
    }
   }
  },
  {
   "cell_type": "code",
   "execution_count": 59,
   "outputs": [
    {
     "name": "stdout",
     "output_type": "stream",
     "text": [
      "\n",
      "            BAD PREDICTION:\n",
      "            - INDEX: 6\n",
      "            - TEXT: Nie wiem, jak kilka zdań może sprawić, że ludzie, którzy je czytają, natychmiast wiedzą, co naprawdę myślę lub czuję, a nikt nie zadał sobie trudu, aby zapytać mnie w twarz.\n",
      "            - PREDICTED VALUE: 5\n",
      "            - CORRECT VALUE: 4\n",
      "            \n",
      "\n",
      "            BAD PREDICTION:\n",
      "            - INDEX: 10\n",
      "            - TEXT: Nie chcę listopada daleko lub próbuje zapomnieć o Święto Dziękczynienia, ale muszę być świadomy tego, co naprawdę się liczy, gdy czuję się przytłoczony\n",
      "            - PREDICTED VALUE: 2\n",
      "            - CORRECT VALUE: 5\n",
      "            \n",
      "\n",
      "            BAD PREDICTION:\n",
      "            - INDEX: 20\n",
      "            - TEXT: Chciałbym nie czuć się tak, ale czuję i nie wiem, co to jest czuję to jest dziwne dla mnie jest to, co kocham czuję\n",
      "            - PREDICTED VALUE: 2\n",
      "            - CORRECT VALUE: 5\n",
      "            \n",
      "\n",
      "            BAD PREDICTION:\n",
      "            - INDEX: 23\n",
      "            - TEXT: Nigdy nie wstrząsnęłam uczuciem dzikiej opiekuńczości, które miałam, gdy po raz pierwszy zostałam matką.\n",
      "            - PREDICTED VALUE: 1\n",
      "            - CORRECT VALUE: 4\n",
      "            \n",
      "\n",
      "            BAD PREDICTION:\n",
      "            - INDEX: 40\n",
      "            - TEXT: Miałem jakiś problem związany z najlepszymi broniami społeczeństwa, ponieważ pochodziłem również z elit miasta, ale miałem poczucie, że zostałem popędzony do głównych obowiązków\n",
      "            - PREDICTED VALUE: 3\n",
      "            - CORRECT VALUE: 4\n",
      "            \n",
      "\n",
      "            BAD PREDICTION:\n",
      "            - INDEX: 44\n",
      "            - TEXT: Czuję się rozczarowana sobą i innymi rozgoryczonymi i wszystkimi rzeczami, które wyrzuciłam, kiedy opuściłam Jasona\n",
      "            - PREDICTED VALUE: 3\n",
      "            - CORRECT VALUE: 4\n",
      "            \n",
      "\n",
      "            BAD PREDICTION:\n",
      "            - INDEX: 50\n",
      "            - TEXT: Jakiś czas temu mężczyzna próbował mnie czegoś nauczyć, ponieważ bardzo trudno jest nauczyć kogoś, gdy sam nie jesteś kompetentny i wykształcony.\n",
      "            - PREDICTED VALUE: 0\n",
      "            - CORRECT VALUE: 4\n",
      "            \n",
      "\n",
      "            BAD PREDICTION:\n",
      "            - INDEX: 67\n",
      "            - TEXT: Nie widzę, żebym dawał pieniądze na wspieranie czegoś, co uważam za niebezpieczne dla świata\n",
      "            - PREDICTED VALUE: 1\n",
      "            - CORRECT VALUE: 4\n",
      "            \n",
      "\n",
      "            BAD PREDICTION:\n",
      "            - INDEX: 74\n",
      "            - TEXT: /Czułem się tak dziwnie wzburzony, /że wydawało się, /że jest daleko\n",
      "            - PREDICTED VALUE: 5\n",
      "            - CORRECT VALUE: 4\n",
      "            \n",
      "\n",
      "            BAD PREDICTION:\n",
      "            - INDEX: 148\n",
      "            - TEXT: Nie obchodziło mnie to, że zacząłem czuć się dość oszołomiony Nie biorę snu ani antylękowych rzeczy, ponieważ jestem na wyjątkowe ryzyko uzależnienia\n",
      "            - PREDICTED VALUE: 2\n",
      "            - CORRECT VALUE: 3\n",
      "            \n"
     ]
    }
   ],
   "source": [
    "model_utils.print_incorrectly_predicted_texts(texts=test_dataset['text'],\n",
    "                                              class_actual=test_dataset['label'],\n",
    "                                              class_preds=hybrid_preds)"
   ],
   "metadata": {
    "collapsed": false,
    "ExecuteTime": {
     "end_time": "2023-06-18T17:51:19.028506Z",
     "start_time": "2023-06-18T17:51:18.984947500Z"
    }
   }
  },
  {
   "cell_type": "code",
   "execution_count": 60,
   "outputs": [
    {
     "data": {
      "text/plain": "                                                   text  label  prediction\n0     Myślę, że to prawdopodobnie dobry pomysł, wcią...      5           5\n1     Wciąż czuję, że wciąż boję się tego uczucia i ...      5           5\n2     Ostatnio czuję się dość nostalgicznie, ale to ...      1           1\n3     Jestem pod wrażeniem, że udało mi się wyciągną...      2           2\n4     Nie sądzę, że wymieniłem choć jeden uśmiech z ...      2           2\n...                                                 ...    ...         ...\n3995          Czuję się wspaniale zrelaksowany w wyniku      0           0\n3996  Czuję się zrzędliwy teraz fani futbolu obudzil...      4           4\n3997  są związani z tym, co robią, pomimo tego, jak ...      0           5\n3998  Czuję i będziesz zaskoczony zmianami, które na...      2           2\n3999  Czuję się wściekły na siebie za zdobycie ponad...      4           4\n\n[4000 rows x 3 columns]",
      "text/html": "<div>\n<style scoped>\n    .dataframe tbody tr th:only-of-type {\n        vertical-align: middle;\n    }\n\n    .dataframe tbody tr th {\n        vertical-align: top;\n    }\n\n    .dataframe thead th {\n        text-align: right;\n    }\n</style>\n<table border=\"1\" class=\"dataframe\">\n  <thead>\n    <tr style=\"text-align: right;\">\n      <th></th>\n      <th>text</th>\n      <th>label</th>\n      <th>prediction</th>\n    </tr>\n  </thead>\n  <tbody>\n    <tr>\n      <th>0</th>\n      <td>Myślę, że to prawdopodobnie dobry pomysł, wcią...</td>\n      <td>5</td>\n      <td>5</td>\n    </tr>\n    <tr>\n      <th>1</th>\n      <td>Wciąż czuję, że wciąż boję się tego uczucia i ...</td>\n      <td>5</td>\n      <td>5</td>\n    </tr>\n    <tr>\n      <th>2</th>\n      <td>Ostatnio czuję się dość nostalgicznie, ale to ...</td>\n      <td>1</td>\n      <td>1</td>\n    </tr>\n    <tr>\n      <th>3</th>\n      <td>Jestem pod wrażeniem, że udało mi się wyciągną...</td>\n      <td>2</td>\n      <td>2</td>\n    </tr>\n    <tr>\n      <th>4</th>\n      <td>Nie sądzę, że wymieniłem choć jeden uśmiech z ...</td>\n      <td>2</td>\n      <td>2</td>\n    </tr>\n    <tr>\n      <th>...</th>\n      <td>...</td>\n      <td>...</td>\n      <td>...</td>\n    </tr>\n    <tr>\n      <th>3995</th>\n      <td>Czuję się wspaniale zrelaksowany w wyniku</td>\n      <td>0</td>\n      <td>0</td>\n    </tr>\n    <tr>\n      <th>3996</th>\n      <td>Czuję się zrzędliwy teraz fani futbolu obudzil...</td>\n      <td>4</td>\n      <td>4</td>\n    </tr>\n    <tr>\n      <th>3997</th>\n      <td>są związani z tym, co robią, pomimo tego, jak ...</td>\n      <td>0</td>\n      <td>5</td>\n    </tr>\n    <tr>\n      <th>3998</th>\n      <td>Czuję i będziesz zaskoczony zmianami, które na...</td>\n      <td>2</td>\n      <td>2</td>\n    </tr>\n    <tr>\n      <th>3999</th>\n      <td>Czuję się wściekły na siebie za zdobycie ponad...</td>\n      <td>4</td>\n      <td>4</td>\n    </tr>\n  </tbody>\n</table>\n<p>4000 rows × 3 columns</p>\n</div>"
     },
     "execution_count": 60,
     "metadata": {},
     "output_type": "execute_result"
    }
   ],
   "source": [
    "test_df = pd.DataFrame(\n",
    "    list(zip(test_dataset['text'], test_dataset['label'], hybrid_preds)),\n",
    "    columns=['text', 'label', 'prediction'])\n",
    "test_df"
   ],
   "metadata": {
    "collapsed": false,
    "ExecuteTime": {
     "end_time": "2023-06-18T17:51:20.488254300Z",
     "start_time": "2023-06-18T17:51:20.440210900Z"
    }
   }
  },
  {
   "cell_type": "code",
   "execution_count": 61,
   "outputs": [
    {
     "data": {
      "text/plain": "                                                   text  label  prediction  \\\n0     Myślę, że to prawdopodobnie dobry pomysł, wcią...      5           5   \n1     Wciąż czuję, że wciąż boję się tego uczucia i ...      5           5   \n2     Ostatnio czuję się dość nostalgicznie, ale to ...      1           1   \n3     Jestem pod wrażeniem, że udało mi się wyciągną...      2           2   \n4     Nie sądzę, że wymieniłem choć jeden uśmiech z ...      2           2   \n...                                                 ...    ...         ...   \n3995          Czuję się wspaniale zrelaksowany w wyniku      0           0   \n3996  Czuję się zrzędliwy teraz fani futbolu obudzil...      4           4   \n3997  są związani z tym, co robią, pomimo tego, jak ...      0           5   \n3998  Czuję i będziesz zaskoczony zmianami, które na...      2           2   \n3999  Czuję się wściekły na siebie za zdobycie ponad...      4           4   \n\n      token_count count_belonging  correctly_predicted  \n0              13           12-17                    1  \n1              21           18-23                    1  \n2              16           12-17                    1  \n3              11            6-11                    1  \n4              17           12-17                    1  \n...           ...             ...                  ...  \n3995            6            6-11                    1  \n3996           12           12-17                    1  \n3997           22           18-23                    0  \n3998            9            6-11                    1  \n3999           15           12-17                    1  \n\n[4000 rows x 6 columns]",
      "text/html": "<div>\n<style scoped>\n    .dataframe tbody tr th:only-of-type {\n        vertical-align: middle;\n    }\n\n    .dataframe tbody tr th {\n        vertical-align: top;\n    }\n\n    .dataframe thead th {\n        text-align: right;\n    }\n</style>\n<table border=\"1\" class=\"dataframe\">\n  <thead>\n    <tr style=\"text-align: right;\">\n      <th></th>\n      <th>text</th>\n      <th>label</th>\n      <th>prediction</th>\n      <th>token_count</th>\n      <th>count_belonging</th>\n      <th>correctly_predicted</th>\n    </tr>\n  </thead>\n  <tbody>\n    <tr>\n      <th>0</th>\n      <td>Myślę, że to prawdopodobnie dobry pomysł, wcią...</td>\n      <td>5</td>\n      <td>5</td>\n      <td>13</td>\n      <td>12-17</td>\n      <td>1</td>\n    </tr>\n    <tr>\n      <th>1</th>\n      <td>Wciąż czuję, że wciąż boję się tego uczucia i ...</td>\n      <td>5</td>\n      <td>5</td>\n      <td>21</td>\n      <td>18-23</td>\n      <td>1</td>\n    </tr>\n    <tr>\n      <th>2</th>\n      <td>Ostatnio czuję się dość nostalgicznie, ale to ...</td>\n      <td>1</td>\n      <td>1</td>\n      <td>16</td>\n      <td>12-17</td>\n      <td>1</td>\n    </tr>\n    <tr>\n      <th>3</th>\n      <td>Jestem pod wrażeniem, że udało mi się wyciągną...</td>\n      <td>2</td>\n      <td>2</td>\n      <td>11</td>\n      <td>6-11</td>\n      <td>1</td>\n    </tr>\n    <tr>\n      <th>4</th>\n      <td>Nie sądzę, że wymieniłem choć jeden uśmiech z ...</td>\n      <td>2</td>\n      <td>2</td>\n      <td>17</td>\n      <td>12-17</td>\n      <td>1</td>\n    </tr>\n    <tr>\n      <th>...</th>\n      <td>...</td>\n      <td>...</td>\n      <td>...</td>\n      <td>...</td>\n      <td>...</td>\n      <td>...</td>\n    </tr>\n    <tr>\n      <th>3995</th>\n      <td>Czuję się wspaniale zrelaksowany w wyniku</td>\n      <td>0</td>\n      <td>0</td>\n      <td>6</td>\n      <td>6-11</td>\n      <td>1</td>\n    </tr>\n    <tr>\n      <th>3996</th>\n      <td>Czuję się zrzędliwy teraz fani futbolu obudzil...</td>\n      <td>4</td>\n      <td>4</td>\n      <td>12</td>\n      <td>12-17</td>\n      <td>1</td>\n    </tr>\n    <tr>\n      <th>3997</th>\n      <td>są związani z tym, co robią, pomimo tego, jak ...</td>\n      <td>0</td>\n      <td>5</td>\n      <td>22</td>\n      <td>18-23</td>\n      <td>0</td>\n    </tr>\n    <tr>\n      <th>3998</th>\n      <td>Czuję i będziesz zaskoczony zmianami, które na...</td>\n      <td>2</td>\n      <td>2</td>\n      <td>9</td>\n      <td>6-11</td>\n      <td>1</td>\n    </tr>\n    <tr>\n      <th>3999</th>\n      <td>Czuję się wściekły na siebie za zdobycie ponad...</td>\n      <td>4</td>\n      <td>4</td>\n      <td>15</td>\n      <td>12-17</td>\n      <td>1</td>\n    </tr>\n  </tbody>\n</table>\n<p>4000 rows × 6 columns</p>\n</div>"
     },
     "execution_count": 61,
     "metadata": {},
     "output_type": "execute_result"
    }
   ],
   "source": [
    "def map_token_counts(row):\n",
    "    return len(row['text'].split())\n",
    "\n",
    "def map_count_belonging(row, divider):\n",
    "    int_division_result = int(row['token_count'] / divider) + 1\n",
    "    lower_boundary = divider * int_division_result - divider\n",
    "    upper_boundary = divider * int_division_result - 1\n",
    "    return f\"{lower_boundary}-{upper_boundary}\"\n",
    "\n",
    "def map_correctly_predicted(row):\n",
    "    return int(row['label'] == row['prediction'])\n",
    "\n",
    "\n",
    "test_df['token_count'] = test_df.apply(lambda row: map_token_counts(row), axis=1)\n",
    "test_df['count_belonging'] = test_df.apply(lambda row: map_count_belonging(row, divider=6), axis=1)\n",
    "test_df['correctly_predicted'] = test_df.apply(lambda row: map_correctly_predicted(row), axis=1)\n",
    "test_df"
   ],
   "metadata": {
    "collapsed": false,
    "ExecuteTime": {
     "end_time": "2023-06-18T17:51:22.030089900Z",
     "start_time": "2023-06-18T17:51:21.960210600Z"
    }
   }
  },
  {
   "cell_type": "code",
   "execution_count": 62,
   "outputs": [],
   "source": [
    "test_df = test_df.drop(test_df[test_df.token_count > 41].index)"
   ],
   "metadata": {
    "collapsed": false,
    "ExecuteTime": {
     "end_time": "2023-06-18T17:51:23.651496Z",
     "start_time": "2023-06-18T17:51:23.633623300Z"
    }
   }
  },
  {
   "cell_type": "code",
   "execution_count": 63,
   "outputs": [],
   "source": [
    "test_df = test_df.sort_values(by=['token_count']).reset_index(drop=True)"
   ],
   "metadata": {
    "collapsed": false,
    "ExecuteTime": {
     "end_time": "2023-06-18T17:51:24.117482300Z",
     "start_time": "2023-06-18T17:51:24.091480100Z"
    }
   }
  },
  {
   "cell_type": "code",
   "execution_count": 64,
   "outputs": [
    {
     "data": {
      "text/plain": "<Figure size 640x480 with 1 Axes>",
      "image/png": "[encoded data removed]"
     },
     "metadata": {},
     "output_type": "display_data"
    }
   ],
   "source": [
    "data = test_df['count_belonging']\n",
    "data.value_counts(sort=False).plot.bar()\n",
    "plt.xlabel('Token count range')\n",
    "plt.ylabel('Count')\n",
    "plt.savefig(os.path.join(figures_dir, f'{training_name}_counts_per_range.png'))\n",
    "plt.show()"
   ],
   "metadata": {
    "collapsed": false,
    "ExecuteTime": {
     "end_time": "2023-06-18T17:51:31.092442600Z",
     "start_time": "2023-06-18T17:51:30.980213200Z"
    }
   }
  },
  {
   "cell_type": "code",
   "execution_count": 65,
   "outputs": [],
   "source": [
    "range_to_valid_predictions_count_dict = {'0-5': 0, '6-11': 0, '12-17': 0, '18-23': 0, '24-29': 0, '30-35': 0, '36-41': 0}\n",
    "range_to_element_count_dict = {'0-5': 0, '6-11': 0, '12-17': 0, '18-23': 0, '24-29': 0, '30-35': 0, '36-41': 0}\n",
    "range_to_pred_accuracy_dict = {'0-5': 0., '6-11': 0., '12-17': 0., '18-23': 0., '24-29': 0., '30-35': 0., '36-41': 0.}"
   ],
   "metadata": {
    "collapsed": false,
    "ExecuteTime": {
     "end_time": "2023-06-18T17:51:32.535349700Z",
     "start_time": "2023-06-18T17:51:32.509819400Z"
    }
   }
  },
  {
   "cell_type": "code",
   "execution_count": 66,
   "outputs": [
    {
     "name": "stdout",
     "output_type": "stream",
     "text": [
      "Correct predictions count:  {'0-5': 340, '6-11': 977, '12-17': 951, '18-23': 601, '24-29': 329, '30-35': 166, '36-41': 74}\n",
      "Element count:  {'0-5': 386, '6-11': 1106, '12-17': 1064, '18-23': 702, '24-29': 383, '30-35': 197, '36-41': 93}\n",
      "Accuracies:  {'0-5': 0.8808290155440415, '6-11': 0.8833634719710669, '12-17': 0.893796992481203, '18-23': 0.8561253561253561, '24-29': 0.8590078328981723, '30-35': 0.8426395939086294, '36-41': 0.7956989247311828}\n"
     ]
    }
   ],
   "source": [
    "for _, row in test_df.iterrows():\n",
    "    count_belonging = row['count_belonging']\n",
    "\n",
    "    range_to_element_count_dict[count_belonging] = range_to_element_count_dict[count_belonging] + 1\n",
    "\n",
    "    if row['correctly_predicted']:\n",
    "        range_to_valid_predictions_count_dict[count_belonging] = range_to_valid_predictions_count_dict[count_belonging] + 1\n",
    "\n",
    "for key in range_to_pred_accuracy_dict.keys():\n",
    "    range_to_pred_accuracy_dict[key] = range_to_valid_predictions_count_dict[key] / range_to_element_count_dict[key]\n",
    "\n",
    "print(\"Correct predictions count: \", range_to_valid_predictions_count_dict)\n",
    "print(\"Element count: \", range_to_element_count_dict)\n",
    "print(\"Accuracies: \", range_to_pred_accuracy_dict)"
   ],
   "metadata": {
    "collapsed": false,
    "ExecuteTime": {
     "end_time": "2023-06-18T17:51:34.020430Z",
     "start_time": "2023-06-18T17:51:33.933205600Z"
    }
   }
  },
  {
   "cell_type": "code",
   "execution_count": 67,
   "outputs": [
    {
     "data": {
      "text/plain": "<Figure size 640x480 with 1 Axes>",
      "image/png": "[encoded data removed]"
     },
     "metadata": {},
     "output_type": "display_data"
    }
   ],
   "source": [
    "import matplotlib.ticker as mtick\n",
    "\n",
    "plt.bar(['0-5', '6-11', '12-17', '18-23', '24-29', '30-35', '36-41'], [val for val in range_to_pred_accuracy_dict.values()])\n",
    "plt.xlabel('Token count range')\n",
    "plt.ylabel('Accuracy')\n",
    "plt.gca().yaxis.set_major_formatter(mtick.PercentFormatter(xmax=1.0))\n",
    "plt.savefig(os.path.join(figures_dir, f'{training_name}_accuracies_per_range.png'))\n",
    "plt.show()"
   ],
   "metadata": {
    "collapsed": false,
    "ExecuteTime": {
     "end_time": "2023-06-18T17:51:36.433510100Z",
     "start_time": "2023-06-18T17:51:36.333280200Z"
    }
   }
  },
  {
   "cell_type": "code",
   "execution_count": null,
   "outputs": [],
   "source": [],
   "metadata": {
    "collapsed": false
   }
  }
 ],
 "metadata": {
  "kernelspec": {
   "display_name": "Python 3",
   "language": "python",
   "name": "python3"
  },
  "language_info": {
   "codemirror_mode": {
    "name": "ipython",
    "version": 2
   },
   "file_extension": ".py",
   "mimetype": "text/x-python",
   "name": "python",
   "nbconvert_exporter": "python",
   "pygments_lexer": "ipython2",
   "version": "2.7.6"
  }
 },
 "nbformat": 4,
 "nbformat_minor": 0
}
