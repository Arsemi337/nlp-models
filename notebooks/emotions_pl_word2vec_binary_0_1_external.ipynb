{
 "cells": [
  {
   "cell_type": "code",
   "execution_count": 1,
   "metadata": {
    "ExecuteTime": {
     "end_time": "2023-06-22T18:43:13.687258600Z",
     "start_time": "2023-06-22T18:43:09.776146200Z"
    }
   },
   "outputs": [],
   "source": [
    "import numpy as np\n",
    "import tensorflow as tf\n",
    "import string\n",
    "import pandas as pd\n",
    "import gensim\n",
    "from datasets import Dataset\n",
    "import spacy\n",
    "import core.model_utils as model_utils\n",
    "import core.constants as constants\n",
    "import matplotlib.pyplot as plt\n",
    "import os"
   ]
  },
  {
   "cell_type": "code",
   "execution_count": 2,
   "metadata": {
    "ExecuteTime": {
     "end_time": "2023-06-22T18:43:23.494899400Z",
     "start_time": "2023-06-22T18:43:13.688259Z"
    },
    "collapsed": false
   },
   "outputs": [],
   "source": [
    "# https://github.com/sdadas/polish-nlp-resources#word2vec (needs to be downloaded manually)\n",
    "word2vec_kv = gensim.models.KeyedVectors.load(\"./word2vec/word2vec_100_3_polish.bin\")"
   ]
  },
  {
   "cell_type": "code",
   "execution_count": 3,
   "metadata": {
    "ExecuteTime": {
     "end_time": "2023-06-22T18:43:23.507414100Z",
     "start_time": "2023-06-22T18:43:23.491899800Z"
    },
    "collapsed": false
   },
   "outputs": [],
   "source": [
    "def tokens_to_vector(tokens):\n",
    "    vector_size = word2vec_kv.vector_size\n",
    "    wv_res = np.zeros(vector_size)\n",
    "    ctr = 1\n",
    "    for w in tokens:\n",
    "        if w in word2vec_kv:\n",
    "            ctr += 1\n",
    "            wv_res += word2vec_kv[w]\n",
    "    wv_res = wv_res / ctr\n",
    "    return wv_res"
   ]
  },
  {
   "cell_type": "code",
   "execution_count": 4,
   "metadata": {
    "ExecuteTime": {
     "end_time": "2023-06-22T18:43:23.545509800Z",
     "start_time": "2023-06-22T18:43:23.506413700Z"
    },
    "collapsed": false
   },
   "outputs": [],
   "source": [
    "# Needs to be used to download spacy model for Polish\n",
    "# !python -m spacy download pl_core_news_sm"
   ]
  },
  {
   "cell_type": "code",
   "execution_count": 5,
   "metadata": {
    "ExecuteTime": {
     "end_time": "2023-06-22T18:43:23.546509600Z",
     "start_time": "2023-06-22T18:43:23.523438500Z"
    }
   },
   "outputs": [],
   "source": [
    "# spacy_model = spacy.load(\"pl_core_news_sm\")\n",
    "#\n",
    "# # Stop words\n",
    "# stop_words = spacy_model.Defaults.stop_words.copy()\n",
    "# stop_words.remove(\"nie\")\n",
    "#\n",
    "# # Punctuation\n",
    "# punctuations = string.punctuation\n",
    "#\n",
    "#\n",
    "# # Tokenizer\n",
    "# def spacy_tokenizer(sentence):\n",
    "#     doc = spacy_model(sentence)\n",
    "#\n",
    "#     # Lemmatizing each token and converting each token into lowercase\n",
    "#     my_tokens = [ word.lemma_.lower().strip() for word in doc ]\n",
    "#\n",
    "#     # Removing stop words and punctuation\n",
    "#     my_tokens = [ word for word in my_tokens if word not in stop_words and word not in punctuations ]\n",
    "#     return my_tokens\n",
    "#\n",
    "#\n",
    "# df = pd.read_json('./../data/polish_translated/emotions/equalized_emotions_dataset_pl.json')\n",
    "# df = df.drop(columns=['text'])\n",
    "# df['tokens'] = df['text_pl'].apply(spacy_tokenizer)\n",
    "# df['joined_tokens'] = df['tokens'].apply(lambda tokens: ' '.join(tokens))\n",
    "# df.to_json('./../data/polish_translated/emotions/equalized_emotions_dataset_pl_with_tokens.json')"
   ]
  },
  {
   "cell_type": "code",
   "execution_count": 6,
   "metadata": {
    "ExecuteTime": {
     "end_time": "2023-06-22T18:43:23.756022300Z",
     "start_time": "2023-06-22T18:43:23.537995300Z"
    },
    "collapsed": false
   },
   "outputs": [
    {
     "data": {
      "text/html": [
       "<div>\n",
       "<style scoped>\n",
       "    .dataframe tbody tr th:only-of-type {\n",
       "        vertical-align: middle;\n",
       "    }\n",
       "\n",
       "    .dataframe tbody tr th {\n",
       "        vertical-align: top;\n",
       "    }\n",
       "\n",
       "    .dataframe thead th {\n",
       "        text-align: right;\n",
       "    }\n",
       "</style>\n",
       "<table border=\"1\" class=\"dataframe\">\n",
       "  <thead>\n",
       "    <tr style=\"text-align: right;\">\n",
       "      <th></th>\n",
       "      <th>emotions</th>\n",
       "      <th>text_pl</th>\n",
       "      <th>tokens</th>\n",
       "      <th>joined_tokens</th>\n",
       "    </tr>\n",
       "  </thead>\n",
       "  <tbody>\n",
       "    <tr>\n",
       "      <th>0</th>\n",
       "      <td>anger</td>\n",
       "      <td>Czuję się całkowicie chciwy</td>\n",
       "      <td>[czuję, całkowicie, chciwy]</td>\n",
       "      <td>czuję całkowicie chciwy</td>\n",
       "    </tr>\n",
       "    <tr>\n",
       "      <th>1</th>\n",
       "      <td>fear</td>\n",
       "      <td>Czuję się tak przytłoczony emocjami</td>\n",
       "      <td>[czuję, przytłocić, emocja]</td>\n",
       "      <td>czuję przytłocić emocja</td>\n",
       "    </tr>\n",
       "    <tr>\n",
       "      <th>2</th>\n",
       "      <td>surprise</td>\n",
       "      <td>Nie czułem efektu siły g Jestem oszołomiony Po...</td>\n",
       "      <td>[nie, czuć, być, efekt, siła, g, oszołomiona, ...</td>\n",
       "      <td>nie czuć być efekt siła g oszołomiona poszedłe...</td>\n",
       "    </tr>\n",
       "    <tr>\n",
       "      <th>3</th>\n",
       "      <td>anger</td>\n",
       "      <td>ive just got to tell you all that I feel Racze...</td>\n",
       "      <td>[ive, just, got, tell, you, all, that, feel, r...</td>\n",
       "      <td>ive just got tell you all that feel raczej nie...</td>\n",
       "    </tr>\n",
       "    <tr>\n",
       "      <th>4</th>\n",
       "      <td>anger</td>\n",
       "      <td>Powiedziałem ci, że przepraszam, że czujesz si...</td>\n",
       "      <td>[powiedzieć, być, przepraszać, czuć, sfrustrow...</td>\n",
       "      <td>powiedzieć być przepraszać czuć sfrustrowany z...</td>\n",
       "    </tr>\n",
       "    <tr>\n",
       "      <th>...</th>\n",
       "      <td>...</td>\n",
       "      <td>...</td>\n",
       "      <td>...</td>\n",
       "      <td>...</td>\n",
       "    </tr>\n",
       "    <tr>\n",
       "      <th>39995</th>\n",
       "      <td>joy</td>\n",
       "      <td>czuję się ostatnio dość hojny, ponieważ pracuj...</td>\n",
       "      <td>[czuć, ostatnio, hojny, pracować, znacznie, zw...</td>\n",
       "      <td>czuć ostatnio hojny pracować znacznie zwykle z...</td>\n",
       "    </tr>\n",
       "    <tr>\n",
       "      <th>39996</th>\n",
       "      <td>love</td>\n",
       "      <td>Czuję, że niektóre postacie nie zasługują na w...</td>\n",
       "      <td>[czuję, niektóry, postać, nie, zasługiwać, wsp...</td>\n",
       "      <td>czuję niektóry postać nie zasługiwać wsparcie ...</td>\n",
       "    </tr>\n",
       "    <tr>\n",
       "      <th>39997</th>\n",
       "      <td>fear</td>\n",
       "      <td>Czuję strach w moich kościach, którego nie moż...</td>\n",
       "      <td>[czuję, strach, kość, nie, móc, wytrząsnąć, wy...</td>\n",
       "      <td>czuję strach kość nie móc wytrząsnąć wymuszć r...</td>\n",
       "    </tr>\n",
       "    <tr>\n",
       "      <th>39998</th>\n",
       "      <td>joy</td>\n",
       "      <td>Czułem się bardziej kreatywny i mniej jak czys...</td>\n",
       "      <td>[czuć, być, kreatywny, czysty, redaktor]</td>\n",
       "      <td>czuć być kreatywny czysty redaktor</td>\n",
       "    </tr>\n",
       "    <tr>\n",
       "      <th>39999</th>\n",
       "      <td>sadness</td>\n",
       "      <td>Czuję się zdruzgotany i pomagam Hellipowi</td>\n",
       "      <td>[czuję, zdruzgotać, pomagać, hellip]</td>\n",
       "      <td>czuję zdruzgotać pomagać hellip</td>\n",
       "    </tr>\n",
       "  </tbody>\n",
       "</table>\n",
       "<p>40000 rows × 4 columns</p>\n",
       "</div>"
      ],
      "text/plain": [
       "       emotions                                            text_pl  \\\n",
       "0         anger                        Czuję się całkowicie chciwy   \n",
       "1          fear                Czuję się tak przytłoczony emocjami   \n",
       "2      surprise  Nie czułem efektu siły g Jestem oszołomiony Po...   \n",
       "3         anger  ive just got to tell you all that I feel Racze...   \n",
       "4         anger  Powiedziałem ci, że przepraszam, że czujesz si...   \n",
       "...         ...                                                ...   \n",
       "39995       joy  czuję się ostatnio dość hojny, ponieważ pracuj...   \n",
       "39996      love  Czuję, że niektóre postacie nie zasługują na w...   \n",
       "39997      fear  Czuję strach w moich kościach, którego nie moż...   \n",
       "39998       joy  Czułem się bardziej kreatywny i mniej jak czys...   \n",
       "39999   sadness          Czuję się zdruzgotany i pomagam Hellipowi   \n",
       "\n",
       "                                                  tokens  \\\n",
       "0                            [czuję, całkowicie, chciwy]   \n",
       "1                            [czuję, przytłocić, emocja]   \n",
       "2      [nie, czuć, być, efekt, siła, g, oszołomiona, ...   \n",
       "3      [ive, just, got, tell, you, all, that, feel, r...   \n",
       "4      [powiedzieć, być, przepraszać, czuć, sfrustrow...   \n",
       "...                                                  ...   \n",
       "39995  [czuć, ostatnio, hojny, pracować, znacznie, zw...   \n",
       "39996  [czuję, niektóry, postać, nie, zasługiwać, wsp...   \n",
       "39997  [czuję, strach, kość, nie, móc, wytrząsnąć, wy...   \n",
       "39998           [czuć, być, kreatywny, czysty, redaktor]   \n",
       "39999               [czuję, zdruzgotać, pomagać, hellip]   \n",
       "\n",
       "                                           joined_tokens  \n",
       "0                                czuję całkowicie chciwy  \n",
       "1                                czuję przytłocić emocja  \n",
       "2      nie czuć być efekt siła g oszołomiona poszedłe...  \n",
       "3      ive just got tell you all that feel raczej nie...  \n",
       "4      powiedzieć być przepraszać czuć sfrustrowany z...  \n",
       "...                                                  ...  \n",
       "39995  czuć ostatnio hojny pracować znacznie zwykle z...  \n",
       "39996  czuję niektóry postać nie zasługiwać wsparcie ...  \n",
       "39997  czuję strach kość nie móc wytrząsnąć wymuszć r...  \n",
       "39998                 czuć być kreatywny czysty redaktor  \n",
       "39999                    czuję zdruzgotać pomagać hellip  \n",
       "\n",
       "[40000 rows x 4 columns]"
      ]
     },
     "execution_count": 6,
     "metadata": {},
     "output_type": "execute_result"
    }
   ],
   "source": [
    "tokenized_sentences_df = pd.read_json(\n",
    "    './../data/polish_translated/emotions/equalized_emotions_dataset_pl_with_tokens.json')\n",
    "tokenized_sentences_df"
   ]
  },
  {
   "cell_type": "code",
   "execution_count": 7,
   "metadata": {
    "ExecuteTime": {
     "end_time": "2023-06-22T18:43:23.816062100Z",
     "start_time": "2023-06-22T18:43:23.756022300Z"
    }
   },
   "outputs": [],
   "source": [
    "ordered_class_labels = {\n",
    "    \"joy\": 0,\n",
    "    \"love\": 1,\n",
    "    \"surprise\": 2,\n",
    "    \"sadness\": 3,\n",
    "    \"anger\": 4,\n",
    "    \"fear\": 5,\n",
    "}\n",
    "\n",
    "tokenized_sentences_df = tokenized_sentences_df.replace({\"emotions\": ordered_class_labels})"
   ]
  },
  {
   "cell_type": "code",
   "execution_count": 8,
   "metadata": {
    "ExecuteTime": {
     "end_time": "2023-06-22T18:43:23.855151700Z",
     "start_time": "2023-06-22T18:43:23.786927900Z"
    }
   },
   "outputs": [],
   "source": [
    "emotions = [0, 1]\n",
    "result_df = tokenized_sentences_df[tokenized_sentences_df['emotions'].isin(emotions)]"
   ]
  },
  {
   "cell_type": "code",
   "execution_count": 9,
   "metadata": {},
   "outputs": [
    {
     "data": {
      "text/plain": [
       "13334"
      ]
     },
     "execution_count": 9,
     "metadata": {},
     "output_type": "execute_result"
    }
   ],
   "source": [
    "len(result_df)"
   ]
  },
  {
   "cell_type": "code",
   "execution_count": 9,
   "metadata": {
    "ExecuteTime": {
     "end_time": "2023-06-22T18:43:23.941570100Z",
     "start_time": "2023-06-22T18:43:23.802962300Z"
    }
   },
   "outputs": [
    {
     "data": {
      "image/png": "[encoded data removed]",
      "text/plain": [
       "<Figure size 640x480 with 1 Axes>"
      ]
     },
     "metadata": {},
     "output_type": "display_data"
    }
   ],
   "source": [
    "data = result_df[\"emotions\"]\n",
    "data.value_counts().plot.bar()\n",
    "plt.show()"
   ]
  },
  {
   "cell_type": "code",
   "execution_count": 10,
   "metadata": {
    "ExecuteTime": {
     "end_time": "2023-06-22T18:43:23.960393Z",
     "start_time": "2023-06-22T18:43:23.912918800Z"
    }
   },
   "outputs": [
    {
     "data": {
      "text/plain": [
       "Dataset({\n",
       "    features: ['emotions', 'text_pl', 'tokens', 'joined_tokens'],\n",
       "    num_rows: 13334\n",
       "})"
      ]
     },
     "execution_count": 10,
     "metadata": {},
     "output_type": "execute_result"
    }
   ],
   "source": [
    "full_dataset = Dataset.from_pandas(result_df).remove_columns(\"__index_level_0__\")\n",
    "full_dataset"
   ]
  },
  {
   "cell_type": "code",
   "execution_count": 11,
   "metadata": {
    "ExecuteTime": {
     "end_time": "2023-06-22T18:43:24.019524500Z",
     "start_time": "2023-06-22T18:43:23.961396300Z"
    }
   },
   "outputs": [],
   "source": [
    "# Train set: 80%, Validation set: 10%, Test set: 10%\n",
    "train_dataset, val_dataset, test_dataset = model_utils.split_train_val_test(\n",
    "    full_dataset,\n",
    "    train_size=0.8,\n",
    "    test_size_of_val_test_batch=0.5,\n",
    "    shuffle=True,\n",
    "    seed=42)"
   ]
  },
  {
   "cell_type": "code",
   "execution_count": 12,
   "metadata": {
    "ExecuteTime": {
     "end_time": "2023-06-22T18:43:53.550301100Z",
     "start_time": "2023-06-22T18:43:23.974401900Z"
    }
   },
   "outputs": [
    {
     "data": {
      "application/vnd.jupyter.widget-view+json": {
       "model_id": "d238279596f24238bbd93c7c815aa140",
       "version_major": 2,
       "version_minor": 0
      },
      "text/plain": [
       "Map:   0%|          | 0/10667 [00:00<?, ? examples/s]"
      ]
     },
     "metadata": {},
     "output_type": "display_data"
    },
    {
     "data": {
      "application/vnd.jupyter.widget-view+json": {
       "model_id": "b2d0e54c3dfc43f6969f90ba383af9cb",
       "version_major": 2,
       "version_minor": 0
      },
      "text/plain": [
       "Map:   0%|          | 0/1333 [00:00<?, ? examples/s]"
      ]
     },
     "metadata": {},
     "output_type": "display_data"
    },
    {
     "data": {
      "application/vnd.jupyter.widget-view+json": {
       "model_id": "5b41da271efd42b3a3f6fb832dfbcd6d",
       "version_major": 2,
       "version_minor": 0
      },
      "text/plain": [
       "Map:   0%|          | 0/1334 [00:00<?, ? examples/s]"
      ]
     },
     "metadata": {},
     "output_type": "display_data"
    }
   ],
   "source": [
    "def tokenize_for_word2vec(sample):\n",
    "    sample['embeddings'] = [tokens_to_vector(tokens) for tokens in sample['tokens']]\n",
    "    return sample\n",
    "\n",
    "\n",
    "train_dataset = train_dataset.map(tokenize_for_word2vec, batched=True)\n",
    "val_dataset = val_dataset.map(tokenize_for_word2vec, batched=True)\n",
    "test_dataset = test_dataset.map(tokenize_for_word2vec, batched=True)"
   ]
  },
  {
   "cell_type": "code",
   "execution_count": 13,
   "metadata": {
    "ExecuteTime": {
     "end_time": "2023-06-22T18:43:58.590983900Z",
     "start_time": "2023-06-22T18:43:53.553299700Z"
    }
   },
   "outputs": [
    {
     "name": "stderr",
     "output_type": "stream",
     "text": [
      "C:\\Users\\Karol\\anaconda3\\envs\\ml-tf2gpu\\lib\\site-packages\\datasets\\arrow_dataset.py:388: FutureWarning: The output of `to_tf_dataset` will change when a passing single element list for `labels` or `columns` in the next datasets version. To return a tuple structure rather than dict, pass a single string.\n",
      "Old behaviour: columns=['a'], labels=['labels'] -> (tf.Tensor, tf.Tensor)  \n",
      "             : columns='a', labels='labels' -> (tf.Tensor, tf.Tensor)  \n",
      "New behaviour: columns=['a'],labels=['labels'] -> ({'a': tf.Tensor}, {'labels': tf.Tensor})  \n",
      "             : columns='a', labels='labels' -> (tf.Tensor, tf.Tensor) \n",
      "  warnings.warn(\n"
     ]
    }
   ],
   "source": [
    "columns = [\"embeddings\"]\n",
    "label_cols = [\"emotions\"]\n",
    "batch_size = 16\n",
    "\n",
    "tf_train_dataset = model_utils.convert_to_tf_dataset(train_dataset, columns, label_cols, None, batch_size)\n",
    "tf_val_dataset = model_utils.convert_to_tf_dataset(val_dataset, columns, label_cols, None, batch_size)\n",
    "tf_test_dataset = model_utils.convert_to_tf_dataset(test_dataset, columns, label_cols, None, batch_size)"
   ]
  },
  {
   "cell_type": "code",
   "execution_count": 14,
   "metadata": {
    "ExecuteTime": {
     "end_time": "2023-06-22T18:43:59.011878Z",
     "start_time": "2023-06-22T18:43:58.591983400Z"
    }
   },
   "outputs": [],
   "source": [
    "model = tf.keras.models.Sequential()\n",
    "model.add(tf.keras.layers.Flatten())\n",
    "model.add(tf.keras.layers.Dense(128, activation='relu'))\n",
    "model.add(tf.keras.layers.Dense(64, activation='relu'))\n",
    "model.add(tf.keras.layers.Dense(16, activation='relu'))\n",
    "model.add(tf.keras.layers.Dense(2, activation='sigmoid'))"
   ]
  },
  {
   "cell_type": "code",
   "execution_count": 15,
   "metadata": {
    "ExecuteTime": {
     "end_time": "2023-06-22T18:43:59.027166200Z",
     "start_time": "2023-06-22T18:43:59.013881300Z"
    }
   },
   "outputs": [],
   "source": [
    "model.compile(optimizer=\"adam\", loss=tf.keras.losses.SparseCategoricalCrossentropy(), metrics=[\"accuracy\"])"
   ]
  },
  {
   "cell_type": "code",
   "execution_count": 16,
   "metadata": {
    "ExecuteTime": {
     "end_time": "2023-06-22T18:43:59.059725600Z",
     "start_time": "2023-06-22T18:43:59.029675600Z"
    }
   },
   "outputs": [],
   "source": [
    "# Model parameters\n",
    "training_number = 2\n",
    "model_name = 'emotions_pl_word2vec_binary_0_1_external'\n",
    "training_name = f\"training_{training_number}\"\n",
    "figures_dir = f\"./../documentation/models/{model_name}/figures\"\n",
    "checkpoint_filename_template = \"cp-{epoch:04d}.ckpt\"\n",
    "checkpoints_dir = os.path.join(constants.TRAINING_CHECKPOINTS_PATH, model_name, training_name)\n",
    "checkpoint_path = os.path.join(checkpoints_dir, checkpoint_filename_template)"
   ]
  },
  {
   "cell_type": "code",
   "execution_count": 17,
   "metadata": {
    "ExecuteTime": {
     "end_time": "2023-06-22T18:43:59.060733100Z",
     "start_time": "2023-06-22T18:43:59.043203100Z"
    }
   },
   "outputs": [],
   "source": [
    "# Callbacks\n",
    "checkpoint_cb = tf.keras.callbacks.ModelCheckpoint(checkpoint_path, verbose=1, save_weights_only=True)\n",
    "early_stop_cb = tf.keras.callbacks.EarlyStopping(patience=3)\n",
    "callbacks = [checkpoint_cb, early_stop_cb]"
   ]
  },
  {
   "cell_type": "code",
   "execution_count": 18,
   "metadata": {
    "ExecuteTime": {
     "end_time": "2023-06-22T18:44:13.568274400Z",
     "start_time": "2023-06-22T18:43:59.059725600Z"
    }
   },
   "outputs": [
    {
     "name": "stdout",
     "output_type": "stream",
     "text": [
      "Epoch 1/20\n",
      "667/667 [==============================] - 6s 3ms/step - loss: 0.6122 - accuracy: 0.6553 - val_loss: 0.5792 - val_accuracy: 0.6834\n",
      "\n",
      "Epoch 00001: saving model to ./../training_checkpoints\\emotions_pl_word2vec_binary_0_1_external\\training_2\\cp-0001.ckpt\n",
      "Epoch 2/20\n",
      "667/667 [==============================] - 1s 2ms/step - loss: 0.5593 - accuracy: 0.7022 - val_loss: 0.5553 - val_accuracy: 0.7104\n",
      "\n",
      "Epoch 00002: saving model to ./../training_checkpoints\\emotions_pl_word2vec_binary_0_1_external\\training_2\\cp-0002.ckpt\n",
      "Epoch 3/20\n",
      "667/667 [==============================] - 1s 2ms/step - loss: 0.5331 - accuracy: 0.7225 - val_loss: 0.5413 - val_accuracy: 0.7187\n",
      "\n",
      "Epoch 00003: saving model to ./../training_checkpoints\\emotions_pl_word2vec_binary_0_1_external\\training_2\\cp-0003.ckpt\n",
      "Epoch 4/20\n",
      "667/667 [==============================] - 1s 2ms/step - loss: 0.5058 - accuracy: 0.7439 - val_loss: 0.5367 - val_accuracy: 0.7202\n",
      "\n",
      "Epoch 00004: saving model to ./../training_checkpoints\\emotions_pl_word2vec_binary_0_1_external\\training_2\\cp-0004.ckpt\n",
      "Epoch 5/20\n",
      "667/667 [==============================] - 1s 2ms/step - loss: 0.4766 - accuracy: 0.7642 - val_loss: 0.5444 - val_accuracy: 0.7127\n",
      "\n",
      "Epoch 00005: saving model to ./../training_checkpoints\\emotions_pl_word2vec_binary_0_1_external\\training_2\\cp-0005.ckpt\n",
      "Epoch 6/20\n",
      "667/667 [==============================] - 1s 2ms/step - loss: 0.4465 - accuracy: 0.7839 - val_loss: 0.5455 - val_accuracy: 0.7172\n",
      "\n",
      "Epoch 00006: saving model to ./../training_checkpoints\\emotions_pl_word2vec_binary_0_1_external\\training_2\\cp-0006.ckpt\n",
      "Epoch 7/20\n",
      "667/667 [==============================] - 1s 2ms/step - loss: 0.4149 - accuracy: 0.8046 - val_loss: 0.5682 - val_accuracy: 0.7074\n",
      "\n",
      "Epoch 00007: saving model to ./../training_checkpoints\\emotions_pl_word2vec_binary_0_1_external\\training_2\\cp-0007.ckpt\n"
     ]
    }
   ],
   "source": [
    "history = model.fit(tf_train_dataset, validation_data=tf_val_dataset, epochs=20,\n",
    "                    callbacks=[checkpoint_cb, early_stop_cb])"
   ]
  },
  {
   "cell_type": "code",
   "execution_count": 19,
   "metadata": {
    "ExecuteTime": {
     "end_time": "2023-06-22T18:44:13.954268Z",
     "start_time": "2023-06-22T18:44:13.568274400Z"
    }
   },
   "outputs": [
    {
     "data": {
      "image/png": "[encoded data removed]",
      "text/plain": [
       "<Figure size 640x480 with 1 Axes>"
      ]
     },
     "metadata": {},
     "output_type": "display_data"
    },
    {
     "data": {
      "image/png": "[encoded data removed]",
      "text/plain": [
       "<Figure size 640x480 with 1 Axes>"
      ]
     },
     "metadata": {},
     "output_type": "display_data"
    }
   ],
   "source": [
    "model_utils.plot_and_save_fig_from_history(history,\n",
    "                                           attributes=['accuracy', 'val_accuracy'],\n",
    "                                           title='Model accuracy',\n",
    "                                           y_label='Accuracy',\n",
    "                                           x_label='Epoch',\n",
    "                                           legend_descriptors=['Train', 'Val'],\n",
    "                                           figure_dir_path=figures_dir,\n",
    "                                           figure_filename=f\"{training_name}_accuracy.png\")\n",
    "\n",
    "model_utils.plot_and_save_fig_from_history(history,\n",
    "                                           attributes=['loss', 'val_loss'],\n",
    "                                           title='Model loss',\n",
    "                                           y_label='Loss',\n",
    "                                           x_label='Epoch',\n",
    "                                           legend_descriptors=['Train', 'Val'],\n",
    "                                           figure_dir_path=figures_dir,\n",
    "                                           figure_filename=f\"{training_name}_loss.png\")"
   ]
  },
  {
   "cell_type": "code",
   "execution_count": 20,
   "metadata": {
    "ExecuteTime": {
     "end_time": "2023-06-22T18:44:14.026805900Z",
     "start_time": "2023-06-22T18:44:13.956267Z"
    }
   },
   "outputs": [],
   "source": [
    "best_model = model_utils.get_best_model_from_checkpoints(model, history,\n",
    "                                                         checkpoints_dir=checkpoints_dir,\n",
    "                                                         checkpoint_filename_template=checkpoint_filename_template)"
   ]
  },
  {
   "cell_type": "code",
   "execution_count": 21,
   "metadata": {
    "ExecuteTime": {
     "end_time": "2023-06-22T18:44:15.271119300Z",
     "start_time": "2023-06-22T18:44:13.987832100Z"
    }
   },
   "outputs": [
    {
     "name": "stdout",
     "output_type": "stream",
     "text": [
      "INFO:tensorflow:Assets written to: ./../trained_models\\emotions_pl_word2vec_binary_0_1_external_2\\1\\assets\n"
     ]
    }
   ],
   "source": [
    "model_utils.save_model(best_model, model_name=model_name, training_number=training_number, saved_models_dir=constants.SAVED_MODEL_LOCATION, default_model_version=constants.DEFAULT_MODEL_VERSION)"
   ]
  },
  {
   "cell_type": "code",
   "execution_count": 22,
   "metadata": {
    "ExecuteTime": {
     "end_time": "2023-06-22T18:44:15.489259800Z",
     "start_time": "2023-06-22T18:44:15.243019700Z"
    }
   },
   "outputs": [
    {
     "name": "stdout",
     "output_type": "stream",
     "text": [
      "84/84 [==============================] - 0s 2ms/step - loss: 0.5681 - accuracy: 0.7226\n"
     ]
    },
    {
     "data": {
      "text/plain": [
       "[0.5680667757987976, 0.7226386666297913]"
      ]
     },
     "execution_count": 22,
     "metadata": {},
     "output_type": "execute_result"
    }
   ],
   "source": [
    "# Evaluation\n",
    "best_model.evaluate(tf_test_dataset, batch_size=batch_size)"
   ]
  },
  {
   "cell_type": "code",
   "execution_count": 23,
   "metadata": {
    "ExecuteTime": {
     "end_time": "2023-06-22T18:44:15.630537500Z",
     "start_time": "2023-06-22T18:44:15.462729900Z"
    }
   },
   "outputs": [],
   "source": [
    "class_preds = model_utils.get_class_preds(best_model, tf_test_dataset, model_returns_logits=False)"
   ]
  },
  {
   "cell_type": "code",
   "execution_count": 24,
   "metadata": {
    "ExecuteTime": {
     "end_time": "2023-06-22T18:44:15.647043500Z",
     "start_time": "2023-06-22T18:44:15.632535700Z"
    }
   },
   "outputs": [
    {
     "name": "stdout",
     "output_type": "stream",
     "text": [
      "Precision score:  0.7151424287856072\n",
      "Recall score:  0.726027397260274\n",
      "F1 score:  0.7205438066465256\n"
     ]
    }
   ],
   "source": [
    "precision, recall, f1 = model_utils.get_classification_evaluation_metrics(\n",
    "    class_actual=test_dataset['emotions'],\n",
    "    class_preds=class_preds,\n",
    ")\n",
    "\n",
    "print(f\"Precision score: \", precision)\n",
    "print(f\"Recall score: \", recall)\n",
    "print(f\"F1 score: \", f1)"
   ]
  },
  {
   "cell_type": "code",
   "execution_count": 25,
   "metadata": {
    "ExecuteTime": {
     "end_time": "2023-06-22T18:44:15.815326300Z",
     "start_time": "2023-06-22T18:44:15.649044900Z"
    }
   },
   "outputs": [
    {
     "data": {
      "image/png": "[encoded data removed]",
      "text/plain": [
       "<Figure size 640x480 with 2 Axes>"
      ]
     },
     "metadata": {},
     "output_type": "display_data"
    }
   ],
   "source": [
    "model_utils.plot_and_save_conf_matrix(class_actual=test_dataset['emotions'],\n",
    "                                      class_preds=class_preds,\n",
    "                                      figure_dir_path=figures_dir,\n",
    "                                      figure_filename=f\"{training_name}_confmatrix.png\")"
   ]
  },
  {
   "cell_type": "code",
   "execution_count": 26,
   "metadata": {
    "ExecuteTime": {
     "end_time": "2023-06-22T18:44:15.817327800Z",
     "start_time": "2023-06-22T18:44:15.815326300Z"
    }
   },
   "outputs": [
    {
     "name": "stdout",
     "output_type": "stream",
     "text": [
      "\n",
      "            BAD PREDICTION:\n",
      "            - INDEX: 2\n",
      "            - TEXT: Nie czuję się wierny w czasie i potykam się\n",
      "            - PREDICTED VALUE: 0\n",
      "            - CORRECT VALUE: 1\n",
      "            \n",
      "\n",
      "            BAD PREDICTION:\n",
      "            - INDEX: 4\n",
      "            - TEXT: Czuję, że dzieci zaakceptowały mnie jako przyjaciela w swoich kręgach.\n",
      "            - PREDICTED VALUE: 1\n",
      "            - CORRECT VALUE: 0\n",
      "            \n",
      "\n",
      "            BAD PREDICTION:\n",
      "            - INDEX: 11\n",
      "            - TEXT: Czuję, że to naprawdę wspaniały sposób na świętowanie bycia mamą i bycia rodziną. Moje córki i córki Keitha śmieją się, widać włosy.\n",
      "            - PREDICTED VALUE: 0\n",
      "            - CORRECT VALUE: 1\n",
      "            \n",
      "\n",
      "            BAD PREDICTION:\n",
      "            - INDEX: 15\n",
      "            - TEXT: Nie czułem się rozbawiony zachowaniem moich szefów, więc łagodzi mnie wiedza, że nie jestem sadystą\n",
      "            - PREDICTED VALUE: 1\n",
      "            - CORRECT VALUE: 0\n",
      "            \n",
      "\n",
      "            BAD PREDICTION:\n",
      "            - INDEX: 20\n",
      "            - TEXT: Muszę namówić moje włosy, aby nie przypominały gniazda dzikich ptaków, więc moje włosy zwykle kończą się w jakimś przypadkowym kucyku lub warkoczu, jeśli czuję się ryzykowny\n",
      "            - PREDICTED VALUE: 1\n",
      "            - CORRECT VALUE: 0\n",
      "            \n",
      "\n",
      "            BAD PREDICTION:\n",
      "            - INDEX: 26\n",
      "            - TEXT: Czuję, że ponieważ produkt jest zbyt delikatny, najlepiej nadaje się do bardzo czystej skóry normalnej, a skóry mieszane powinny prawdopodobnie go unikać\n",
      "            - PREDICTED VALUE: 0\n",
      "            - CORRECT VALUE: 1\n",
      "            \n",
      "\n",
      "            BAD PREDICTION:\n",
      "            - INDEX: 27\n",
      "            - TEXT: Czuję się bardziej wierny adaptacje materiału źródłowego s Rolane\n",
      "            - PREDICTED VALUE: 0\n",
      "            - CORRECT VALUE: 1\n",
      "            \n",
      "\n",
      "            BAD PREDICTION:\n",
      "            - INDEX: 29\n",
      "            - TEXT: Zawsze mam uczucia, które nigdy nie zostają rozwiązane\n",
      "            - PREDICTED VALUE: 1\n",
      "            - CORRECT VALUE: 0\n",
      "            \n",
      "\n",
      "            BAD PREDICTION:\n",
      "            - INDEX: 41\n",
      "            - TEXT: Mogę odnosić się albo doceniając, jak czują się w sytuacji empatycznej, albo czując, jak rzeczy mogłyby potoczyć się inaczej, gdybym był w sytuacji sympatycznej odpowiedzi, ale nie mogę powiedzieć, że jest to część mojego życia, ponieważ ogólnie rzecz biorąc, nie jest to współczucie.\n",
      "            - PREDICTED VALUE: 0\n",
      "            - CORRECT VALUE: 1\n",
      "            \n",
      "\n",
      "            BAD PREDICTION:\n",
      "            - INDEX: 48\n",
      "            - TEXT: Mogę spać, rano będę bardziej współczująca\n",
      "            - PREDICTED VALUE: 0\n",
      "            - CORRECT VALUE: 1\n",
      "            \n"
     ]
    }
   ],
   "source": [
    "model_utils.print_incorrectly_predicted_texts(texts=test_dataset['text_pl'],\n",
    "                                              class_actual=test_dataset['emotions'],\n",
    "                                              class_preds=class_preds)"
   ]
  },
  {
   "cell_type": "code",
   "execution_count": 27,
   "metadata": {
    "ExecuteTime": {
     "end_time": "2023-06-22T18:44:15.899025100Z",
     "start_time": "2023-06-22T18:44:15.818832200Z"
    }
   },
   "outputs": [
    {
     "data": {
      "text/html": [
       "<div>\n",
       "<style scoped>\n",
       "    .dataframe tbody tr th:only-of-type {\n",
       "        vertical-align: middle;\n",
       "    }\n",
       "\n",
       "    .dataframe tbody tr th {\n",
       "        vertical-align: top;\n",
       "    }\n",
       "\n",
       "    .dataframe thead th {\n",
       "        text-align: right;\n",
       "    }\n",
       "</style>\n",
       "<table border=\"1\" class=\"dataframe\">\n",
       "  <thead>\n",
       "    <tr style=\"text-align: right;\">\n",
       "      <th></th>\n",
       "      <th>text_pl</th>\n",
       "      <th>emotions</th>\n",
       "      <th>prediction</th>\n",
       "    </tr>\n",
       "  </thead>\n",
       "  <tbody>\n",
       "    <tr>\n",
       "      <th>0</th>\n",
       "      <td>Czuję, że w końcu zaakceptowałam swoje miejsce...</td>\n",
       "      <td>1</td>\n",
       "      <td>1</td>\n",
       "    </tr>\n",
       "    <tr>\n",
       "      <th>1</th>\n",
       "      <td>Czuję się podwójnie błogosławiony tą łaską, po...</td>\n",
       "      <td>1</td>\n",
       "      <td>1</td>\n",
       "    </tr>\n",
       "    <tr>\n",
       "      <th>2</th>\n",
       "      <td>Nie czuję się wierny w czasie i potykam się</td>\n",
       "      <td>1</td>\n",
       "      <td>0</td>\n",
       "    </tr>\n",
       "    <tr>\n",
       "      <th>3</th>\n",
       "      <td>Czuję, że przynajmniej raz dziennie Bóg musi m...</td>\n",
       "      <td>1</td>\n",
       "      <td>1</td>\n",
       "    </tr>\n",
       "    <tr>\n",
       "      <th>4</th>\n",
       "      <td>Czuję, że dzieci zaakceptowały mnie jako przyj...</td>\n",
       "      <td>0</td>\n",
       "      <td>1</td>\n",
       "    </tr>\n",
       "    <tr>\n",
       "      <th>...</th>\n",
       "      <td>...</td>\n",
       "      <td>...</td>\n",
       "      <td>...</td>\n",
       "    </tr>\n",
       "    <tr>\n",
       "      <th>1329</th>\n",
       "      <td>Jestem wdzięczna za moich wspaniałych rodziców...</td>\n",
       "      <td>0</td>\n",
       "      <td>0</td>\n",
       "    </tr>\n",
       "    <tr>\n",
       "      <th>1330</th>\n",
       "      <td>Nienawidzę tego, kto potrzebował jej oddechu, ...</td>\n",
       "      <td>1</td>\n",
       "      <td>1</td>\n",
       "    </tr>\n",
       "    <tr>\n",
       "      <th>1331</th>\n",
       "      <td>Czuję się dobrze z indukcją i następnym jestem...</td>\n",
       "      <td>0</td>\n",
       "      <td>0</td>\n",
       "    </tr>\n",
       "    <tr>\n",
       "      <th>1332</th>\n",
       "      <td>Czuję, że nawet z ilością czasu poświęconego n...</td>\n",
       "      <td>1</td>\n",
       "      <td>0</td>\n",
       "    </tr>\n",
       "    <tr>\n",
       "      <th>1333</th>\n",
       "      <td>Czułem się niegrzeczny, więc pozwoliłem kolano...</td>\n",
       "      <td>1</td>\n",
       "      <td>0</td>\n",
       "    </tr>\n",
       "  </tbody>\n",
       "</table>\n",
       "<p>1334 rows × 3 columns</p>\n",
       "</div>"
      ],
      "text/plain": [
       "                                                text_pl  emotions  prediction\n",
       "0     Czuję, że w końcu zaakceptowałam swoje miejsce...         1           1\n",
       "1     Czuję się podwójnie błogosławiony tą łaską, po...         1           1\n",
       "2           Nie czuję się wierny w czasie i potykam się         1           0\n",
       "3     Czuję, że przynajmniej raz dziennie Bóg musi m...         1           1\n",
       "4     Czuję, że dzieci zaakceptowały mnie jako przyj...         0           1\n",
       "...                                                 ...       ...         ...\n",
       "1329  Jestem wdzięczna za moich wspaniałych rodziców...         0           0\n",
       "1330  Nienawidzę tego, kto potrzebował jej oddechu, ...         1           1\n",
       "1331  Czuję się dobrze z indukcją i następnym jestem...         0           0\n",
       "1332  Czuję, że nawet z ilością czasu poświęconego n...         1           0\n",
       "1333  Czułem się niegrzeczny, więc pozwoliłem kolano...         1           0\n",
       "\n",
       "[1334 rows x 3 columns]"
      ]
     },
     "execution_count": 27,
     "metadata": {},
     "output_type": "execute_result"
    }
   ],
   "source": [
    "test_df = pd.DataFrame(\n",
    "    list(zip(test_dataset['text_pl'], test_dataset['emotions'], class_preds)),\n",
    "    columns=['text_pl', 'emotions', 'prediction'])\n",
    "test_df"
   ]
  },
  {
   "cell_type": "code",
   "execution_count": 28,
   "metadata": {
    "ExecuteTime": {
     "end_time": "2023-06-22T18:44:15.971117900Z",
     "start_time": "2023-06-22T18:44:15.849110800Z"
    }
   },
   "outputs": [
    {
     "data": {
      "text/html": [
       "<div>\n",
       "<style scoped>\n",
       "    .dataframe tbody tr th:only-of-type {\n",
       "        vertical-align: middle;\n",
       "    }\n",
       "\n",
       "    .dataframe tbody tr th {\n",
       "        vertical-align: top;\n",
       "    }\n",
       "\n",
       "    .dataframe thead th {\n",
       "        text-align: right;\n",
       "    }\n",
       "</style>\n",
       "<table border=\"1\" class=\"dataframe\">\n",
       "  <thead>\n",
       "    <tr style=\"text-align: right;\">\n",
       "      <th></th>\n",
       "      <th>text_pl</th>\n",
       "      <th>emotions</th>\n",
       "      <th>prediction</th>\n",
       "      <th>token_count</th>\n",
       "      <th>count_belonging</th>\n",
       "      <th>correctly_predicted</th>\n",
       "    </tr>\n",
       "  </thead>\n",
       "  <tbody>\n",
       "    <tr>\n",
       "      <th>0</th>\n",
       "      <td>Czuję, że w końcu zaakceptowałam swoje miejsce...</td>\n",
       "      <td>1</td>\n",
       "      <td>1</td>\n",
       "      <td>29</td>\n",
       "      <td>24-29</td>\n",
       "      <td>1</td>\n",
       "    </tr>\n",
       "    <tr>\n",
       "      <th>1</th>\n",
       "      <td>Czuję się podwójnie błogosławiony tą łaską, po...</td>\n",
       "      <td>1</td>\n",
       "      <td>1</td>\n",
       "      <td>17</td>\n",
       "      <td>12-17</td>\n",
       "      <td>1</td>\n",
       "    </tr>\n",
       "    <tr>\n",
       "      <th>2</th>\n",
       "      <td>Nie czuję się wierny w czasie i potykam się</td>\n",
       "      <td>1</td>\n",
       "      <td>0</td>\n",
       "      <td>9</td>\n",
       "      <td>6-11</td>\n",
       "      <td>0</td>\n",
       "    </tr>\n",
       "    <tr>\n",
       "      <th>3</th>\n",
       "      <td>Czuję, że przynajmniej raz dziennie Bóg musi m...</td>\n",
       "      <td>1</td>\n",
       "      <td>1</td>\n",
       "      <td>15</td>\n",
       "      <td>12-17</td>\n",
       "      <td>1</td>\n",
       "    </tr>\n",
       "    <tr>\n",
       "      <th>4</th>\n",
       "      <td>Czuję, że dzieci zaakceptowały mnie jako przyj...</td>\n",
       "      <td>0</td>\n",
       "      <td>1</td>\n",
       "      <td>10</td>\n",
       "      <td>6-11</td>\n",
       "      <td>0</td>\n",
       "    </tr>\n",
       "    <tr>\n",
       "      <th>...</th>\n",
       "      <td>...</td>\n",
       "      <td>...</td>\n",
       "      <td>...</td>\n",
       "      <td>...</td>\n",
       "      <td>...</td>\n",
       "      <td>...</td>\n",
       "    </tr>\n",
       "    <tr>\n",
       "      <th>1329</th>\n",
       "      <td>Jestem wdzięczna za moich wspaniałych rodziców...</td>\n",
       "      <td>0</td>\n",
       "      <td>0</td>\n",
       "      <td>17</td>\n",
       "      <td>12-17</td>\n",
       "      <td>1</td>\n",
       "    </tr>\n",
       "    <tr>\n",
       "      <th>1330</th>\n",
       "      <td>Nienawidzę tego, kto potrzebował jej oddechu, ...</td>\n",
       "      <td>1</td>\n",
       "      <td>1</td>\n",
       "      <td>29</td>\n",
       "      <td>24-29</td>\n",
       "      <td>1</td>\n",
       "    </tr>\n",
       "    <tr>\n",
       "      <th>1331</th>\n",
       "      <td>Czuję się dobrze z indukcją i następnym jestem...</td>\n",
       "      <td>0</td>\n",
       "      <td>0</td>\n",
       "      <td>20</td>\n",
       "      <td>18-23</td>\n",
       "      <td>1</td>\n",
       "    </tr>\n",
       "    <tr>\n",
       "      <th>1332</th>\n",
       "      <td>Czuję, że nawet z ilością czasu poświęconego n...</td>\n",
       "      <td>1</td>\n",
       "      <td>0</td>\n",
       "      <td>19</td>\n",
       "      <td>18-23</td>\n",
       "      <td>0</td>\n",
       "    </tr>\n",
       "    <tr>\n",
       "      <th>1333</th>\n",
       "      <td>Czułem się niegrzeczny, więc pozwoliłem kolano...</td>\n",
       "      <td>1</td>\n",
       "      <td>0</td>\n",
       "      <td>15</td>\n",
       "      <td>12-17</td>\n",
       "      <td>0</td>\n",
       "    </tr>\n",
       "  </tbody>\n",
       "</table>\n",
       "<p>1334 rows × 6 columns</p>\n",
       "</div>"
      ],
      "text/plain": [
       "                                                text_pl  emotions  prediction  \\\n",
       "0     Czuję, że w końcu zaakceptowałam swoje miejsce...         1           1   \n",
       "1     Czuję się podwójnie błogosławiony tą łaską, po...         1           1   \n",
       "2           Nie czuję się wierny w czasie i potykam się         1           0   \n",
       "3     Czuję, że przynajmniej raz dziennie Bóg musi m...         1           1   \n",
       "4     Czuję, że dzieci zaakceptowały mnie jako przyj...         0           1   \n",
       "...                                                 ...       ...         ...   \n",
       "1329  Jestem wdzięczna za moich wspaniałych rodziców...         0           0   \n",
       "1330  Nienawidzę tego, kto potrzebował jej oddechu, ...         1           1   \n",
       "1331  Czuję się dobrze z indukcją i następnym jestem...         0           0   \n",
       "1332  Czuję, że nawet z ilością czasu poświęconego n...         1           0   \n",
       "1333  Czułem się niegrzeczny, więc pozwoliłem kolano...         1           0   \n",
       "\n",
       "      token_count count_belonging  correctly_predicted  \n",
       "0              29           24-29                    1  \n",
       "1              17           12-17                    1  \n",
       "2               9            6-11                    0  \n",
       "3              15           12-17                    1  \n",
       "4              10            6-11                    0  \n",
       "...           ...             ...                  ...  \n",
       "1329           17           12-17                    1  \n",
       "1330           29           24-29                    1  \n",
       "1331           20           18-23                    1  \n",
       "1332           19           18-23                    0  \n",
       "1333           15           12-17                    0  \n",
       "\n",
       "[1334 rows x 6 columns]"
      ]
     },
     "execution_count": 28,
     "metadata": {},
     "output_type": "execute_result"
    }
   ],
   "source": [
    "def map_token_counts(row):\n",
    "    return len(row['text_pl'].split())\n",
    "\n",
    "def map_count_belonging(row, divider):\n",
    "    int_division_result = int(row['token_count'] / divider) + 1\n",
    "    lower_boundary = divider * int_division_result - divider\n",
    "    upper_boundary = divider * int_division_result - 1\n",
    "    return f\"{lower_boundary}-{upper_boundary}\"\n",
    "\n",
    "def map_correctly_predicted(row):\n",
    "    return int(row['emotions'] == row['prediction'])\n",
    "\n",
    "\n",
    "test_df['token_count'] = test_df.apply(lambda row: map_token_counts(row), axis=1)\n",
    "test_df['count_belonging'] = test_df.apply(lambda row: map_count_belonging(row, divider=6), axis=1)\n",
    "test_df['correctly_predicted'] = test_df.apply(lambda row: map_correctly_predicted(row), axis=1)\n",
    "test_df"
   ]
  },
  {
   "cell_type": "code",
   "execution_count": 29,
   "metadata": {
    "ExecuteTime": {
     "end_time": "2023-06-22T18:44:16.005665900Z",
     "start_time": "2023-06-22T18:44:15.911859Z"
    }
   },
   "outputs": [],
   "source": [
    "test_df = test_df.drop(test_df[test_df.token_count > 29].index)"
   ]
  },
  {
   "cell_type": "code",
   "execution_count": 30,
   "metadata": {
    "ExecuteTime": {
     "end_time": "2023-06-22T18:44:16.005665900Z",
     "start_time": "2023-06-22T18:44:15.927877600Z"
    }
   },
   "outputs": [],
   "source": [
    "test_df = test_df.sort_values(by=['token_count']).reset_index(drop=True)"
   ]
  },
  {
   "cell_type": "code",
   "execution_count": 31,
   "metadata": {
    "ExecuteTime": {
     "end_time": "2023-06-22T18:44:16.113130600Z",
     "start_time": "2023-06-22T18:44:15.943907600Z"
    }
   },
   "outputs": [
    {
     "data": {
      "image/png": "[encoded data removed]",
      "text/plain": [
       "<Figure size 640x480 with 1 Axes>"
      ]
     },
     "metadata": {},
     "output_type": "display_data"
    }
   ],
   "source": [
    "data = test_df['count_belonging']\n",
    "data.value_counts(sort=False).plot.bar()\n",
    "plt.xlabel('Token count range')\n",
    "plt.ylabel('Count')\n",
    "plt.savefig(os.path.join(figures_dir, f'{training_name}_counts_per_range.png'))\n",
    "plt.show()"
   ]
  },
  {
   "cell_type": "code",
   "execution_count": 32,
   "metadata": {
    "ExecuteTime": {
     "end_time": "2023-06-22T18:44:16.113130600Z",
     "start_time": "2023-06-22T18:44:16.067731Z"
    }
   },
   "outputs": [],
   "source": [
    "range_to_valid_predictions_count_dict = {'0-5': 0, '6-11': 0, '12-17': 0, '18-23': 0, '24-29': 0}\n",
    "range_to_element_count_dict = {'0-5': 0, '6-11': 0, '12-17': 0, '18-23': 0, '24-29': 0}\n",
    "range_to_pred_accuracy_dict = {'0-5': 0., '6-11': 0., '12-17': 0., '18-23': 0., '24-29': 0.}"
   ]
  },
  {
   "cell_type": "code",
   "execution_count": 33,
   "metadata": {
    "ExecuteTime": {
     "end_time": "2023-06-22T18:44:16.141369600Z",
     "start_time": "2023-06-22T18:44:16.085579700Z"
    }
   },
   "outputs": [
    {
     "name": "stdout",
     "output_type": "stream",
     "text": [
      "Correct predictions count:  {'0-5': 74, '6-11': 293, '12-17': 252, '18-23': 170, '24-29': 89}\n",
      "Element count:  {'0-5': 86, '6-11': 395, '12-17': 349, '18-23': 244, '24-29': 132}\n",
      "Accuracies:  {'0-5': 0.8604651162790697, '6-11': 0.7417721518987341, '12-17': 0.7220630372492837, '18-23': 0.6967213114754098, '24-29': 0.6742424242424242}\n"
     ]
    }
   ],
   "source": [
    "for _, row in test_df.iterrows():\n",
    "    count_belonging = row['count_belonging']\n",
    "\n",
    "    range_to_element_count_dict[count_belonging] = range_to_element_count_dict[count_belonging] + 1\n",
    "\n",
    "    if row['correctly_predicted']:\n",
    "        range_to_valid_predictions_count_dict[count_belonging] = range_to_valid_predictions_count_dict[count_belonging] + 1\n",
    "\n",
    "for key in range_to_pred_accuracy_dict.keys():\n",
    "    range_to_pred_accuracy_dict[key] = range_to_valid_predictions_count_dict[key] / range_to_element_count_dict[key]\n",
    "\n",
    "print(\"Correct predictions count: \", range_to_valid_predictions_count_dict)\n",
    "print(\"Element count: \", range_to_element_count_dict)\n",
    "print(\"Accuracies: \", range_to_pred_accuracy_dict)"
   ]
  },
  {
   "cell_type": "code",
   "execution_count": 34,
   "metadata": {
    "ExecuteTime": {
     "end_time": "2023-06-22T18:44:16.237319300Z",
     "start_time": "2023-06-22T18:44:16.129991100Z"
    }
   },
   "outputs": [
    {
     "data": {
      "image/png": "[encoded data removed]",
      "text/plain": [
       "<Figure size 640x480 with 1 Axes>"
      ]
     },
     "metadata": {},
     "output_type": "display_data"
    }
   ],
   "source": [
    "import matplotlib.ticker as mtick\n",
    "\n",
    "plt.bar(['0-5', '6-11', '12-17', '18-23', '24-29'], [val for val in range_to_pred_accuracy_dict.values()])\n",
    "plt.xlabel('Token count range')\n",
    "plt.ylabel('Accuracy')\n",
    "plt.gca().yaxis.set_major_formatter(mtick.PercentFormatter(xmax=1.0))\n",
    "plt.savefig(os.path.join(figures_dir, f'{training_name}_accuracies_per_range.png'))\n",
    "plt.show()"
   ]
  },
  {
   "cell_type": "code",
   "execution_count": 34,
   "metadata": {
    "ExecuteTime": {
     "end_time": "2023-06-22T18:44:16.283494300Z",
     "start_time": "2023-06-22T18:44:16.238824400Z"
    },
    "collapsed": false
   },
   "outputs": [],
   "source": []
  }
 ],
 "metadata": {
  "kernelspec": {
   "display_name": "nlp",
   "language": "python",
   "name": "python3"
  },
  "language_info": {
   "codemirror_mode": {
    "name": "ipython",
    "version": 3
   },
   "file_extension": ".py",
   "mimetype": "text/x-python",
   "name": "python",
   "nbconvert_exporter": "python",
   "pygments_lexer": "ipython3",
   "version": "3.10.11"
  },
  "orig_nbformat": 4
 },
 "nbformat": 4,
 "nbformat_minor": 2
}
