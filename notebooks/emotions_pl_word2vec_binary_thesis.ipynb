{
 "cells": [
  {
   "cell_type": "code",
   "execution_count": 2,
   "metadata": {},
   "outputs": [],
   "source": [
    "import numpy as np\n",
    "import tensorflow as tf\n",
    "import string\n",
    "import pandas as pd\n",
    "import gensim\n",
    "from datasets import Dataset\n",
    "import spacy\n",
    "import core.model_utils as model_utils\n",
    "import core.constants as constants\n",
    "import matplotlib.pyplot as plt\n",
    "import os"
   ]
  },
  {
   "cell_type": "code",
   "execution_count": 3,
   "metadata": {},
   "outputs": [],
   "source": [
    "spacy_model = spacy.load(\"pl_core_news_sm\")\n",
    "\n",
    "# Stop words\n",
    "stop_words = spacy_model.Defaults.stop_words.copy()\n",
    "stop_words.remove(\"nie\")\n",
    "\n",
    "# Punctuation\n",
    "punctuations = string.punctuation\n",
    "\n",
    "\n",
    "# Tokenizer\n",
    "def spacy_tokenizer(sentence):\n",
    "    doc = spacy_model(sentence)\n",
    "\n",
    "    # Lemmatizing each token and converting each token into lowercase\n",
    "    my_tokens = [ word.lemma_.lower().strip() for word in doc ]\n",
    "\n",
    "    # Removing stop words and punctuation\n",
    "    my_tokens = [ word for word in my_tokens if word not in stop_words and word not in punctuations ]\n",
    "    return my_tokens\n",
    "\n",
    "\n",
    "df = pd.read_json('./../data/polish_translated/emotions/assignments_dataset.json')"
   ]
  },
  {
   "cell_type": "code",
   "execution_count": 8,
   "metadata": {},
   "outputs": [],
   "source": [
    "ordered_class_labels = {\n",
    "    \"joy\": 0,\n",
    "    \"love\": 1,\n",
    "    \"surprise\": 2,\n",
    "    \"sadness\": 3,\n",
    "    \"anger\": 4,\n",
    "    \"fear\": 5,\n",
    "}\n",
    "\n",
    "df = df.replace({\"emotion\": ordered_class_labels})"
   ]
  },
  {
   "cell_type": "code",
   "execution_count": 9,
   "metadata": {},
   "outputs": [
    {
     "data": {
      "text/html": [
       "<div>\n",
       "<style scoped>\n",
       "    .dataframe tbody tr th:only-of-type {\n",
       "        vertical-align: middle;\n",
       "    }\n",
       "\n",
       "    .dataframe tbody tr th {\n",
       "        vertical-align: top;\n",
       "    }\n",
       "\n",
       "    .dataframe thead th {\n",
       "        text-align: right;\n",
       "    }\n",
       "</style>\n",
       "<table border=\"1\" class=\"dataframe\">\n",
       "  <thead>\n",
       "    <tr style=\"text-align: right;\">\n",
       "      <th></th>\n",
       "      <th>comment</th>\n",
       "      <th>emotion</th>\n",
       "    </tr>\n",
       "  </thead>\n",
       "  <tbody>\n",
       "    <tr>\n",
       "      <th>0</th>\n",
       "      <td>Jak palion zrobi piosenkę to wiadomo co będzie...</td>\n",
       "      <td>0</td>\n",
       "    </tr>\n",
       "    <tr>\n",
       "      <th>1</th>\n",
       "      <td>Wiem, że palion może tego nigdy nie zobaczyć, ...</td>\n",
       "      <td>0</td>\n",
       "    </tr>\n",
       "    <tr>\n",
       "      <th>2</th>\n",
       "      <td>Był kiedyś taki serial : Kasia i Tomek i wedłu...</td>\n",
       "      <td>0</td>\n",
       "    </tr>\n",
       "    <tr>\n",
       "      <th>3</th>\n",
       "      <td>Mamy właśnie przykład jak powinna wyglądać pra...</td>\n",
       "      <td>0</td>\n",
       "    </tr>\n",
       "    <tr>\n",
       "      <th>4</th>\n",
       "      <td>Siemka WK teraz moja kolej na nagrodę 😁 pozdra...</td>\n",
       "      <td>0</td>\n",
       "    </tr>\n",
       "    <tr>\n",
       "      <th>...</th>\n",
       "      <td>...</td>\n",
       "      <td>...</td>\n",
       "    </tr>\n",
       "    <tr>\n",
       "      <th>1327</th>\n",
       "      <td>Uwielbiam twoje firmy zabieram się za oglądani...</td>\n",
       "      <td>0</td>\n",
       "    </tr>\n",
       "    <tr>\n",
       "      <th>1328</th>\n",
       "      <td>Dla mnie \"Film o pszczołach\" był genialny. Zar...</td>\n",
       "      <td>3</td>\n",
       "    </tr>\n",
       "    <tr>\n",
       "      <th>1329</th>\n",
       "      <td>Zawsze o 14.00 odrazu każda sobota jest lepsza...</td>\n",
       "      <td>0</td>\n",
       "    </tr>\n",
       "    <tr>\n",
       "      <th>1330</th>\n",
       "      <td>Zawsze oglądane do końca! La Budda &lt;3</td>\n",
       "      <td>1</td>\n",
       "    </tr>\n",
       "    <tr>\n",
       "      <th>1331</th>\n",
       "      <td>Bardzo podoba mi się moment w którym Trener pr...</td>\n",
       "      <td>1</td>\n",
       "    </tr>\n",
       "  </tbody>\n",
       "</table>\n",
       "<p>1332 rows × 2 columns</p>\n",
       "</div>"
      ],
      "text/plain": [
       "                                                comment  emotion\n",
       "0     Jak palion zrobi piosenkę to wiadomo co będzie...        0\n",
       "1     Wiem, że palion może tego nigdy nie zobaczyć, ...        0\n",
       "2     Był kiedyś taki serial : Kasia i Tomek i wedłu...        0\n",
       "3     Mamy właśnie przykład jak powinna wyglądać pra...        0\n",
       "4     Siemka WK teraz moja kolej na nagrodę 😁 pozdra...        0\n",
       "...                                                 ...      ...\n",
       "1327  Uwielbiam twoje firmy zabieram się za oglądani...        0\n",
       "1328  Dla mnie \"Film o pszczołach\" był genialny. Zar...        3\n",
       "1329  Zawsze o 14.00 odrazu każda sobota jest lepsza...        0\n",
       "1330              Zawsze oglądane do końca! La Budda <3        1\n",
       "1331  Bardzo podoba mi się moment w którym Trener pr...        1\n",
       "\n",
       "[1332 rows x 2 columns]"
      ]
     },
     "execution_count": 9,
     "metadata": {},
     "output_type": "execute_result"
    }
   ],
   "source": [
    "df"
   ]
  },
  {
   "cell_type": "code",
   "execution_count": 10,
   "metadata": {},
   "outputs": [
    {
     "data": {
      "image/png": "[encoded data removed]",
      "text/plain": [
       "<Figure size 640x480 with 1 Axes>"
      ]
     },
     "metadata": {},
     "output_type": "display_data"
    }
   ],
   "source": [
    "data = df[\"emotion\"]\n",
    "data.value_counts().plot.bar()\n",
    "plt.show()"
   ]
  },
  {
   "cell_type": "code",
   "execution_count": 14,
   "metadata": {},
   "outputs": [
    {
     "data": {
      "text/html": [
       "<div>\n",
       "<style scoped>\n",
       "    .dataframe tbody tr th:only-of-type {\n",
       "        vertical-align: middle;\n",
       "    }\n",
       "\n",
       "    .dataframe tbody tr th {\n",
       "        vertical-align: top;\n",
       "    }\n",
       "\n",
       "    .dataframe thead th {\n",
       "        text-align: right;\n",
       "    }\n",
       "</style>\n",
       "<table border=\"1\" class=\"dataframe\">\n",
       "  <thead>\n",
       "    <tr style=\"text-align: right;\">\n",
       "      <th></th>\n",
       "      <th>comment</th>\n",
       "      <th>emotion</th>\n",
       "    </tr>\n",
       "  </thead>\n",
       "  <tbody>\n",
       "    <tr>\n",
       "      <th>0</th>\n",
       "      <td>Jak palion zrobi piosenkę to wiadomo co będzie...</td>\n",
       "      <td>0</td>\n",
       "    </tr>\n",
       "    <tr>\n",
       "      <th>1</th>\n",
       "      <td>Wiem, że palion może tego nigdy nie zobaczyć, ...</td>\n",
       "      <td>0</td>\n",
       "    </tr>\n",
       "    <tr>\n",
       "      <th>2</th>\n",
       "      <td>Był kiedyś taki serial : Kasia i Tomek i wedłu...</td>\n",
       "      <td>0</td>\n",
       "    </tr>\n",
       "    <tr>\n",
       "      <th>3</th>\n",
       "      <td>Mamy właśnie przykład jak powinna wyglądać pra...</td>\n",
       "      <td>0</td>\n",
       "    </tr>\n",
       "    <tr>\n",
       "      <th>4</th>\n",
       "      <td>Siemka WK teraz moja kolej na nagrodę 😁 pozdra...</td>\n",
       "      <td>0</td>\n",
       "    </tr>\n",
       "    <tr>\n",
       "      <th>...</th>\n",
       "      <td>...</td>\n",
       "      <td>...</td>\n",
       "    </tr>\n",
       "    <tr>\n",
       "      <th>1325</th>\n",
       "      <td>Cały występ klasa, dawno się tak nie uśmiałem,...</td>\n",
       "      <td>0</td>\n",
       "    </tr>\n",
       "    <tr>\n",
       "      <th>1327</th>\n",
       "      <td>Uwielbiam twoje firmy zabieram się za oglądani...</td>\n",
       "      <td>0</td>\n",
       "    </tr>\n",
       "    <tr>\n",
       "      <th>1329</th>\n",
       "      <td>Zawsze o 14.00 odrazu każda sobota jest lepsza...</td>\n",
       "      <td>0</td>\n",
       "    </tr>\n",
       "    <tr>\n",
       "      <th>1330</th>\n",
       "      <td>Zawsze oglądane do końca! La Budda &lt;3</td>\n",
       "      <td>1</td>\n",
       "    </tr>\n",
       "    <tr>\n",
       "      <th>1331</th>\n",
       "      <td>Bardzo podoba mi się moment w którym Trener pr...</td>\n",
       "      <td>1</td>\n",
       "    </tr>\n",
       "  </tbody>\n",
       "</table>\n",
       "<p>1009 rows × 2 columns</p>\n",
       "</div>"
      ],
      "text/plain": [
       "                                                comment  emotion\n",
       "0     Jak palion zrobi piosenkę to wiadomo co będzie...        0\n",
       "1     Wiem, że palion może tego nigdy nie zobaczyć, ...        0\n",
       "2     Był kiedyś taki serial : Kasia i Tomek i wedłu...        0\n",
       "3     Mamy właśnie przykład jak powinna wyglądać pra...        0\n",
       "4     Siemka WK teraz moja kolej na nagrodę 😁 pozdra...        0\n",
       "...                                                 ...      ...\n",
       "1325  Cały występ klasa, dawno się tak nie uśmiałem,...        0\n",
       "1327  Uwielbiam twoje firmy zabieram się za oglądani...        0\n",
       "1329  Zawsze o 14.00 odrazu każda sobota jest lepsza...        0\n",
       "1330              Zawsze oglądane do końca! La Budda <3        1\n",
       "1331  Bardzo podoba mi się moment w którym Trener pr...        1\n",
       "\n",
       "[1009 rows x 2 columns]"
      ]
     },
     "execution_count": 14,
     "metadata": {},
     "output_type": "execute_result"
    }
   ],
   "source": [
    "emotions = [0, 1]\n",
    "rslt_df = df[df['emotion'].isin(emotions)]\n",
    "rslt_df"
   ]
  },
  {
   "cell_type": "code",
   "execution_count": 16,
   "metadata": {},
   "outputs": [
    {
     "data": {
      "image/png": "[encoded data removed]",
      "text/plain": [
       "<Figure size 640x480 with 1 Axes>"
      ]
     },
     "metadata": {},
     "output_type": "display_data"
    }
   ],
   "source": [
    "data = rslt_df[\"emotion\"]\n",
    "data.value_counts().plot.bar()\n",
    "plt.show()"
   ]
  },
  {
   "cell_type": "code",
   "execution_count": 17,
   "metadata": {},
   "outputs": [
    {
     "name": "stderr",
     "output_type": "stream",
     "text": [
      "C:\\Users\\Artur\\AppData\\Local\\Temp\\ipykernel_11180\\3783827038.py:1: SettingWithCopyWarning: \n",
      "A value is trying to be set on a copy of a slice from a DataFrame.\n",
      "Try using .loc[row_indexer,col_indexer] = value instead\n",
      "\n",
      "See the caveats in the documentation: https://pandas.pydata.org/pandas-docs/stable/user_guide/indexing.html#returning-a-view-versus-a-copy\n",
      "  rslt_df['tokens'] = rslt_df['comment'].apply(spacy_tokenizer)\n",
      "C:\\Users\\Artur\\AppData\\Local\\Temp\\ipykernel_11180\\3783827038.py:2: SettingWithCopyWarning: \n",
      "A value is trying to be set on a copy of a slice from a DataFrame.\n",
      "Try using .loc[row_indexer,col_indexer] = value instead\n",
      "\n",
      "See the caveats in the documentation: https://pandas.pydata.org/pandas-docs/stable/user_guide/indexing.html#returning-a-view-versus-a-copy\n",
      "  rslt_df['joined_tokens'] = rslt_df['comment'].apply(lambda tokens: ' '.join(tokens))\n"
     ]
    }
   ],
   "source": [
    "rslt_df['tokens'] = rslt_df['comment'].apply(spacy_tokenizer)\n",
    "rslt_df['joined_tokens'] = rslt_df['comment'].apply(lambda tokens: ' '.join(tokens))\n",
    "rslt_df.to_json('./../data/polish_translated/emotions/assignments_dataset_pl_with_tokens_0_1.json')"
   ]
  },
  {
   "cell_type": "code",
   "execution_count": 18,
   "metadata": {},
   "outputs": [
    {
     "data": {
      "text/html": [
       "<div>\n",
       "<style scoped>\n",
       "    .dataframe tbody tr th:only-of-type {\n",
       "        vertical-align: middle;\n",
       "    }\n",
       "\n",
       "    .dataframe tbody tr th {\n",
       "        vertical-align: top;\n",
       "    }\n",
       "\n",
       "    .dataframe thead th {\n",
       "        text-align: right;\n",
       "    }\n",
       "</style>\n",
       "<table border=\"1\" class=\"dataframe\">\n",
       "  <thead>\n",
       "    <tr style=\"text-align: right;\">\n",
       "      <th></th>\n",
       "      <th>comment</th>\n",
       "      <th>emotion</th>\n",
       "      <th>tokens</th>\n",
       "      <th>joined_tokens</th>\n",
       "    </tr>\n",
       "  </thead>\n",
       "  <tbody>\n",
       "    <tr>\n",
       "      <th>0</th>\n",
       "      <td>Jak palion zrobi piosenkę to wiadomo co będzie...</td>\n",
       "      <td>0</td>\n",
       "      <td>[palion, zrobić, piosenka, wiadomo, kanał, poz...</td>\n",
       "      <td>J a k   p a l i o n   z r o b i   p i o s e n ...</td>\n",
       "    </tr>\n",
       "    <tr>\n",
       "      <th>1</th>\n",
       "      <td>Wiem, że palion może tego nigdy nie zobaczyć, ...</td>\n",
       "      <td>0</td>\n",
       "      <td>[wiedzieć, palion, móc, nie, zobaczyć, zrobić,...</td>\n",
       "      <td>W i e m ,   ż e   p a l i o n   m o ż e   t e ...</td>\n",
       "    </tr>\n",
       "    <tr>\n",
       "      <th>2</th>\n",
       "      <td>Był kiedyś taki serial : Kasia i Tomek i wedłu...</td>\n",
       "      <td>0</td>\n",
       "      <td>[kiedyś, serial, kasia, tomek, jesteście, nowo...</td>\n",
       "      <td>B y ł   k i e d y ś   t a k i   s e r i a l   ...</td>\n",
       "    </tr>\n",
       "    <tr>\n",
       "      <th>3</th>\n",
       "      <td>Mamy właśnie przykład jak powinna wyglądać pra...</td>\n",
       "      <td>0</td>\n",
       "      <td>[mieć, przykład, wyglądać, prawdziwy, konferen...</td>\n",
       "      <td>M a m y   w ł a ś n i e   p r z y k ł a d   j ...</td>\n",
       "    </tr>\n",
       "    <tr>\n",
       "      <th>4</th>\n",
       "      <td>Siemka WK teraz moja kolej na nagrodę 😁 pozdra...</td>\n",
       "      <td>0</td>\n",
       "      <td>[siemka, wk, kolej, nagroda, 😁a, pozdrawiać, 💪]</td>\n",
       "      <td>S i e m k a   W K   t e r a z   m o j a   k o ...</td>\n",
       "    </tr>\n",
       "    <tr>\n",
       "      <th>...</th>\n",
       "      <td>...</td>\n",
       "      <td>...</td>\n",
       "      <td>...</td>\n",
       "      <td>...</td>\n",
       "    </tr>\n",
       "    <tr>\n",
       "      <th>1325</th>\n",
       "      <td>Cały występ klasa, dawno się tak nie uśmiałem,...</td>\n",
       "      <td>0</td>\n",
       "      <td>[występ, klasa, dawno, nie, uśmieć być, zjadć ...</td>\n",
       "      <td>C a ł y   w y s t ę p   k l a s a ,   d a w n ...</td>\n",
       "    </tr>\n",
       "    <tr>\n",
       "      <th>1327</th>\n",
       "      <td>Uwielbiam twoje firmy zabieram się za oglądani...</td>\n",
       "      <td>0</td>\n",
       "      <td>[uwielbiam, firma, zabierać, oglądać, pozdrawi...</td>\n",
       "      <td>U w i e l b i a m   t w o j e   f i r m y   z ...</td>\n",
       "    </tr>\n",
       "    <tr>\n",
       "      <th>1329</th>\n",
       "      <td>Zawsze o 14.00 odrazu każda sobota jest lepsza...</td>\n",
       "      <td>0</td>\n",
       "      <td>[14, 00, odraz, sobota, dobry, dzięki, kamil, ...</td>\n",
       "      <td>Z a w s z e   o   1 4 . 0 0   o d r a z u   k ...</td>\n",
       "    </tr>\n",
       "    <tr>\n",
       "      <th>1330</th>\n",
       "      <td>Zawsze oglądane do końca! La Budda &lt;3</td>\n",
       "      <td>1</td>\n",
       "      <td>[oglądać, koniec, la, budda, &lt;3]</td>\n",
       "      <td>Z a w s z e   o g l ą d a n e   d o   k o ń c ...</td>\n",
       "    </tr>\n",
       "    <tr>\n",
       "      <th>1331</th>\n",
       "      <td>Bardzo podoba mi się moment w którym Trener pr...</td>\n",
       "      <td>1</td>\n",
       "      <td>[podobać, moment, trener, próbować, uświadomić...</td>\n",
       "      <td>B a r d z o   p o d o b a   m i   s i ę   m o ...</td>\n",
       "    </tr>\n",
       "  </tbody>\n",
       "</table>\n",
       "<p>1009 rows × 4 columns</p>\n",
       "</div>"
      ],
      "text/plain": [
       "                                                comment  emotion  \\\n",
       "0     Jak palion zrobi piosenkę to wiadomo co będzie...        0   \n",
       "1     Wiem, że palion może tego nigdy nie zobaczyć, ...        0   \n",
       "2     Był kiedyś taki serial : Kasia i Tomek i wedłu...        0   \n",
       "3     Mamy właśnie przykład jak powinna wyglądać pra...        0   \n",
       "4     Siemka WK teraz moja kolej na nagrodę 😁 pozdra...        0   \n",
       "...                                                 ...      ...   \n",
       "1325  Cały występ klasa, dawno się tak nie uśmiałem,...        0   \n",
       "1327  Uwielbiam twoje firmy zabieram się za oglądani...        0   \n",
       "1329  Zawsze o 14.00 odrazu każda sobota jest lepsza...        0   \n",
       "1330              Zawsze oglądane do końca! La Budda <3        1   \n",
       "1331  Bardzo podoba mi się moment w którym Trener pr...        1   \n",
       "\n",
       "                                                 tokens  \\\n",
       "0     [palion, zrobić, piosenka, wiadomo, kanał, poz...   \n",
       "1     [wiedzieć, palion, móc, nie, zobaczyć, zrobić,...   \n",
       "2     [kiedyś, serial, kasia, tomek, jesteście, nowo...   \n",
       "3     [mieć, przykład, wyglądać, prawdziwy, konferen...   \n",
       "4       [siemka, wk, kolej, nagroda, 😁a, pozdrawiać, 💪]   \n",
       "...                                                 ...   \n",
       "1325  [występ, klasa, dawno, nie, uśmieć być, zjadć ...   \n",
       "1327  [uwielbiam, firma, zabierać, oglądać, pozdrawi...   \n",
       "1329  [14, 00, odraz, sobota, dobry, dzięki, kamil, ...   \n",
       "1330                   [oglądać, koniec, la, budda, <3]   \n",
       "1331  [podobać, moment, trener, próbować, uświadomić...   \n",
       "\n",
       "                                          joined_tokens  \n",
       "0     J a k   p a l i o n   z r o b i   p i o s e n ...  \n",
       "1     W i e m ,   ż e   p a l i o n   m o ż e   t e ...  \n",
       "2     B y ł   k i e d y ś   t a k i   s e r i a l   ...  \n",
       "3     M a m y   w ł a ś n i e   p r z y k ł a d   j ...  \n",
       "4     S i e m k a   W K   t e r a z   m o j a   k o ...  \n",
       "...                                                 ...  \n",
       "1325  C a ł y   w y s t ę p   k l a s a ,   d a w n ...  \n",
       "1327  U w i e l b i a m   t w o j e   f i r m y   z ...  \n",
       "1329  Z a w s z e   o   1 4 . 0 0   o d r a z u   k ...  \n",
       "1330  Z a w s z e   o g l ą d a n e   d o   k o ń c ...  \n",
       "1331  B a r d z o   p o d o b a   m i   s i ę   m o ...  \n",
       "\n",
       "[1009 rows x 4 columns]"
      ]
     },
     "execution_count": 18,
     "metadata": {},
     "output_type": "execute_result"
    }
   ],
   "source": [
    "tokenized_sentences_df = pd.read_json(\n",
    "    './../data/polish_translated/emotions/assignments_dataset_pl_with_tokens_0_1.json')\n",
    "tokenized_sentences_df"
   ]
  },
  {
   "cell_type": "code",
   "execution_count": 19,
   "metadata": {},
   "outputs": [
    {
     "data": {
      "text/plain": [
       "Dataset({\n",
       "    features: ['comment', 'emotion', 'tokens', 'joined_tokens'],\n",
       "    num_rows: 1009\n",
       "})"
      ]
     },
     "execution_count": 19,
     "metadata": {},
     "output_type": "execute_result"
    }
   ],
   "source": [
    "full_dataset = Dataset.from_pandas(tokenized_sentences_df).remove_columns(\"__index_level_0__\")\n",
    "full_dataset"
   ]
  },
  {
   "cell_type": "code",
   "execution_count": 20,
   "metadata": {},
   "outputs": [],
   "source": [
    "# Train set: 80%, Validation set: 10%, Test set: 10%\n",
    "train_dataset, val_dataset, test_dataset = model_utils.split_train_val_test(\n",
    "    full_dataset,\n",
    "    train_size=0.8,\n",
    "    test_size_of_val_test_batch=0.5,\n",
    "    shuffle=True,\n",
    "    seed=42)"
   ]
  },
  {
   "cell_type": "code",
   "execution_count": 21,
   "metadata": {},
   "outputs": [
    {
     "data": {
      "text/plain": [
       "(83812, 91910)"
      ]
     },
     "execution_count": 21,
     "metadata": {},
     "output_type": "execute_result"
    }
   ],
   "source": [
    "# Word2Vec\n",
    "tokenized_sentences = train_dataset['tokens']\n",
    "w2v_model = gensim.models.Word2Vec(sentences=tokenized_sentences, vector_size=100, window=6, min_count=1)\n",
    "w2v_model.train(tokenized_sentences, epochs=10, total_examples=len(tokenized_sentences))"
   ]
  },
  {
   "cell_type": "code",
   "execution_count": 22,
   "metadata": {},
   "outputs": [],
   "source": [
    "def tokens_to_vector(tokens, max_tokens=50):\n",
    "    vector_size = w2v_model.vector_size\n",
    "    wv_res = np.zeros((vector_size, max_tokens))\n",
    "    for index, word in enumerate(tokens):\n",
    "        if word in w2v_model.wv and index < max_tokens:\n",
    "            wv_res.T[index] = w2v_model.wv[word]\n",
    "    return wv_res.T"
   ]
  },
  {
   "cell_type": "code",
   "execution_count": 23,
   "metadata": {},
   "outputs": [
    {
     "data": {
      "application/vnd.jupyter.widget-view+json": {
       "model_id": "35ac4a160bb343debd7715278eeeeb14",
       "version_major": 2,
       "version_minor": 0
      },
      "text/plain": [
       "Map:   0%|          | 0/807 [00:00<?, ? examples/s]"
      ]
     },
     "metadata": {},
     "output_type": "display_data"
    },
    {
     "data": {
      "application/vnd.jupyter.widget-view+json": {
       "model_id": "b24bef315e7d43e685beb4d1bbde4e80",
       "version_major": 2,
       "version_minor": 0
      },
      "text/plain": [
       "Map:   0%|          | 0/101 [00:00<?, ? examples/s]"
      ]
     },
     "metadata": {},
     "output_type": "display_data"
    },
    {
     "data": {
      "application/vnd.jupyter.widget-view+json": {
       "model_id": "39629687a1c1444499468a4fac98fe1e",
       "version_major": 2,
       "version_minor": 0
      },
      "text/plain": [
       "Map:   0%|          | 0/101 [00:00<?, ? examples/s]"
      ]
     },
     "metadata": {},
     "output_type": "display_data"
    }
   ],
   "source": [
    "def tokenize_for_word2vec(sample):\n",
    "    sample['embeddings'] = [tokens_to_vector(tokens) for tokens in sample['tokens']]\n",
    "    return sample\n",
    "\n",
    "\n",
    "train_dataset = train_dataset.map(tokenize_for_word2vec, batched=True)\n",
    "val_dataset = val_dataset.map(tokenize_for_word2vec, batched=True)\n",
    "test_dataset = test_dataset.map(tokenize_for_word2vec, batched=True)"
   ]
  },
  {
   "cell_type": "code",
   "execution_count": 25,
   "metadata": {},
   "outputs": [],
   "source": [
    "columns = [\"embeddings\"]\n",
    "label_cols = [\"emotion\"]\n",
    "batch_size = 16\n",
    "\n",
    "tf_train_dataset = model_utils.convert_to_tf_dataset(train_dataset, columns, label_cols, None, batch_size)\n",
    "tf_val_dataset = model_utils.convert_to_tf_dataset(val_dataset, columns, label_cols, None, batch_size)\n",
    "tf_test_dataset = model_utils.convert_to_tf_dataset(test_dataset, columns, label_cols, None, batch_size)"
   ]
  },
  {
   "cell_type": "code",
   "execution_count": 31,
   "metadata": {},
   "outputs": [],
   "source": [
    "model = tf.keras.models.Sequential()\n",
    "model.add(tf.keras.layers.Flatten())\n",
    "model.add(tf.keras.layers.Dense(128, activation='relu'))\n",
    "model.add(tf.keras.layers.Dense(64, activation='relu'))\n",
    "model.add(tf.keras.layers.Dense(16, activation='relu'))\n",
    "model.add(tf.keras.layers.Dense(6, activation='sigmoid'))"
   ]
  },
  {
   "cell_type": "code",
   "execution_count": 32,
   "metadata": {},
   "outputs": [],
   "source": [
    "model.compile(optimizer=\"adam\", loss=tf.keras.losses.SparseCategoricalCrossentropy(), metrics=[\"accuracy\"])"
   ]
  },
  {
   "cell_type": "code",
   "execution_count": 33,
   "metadata": {},
   "outputs": [],
   "source": [
    "# Model parameters\n",
    "training_number = 1\n",
    "model_name = 'emotions_pl_word2vec_binary_thesis'\n",
    "training_name = f\"training_{training_number}\"\n",
    "figures_dir = f\"./../documentation/models/{model_name}/figures\"\n",
    "checkpoint_filename_template = \"cp-{epoch:04d}.ckpt\"\n",
    "checkpoints_dir = os.path.join(constants.TRAINING_CHECKPOINTS_PATH, model_name, training_name)\n",
    "checkpoint_path = os.path.join(checkpoints_dir, checkpoint_filename_template)"
   ]
  },
  {
   "cell_type": "code",
   "execution_count": 34,
   "metadata": {},
   "outputs": [],
   "source": [
    "# Callbacks\n",
    "checkpoint_cb = tf.keras.callbacks.ModelCheckpoint(checkpoint_path, verbose=1, save_weights_only=True)\n",
    "early_stop_cb = tf.keras.callbacks.EarlyStopping(patience=3)\n",
    "callbacks = [checkpoint_cb, early_stop_cb]"
   ]
  },
  {
   "cell_type": "code",
   "execution_count": 35,
   "metadata": {},
   "outputs": [
    {
     "name": "stdout",
     "output_type": "stream",
     "text": [
      "Epoch 1/20\n",
      "49/51 [===========================>..] - ETA: 0s - loss: 1.0173 - accuracy: 0.5089\n",
      "Epoch 1: saving model to ./../training_checkpoints\\emotions_pl_word2vec_binary_thesis\\training_1\\cp-0001.ckpt\n",
      "51/51 [==============================] - 2s 27ms/step - loss: 1.0090 - accuracy: 0.5081 - val_loss: 0.7477 - val_accuracy: 0.4950\n",
      "Epoch 2/20\n",
      "49/51 [===========================>..] - ETA: 0s - loss: 0.7344 - accuracy: 0.5395\n",
      "Epoch 2: saving model to ./../training_checkpoints\\emotions_pl_word2vec_binary_thesis\\training_1\\cp-0002.ckpt\n",
      "51/51 [==============================] - 1s 20ms/step - loss: 0.7332 - accuracy: 0.5390 - val_loss: 0.7244 - val_accuracy: 0.5248\n",
      "Epoch 3/20\n",
      "47/51 [==========================>...] - ETA: 0s - loss: 0.7080 - accuracy: 0.5585\n",
      "Epoch 3: saving model to ./../training_checkpoints\\emotions_pl_word2vec_binary_thesis\\training_1\\cp-0003.ckpt\n",
      "51/51 [==============================] - 1s 22ms/step - loss: 0.7081 - accuracy: 0.5564 - val_loss: 0.7083 - val_accuracy: 0.5347\n",
      "Epoch 4/20\n",
      "49/51 [===========================>..] - ETA: 0s - loss: 0.6956 - accuracy: 0.5523\n",
      "Epoch 4: saving model to ./../training_checkpoints\\emotions_pl_word2vec_binary_thesis\\training_1\\cp-0004.ckpt\n",
      "51/51 [==============================] - 1s 22ms/step - loss: 0.6943 - accuracy: 0.5514 - val_loss: 0.7160 - val_accuracy: 0.5050\n",
      "Epoch 5/20\n",
      "43/51 [========================>.....] - ETA: 0s - loss: 0.6847 - accuracy: 0.5683\n",
      "Epoch 5: saving model to ./../training_checkpoints\\emotions_pl_word2vec_binary_thesis\\training_1\\cp-0005.ckpt\n",
      "51/51 [==============================] - 1s 21ms/step - loss: 0.6846 - accuracy: 0.5675 - val_loss: 0.7096 - val_accuracy: 0.5248\n",
      "Epoch 6/20\n",
      "47/51 [==========================>...] - ETA: 0s - loss: 0.6683 - accuracy: 0.6051\n",
      "Epoch 6: saving model to ./../training_checkpoints\\emotions_pl_word2vec_binary_thesis\\training_1\\cp-0006.ckpt\n",
      "51/51 [==============================] - 1s 21ms/step - loss: 0.6678 - accuracy: 0.6072 - val_loss: 0.7150 - val_accuracy: 0.4851\n"
     ]
    }
   ],
   "source": [
    "history = model.fit(tf_train_dataset, validation_data=tf_val_dataset, epochs=20,\n",
    "                    callbacks=[checkpoint_cb, early_stop_cb])"
   ]
  },
  {
   "cell_type": "code",
   "execution_count": 36,
   "metadata": {},
   "outputs": [
    {
     "data": {
      "image/png": "[encoded data removed]",
      "text/plain": [
       "<Figure size 640x480 with 1 Axes>"
      ]
     },
     "metadata": {},
     "output_type": "display_data"
    },
    {
     "data": {
      "image/png": "[encoded data removed]",
      "text/plain": [
       "<Figure size 640x480 with 1 Axes>"
      ]
     },
     "metadata": {},
     "output_type": "display_data"
    }
   ],
   "source": [
    "model_utils.plot_and_save_fig_from_history(history,\n",
    "                                           attributes=['accuracy', 'val_accuracy'],\n",
    "                                           title='Model accuracy',\n",
    "                                           y_label='Accuracy',\n",
    "                                           x_label='Epoch',\n",
    "                                           legend_descriptors=['Train', 'Val'],\n",
    "                                           figure_dir_path=figures_dir,\n",
    "                                           figure_filename=f\"{training_name}_accuracy.png\")\n",
    "\n",
    "model_utils.plot_and_save_fig_from_history(history,\n",
    "                                           attributes=['loss', 'val_loss'],\n",
    "                                           title='Model loss',\n",
    "                                           y_label='Loss',\n",
    "                                           x_label='Epoch',\n",
    "                                           legend_descriptors=['Train', 'Val'],\n",
    "                                           figure_dir_path=figures_dir,\n",
    "                                           figure_filename=f\"{training_name}_loss.png\")"
   ]
  },
  {
   "cell_type": "code",
   "execution_count": 37,
   "metadata": {},
   "outputs": [],
   "source": [
    "best_model = model_utils.get_best_model_from_checkpoints(model, history,\n",
    "                                                         checkpoints_dir=checkpoints_dir,\n",
    "                                                         checkpoint_filename_template=checkpoint_filename_template)"
   ]
  },
  {
   "cell_type": "code",
   "execution_count": 38,
   "metadata": {},
   "outputs": [
    {
     "name": "stdout",
     "output_type": "stream",
     "text": [
      "INFO:tensorflow:Assets written to: ./../trained_models\\emotions_pl_word2vec_binary_thesis_1\\1\\assets\n"
     ]
    }
   ],
   "source": [
    "model_utils.save_model(best_model, model_name=model_name, training_number=training_number, saved_models_dir=constants.SAVED_MODEL_LOCATION, default_model_version=constants.DEFAULT_MODEL_VERSION)"
   ]
  },
  {
   "cell_type": "code",
   "execution_count": 39,
   "metadata": {},
   "outputs": [],
   "source": [
    "w2v_model.save(f\"./word2vec/{model_name}_{training_number}.model\")"
   ]
  },
  {
   "cell_type": "code",
   "execution_count": 40,
   "metadata": {},
   "outputs": [
    {
     "name": "stdout",
     "output_type": "stream",
     "text": [
      "7/7 [==============================] - 0s 13ms/step - loss: 0.7261 - accuracy: 0.4455\n"
     ]
    },
    {
     "data": {
      "text/plain": [
       "[0.7261130213737488, 0.4455445408821106]"
      ]
     },
     "execution_count": 40,
     "metadata": {},
     "output_type": "execute_result"
    }
   ],
   "source": [
    "# Evaluation\n",
    "best_model.evaluate(tf_test_dataset, batch_size=batch_size)"
   ]
  },
  {
   "cell_type": "code",
   "execution_count": 41,
   "metadata": {},
   "outputs": [
    {
     "name": "stdout",
     "output_type": "stream",
     "text": [
      "7/7 [==============================] - 0s 13ms/step\n"
     ]
    }
   ],
   "source": [
    "class_preds = model_utils.get_class_preds(best_model, tf_test_dataset, model_returns_logits=False)"
   ]
  },
  {
   "cell_type": "code",
   "execution_count": 43,
   "metadata": {},
   "outputs": [
    {
     "name": "stdout",
     "output_type": "stream",
     "text": [
      "Precision score:  0.44554455445544555\n",
      "Recall score:  0.44554455445544555\n",
      "F1 score:  0.44554455445544555\n"
     ]
    }
   ],
   "source": [
    "precision, recall, f1 = model_utils.get_classification_evaluation_metrics(\n",
    "    class_actual=test_dataset['emotion'],\n",
    "    class_preds=class_preds,\n",
    "    average='micro'\n",
    ")\n",
    "\n",
    "print(f\"Precision score: \", precision)\n",
    "print(f\"Recall score: \", recall)\n",
    "print(f\"F1 score: \", f1)"
   ]
  },
  {
   "cell_type": "code",
   "execution_count": 45,
   "metadata": {},
   "outputs": [
    {
     "data": {
      "image/png": "[encoded data removed]",
      "text/plain": [
       "<Figure size 640x480 with 2 Axes>"
      ]
     },
     "metadata": {},
     "output_type": "display_data"
    }
   ],
   "source": [
    "model_utils.plot_and_save_conf_matrix(class_actual=test_dataset['emotion'],\n",
    "                                      class_preds=class_preds,\n",
    "                                      figure_dir_path=figures_dir,\n",
    "                                      figure_filename=f\"{training_name}_confmatrix.png\")"
   ]
  },
  {
   "cell_type": "code",
   "execution_count": 47,
   "metadata": {},
   "outputs": [
    {
     "name": "stdout",
     "output_type": "stream",
     "text": [
      "\n",
      "            BAD PREDICTION:\n",
      "            - INDEX: 1\n",
      "            - TEXT: Dojebane jak każdy Wasz kawałek ! Panowie czekam na koncert w Białymstoku, pozdro ✌🏻\n",
      "            - PREDICTED VALUE: 0\n",
      "            - CORRECT VALUE: 1\n",
      "            \n",
      "\n",
      "            BAD PREDICTION:\n",
      "            - INDEX: 2\n",
      "            - TEXT: Na uwagę zasługuje fakt ze Sanah jako jedna z najpopularniejszych artystów w Polsce pięknie promuje grę wśród publiczności która być może nie miała okazji mieć styczności z tym arcydziełem - mowa o Wiedzminie rzecz jasna. Moi drodzy każdy kto docenia twórczość Sanah doceni również to jak CDPR opowiedział historie Geralta. Jest w niej wszystko to za co kochamy ta artystkę, wrażliwość, pięknie opowiedziana historia, momenty wzruszenia i śmiechu do łez.\n",
      "            - PREDICTED VALUE: 1\n",
      "            - CORRECT VALUE: 0\n",
      "            \n",
      "\n",
      "            BAD PREDICTION:\n",
      "            - INDEX: 3\n",
      "            - TEXT: Mistrz! Idealne przed snem po calym dniu 👌\n",
      "            - PREDICTED VALUE: 0\n",
      "            - CORRECT VALUE: 1\n",
      "            \n",
      "\n",
      "            BAD PREDICTION:\n",
      "            - INDEX: 4\n",
      "            - TEXT: Miszczostwo świata, pełen szacunek za tekst 😉\n",
      "            - PREDICTED VALUE: 0\n",
      "            - CORRECT VALUE: 1\n",
      "            \n",
      "\n",
      "            BAD PREDICTION:\n",
      "            - INDEX: 6\n",
      "            - TEXT: Rozjebane teraz czekamy na wspólną płytkę 🕷❤️\n",
      "            - PREDICTED VALUE: 0\n",
      "            - CORRECT VALUE: 1\n",
      "            \n",
      "\n",
      "            BAD PREDICTION:\n",
      "            - INDEX: 7\n",
      "            - TEXT: Tą reklamę powinni puścić w telewizji 🐸🐸\n",
      "            - PREDICTED VALUE: 0\n",
      "            - CORRECT VALUE: 1\n",
      "            \n",
      "\n",
      "            BAD PREDICTION:\n",
      "            - INDEX: 13\n",
      "            - TEXT: Idę do pracy, jest zimno i źle, ale Naruciak wrzucił film. O idealnej porze, idealnej godzinie – cudo!\n",
      "            - PREDICTED VALUE: 0\n",
      "            - CORRECT VALUE: 1\n",
      "            \n",
      "\n",
      "            BAD PREDICTION:\n",
      "            - INDEX: 15\n",
      "            - TEXT: Aga zapomniałaś jeszcze o lipstikach . Razem z konturówką do ust wygląda lepiej. Super film ! Byle było ich więcej .❤️🔥💪🏽\n",
      "            - PREDICTED VALUE: 0\n",
      "            - CORRECT VALUE: 1\n",
      "            \n",
      "\n",
      "            BAD PREDICTION:\n",
      "            - INDEX: 17\n",
      "            - TEXT: Najbardziej lubię jak sędzia okazuje kartkę z takim. Wymachem do wyprostu ręk. No po prostu coś świetnego.\n",
      "            - PREDICTED VALUE: 0\n",
      "            - CORRECT VALUE: 1\n",
      "            \n",
      "\n",
      "            BAD PREDICTION:\n",
      "            - INDEX: 20\n",
      "            - TEXT: Miłego oglądania ❤️ Ps. Pod filmem gdzie odwzorowaliście piosenkę Multiego powiedziałeś że na 30 000 łapek kolejny odcinek z tej serii a jest 40 więc czekam Lajkujcie żeby widział ( nie zmuszam )\n",
      "            - PREDICTED VALUE: 1\n",
      "            - CORRECT VALUE: 0\n",
      "            \n"
     ]
    }
   ],
   "source": [
    "model_utils.print_incorrectly_predicted_texts(texts=test_dataset['comment'],\n",
    "                                              class_actual=test_dataset['emotion'],\n",
    "                                              class_preds=class_preds)"
   ]
  },
  {
   "cell_type": "code",
   "execution_count": 51,
   "metadata": {},
   "outputs": [
    {
     "data": {
      "text/html": [
       "<div>\n",
       "<style scoped>\n",
       "    .dataframe tbody tr th:only-of-type {\n",
       "        vertical-align: middle;\n",
       "    }\n",
       "\n",
       "    .dataframe tbody tr th {\n",
       "        vertical-align: top;\n",
       "    }\n",
       "\n",
       "    .dataframe thead th {\n",
       "        text-align: right;\n",
       "    }\n",
       "</style>\n",
       "<table border=\"1\" class=\"dataframe\">\n",
       "  <thead>\n",
       "    <tr style=\"text-align: right;\">\n",
       "      <th></th>\n",
       "      <th>comment</th>\n",
       "      <th>emotion</th>\n",
       "      <th>prediction</th>\n",
       "    </tr>\n",
       "  </thead>\n",
       "  <tbody>\n",
       "    <tr>\n",
       "      <th>0</th>\n",
       "      <td>solidny imprezowy numer, nie ma się do czego p...</td>\n",
       "      <td>0</td>\n",
       "      <td>0</td>\n",
       "    </tr>\n",
       "    <tr>\n",
       "      <th>1</th>\n",
       "      <td>Dojebane jak każdy Wasz kawałek ! Panowie czek...</td>\n",
       "      <td>1</td>\n",
       "      <td>0</td>\n",
       "    </tr>\n",
       "    <tr>\n",
       "      <th>2</th>\n",
       "      <td>Na uwagę zasługuje fakt ze Sanah jako jedna z ...</td>\n",
       "      <td>0</td>\n",
       "      <td>1</td>\n",
       "    </tr>\n",
       "    <tr>\n",
       "      <th>3</th>\n",
       "      <td>Mistrz! Idealne przed snem po calym dniu 👌</td>\n",
       "      <td>1</td>\n",
       "      <td>0</td>\n",
       "    </tr>\n",
       "    <tr>\n",
       "      <th>4</th>\n",
       "      <td>Miszczostwo świata, pełen szacunek za tekst 😉</td>\n",
       "      <td>1</td>\n",
       "      <td>0</td>\n",
       "    </tr>\n",
       "    <tr>\n",
       "      <th>...</th>\n",
       "      <td>...</td>\n",
       "      <td>...</td>\n",
       "      <td>...</td>\n",
       "    </tr>\n",
       "    <tr>\n",
       "      <th>96</th>\n",
       "      <td>Witaj tato ❤ Zdrowia dla Waszej trójki. Cudown...</td>\n",
       "      <td>0</td>\n",
       "      <td>0</td>\n",
       "    </tr>\n",
       "    <tr>\n",
       "      <th>97</th>\n",
       "      <td>Oboję musicie iść na TOP MODEL ❤❤❤💖💖💖</td>\n",
       "      <td>1</td>\n",
       "      <td>0</td>\n",
       "    </tr>\n",
       "    <tr>\n",
       "      <th>98</th>\n",
       "      <td>Dlatych co nie chcą czekać 5 lat mają taki kol...</td>\n",
       "      <td>0</td>\n",
       "      <td>0</td>\n",
       "    </tr>\n",
       "    <tr>\n",
       "      <th>99</th>\n",
       "      <td>Jak dla mnie najlepszy kawałek na tej płycie 🤯</td>\n",
       "      <td>1</td>\n",
       "      <td>0</td>\n",
       "    </tr>\n",
       "    <tr>\n",
       "      <th>100</th>\n",
       "      <td>Nie umiem. To jest takie urocze❤️</td>\n",
       "      <td>1</td>\n",
       "      <td>0</td>\n",
       "    </tr>\n",
       "  </tbody>\n",
       "</table>\n",
       "<p>101 rows × 3 columns</p>\n",
       "</div>"
      ],
      "text/plain": [
       "                                               comment  emotion  prediction\n",
       "0    solidny imprezowy numer, nie ma się do czego p...        0           0\n",
       "1    Dojebane jak każdy Wasz kawałek ! Panowie czek...        1           0\n",
       "2    Na uwagę zasługuje fakt ze Sanah jako jedna z ...        0           1\n",
       "3           Mistrz! Idealne przed snem po calym dniu 👌        1           0\n",
       "4        Miszczostwo świata, pełen szacunek za tekst 😉        1           0\n",
       "..                                                 ...      ...         ...\n",
       "96   Witaj tato ❤ Zdrowia dla Waszej trójki. Cudown...        0           0\n",
       "97               Oboję musicie iść na TOP MODEL ❤❤❤💖💖💖        1           0\n",
       "98   Dlatych co nie chcą czekać 5 lat mają taki kol...        0           0\n",
       "99      Jak dla mnie najlepszy kawałek na tej płycie 🤯        1           0\n",
       "100                  Nie umiem. To jest takie urocze❤️        1           0\n",
       "\n",
       "[101 rows x 3 columns]"
      ]
     },
     "execution_count": 51,
     "metadata": {},
     "output_type": "execute_result"
    }
   ],
   "source": [
    "test_df = pd.DataFrame(\n",
    "    list(zip(test_dataset['comment'], test_dataset['emotion'], class_preds)),\n",
    "    columns=['comment', 'emotion', 'prediction'])\n",
    "test_df"
   ]
  },
  {
   "cell_type": "code",
   "execution_count": 52,
   "metadata": {},
   "outputs": [
    {
     "data": {
      "text/html": [
       "<div>\n",
       "<style scoped>\n",
       "    .dataframe tbody tr th:only-of-type {\n",
       "        vertical-align: middle;\n",
       "    }\n",
       "\n",
       "    .dataframe tbody tr th {\n",
       "        vertical-align: top;\n",
       "    }\n",
       "\n",
       "    .dataframe thead th {\n",
       "        text-align: right;\n",
       "    }\n",
       "</style>\n",
       "<table border=\"1\" class=\"dataframe\">\n",
       "  <thead>\n",
       "    <tr style=\"text-align: right;\">\n",
       "      <th></th>\n",
       "      <th>comment</th>\n",
       "      <th>emotion</th>\n",
       "      <th>prediction</th>\n",
       "      <th>token_count</th>\n",
       "      <th>count_belonging</th>\n",
       "      <th>correctly_predicted</th>\n",
       "    </tr>\n",
       "  </thead>\n",
       "  <tbody>\n",
       "    <tr>\n",
       "      <th>0</th>\n",
       "      <td>solidny imprezowy numer, nie ma się do czego p...</td>\n",
       "      <td>0</td>\n",
       "      <td>0</td>\n",
       "      <td>10</td>\n",
       "      <td>6-11</td>\n",
       "      <td>1</td>\n",
       "    </tr>\n",
       "    <tr>\n",
       "      <th>1</th>\n",
       "      <td>Dojebane jak każdy Wasz kawałek ! Panowie czek...</td>\n",
       "      <td>1</td>\n",
       "      <td>0</td>\n",
       "      <td>14</td>\n",
       "      <td>12-17</td>\n",
       "      <td>0</td>\n",
       "    </tr>\n",
       "    <tr>\n",
       "      <th>2</th>\n",
       "      <td>Na uwagę zasługuje fakt ze Sanah jako jedna z ...</td>\n",
       "      <td>0</td>\n",
       "      <td>1</td>\n",
       "      <td>70</td>\n",
       "      <td>66-71</td>\n",
       "      <td>0</td>\n",
       "    </tr>\n",
       "    <tr>\n",
       "      <th>3</th>\n",
       "      <td>Mistrz! Idealne przed snem po calym dniu 👌</td>\n",
       "      <td>1</td>\n",
       "      <td>0</td>\n",
       "      <td>8</td>\n",
       "      <td>6-11</td>\n",
       "      <td>0</td>\n",
       "    </tr>\n",
       "    <tr>\n",
       "      <th>4</th>\n",
       "      <td>Miszczostwo świata, pełen szacunek za tekst 😉</td>\n",
       "      <td>1</td>\n",
       "      <td>0</td>\n",
       "      <td>7</td>\n",
       "      <td>6-11</td>\n",
       "      <td>0</td>\n",
       "    </tr>\n",
       "    <tr>\n",
       "      <th>...</th>\n",
       "      <td>...</td>\n",
       "      <td>...</td>\n",
       "      <td>...</td>\n",
       "      <td>...</td>\n",
       "      <td>...</td>\n",
       "      <td>...</td>\n",
       "    </tr>\n",
       "    <tr>\n",
       "      <th>96</th>\n",
       "      <td>Witaj tato ❤ Zdrowia dla Waszej trójki. Cudown...</td>\n",
       "      <td>0</td>\n",
       "      <td>0</td>\n",
       "      <td>10</td>\n",
       "      <td>6-11</td>\n",
       "      <td>1</td>\n",
       "    </tr>\n",
       "    <tr>\n",
       "      <th>97</th>\n",
       "      <td>Oboję musicie iść na TOP MODEL ❤❤❤💖💖💖</td>\n",
       "      <td>1</td>\n",
       "      <td>0</td>\n",
       "      <td>7</td>\n",
       "      <td>6-11</td>\n",
       "      <td>0</td>\n",
       "    </tr>\n",
       "    <tr>\n",
       "      <th>98</th>\n",
       "      <td>Dlatych co nie chcą czekać 5 lat mają taki kol...</td>\n",
       "      <td>0</td>\n",
       "      <td>0</td>\n",
       "      <td>14</td>\n",
       "      <td>12-17</td>\n",
       "      <td>1</td>\n",
       "    </tr>\n",
       "    <tr>\n",
       "      <th>99</th>\n",
       "      <td>Jak dla mnie najlepszy kawałek na tej płycie 🤯</td>\n",
       "      <td>1</td>\n",
       "      <td>0</td>\n",
       "      <td>9</td>\n",
       "      <td>6-11</td>\n",
       "      <td>0</td>\n",
       "    </tr>\n",
       "    <tr>\n",
       "      <th>100</th>\n",
       "      <td>Nie umiem. To jest takie urocze❤️</td>\n",
       "      <td>1</td>\n",
       "      <td>0</td>\n",
       "      <td>6</td>\n",
       "      <td>6-11</td>\n",
       "      <td>0</td>\n",
       "    </tr>\n",
       "  </tbody>\n",
       "</table>\n",
       "<p>101 rows × 6 columns</p>\n",
       "</div>"
      ],
      "text/plain": [
       "                                               comment  emotion  prediction  \\\n",
       "0    solidny imprezowy numer, nie ma się do czego p...        0           0   \n",
       "1    Dojebane jak każdy Wasz kawałek ! Panowie czek...        1           0   \n",
       "2    Na uwagę zasługuje fakt ze Sanah jako jedna z ...        0           1   \n",
       "3           Mistrz! Idealne przed snem po calym dniu 👌        1           0   \n",
       "4        Miszczostwo świata, pełen szacunek za tekst 😉        1           0   \n",
       "..                                                 ...      ...         ...   \n",
       "96   Witaj tato ❤ Zdrowia dla Waszej trójki. Cudown...        0           0   \n",
       "97               Oboję musicie iść na TOP MODEL ❤❤❤💖💖💖        1           0   \n",
       "98   Dlatych co nie chcą czekać 5 lat mają taki kol...        0           0   \n",
       "99      Jak dla mnie najlepszy kawałek na tej płycie 🤯        1           0   \n",
       "100                  Nie umiem. To jest takie urocze❤️        1           0   \n",
       "\n",
       "     token_count count_belonging  correctly_predicted  \n",
       "0             10            6-11                    1  \n",
       "1             14           12-17                    0  \n",
       "2             70           66-71                    0  \n",
       "3              8            6-11                    0  \n",
       "4              7            6-11                    0  \n",
       "..           ...             ...                  ...  \n",
       "96            10            6-11                    1  \n",
       "97             7            6-11                    0  \n",
       "98            14           12-17                    1  \n",
       "99             9            6-11                    0  \n",
       "100            6            6-11                    0  \n",
       "\n",
       "[101 rows x 6 columns]"
      ]
     },
     "execution_count": 52,
     "metadata": {},
     "output_type": "execute_result"
    }
   ],
   "source": [
    "def map_token_counts(row):\n",
    "    return len(row['comment'].split())\n",
    "\n",
    "def map_count_belonging(row, divider):\n",
    "    int_division_result = int(row['token_count'] / divider) + 1\n",
    "    lower_boundary = divider * int_division_result - divider\n",
    "    upper_boundary = divider * int_division_result - 1\n",
    "    return f\"{lower_boundary}-{upper_boundary}\"\n",
    "\n",
    "def map_correctly_predicted(row):\n",
    "    return int(row['emotion'] == row['prediction'])\n",
    "\n",
    "\n",
    "test_df['token_count'] = test_df.apply(lambda row: map_token_counts(row), axis=1)\n",
    "test_df['count_belonging'] = test_df.apply(lambda row: map_count_belonging(row, divider=6), axis=1)\n",
    "test_df['correctly_predicted'] = test_df.apply(lambda row: map_correctly_predicted(row), axis=1)\n",
    "test_df"
   ]
  },
  {
   "cell_type": "code",
   "execution_count": 53,
   "metadata": {},
   "outputs": [],
   "source": [
    "test_df = test_df.drop(test_df[test_df.token_count > 41].index)"
   ]
  },
  {
   "cell_type": "code",
   "execution_count": 54,
   "metadata": {},
   "outputs": [],
   "source": [
    "test_df = test_df.sort_values(by=['token_count']).reset_index(drop=True)"
   ]
  },
  {
   "cell_type": "code",
   "execution_count": 55,
   "metadata": {},
   "outputs": [
    {
     "data": {
      "image/png": "[encoded data removed]",
      "text/plain": [
       "<Figure size 640x480 with 1 Axes>"
      ]
     },
     "metadata": {},
     "output_type": "display_data"
    }
   ],
   "source": [
    "data = test_df['count_belonging']\n",
    "data.value_counts(sort=False).plot.bar()\n",
    "plt.xlabel('Token count range')\n",
    "plt.ylabel('Count')\n",
    "plt.savefig(os.path.join(figures_dir, f'{training_name}_counts_per_range.png'))\n",
    "plt.show()"
   ]
  },
  {
   "cell_type": "code",
   "execution_count": 56,
   "metadata": {},
   "outputs": [],
   "source": [
    "range_to_valid_predictions_count_dict = {'0-5': 0, '6-11': 0, '12-17': 0, '18-23': 0, '24-29': 0, '30-35': 0, '36-41': 0}\n",
    "range_to_element_count_dict = {'0-5': 0, '6-11': 0, '12-17': 0, '18-23': 0, '24-29': 0, '30-35': 0, '36-41': 0}\n",
    "range_to_pred_accuracy_dict = {'0-5': 0., '6-11': 0., '12-17': 0., '18-23': 0., '24-29': 0., '30-35': 0., '36-41': 0.}"
   ]
  },
  {
   "cell_type": "code",
   "execution_count": 57,
   "metadata": {},
   "outputs": [
    {
     "ename": "ZeroDivisionError",
     "evalue": "division by zero",
     "output_type": "error",
     "traceback": [
      "\u001b[1;31m---------------------------------------------------------------------------\u001b[0m",
      "\u001b[1;31mZeroDivisionError\u001b[0m                         Traceback (most recent call last)",
      "Cell \u001b[1;32mIn[57], line 10\u001b[0m\n\u001b[0;32m      7\u001b[0m         range_to_valid_predictions_count_dict[count_belonging] \u001b[39m=\u001b[39m range_to_valid_predictions_count_dict[count_belonging] \u001b[39m+\u001b[39m \u001b[39m1\u001b[39m\n\u001b[0;32m      9\u001b[0m \u001b[39mfor\u001b[39;00m key \u001b[39min\u001b[39;00m range_to_pred_accuracy_dict\u001b[39m.\u001b[39mkeys():\n\u001b[1;32m---> 10\u001b[0m     range_to_pred_accuracy_dict[key] \u001b[39m=\u001b[39m range_to_valid_predictions_count_dict[key] \u001b[39m/\u001b[39;49m range_to_element_count_dict[key]\n\u001b[0;32m     12\u001b[0m \u001b[39mprint\u001b[39m(\u001b[39m\"\u001b[39m\u001b[39mCorrect predictions count: \u001b[39m\u001b[39m\"\u001b[39m, range_to_valid_predictions_count_dict)\n\u001b[0;32m     13\u001b[0m \u001b[39mprint\u001b[39m(\u001b[39m\"\u001b[39m\u001b[39mElement count: \u001b[39m\u001b[39m\"\u001b[39m, range_to_element_count_dict)\n",
      "\u001b[1;31mZeroDivisionError\u001b[0m: division by zero"
     ]
    }
   ],
   "source": [
    "for _, row in test_df.iterrows():\n",
    "    count_belonging = row['count_belonging']\n",
    "\n",
    "    range_to_element_count_dict[count_belonging] = range_to_element_count_dict[count_belonging] + 1\n",
    "\n",
    "    if row['correctly_predicted']:\n",
    "        range_to_valid_predictions_count_dict[count_belonging] = range_to_valid_predictions_count_dict[count_belonging] + 1\n",
    "\n",
    "for key in range_to_pred_accuracy_dict.keys():\n",
    "    range_to_pred_accuracy_dict[key] = range_to_valid_predictions_count_dict[key] / range_to_element_count_dict[key]\n",
    "\n",
    "print(\"Correct predictions count: \", range_to_valid_predictions_count_dict)\n",
    "print(\"Element count: \", range_to_element_count_dict)\n",
    "print(\"Accuracies: \", range_to_pred_accuracy_dict)"
   ]
  },
  {
   "cell_type": "code",
   "execution_count": null,
   "metadata": {},
   "outputs": [
    {
     "data": {
      "image/png": "[encoded data removed]",
      "text/plain": [
       "<Figure size 640x480 with 1 Axes>"
      ]
     },
     "metadata": {},
     "output_type": "display_data"
    }
   ],
   "source": [
    "import matplotlib.ticker as mtick\n",
    "\n",
    "plt.bar(['0-5', '6-11', '12-17', '18-23', '24-29', '30-35', '36-41'], [val for val in range_to_pred_accuracy_dict.values()])\n",
    "plt.xlabel('Token count range')\n",
    "plt.ylabel('Accuracy')\n",
    "plt.gca().yaxis.set_major_formatter(mtick.PercentFormatter(xmax=1.0))\n",
    "plt.savefig(os.path.join(figures_dir, f'{training_name}_accuracies_per_range.png'))\n",
    "plt.show()"
   ]
  }
 ],
 "metadata": {
  "kernelspec": {
   "display_name": "nlp",
   "language": "python",
   "name": "python3"
  },
  "language_info": {
   "codemirror_mode": {
    "name": "ipython",
    "version": 3
   },
   "file_extension": ".py",
   "mimetype": "text/x-python",
   "name": "python",
   "nbconvert_exporter": "python",
   "pygments_lexer": "ipython3",
   "version": "3.10.11"
  },
  "orig_nbformat": 4
 },
 "nbformat": 4,
 "nbformat_minor": 2
}
