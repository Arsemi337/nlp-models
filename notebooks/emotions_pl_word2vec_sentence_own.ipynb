{
 "cells": [
  {
   "cell_type": "code",
   "execution_count": 1,
   "metadata": {
    "ExecuteTime": {
     "end_time": "2023-06-19T16:03:44.038409300Z",
     "start_time": "2023-06-19T16:03:35.045288800Z"
    }
   },
   "outputs": [],
   "source": [
    "import numpy as np\n",
    "import tensorflow as tf\n",
    "import string\n",
    "import pandas as pd\n",
    "import gensim\n",
    "from datasets import Dataset\n",
    "import spacy\n",
    "import core.model_utils as model_utils\n",
    "import core.constants as constants\n",
    "import matplotlib.pyplot as plt\n",
    "import os"
   ]
  },
  {
   "cell_type": "code",
   "execution_count": null,
   "outputs": [],
   "source": [
    "# Needs to be used to download spacy model for Polish\n",
    "# !python -m spacy download pl_core_news_sm"
   ],
   "metadata": {
    "collapsed": false
   }
  },
  {
   "cell_type": "code",
   "execution_count": null,
   "outputs": [],
   "source": [
    "# spacy_model = spacy.load(\"pl_core_news_sm\")\n",
    "#\n",
    "# # Stop words\n",
    "# stop_words = spacy_model.Defaults.stop_words.copy()\n",
    "# stop_words.remove(\"nie\")\n",
    "#\n",
    "# # Punctuation\n",
    "# punctuations = string.punctuation\n",
    "#\n",
    "#\n",
    "# # Tokenizer\n",
    "# def spacy_tokenizer(sentence):\n",
    "#     doc = spacy_model(sentence)\n",
    "#\n",
    "#     # Lemmatizing each token and converting each token into lowercase\n",
    "#     my_tokens = [ word.lemma_.lower().strip() for word in doc ]\n",
    "#\n",
    "#     # Removing stop words and punctuation\n",
    "#     my_tokens = [ word for word in my_tokens if word not in stop_words and word not in punctuations ]\n",
    "#     return my_tokens\n",
    "#\n",
    "#\n",
    "# df = pd.read_json('./../data/polish_translated/emotions/equalized_emotions_dataset_pl.json')\n",
    "# df = df.drop(columns=['text'])\n",
    "# df['tokens'] = df['text_pl'].apply(spacy_tokenizer)\n",
    "# df['joined_tokens'] = df['tokens'].apply(lambda tokens: ' '.join(tokens))\n",
    "# df.to_json('./../data/polish_translated/emotions/equalized_emotions_dataset_pl_with_tokens.json')"
   ],
   "metadata": {
    "collapsed": false
   }
  },
  {
   "cell_type": "code",
   "execution_count": 2,
   "metadata": {
    "ExecuteTime": {
     "end_time": "2023-06-19T16:03:44.224582900Z",
     "start_time": "2023-06-19T16:03:44.039408Z"
    }
   },
   "outputs": [
    {
     "data": {
      "text/plain": "       emotions                                            text_pl  \\\n0         anger                        Czuję się całkowicie chciwy   \n1          fear                Czuję się tak przytłoczony emocjami   \n2      surprise  Nie czułem efektu siły g Jestem oszołomiony Po...   \n3         anger  ive just got to tell you all that I feel Racze...   \n4         anger  Powiedziałem ci, że przepraszam, że czujesz si...   \n...         ...                                                ...   \n39995       joy  czuję się ostatnio dość hojny, ponieważ pracuj...   \n39996      love  Czuję, że niektóre postacie nie zasługują na w...   \n39997      fear  Czuję strach w moich kościach, którego nie moż...   \n39998       joy  Czułem się bardziej kreatywny i mniej jak czys...   \n39999   sadness          Czuję się zdruzgotany i pomagam Hellipowi   \n\n                                                  tokens  \\\n0                            [czuję, całkowicie, chciwy]   \n1                            [czuję, przytłocić, emocja]   \n2      [nie, czuć, być, efekt, siła, g, oszołomiona, ...   \n3      [ive, just, got, tell, you, all, that, feel, r...   \n4      [powiedzieć, być, przepraszać, czuć, sfrustrow...   \n...                                                  ...   \n39995  [czuć, ostatnio, hojny, pracować, znacznie, zw...   \n39996  [czuję, niektóry, postać, nie, zasługiwać, wsp...   \n39997  [czuję, strach, kość, nie, móc, wytrząsnąć, wy...   \n39998           [czuć, być, kreatywny, czysty, redaktor]   \n39999               [czuję, zdruzgotać, pomagać, hellip]   \n\n                                           joined_tokens  \n0                                czuję całkowicie chciwy  \n1                                czuję przytłocić emocja  \n2      nie czuć być efekt siła g oszołomiona poszedłe...  \n3      ive just got tell you all that feel raczej nie...  \n4      powiedzieć być przepraszać czuć sfrustrowany z...  \n...                                                  ...  \n39995  czuć ostatnio hojny pracować znacznie zwykle z...  \n39996  czuję niektóry postać nie zasługiwać wsparcie ...  \n39997  czuję strach kość nie móc wytrząsnąć wymuszć r...  \n39998                 czuć być kreatywny czysty redaktor  \n39999                    czuję zdruzgotać pomagać hellip  \n\n[40000 rows x 4 columns]",
      "text/html": "<div>\n<style scoped>\n    .dataframe tbody tr th:only-of-type {\n        vertical-align: middle;\n    }\n\n    .dataframe tbody tr th {\n        vertical-align: top;\n    }\n\n    .dataframe thead th {\n        text-align: right;\n    }\n</style>\n<table border=\"1\" class=\"dataframe\">\n  <thead>\n    <tr style=\"text-align: right;\">\n      <th></th>\n      <th>emotions</th>\n      <th>text_pl</th>\n      <th>tokens</th>\n      <th>joined_tokens</th>\n    </tr>\n  </thead>\n  <tbody>\n    <tr>\n      <th>0</th>\n      <td>anger</td>\n      <td>Czuję się całkowicie chciwy</td>\n      <td>[czuję, całkowicie, chciwy]</td>\n      <td>czuję całkowicie chciwy</td>\n    </tr>\n    <tr>\n      <th>1</th>\n      <td>fear</td>\n      <td>Czuję się tak przytłoczony emocjami</td>\n      <td>[czuję, przytłocić, emocja]</td>\n      <td>czuję przytłocić emocja</td>\n    </tr>\n    <tr>\n      <th>2</th>\n      <td>surprise</td>\n      <td>Nie czułem efektu siły g Jestem oszołomiony Po...</td>\n      <td>[nie, czuć, być, efekt, siła, g, oszołomiona, ...</td>\n      <td>nie czuć być efekt siła g oszołomiona poszedłe...</td>\n    </tr>\n    <tr>\n      <th>3</th>\n      <td>anger</td>\n      <td>ive just got to tell you all that I feel Racze...</td>\n      <td>[ive, just, got, tell, you, all, that, feel, r...</td>\n      <td>ive just got tell you all that feel raczej nie...</td>\n    </tr>\n    <tr>\n      <th>4</th>\n      <td>anger</td>\n      <td>Powiedziałem ci, że przepraszam, że czujesz si...</td>\n      <td>[powiedzieć, być, przepraszać, czuć, sfrustrow...</td>\n      <td>powiedzieć być przepraszać czuć sfrustrowany z...</td>\n    </tr>\n    <tr>\n      <th>...</th>\n      <td>...</td>\n      <td>...</td>\n      <td>...</td>\n      <td>...</td>\n    </tr>\n    <tr>\n      <th>39995</th>\n      <td>joy</td>\n      <td>czuję się ostatnio dość hojny, ponieważ pracuj...</td>\n      <td>[czuć, ostatnio, hojny, pracować, znacznie, zw...</td>\n      <td>czuć ostatnio hojny pracować znacznie zwykle z...</td>\n    </tr>\n    <tr>\n      <th>39996</th>\n      <td>love</td>\n      <td>Czuję, że niektóre postacie nie zasługują na w...</td>\n      <td>[czuję, niektóry, postać, nie, zasługiwać, wsp...</td>\n      <td>czuję niektóry postać nie zasługiwać wsparcie ...</td>\n    </tr>\n    <tr>\n      <th>39997</th>\n      <td>fear</td>\n      <td>Czuję strach w moich kościach, którego nie moż...</td>\n      <td>[czuję, strach, kość, nie, móc, wytrząsnąć, wy...</td>\n      <td>czuję strach kość nie móc wytrząsnąć wymuszć r...</td>\n    </tr>\n    <tr>\n      <th>39998</th>\n      <td>joy</td>\n      <td>Czułem się bardziej kreatywny i mniej jak czys...</td>\n      <td>[czuć, być, kreatywny, czysty, redaktor]</td>\n      <td>czuć być kreatywny czysty redaktor</td>\n    </tr>\n    <tr>\n      <th>39999</th>\n      <td>sadness</td>\n      <td>Czuję się zdruzgotany i pomagam Hellipowi</td>\n      <td>[czuję, zdruzgotać, pomagać, hellip]</td>\n      <td>czuję zdruzgotać pomagać hellip</td>\n    </tr>\n  </tbody>\n</table>\n<p>40000 rows × 4 columns</p>\n</div>"
     },
     "execution_count": 2,
     "metadata": {},
     "output_type": "execute_result"
    }
   ],
   "source": [
    "tokenized_sentences_df = pd.read_json(\n",
    "    './../data/polish_translated/emotions/equalized_emotions_dataset_pl_with_tokens.json')\n",
    "tokenized_sentences_df"
   ]
  },
  {
   "cell_type": "code",
   "execution_count": 3,
   "metadata": {
    "ExecuteTime": {
     "end_time": "2023-06-19T16:03:44.262342200Z",
     "start_time": "2023-06-19T16:03:44.225582700Z"
    }
   },
   "outputs": [],
   "source": [
    "ordered_class_labels = {\n",
    "    \"joy\": 0,\n",
    "    \"love\": 1,\n",
    "    \"surprise\": 2,\n",
    "    \"sadness\": 3,\n",
    "    \"anger\": 4,\n",
    "    \"fear\": 5,\n",
    "}\n",
    "\n",
    "tokenized_sentences_df = tokenized_sentences_df.replace({\"emotions\": ordered_class_labels})"
   ]
  },
  {
   "cell_type": "code",
   "execution_count": 4,
   "outputs": [
    {
     "data": {
      "text/plain": "Dataset({\n    features: ['emotions', 'text_pl', 'tokens', 'joined_tokens'],\n    num_rows: 40000\n})"
     },
     "execution_count": 4,
     "metadata": {},
     "output_type": "execute_result"
    }
   ],
   "source": [
    "full_dataset = Dataset.from_pandas(tokenized_sentences_df).remove_columns(\"__index_level_0__\")\n",
    "full_dataset"
   ],
   "metadata": {
    "collapsed": false,
    "ExecuteTime": {
     "end_time": "2023-06-19T16:03:44.379241300Z",
     "start_time": "2023-06-19T16:03:44.257334Z"
    }
   }
  },
  {
   "cell_type": "code",
   "execution_count": 5,
   "outputs": [],
   "source": [
    "# Train set: 80%, Validation set: 10%, Test set: 10%\n",
    "train_dataset, val_dataset, test_dataset = model_utils.split_train_val_test(\n",
    "    full_dataset,\n",
    "    train_size=0.8,\n",
    "    test_size_of_val_test_batch=0.5,\n",
    "    shuffle=True,\n",
    "    seed=42)"
   ],
   "metadata": {
    "collapsed": false,
    "ExecuteTime": {
     "end_time": "2023-06-19T16:03:44.440124200Z",
     "start_time": "2023-06-19T16:03:44.378239400Z"
    }
   }
  },
  {
   "cell_type": "code",
   "execution_count": 6,
   "metadata": {
    "ExecuteTime": {
     "end_time": "2023-06-19T16:03:47.119544500Z",
     "start_time": "2023-06-19T16:03:44.411506400Z"
    }
   },
   "outputs": [
    {
     "data": {
      "text/plain": "(2398844, 3040630)"
     },
     "execution_count": 6,
     "metadata": {},
     "output_type": "execute_result"
    }
   ],
   "source": [
    "# Word2Vec\n",
    "tokenized_sentences = train_dataset['tokens']\n",
    "w2v_model = gensim.models.Word2Vec(sentences=tokenized_sentences, vector_size=100, window=6, min_count=1)\n",
    "w2v_model.train(tokenized_sentences, epochs=10, total_examples=len(tokenized_sentences))"
   ]
  },
  {
   "cell_type": "code",
   "execution_count": 7,
   "outputs": [],
   "source": [
    "def tokens_to_vector(tokens):\n",
    "    vector_size = w2v_model.vector_size\n",
    "    wv_res = np.zeros(vector_size)\n",
    "    ctr = 1\n",
    "    for w in tokens:\n",
    "        if w in w2v_model.wv:\n",
    "            ctr += 1\n",
    "            wv_res += w2v_model.wv[w]\n",
    "    wv_res = wv_res / ctr\n",
    "    return wv_res"
   ],
   "metadata": {
    "collapsed": false,
    "ExecuteTime": {
     "end_time": "2023-06-19T16:05:03.120914300Z",
     "start_time": "2023-06-19T16:05:03.099396300Z"
    }
   }
  },
  {
   "cell_type": "code",
   "execution_count": 8,
   "outputs": [
    {
     "data": {
      "text/plain": "Map:   0%|          | 0/32000 [00:00<?, ? examples/s]",
      "application/vnd.jupyter.widget-view+json": {
       "version_major": 2,
       "version_minor": 0,
       "model_id": "c403e049750a492c97ecd796003445ac"
      }
     },
     "metadata": {},
     "output_type": "display_data"
    },
    {
     "data": {
      "text/plain": "Map:   0%|          | 0/4000 [00:00<?, ? examples/s]",
      "application/vnd.jupyter.widget-view+json": {
       "version_major": 2,
       "version_minor": 0,
       "model_id": "94617ad599e344498c8c4eae0d42c87c"
      }
     },
     "metadata": {},
     "output_type": "display_data"
    },
    {
     "data": {
      "text/plain": "Map:   0%|          | 0/4000 [00:00<?, ? examples/s]",
      "application/vnd.jupyter.widget-view+json": {
       "version_major": 2,
       "version_minor": 0,
       "model_id": "69a54ba1cbfe4ee8af92cb17535e4c68"
      }
     },
     "metadata": {},
     "output_type": "display_data"
    }
   ],
   "source": [
    "def tokenize_for_word2vec(sample):\n",
    "    sample['embeddings'] = [tokens_to_vector(tokens) for tokens in sample['tokens']]\n",
    "    return sample\n",
    "\n",
    "\n",
    "train_dataset = train_dataset.map(tokenize_for_word2vec, batched=True)\n",
    "val_dataset = val_dataset.map(tokenize_for_word2vec, batched=True)\n",
    "test_dataset = test_dataset.map(tokenize_for_word2vec, batched=True)"
   ],
   "metadata": {
    "collapsed": false,
    "ExecuteTime": {
     "end_time": "2023-06-19T16:05:07.604053400Z",
     "start_time": "2023-06-19T16:05:04.631464400Z"
    }
   }
  },
  {
   "cell_type": "code",
   "execution_count": 10,
   "outputs": [
    {
     "name": "stderr",
     "output_type": "stream",
     "text": [
      "C:\\Users\\Karol\\anaconda3\\envs\\ml-tf2gpu\\lib\\site-packages\\datasets\\arrow_dataset.py:388: FutureWarning: The output of `to_tf_dataset` will change when a passing single element list for `labels` or `columns` in the next datasets version. To return a tuple structure rather than dict, pass a single string.\n",
      "Old behaviour: columns=['a'], labels=['labels'] -> (tf.Tensor, tf.Tensor)  \n",
      "             : columns='a', labels='labels' -> (tf.Tensor, tf.Tensor)  \n",
      "New behaviour: columns=['a'],labels=['labels'] -> ({'a': tf.Tensor}, {'labels': tf.Tensor})  \n",
      "             : columns='a', labels='labels' -> (tf.Tensor, tf.Tensor) \n",
      "  warnings.warn(\n"
     ]
    }
   ],
   "source": [
    "columns = [\"embeddings\"]\n",
    "label_cols = [\"emotions\"]\n",
    "batch_size = 16\n",
    "\n",
    "tf_train_dataset = model_utils.convert_to_tf_dataset(train_dataset, columns, label_cols, None, batch_size)\n",
    "tf_val_dataset = model_utils.convert_to_tf_dataset(val_dataset, columns, label_cols, None, batch_size)\n",
    "tf_test_dataset = model_utils.convert_to_tf_dataset(test_dataset, columns, label_cols, None, batch_size)"
   ],
   "metadata": {
    "collapsed": false,
    "ExecuteTime": {
     "end_time": "2023-06-19T16:05:42.130480300Z",
     "start_time": "2023-06-19T16:05:35.498591800Z"
    }
   }
  },
  {
   "cell_type": "code",
   "execution_count": 21,
   "metadata": {
    "ExecuteTime": {
     "end_time": "2023-06-19T16:09:29.331555500Z",
     "start_time": "2023-06-19T16:09:29.313539Z"
    }
   },
   "outputs": [],
   "source": [
    "model = tf.keras.models.Sequential()\n",
    "model.add(tf.keras.layers.Flatten())\n",
    "model.add(tf.keras.layers.Dense(128, activation='relu'))\n",
    "model.add(tf.keras.layers.Dense(64, activation='relu'))\n",
    "model.add(tf.keras.layers.Dense(16, activation='relu'))\n",
    "model.add(tf.keras.layers.Dense(6, activation='sigmoid'))"
   ]
  },
  {
   "cell_type": "code",
   "execution_count": 22,
   "metadata": {
    "ExecuteTime": {
     "end_time": "2023-06-19T16:09:29.727717400Z",
     "start_time": "2023-06-19T16:09:29.702999300Z"
    }
   },
   "outputs": [],
   "source": [
    "model.compile(optimizer=\"adam\", loss=tf.keras.losses.SparseCategoricalCrossentropy(), metrics=[\"accuracy\"])"
   ]
  },
  {
   "cell_type": "code",
   "execution_count": 23,
   "metadata": {
    "ExecuteTime": {
     "end_time": "2023-06-19T16:09:31.220567800Z",
     "start_time": "2023-06-19T16:09:31.196514200Z"
    }
   },
   "outputs": [],
   "source": [
    "# Model parameters\n",
    "training_number = 1\n",
    "model_name = 'emotions_pl_word2vec_sentence_own'\n",
    "training_name = f\"training_{training_number}\"\n",
    "figures_dir = f\"./../documentation/models/{model_name}/figures\"\n",
    "checkpoint_filename_template = \"cp-{epoch:04d}.ckpt\"\n",
    "checkpoints_dir = os.path.join(constants.TRAINING_CHECKPOINTS_PATH, model_name, training_name)\n",
    "checkpoint_path = os.path.join(checkpoints_dir, checkpoint_filename_template)"
   ]
  },
  {
   "cell_type": "code",
   "execution_count": 24,
   "metadata": {
    "ExecuteTime": {
     "end_time": "2023-06-19T16:09:31.713318900Z",
     "start_time": "2023-06-19T16:09:31.701692300Z"
    }
   },
   "outputs": [],
   "source": [
    "# Callbacks\n",
    "checkpoint_cb = tf.keras.callbacks.ModelCheckpoint(checkpoint_path, verbose=1, save_weights_only=True)\n",
    "early_stop_cb = tf.keras.callbacks.EarlyStopping(patience=3)\n",
    "callbacks = [checkpoint_cb, early_stop_cb]"
   ]
  },
  {
   "cell_type": "code",
   "execution_count": 25,
   "metadata": {
    "ExecuteTime": {
     "end_time": "2023-06-19T16:10:58.672729Z",
     "start_time": "2023-06-19T16:09:34.961725400Z"
    }
   },
   "outputs": [
    {
     "name": "stdout",
     "output_type": "stream",
     "text": [
      "Epoch 1/50\n",
      "2000/2000 [==============================] - 4s 2ms/step - loss: 1.5594 - accuracy: 0.3436 - val_loss: 1.5070 - val_accuracy: 0.3767\n",
      "\n",
      "Epoch 00001: saving model to ./../training_checkpoints\\emotions_pl_word2vec_sentence_own\\training_1\\cp-0001.ckpt\n",
      "Epoch 2/50\n",
      "2000/2000 [==============================] - 4s 2ms/step - loss: 1.4530 - accuracy: 0.4082 - val_loss: 1.4731 - val_accuracy: 0.3938\n",
      "\n",
      "Epoch 00002: saving model to ./../training_checkpoints\\emotions_pl_word2vec_sentence_own\\training_1\\cp-0002.ckpt\n",
      "Epoch 3/50\n",
      "2000/2000 [==============================] - 4s 2ms/step - loss: 1.4194 - accuracy: 0.4241 - val_loss: 1.4426 - val_accuracy: 0.4013\n",
      "\n",
      "Epoch 00003: saving model to ./../training_checkpoints\\emotions_pl_word2vec_sentence_own\\training_1\\cp-0003.ckpt\n",
      "Epoch 4/50\n",
      "2000/2000 [==============================] - 4s 2ms/step - loss: 1.3953 - accuracy: 0.4368 - val_loss: 1.4246 - val_accuracy: 0.4080\n",
      "\n",
      "Epoch 00004: saving model to ./../training_checkpoints\\emotions_pl_word2vec_sentence_own\\training_1\\cp-0004.ckpt\n",
      "Epoch 5/50\n",
      "2000/2000 [==============================] - 5s 2ms/step - loss: 1.3760 - accuracy: 0.4460 - val_loss: 1.4145 - val_accuracy: 0.4182\n",
      "\n",
      "Epoch 00005: saving model to ./../training_checkpoints\\emotions_pl_word2vec_sentence_own\\training_1\\cp-0005.ckpt\n",
      "Epoch 6/50\n",
      "2000/2000 [==============================] - 5s 2ms/step - loss: 1.3605 - accuracy: 0.4561 - val_loss: 1.4075 - val_accuracy: 0.4285\n",
      "\n",
      "Epoch 00006: saving model to ./../training_checkpoints\\emotions_pl_word2vec_sentence_own\\training_1\\cp-0006.ckpt\n",
      "Epoch 7/50\n",
      "2000/2000 [==============================] - 4s 2ms/step - loss: 1.3452 - accuracy: 0.4604 - val_loss: 1.3955 - val_accuracy: 0.4365\n",
      "\n",
      "Epoch 00007: saving model to ./../training_checkpoints\\emotions_pl_word2vec_sentence_own\\training_1\\cp-0007.ckpt\n",
      "Epoch 8/50\n",
      "2000/2000 [==============================] - 4s 2ms/step - loss: 1.3321 - accuracy: 0.4681 - val_loss: 1.3896 - val_accuracy: 0.4397\n",
      "\n",
      "Epoch 00008: saving model to ./../training_checkpoints\\emotions_pl_word2vec_sentence_own\\training_1\\cp-0008.ckpt\n",
      "Epoch 9/50\n",
      "2000/2000 [==============================] - 4s 2ms/step - loss: 1.3211 - accuracy: 0.4751 - val_loss: 1.3804 - val_accuracy: 0.4485\n",
      "\n",
      "Epoch 00009: saving model to ./../training_checkpoints\\emotions_pl_word2vec_sentence_own\\training_1\\cp-0009.ckpt\n",
      "Epoch 10/50\n",
      "2000/2000 [==============================] - 4s 2ms/step - loss: 1.3115 - accuracy: 0.4784 - val_loss: 1.3797 - val_accuracy: 0.4502\n",
      "\n",
      "Epoch 00010: saving model to ./../training_checkpoints\\emotions_pl_word2vec_sentence_own\\training_1\\cp-0010.ckpt\n",
      "Epoch 11/50\n",
      "2000/2000 [==============================] - 4s 2ms/step - loss: 1.3024 - accuracy: 0.4825 - val_loss: 1.3754 - val_accuracy: 0.4490\n",
      "\n",
      "Epoch 00011: saving model to ./../training_checkpoints\\emotions_pl_word2vec_sentence_own\\training_1\\cp-0011.ckpt\n",
      "Epoch 12/50\n",
      "2000/2000 [==============================] - 4s 2ms/step - loss: 1.2916 - accuracy: 0.4848 - val_loss: 1.3753 - val_accuracy: 0.4495\n",
      "\n",
      "Epoch 00012: saving model to ./../training_checkpoints\\emotions_pl_word2vec_sentence_own\\training_1\\cp-0012.ckpt\n",
      "Epoch 13/50\n",
      "2000/2000 [==============================] - 4s 2ms/step - loss: 1.2829 - accuracy: 0.4911 - val_loss: 1.3721 - val_accuracy: 0.4500\n",
      "\n",
      "Epoch 00013: saving model to ./../training_checkpoints\\emotions_pl_word2vec_sentence_own\\training_1\\cp-0013.ckpt\n",
      "Epoch 14/50\n",
      "2000/2000 [==============================] - 4s 2ms/step - loss: 1.2740 - accuracy: 0.4973 - val_loss: 1.3732 - val_accuracy: 0.4600\n",
      "\n",
      "Epoch 00014: saving model to ./../training_checkpoints\\emotions_pl_word2vec_sentence_own\\training_1\\cp-0014.ckpt\n",
      "Epoch 15/50\n",
      "2000/2000 [==============================] - 4s 2ms/step - loss: 1.2644 - accuracy: 0.5013 - val_loss: 1.3726 - val_accuracy: 0.4605\n",
      "\n",
      "Epoch 00015: saving model to ./../training_checkpoints\\emotions_pl_word2vec_sentence_own\\training_1\\cp-0015.ckpt\n",
      "Epoch 16/50\n",
      "2000/2000 [==============================] - 4s 2ms/step - loss: 1.2571 - accuracy: 0.5029 - val_loss: 1.3678 - val_accuracy: 0.4588\n",
      "\n",
      "Epoch 00016: saving model to ./../training_checkpoints\\emotions_pl_word2vec_sentence_own\\training_1\\cp-0016.ckpt\n",
      "Epoch 17/50\n",
      "2000/2000 [==============================] - 4s 2ms/step - loss: 1.2502 - accuracy: 0.5042 - val_loss: 1.3771 - val_accuracy: 0.4575\n",
      "\n",
      "Epoch 00017: saving model to ./../training_checkpoints\\emotions_pl_word2vec_sentence_own\\training_1\\cp-0017.ckpt\n",
      "Epoch 18/50\n",
      "2000/2000 [==============================] - 4s 2ms/step - loss: 1.2432 - accuracy: 0.5072 - val_loss: 1.3730 - val_accuracy: 0.4602\n",
      "\n",
      "Epoch 00018: saving model to ./../training_checkpoints\\emotions_pl_word2vec_sentence_own\\training_1\\cp-0018.ckpt\n",
      "Epoch 19/50\n",
      "2000/2000 [==============================] - 4s 2ms/step - loss: 1.2366 - accuracy: 0.5124 - val_loss: 1.3755 - val_accuracy: 0.4652\n",
      "\n",
      "Epoch 00019: saving model to ./../training_checkpoints\\emotions_pl_word2vec_sentence_own\\training_1\\cp-0019.ckpt\n"
     ]
    }
   ],
   "source": [
    "history = model.fit(tf_train_dataset, validation_data=tf_val_dataset, epochs=50,\n",
    "                    callbacks=[checkpoint_cb, early_stop_cb])"
   ]
  },
  {
   "cell_type": "code",
   "execution_count": 26,
   "outputs": [
    {
     "data": {
      "text/plain": "<Figure size 640x480 with 1 Axes>",
      "image/png": "[encoded data removed]"
     },
     "metadata": {},
     "output_type": "display_data"
    },
    {
     "data": {
      "text/plain": "<Figure size 640x480 with 1 Axes>",
      "image/png": "[encoded data removed]"
     },
     "metadata": {},
     "output_type": "display_data"
    }
   ],
   "source": [
    "model_utils.plot_and_save_fig_from_history(history,\n",
    "                                           attributes=['accuracy', 'val_accuracy'],\n",
    "                                           title='Model accuracy',\n",
    "                                           y_label='Accuracy',\n",
    "                                           x_label='Epoch',\n",
    "                                           legend_descriptors=['Train', 'Val'],\n",
    "                                           figure_dir_path=figures_dir,\n",
    "                                           figure_filename=f\"{training_name}_accuracy.png\")\n",
    "\n",
    "model_utils.plot_and_save_fig_from_history(history,\n",
    "                                           attributes=['loss', 'val_loss'],\n",
    "                                           title='Model loss',\n",
    "                                           y_label='Loss',\n",
    "                                           x_label='Epoch',\n",
    "                                           legend_descriptors=['Train', 'Val'],\n",
    "                                           figure_dir_path=figures_dir,\n",
    "                                           figure_filename=f\"{training_name}_loss.png\")"
   ],
   "metadata": {
    "collapsed": false,
    "ExecuteTime": {
     "end_time": "2023-06-19T16:11:47.418101400Z",
     "start_time": "2023-06-19T16:11:46.503842500Z"
    }
   }
  },
  {
   "cell_type": "code",
   "execution_count": 27,
   "outputs": [],
   "source": [
    "best_model = model_utils.get_best_model_from_checkpoints(model, history,\n",
    "                                                         checkpoints_dir=checkpoints_dir,\n",
    "                                                         checkpoint_filename_template=checkpoint_filename_template)"
   ],
   "metadata": {
    "collapsed": false,
    "ExecuteTime": {
     "end_time": "2023-06-19T16:11:47.482720200Z",
     "start_time": "2023-06-19T16:11:47.411599800Z"
    }
   }
  },
  {
   "cell_type": "code",
   "execution_count": 28,
   "outputs": [
    {
     "name": "stdout",
     "output_type": "stream",
     "text": [
      "INFO:tensorflow:Assets written to: ./../trained_models\\emotions_pl_word2vec_sentence_own_1\\1\\assets\n"
     ]
    }
   ],
   "source": [
    "model_utils.save_model(best_model, model_name=model_name, training_number=training_number,\n",
    "                       saved_models_dir=constants.SAVED_MODEL_LOCATION,\n",
    "                       default_model_version=constants.DEFAULT_MODEL_VERSION)"
   ],
   "metadata": {
    "collapsed": false,
    "ExecuteTime": {
     "end_time": "2023-06-19T16:11:49.077705300Z",
     "start_time": "2023-06-19T16:11:48.037393500Z"
    }
   }
  },
  {
   "cell_type": "code",
   "execution_count": 44,
   "outputs": [],
   "source": [
    "w2v_model.save(f\"./word2vec/{model_name}_{training_number}.model\")"
   ],
   "metadata": {
    "collapsed": false,
    "ExecuteTime": {
     "end_time": "2023-06-19T16:14:42.388236800Z",
     "start_time": "2023-06-19T16:14:42.327822300Z"
    }
   }
  },
  {
   "cell_type": "code",
   "execution_count": 30,
   "outputs": [
    {
     "name": "stdout",
     "output_type": "stream",
     "text": [
      "250/250 [==============================] - 1s 2ms/step - loss: 1.3800 - accuracy: 0.4600\n"
     ]
    },
    {
     "data": {
      "text/plain": "[1.3799968957901, 0.46000000834465027]"
     },
     "execution_count": 30,
     "metadata": {},
     "output_type": "execute_result"
    }
   ],
   "source": [
    "# Evaluation\n",
    "best_model.evaluate(tf_test_dataset, batch_size=batch_size)"
   ],
   "metadata": {
    "collapsed": false,
    "ExecuteTime": {
     "end_time": "2023-06-19T16:12:21.137522Z",
     "start_time": "2023-06-19T16:12:20.534299300Z"
    }
   }
  },
  {
   "cell_type": "code",
   "execution_count": 31,
   "outputs": [],
   "source": [
    "class_preds = model_utils.get_class_preds(best_model, tf_test_dataset, model_returns_logits=False)"
   ],
   "metadata": {
    "collapsed": false,
    "ExecuteTime": {
     "end_time": "2023-06-19T16:12:21.771924600Z",
     "start_time": "2023-06-19T16:12:21.485526200Z"
    }
   }
  },
  {
   "cell_type": "code",
   "execution_count": 32,
   "outputs": [
    {
     "name": "stdout",
     "output_type": "stream",
     "text": [
      "Precision score:  0.46\n",
      "Recall score:  0.46\n",
      "F1 score:  0.46\n"
     ]
    }
   ],
   "source": [
    "precision, recall, f1 = model_utils.get_classification_evaluation_metrics(\n",
    "    class_actual=test_dataset['emotions'],\n",
    "    class_preds=class_preds,\n",
    "    average='micro'\n",
    ")\n",
    "\n",
    "print(f\"Precision score: \", precision)\n",
    "print(f\"Recall score: \", recall)\n",
    "print(f\"F1 score: \", f1)"
   ],
   "metadata": {
    "collapsed": false,
    "ExecuteTime": {
     "end_time": "2023-06-19T16:12:22.250678Z",
     "start_time": "2023-06-19T16:12:22.212091800Z"
    }
   }
  },
  {
   "cell_type": "code",
   "execution_count": 33,
   "outputs": [
    {
     "data": {
      "text/plain": "<Figure size 640x480 with 2 Axes>",
      "image/png": "[encoded data removed]"
     },
     "metadata": {},
     "output_type": "display_data"
    }
   ],
   "source": [
    "model_utils.plot_and_save_conf_matrix(class_actual=test_dataset['emotions'],\n",
    "                                      class_preds=class_preds,\n",
    "                                      figure_dir_path=figures_dir,\n",
    "                                      figure_filename=f\"{training_name}_confmatrix.png\")"
   ],
   "metadata": {
    "collapsed": false,
    "ExecuteTime": {
     "end_time": "2023-06-19T16:12:27.922453300Z",
     "start_time": "2023-06-19T16:12:27.680764400Z"
    }
   }
  },
  {
   "cell_type": "code",
   "execution_count": 34,
   "outputs": [
    {
     "name": "stdout",
     "output_type": "stream",
     "text": [
      "\n",
      "            BAD PREDICTION:\n",
      "            - INDEX: 6\n",
      "            - TEXT: Nie wiem, jak kilka zdań może sprawić, że ludzie, którzy je czytają, natychmiast wiedzą, co naprawdę myślę lub czuję, a nikt nie zadał sobie trudu, aby zapytać mnie w twarz.\n",
      "            - PREDICTED VALUE: 3\n",
      "            - CORRECT VALUE: 4\n",
      "            \n",
      "\n",
      "            BAD PREDICTION:\n",
      "            - INDEX: 7\n",
      "            - TEXT: Po prostu nienawidzę tego, że sprawiło, że czuję się tak paranoicznie i sprawia, że martwię się, że kiedy jest ze swoimi przyjaciółmi beze mnie, a oni mówią, jak bardzo mnie nie lubią i b zdaje sobie sprawę, że może znaleźć kogoś lepszego i bardziej odpowiedniego dla niego\n",
      "            - PREDICTED VALUE: 4\n",
      "            - CORRECT VALUE: 5\n",
      "            \n",
      "\n",
      "            BAD PREDICTION:\n",
      "            - INDEX: 13\n",
      "            - TEXT: Czuję, że jestem w tej dziwnej fazie, w której nie chcę biegać, nie lubię biegać, ale lubię osiągnięcia i próbuję uzyskać formę.\n",
      "            - PREDICTED VALUE: 1\n",
      "            - CORRECT VALUE: 2\n",
      "            \n",
      "\n",
      "            BAD PREDICTION:\n",
      "            - INDEX: 16\n",
      "            - TEXT: Czuję się bardziej chętnie, aby powiedzieć cześć przypadkowym ludziom\n",
      "            - PREDICTED VALUE: 5\n",
      "            - CORRECT VALUE: 0\n",
      "            \n",
      "\n",
      "            BAD PREDICTION:\n",
      "            - INDEX: 19\n",
      "            - TEXT: Czuję radość z powodu tego, jak poznałem twoją matkę kończącą się szerokością wysokości src wp zawartość przesyła neil Patrick Harris i opłata x\n",
      "            - PREDICTED VALUE: 3\n",
      "            - CORRECT VALUE: 0\n",
      "            \n",
      "\n",
      "            BAD PREDICTION:\n",
      "            - INDEX: 20\n",
      "            - TEXT: Chciałbym nie czuć się tak, ale czuję i nie wiem, co to jest czuję to jest dziwne dla mnie jest to, co kocham czuję\n",
      "            - PREDICTED VALUE: 2\n",
      "            - CORRECT VALUE: 5\n",
      "            \n",
      "\n",
      "            BAD PREDICTION:\n",
      "            - INDEX: 24\n",
      "            - TEXT: Mam takie uczucie, że będę wciągać z tłumionym śmiechem\n",
      "            - PREDICTED VALUE: 0\n",
      "            - CORRECT VALUE: 3\n",
      "            \n",
      "\n",
      "            BAD PREDICTION:\n",
      "            - INDEX: 25\n",
      "            - TEXT: /Czuję się napalona, /więc przynoszę swoją seks-zabawkę.\n",
      "            - PREDICTED VALUE: 3\n",
      "            - CORRECT VALUE: 1\n",
      "            \n",
      "\n",
      "            BAD PREDICTION:\n",
      "            - INDEX: 26\n",
      "            - TEXT: Czuję satysfakcję tylko przez około pięć minut, a potem znów się irytuję i muszę zrobić coś innego\n",
      "            - PREDICTED VALUE: 2\n",
      "            - CORRECT VALUE: 4\n",
      "            \n",
      "\n",
      "            BAD PREDICTION:\n",
      "            - INDEX: 29\n",
      "            - TEXT: Odmówiłem zakupu tym razem cieszyłem się uczuciem gięcia i projektu myślenia całej boskiej przędzy\n",
      "            - PREDICTED VALUE: 1\n",
      "            - CORRECT VALUE: 0\n",
      "            \n"
     ]
    }
   ],
   "source": [
    "model_utils.print_incorrectly_predicted_texts(texts=test_dataset['text_pl'],\n",
    "                                              class_actual=test_dataset['emotions'],\n",
    "                                              class_preds=class_preds)"
   ],
   "metadata": {
    "collapsed": false,
    "ExecuteTime": {
     "end_time": "2023-06-19T16:12:28.814195400Z",
     "start_time": "2023-06-19T16:12:28.788453700Z"
    }
   }
  },
  {
   "cell_type": "code",
   "execution_count": 35,
   "outputs": [
    {
     "data": {
      "text/plain": "                                                text_pl  emotions  prediction\n0     Myślę, że to prawdopodobnie dobry pomysł, wcią...         5           5\n1     Wciąż czuję, że wciąż boję się tego uczucia i ...         5           5\n2     Ostatnio czuję się dość nostalgicznie, ale to ...         1           1\n3     Jestem pod wrażeniem, że udało mi się wyciągną...         2           2\n4     Nie sądzę, że wymieniłem choć jeden uśmiech z ...         2           2\n...                                                 ...       ...         ...\n3995          Czuję się wspaniale zrelaksowany w wyniku         0           2\n3996  Czuję się zrzędliwy teraz fani futbolu obudzil...         4           3\n3997  są związani z tym, co robią, pomimo tego, jak ...         0           0\n3998  Czuję i będziesz zaskoczony zmianami, które na...         2           0\n3999  Czuję się wściekły na siebie za zdobycie ponad...         4           3\n\n[4000 rows x 3 columns]",
      "text/html": "<div>\n<style scoped>\n    .dataframe tbody tr th:only-of-type {\n        vertical-align: middle;\n    }\n\n    .dataframe tbody tr th {\n        vertical-align: top;\n    }\n\n    .dataframe thead th {\n        text-align: right;\n    }\n</style>\n<table border=\"1\" class=\"dataframe\">\n  <thead>\n    <tr style=\"text-align: right;\">\n      <th></th>\n      <th>text_pl</th>\n      <th>emotions</th>\n      <th>prediction</th>\n    </tr>\n  </thead>\n  <tbody>\n    <tr>\n      <th>0</th>\n      <td>Myślę, że to prawdopodobnie dobry pomysł, wcią...</td>\n      <td>5</td>\n      <td>5</td>\n    </tr>\n    <tr>\n      <th>1</th>\n      <td>Wciąż czuję, że wciąż boję się tego uczucia i ...</td>\n      <td>5</td>\n      <td>5</td>\n    </tr>\n    <tr>\n      <th>2</th>\n      <td>Ostatnio czuję się dość nostalgicznie, ale to ...</td>\n      <td>1</td>\n      <td>1</td>\n    </tr>\n    <tr>\n      <th>3</th>\n      <td>Jestem pod wrażeniem, że udało mi się wyciągną...</td>\n      <td>2</td>\n      <td>2</td>\n    </tr>\n    <tr>\n      <th>4</th>\n      <td>Nie sądzę, że wymieniłem choć jeden uśmiech z ...</td>\n      <td>2</td>\n      <td>2</td>\n    </tr>\n    <tr>\n      <th>...</th>\n      <td>...</td>\n      <td>...</td>\n      <td>...</td>\n    </tr>\n    <tr>\n      <th>3995</th>\n      <td>Czuję się wspaniale zrelaksowany w wyniku</td>\n      <td>0</td>\n      <td>2</td>\n    </tr>\n    <tr>\n      <th>3996</th>\n      <td>Czuję się zrzędliwy teraz fani futbolu obudzil...</td>\n      <td>4</td>\n      <td>3</td>\n    </tr>\n    <tr>\n      <th>3997</th>\n      <td>są związani z tym, co robią, pomimo tego, jak ...</td>\n      <td>0</td>\n      <td>0</td>\n    </tr>\n    <tr>\n      <th>3998</th>\n      <td>Czuję i będziesz zaskoczony zmianami, które na...</td>\n      <td>2</td>\n      <td>0</td>\n    </tr>\n    <tr>\n      <th>3999</th>\n      <td>Czuję się wściekły na siebie za zdobycie ponad...</td>\n      <td>4</td>\n      <td>3</td>\n    </tr>\n  </tbody>\n</table>\n<p>4000 rows × 3 columns</p>\n</div>"
     },
     "execution_count": 35,
     "metadata": {},
     "output_type": "execute_result"
    }
   ],
   "source": [
    "test_df = pd.DataFrame(\n",
    "    list(zip(test_dataset['text_pl'], test_dataset['emotions'], class_preds)),\n",
    "    columns=['text_pl', 'emotions', 'prediction'])\n",
    "test_df"
   ],
   "metadata": {
    "collapsed": false,
    "ExecuteTime": {
     "end_time": "2023-06-19T16:12:30.090565400Z",
     "start_time": "2023-06-19T16:12:30.042004100Z"
    }
   }
  },
  {
   "cell_type": "code",
   "execution_count": 36,
   "outputs": [
    {
     "data": {
      "text/plain": "                                                text_pl  emotions  prediction  \\\n0     Myślę, że to prawdopodobnie dobry pomysł, wcią...         5           5   \n1     Wciąż czuję, że wciąż boję się tego uczucia i ...         5           5   \n2     Ostatnio czuję się dość nostalgicznie, ale to ...         1           1   \n3     Jestem pod wrażeniem, że udało mi się wyciągną...         2           2   \n4     Nie sądzę, że wymieniłem choć jeden uśmiech z ...         2           2   \n...                                                 ...       ...         ...   \n3995          Czuję się wspaniale zrelaksowany w wyniku         0           2   \n3996  Czuję się zrzędliwy teraz fani futbolu obudzil...         4           3   \n3997  są związani z tym, co robią, pomimo tego, jak ...         0           0   \n3998  Czuję i będziesz zaskoczony zmianami, które na...         2           0   \n3999  Czuję się wściekły na siebie za zdobycie ponad...         4           3   \n\n      token_count count_belonging  correctly_predicted  \n0              13           12-17                    1  \n1              21           18-23                    1  \n2              16           12-17                    1  \n3              11            6-11                    1  \n4              17           12-17                    1  \n...           ...             ...                  ...  \n3995            6            6-11                    0  \n3996           12           12-17                    0  \n3997           22           18-23                    1  \n3998            9            6-11                    0  \n3999           15           12-17                    0  \n\n[4000 rows x 6 columns]",
      "text/html": "<div>\n<style scoped>\n    .dataframe tbody tr th:only-of-type {\n        vertical-align: middle;\n    }\n\n    .dataframe tbody tr th {\n        vertical-align: top;\n    }\n\n    .dataframe thead th {\n        text-align: right;\n    }\n</style>\n<table border=\"1\" class=\"dataframe\">\n  <thead>\n    <tr style=\"text-align: right;\">\n      <th></th>\n      <th>text_pl</th>\n      <th>emotions</th>\n      <th>prediction</th>\n      <th>token_count</th>\n      <th>count_belonging</th>\n      <th>correctly_predicted</th>\n    </tr>\n  </thead>\n  <tbody>\n    <tr>\n      <th>0</th>\n      <td>Myślę, że to prawdopodobnie dobry pomysł, wcią...</td>\n      <td>5</td>\n      <td>5</td>\n      <td>13</td>\n      <td>12-17</td>\n      <td>1</td>\n    </tr>\n    <tr>\n      <th>1</th>\n      <td>Wciąż czuję, że wciąż boję się tego uczucia i ...</td>\n      <td>5</td>\n      <td>5</td>\n      <td>21</td>\n      <td>18-23</td>\n      <td>1</td>\n    </tr>\n    <tr>\n      <th>2</th>\n      <td>Ostatnio czuję się dość nostalgicznie, ale to ...</td>\n      <td>1</td>\n      <td>1</td>\n      <td>16</td>\n      <td>12-17</td>\n      <td>1</td>\n    </tr>\n    <tr>\n      <th>3</th>\n      <td>Jestem pod wrażeniem, że udało mi się wyciągną...</td>\n      <td>2</td>\n      <td>2</td>\n      <td>11</td>\n      <td>6-11</td>\n      <td>1</td>\n    </tr>\n    <tr>\n      <th>4</th>\n      <td>Nie sądzę, że wymieniłem choć jeden uśmiech z ...</td>\n      <td>2</td>\n      <td>2</td>\n      <td>17</td>\n      <td>12-17</td>\n      <td>1</td>\n    </tr>\n    <tr>\n      <th>...</th>\n      <td>...</td>\n      <td>...</td>\n      <td>...</td>\n      <td>...</td>\n      <td>...</td>\n      <td>...</td>\n    </tr>\n    <tr>\n      <th>3995</th>\n      <td>Czuję się wspaniale zrelaksowany w wyniku</td>\n      <td>0</td>\n      <td>2</td>\n      <td>6</td>\n      <td>6-11</td>\n      <td>0</td>\n    </tr>\n    <tr>\n      <th>3996</th>\n      <td>Czuję się zrzędliwy teraz fani futbolu obudzil...</td>\n      <td>4</td>\n      <td>3</td>\n      <td>12</td>\n      <td>12-17</td>\n      <td>0</td>\n    </tr>\n    <tr>\n      <th>3997</th>\n      <td>są związani z tym, co robią, pomimo tego, jak ...</td>\n      <td>0</td>\n      <td>0</td>\n      <td>22</td>\n      <td>18-23</td>\n      <td>1</td>\n    </tr>\n    <tr>\n      <th>3998</th>\n      <td>Czuję i będziesz zaskoczony zmianami, które na...</td>\n      <td>2</td>\n      <td>0</td>\n      <td>9</td>\n      <td>6-11</td>\n      <td>0</td>\n    </tr>\n    <tr>\n      <th>3999</th>\n      <td>Czuję się wściekły na siebie za zdobycie ponad...</td>\n      <td>4</td>\n      <td>3</td>\n      <td>15</td>\n      <td>12-17</td>\n      <td>0</td>\n    </tr>\n  </tbody>\n</table>\n<p>4000 rows × 6 columns</p>\n</div>"
     },
     "execution_count": 36,
     "metadata": {},
     "output_type": "execute_result"
    }
   ],
   "source": [
    "def map_token_counts(row):\n",
    "    return len(row['text_pl'].split())\n",
    "\n",
    "\n",
    "def map_count_belonging(row, divider):\n",
    "    int_division_result = int(row['token_count'] / divider) + 1\n",
    "    lower_boundary = divider * int_division_result - divider\n",
    "    upper_boundary = divider * int_division_result - 1\n",
    "    return f\"{lower_boundary}-{upper_boundary}\"\n",
    "\n",
    "\n",
    "def map_correctly_predicted(row):\n",
    "    return int(row['emotions'] == row['prediction'])\n",
    "\n",
    "\n",
    "test_df['token_count'] = test_df.apply(lambda row: map_token_counts(row), axis=1)\n",
    "test_df['count_belonging'] = test_df.apply(lambda row: map_count_belonging(row, divider=6), axis=1)\n",
    "test_df['correctly_predicted'] = test_df.apply(lambda row: map_correctly_predicted(row), axis=1)\n",
    "test_df"
   ],
   "metadata": {
    "collapsed": false,
    "ExecuteTime": {
     "end_time": "2023-06-19T16:12:30.557672400Z",
     "start_time": "2023-06-19T16:12:30.466393400Z"
    }
   }
  },
  {
   "cell_type": "code",
   "execution_count": 37,
   "outputs": [],
   "source": [
    "test_df = test_df.drop(test_df[test_df.token_count > 41].index)"
   ],
   "metadata": {
    "collapsed": false,
    "ExecuteTime": {
     "end_time": "2023-06-19T16:12:31.071741300Z",
     "start_time": "2023-06-19T16:12:31.054718300Z"
    }
   }
  },
  {
   "cell_type": "code",
   "execution_count": 38,
   "outputs": [],
   "source": [
    "test_df = test_df.sort_values(by=['token_count']).reset_index(drop=True)"
   ],
   "metadata": {
    "collapsed": false,
    "ExecuteTime": {
     "end_time": "2023-06-19T16:12:31.492555200Z",
     "start_time": "2023-06-19T16:12:31.480041600Z"
    }
   }
  },
  {
   "cell_type": "code",
   "execution_count": 39,
   "outputs": [
    {
     "data": {
      "text/plain": "<Figure size 640x480 with 1 Axes>",
      "image/png": "[encoded data removed]"
     },
     "metadata": {},
     "output_type": "display_data"
    }
   ],
   "source": [
    "data = test_df['count_belonging']\n",
    "data.value_counts(sort=False).plot.bar()\n",
    "plt.xlabel('Token count range')\n",
    "plt.ylabel('Count')\n",
    "plt.savefig(os.path.join(figures_dir, f'{training_name}_counts_per_range.png'))\n",
    "plt.show()"
   ],
   "metadata": {
    "collapsed": false,
    "ExecuteTime": {
     "end_time": "2023-06-19T16:12:32.028124400Z",
     "start_time": "2023-06-19T16:12:31.890784400Z"
    }
   }
  },
  {
   "cell_type": "code",
   "execution_count": 40,
   "outputs": [],
   "source": [
    "range_to_valid_predictions_count_dict = {'0-5': 0, '6-11': 0, '12-17': 0, '18-23': 0, '24-29': 0, '30-35': 0,\n",
    "                                         '36-41': 0}\n",
    "range_to_element_count_dict = {'0-5': 0, '6-11': 0, '12-17': 0, '18-23': 0, '24-29': 0, '30-35': 0, '36-41': 0}\n",
    "range_to_pred_accuracy_dict = {'0-5': 0., '6-11': 0., '12-17': 0., '18-23': 0., '24-29': 0., '30-35': 0., '36-41': 0.}"
   ],
   "metadata": {
    "collapsed": false,
    "ExecuteTime": {
     "end_time": "2023-06-19T16:12:32.838626400Z",
     "start_time": "2023-06-19T16:12:32.810087800Z"
    }
   }
  },
  {
   "cell_type": "code",
   "execution_count": 41,
   "outputs": [
    {
     "name": "stdout",
     "output_type": "stream",
     "text": [
      "Correct predictions count:  {'0-5': 220, '6-11': 573, '12-17': 487, '18-23': 290, '24-29': 142, '30-35': 75, '36-41': 32}\n",
      "Element count:  {'0-5': 386, '6-11': 1106, '12-17': 1064, '18-23': 702, '24-29': 383, '30-35': 197, '36-41': 93}\n",
      "Accuracies:  {'0-5': 0.5699481865284974, '6-11': 0.5180831826401446, '12-17': 0.45770676691729323, '18-23': 0.4131054131054131, '24-29': 0.370757180156658, '30-35': 0.38071065989847713, '36-41': 0.34408602150537637}\n"
     ]
    }
   ],
   "source": [
    "for _, row in test_df.iterrows():\n",
    "    count_belonging = row['count_belonging']\n",
    "\n",
    "    range_to_element_count_dict[count_belonging] = range_to_element_count_dict[count_belonging] + 1\n",
    "\n",
    "    if row['correctly_predicted']:\n",
    "        range_to_valid_predictions_count_dict[count_belonging] = range_to_valid_predictions_count_dict[\n",
    "                                                                     count_belonging] + 1\n",
    "\n",
    "for key in range_to_pred_accuracy_dict.keys():\n",
    "    range_to_pred_accuracy_dict[key] = range_to_valid_predictions_count_dict[key] / range_to_element_count_dict[key]\n",
    "\n",
    "print(\"Correct predictions count: \", range_to_valid_predictions_count_dict)\n",
    "print(\"Element count: \", range_to_element_count_dict)\n",
    "print(\"Accuracies: \", range_to_pred_accuracy_dict)"
   ],
   "metadata": {
    "collapsed": false,
    "ExecuteTime": {
     "end_time": "2023-06-19T16:12:33.382371800Z",
     "start_time": "2023-06-19T16:12:33.286408300Z"
    }
   }
  },
  {
   "cell_type": "code",
   "execution_count": 42,
   "outputs": [
    {
     "data": {
      "text/plain": "<Figure size 640x480 with 1 Axes>",
      "image/png": "[encoded data removed]"
     },
     "metadata": {},
     "output_type": "display_data"
    }
   ],
   "source": [
    "import matplotlib.ticker as mtick\n",
    "\n",
    "plt.bar(['0-5', '6-11', '12-17', '18-23', '24-29', '30-35', '36-41'],\n",
    "        [val for val in range_to_pred_accuracy_dict.values()])\n",
    "plt.xlabel('Token count range')\n",
    "plt.ylabel('Accuracy')\n",
    "plt.gca().yaxis.set_major_formatter(mtick.PercentFormatter(xmax=1.0))\n",
    "plt.savefig(os.path.join(figures_dir, f'{training_name}_accuracies_per_range.png'))\n",
    "plt.show()"
   ],
   "metadata": {
    "collapsed": false,
    "ExecuteTime": {
     "end_time": "2023-06-19T16:12:34.461069700Z",
     "start_time": "2023-06-19T16:12:34.346632200Z"
    }
   }
  },
  {
   "cell_type": "code",
   "execution_count": null,
   "outputs": [],
   "source": [],
   "metadata": {
    "collapsed": false
   }
  }
 ],
 "metadata": {
  "kernelspec": {
   "display_name": "nlp",
   "language": "python",
   "name": "python3"
  },
  "language_info": {
   "codemirror_mode": {
    "name": "ipython",
    "version": 3
   },
   "file_extension": ".py",
   "mimetype": "text/x-python",
   "name": "python",
   "nbconvert_exporter": "python",
   "pygments_lexer": "ipython3",
   "version": "3.10.11"
  },
  "orig_nbformat": 4
 },
 "nbformat": 4,
 "nbformat_minor": 2
}
