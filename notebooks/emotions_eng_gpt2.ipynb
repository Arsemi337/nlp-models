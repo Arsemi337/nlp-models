{
 "cells": [
  {
   "cell_type": "code",
   "execution_count": 1,
   "metadata": {
    "ExecuteTime": {
     "end_time": "2023-05-23T15:06:04.335790600Z",
     "start_time": "2023-05-23T15:06:01.612332300Z"
    },
    "collapsed": false
   },
   "outputs": [],
   "source": [
    "import os\n",
    "\n",
    "import pandas as pd\n",
    "import tensorflow as tf\n",
    "import matplotlib.pyplot as plt\n",
    "import numpy as np"
   ]
  },
  {
   "cell_type": "code",
   "execution_count": 2,
   "metadata": {
    "ExecuteTime": {
     "end_time": "2023-05-23T15:06:04.447375900Z",
     "start_time": "2023-05-23T15:06:04.337798Z"
    },
    "collapsed": false
   },
   "outputs": [
    {
     "data": {
      "text/html": [
       "<div>\n",
       "<style scoped>\n",
       "    .dataframe tbody tr th:only-of-type {\n",
       "        vertical-align: middle;\n",
       "    }\n",
       "\n",
       "    .dataframe tbody tr th {\n",
       "        vertical-align: top;\n",
       "    }\n",
       "\n",
       "    .dataframe thead th {\n",
       "        text-align: right;\n",
       "    }\n",
       "</style>\n",
       "<table border=\"1\" class=\"dataframe\">\n",
       "  <thead>\n",
       "    <tr style=\"text-align: right;\">\n",
       "      <th></th>\n",
       "      <th>text</th>\n",
       "      <th>emotions</th>\n",
       "    </tr>\n",
       "  </thead>\n",
       "  <tbody>\n",
       "    <tr>\n",
       "      <th>27383</th>\n",
       "      <td>i feel awful about it too because it s my job ...</td>\n",
       "      <td>sadness</td>\n",
       "    </tr>\n",
       "    <tr>\n",
       "      <th>110083</th>\n",
       "      <td>im alone i feel awful</td>\n",
       "      <td>sadness</td>\n",
       "    </tr>\n",
       "    <tr>\n",
       "      <th>140764</th>\n",
       "      <td>ive probably mentioned this before but i reall...</td>\n",
       "      <td>joy</td>\n",
       "    </tr>\n",
       "    <tr>\n",
       "      <th>100071</th>\n",
       "      <td>i was feeling a little low few days back</td>\n",
       "      <td>sadness</td>\n",
       "    </tr>\n",
       "    <tr>\n",
       "      <th>2837</th>\n",
       "      <td>i beleive that i am much more sensitive to oth...</td>\n",
       "      <td>love</td>\n",
       "    </tr>\n",
       "    <tr>\n",
       "      <th>...</th>\n",
       "      <td>...</td>\n",
       "      <td>...</td>\n",
       "    </tr>\n",
       "    <tr>\n",
       "      <th>566</th>\n",
       "      <td>that was what i felt when i was finally accept...</td>\n",
       "      <td>joy</td>\n",
       "    </tr>\n",
       "    <tr>\n",
       "      <th>36236</th>\n",
       "      <td>i take every day as it comes i m just focussin...</td>\n",
       "      <td>fear</td>\n",
       "    </tr>\n",
       "    <tr>\n",
       "      <th>76229</th>\n",
       "      <td>i just suddenly feel that everything was fake</td>\n",
       "      <td>sadness</td>\n",
       "    </tr>\n",
       "    <tr>\n",
       "      <th>131640</th>\n",
       "      <td>im feeling more eager than ever to claw back w...</td>\n",
       "      <td>joy</td>\n",
       "    </tr>\n",
       "    <tr>\n",
       "      <th>64703</th>\n",
       "      <td>i give you plenty of attention even when i fee...</td>\n",
       "      <td>sadness</td>\n",
       "    </tr>\n",
       "  </tbody>\n",
       "</table>\n",
       "<p>416809 rows × 2 columns</p>\n",
       "</div>"
      ],
      "text/plain": [
       "                                                     text emotions\n",
       "27383   i feel awful about it too because it s my job ...  sadness\n",
       "110083                              im alone i feel awful  sadness\n",
       "140764  ive probably mentioned this before but i reall...      joy\n",
       "100071           i was feeling a little low few days back  sadness\n",
       "2837    i beleive that i am much more sensitive to oth...     love\n",
       "...                                                   ...      ...\n",
       "566     that was what i felt when i was finally accept...      joy\n",
       "36236   i take every day as it comes i m just focussin...     fear\n",
       "76229       i just suddenly feel that everything was fake  sadness\n",
       "131640  im feeling more eager than ever to claw back w...      joy\n",
       "64703   i give you plenty of attention even when i fee...  sadness\n",
       "\n",
       "[416809 rows x 2 columns]"
      ]
     },
     "execution_count": 2,
     "metadata": {},
     "output_type": "execute_result"
    }
   ],
   "source": [
    "df = pd.read_pickle(\"../../data/dair-ai-emotions/merged_training.pkl\")\n",
    "df"
   ]
  },
  {
   "cell_type": "code",
   "execution_count": 3,
   "metadata": {
    "ExecuteTime": {
     "end_time": "2023-05-23T15:06:04.618506600Z",
     "start_time": "2023-05-23T15:06:04.446150500Z"
    },
    "collapsed": false
   },
   "outputs": [],
   "source": [
    "surprise_count = len(df.loc[df['emotions'] == 'surprise'])\n",
    "\n",
    "joy = df.loc[df['emotions'] == 'joy'].iloc[:surprise_count]\n",
    "sadness = df.loc[df['emotions'] == 'sadness'].iloc[:surprise_count]\n",
    "anger = df.loc[df['emotions'] == 'anger'].iloc[:surprise_count]\n",
    "fear = df.loc[df['emotions'] == 'fear'].iloc[:surprise_count]\n",
    "love = df.loc[df['emotions'] == 'love'].iloc[:surprise_count]\n",
    "surprise = df.loc[df['emotions'] == 'surprise']"
   ]
  },
  {
   "cell_type": "code",
   "execution_count": 4,
   "metadata": {
    "ExecuteTime": {
     "end_time": "2023-05-23T15:06:04.710861500Z",
     "start_time": "2023-05-23T15:06:04.621506300Z"
    },
    "collapsed": false
   },
   "outputs": [
    {
     "data": {
      "text/html": [
       "<div>\n",
       "<style scoped>\n",
       "    .dataframe tbody tr th:only-of-type {\n",
       "        vertical-align: middle;\n",
       "    }\n",
       "\n",
       "    .dataframe tbody tr th {\n",
       "        vertical-align: top;\n",
       "    }\n",
       "\n",
       "    .dataframe thead th {\n",
       "        text-align: right;\n",
       "    }\n",
       "</style>\n",
       "<table border=\"1\" class=\"dataframe\">\n",
       "  <thead>\n",
       "    <tr style=\"text-align: right;\">\n",
       "      <th></th>\n",
       "      <th>text</th>\n",
       "      <th>emotions</th>\n",
       "    </tr>\n",
       "  </thead>\n",
       "  <tbody>\n",
       "    <tr>\n",
       "      <th>140764</th>\n",
       "      <td>i have ever posted on grief boards or where ev...</td>\n",
       "      <td>anger</td>\n",
       "    </tr>\n",
       "    <tr>\n",
       "      <th>10714</th>\n",
       "      <td>im not the only one feeling curious as i stumb...</td>\n",
       "      <td>surprise</td>\n",
       "    </tr>\n",
       "    <tr>\n",
       "      <th>35177</th>\n",
       "      <td>i really feel like the funny turn was probably...</td>\n",
       "      <td>surprise</td>\n",
       "    </tr>\n",
       "    <tr>\n",
       "      <th>122177</th>\n",
       "      <td>i looked back through all my past experiences ...</td>\n",
       "      <td>surprise</td>\n",
       "    </tr>\n",
       "    <tr>\n",
       "      <th>98659</th>\n",
       "      <td>i share but instead question the soundness of ...</td>\n",
       "      <td>sadness</td>\n",
       "    </tr>\n",
       "    <tr>\n",
       "      <th>...</th>\n",
       "      <td>...</td>\n",
       "      <td>...</td>\n",
       "    </tr>\n",
       "    <tr>\n",
       "      <th>10560</th>\n",
       "      <td>i could go through my pictures and do this wit...</td>\n",
       "      <td>love</td>\n",
       "    </tr>\n",
       "    <tr>\n",
       "      <th>5282</th>\n",
       "      <td>i read it in minutes and not feel so curious a...</td>\n",
       "      <td>surprise</td>\n",
       "    </tr>\n",
       "    <tr>\n",
       "      <th>6187</th>\n",
       "      <td>i feel hated a href http predmore</td>\n",
       "      <td>anger</td>\n",
       "    </tr>\n",
       "    <tr>\n",
       "      <th>6813</th>\n",
       "      <td>i want to trust you and feel loved by you but ...</td>\n",
       "      <td>love</td>\n",
       "    </tr>\n",
       "    <tr>\n",
       "      <th>1580</th>\n",
       "      <td>i woke up from the nap of epic proportions i w...</td>\n",
       "      <td>sadness</td>\n",
       "    </tr>\n",
       "  </tbody>\n",
       "</table>\n",
       "<p>89832 rows × 2 columns</p>\n",
       "</div>"
      ],
      "text/plain": [
       "                                                     text  emotions\n",
       "140764  i have ever posted on grief boards or where ev...     anger\n",
       "10714   im not the only one feeling curious as i stumb...  surprise\n",
       "35177   i really feel like the funny turn was probably...  surprise\n",
       "122177  i looked back through all my past experiences ...  surprise\n",
       "98659   i share but instead question the soundness of ...   sadness\n",
       "...                                                   ...       ...\n",
       "10560   i could go through my pictures and do this wit...      love\n",
       "5282    i read it in minutes and not feel so curious a...  surprise\n",
       "6187                    i feel hated a href http predmore     anger\n",
       "6813    i want to trust you and feel loved by you but ...      love\n",
       "1580    i woke up from the nap of epic proportions i w...   sadness\n",
       "\n",
       "[89832 rows x 2 columns]"
      ]
     },
     "execution_count": 4,
     "metadata": {},
     "output_type": "execute_result"
    }
   ],
   "source": [
    "frames = [joy, sadness, anger, fear, love, surprise]\n",
    "equal_dataset = pd.concat(frames)\n",
    "\n",
    "np.random.shuffle(equal_dataset.values)\n",
    "equal_dataset"
   ]
  },
  {
   "cell_type": "code",
   "execution_count": 5,
   "metadata": {
    "ExecuteTime": {
     "end_time": "2023-05-23T15:06:04.737127800Z",
     "start_time": "2023-05-23T15:06:04.712866500Z"
    },
    "collapsed": false
   },
   "outputs": [],
   "source": [
    "# It is only fine-tuning, thus 400k data samples is a complete overkill. It can be reduced to 40k.\n",
    "df = equal_dataset.iloc[:40000]"
   ]
  },
  {
   "cell_type": "code",
   "execution_count": 6,
   "metadata": {
    "ExecuteTime": {
     "end_time": "2023-05-23T15:06:04.881699300Z",
     "start_time": "2023-05-23T15:06:04.727884600Z"
    },
    "collapsed": false
   },
   "outputs": [
    {
     "data": {
      "image/png": "[encoded data removed]",
      "text/plain": [
       "<Figure size 640x480 with 1 Axes>"
      ]
     },
     "metadata": {},
     "output_type": "display_data"
    }
   ],
   "source": [
    "data = df[\"emotions\"]\n",
    "data.value_counts().plot.bar()\n",
    "plt.show()"
   ]
  },
  {
   "cell_type": "code",
   "execution_count": 7,
   "metadata": {
    "ExecuteTime": {
     "end_time": "2023-05-23T15:06:04.881699300Z",
     "start_time": "2023-05-23T15:06:04.853155200Z"
    },
    "collapsed": false
   },
   "outputs": [],
   "source": [
    "ordered_class_labels = {\n",
    "    \"joy\": 0,\n",
    "    \"love\": 1,\n",
    "    \"surprise\": 2,\n",
    "    \"sadness\": 3,\n",
    "    \"anger\": 4,\n",
    "    \"fear\": 5,\n",
    "}"
   ]
  },
  {
   "cell_type": "code",
   "execution_count": 8,
   "metadata": {
    "ExecuteTime": {
     "end_time": "2023-05-23T15:06:04.910818900Z",
     "start_time": "2023-05-23T15:06:04.869187900Z"
    },
    "collapsed": false
   },
   "outputs": [],
   "source": [
    "df = df.replace({\"emotions\": ordered_class_labels})"
   ]
  },
  {
   "cell_type": "code",
   "execution_count": 9,
   "metadata": {
    "ExecuteTime": {
     "end_time": "2023-05-23T15:06:05.364319700Z",
     "start_time": "2023-05-23T15:06:04.900781100Z"
    },
    "collapsed": false
   },
   "outputs": [
    {
     "data": {
      "text/plain": [
       "Dataset({\n",
       "    features: ['text', 'emotions'],\n",
       "    num_rows: 40000\n",
       "})"
      ]
     },
     "execution_count": 9,
     "metadata": {},
     "output_type": "execute_result"
    }
   ],
   "source": [
    "from datasets import Dataset\n",
    "\n",
    "raw_dataset = Dataset.from_pandas(df).remove_columns(\"__index_level_0__\")\n",
    "raw_dataset"
   ]
  },
  {
   "cell_type": "code",
   "execution_count": 10,
   "metadata": {
    "ExecuteTime": {
     "end_time": "2023-05-23T15:06:07.767334300Z",
     "start_time": "2023-05-23T15:06:05.366840400Z"
    },
    "collapsed": false
   },
   "outputs": [],
   "source": [
    "from transformers import AutoTokenizer\n",
    "\n",
    "MAX_TOKENS = 128\n",
    "EOS_TOKEN = \"<|endoftext|>\"\n",
    "checkpoint = \"gpt2\"\n",
    "\n",
    "tokenizer = AutoTokenizer.from_pretrained(\n",
    "    checkpoint,\n",
    "    eos_token=EOS_TOKEN,\n",
    "    pad_token=EOS_TOKEN,\n",
    "    max_length=MAX_TOKENS,\n",
    "    is_split_into_words=True,\n",
    ")\n",
    "\n",
    "tokenizer.padding_side = \"left\""
   ]
  },
  {
   "cell_type": "code",
   "execution_count": 11,
   "metadata": {
    "ExecuteTime": {
     "end_time": "2023-05-23T15:06:07.781852700Z",
     "start_time": "2023-05-23T15:06:07.767334300Z"
    },
    "collapsed": false
   },
   "outputs": [],
   "source": [
    "def tokenize_function(examples):\n",
    "    examples = [ex + EOS_TOKEN for ex in examples['text']]\n",
    "\n",
    "    output = tokenizer(\n",
    "        examples,\n",
    "        add_special_tokens=True,\n",
    "        max_length=MAX_TOKENS,\n",
    "        truncation=True,\n",
    "        padding=True,\n",
    "    )\n",
    "\n",
    "    # truncate input ids and attention mask to account for label shift\n",
    "    output[\"input_ids\"] = [x[:-1] for x in output[\"input_ids\"]]\n",
    "    output[\"attention_mask\"] = [x[:-1] for x in output[\"attention_mask\"]]\n",
    "    return output"
   ]
  },
  {
   "cell_type": "code",
   "execution_count": 12,
   "metadata": {
    "ExecuteTime": {
     "end_time": "2023-05-23T15:06:09.178376900Z",
     "start_time": "2023-05-23T15:06:07.782858600Z"
    },
    "collapsed": false
   },
   "outputs": [
    {
     "data": {
      "application/vnd.jupyter.widget-view+json": {
       "model_id": "d1998fe3672b4bf6bcc05bfe6ebcb61b",
       "version_major": 2,
       "version_minor": 0
      },
      "text/plain": [
       "Map:   0%|          | 0/40000 [00:00<?, ? examples/s]"
      ]
     },
     "metadata": {},
     "output_type": "display_data"
    }
   ],
   "source": [
    "tokenized_dataset = raw_dataset.map(tokenize_function, batched=True)"
   ]
  },
  {
   "cell_type": "code",
   "execution_count": 13,
   "metadata": {
    "ExecuteTime": {
     "end_time": "2023-05-23T15:06:09.237261500Z",
     "start_time": "2023-05-23T15:06:09.182371100Z"
    },
    "collapsed": false
   },
   "outputs": [],
   "source": [
    "# Train set: 80%, Validation set: 10%, Test set: 10%\n",
    "split_train_val_and_test_dataset = tokenized_dataset.train_test_split(train_size=0.8)\n",
    "split_val_test_dataset = split_train_val_and_test_dataset[\"test\"].train_test_split(test_size=0.5)\n",
    "\n",
    "tokenized_train_dataset = split_train_val_and_test_dataset[\"train\"]\n",
    "tokenized_val_dataset = split_val_test_dataset[\"train\"]\n",
    "tokenized_test_dataset = split_val_test_dataset[\"test\"]"
   ]
  },
  {
   "cell_type": "code",
   "execution_count": 14,
   "metadata": {
    "ExecuteTime": {
     "end_time": "2023-05-23T15:06:10.987136500Z",
     "start_time": "2023-05-23T15:06:09.216029600Z"
    },
    "collapsed": false
   },
   "outputs": [
    {
     "name": "stderr",
     "output_type": "stream",
     "text": [
      "C:\\Users\\Karol\\anaconda3\\envs\\ml-tf2gpu\\lib\\site-packages\\datasets\\arrow_dataset.py:388: FutureWarning: The output of `to_tf_dataset` will change when a passing single element list for `labels` or `columns` in the next datasets version. To return a tuple structure rather than dict, pass a single string.\n",
      "Old behaviour: columns=['a'], labels=['labels'] -> (tf.Tensor, tf.Tensor)  \n",
      "             : columns='a', labels='labels' -> (tf.Tensor, tf.Tensor)  \n",
      "New behaviour: columns=['a'],labels=['labels'] -> ({'a': tf.Tensor}, {'labels': tf.Tensor})  \n",
      "             : columns='a', labels='labels' -> (tf.Tensor, tf.Tensor) \n",
      "  warnings.warn(\n",
      "You're using a GPT2TokenizerFast tokenizer. Please note that with a fast tokenizer, using the `__call__` method is faster than using a method to encode the text followed by a call to the `pad` method to get a padded encoding.\n"
     ]
    }
   ],
   "source": [
    "from transformers import DataCollatorWithPadding\n",
    "\n",
    "batch_size = 16\n",
    "\n",
    "\n",
    "def convert_to_tf_dataset(hf_dataset, collator, batch_size=batch_size, shuffle=False):\n",
    "    return hf_dataset.to_tf_dataset(\n",
    "        columns=[\"input_ids\", \"attention_mask\"],\n",
    "        label_cols=[\"emotions\"],\n",
    "        collate_fn=collator,\n",
    "        shuffle=shuffle,\n",
    "        batch_size=batch_size,\n",
    "    )\n",
    "\n",
    "\n",
    "data_collator = DataCollatorWithPadding(tokenizer=tokenizer, return_tensors=\"tf\")\n",
    "\n",
    "tf_train_dataset = convert_to_tf_dataset(hf_dataset=tokenized_train_dataset, collator=data_collator)\n",
    "tf_val_dataset = convert_to_tf_dataset(hf_dataset=tokenized_val_dataset, collator=data_collator)\n",
    "tf_test_dataset = convert_to_tf_dataset(hf_dataset=tokenized_test_dataset, collator=data_collator)"
   ]
  },
  {
   "cell_type": "code",
   "execution_count": 15,
   "metadata": {
    "ExecuteTime": {
     "end_time": "2023-05-23T15:06:11.327876800Z",
     "start_time": "2023-05-23T15:06:10.990143600Z"
    },
    "collapsed": false
   },
   "outputs": [],
   "source": [
    "import Constants\n",
    "\n",
    "# Callbacks\n",
    "training_number = 1\n",
    "model_name = \"emotions_eng_gpt2\"\n",
    "training_folder = f\"training_{training_number}\"\n",
    "checkpoint_filename = \"cp-{epoch:04d}.ckpt\"\n",
    "training_path = os.path.join(Constants.TRAINING_CHECKPOINTS_PATH, model_name, training_folder)\n",
    "checkpoint_path = os.path.join(training_path, checkpoint_filename)\n",
    "checkpoint_cb = tf.keras.callbacks.ModelCheckpoint(checkpoint_path, verbose=1, save_weights_only=True)\n",
    "\n",
    "early_stop_cb = tf.keras.callbacks.EarlyStopping(patience=3)"
   ]
  },
  {
   "cell_type": "code",
   "execution_count": 16,
   "metadata": {
    "ExecuteTime": {
     "end_time": "2023-05-23T15:06:11.343967500Z",
     "start_time": "2023-05-23T15:06:11.326876Z"
    },
    "collapsed": false
   },
   "outputs": [
    {
     "data": {
      "text/plain": [
       "'../training_checkpoints\\\\emotions_eng_gpt2\\\\training_1\\\\cp-{epoch:04d}.ckpt'"
      ]
     },
     "execution_count": 16,
     "metadata": {},
     "output_type": "execute_result"
    }
   ],
   "source": [
    "checkpoint_path"
   ]
  },
  {
   "cell_type": "code",
   "execution_count": 17,
   "metadata": {
    "ExecuteTime": {
     "end_time": "2023-05-23T15:06:11.386144Z",
     "start_time": "2023-05-23T15:06:11.342965300Z"
    },
    "collapsed": false
   },
   "outputs": [],
   "source": [
    "from tensorflow.keras.optimizers.schedules import PolynomialDecay\n",
    "from tensorflow.keras.optimizers import Adam\n",
    "\n",
    "num_epochs = 10\n",
    "# The number of training steps is the number of samples in the dataset, divided by the batch size then multiplied\n",
    "# by the total number of epochs. Note that the tf_train_dataset here is a batched tf.data.Dataset,\n",
    "# not the original Hugging Face Dataset, so its len() is already num_samples // batch_size.\n",
    "num_train_steps = len(tf_train_dataset) * num_epochs\n",
    "lr_scheduler = PolynomialDecay(\n",
    "    initial_learning_rate=5e-5, end_learning_rate=0.0, decay_steps=num_train_steps\n",
    ")\n",
    "\n",
    "optimizer = Adam(learning_rate=lr_scheduler)"
   ]
  },
  {
   "cell_type": "code",
   "execution_count": 18,
   "metadata": {
    "ExecuteTime": {
     "end_time": "2023-05-23T15:06:13.274582Z",
     "start_time": "2023-05-23T15:06:11.360493800Z"
    },
    "collapsed": false
   },
   "outputs": [
    {
     "name": "stderr",
     "output_type": "stream",
     "text": [
      "All model checkpoint layers were used when initializing TFGPT2ForSequenceClassification.\n",
      "\n",
      "Some layers of TFGPT2ForSequenceClassification were not initialized from the model checkpoint at gpt2 and are newly initialized: ['score']\n",
      "You should probably TRAIN this model on a down-stream task to be able to use it for predictions and inference.\n"
     ]
    }
   ],
   "source": [
    "from transformers import TFAutoModelForSequenceClassification\n",
    "\n",
    "model = TFAutoModelForSequenceClassification.from_pretrained(checkpoint, pad_token_id=tokenizer.pad_token_id, eos_token_id=tokenizer.eos_token_id, use_cache=False, num_labels=6)"
   ]
  },
  {
   "cell_type": "code",
   "execution_count": 19,
   "metadata": {
    "ExecuteTime": {
     "end_time": "2023-05-23T15:06:13.314163700Z",
     "start_time": "2023-05-23T15:06:13.274582Z"
    },
    "collapsed": false
   },
   "outputs": [
    {
     "name": "stdout",
     "output_type": "stream",
     "text": [
      "Model: \"tfgp_t2for_sequence_classification\"\n",
      "_________________________________________________________________\n",
      "Layer (type)                 Output Shape              Param #   \n",
      "=================================================================\n",
      "score (Dense)                multiple                  4608      \n",
      "_________________________________________________________________\n",
      "transformer (TFGPT2MainLayer multiple                  124439808 \n",
      "=================================================================\n",
      "Total params: 124,444,416\n",
      "Trainable params: 124,444,416\n",
      "Non-trainable params: 0\n",
      "_________________________________________________________________\n"
     ]
    }
   ],
   "source": [
    "model.summary()"
   ]
  },
  {
   "cell_type": "code",
   "execution_count": 20,
   "metadata": {
    "ExecuteTime": {
     "end_time": "2023-05-23T15:06:13.333851100Z",
     "start_time": "2023-05-23T15:06:13.290128200Z"
    },
    "collapsed": false
   },
   "outputs": [],
   "source": [
    "# Compile\n",
    "loss = tf.keras.losses.SparseCategoricalCrossentropy(from_logits=True)\n",
    "metrics = [\"accuracy\"]\n",
    "model.compile(optimizer=optimizer, loss=loss, metrics=metrics)"
   ]
  },
  {
   "cell_type": "code",
   "execution_count": 21,
   "metadata": {
    "ExecuteTime": {
     "end_time": "2023-05-23T15:34:46.324856500Z",
     "start_time": "2023-05-23T15:06:13.308161Z"
    },
    "collapsed": false
   },
   "outputs": [
    {
     "name": "stdout",
     "output_type": "stream",
     "text": [
      "Epoch 1/10\n",
      "2000/2000 [==============================] - 256s 121ms/step - loss: 0.7270 - accuracy: 0.7108 - val_loss: 0.2735 - val_accuracy: 0.9020\n",
      "\n",
      "Epoch 00001: saving model to ../training_checkpoints\\emotions_eng_gpt2\\training_1\\cp-0001.ckpt\n",
      "Epoch 2/10\n",
      "2000/2000 [==============================] - 240s 120ms/step - loss: 0.2492 - accuracy: 0.9020 - val_loss: 0.2451 - val_accuracy: 0.9053\n",
      "\n",
      "Epoch 00002: saving model to ../training_checkpoints\\emotions_eng_gpt2\\training_1\\cp-0002.ckpt\n",
      "Epoch 3/10\n",
      "2000/2000 [==============================] - 240s 120ms/step - loss: 0.2196 - accuracy: 0.9114 - val_loss: 0.2403 - val_accuracy: 0.9032\n",
      "\n",
      "Epoch 00003: saving model to ../training_checkpoints\\emotions_eng_gpt2\\training_1\\cp-0003.ckpt\n",
      "Epoch 4/10\n",
      "2000/2000 [==============================] - 240s 120ms/step - loss: 0.2012 - accuracy: 0.9168 - val_loss: 0.2234 - val_accuracy: 0.9080\n",
      "\n",
      "Epoch 00004: saving model to ../training_checkpoints\\emotions_eng_gpt2\\training_1\\cp-0004.ckpt\n",
      "Epoch 5/10\n",
      "2000/2000 [==============================] - 240s 120ms/step - loss: 0.1872 - accuracy: 0.9210 - val_loss: 0.2279 - val_accuracy: 0.9107\n",
      "\n",
      "Epoch 00005: saving model to ../training_checkpoints\\emotions_eng_gpt2\\training_1\\cp-0005.ckpt\n",
      "Epoch 6/10\n",
      "2000/2000 [==============================] - 240s 120ms/step - loss: 0.1753 - accuracy: 0.9270 - val_loss: 0.2359 - val_accuracy: 0.9050\n",
      "\n",
      "Epoch 00006: saving model to ../training_checkpoints\\emotions_eng_gpt2\\training_1\\cp-0006.ckpt\n",
      "Epoch 7/10\n",
      "2000/2000 [==============================] - 240s 120ms/step - loss: 0.1600 - accuracy: 0.9326 - val_loss: 0.2467 - val_accuracy: 0.9065\n",
      "\n",
      "Epoch 00007: saving model to ../training_checkpoints\\emotions_eng_gpt2\\training_1\\cp-0007.ckpt\n"
     ]
    }
   ],
   "source": [
    "history = model.fit(tf_train_dataset, validation_data=tf_val_dataset, epochs=num_epochs,\n",
    "                    callbacks=[checkpoint_cb, early_stop_cb])"
   ]
  },
  {
   "cell_type": "code",
   "execution_count": 22,
   "metadata": {
    "ExecuteTime": {
     "end_time": "2023-05-23T15:34:46.636055500Z",
     "start_time": "2023-05-23T15:34:46.327373100Z"
    },
    "collapsed": false
   },
   "outputs": [
    {
     "data": {
      "image/png": "[encoded data removed]",
      "text/plain": [
       "<Figure size 640x480 with 1 Axes>"
      ]
     },
     "metadata": {},
     "output_type": "display_data"
    },
    {
     "data": {
      "image/png": "[encoded data removed]",
      "text/plain": [
       "<Figure size 640x480 with 1 Axes>"
      ]
     },
     "metadata": {},
     "output_type": "display_data"
    }
   ],
   "source": [
    "plt.plot(history.history['accuracy'])\n",
    "plt.plot(history.history['val_accuracy'])\n",
    "plt.title('Model accuracy')\n",
    "plt.ylabel('Accuracy')\n",
    "plt.xlabel('Epoch')\n",
    "plt.legend(['Train', 'Val'], loc='upper left')\n",
    "plt.savefig(f\"../../documentation/models/{model_name}/figures/{training_folder}_accuracy.png\")\n",
    "plt.show()\n",
    "\n",
    "plt.plot(history.history['loss'])\n",
    "plt.plot(history.history['val_loss'])\n",
    "plt.title('Model loss')\n",
    "plt.ylabel('Loss')\n",
    "plt.xlabel('Epoch')\n",
    "plt.legend(['Train', 'Val'], loc='upper left')\n",
    "plt.savefig(f\"../../documentation/models/{model_name}/figures/{training_folder}_loss.png\")\n",
    "plt.show()"
   ]
  },
  {
   "cell_type": "code",
   "execution_count": 23,
   "metadata": {
    "ExecuteTime": {
     "end_time": "2023-05-23T15:34:50.021390700Z",
     "start_time": "2023-05-23T15:34:46.640060900Z"
    },
    "collapsed": false
   },
   "outputs": [],
   "source": [
    "import shutil\n",
    "\n",
    "best_model_checkpoint_index = np.argmin(history.history[\"val_accuracy\"]) + 1\n",
    "best_model_weights_path = os.path.join(training_path, checkpoint_filename.format(epoch=best_model_checkpoint_index))\n",
    "best_model = model\n",
    "best_model.load_weights(best_model_weights_path)\n",
    "\n",
    "shutil.rmtree(training_path)"
   ]
  },
  {
   "cell_type": "code",
   "execution_count": 24,
   "metadata": {
    "ExecuteTime": {
     "end_time": "2023-05-23T15:35:27.605288200Z",
     "start_time": "2023-05-23T15:34:50.021390700Z"
    },
    "collapsed": false
   },
   "outputs": [
    {
     "name": "stderr",
     "output_type": "stream",
     "text": [
      "WARNING:absl:Found untraced functions such as wte_layer_call_and_return_conditional_losses, wte_layer_call_fn, dropout_layer_call_and_return_conditional_losses, dropout_layer_call_fn, ln_f_layer_call_and_return_conditional_losses while saving (showing 5 of 735). These functions will not be directly callable after loading.\n"
     ]
    },
    {
     "name": "stdout",
     "output_type": "stream",
     "text": [
      "INFO:tensorflow:Assets written to: ../trained_models\\emotions_eng_gpt2_1\\1\\assets\n"
     ]
    },
    {
     "name": "stderr",
     "output_type": "stream",
     "text": [
      "INFO:tensorflow:Assets written to: ../trained_models\\emotions_eng_gpt2_1\\1\\assets\n"
     ]
    }
   ],
   "source": [
    "saved_model_name = f\"{model_name}_{training_number}\"\n",
    "\n",
    "# Save to Saved Model format\n",
    "best_model.save(os.path.join(Constants.SAVED_MODEL_LOCATION, saved_model_name, Constants.DEFAULT_MODEL_VERSION))"
   ]
  },
  {
   "cell_type": "code",
   "execution_count": 25,
   "metadata": {
    "ExecuteTime": {
     "end_time": "2023-05-23T15:35:37.574328Z",
     "start_time": "2023-05-23T15:35:27.606793500Z"
    },
    "collapsed": false
   },
   "outputs": [
    {
     "name": "stdout",
     "output_type": "stream",
     "text": [
      "250/250 [==============================] - 10s 38ms/step - loss: 0.2448 - accuracy: 0.9040\n"
     ]
    },
    {
     "data": {
      "text/plain": [
       "[0.24482136964797974, 0.9039999842643738]"
      ]
     },
     "execution_count": 25,
     "metadata": {},
     "output_type": "execute_result"
    }
   ],
   "source": [
    "# Evaluation\n",
    "best_model.evaluate(tf_test_dataset, batch_size=32)"
   ]
  },
  {
   "cell_type": "code",
   "execution_count": 26,
   "metadata": {
    "ExecuteTime": {
     "end_time": "2023-05-23T15:35:48.579371300Z",
     "start_time": "2023-05-23T15:35:37.575326700Z"
    },
    "collapsed": false
   },
   "outputs": [],
   "source": [
    "# Getting predictions\n",
    "prediction_logits = best_model.predict(tf_test_dataset)['logits']\n",
    "probabilities = tf.nn.softmax(prediction_logits)\n",
    "class_preds = np.argmax(probabilities, axis=1)"
   ]
  },
  {
   "cell_type": "code",
   "execution_count": 34,
   "metadata": {
    "ExecuteTime": {
     "end_time": "2023-05-23T15:46:05.362225400Z",
     "start_time": "2023-05-23T15:46:05.303557200Z"
    },
    "collapsed": false
   },
   "outputs": [
    {
     "name": "stdout",
     "output_type": "stream",
     "text": [
      "Precision score:  0.9084654813075566\n",
      "Recall score:  0.9046037668113659\n",
      "F1 score:  0.9037133595597272\n"
     ]
    }
   ],
   "source": [
    "from sklearn.metrics import precision_score, recall_score, f1_score\n",
    "\n",
    "precision = precision_score(tokenized_test_dataset['emotions'], class_preds, average='macro')\n",
    "recall = recall_score(tokenized_test_dataset['emotions'], class_preds, average='macro')\n",
    "f1 = f1_score(tokenized_test_dataset['emotions'], class_preds, average='macro')\n",
    "\n",
    "print(f\"Precision score: \", precision)\n",
    "print(f\"Recall score: \", recall)\n",
    "print(f\"F1 score: \", f1)"
   ]
  },
  {
   "cell_type": "code",
   "execution_count": 29,
   "metadata": {
    "ExecuteTime": {
     "end_time": "2023-05-23T15:39:33.257145200Z",
     "start_time": "2023-05-23T15:39:33.048907200Z"
    },
    "collapsed": false
   },
   "outputs": [
    {
     "data": {
      "image/png": "[encoded data removed]",
      "text/plain": [
       "<Figure size 640x480 with 2 Axes>"
      ]
     },
     "metadata": {},
     "output_type": "display_data"
    }
   ],
   "source": [
    "from sklearn.metrics import confusion_matrix, ConfusionMatrixDisplay\n",
    "\n",
    "result = confusion_matrix(tokenized_test_dataset['emotions'], class_preds)\n",
    "\n",
    "disp = ConfusionMatrixDisplay(confusion_matrix=result)\n",
    "disp.plot()\n",
    "plt.savefig(f\"../../documentation/models/{model_name}/figures/{training_folder}_confmatrix.png\")\n",
    "plt.show()"
   ]
  },
  {
   "cell_type": "code",
   "execution_count": null,
   "metadata": {
    "collapsed": false
   },
   "outputs": [],
   "source": []
  }
 ],
 "metadata": {
  "kernelspec": {
   "display_name": "Python 3",
   "language": "python",
   "name": "python3"
  },
  "language_info": {
   "codemirror_mode": {
    "name": "ipython",
    "version": 2
   },
   "file_extension": ".py",
   "mimetype": "text/x-python",
   "name": "python",
   "nbconvert_exporter": "python",
   "pygments_lexer": "ipython2",
   "version": "2.7.6"
  }
 },
 "nbformat": 4,
 "nbformat_minor": 0
}
