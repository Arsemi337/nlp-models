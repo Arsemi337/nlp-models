{
 "cells": [
  {
   "cell_type": "code",
   "execution_count": 1,
   "metadata": {
    "ExecuteTime": {
     "end_time": "2023-05-14T13:04:22.886311600Z",
     "start_time": "2023-05-14T13:04:20.469379600Z"
    },
    "collapsed": true
   },
   "outputs": [],
   "source": [
    "import sys\n",
    "\n",
    "sys.path.append('../../notebooks')\n",
    "import os\n",
    "import pandas as pd\n",
    "import tensorflow as tf\n",
    "import matplotlib.pyplot as plt\n",
    "# from notebooks.core import constants\n",
    "import model_utils"
   ]
  },
  {
   "cell_type": "code",
   "execution_count": null,
   "metadata": {
    "ExecuteTime": {
     "end_time": "2023-05-14T13:04:22.997388500Z",
     "start_time": "2023-05-14T13:04:22.889820500Z"
    },
    "collapsed": false
   },
   "outputs": [],
   "source": [
    "df = pd.read_json('../../data/translated/emotions/emotions_dataset_pl.json')\n",
    "df"
   ]
  },
  {
   "cell_type": "code",
   "execution_count": null,
   "metadata": {},
   "outputs": [],
   "source": [
    "df = df.drop(columns=['text'])\n",
    "df"
   ]
  },
  {
   "cell_type": "code",
   "execution_count": null,
   "metadata": {
    "ExecuteTime": {
     "end_time": "2023-05-14T13:04:23.151450300Z",
     "start_time": "2023-05-14T13:04:23.015402200Z"
    }
   },
   "outputs": [],
   "source": [
    "surprise_count = len(df.loc[df['emotions'] == 'surprise'])\n",
    "\n",
    "joy = df.loc[df['emotions'] == 'joy'].iloc[:surprise_count]\n",
    "sadness = df.loc[df['emotions'] == 'sadness'].iloc[:surprise_count]\n",
    "anger = df.loc[df['emotions'] == 'anger'].iloc[:surprise_count]\n",
    "fear = df.loc[df['emotions'] == 'fear'].iloc[:surprise_count]\n",
    "love = df.loc[df['emotions'] == 'love'].iloc[:surprise_count]\n",
    "surprise = df.loc[df['emotions'] == 'surprise']"
   ]
  },
  {
   "cell_type": "code",
   "execution_count": null,
   "metadata": {
    "ExecuteTime": {
     "end_time": "2023-05-14T13:04:23.384172800Z",
     "start_time": "2023-05-14T13:04:23.311267700Z"
    }
   },
   "outputs": [],
   "source": [
    "frames = [joy, sadness, anger, fear, love, surprise]\n",
    "equal_dataset = pd.concat(frames)\n",
    "\n",
    "np.random.shuffle(equal_dataset.values)\n",
    "equal_dataset"
   ]
  },
  {
   "cell_type": "code",
   "execution_count": null,
   "metadata": {
    "ExecuteTime": {
     "end_time": "2023-05-14T13:04:24.988411800Z",
     "start_time": "2023-05-14T13:04:24.975256400Z"
    },
    "collapsed": false
   },
   "outputs": [],
   "source": [
    "# It is only fine-tuning, thus 400k data samples is a complete overkill. It can be reduced to 40k.\n",
    "df = equal_dataset.iloc[:40000]"
   ]
  },
  {
   "cell_type": "code",
   "execution_count": null,
   "metadata": {
    "ExecuteTime": {
     "end_time": "2023-05-14T13:04:25.785922100Z",
     "start_time": "2023-05-14T13:04:25.682714800Z"
    },
    "collapsed": false
   },
   "outputs": [],
   "source": [
    "data = df[\"emotions\"]\n",
    "data.value_counts().plot.bar()\n",
    "plt.show()"
   ]
  },
  {
   "cell_type": "code",
   "execution_count": null,
   "metadata": {
    "ExecuteTime": {
     "end_time": "2023-05-14T13:04:26.585925100Z",
     "start_time": "2023-05-14T13:04:26.574415400Z"
    },
    "collapsed": false
   },
   "outputs": [],
   "source": [
    "ordered_class_labels = {\n",
    "    \"joy\": 0,\n",
    "    \"love\": 1,\n",
    "    \"surprise\": 2,\n",
    "    \"sadness\": 3,\n",
    "    \"anger\": 4,\n",
    "    \"fear\": 5,\n",
    "}"
   ]
  },
  {
   "cell_type": "code",
   "execution_count": null,
   "metadata": {
    "ExecuteTime": {
     "end_time": "2023-05-14T13:04:27.377268900Z",
     "start_time": "2023-05-14T13:04:27.350646200Z"
    },
    "collapsed": false
   },
   "outputs": [],
   "source": [
    "df = df.replace({\"emotions\": ordered_class_labels})"
   ]
  },
  {
   "cell_type": "code",
   "execution_count": null,
   "metadata": {
    "ExecuteTime": {
     "end_time": "2023-05-14T13:04:28.419031Z",
     "start_time": "2023-05-14T13:04:27.981206300Z"
    },
    "collapsed": false
   },
   "outputs": [],
   "source": [
    "from datasets import Dataset\n",
    "\n",
    "raw_dataset = Dataset.from_pandas(df).remove_columns(\"__index_level_0__\")\n",
    "raw_dataset"
   ]
  },
  {
   "cell_type": "code",
   "execution_count": null,
   "metadata": {
    "ExecuteTime": {
     "end_time": "2023-05-14T13:04:29.773340Z",
     "start_time": "2023-05-14T13:04:28.930987600Z"
    },
    "collapsed": false
   },
   "outputs": [],
   "source": [
    "from transformers import AutoTokenizer\n",
    "\n",
    "checkpoint = \"dkleczek/bert-base-polish-uncased-v1\"\n",
    "tokenizer = AutoTokenizer.from_pretrained(checkpoint)"
   ]
  },
  {
   "cell_type": "code",
   "execution_count": null,
   "metadata": {
    "ExecuteTime": {
     "end_time": "2023-05-14T13:04:31.352758900Z",
     "start_time": "2023-05-14T13:04:30.221415800Z"
    },
    "collapsed": false
   },
   "outputs": [],
   "source": [
    "def tokenize_function(example):\n",
    "    return tokenizer(example[\"text\"], truncation=True)\n",
    "\n",
    "\n",
    "tokenized_dataset = raw_dataset.map(tokenize_function, batched=True)"
   ]
  },
  {
   "cell_type": "code",
   "execution_count": null,
   "metadata": {
    "ExecuteTime": {
     "end_time": "2023-05-14T13:04:31.836991800Z",
     "start_time": "2023-05-14T13:04:31.809152500Z"
    },
    "collapsed": false
   },
   "outputs": [],
   "source": [
    "# Train set: 80%, Validation set: 10%, Test set: 10%\n",
    "tokenized_train_dataset, tokenized_val_dataset, tokenized_test_dataset = model_utils.split_train_val_test(\n",
    "    tokenized_dataset,\n",
    "    train_size=0.8,\n",
    "    test_size_of_val_test_batch=0.5)"
   ]
  },
  {
   "cell_type": "code",
   "execution_count": null,
   "metadata": {
    "ExecuteTime": {
     "end_time": "2023-05-14T13:04:34.614153900Z",
     "start_time": "2023-05-14T13:04:32.943653400Z"
    },
    "collapsed": false
   },
   "outputs": [],
   "source": [
    "from transformers import DataCollatorWithPadding\n",
    "\n",
    "columns = [\"attention_mask\", \"input_ids\", \"token_type_ids\"]\n",
    "label_cols = [\"emotions\"]\n",
    "batch_size = 8\n",
    "data_collator = DataCollatorWithPadding(tokenizer=tokenizer, return_tensors=\"tf\")\n",
    "\n",
    "tf_train_dataset = model_utils.convert_to_tf_dataset(tokenized_train_dataset, columns, label_cols, data_collator,\n",
    "                                                     batch_size)\n",
    "tf_val_dataset = model_utils.convert_to_tf_dataset(tokenized_val_dataset, columns, label_cols, data_collator,\n",
    "                                                   batch_size)\n",
    "tf_test_dataset = model_utils.convert_to_tf_dataset(tokenized_test_dataset, columns, label_cols, data_collator,\n",
    "                                                    batch_size)"
   ]
  },
  {
   "cell_type": "code",
   "execution_count": null,
   "metadata": {
    "ExecuteTime": {
     "end_time": "2023-05-14T13:04:34.860092500Z",
     "start_time": "2023-05-14T13:04:34.613154400Z"
    },
    "collapsed": false
   },
   "outputs": [],
   "source": [
    "# Model parameters\n",
    "training_number = 1\n",
    "model_name = \"emotions_pl_bert\"\n",
    "\n",
    "training_name = f\"training_{training_number}\"\n",
    "checkpoint_filename_template = \"cp-{epoch:04d}.ckpt\"\n",
    "checkpoints_dir = os.path.join(constants.TRAINING_CHECKPOINTS_PATH, model_name, training_name)\n",
    "figures_dir = f\"../../documentation/models/{model_name}/figures\"\n",
    "checkpoint_path = os.path.join(checkpoints_dir, checkpoint_filename_template)"
   ]
  },
  {
   "cell_type": "code",
   "execution_count": null,
   "metadata": {
    "ExecuteTime": {
     "end_time": "2023-05-14T13:04:36.625023Z",
     "start_time": "2023-05-14T13:04:36.618025200Z"
    },
    "collapsed": false
   },
   "outputs": [],
   "source": [
    "# Callbacks\n",
    "checkpoint_cb = tf.keras.callbacks.ModelCheckpoint(checkpoint_path, verbose=1, save_weights_only=True)\n",
    "early_stop_cb = tf.keras.callbacks.EarlyStopping(patience=3)\n",
    "callbacks = [checkpoint_cb, early_stop_cb]"
   ]
  },
  {
   "cell_type": "code",
   "execution_count": null,
   "metadata": {
    "ExecuteTime": {
     "end_time": "2023-05-14T13:04:37.829174300Z",
     "start_time": "2023-05-14T13:04:37.818661Z"
    },
    "collapsed": false
   },
   "outputs": [],
   "source": [
    "from tensorflow.keras.optimizers.schedules import PolynomialDecay\n",
    "from tensorflow.keras.optimizers import Adam\n",
    "\n",
    "num_epochs = 10\n",
    "num_train_steps = len(tf_train_dataset) * num_epochs\n",
    "lr_scheduler = PolynomialDecay(\n",
    "    initial_learning_rate=5e-5, end_learning_rate=0.0, decay_steps=num_train_steps\n",
    ")\n",
    "\n",
    "optimizer = Adam(learning_rate=lr_scheduler)"
   ]
  },
  {
   "cell_type": "code",
   "execution_count": null,
   "metadata": {
    "ExecuteTime": {
     "end_time": "2023-05-14T13:04:41.703902300Z",
     "start_time": "2023-05-14T13:04:39.807554900Z"
    },
    "collapsed": false
   },
   "outputs": [],
   "source": [
    "from transformers import TFAutoModelForSequenceClassification\n",
    "\n",
    "model = TFAutoModelForSequenceClassification.from_pretrained(checkpoint, num_labels=6, from_pt=True)"
   ]
  },
  {
   "cell_type": "code",
   "execution_count": null,
   "metadata": {
    "ExecuteTime": {
     "end_time": "2023-05-14T13:04:43.128116600Z",
     "start_time": "2023-05-14T13:04:43.105062600Z"
    },
    "collapsed": false
   },
   "outputs": [],
   "source": [
    "# Compile\n",
    "loss = tf.keras.losses.SparseCategoricalCrossentropy(from_logits=True)\n",
    "metrics = [\"accuracy\"]\n",
    "model.compile(optimizer=optimizer, loss=loss, metrics=metrics)"
   ]
  },
  {
   "cell_type": "code",
   "execution_count": null,
   "metadata": {
    "ExecuteTime": {
     "end_time": "2023-05-14T13:29:30.471938900Z",
     "start_time": "2023-05-14T13:04:44.376071300Z"
    },
    "collapsed": false
   },
   "outputs": [],
   "source": [
    "history = model.fit(tf_train_dataset, validation_data=tf_val_dataset, epochs=num_epochs, callbacks=callbacks)"
   ]
  },
  {
   "cell_type": "code",
   "execution_count": null,
   "metadata": {
    "ExecuteTime": {
     "end_time": "2023-05-14T13:29:35.071945100Z",
     "start_time": "2023-05-14T13:29:34.887657900Z"
    },
    "collapsed": false
   },
   "outputs": [],
   "source": [
    "model_utils.plot_and_save_fig_from_history(history,\n",
    "                                           attributes=['accuracy', 'val_accuracy'],\n",
    "                                           title='Model accuracy',\n",
    "                                           y_label='Accuracy',\n",
    "                                           x_label='Epoch',\n",
    "                                           legend_descriptors=['Train', 'Val'],\n",
    "                                           figure_dir_path=figures_dir,\n",
    "                                           figure_filename=f\"{training_name}_accuracy.png\")\n",
    "\n",
    "model_utils.plot_and_save_fig_from_history(history,\n",
    "                                           attributes=['loss', 'val_loss'],\n",
    "                                           title='Model loss',\n",
    "                                           y_label='Loss',\n",
    "                                           x_label='Epoch',\n",
    "                                           legend_descriptors=['Train', 'Val'],\n",
    "                                           figure_dir_path=figures_dir,\n",
    "                                           figure_filename=f\"{training_name}_loss.png\")"
   ]
  },
  {
   "cell_type": "code",
   "execution_count": null,
   "metadata": {
    "ExecuteTime": {
     "end_time": "2023-05-14T13:31:31.668078700Z",
     "start_time": "2023-05-14T13:31:28.286724500Z"
    },
    "collapsed": false
   },
   "outputs": [],
   "source": [
    "best_model = model_utils.get_best_model_from_checkpoints(model, history,\n",
    "                                                         checkpoints_dir=checkpoints_dir,\n",
    "                                                         checkpoint_filename_template=checkpoint_filename_template)"
   ]
  },
  {
   "cell_type": "code",
   "execution_count": null,
   "metadata": {
    "ExecuteTime": {
     "end_time": "2023-05-14T13:32:13.165307700Z",
     "start_time": "2023-05-14T13:31:31.670079700Z"
    },
    "collapsed": false
   },
   "outputs": [],
   "source": [
    "model_utils.save_model(best_model, model_name=model_name, training_number=training_number, saved_models_dir=constants.SAVED_MODEL_LOCATION, default_model_version=constants.DEFAULT_MODEL_VERSION)"
   ]
  },
  {
   "cell_type": "code",
   "execution_count": null,
   "metadata": {
    "ExecuteTime": {
     "end_time": "2023-05-14T13:32:22.042504100Z",
     "start_time": "2023-05-14T13:32:13.166307200Z"
    },
    "collapsed": false
   },
   "outputs": [],
   "source": [
    "# Evaluation\n",
    "best_model.evaluate(tf_test_dataset, batch_size=batch_size)"
   ]
  },
  {
   "cell_type": "code",
   "execution_count": null,
   "metadata": {
    "ExecuteTime": {
     "end_time": "2023-05-12T14:15:04.333778900Z",
     "start_time": "2023-05-12T14:14:54.558304900Z"
    },
    "collapsed": false
   },
   "outputs": [],
   "source": [
    "class_preds = model_utils.get_class_preds(model, tf_test_dataset)"
   ]
  },
  {
   "cell_type": "code",
   "execution_count": null,
   "metadata": {},
   "outputs": [],
   "source": [
    "precision, recall, f1 = model_utils.get_classification_evaluation_metrics(\n",
    "    class_actual=tokenized_test_dataset['emotions'],\n",
    "    class_preds=class_preds)\n",
    "\n",
    "print(f\"Precision score: \", precision)\n",
    "print(f\"Recall score: \", recall)\n",
    "print(f\"F1 score: \", f1)"
   ]
  },
  {
   "cell_type": "code",
   "execution_count": null,
   "metadata": {},
   "outputs": [],
   "source": [
    "model_utils.plot_and_save_conf_matrix(class_actual=tokenized_test_dataset['emotions'],\n",
    "                                      class_preds=class_preds,\n",
    "                                      figure_dir_path=figures_dir,\n",
    "                                      figure_filename=f\"{training_name}_confmatrix.png\")"
   ]
  },
  {
   "cell_type": "code",
   "execution_count": null,
   "metadata": {},
   "outputs": [],
   "source": [
    "model_utils.print_incorrectly_predicted_texts(texts=raw_dataset['text_pl'],\n",
    "                                              class_actual=raw_dataset['emotions'],\n",
    "                                              class_preds=class_preds)"
   ]
  }
 ],
 "metadata": {
  "kernelspec": {
   "display_name": "Python 3",
   "language": "python",
   "name": "python3"
  },
  "language_info": {
   "codemirror_mode": {
    "name": "ipython",
    "version": 3
   },
   "file_extension": ".py",
   "mimetype": "text/x-python",
   "name": "python",
   "nbconvert_exporter": "python",
   "pygments_lexer": "ipython3",
   "version": "3.10.11"
  }
 },
 "nbformat": 4,
 "nbformat_minor": 0
}
