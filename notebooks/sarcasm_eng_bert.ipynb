{
 "cells": [
  {
   "cell_type": "code",
   "execution_count": 2,
   "metadata": {
    "collapsed": true,
    "ExecuteTime": {
     "end_time": "2023-05-10T10:28:47.749156400Z",
     "start_time": "2023-05-10T10:28:47.239276100Z"
    }
   },
   "outputs": [],
   "source": [
    "import pandas as pd\n",
    "import numpy as np\n",
    "import tensorflow as tf\n",
    "from tensorflow import keras"
   ]
  },
  {
   "cell_type": "code",
   "execution_count": 3,
   "outputs": [],
   "source": [
    "import json\n",
    "\n",
    "def parse_sarcasm_json_dataset(file):\n",
    "    for line in open(file, 'r'):\n",
    "        yield json.loads(line)"
   ],
   "metadata": {
    "collapsed": false,
    "ExecuteTime": {
     "end_time": "2023-05-10T10:28:50.149788900Z",
     "start_time": "2023-05-10T10:28:50.132754700Z"
    }
   }
  },
  {
   "cell_type": "code",
   "execution_count": 4,
   "outputs": [],
   "source": [
    "data = list(parse_sarcasm_json_dataset('../datasets/news_headlines_for_sarcasm_detection/Sarcasm_Headlines_Dataset_v2.json'))\n",
    "\n",
    "df = pd.DataFrame(data)"
   ],
   "metadata": {
    "collapsed": false,
    "ExecuteTime": {
     "end_time": "2023-05-10T10:28:51.942006600Z",
     "start_time": "2023-05-10T10:28:51.837119700Z"
    }
   }
  },
  {
   "cell_type": "code",
   "execution_count": 5,
   "outputs": [
    {
     "data": {
      "text/plain": "       is_sarcastic                                           headline  \\\n0                 1  thirtysomething scientists unveil doomsday clo...   \n1                 0  dem rep. totally nails why congress is falling...   \n2                 0  eat your veggies: 9 deliciously different recipes   \n3                 1  inclement weather prevents liar from getting t...   \n4                 1  mother comes pretty close to using word 'strea...   \n...             ...                                                ...   \n28614             1       jews to celebrate rosh hashasha or something   \n28615             1  internal affairs investigator disappointed con...   \n28616             0  the most beautiful acceptance speech this week...   \n28617             1  mars probe destroyed by orbiting spielberg-gat...   \n28618             1                 dad clarifies this not a food stop   \n\n                                            article_link  \n0      https://www.theonion.com/thirtysomething-scien...  \n1      https://www.huffingtonpost.com/entry/donna-edw...  \n2      https://www.huffingtonpost.com/entry/eat-your-...  \n3      https://local.theonion.com/inclement-weather-p...  \n4      https://www.theonion.com/mother-comes-pretty-c...  \n...                                                  ...  \n28614  https://www.theonion.com/jews-to-celebrate-ros...  \n28615  https://local.theonion.com/internal-affairs-in...  \n28616  https://www.huffingtonpost.com/entry/andrew-ah...  \n28617  https://www.theonion.com/mars-probe-destroyed-...  \n28618  https://www.theonion.com/dad-clarifies-this-no...  \n\n[28619 rows x 3 columns]",
      "text/html": "<div>\n<style scoped>\n    .dataframe tbody tr th:only-of-type {\n        vertical-align: middle;\n    }\n\n    .dataframe tbody tr th {\n        vertical-align: top;\n    }\n\n    .dataframe thead th {\n        text-align: right;\n    }\n</style>\n<table border=\"1\" class=\"dataframe\">\n  <thead>\n    <tr style=\"text-align: right;\">\n      <th></th>\n      <th>is_sarcastic</th>\n      <th>headline</th>\n      <th>article_link</th>\n    </tr>\n  </thead>\n  <tbody>\n    <tr>\n      <th>0</th>\n      <td>1</td>\n      <td>thirtysomething scientists unveil doomsday clo...</td>\n      <td>https://www.theonion.com/thirtysomething-scien...</td>\n    </tr>\n    <tr>\n      <th>1</th>\n      <td>0</td>\n      <td>dem rep. totally nails why congress is falling...</td>\n      <td>https://www.huffingtonpost.com/entry/donna-edw...</td>\n    </tr>\n    <tr>\n      <th>2</th>\n      <td>0</td>\n      <td>eat your veggies: 9 deliciously different recipes</td>\n      <td>https://www.huffingtonpost.com/entry/eat-your-...</td>\n    </tr>\n    <tr>\n      <th>3</th>\n      <td>1</td>\n      <td>inclement weather prevents liar from getting t...</td>\n      <td>https://local.theonion.com/inclement-weather-p...</td>\n    </tr>\n    <tr>\n      <th>4</th>\n      <td>1</td>\n      <td>mother comes pretty close to using word 'strea...</td>\n      <td>https://www.theonion.com/mother-comes-pretty-c...</td>\n    </tr>\n    <tr>\n      <th>...</th>\n      <td>...</td>\n      <td>...</td>\n      <td>...</td>\n    </tr>\n    <tr>\n      <th>28614</th>\n      <td>1</td>\n      <td>jews to celebrate rosh hashasha or something</td>\n      <td>https://www.theonion.com/jews-to-celebrate-ros...</td>\n    </tr>\n    <tr>\n      <th>28615</th>\n      <td>1</td>\n      <td>internal affairs investigator disappointed con...</td>\n      <td>https://local.theonion.com/internal-affairs-in...</td>\n    </tr>\n    <tr>\n      <th>28616</th>\n      <td>0</td>\n      <td>the most beautiful acceptance speech this week...</td>\n      <td>https://www.huffingtonpost.com/entry/andrew-ah...</td>\n    </tr>\n    <tr>\n      <th>28617</th>\n      <td>1</td>\n      <td>mars probe destroyed by orbiting spielberg-gat...</td>\n      <td>https://www.theonion.com/mars-probe-destroyed-...</td>\n    </tr>\n    <tr>\n      <th>28618</th>\n      <td>1</td>\n      <td>dad clarifies this not a food stop</td>\n      <td>https://www.theonion.com/dad-clarifies-this-no...</td>\n    </tr>\n  </tbody>\n</table>\n<p>28619 rows × 3 columns</p>\n</div>"
     },
     "execution_count": 5,
     "metadata": {},
     "output_type": "execute_result"
    }
   ],
   "source": [
    "df"
   ],
   "metadata": {
    "collapsed": false,
    "ExecuteTime": {
     "end_time": "2023-05-10T10:28:53.227610300Z",
     "start_time": "2023-05-10T10:28:53.212575400Z"
    }
   }
  },
  {
   "cell_type": "code",
   "execution_count": 6,
   "outputs": [
    {
     "data": {
      "text/plain": "       is_sarcastic                                           headline\n0                 1  thirtysomething scientists unveil doomsday clo...\n1                 0  dem rep. totally nails why congress is falling...\n2                 0  eat your veggies: 9 deliciously different recipes\n3                 1  inclement weather prevents liar from getting t...\n4                 1  mother comes pretty close to using word 'strea...\n...             ...                                                ...\n28614             1       jews to celebrate rosh hashasha or something\n28615             1  internal affairs investigator disappointed con...\n28616             0  the most beautiful acceptance speech this week...\n28617             1  mars probe destroyed by orbiting spielberg-gat...\n28618             1                 dad clarifies this not a food stop\n\n[28619 rows x 2 columns]",
      "text/html": "<div>\n<style scoped>\n    .dataframe tbody tr th:only-of-type {\n        vertical-align: middle;\n    }\n\n    .dataframe tbody tr th {\n        vertical-align: top;\n    }\n\n    .dataframe thead th {\n        text-align: right;\n    }\n</style>\n<table border=\"1\" class=\"dataframe\">\n  <thead>\n    <tr style=\"text-align: right;\">\n      <th></th>\n      <th>is_sarcastic</th>\n      <th>headline</th>\n    </tr>\n  </thead>\n  <tbody>\n    <tr>\n      <th>0</th>\n      <td>1</td>\n      <td>thirtysomething scientists unveil doomsday clo...</td>\n    </tr>\n    <tr>\n      <th>1</th>\n      <td>0</td>\n      <td>dem rep. totally nails why congress is falling...</td>\n    </tr>\n    <tr>\n      <th>2</th>\n      <td>0</td>\n      <td>eat your veggies: 9 deliciously different recipes</td>\n    </tr>\n    <tr>\n      <th>3</th>\n      <td>1</td>\n      <td>inclement weather prevents liar from getting t...</td>\n    </tr>\n    <tr>\n      <th>4</th>\n      <td>1</td>\n      <td>mother comes pretty close to using word 'strea...</td>\n    </tr>\n    <tr>\n      <th>...</th>\n      <td>...</td>\n      <td>...</td>\n    </tr>\n    <tr>\n      <th>28614</th>\n      <td>1</td>\n      <td>jews to celebrate rosh hashasha or something</td>\n    </tr>\n    <tr>\n      <th>28615</th>\n      <td>1</td>\n      <td>internal affairs investigator disappointed con...</td>\n    </tr>\n    <tr>\n      <th>28616</th>\n      <td>0</td>\n      <td>the most beautiful acceptance speech this week...</td>\n    </tr>\n    <tr>\n      <th>28617</th>\n      <td>1</td>\n      <td>mars probe destroyed by orbiting spielberg-gat...</td>\n    </tr>\n    <tr>\n      <th>28618</th>\n      <td>1</td>\n      <td>dad clarifies this not a food stop</td>\n    </tr>\n  </tbody>\n</table>\n<p>28619 rows × 2 columns</p>\n</div>"
     },
     "execution_count": 6,
     "metadata": {},
     "output_type": "execute_result"
    }
   ],
   "source": [
    "df = df.drop(columns=['article_link'])\n",
    "df"
   ],
   "metadata": {
    "collapsed": false,
    "ExecuteTime": {
     "end_time": "2023-05-10T10:28:54.677214900Z",
     "start_time": "2023-05-10T10:28:54.664166200Z"
    }
   }
  },
  {
   "cell_type": "code",
   "execution_count": 7,
   "outputs": [
    {
     "data": {
      "text/plain": "0    14985\n1    13634\nName: is_sarcastic, dtype: int64"
     },
     "execution_count": 7,
     "metadata": {},
     "output_type": "execute_result"
    }
   ],
   "source": [
    "df['is_sarcastic'].value_counts()"
   ],
   "metadata": {
    "collapsed": false,
    "ExecuteTime": {
     "end_time": "2023-05-10T10:28:55.454359700Z",
     "start_time": "2023-05-10T10:28:55.443835600Z"
    }
   }
  },
  {
   "cell_type": "code",
   "execution_count": 8,
   "outputs": [],
   "source": [
    "X, y = df['headline'].to_numpy(), df['is_sarcastic'].to_numpy()"
   ],
   "metadata": {
    "collapsed": false,
    "ExecuteTime": {
     "end_time": "2023-05-10T10:28:57.133022900Z",
     "start_time": "2023-05-10T10:28:57.120513100Z"
    }
   }
  },
  {
   "cell_type": "code",
   "execution_count": 9,
   "outputs": [
    {
     "data": {
      "text/plain": "array(['thirtysomething scientists unveil doomsday clock of hair loss',\n       'dem rep. totally nails why congress is falling short on gender, racial equality',\n       'eat your veggies: 9 deliciously different recipes', ...,\n       'the most beautiful acceptance speech this week came from a queer korean',\n       'mars probe destroyed by orbiting spielberg-gates space palace',\n       'dad clarifies this not a food stop'], dtype=object)"
     },
     "execution_count": 9,
     "metadata": {},
     "output_type": "execute_result"
    }
   ],
   "source": [
    "X"
   ],
   "metadata": {
    "collapsed": false,
    "ExecuteTime": {
     "end_time": "2023-05-10T10:28:57.489967100Z",
     "start_time": "2023-05-10T10:28:57.475095Z"
    }
   }
  },
  {
   "cell_type": "code",
   "execution_count": null,
   "outputs": [],
   "source": [
    "from transformers import AutoTokenizer\n",
    "\n",
    "checkpoint = \"bert-base-uncased\"\n",
    "tokenizer = AutoTokenizer.from_pretrained(checkpoint)"
   ],
   "metadata": {
    "collapsed": false
   }
  },
  {
   "cell_type": "code",
   "execution_count": 15,
   "outputs": [],
   "source": [
    "from transformers import DataCollatorWithPadding\n",
    "\n",
    "data_collator = DataCollatorWithPadding(tokenizer=tokenizer, return_tensors=\"tf\")"
   ],
   "metadata": {
    "collapsed": false,
    "ExecuteTime": {
     "end_time": "2023-05-10T10:36:20.830320700Z",
     "start_time": "2023-05-10T10:36:19.389622600Z"
    }
   }
  },
  {
   "cell_type": "code",
   "execution_count": null,
   "outputs": [],
   "source": [],
   "metadata": {
    "collapsed": false
   }
  }
 ],
 "metadata": {
  "kernelspec": {
   "display_name": "Python 3",
   "language": "python",
   "name": "python3"
  },
  "language_info": {
   "codemirror_mode": {
    "name": "ipython",
    "version": 2
   },
   "file_extension": ".py",
   "mimetype": "text/x-python",
   "name": "python",
   "nbconvert_exporter": "python",
   "pygments_lexer": "ipython2",
   "version": "2.7.6"
  }
 },
 "nbformat": 4,
 "nbformat_minor": 0
}
