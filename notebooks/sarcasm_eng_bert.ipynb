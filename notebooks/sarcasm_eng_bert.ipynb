{
 "cells": [
  {
   "cell_type": "code",
   "execution_count": 1,
   "metadata": {
    "collapsed": true,
    "ExecuteTime": {
     "end_time": "2023-05-14T13:47:59.384609900Z",
     "start_time": "2023-05-14T13:47:55.794279300Z"
    }
   },
   "outputs": [],
   "source": [
    "import os\n",
    "\n",
    "import pandas as pd\n",
    "import tensorflow as tf\n",
    "import matplotlib.pyplot as plt\n",
    "import numpy as np"
   ]
  },
  {
   "cell_type": "code",
   "execution_count": 2,
   "metadata": {
    "collapsed": false,
    "ExecuteTime": {
     "end_time": "2023-05-14T13:47:59.398826100Z",
     "start_time": "2023-05-14T13:47:59.385610500Z"
    }
   },
   "outputs": [],
   "source": [
    "import json\n",
    "\n",
    "def parse_sarcasm_json_dataset(file):\n",
    "    for line in open(file, 'r'):\n",
    "        yield json.loads(line)"
   ]
  },
  {
   "cell_type": "code",
   "execution_count": 3,
   "metadata": {
    "collapsed": false,
    "ExecuteTime": {
     "end_time": "2023-05-14T13:47:59.492904500Z",
     "start_time": "2023-05-14T13:47:59.399826900Z"
    }
   },
   "outputs": [
    {
     "data": {
      "text/plain": "       is_sarcastic                                           headline  \\\n0                 1  thirtysomething scientists unveil doomsday clo...   \n1                 0  dem rep. totally nails why congress is falling...   \n2                 0  eat your veggies: 9 deliciously different recipes   \n3                 1  inclement weather prevents liar from getting t...   \n4                 1  mother comes pretty close to using word 'strea...   \n...             ...                                                ...   \n28614             1       jews to celebrate rosh hashasha or something   \n28615             1  internal affairs investigator disappointed con...   \n28616             0  the most beautiful acceptance speech this week...   \n28617             1  mars probe destroyed by orbiting spielberg-gat...   \n28618             1                 dad clarifies this not a food stop   \n\n                                            article_link  \n0      https://www.theonion.com/thirtysomething-scien...  \n1      https://www.huffingtonpost.com/entry/donna-edw...  \n2      https://www.huffingtonpost.com/entry/eat-your-...  \n3      https://local.theonion.com/inclement-weather-p...  \n4      https://www.theonion.com/mother-comes-pretty-c...  \n...                                                  ...  \n28614  https://www.theonion.com/jews-to-celebrate-ros...  \n28615  https://local.theonion.com/internal-affairs-in...  \n28616  https://www.huffingtonpost.com/entry/andrew-ah...  \n28617  https://www.theonion.com/mars-probe-destroyed-...  \n28618  https://www.theonion.com/dad-clarifies-this-no...  \n\n[28619 rows x 3 columns]",
      "text/html": "<div>\n<style scoped>\n    .dataframe tbody tr th:only-of-type {\n        vertical-align: middle;\n    }\n\n    .dataframe tbody tr th {\n        vertical-align: top;\n    }\n\n    .dataframe thead th {\n        text-align: right;\n    }\n</style>\n<table border=\"1\" class=\"dataframe\">\n  <thead>\n    <tr style=\"text-align: right;\">\n      <th></th>\n      <th>is_sarcastic</th>\n      <th>headline</th>\n      <th>article_link</th>\n    </tr>\n  </thead>\n  <tbody>\n    <tr>\n      <th>0</th>\n      <td>1</td>\n      <td>thirtysomething scientists unveil doomsday clo...</td>\n      <td>https://www.theonion.com/thirtysomething-scien...</td>\n    </tr>\n    <tr>\n      <th>1</th>\n      <td>0</td>\n      <td>dem rep. totally nails why congress is falling...</td>\n      <td>https://www.huffingtonpost.com/entry/donna-edw...</td>\n    </tr>\n    <tr>\n      <th>2</th>\n      <td>0</td>\n      <td>eat your veggies: 9 deliciously different recipes</td>\n      <td>https://www.huffingtonpost.com/entry/eat-your-...</td>\n    </tr>\n    <tr>\n      <th>3</th>\n      <td>1</td>\n      <td>inclement weather prevents liar from getting t...</td>\n      <td>https://local.theonion.com/inclement-weather-p...</td>\n    </tr>\n    <tr>\n      <th>4</th>\n      <td>1</td>\n      <td>mother comes pretty close to using word 'strea...</td>\n      <td>https://www.theonion.com/mother-comes-pretty-c...</td>\n    </tr>\n    <tr>\n      <th>...</th>\n      <td>...</td>\n      <td>...</td>\n      <td>...</td>\n    </tr>\n    <tr>\n      <th>28614</th>\n      <td>1</td>\n      <td>jews to celebrate rosh hashasha or something</td>\n      <td>https://www.theonion.com/jews-to-celebrate-ros...</td>\n    </tr>\n    <tr>\n      <th>28615</th>\n      <td>1</td>\n      <td>internal affairs investigator disappointed con...</td>\n      <td>https://local.theonion.com/internal-affairs-in...</td>\n    </tr>\n    <tr>\n      <th>28616</th>\n      <td>0</td>\n      <td>the most beautiful acceptance speech this week...</td>\n      <td>https://www.huffingtonpost.com/entry/andrew-ah...</td>\n    </tr>\n    <tr>\n      <th>28617</th>\n      <td>1</td>\n      <td>mars probe destroyed by orbiting spielberg-gat...</td>\n      <td>https://www.theonion.com/mars-probe-destroyed-...</td>\n    </tr>\n    <tr>\n      <th>28618</th>\n      <td>1</td>\n      <td>dad clarifies this not a food stop</td>\n      <td>https://www.theonion.com/dad-clarifies-this-no...</td>\n    </tr>\n  </tbody>\n</table>\n<p>28619 rows × 3 columns</p>\n</div>"
     },
     "execution_count": 3,
     "metadata": {},
     "output_type": "execute_result"
    }
   ],
   "source": [
    "data = list(parse_sarcasm_json_dataset('../data/news_headlines_for_sarcasm_detection/Sarcasm_Headlines_Dataset_v2.json'))\n",
    "\n",
    "df = pd.DataFrame(data)\n",
    "df"
   ]
  },
  {
   "cell_type": "code",
   "execution_count": 4,
   "metadata": {
    "collapsed": false,
    "ExecuteTime": {
     "end_time": "2023-05-14T13:47:59.507946300Z",
     "start_time": "2023-05-14T13:47:59.492904500Z"
    }
   },
   "outputs": [
    {
     "data": {
      "text/plain": "       is_sarcastic                                           headline\n0                 1  thirtysomething scientists unveil doomsday clo...\n1                 0  dem rep. totally nails why congress is falling...\n2                 0  eat your veggies: 9 deliciously different recipes\n3                 1  inclement weather prevents liar from getting t...\n4                 1  mother comes pretty close to using word 'strea...\n...             ...                                                ...\n28614             1       jews to celebrate rosh hashasha or something\n28615             1  internal affairs investigator disappointed con...\n28616             0  the most beautiful acceptance speech this week...\n28617             1  mars probe destroyed by orbiting spielberg-gat...\n28618             1                 dad clarifies this not a food stop\n\n[28619 rows x 2 columns]",
      "text/html": "<div>\n<style scoped>\n    .dataframe tbody tr th:only-of-type {\n        vertical-align: middle;\n    }\n\n    .dataframe tbody tr th {\n        vertical-align: top;\n    }\n\n    .dataframe thead th {\n        text-align: right;\n    }\n</style>\n<table border=\"1\" class=\"dataframe\">\n  <thead>\n    <tr style=\"text-align: right;\">\n      <th></th>\n      <th>is_sarcastic</th>\n      <th>headline</th>\n    </tr>\n  </thead>\n  <tbody>\n    <tr>\n      <th>0</th>\n      <td>1</td>\n      <td>thirtysomething scientists unveil doomsday clo...</td>\n    </tr>\n    <tr>\n      <th>1</th>\n      <td>0</td>\n      <td>dem rep. totally nails why congress is falling...</td>\n    </tr>\n    <tr>\n      <th>2</th>\n      <td>0</td>\n      <td>eat your veggies: 9 deliciously different recipes</td>\n    </tr>\n    <tr>\n      <th>3</th>\n      <td>1</td>\n      <td>inclement weather prevents liar from getting t...</td>\n    </tr>\n    <tr>\n      <th>4</th>\n      <td>1</td>\n      <td>mother comes pretty close to using word 'strea...</td>\n    </tr>\n    <tr>\n      <th>...</th>\n      <td>...</td>\n      <td>...</td>\n    </tr>\n    <tr>\n      <th>28614</th>\n      <td>1</td>\n      <td>jews to celebrate rosh hashasha or something</td>\n    </tr>\n    <tr>\n      <th>28615</th>\n      <td>1</td>\n      <td>internal affairs investigator disappointed con...</td>\n    </tr>\n    <tr>\n      <th>28616</th>\n      <td>0</td>\n      <td>the most beautiful acceptance speech this week...</td>\n    </tr>\n    <tr>\n      <th>28617</th>\n      <td>1</td>\n      <td>mars probe destroyed by orbiting spielberg-gat...</td>\n    </tr>\n    <tr>\n      <th>28618</th>\n      <td>1</td>\n      <td>dad clarifies this not a food stop</td>\n    </tr>\n  </tbody>\n</table>\n<p>28619 rows × 2 columns</p>\n</div>"
     },
     "execution_count": 4,
     "metadata": {},
     "output_type": "execute_result"
    }
   ],
   "source": [
    "df = df.drop(columns=['article_link'])\n",
    "df"
   ]
  },
  {
   "cell_type": "code",
   "execution_count": 5,
   "metadata": {
    "ExecuteTime": {
     "end_time": "2023-05-14T13:47:59.530329500Z",
     "start_time": "2023-05-14T13:47:59.509005Z"
    }
   },
   "outputs": [],
   "source": [
    "# It is only fine-tuning, thus 400k data samples is a complete overkill. It can be reduced to 40k.\n",
    "df = df.iloc[:10000]"
   ]
  },
  {
   "cell_type": "code",
   "execution_count": 6,
   "metadata": {
    "collapsed": false,
    "ExecuteTime": {
     "end_time": "2023-05-14T13:47:59.661603600Z",
     "start_time": "2023-05-14T13:47:59.527995200Z"
    }
   },
   "outputs": [
    {
     "data": {
      "text/plain": "<Figure size 640x480 with 1 Axes>",
      "image/png": "[encoded data removed]"
     },
     "metadata": {},
     "output_type": "display_data"
    }
   ],
   "source": [
    "data = df[\"is_sarcastic\"]\n",
    "data.value_counts().plot.bar()\n",
    "plt.show()"
   ]
  },
  {
   "cell_type": "code",
   "execution_count": 7,
   "metadata": {
    "ExecuteTime": {
     "end_time": "2023-05-14T13:48:00.254013300Z",
     "start_time": "2023-05-14T13:47:59.662603700Z"
    }
   },
   "outputs": [
    {
     "data": {
      "text/plain": "Dataset({\n    features: ['is_sarcastic', 'headline'],\n    num_rows: 10000\n})"
     },
     "execution_count": 7,
     "metadata": {},
     "output_type": "execute_result"
    }
   ],
   "source": [
    "from datasets import Dataset\n",
    "\n",
    "raw_dataset = Dataset.from_pandas(df)\n",
    "raw_dataset"
   ]
  },
  {
   "cell_type": "code",
   "execution_count": 8,
   "metadata": {
    "ExecuteTime": {
     "end_time": "2023-05-14T13:48:00.900182800Z",
     "start_time": "2023-05-14T13:48:00.255014600Z"
    }
   },
   "outputs": [],
   "source": [
    "from transformers import AutoTokenizer\n",
    "\n",
    "checkpoint = \"bert-base-uncased\"\n",
    "tokenizer = AutoTokenizer.from_pretrained(checkpoint)"
   ]
  },
  {
   "cell_type": "code",
   "execution_count": 9,
   "metadata": {
    "ExecuteTime": {
     "end_time": "2023-05-14T13:48:01.126601700Z",
     "start_time": "2023-05-14T13:48:00.893653Z"
    }
   },
   "outputs": [
    {
     "data": {
      "text/plain": "Map:   0%|          | 0/10000 [00:00<?, ? examples/s]",
      "application/vnd.jupyter.widget-view+json": {
       "version_major": 2,
       "version_minor": 0,
       "model_id": "742b9ba0852b44c8800fdab64163542d"
      }
     },
     "metadata": {},
     "output_type": "display_data"
    }
   ],
   "source": [
    "def tokenize_function(example):\n",
    "    return tokenizer(example[\"headline\"], truncation=True)\n",
    "\n",
    "\n",
    "tokenized_dataset = raw_dataset.map(tokenize_function, batched=True)"
   ]
  },
  {
   "cell_type": "code",
   "execution_count": 10,
   "metadata": {
    "ExecuteTime": {
     "end_time": "2023-05-14T13:48:01.143639500Z",
     "start_time": "2023-05-14T13:48:01.129116700Z"
    }
   },
   "outputs": [],
   "source": [
    "# Train set: 80%, Validation set: 10%, Test set: 10%\n",
    "split_train_val_and_test_dataset = tokenized_dataset.train_test_split(train_size=0.8)\n",
    "split_val_test_dataset = split_train_val_and_test_dataset[\"test\"].train_test_split(test_size=0.5)\n",
    "\n",
    "tokenized_train_dataset = split_train_val_and_test_dataset[\"train\"]\n",
    "tokenized_val_dataset = split_val_test_dataset[\"train\"]\n",
    "tokenized_test_dataset = split_val_test_dataset[\"test\"]"
   ]
  },
  {
   "cell_type": "code",
   "execution_count": 11,
   "metadata": {
    "ExecuteTime": {
     "end_time": "2023-05-14T13:48:04.776948100Z",
     "start_time": "2023-05-14T13:48:01.146636Z"
    }
   },
   "outputs": [
    {
     "name": "stderr",
     "output_type": "stream",
     "text": [
      "C:\\Users\\Karol\\anaconda3\\envs\\ml-tf2gpu\\lib\\site-packages\\datasets\\arrow_dataset.py:388: FutureWarning: The output of `to_tf_dataset` will change when a passing single element list for `labels` or `columns` in the next datasets version. To return a tuple structure rather than dict, pass a single string.\n",
      "Old behaviour: columns=['a'], labels=['labels'] -> (tf.Tensor, tf.Tensor)  \n",
      "             : columns='a', labels='labels' -> (tf.Tensor, tf.Tensor)  \n",
      "New behaviour: columns=['a'],labels=['labels'] -> ({'a': tf.Tensor}, {'labels': tf.Tensor})  \n",
      "             : columns='a', labels='labels' -> (tf.Tensor, tf.Tensor) \n",
      "  warnings.warn(\n",
      "You're using a BertTokenizerFast tokenizer. Please note that with a fast tokenizer, using the `__call__` method is faster than using a method to encode the text followed by a call to the `pad` method to get a padded encoding.\n"
     ]
    }
   ],
   "source": [
    "from transformers import DataCollatorWithPadding\n",
    "\n",
    "batch_size = 16\n",
    "\n",
    "\n",
    "def convert_to_tf_dataset(hf_dataset, collator, batch_size=batch_size, shuffle=True):\n",
    "    return hf_dataset.to_tf_dataset(\n",
    "        columns=[\"attention_mask\", \"input_ids\", \"token_type_ids\"],\n",
    "        label_cols=[\"is_sarcastic\"],\n",
    "        collate_fn=collator,\n",
    "        shuffle=shuffle,\n",
    "        batch_size=batch_size,\n",
    "    )\n",
    "\n",
    "\n",
    "data_collator = DataCollatorWithPadding(tokenizer=tokenizer, return_tensors=\"tf\")\n",
    "\n",
    "tf_train_dataset = convert_to_tf_dataset(hf_dataset=tokenized_train_dataset, collator=data_collator)\n",
    "tf_val_dataset = convert_to_tf_dataset(hf_dataset=tokenized_val_dataset, collator=data_collator)\n",
    "tf_test_dataset = convert_to_tf_dataset(hf_dataset=tokenized_test_dataset, collator=data_collator)"
   ]
  },
  {
   "cell_type": "code",
   "execution_count": 12,
   "metadata": {
    "ExecuteTime": {
     "end_time": "2023-05-14T13:48:05.165094Z",
     "start_time": "2023-05-14T13:48:04.779456100Z"
    }
   },
   "outputs": [],
   "source": [
    "import Constants\n",
    "\n",
    "# Callbacks\n",
    "training_number = 1\n",
    "model_name = \"sarcasm_eng_bert\"\n",
    "training_folder = f\"training_{training_number}\"\n",
    "checkpoint_filename = \"cp-{epoch:04d}.ckpt\"\n",
    "training_path = os.path.join(Constants.TRAINING_CHECKPOINTS_PATH, model_name, training_folder)\n",
    "checkpoint_path = os.path.join(training_path, checkpoint_filename)\n",
    "checkpoint_cb = tf.keras.callbacks.ModelCheckpoint(checkpoint_path, verbose=1, save_weights_only=True)\n",
    "\n",
    "early_stop_cb = tf.keras.callbacks.EarlyStopping(patience=3)"
   ]
  },
  {
   "cell_type": "code",
   "execution_count": 13,
   "metadata": {
    "ExecuteTime": {
     "end_time": "2023-05-14T13:48:05.180630200Z",
     "start_time": "2023-05-14T13:48:05.166094700Z"
    }
   },
   "outputs": [
    {
     "data": {
      "text/plain": "'../training_checkpoints\\\\sarcasm_eng_bert\\\\training_1\\\\cp-{epoch:04d}.ckpt'"
     },
     "execution_count": 13,
     "metadata": {},
     "output_type": "execute_result"
    }
   ],
   "source": [
    "checkpoint_path"
   ]
  },
  {
   "cell_type": "code",
   "execution_count": 14,
   "metadata": {
    "ExecuteTime": {
     "end_time": "2023-05-14T13:48:05.225960Z",
     "start_time": "2023-05-14T13:48:05.182628900Z"
    }
   },
   "outputs": [],
   "source": [
    "from tensorflow.keras.optimizers.schedules import PolynomialDecay\n",
    "from tensorflow.keras.optimizers import Adam\n",
    "\n",
    "num_epochs = 10\n",
    "# The number of training steps is the number of samples in the dataset, divided by the batch size then multiplied\n",
    "# by the total number of epochs. Note that the tf_train_dataset here is a batched tf.data.Dataset,\n",
    "# not the original Hugging Face Dataset, so its len() is already num_samples // batch_size.\n",
    "num_train_steps = len(tf_train_dataset) * num_epochs\n",
    "lr_scheduler = PolynomialDecay(\n",
    "    initial_learning_rate=5e-5, end_learning_rate=0.0, decay_steps=num_train_steps\n",
    ")\n",
    "\n",
    "optimizer = Adam(learning_rate=lr_scheduler)"
   ]
  },
  {
   "cell_type": "code",
   "execution_count": 15,
   "metadata": {
    "ExecuteTime": {
     "end_time": "2023-05-14T13:48:09.326125500Z",
     "start_time": "2023-05-14T13:48:05.196140Z"
    }
   },
   "outputs": [
    {
     "name": "stderr",
     "output_type": "stream",
     "text": [
      "All model checkpoint layers were used when initializing TFBertForSequenceClassification.\n",
      "\n",
      "Some layers of TFBertForSequenceClassification were not initialized from the model checkpoint at bert-base-uncased and are newly initialized: ['classifier']\n",
      "You should probably TRAIN this model on a down-stream task to be able to use it for predictions and inference.\n"
     ]
    }
   ],
   "source": [
    "from transformers import TFAutoModelForSequenceClassification\n",
    "\n",
    "model = TFAutoModelForSequenceClassification.from_pretrained(checkpoint, num_labels=2)"
   ]
  },
  {
   "cell_type": "code",
   "execution_count": 16,
   "metadata": {
    "ExecuteTime": {
     "end_time": "2023-05-14T13:48:09.370217200Z",
     "start_time": "2023-05-14T13:48:09.326125500Z"
    }
   },
   "outputs": [],
   "source": [
    "# Compile\n",
    "loss = tf.keras.losses.SparseCategoricalCrossentropy(from_logits=True)\n",
    "metrics = [\"accuracy\"]\n",
    "model.compile(optimizer=optimizer, loss=loss, metrics=metrics)"
   ]
  },
  {
   "cell_type": "code",
   "execution_count": 17,
   "metadata": {
    "ExecuteTime": {
     "end_time": "2023-05-14T13:50:55.704534Z",
     "start_time": "2023-05-14T13:48:09.342149600Z"
    }
   },
   "outputs": [
    {
     "name": "stdout",
     "output_type": "stream",
     "text": [
      "Epoch 1/10\n",
      "500/500 [==============================] - 49s 73ms/step - loss: 0.3275 - accuracy: 0.8597 - val_loss: 0.2647 - val_accuracy: 0.8780\n",
      "\n",
      "Epoch 00001: saving model to ../training_checkpoints\\sarcasm_eng_bert\\training_1\\cp-0001.ckpt\n",
      "Epoch 2/10\n",
      "500/500 [==============================] - 34s 69ms/step - loss: 0.1203 - accuracy: 0.9571 - val_loss: 0.2818 - val_accuracy: 0.8910\n",
      "\n",
      "Epoch 00002: saving model to ../training_checkpoints\\sarcasm_eng_bert\\training_1\\cp-0002.ckpt\n",
      "Epoch 3/10\n",
      "500/500 [==============================] - 34s 69ms/step - loss: 0.0481 - accuracy: 0.9833 - val_loss: 0.3336 - val_accuracy: 0.9170\n",
      "\n",
      "Epoch 00003: saving model to ../training_checkpoints\\sarcasm_eng_bert\\training_1\\cp-0003.ckpt\n",
      "Epoch 4/10\n",
      "500/500 [==============================] - 36s 71ms/step - loss: 0.0161 - accuracy: 0.9945 - val_loss: 0.4417 - val_accuracy: 0.9030\n",
      "\n",
      "Epoch 00004: saving model to ../training_checkpoints\\sarcasm_eng_bert\\training_1\\cp-0004.ckpt\n"
     ]
    }
   ],
   "source": [
    "history = model.fit(tf_train_dataset, validation_data=tf_val_dataset, epochs=num_epochs, callbacks=[checkpoint_cb, early_stop_cb])"
   ]
  },
  {
   "cell_type": "code",
   "execution_count": 18,
   "metadata": {
    "ExecuteTime": {
     "end_time": "2023-05-14T13:50:55.874962500Z",
     "start_time": "2023-05-14T13:50:55.706534300Z"
    }
   },
   "outputs": [
    {
     "data": {
      "text/plain": "<Figure size 640x480 with 1 Axes>",
      "image/png": "[encoded data removed]"
     },
     "metadata": {},
     "output_type": "display_data"
    }
   ],
   "source": [
    "plt.plot(history.history['accuracy'])\n",
    "plt.plot(history.history['val_accuracy'])\n",
    "plt.title('Model accuracy')\n",
    "plt.ylabel('Accuracy')\n",
    "plt.xlabel('Epoch')\n",
    "plt.legend(['Train', 'Val'], loc='upper left')\n",
    "plt.savefig(f\"../documentation/models/{model_name}/figures/{training_folder}_accuracy.png\")\n",
    "plt.show()"
   ]
  },
  {
   "cell_type": "code",
   "execution_count": 19,
   "metadata": {
    "ExecuteTime": {
     "end_time": "2023-05-14T13:50:58.708991300Z",
     "start_time": "2023-05-14T13:50:55.875958200Z"
    }
   },
   "outputs": [],
   "source": [
    "import shutil\n",
    "\n",
    "best_model_checkpoint_index = np.argmin(history.history[\"val_accuracy\"]) + 1\n",
    "best_model_weights_path = os.path.join(training_path, checkpoint_filename.format(epoch=best_model_checkpoint_index))\n",
    "best_model = model\n",
    "best_model.load_weights(best_model_weights_path)\n",
    "\n",
    "shutil.rmtree(training_path)"
   ]
  },
  {
   "cell_type": "code",
   "execution_count": 20,
   "metadata": {
    "ExecuteTime": {
     "end_time": "2023-05-14T13:51:40.041194700Z",
     "start_time": "2023-05-14T13:50:58.708991300Z"
    }
   },
   "outputs": [
    {
     "name": "stderr",
     "output_type": "stream",
     "text": [
      "WARNING:absl:Found untraced functions such as embeddings_layer_call_fn, embeddings_layer_call_and_return_conditional_losses, encoder_layer_call_fn, encoder_layer_call_and_return_conditional_losses, pooler_layer_call_fn while saving (showing 5 of 1050). These functions will not be directly callable after loading.\n"
     ]
    },
    {
     "name": "stdout",
     "output_type": "stream",
     "text": [
      "INFO:tensorflow:Assets written to: ../trained_models\\sarcasm_eng_bert_1\\1\\assets\n"
     ]
    },
    {
     "name": "stderr",
     "output_type": "stream",
     "text": [
      "INFO:tensorflow:Assets written to: ../trained_models\\sarcasm_eng_bert_1\\1\\assets\n"
     ]
    }
   ],
   "source": [
    "saved_model_name = f\"{model_name}_{training_number}\"\n",
    "\n",
    "# Save to Saved Model format\n",
    "best_model.save(os.path.join(Constants.SAVED_MODEL_LOCATION, saved_model_name, Constants.DEFAULT_MODEL_VERSION))"
   ]
  },
  {
   "cell_type": "code",
   "execution_count": 21,
   "metadata": {
    "ExecuteTime": {
     "end_time": "2023-05-14T13:51:42.117298500Z",
     "start_time": "2023-05-14T13:51:40.042193700Z"
    }
   },
   "outputs": [
    {
     "name": "stdout",
     "output_type": "stream",
     "text": [
      "63/63 [==============================] - 2s 29ms/step - loss: 0.2503 - accuracy: 0.8860\n"
     ]
    },
    {
     "data": {
      "text/plain": "[0.25032681226730347, 0.8859999775886536]"
     },
     "execution_count": 21,
     "metadata": {},
     "output_type": "execute_result"
    }
   ],
   "source": [
    "# Evaluation\n",
    "best_model.evaluate(tf_test_dataset, batch_size=32)"
   ]
  },
  {
   "cell_type": "code",
   "execution_count": 22,
   "outputs": [
    {
     "data": {
      "text/plain": "{'is_sarcastic': 0,\n 'headline': 'imf chief lagarde found guilty in french tycoon payout trial',\n 'input_ids': [101,\n  10047,\n  2546,\n  2708,\n  2474,\n  13444,\n  2063,\n  2179,\n  5905,\n  1999,\n  2413,\n  5939,\n  3597,\n  2239,\n  3477,\n  5833,\n  3979,\n  102],\n 'token_type_ids': [0, 0, 0, 0, 0, 0, 0, 0, 0, 0, 0, 0, 0, 0, 0, 0, 0, 0],\n 'attention_mask': [1, 1, 1, 1, 1, 1, 1, 1, 1, 1, 1, 1, 1, 1, 1, 1, 1, 1]}"
     },
     "execution_count": 22,
     "metadata": {},
     "output_type": "execute_result"
    }
   ],
   "source": [
    "tokenized_train_dataset[0]"
   ],
   "metadata": {
    "collapsed": false,
    "ExecuteTime": {
     "end_time": "2023-05-14T13:51:51.475521300Z",
     "start_time": "2023-05-14T13:51:51.432762200Z"
    }
   }
  },
  {
   "cell_type": "code",
   "execution_count": 25,
   "outputs": [],
   "source": [
    "prediction_logits = best_model.predict(tf_train_dataset)['logits']"
   ],
   "metadata": {
    "collapsed": false,
    "ExecuteTime": {
     "end_time": "2023-05-14T13:53:30.435441600Z",
     "start_time": "2023-05-14T13:53:17.440610500Z"
    }
   }
  },
  {
   "cell_type": "code",
   "execution_count": 26,
   "outputs": [
    {
     "data": {
      "text/plain": "array([ 2.209996 , -2.6576033], dtype=float32)"
     },
     "execution_count": 26,
     "metadata": {},
     "output_type": "execute_result"
    }
   ],
   "source": [
    "prediction_logits[0]"
   ],
   "metadata": {
    "collapsed": false,
    "ExecuteTime": {
     "end_time": "2023-05-14T13:53:34.267951900Z",
     "start_time": "2023-05-14T13:53:34.259918600Z"
    }
   }
  },
  {
   "cell_type": "code",
   "execution_count": null,
   "outputs": [],
   "source": [],
   "metadata": {
    "collapsed": false
   }
  }
 ],
 "metadata": {
  "kernelspec": {
   "display_name": "Python 3",
   "language": "python",
   "name": "python3"
  },
  "language_info": {
   "codemirror_mode": {
    "name": "ipython",
    "version": 3
   },
   "file_extension": ".py",
   "mimetype": "text/x-python",
   "name": "python",
   "nbconvert_exporter": "python",
   "pygments_lexer": "ipython3",
   "version": "3.9.16"
  }
 },
 "nbformat": 4,
 "nbformat_minor": 0
}
