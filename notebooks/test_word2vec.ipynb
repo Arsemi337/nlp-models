{
 "cells": [
  {
   "cell_type": "code",
   "execution_count": 1,
   "metadata": {
    "collapsed": true,
    "ExecuteTime": {
     "end_time": "2023-06-19T13:26:57.854995900Z",
     "start_time": "2023-06-19T13:26:57.223355600Z"
    }
   },
   "outputs": [
    {
     "data": {
      "text/plain": "       emotions                                            text_pl  \\\n0         anger                        Czuję się całkowicie chciwy   \n1          fear                Czuję się tak przytłoczony emocjami   \n2      surprise  Nie czułem efektu siły g Jestem oszołomiony Po...   \n3         anger  ive just got to tell you all that I feel Racze...   \n4         anger  Powiedziałem ci, że przepraszam, że czujesz si...   \n...         ...                                                ...   \n39995       joy  czuję się ostatnio dość hojny, ponieważ pracuj...   \n39996      love  Czuję, że niektóre postacie nie zasługują na w...   \n39997      fear  Czuję strach w moich kościach, którego nie moż...   \n39998       joy  Czułem się bardziej kreatywny i mniej jak czys...   \n39999   sadness          Czuję się zdruzgotany i pomagam Hellipowi   \n\n                                                  tokens  \\\n0                            [czuję, całkowicie, chciwy]   \n1                            [czuję, przytłocić, emocja]   \n2      [nie, czuć być, efekt, siła, g, oszołomiona, p...   \n3      [ive, just, got, tell, you, all, that, feel, r...   \n4      [powiedzieć być, przepraszać, czuć, sfrustrowa...   \n...                                                  ...   \n39995  [czuć, ostatnio, hojny, pracować, znacznie, zw...   \n39996  [czuję, niektóry, postać, nie, zasługiwać, wsp...   \n39997  [czuję, strach, kość, nie, móc, wytrząsnąć, wy...   \n39998            [czuć być, kreatywny, czysty, redaktor]   \n39999               [czuję, zdruzgotać, pomagać, hellip]   \n\n                                           joined_tokens  \n0                                czuję całkowicie chciwy  \n1                                czuję przytłocić emocja  \n2      nie czuć być efekt siła g oszołomiona poszedłe...  \n3      ive just got tell you all that feel raczej nie...  \n4      powiedzieć być przepraszać czuć sfrustrowany z...  \n...                                                  ...  \n39995  czuć ostatnio hojny pracować znacznie zwykle z...  \n39996  czuję niektóry postać nie zasługiwać wsparcie ...  \n39997  czuję strach kość nie móc wytrząsnąć wymuszć r...  \n39998                 czuć być kreatywny czysty redaktor  \n39999                    czuję zdruzgotać pomagać hellip  \n\n[40000 rows x 4 columns]",
      "text/html": "<div>\n<style scoped>\n    .dataframe tbody tr th:only-of-type {\n        vertical-align: middle;\n    }\n\n    .dataframe tbody tr th {\n        vertical-align: top;\n    }\n\n    .dataframe thead th {\n        text-align: right;\n    }\n</style>\n<table border=\"1\" class=\"dataframe\">\n  <thead>\n    <tr style=\"text-align: right;\">\n      <th></th>\n      <th>emotions</th>\n      <th>text_pl</th>\n      <th>tokens</th>\n      <th>joined_tokens</th>\n    </tr>\n  </thead>\n  <tbody>\n    <tr>\n      <th>0</th>\n      <td>anger</td>\n      <td>Czuję się całkowicie chciwy</td>\n      <td>[czuję, całkowicie, chciwy]</td>\n      <td>czuję całkowicie chciwy</td>\n    </tr>\n    <tr>\n      <th>1</th>\n      <td>fear</td>\n      <td>Czuję się tak przytłoczony emocjami</td>\n      <td>[czuję, przytłocić, emocja]</td>\n      <td>czuję przytłocić emocja</td>\n    </tr>\n    <tr>\n      <th>2</th>\n      <td>surprise</td>\n      <td>Nie czułem efektu siły g Jestem oszołomiony Po...</td>\n      <td>[nie, czuć być, efekt, siła, g, oszołomiona, p...</td>\n      <td>nie czuć być efekt siła g oszołomiona poszedłe...</td>\n    </tr>\n    <tr>\n      <th>3</th>\n      <td>anger</td>\n      <td>ive just got to tell you all that I feel Racze...</td>\n      <td>[ive, just, got, tell, you, all, that, feel, r...</td>\n      <td>ive just got tell you all that feel raczej nie...</td>\n    </tr>\n    <tr>\n      <th>4</th>\n      <td>anger</td>\n      <td>Powiedziałem ci, że przepraszam, że czujesz si...</td>\n      <td>[powiedzieć być, przepraszać, czuć, sfrustrowa...</td>\n      <td>powiedzieć być przepraszać czuć sfrustrowany z...</td>\n    </tr>\n    <tr>\n      <th>...</th>\n      <td>...</td>\n      <td>...</td>\n      <td>...</td>\n      <td>...</td>\n    </tr>\n    <tr>\n      <th>39995</th>\n      <td>joy</td>\n      <td>czuję się ostatnio dość hojny, ponieważ pracuj...</td>\n      <td>[czuć, ostatnio, hojny, pracować, znacznie, zw...</td>\n      <td>czuć ostatnio hojny pracować znacznie zwykle z...</td>\n    </tr>\n    <tr>\n      <th>39996</th>\n      <td>love</td>\n      <td>Czuję, że niektóre postacie nie zasługują na w...</td>\n      <td>[czuję, niektóry, postać, nie, zasługiwać, wsp...</td>\n      <td>czuję niektóry postać nie zasługiwać wsparcie ...</td>\n    </tr>\n    <tr>\n      <th>39997</th>\n      <td>fear</td>\n      <td>Czuję strach w moich kościach, którego nie moż...</td>\n      <td>[czuję, strach, kość, nie, móc, wytrząsnąć, wy...</td>\n      <td>czuję strach kość nie móc wytrząsnąć wymuszć r...</td>\n    </tr>\n    <tr>\n      <th>39998</th>\n      <td>joy</td>\n      <td>Czułem się bardziej kreatywny i mniej jak czys...</td>\n      <td>[czuć być, kreatywny, czysty, redaktor]</td>\n      <td>czuć być kreatywny czysty redaktor</td>\n    </tr>\n    <tr>\n      <th>39999</th>\n      <td>sadness</td>\n      <td>Czuję się zdruzgotany i pomagam Hellipowi</td>\n      <td>[czuję, zdruzgotać, pomagać, hellip]</td>\n      <td>czuję zdruzgotać pomagać hellip</td>\n    </tr>\n  </tbody>\n</table>\n<p>40000 rows × 4 columns</p>\n</div>"
     },
     "execution_count": 1,
     "metadata": {},
     "output_type": "execute_result"
    }
   ],
   "source": [
    "import pandas as pd\n",
    "import numpy as np\n",
    "\n",
    "df = pd.read_json('./../data/polish_translated/emotions/equalized_emotions_dataset_pl_with_tokens.json')\n",
    "df"
   ]
  },
  {
   "cell_type": "code",
   "execution_count": 2,
   "outputs": [
    {
     "data": {
      "text/plain": "       emotions                                            text_pl  \\\n0         anger                        Czuję się całkowicie chciwy   \n1          fear                Czuję się tak przytłoczony emocjami   \n2      surprise  Nie czułem efektu siły g Jestem oszołomiony Po...   \n3         anger  ive just got to tell you all that I feel Racze...   \n4         anger  Powiedziałem ci, że przepraszam, że czujesz si...   \n...         ...                                                ...   \n39995       joy  czuję się ostatnio dość hojny, ponieważ pracuj...   \n39996      love  Czuję, że niektóre postacie nie zasługują na w...   \n39997      fear  Czuję strach w moich kościach, którego nie moż...   \n39998       joy  Czułem się bardziej kreatywny i mniej jak czys...   \n39999   sadness          Czuję się zdruzgotany i pomagam Hellipowi   \n\n                                                  tokens  \\\n0                            [czuję, całkowicie, chciwy]   \n1                            [czuję, przytłocić, emocja]   \n2      [nie, czuć, być, efekt, siła, g, oszołomiona, ...   \n3      [ive, just, got, tell, you, all, that, feel, r...   \n4      [powiedzieć, być, przepraszać, czuć, sfrustrow...   \n...                                                  ...   \n39995  [czuć, ostatnio, hojny, pracować, znacznie, zw...   \n39996  [czuję, niektóry, postać, nie, zasługiwać, wsp...   \n39997  [czuję, strach, kość, nie, móc, wytrząsnąć, wy...   \n39998           [czuć, być, kreatywny, czysty, redaktor]   \n39999               [czuję, zdruzgotać, pomagać, hellip]   \n\n                                           joined_tokens  \n0                                czuję całkowicie chciwy  \n1                                czuję przytłocić emocja  \n2      nie czuć być efekt siła g oszołomiona poszedłe...  \n3      ive just got tell you all that feel raczej nie...  \n4      powiedzieć być przepraszać czuć sfrustrowany z...  \n...                                                  ...  \n39995  czuć ostatnio hojny pracować znacznie zwykle z...  \n39996  czuję niektóry postać nie zasługiwać wsparcie ...  \n39997  czuję strach kość nie móc wytrząsnąć wymuszć r...  \n39998                 czuć być kreatywny czysty redaktor  \n39999                    czuję zdruzgotać pomagać hellip  \n\n[40000 rows x 4 columns]",
      "text/html": "<div>\n<style scoped>\n    .dataframe tbody tr th:only-of-type {\n        vertical-align: middle;\n    }\n\n    .dataframe tbody tr th {\n        vertical-align: top;\n    }\n\n    .dataframe thead th {\n        text-align: right;\n    }\n</style>\n<table border=\"1\" class=\"dataframe\">\n  <thead>\n    <tr style=\"text-align: right;\">\n      <th></th>\n      <th>emotions</th>\n      <th>text_pl</th>\n      <th>tokens</th>\n      <th>joined_tokens</th>\n    </tr>\n  </thead>\n  <tbody>\n    <tr>\n      <th>0</th>\n      <td>anger</td>\n      <td>Czuję się całkowicie chciwy</td>\n      <td>[czuję, całkowicie, chciwy]</td>\n      <td>czuję całkowicie chciwy</td>\n    </tr>\n    <tr>\n      <th>1</th>\n      <td>fear</td>\n      <td>Czuję się tak przytłoczony emocjami</td>\n      <td>[czuję, przytłocić, emocja]</td>\n      <td>czuję przytłocić emocja</td>\n    </tr>\n    <tr>\n      <th>2</th>\n      <td>surprise</td>\n      <td>Nie czułem efektu siły g Jestem oszołomiony Po...</td>\n      <td>[nie, czuć, być, efekt, siła, g, oszołomiona, ...</td>\n      <td>nie czuć być efekt siła g oszołomiona poszedłe...</td>\n    </tr>\n    <tr>\n      <th>3</th>\n      <td>anger</td>\n      <td>ive just got to tell you all that I feel Racze...</td>\n      <td>[ive, just, got, tell, you, all, that, feel, r...</td>\n      <td>ive just got tell you all that feel raczej nie...</td>\n    </tr>\n    <tr>\n      <th>4</th>\n      <td>anger</td>\n      <td>Powiedziałem ci, że przepraszam, że czujesz si...</td>\n      <td>[powiedzieć, być, przepraszać, czuć, sfrustrow...</td>\n      <td>powiedzieć być przepraszać czuć sfrustrowany z...</td>\n    </tr>\n    <tr>\n      <th>...</th>\n      <td>...</td>\n      <td>...</td>\n      <td>...</td>\n      <td>...</td>\n    </tr>\n    <tr>\n      <th>39995</th>\n      <td>joy</td>\n      <td>czuję się ostatnio dość hojny, ponieważ pracuj...</td>\n      <td>[czuć, ostatnio, hojny, pracować, znacznie, zw...</td>\n      <td>czuć ostatnio hojny pracować znacznie zwykle z...</td>\n    </tr>\n    <tr>\n      <th>39996</th>\n      <td>love</td>\n      <td>Czuję, że niektóre postacie nie zasługują na w...</td>\n      <td>[czuję, niektóry, postać, nie, zasługiwać, wsp...</td>\n      <td>czuję niektóry postać nie zasługiwać wsparcie ...</td>\n    </tr>\n    <tr>\n      <th>39997</th>\n      <td>fear</td>\n      <td>Czuję strach w moich kościach, którego nie moż...</td>\n      <td>[czuję, strach, kość, nie, móc, wytrząsnąć, wy...</td>\n      <td>czuję strach kość nie móc wytrząsnąć wymuszć r...</td>\n    </tr>\n    <tr>\n      <th>39998</th>\n      <td>joy</td>\n      <td>Czułem się bardziej kreatywny i mniej jak czys...</td>\n      <td>[czuć, być, kreatywny, czysty, redaktor]</td>\n      <td>czuć być kreatywny czysty redaktor</td>\n    </tr>\n    <tr>\n      <th>39999</th>\n      <td>sadness</td>\n      <td>Czuję się zdruzgotany i pomagam Hellipowi</td>\n      <td>[czuję, zdruzgotać, pomagać, hellip]</td>\n      <td>czuję zdruzgotać pomagać hellip</td>\n    </tr>\n  </tbody>\n</table>\n<p>40000 rows × 4 columns</p>\n</div>"
     },
     "execution_count": 2,
     "metadata": {},
     "output_type": "execute_result"
    }
   ],
   "source": [
    "df['tokens'] = df['joined_tokens'].apply(lambda joined_tokens: joined_tokens.split())\n",
    "df"
   ],
   "metadata": {
    "collapsed": false,
    "ExecuteTime": {
     "end_time": "2023-06-19T13:26:57.962994500Z",
     "start_time": "2023-06-19T13:26:57.856996400Z"
    }
   }
  },
  {
   "cell_type": "code",
   "execution_count": 3,
   "outputs": [
    {
     "data": {
      "text/plain": "       emotions                                            text_pl  \\\n0             4                        Czuję się całkowicie chciwy   \n1             5                Czuję się tak przytłoczony emocjami   \n2             2  Nie czułem efektu siły g Jestem oszołomiony Po...   \n3             4  ive just got to tell you all that I feel Racze...   \n4             4  Powiedziałem ci, że przepraszam, że czujesz si...   \n...         ...                                                ...   \n39995         0  czuję się ostatnio dość hojny, ponieważ pracuj...   \n39996         1  Czuję, że niektóre postacie nie zasługują na w...   \n39997         5  Czuję strach w moich kościach, którego nie moż...   \n39998         0  Czułem się bardziej kreatywny i mniej jak czys...   \n39999         3          Czuję się zdruzgotany i pomagam Hellipowi   \n\n                                                  tokens  \\\n0                            [czuję, całkowicie, chciwy]   \n1                            [czuję, przytłocić, emocja]   \n2      [nie, czuć, być, efekt, siła, g, oszołomiona, ...   \n3      [ive, just, got, tell, you, all, that, feel, r...   \n4      [powiedzieć, być, przepraszać, czuć, sfrustrow...   \n...                                                  ...   \n39995  [czuć, ostatnio, hojny, pracować, znacznie, zw...   \n39996  [czuję, niektóry, postać, nie, zasługiwać, wsp...   \n39997  [czuję, strach, kość, nie, móc, wytrząsnąć, wy...   \n39998           [czuć, być, kreatywny, czysty, redaktor]   \n39999               [czuję, zdruzgotać, pomagać, hellip]   \n\n                                           joined_tokens  \n0                                czuję całkowicie chciwy  \n1                                czuję przytłocić emocja  \n2      nie czuć być efekt siła g oszołomiona poszedłe...  \n3      ive just got tell you all that feel raczej nie...  \n4      powiedzieć być przepraszać czuć sfrustrowany z...  \n...                                                  ...  \n39995  czuć ostatnio hojny pracować znacznie zwykle z...  \n39996  czuję niektóry postać nie zasługiwać wsparcie ...  \n39997  czuję strach kość nie móc wytrząsnąć wymuszć r...  \n39998                 czuć być kreatywny czysty redaktor  \n39999                    czuję zdruzgotać pomagać hellip  \n\n[40000 rows x 4 columns]",
      "text/html": "<div>\n<style scoped>\n    .dataframe tbody tr th:only-of-type {\n        vertical-align: middle;\n    }\n\n    .dataframe tbody tr th {\n        vertical-align: top;\n    }\n\n    .dataframe thead th {\n        text-align: right;\n    }\n</style>\n<table border=\"1\" class=\"dataframe\">\n  <thead>\n    <tr style=\"text-align: right;\">\n      <th></th>\n      <th>emotions</th>\n      <th>text_pl</th>\n      <th>tokens</th>\n      <th>joined_tokens</th>\n    </tr>\n  </thead>\n  <tbody>\n    <tr>\n      <th>0</th>\n      <td>4</td>\n      <td>Czuję się całkowicie chciwy</td>\n      <td>[czuję, całkowicie, chciwy]</td>\n      <td>czuję całkowicie chciwy</td>\n    </tr>\n    <tr>\n      <th>1</th>\n      <td>5</td>\n      <td>Czuję się tak przytłoczony emocjami</td>\n      <td>[czuję, przytłocić, emocja]</td>\n      <td>czuję przytłocić emocja</td>\n    </tr>\n    <tr>\n      <th>2</th>\n      <td>2</td>\n      <td>Nie czułem efektu siły g Jestem oszołomiony Po...</td>\n      <td>[nie, czuć, być, efekt, siła, g, oszołomiona, ...</td>\n      <td>nie czuć być efekt siła g oszołomiona poszedłe...</td>\n    </tr>\n    <tr>\n      <th>3</th>\n      <td>4</td>\n      <td>ive just got to tell you all that I feel Racze...</td>\n      <td>[ive, just, got, tell, you, all, that, feel, r...</td>\n      <td>ive just got tell you all that feel raczej nie...</td>\n    </tr>\n    <tr>\n      <th>4</th>\n      <td>4</td>\n      <td>Powiedziałem ci, że przepraszam, że czujesz si...</td>\n      <td>[powiedzieć, być, przepraszać, czuć, sfrustrow...</td>\n      <td>powiedzieć być przepraszać czuć sfrustrowany z...</td>\n    </tr>\n    <tr>\n      <th>...</th>\n      <td>...</td>\n      <td>...</td>\n      <td>...</td>\n      <td>...</td>\n    </tr>\n    <tr>\n      <th>39995</th>\n      <td>0</td>\n      <td>czuję się ostatnio dość hojny, ponieważ pracuj...</td>\n      <td>[czuć, ostatnio, hojny, pracować, znacznie, zw...</td>\n      <td>czuć ostatnio hojny pracować znacznie zwykle z...</td>\n    </tr>\n    <tr>\n      <th>39996</th>\n      <td>1</td>\n      <td>Czuję, że niektóre postacie nie zasługują na w...</td>\n      <td>[czuję, niektóry, postać, nie, zasługiwać, wsp...</td>\n      <td>czuję niektóry postać nie zasługiwać wsparcie ...</td>\n    </tr>\n    <tr>\n      <th>39997</th>\n      <td>5</td>\n      <td>Czuję strach w moich kościach, którego nie moż...</td>\n      <td>[czuję, strach, kość, nie, móc, wytrząsnąć, wy...</td>\n      <td>czuję strach kość nie móc wytrząsnąć wymuszć r...</td>\n    </tr>\n    <tr>\n      <th>39998</th>\n      <td>0</td>\n      <td>Czułem się bardziej kreatywny i mniej jak czys...</td>\n      <td>[czuć, być, kreatywny, czysty, redaktor]</td>\n      <td>czuć być kreatywny czysty redaktor</td>\n    </tr>\n    <tr>\n      <th>39999</th>\n      <td>3</td>\n      <td>Czuję się zdruzgotany i pomagam Hellipowi</td>\n      <td>[czuję, zdruzgotać, pomagać, hellip]</td>\n      <td>czuję zdruzgotać pomagać hellip</td>\n    </tr>\n  </tbody>\n</table>\n<p>40000 rows × 4 columns</p>\n</div>"
     },
     "execution_count": 3,
     "metadata": {},
     "output_type": "execute_result"
    }
   ],
   "source": [
    "ordered_class_labels = {\n",
    "    \"joy\": 0,\n",
    "    \"love\": 1,\n",
    "    \"surprise\": 2,\n",
    "    \"sadness\": 3,\n",
    "    \"anger\": 4,\n",
    "    \"fear\": 5,\n",
    "}\n",
    "\n",
    "df = df.replace({\"emotions\": ordered_class_labels})\n",
    "df"
   ],
   "metadata": {
    "collapsed": false,
    "ExecuteTime": {
     "end_time": "2023-06-19T13:26:58.049368700Z",
     "start_time": "2023-06-19T13:26:57.948345700Z"
    }
   }
  },
  {
   "cell_type": "code",
   "execution_count": 4,
   "outputs": [],
   "source": [
    "tokens = df['tokens'].values"
   ],
   "metadata": {
    "collapsed": false,
    "ExecuteTime": {
     "end_time": "2023-06-19T13:26:59.643403400Z",
     "start_time": "2023-06-19T13:26:59.627033400Z"
    }
   }
  },
  {
   "cell_type": "code",
   "execution_count": 5,
   "outputs": [],
   "source": [
    "import gensim\n",
    "\n",
    "EMBEDDING_DIM = 100\n",
    "\n",
    "word2vec_model = gensim.models.Word2Vec(sentences=tokens, vector_size=EMBEDDING_DIM, window=4, min_count=1)"
   ],
   "metadata": {
    "collapsed": false,
    "ExecuteTime": {
     "end_time": "2023-06-19T13:27:02.059400500Z",
     "start_time": "2023-06-19T13:27:00.074028600Z"
    }
   }
  },
  {
   "cell_type": "code",
   "execution_count": 6,
   "outputs": [],
   "source": [
    "filename = 'test_embedding_word2vec.txt'\n",
    "word2vec_model.wv.save_word2vec_format(filename, binary=False)"
   ],
   "metadata": {
    "collapsed": false,
    "ExecuteTime": {
     "end_time": "2023-06-19T13:27:03.892157900Z",
     "start_time": "2023-06-19T13:27:02.593113200Z"
    }
   }
  },
  {
   "cell_type": "code",
   "execution_count": 14,
   "outputs": [],
   "source": [
    "import os\n",
    "\n",
    "embeddings_index = {}\n",
    "f = open(os.path.join('.', 'test_embedding_word2vec.txt'), encoding='utf-8')\n",
    "for line in f:\n",
    "    values = line.split()\n",
    "    word = values[0]\n",
    "    coefficients = np.asarray(values[1:])\n",
    "    embeddings_index[word] = coefficients\n",
    "f.close()"
   ],
   "metadata": {
    "collapsed": false,
    "ExecuteTime": {
     "end_time": "2023-06-19T13:27:52.305280Z",
     "start_time": "2023-06-19T13:27:51.459643200Z"
    }
   }
  },
  {
   "cell_type": "code",
   "execution_count": 15,
   "outputs": [],
   "source": [
    "X_train = df.loc[:29999, 'joined_tokens'].values\n",
    "y_train = df.loc[:29999, 'emotions'].values\n",
    "X_test = df.loc[30000:, 'joined_tokens'].values\n",
    "y_test = df.loc[30000:, 'emotions'].values"
   ],
   "metadata": {
    "collapsed": false,
    "ExecuteTime": {
     "end_time": "2023-06-19T13:27:52.588161400Z",
     "start_time": "2023-06-19T13:27:52.566627100Z"
    }
   }
  },
  {
   "cell_type": "code",
   "execution_count": 16,
   "outputs": [],
   "source": [
    "from tensorflow.keras.preprocessing.text import Tokenizer\n",
    "from tensorflow.keras.preprocessing.sequence import pad_sequences\n",
    "\n",
    "tokenizer = Tokenizer()\n",
    "tokenizer.fit_on_texts(tokens)\n",
    "\n",
    "# pad sequences\n",
    "word_index = tokenizer.word_index\n",
    "unique_tokens_count = len(word_index)\n",
    "max_length = max([len(tokens_sample) for tokens_sample in tokens])\n",
    "vocab_size = len(word_index) + 1\n",
    "\n",
    "X_train_sequences = tokenizer.texts_to_sequences(X_train)\n",
    "X_test_sequences = tokenizer.texts_to_sequences(X_test)\n",
    "\n",
    "X_train_pad = pad_sequences(X_train_sequences, maxlen=max_length, padding='post')\n",
    "X_test_pad = pad_sequences(X_test_sequences, maxlen=max_length, padding='post')"
   ],
   "metadata": {
    "collapsed": false,
    "ExecuteTime": {
     "end_time": "2023-06-19T13:27:57.249120500Z",
     "start_time": "2023-06-19T13:27:54.302490600Z"
    }
   }
  },
  {
   "cell_type": "code",
   "execution_count": 17,
   "outputs": [],
   "source": [
    "embedding_matrix = np.zeros((vocab_size, EMBEDDING_DIM))\n",
    "\n",
    "for word, i in word_index.items():\n",
    "    if i > vocab_size:\n",
    "        continue\n",
    "    embedding_vector = embeddings_index.get(word)\n",
    "    if embedding_vector is not None:\n",
    "        # words not found in embedding index will be all-zeros.\n",
    "        embedding_matrix[i] = embedding_vector"
   ],
   "metadata": {
    "collapsed": false,
    "ExecuteTime": {
     "end_time": "2023-06-19T13:27:58.111683400Z",
     "start_time": "2023-06-19T13:27:57.251119800Z"
    }
   }
  },
  {
   "cell_type": "code",
   "execution_count": 18,
   "outputs": [],
   "source": [
    "from tensorflow.keras.models import Sequential\n",
    "from tensorflow.keras.layers import Dense, Embedding, Flatten\n",
    "from tensorflow.keras.initializers import Constant\n",
    "\n",
    "model = Sequential()\n",
    "model.add(Embedding(vocab_size, EMBEDDING_DIM, embeddings_initializer=Constant(embedding_matrix), input_length=max_length, trainable=False))\n",
    "model.add(Flatten())\n",
    "model.add(Dense(128, activation='relu'))\n",
    "model.add(Dense(6, activation='softmax'))\n",
    "\n",
    "model.compile(loss='sparse_categorical_crossentropy', optimizer='adam', metrics=['accuracy'])"
   ],
   "metadata": {
    "collapsed": false,
    "ExecuteTime": {
     "end_time": "2023-06-19T13:28:01.241523500Z",
     "start_time": "2023-06-19T13:27:58.114192800Z"
    }
   }
  },
  {
   "cell_type": "code",
   "execution_count": 20,
   "outputs": [
    {
     "name": "stdout",
     "output_type": "stream",
     "text": [
      "Epoch 1/30\n",
      "235/235 [==============================] - 1s 3ms/step - loss: 1.5545 - accuracy: 0.3550 - val_loss: 1.6975 - val_accuracy: 0.2895\n",
      "Epoch 2/30\n",
      "235/235 [==============================] - 0s 2ms/step - loss: 1.5419 - accuracy: 0.3641 - val_loss: 1.7098 - val_accuracy: 0.2853\n",
      "Epoch 3/30\n",
      "235/235 [==============================] - 0s 2ms/step - loss: 1.5291 - accuracy: 0.3685 - val_loss: 1.7103 - val_accuracy: 0.2914\n",
      "Epoch 4/30\n",
      "235/235 [==============================] - 0s 2ms/step - loss: 1.5158 - accuracy: 0.3797 - val_loss: 1.7191 - val_accuracy: 0.2987\n",
      "Epoch 5/30\n",
      "235/235 [==============================] - 0s 2ms/step - loss: 1.5032 - accuracy: 0.3835 - val_loss: 1.7199 - val_accuracy: 0.3005\n",
      "Epoch 6/30\n",
      "235/235 [==============================] - 0s 2ms/step - loss: 1.4929 - accuracy: 0.3863 - val_loss: 1.7293 - val_accuracy: 0.2961\n",
      "Epoch 7/30\n",
      "235/235 [==============================] - 0s 2ms/step - loss: 1.4821 - accuracy: 0.3939 - val_loss: 1.7381 - val_accuracy: 0.2946\n",
      "Epoch 8/30\n",
      "235/235 [==============================] - 0s 2ms/step - loss: 1.4750 - accuracy: 0.3953 - val_loss: 1.7368 - val_accuracy: 0.3079\n",
      "Epoch 9/30\n",
      "235/235 [==============================] - 0s 2ms/step - loss: 1.4614 - accuracy: 0.4021 - val_loss: 1.7497 - val_accuracy: 0.3036\n",
      "Epoch 10/30\n",
      "235/235 [==============================] - 0s 2ms/step - loss: 1.4541 - accuracy: 0.4065 - val_loss: 1.7422 - val_accuracy: 0.3060\n",
      "Epoch 11/30\n",
      "235/235 [==============================] - 0s 2ms/step - loss: 1.4449 - accuracy: 0.4115 - val_loss: 1.7566 - val_accuracy: 0.3006\n",
      "Epoch 12/30\n",
      "235/235 [==============================] - 0s 2ms/step - loss: 1.4374 - accuracy: 0.4165 - val_loss: 1.7671 - val_accuracy: 0.3061\n",
      "Epoch 13/30\n",
      "235/235 [==============================] - 0s 2ms/step - loss: 1.4294 - accuracy: 0.4188 - val_loss: 1.7756 - val_accuracy: 0.3067\n",
      "Epoch 14/30\n",
      "235/235 [==============================] - 0s 2ms/step - loss: 1.4207 - accuracy: 0.4248 - val_loss: 1.7702 - val_accuracy: 0.3103\n",
      "Epoch 15/30\n",
      "235/235 [==============================] - 0s 2ms/step - loss: 1.4122 - accuracy: 0.4281 - val_loss: 1.7843 - val_accuracy: 0.3103\n",
      "Epoch 16/30\n",
      "235/235 [==============================] - 0s 2ms/step - loss: 1.4035 - accuracy: 0.4288 - val_loss: 1.7927 - val_accuracy: 0.3081\n",
      "Epoch 17/30\n",
      "235/235 [==============================] - 0s 2ms/step - loss: 1.3988 - accuracy: 0.4338 - val_loss: 1.7995 - val_accuracy: 0.3142\n",
      "Epoch 18/30\n",
      "235/235 [==============================] - 0s 2ms/step - loss: 1.3924 - accuracy: 0.4375 - val_loss: 1.7967 - val_accuracy: 0.3077\n",
      "Epoch 19/30\n",
      "235/235 [==============================] - 0s 2ms/step - loss: 1.3840 - accuracy: 0.4403 - val_loss: 1.8181 - val_accuracy: 0.3098\n",
      "Epoch 20/30\n",
      "235/235 [==============================] - 0s 2ms/step - loss: 1.3817 - accuracy: 0.4413 - val_loss: 1.8301 - val_accuracy: 0.3086\n",
      "Epoch 21/30\n",
      "235/235 [==============================] - 0s 2ms/step - loss: 1.3747 - accuracy: 0.4463 - val_loss: 1.8527 - val_accuracy: 0.3095\n",
      "Epoch 22/30\n",
      "235/235 [==============================] - 0s 2ms/step - loss: 1.3700 - accuracy: 0.4454 - val_loss: 1.8570 - val_accuracy: 0.3080\n",
      "Epoch 23/30\n",
      "235/235 [==============================] - 0s 2ms/step - loss: 1.3671 - accuracy: 0.4478 - val_loss: 1.8496 - val_accuracy: 0.3060\n",
      "Epoch 24/30\n",
      "235/235 [==============================] - 0s 2ms/step - loss: 1.3586 - accuracy: 0.4502 - val_loss: 1.8406 - val_accuracy: 0.3154\n",
      "Epoch 25/30\n",
      "235/235 [==============================] - 0s 2ms/step - loss: 1.3533 - accuracy: 0.4533 - val_loss: 1.8651 - val_accuracy: 0.3102\n",
      "Epoch 26/30\n",
      "235/235 [==============================] - 0s 2ms/step - loss: 1.3474 - accuracy: 0.4551 - val_loss: 1.8865 - val_accuracy: 0.3102\n",
      "Epoch 27/30\n",
      "235/235 [==============================] - 0s 2ms/step - loss: 1.3479 - accuracy: 0.4595 - val_loss: 1.8919 - val_accuracy: 0.3067\n",
      "Epoch 28/30\n",
      "235/235 [==============================] - 0s 2ms/step - loss: 1.3387 - accuracy: 0.4604 - val_loss: 1.8897 - val_accuracy: 0.3018\n",
      "Epoch 29/30\n",
      "235/235 [==============================] - 0s 2ms/step - loss: 1.3339 - accuracy: 0.4592 - val_loss: 1.9009 - val_accuracy: 0.3150\n",
      "Epoch 30/30\n",
      "235/235 [==============================] - 0s 2ms/step - loss: 1.3322 - accuracy: 0.4617 - val_loss: 1.9066 - val_accuracy: 0.3154\n"
     ]
    }
   ],
   "source": [
    "history = model.fit(X_train_pad, y_train, batch_size=128, epochs=30, validation_data=(X_test_pad, y_test))"
   ],
   "metadata": {
    "collapsed": false,
    "ExecuteTime": {
     "end_time": "2023-06-19T13:28:33.579974200Z",
     "start_time": "2023-06-19T13:28:19.307494100Z"
    }
   }
  },
  {
   "cell_type": "code",
   "execution_count": null,
   "outputs": [],
   "source": [],
   "metadata": {
    "collapsed": false
   }
  }
 ],
 "metadata": {
  "kernelspec": {
   "display_name": "Python 3",
   "language": "python",
   "name": "python3"
  },
  "language_info": {
   "codemirror_mode": {
    "name": "ipython",
    "version": 2
   },
   "file_extension": ".py",
   "mimetype": "text/x-python",
   "name": "python",
   "nbconvert_exporter": "python",
   "pygments_lexer": "ipython2",
   "version": "2.7.6"
  }
 },
 "nbformat": 4,
 "nbformat_minor": 0
}
