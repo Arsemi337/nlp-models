{
 "cells": [
  {
   "cell_type": "code",
   "execution_count": 1,
   "metadata": {
    "collapsed": true,
    "ExecuteTime": {
     "end_time": "2023-06-24T08:45:29.129319700Z",
     "start_time": "2023-06-24T08:45:25.009361600Z"
    }
   },
   "outputs": [],
   "source": [
    "import os\n",
    "import tensorflow as tf\n",
    "import pandas as pd\n",
    "import numpy as np\n",
    "import gensim\n",
    "import spacy\n",
    "import string\n",
    "import core.model_utils as model_utils\n",
    "from sklearn.metrics import accuracy_score\n",
    "import matplotlib.pyplot as plt\n",
    "\n",
    "from transformers import AutoTokenizer, DataCollatorWithPadding\n",
    "from datasets import Dataset"
   ]
  },
  {
   "cell_type": "code",
   "execution_count": 2,
   "outputs": [
    {
     "data": {
      "text/plain": "       label                                               text  \\\n0          1  Naukowcy z lat trzydziestych odkrywają zegar z...   \n1          0  Reprezentantka rządu USA wyjaśnia, dlaczego Ko...   \n2          0          Jedz warzywa: 9 pysznie różnych przepisów   \n3          1  Nieprzyjemna pogoda uniemożliwia kłamcy dotarc...   \n4          1  matka jest bardzo blisko użycia słowa \"streami...   \n...      ...                                                ...   \n28614      1               Żydzi świętują Rosh Hashasha czy coś   \n28615      1  Śledczy spraw wewnętrznych rozczarowany spiski...   \n28616      0  Najpiękniejsza przemowa akceptacyjna w tym tyg...   \n28617      1  Mars zniszczony przez pałac kosmiczny na orbic...   \n28618      1  Tata wyjaśnia, że to nie jest przerwa na jedzenie   \n\n                                                  tokens  \\\n0      [naukowiec, rok, trzydziesty, odkrywać, zegar,...   \n1      [reprezentantek, rząd, usa, wyjaśniać, kongres...   \n2           [jedz, warzywać, 9, pysznie, różny, przepis]   \n3      [nieprzyjemny, pogoda, uniemożliwiać, kłamca, ...   \n4      [matka, blisko, użyć, słowo, streaming, popraw...   \n...                                                  ...   \n28614                 [żydzi, świętować, rosh, hashasha]   \n28615  [śledczy, sprawa, wewnętrzny, rozczarować, spi...   \n28616  [najpiękniejsza, przemowy, akceptacyjny, tydzi...   \n28617  [mars, zniszczona, pałac, kosmiczny, orbicie, ...   \n28618                   [tata, wyjaśniać, przerwa, jeść]   \n\n                                           joined_tokens  \n0      naukowiec rok trzydziesty odkrywać zegar zagła...  \n1      reprezentantek rząd usa wyjaśniać kongres brak...  \n2                  jedz warzywać 9 pysznie różny przepis  \n3      nieprzyjemny pogoda uniemożliwiać kłamca dotar...  \n4            matka blisko użyć słowo streaming poprawnie  \n...                                                  ...  \n28614                      żydzi świętować rosh hashasha  \n28615  śledczy sprawa wewnętrzny rozczarować spisk iś...  \n28616  najpiękniejsza przemowy akceptacyjny tydzień p...  \n28617  mars zniszczona pałac kosmiczny orbicie wrót g...  \n28618                        tata wyjaśniać przerwa jeść  \n\n[28619 rows x 4 columns]",
      "text/html": "<div>\n<style scoped>\n    .dataframe tbody tr th:only-of-type {\n        vertical-align: middle;\n    }\n\n    .dataframe tbody tr th {\n        vertical-align: top;\n    }\n\n    .dataframe thead th {\n        text-align: right;\n    }\n</style>\n<table border=\"1\" class=\"dataframe\">\n  <thead>\n    <tr style=\"text-align: right;\">\n      <th></th>\n      <th>label</th>\n      <th>text</th>\n      <th>tokens</th>\n      <th>joined_tokens</th>\n    </tr>\n  </thead>\n  <tbody>\n    <tr>\n      <th>0</th>\n      <td>1</td>\n      <td>Naukowcy z lat trzydziestych odkrywają zegar z...</td>\n      <td>[naukowiec, rok, trzydziesty, odkrywać, zegar,...</td>\n      <td>naukowiec rok trzydziesty odkrywać zegar zagła...</td>\n    </tr>\n    <tr>\n      <th>1</th>\n      <td>0</td>\n      <td>Reprezentantka rządu USA wyjaśnia, dlaczego Ko...</td>\n      <td>[reprezentantek, rząd, usa, wyjaśniać, kongres...</td>\n      <td>reprezentantek rząd usa wyjaśniać kongres brak...</td>\n    </tr>\n    <tr>\n      <th>2</th>\n      <td>0</td>\n      <td>Jedz warzywa: 9 pysznie różnych przepisów</td>\n      <td>[jedz, warzywać, 9, pysznie, różny, przepis]</td>\n      <td>jedz warzywać 9 pysznie różny przepis</td>\n    </tr>\n    <tr>\n      <th>3</th>\n      <td>1</td>\n      <td>Nieprzyjemna pogoda uniemożliwia kłamcy dotarc...</td>\n      <td>[nieprzyjemny, pogoda, uniemożliwiać, kłamca, ...</td>\n      <td>nieprzyjemny pogoda uniemożliwiać kłamca dotar...</td>\n    </tr>\n    <tr>\n      <th>4</th>\n      <td>1</td>\n      <td>matka jest bardzo blisko użycia słowa \"streami...</td>\n      <td>[matka, blisko, użyć, słowo, streaming, popraw...</td>\n      <td>matka blisko użyć słowo streaming poprawnie</td>\n    </tr>\n    <tr>\n      <th>...</th>\n      <td>...</td>\n      <td>...</td>\n      <td>...</td>\n      <td>...</td>\n    </tr>\n    <tr>\n      <th>28614</th>\n      <td>1</td>\n      <td>Żydzi świętują Rosh Hashasha czy coś</td>\n      <td>[żydzi, świętować, rosh, hashasha]</td>\n      <td>żydzi świętować rosh hashasha</td>\n    </tr>\n    <tr>\n      <th>28615</th>\n      <td>1</td>\n      <td>Śledczy spraw wewnętrznych rozczarowany spiski...</td>\n      <td>[śledczy, sprawa, wewnętrzny, rozczarować, spi...</td>\n      <td>śledczy sprawa wewnętrzny rozczarować spisk iś...</td>\n    </tr>\n    <tr>\n      <th>28616</th>\n      <td>0</td>\n      <td>Najpiękniejsza przemowa akceptacyjna w tym tyg...</td>\n      <td>[najpiękniejsza, przemowy, akceptacyjny, tydzi...</td>\n      <td>najpiękniejsza przemowy akceptacyjny tydzień p...</td>\n    </tr>\n    <tr>\n      <th>28617</th>\n      <td>1</td>\n      <td>Mars zniszczony przez pałac kosmiczny na orbic...</td>\n      <td>[mars, zniszczona, pałac, kosmiczny, orbicie, ...</td>\n      <td>mars zniszczona pałac kosmiczny orbicie wrót g...</td>\n    </tr>\n    <tr>\n      <th>28618</th>\n      <td>1</td>\n      <td>Tata wyjaśnia, że to nie jest przerwa na jedzenie</td>\n      <td>[tata, wyjaśniać, przerwa, jeść]</td>\n      <td>tata wyjaśniać przerwa jeść</td>\n    </tr>\n  </tbody>\n</table>\n<p>28619 rows × 4 columns</p>\n</div>"
     },
     "execution_count": 2,
     "metadata": {},
     "output_type": "execute_result"
    }
   ],
   "source": [
    "df = pd.read_json('./../data/polish_translated/sarcasm/sarcasm_headlines_dataset_pl_with_tokens.json')\n",
    "df.rename(columns={'is_sarcastic': 'label', 'headline_pl': 'text'}, inplace=True)\n",
    "df"
   ],
   "metadata": {
    "collapsed": false,
    "ExecuteTime": {
     "end_time": "2023-06-24T08:45:29.240433500Z",
     "start_time": "2023-06-24T08:45:29.132836900Z"
    }
   }
  },
  {
   "cell_type": "code",
   "execution_count": 3,
   "outputs": [
    {
     "data": {
      "text/plain": "Dataset({\n    features: ['label', 'text', 'tokens', 'joined_tokens'],\n    num_rows: 28619\n})"
     },
     "execution_count": 3,
     "metadata": {},
     "output_type": "execute_result"
    }
   ],
   "source": [
    "dataset = Dataset.from_pandas(df).remove_columns(\"__index_level_0__\")\n",
    "dataset"
   ],
   "metadata": {
    "collapsed": false,
    "ExecuteTime": {
     "end_time": "2023-06-24T08:45:29.313229500Z",
     "start_time": "2023-06-24T08:45:29.242584600Z"
    }
   }
  },
  {
   "cell_type": "code",
   "execution_count": 4,
   "outputs": [],
   "source": [
    "# Train set: 80%, Validation set: 10%, Test set: 10%\n",
    "_, _, test_dataset = model_utils.split_train_val_test(\n",
    "    dataset,\n",
    "    train_size=0.8,\n",
    "    test_size_of_val_test_batch=0.5,\n",
    "    shuffle=True,\n",
    "    seed=42)"
   ],
   "metadata": {
    "collapsed": false,
    "ExecuteTime": {
     "end_time": "2023-06-24T08:45:29.313229500Z",
     "start_time": "2023-06-24T08:45:29.306717Z"
    }
   }
  },
  {
   "cell_type": "code",
   "execution_count": 5,
   "outputs": [],
   "source": [
    "# Load models\n",
    "version = \"1\"\n",
    "trained_bert = os.path.join(\"./../trained_models/sarcasm_pl_bert_4\", version)\n",
    "trained_gpt = os.path.join(\"./../trained_models/sarcasm_pl_gpt2_4\", version)\n",
    "\n",
    "bert = tf.keras.models.load_model(trained_bert)\n",
    "gpt2 = tf.keras.models.load_model(trained_gpt)"
   ],
   "metadata": {
    "collapsed": false,
    "ExecuteTime": {
     "end_time": "2023-06-24T08:46:40.763306500Z",
     "start_time": "2023-06-24T08:45:29.508977200Z"
    }
   }
  },
  {
   "cell_type": "code",
   "execution_count": 6,
   "outputs": [
    {
     "data": {
      "text/plain": "Map:   0%|          | 0/2862 [00:00<?, ? examples/s]",
      "application/vnd.jupyter.widget-view+json": {
       "version_major": 2,
       "version_minor": 0,
       "model_id": "b9557bb6d7b048768f1025f8912eb5ed"
      }
     },
     "metadata": {},
     "output_type": "display_data"
    },
    {
     "name": "stderr",
     "output_type": "stream",
     "text": [
      "C:\\Users\\Karol\\anaconda3\\envs\\ml-tf2gpu\\lib\\site-packages\\datasets\\arrow_dataset.py:388: FutureWarning: The output of `to_tf_dataset` will change when a passing single element list for `labels` or `columns` in the next datasets version. To return a tuple structure rather than dict, pass a single string.\n",
      "Old behaviour: columns=['a'], labels=['labels'] -> (tf.Tensor, tf.Tensor)  \n",
      "             : columns='a', labels='labels' -> (tf.Tensor, tf.Tensor)  \n",
      "New behaviour: columns=['a'],labels=['labels'] -> ({'a': tf.Tensor}, {'labels': tf.Tensor})  \n",
      "             : columns='a', labels='labels' -> (tf.Tensor, tf.Tensor) \n",
      "  warnings.warn(\n",
      "You're using a BertTokenizerFast tokenizer. Please note that with a fast tokenizer, using the `__call__` method is faster than using a method to encode the text followed by a call to the `pad` method to get a padded encoding.\n"
     ]
    }
   ],
   "source": [
    "# Create BERT tokenizer and collator\n",
    "bert_checkpoint = \"dkleczek/bert-base-polish-uncased-v1\"\n",
    "\n",
    "bert_tokenizer = AutoTokenizer.from_pretrained(bert_checkpoint, model_max_length=512)\n",
    "\n",
    "\n",
    "def tokenize_for_bert(example):\n",
    "    return bert_tokenizer(example[\"text\"], truncation=True)\n",
    "\n",
    "\n",
    "bert_tokenized_test_dataset = test_dataset.map(tokenize_for_bert, batched=True)\n",
    "\n",
    "bert_input_columns = [\"attention_mask\", \"input_ids\", \"token_type_ids\"]\n",
    "bert_label_columns = ['label']\n",
    "bert_batch_size = 16\n",
    "bert_data_collator = DataCollatorWithPadding(tokenizer=bert_tokenizer, return_tensors=\"tf\")\n",
    "bert_tf_dataset = model_utils.convert_to_tf_dataset(bert_tokenized_test_dataset, bert_input_columns, bert_label_columns,\n",
    "                                                    bert_data_collator, bert_batch_size)"
   ],
   "metadata": {
    "collapsed": false,
    "ExecuteTime": {
     "end_time": "2023-06-24T08:46:41.669426100Z",
     "start_time": "2023-06-24T08:46:40.766307500Z"
    }
   }
  },
  {
   "cell_type": "code",
   "execution_count": 7,
   "outputs": [
    {
     "data": {
      "text/plain": "Map:   0%|          | 0/2862 [00:00<?, ? examples/s]",
      "application/vnd.jupyter.widget-view+json": {
       "version_major": 2,
       "version_minor": 0,
       "model_id": "f91644943e80429695a06e0cc677f2f3"
      }
     },
     "metadata": {},
     "output_type": "display_data"
    },
    {
     "name": "stderr",
     "output_type": "stream",
     "text": [
      "You're using a GPT2TokenizerFast tokenizer. Please note that with a fast tokenizer, using the `__call__` method is faster than using a method to encode the text followed by a call to the `pad` method to get a padded encoding.\n"
     ]
    }
   ],
   "source": [
    "# Create GPT2 tokenizer\n",
    "gpt_checkpoint = MAX_TOKENS = 128\n",
    "EOS_TOKEN = \"<|endoftext|>\"\n",
    "checkpoint = \"flax-community/papuGaPT2\"\n",
    "\n",
    "gpt2_tokenizer = AutoTokenizer.from_pretrained(\n",
    "    checkpoint,\n",
    "    eos_token=EOS_TOKEN,\n",
    "    pad_token=EOS_TOKEN,\n",
    "    max_length=MAX_TOKENS,\n",
    "    is_split_into_words=True,\n",
    ")\n",
    "\n",
    "gpt2_tokenizer.padding_side = \"left\"\n",
    "\n",
    "\n",
    "def tokenize_for_gpt2(examples):\n",
    "    examples = [ex + EOS_TOKEN for ex in examples['text']]\n",
    "\n",
    "    output = gpt2_tokenizer(\n",
    "        examples,\n",
    "        add_special_tokens=True,\n",
    "        max_length=MAX_TOKENS,\n",
    "        truncation=True,\n",
    "        padding=True,\n",
    "    )\n",
    "\n",
    "    # truncate input ids and attention mask to account for label shift\n",
    "    output[\"input_ids\"] = [x[:-1] for x in output[\"input_ids\"]]\n",
    "    output[\"attention_mask\"] = [x[:-1] for x in output[\"attention_mask\"]]\n",
    "    return output\n",
    "\n",
    "\n",
    "gpt2_tokenized_test_dataset = test_dataset.map(tokenize_for_gpt2, batched=True)\n",
    "\n",
    "gpt2_input_columns = [\"input_ids\", \"attention_mask\"]\n",
    "gpt2_label_columns = [\"label\"]\n",
    "gpt2_batch_size = 16\n",
    "gpt2_data_collator = DataCollatorWithPadding(tokenizer=gpt2_tokenizer, return_tensors=\"tf\")\n",
    "gpt2_tf_dataset = model_utils.convert_to_tf_dataset(gpt2_tokenized_test_dataset, gpt2_input_columns, gpt2_label_columns,\n",
    "                                                    gpt2_data_collator, gpt2_batch_size)"
   ],
   "metadata": {
    "collapsed": false,
    "ExecuteTime": {
     "end_time": "2023-06-24T08:46:42.310158Z",
     "start_time": "2023-06-24T08:46:41.673936400Z"
    }
   }
  },
  {
   "cell_type": "code",
   "execution_count": 8,
   "outputs": [],
   "source": [
    "def combine_probabilities(model1_probabilities, model2_probabilities, model1_weights, model2_weights):\n",
    "    weighted_avg_probabilities = (\n",
    "                                         model1_weights * model1_probabilities + model2_weights * model2_probabilities) / (\n",
    "                                         model1_weights + model2_weights)\n",
    "    normalized_probabilities = weighted_avg_probabilities / np.sum(weighted_avg_probabilities, axis=1, keepdims=True)\n",
    "\n",
    "    return normalized_probabilities\n",
    "\n",
    "\n",
    "def hybrid_predict(bert_input, gpt2_input, bert_model, gpt2_model, bert_weights,\n",
    "                   gpt2_weights, return_classes=True):\n",
    "    bert_probabilities = model_utils.get_class_preds(bert_model, bert_input, return_classes=False)\n",
    "    gpt2_probabilities = model_utils.get_class_preds(gpt2_model, gpt2_input, return_classes=False)\n",
    "    final_output = combine_probabilities(bert_probabilities, gpt2_probabilities, bert_weights,\n",
    "                                         gpt2_weights)\n",
    "    if return_classes:\n",
    "        final_output = np.argmax(final_output, axis=1)\n",
    "    return final_output"
   ],
   "metadata": {
    "collapsed": false,
    "ExecuteTime": {
     "end_time": "2023-06-24T08:46:42.325178200Z",
     "start_time": "2023-06-24T08:46:42.313636Z"
    }
   }
  },
  {
   "cell_type": "code",
   "execution_count": 9,
   "outputs": [],
   "source": [
    "bert_weights = np.array([83, 90])\n",
    "gpt2_weights = np.array([83, 84])\n",
    "\n",
    "hybrid_preds = hybrid_predict(\n",
    "    bert_input=bert_tf_dataset, gpt2_input=gpt2_tf_dataset,\n",
    "    bert_model=bert, gpt2_model=gpt2,\n",
    "    bert_weights=bert_weights, gpt2_weights=gpt2_weights,\n",
    ")\n",
    "\n",
    "hybrid_preds_probas = hybrid_predict(\n",
    "    bert_input=bert_tf_dataset, gpt2_input=gpt2_tf_dataset,\n",
    "    bert_model=bert, gpt2_model=gpt2,\n",
    "    bert_weights=bert_weights, gpt2_weights=gpt2_weights,\n",
    "    return_classes=False\n",
    ")"
   ],
   "metadata": {
    "collapsed": false,
    "ExecuteTime": {
     "end_time": "2023-06-24T08:47:04.028294600Z",
     "start_time": "2023-06-24T08:46:42.326174400Z"
    }
   }
  },
  {
   "cell_type": "code",
   "execution_count": 10,
   "outputs": [
    {
     "name": "stdout",
     "output_type": "stream",
     "text": [
      "Precision score:  0.8818040435458787\n",
      "Recall score:  0.8199566160520607\n",
      "F1 score:  0.849756463094792\n",
      "Accuracy:  0.8598881900768693\n",
      "Loss:  0.33116909861564636\n"
     ]
    }
   ],
   "source": [
    "precision, recall, f1 = model_utils.get_classification_evaluation_metrics(\n",
    "    class_actual=test_dataset['label'],\n",
    "    class_preds=hybrid_preds,\n",
    ")\n",
    "\n",
    "accuracy = accuracy_score(test_dataset['label'], hybrid_preds)\n",
    "loss = tf.keras.losses.SparseCategoricalCrossentropy()\n",
    "loss = loss(test_dataset['label'], hybrid_preds_probas).numpy()\n",
    "\n",
    "print(f\"Precision score: \", precision)\n",
    "print(f\"Recall score: \", recall)\n",
    "print(f\"F1 score: \", f1)\n",
    "print(f\"Accuracy: \", accuracy)\n",
    "print(f\"Loss: \", loss)"
   ],
   "metadata": {
    "collapsed": false,
    "ExecuteTime": {
     "end_time": "2023-06-24T08:47:04.075927Z",
     "start_time": "2023-06-24T08:47:04.031358Z"
    }
   }
  },
  {
   "cell_type": "code",
   "execution_count": 11,
   "outputs": [
    {
     "data": {
      "text/plain": "<Figure size 640x480 with 2 Axes>",
      "image/png": "[encoded data removed]"
     },
     "metadata": {},
     "output_type": "display_data"
    }
   ],
   "source": [
    "training_name = \"only_bert_gpt\"\n",
    "figures_dir = \"./../documentation/models/sarcasm_pl_hybrid/figures\"\n",
    "\n",
    "model_utils.plot_and_save_conf_matrix(class_actual=test_dataset['label'],\n",
    "                                      class_preds=hybrid_preds,\n",
    "                                      figure_dir_path=figures_dir,\n",
    "                                      figure_filename=f\"{training_name}_confmatrix\")"
   ],
   "metadata": {
    "collapsed": false,
    "ExecuteTime": {
     "end_time": "2023-06-24T08:47:04.249424200Z",
     "start_time": "2023-06-24T08:47:04.077926800Z"
    }
   }
  },
  {
   "cell_type": "code",
   "execution_count": 12,
   "outputs": [
    {
     "name": "stdout",
     "output_type": "stream",
     "text": [
      "\n",
      "            BAD PREDICTION:\n",
      "            - INDEX: 1\n",
      "            - TEXT: \"New York Times\": tyran wybija stos sondaży z rąk Nate'a Silvera\n",
      "            - PREDICTED VALUE: 0\n",
      "            - CORRECT VALUE: 1\n",
      "            \n",
      "\n",
      "            BAD PREDICTION:\n",
      "            - INDEX: 3\n",
      "            - TEXT: hare krishnas: 'hare krishna, hare krishna, krishna krishna, hare hare'\n",
      "            - PREDICTED VALUE: 0\n",
      "            - CORRECT VALUE: 1\n",
      "            \n",
      "\n",
      "            BAD PREDICTION:\n",
      "            - INDEX: 9\n",
      "            - TEXT: Nawet księżna lubi dobrą umowę\n",
      "            - PREDICTED VALUE: 1\n",
      "            - CORRECT VALUE: 0\n",
      "            \n",
      "\n",
      "            BAD PREDICTION:\n",
      "            - INDEX: 12\n",
      "            - TEXT: Pier 1 wydało oficjalne przeprosiny za marsz śmierci w Rattan\n",
      "            - PREDICTED VALUE: 0\n",
      "            - CORRECT VALUE: 1\n",
      "            \n",
      "\n",
      "            BAD PREDICTION:\n",
      "            - INDEX: 20\n",
      "            - TEXT: Andrew W.K. zajmuje stanowisko zagorzałego rzecznika partii\n",
      "            - PREDICTED VALUE: 0\n",
      "            - CORRECT VALUE: 1\n",
      "            \n",
      "\n",
      "            BAD PREDICTION:\n",
      "            - INDEX: 23\n",
      "            - TEXT: Grupa etyczna wysadza pensa za używanie podróży rządowych dla kaskadera ośląt\n",
      "            - PREDICTED VALUE: 1\n",
      "            - CORRECT VALUE: 0\n",
      "            \n",
      "\n",
      "            BAD PREDICTION:\n",
      "            - INDEX: 33\n",
      "            - TEXT: Potwierdzenie przez Gopa związku z Lynchem niczego nie zmieni w stosunku do Obamy\n",
      "            - PREDICTED VALUE: 1\n",
      "            - CORRECT VALUE: 0\n",
      "            \n",
      "\n",
      "            BAD PREDICTION:\n",
      "            - INDEX: 40\n",
      "            - TEXT: John Bolton twierdzi, że Iran prawdopodobnie ukrywa niebezpiecznego terrorystę Osamę Bin Ladena\n",
      "            - PREDICTED VALUE: 0\n",
      "            - CORRECT VALUE: 1\n",
      "            \n",
      "\n",
      "            BAD PREDICTION:\n",
      "            - INDEX: 46\n",
      "            - TEXT: Jay Z został nominowany w tej samej kategorii co Jay Z\n",
      "            - PREDICTED VALUE: 0\n",
      "            - CORRECT VALUE: 1\n",
      "            \n",
      "\n",
      "            BAD PREDICTION:\n",
      "            - INDEX: 53\n",
      "            - TEXT: biden współprezentuje nagrodę dla najlepszej nowej gwiazdy ze stylem Shelli na 2015 avn Adult Movie Awards Show\n",
      "            - PREDICTED VALUE: 0\n",
      "            - CORRECT VALUE: 1\n",
      "            \n"
     ]
    }
   ],
   "source": [
    "model_utils.print_incorrectly_predicted_texts(texts=test_dataset['text'],\n",
    "                                              class_actual=test_dataset['label'],\n",
    "                                              class_preds=hybrid_preds)"
   ],
   "metadata": {
    "collapsed": false,
    "ExecuteTime": {
     "end_time": "2023-06-24T08:47:04.318301500Z",
     "start_time": "2023-06-24T08:47:04.250423800Z"
    }
   }
  },
  {
   "cell_type": "code",
   "execution_count": 13,
   "outputs": [
    {
     "data": {
      "text/plain": "                                                   text  label  prediction\n0     Szef uważa, że kobieta pracownik może być goto...      1           1\n1     \"New York Times\": tyran wybija stos sondaży z ...      1           0\n2     przygotuj się na lizanie w tej przyczepie \"for...      0           0\n3     hare krishnas: 'hare krishna, hare krishna, kr...      1           0\n4     Powerball wyciąga plastikowe kulki z solanki z...      1           1\n...                                                 ...    ...         ...\n2857                   Lena Dunham na czerwonym dywanie      0           0\n2858  PayPal wycofuje się po tymczasowej globalnej p...      0           1\n2859  Naród zrzuca tyrańskie jarzmo umiarkowanego sz...      1           1\n2860         Jonathan Rhys Meyers przeprasza za zdjęcia      0           0\n2861  Putin dowiaduje się, że stoi za spiskiem mając...      1           1\n\n[2862 rows x 3 columns]",
      "text/html": "<div>\n<style scoped>\n    .dataframe tbody tr th:only-of-type {\n        vertical-align: middle;\n    }\n\n    .dataframe tbody tr th {\n        vertical-align: top;\n    }\n\n    .dataframe thead th {\n        text-align: right;\n    }\n</style>\n<table border=\"1\" class=\"dataframe\">\n  <thead>\n    <tr style=\"text-align: right;\">\n      <th></th>\n      <th>text</th>\n      <th>label</th>\n      <th>prediction</th>\n    </tr>\n  </thead>\n  <tbody>\n    <tr>\n      <th>0</th>\n      <td>Szef uważa, że kobieta pracownik może być goto...</td>\n      <td>1</td>\n      <td>1</td>\n    </tr>\n    <tr>\n      <th>1</th>\n      <td>\"New York Times\": tyran wybija stos sondaży z ...</td>\n      <td>1</td>\n      <td>0</td>\n    </tr>\n    <tr>\n      <th>2</th>\n      <td>przygotuj się na lizanie w tej przyczepie \"for...</td>\n      <td>0</td>\n      <td>0</td>\n    </tr>\n    <tr>\n      <th>3</th>\n      <td>hare krishnas: 'hare krishna, hare krishna, kr...</td>\n      <td>1</td>\n      <td>0</td>\n    </tr>\n    <tr>\n      <th>4</th>\n      <td>Powerball wyciąga plastikowe kulki z solanki z...</td>\n      <td>1</td>\n      <td>1</td>\n    </tr>\n    <tr>\n      <th>...</th>\n      <td>...</td>\n      <td>...</td>\n      <td>...</td>\n    </tr>\n    <tr>\n      <th>2857</th>\n      <td>Lena Dunham na czerwonym dywanie</td>\n      <td>0</td>\n      <td>0</td>\n    </tr>\n    <tr>\n      <th>2858</th>\n      <td>PayPal wycofuje się po tymczasowej globalnej p...</td>\n      <td>0</td>\n      <td>1</td>\n    </tr>\n    <tr>\n      <th>2859</th>\n      <td>Naród zrzuca tyrańskie jarzmo umiarkowanego sz...</td>\n      <td>1</td>\n      <td>1</td>\n    </tr>\n    <tr>\n      <th>2860</th>\n      <td>Jonathan Rhys Meyers przeprasza za zdjęcia</td>\n      <td>0</td>\n      <td>0</td>\n    </tr>\n    <tr>\n      <th>2861</th>\n      <td>Putin dowiaduje się, że stoi za spiskiem mając...</td>\n      <td>1</td>\n      <td>1</td>\n    </tr>\n  </tbody>\n</table>\n<p>2862 rows × 3 columns</p>\n</div>"
     },
     "execution_count": 13,
     "metadata": {},
     "output_type": "execute_result"
    }
   ],
   "source": [
    "test_df = pd.DataFrame(\n",
    "    list(zip(test_dataset['text'], test_dataset['label'], hybrid_preds)),\n",
    "    columns=['text', 'label', 'prediction'])\n",
    "test_df"
   ],
   "metadata": {
    "collapsed": false,
    "ExecuteTime": {
     "end_time": "2023-06-24T08:47:04.347403500Z",
     "start_time": "2023-06-24T08:47:04.280417600Z"
    }
   }
  },
  {
   "cell_type": "code",
   "execution_count": 14,
   "outputs": [
    {
     "data": {
      "text/plain": "                                                   text  label  prediction  \\\n0     Szef uważa, że kobieta pracownik może być goto...      1           1   \n1     \"New York Times\": tyran wybija stos sondaży z ...      1           0   \n2     przygotuj się na lizanie w tej przyczepie \"for...      0           0   \n3     hare krishnas: 'hare krishna, hare krishna, kr...      1           0   \n4     Powerball wyciąga plastikowe kulki z solanki z...      1           1   \n...                                                 ...    ...         ...   \n2857                   Lena Dunham na czerwonym dywanie      0           0   \n2858  PayPal wycofuje się po tymczasowej globalnej p...      0           1   \n2859  Naród zrzuca tyrańskie jarzmo umiarkowanego sz...      1           1   \n2860         Jonathan Rhys Meyers przeprasza za zdjęcia      0           0   \n2861  Putin dowiaduje się, że stoi za spiskiem mając...      1           1   \n\n      token_count count_belonging  correctly_predicted  \n0              16           12-17                    1  \n1              11            6-11                    0  \n2              13           12-17                    1  \n3              10            6-11                    0  \n4               9            6-11                    1  \n...           ...             ...                  ...  \n2857            5             0-5                    1  \n2858            7            6-11                    0  \n2859            8            6-11                    1  \n2860            6            6-11                    1  \n2861           12           12-17                    1  \n\n[2862 rows x 6 columns]",
      "text/html": "<div>\n<style scoped>\n    .dataframe tbody tr th:only-of-type {\n        vertical-align: middle;\n    }\n\n    .dataframe tbody tr th {\n        vertical-align: top;\n    }\n\n    .dataframe thead th {\n        text-align: right;\n    }\n</style>\n<table border=\"1\" class=\"dataframe\">\n  <thead>\n    <tr style=\"text-align: right;\">\n      <th></th>\n      <th>text</th>\n      <th>label</th>\n      <th>prediction</th>\n      <th>token_count</th>\n      <th>count_belonging</th>\n      <th>correctly_predicted</th>\n    </tr>\n  </thead>\n  <tbody>\n    <tr>\n      <th>0</th>\n      <td>Szef uważa, że kobieta pracownik może być goto...</td>\n      <td>1</td>\n      <td>1</td>\n      <td>16</td>\n      <td>12-17</td>\n      <td>1</td>\n    </tr>\n    <tr>\n      <th>1</th>\n      <td>\"New York Times\": tyran wybija stos sondaży z ...</td>\n      <td>1</td>\n      <td>0</td>\n      <td>11</td>\n      <td>6-11</td>\n      <td>0</td>\n    </tr>\n    <tr>\n      <th>2</th>\n      <td>przygotuj się na lizanie w tej przyczepie \"for...</td>\n      <td>0</td>\n      <td>0</td>\n      <td>13</td>\n      <td>12-17</td>\n      <td>1</td>\n    </tr>\n    <tr>\n      <th>3</th>\n      <td>hare krishnas: 'hare krishna, hare krishna, kr...</td>\n      <td>1</td>\n      <td>0</td>\n      <td>10</td>\n      <td>6-11</td>\n      <td>0</td>\n    </tr>\n    <tr>\n      <th>4</th>\n      <td>Powerball wyciąga plastikowe kulki z solanki z...</td>\n      <td>1</td>\n      <td>1</td>\n      <td>9</td>\n      <td>6-11</td>\n      <td>1</td>\n    </tr>\n    <tr>\n      <th>...</th>\n      <td>...</td>\n      <td>...</td>\n      <td>...</td>\n      <td>...</td>\n      <td>...</td>\n      <td>...</td>\n    </tr>\n    <tr>\n      <th>2857</th>\n      <td>Lena Dunham na czerwonym dywanie</td>\n      <td>0</td>\n      <td>0</td>\n      <td>5</td>\n      <td>0-5</td>\n      <td>1</td>\n    </tr>\n    <tr>\n      <th>2858</th>\n      <td>PayPal wycofuje się po tymczasowej globalnej p...</td>\n      <td>0</td>\n      <td>1</td>\n      <td>7</td>\n      <td>6-11</td>\n      <td>0</td>\n    </tr>\n    <tr>\n      <th>2859</th>\n      <td>Naród zrzuca tyrańskie jarzmo umiarkowanego sz...</td>\n      <td>1</td>\n      <td>1</td>\n      <td>8</td>\n      <td>6-11</td>\n      <td>1</td>\n    </tr>\n    <tr>\n      <th>2860</th>\n      <td>Jonathan Rhys Meyers przeprasza za zdjęcia</td>\n      <td>0</td>\n      <td>0</td>\n      <td>6</td>\n      <td>6-11</td>\n      <td>1</td>\n    </tr>\n    <tr>\n      <th>2861</th>\n      <td>Putin dowiaduje się, że stoi za spiskiem mając...</td>\n      <td>1</td>\n      <td>1</td>\n      <td>12</td>\n      <td>12-17</td>\n      <td>1</td>\n    </tr>\n  </tbody>\n</table>\n<p>2862 rows × 6 columns</p>\n</div>"
     },
     "execution_count": 14,
     "metadata": {},
     "output_type": "execute_result"
    }
   ],
   "source": [
    "def map_token_counts(row):\n",
    "    return len(row['text'].split())\n",
    "\n",
    "def map_count_belonging(row, divider):\n",
    "    int_division_result = int(row['token_count'] / divider) + 1\n",
    "    lower_boundary = divider * int_division_result - divider\n",
    "    upper_boundary = divider * int_division_result - 1\n",
    "    return f\"{lower_boundary}-{upper_boundary}\"\n",
    "\n",
    "def map_correctly_predicted(row):\n",
    "    return int(row['label'] == row['prediction'])\n",
    "\n",
    "\n",
    "test_df['token_count'] = test_df.apply(lambda row: map_token_counts(row), axis=1)\n",
    "test_df['count_belonging'] = test_df.apply(lambda row: map_count_belonging(row, divider=6), axis=1)\n",
    "test_df['correctly_predicted'] = test_df.apply(lambda row: map_correctly_predicted(row), axis=1)\n",
    "test_df"
   ],
   "metadata": {
    "collapsed": false,
    "ExecuteTime": {
     "end_time": "2023-06-24T08:47:04.415295400Z",
     "start_time": "2023-06-24T08:47:04.340480Z"
    }
   }
  },
  {
   "cell_type": "code",
   "execution_count": 15,
   "outputs": [],
   "source": [
    "test_df = test_df.drop(test_df[test_df.token_count > 23].index)"
   ],
   "metadata": {
    "collapsed": false,
    "ExecuteTime": {
     "end_time": "2023-06-24T08:47:04.415295400Z",
     "start_time": "2023-06-24T08:47:04.392263100Z"
    }
   }
  },
  {
   "cell_type": "code",
   "execution_count": 16,
   "outputs": [],
   "source": [
    "test_df = test_df.sort_values(by=['token_count']).reset_index(drop=True)"
   ],
   "metadata": {
    "collapsed": false,
    "ExecuteTime": {
     "end_time": "2023-06-24T08:47:04.429502200Z",
     "start_time": "2023-06-24T08:47:04.404773900Z"
    }
   }
  },
  {
   "cell_type": "code",
   "execution_count": 17,
   "outputs": [
    {
     "data": {
      "text/plain": "<Figure size 640x480 with 1 Axes>",
      "image/png": "[encoded data removed]"
     },
     "metadata": {},
     "output_type": "display_data"
    }
   ],
   "source": [
    "data = test_df['count_belonging']\n",
    "data.value_counts(sort=False).plot.bar()\n",
    "plt.xlabel('Token count range')\n",
    "plt.ylabel('Count')\n",
    "plt.savefig(os.path.join(figures_dir, f'{training_name}_counts_per_range.png'))\n",
    "plt.show()"
   ],
   "metadata": {
    "collapsed": false,
    "ExecuteTime": {
     "end_time": "2023-06-24T08:47:04.575140Z",
     "start_time": "2023-06-24T08:47:04.422502400Z"
    }
   }
  },
  {
   "cell_type": "code",
   "execution_count": 18,
   "outputs": [],
   "source": [
    "range_to_valid_predictions_count_dict = {'0-5': 0, '6-11': 0, '12-17': 0, '18-23': 0}\n",
    "range_to_element_count_dict = {'0-5': 0, '6-11': 0, '12-17': 0, '18-23': 0}\n",
    "range_to_pred_accuracy_dict = {'0-5': 0., '6-11': 0., '12-17': 0., '18-23': 0.}"
   ],
   "metadata": {
    "collapsed": false,
    "ExecuteTime": {
     "end_time": "2023-06-24T08:47:04.577138800Z",
     "start_time": "2023-06-24T08:47:04.562623Z"
    }
   }
  },
  {
   "cell_type": "code",
   "execution_count": 19,
   "outputs": [
    {
     "name": "stdout",
     "output_type": "stream",
     "text": [
      "Correct predictions count:  {'0-5': 244, '6-11': 1582, '12-17': 576, '18-23': 54}\n",
      "Element count:  {'0-5': 291, '6-11': 1855, '12-17': 654, '18-23': 57}\n",
      "Accuracies:  {'0-5': 0.8384879725085911, '6-11': 0.8528301886792453, '12-17': 0.8807339449541285, '18-23': 0.9473684210526315}\n"
     ]
    }
   ],
   "source": [
    "for _, row in test_df.iterrows():\n",
    "    count_belonging = row['count_belonging']\n",
    "\n",
    "    range_to_element_count_dict[count_belonging] = range_to_element_count_dict[count_belonging] + 1\n",
    "\n",
    "    if row['correctly_predicted']:\n",
    "        range_to_valid_predictions_count_dict[count_belonging] = range_to_valid_predictions_count_dict[count_belonging] + 1\n",
    "\n",
    "for key in range_to_pred_accuracy_dict.keys():\n",
    "    range_to_pred_accuracy_dict[key] = range_to_valid_predictions_count_dict[key] / range_to_element_count_dict[key]\n",
    "\n",
    "print(\"Correct predictions count: \", range_to_valid_predictions_count_dict)\n",
    "print(\"Element count: \", range_to_element_count_dict)\n",
    "print(\"Accuracies: \", range_to_pred_accuracy_dict)"
   ],
   "metadata": {
    "collapsed": false,
    "ExecuteTime": {
     "end_time": "2023-06-24T08:47:04.660239700Z",
     "start_time": "2023-06-24T08:47:04.577138800Z"
    }
   }
  },
  {
   "cell_type": "code",
   "execution_count": 20,
   "outputs": [
    {
     "data": {
      "text/plain": "<Figure size 640x480 with 1 Axes>",
      "image/png": "[encoded data removed]"
     },
     "metadata": {},
     "output_type": "display_data"
    }
   ],
   "source": [
    "import matplotlib.ticker as mtick\n",
    "\n",
    "plt.bar(['0-5', '6-11', '12-17', '18-23'], [val for val in range_to_pred_accuracy_dict.values()])\n",
    "plt.xlabel('Token count range')\n",
    "plt.ylabel('Accuracy')\n",
    "plt.gca().yaxis.set_major_formatter(mtick.PercentFormatter(xmax=1.0))\n",
    "plt.savefig(os.path.join(figures_dir, f'{training_name}_accuracies_per_range.png'))\n",
    "plt.show()"
   ],
   "metadata": {
    "collapsed": false,
    "ExecuteTime": {
     "end_time": "2023-06-24T08:47:04.754520700Z",
     "start_time": "2023-06-24T08:47:04.656242100Z"
    }
   }
  },
  {
   "cell_type": "code",
   "execution_count": 21,
   "outputs": [],
   "source": [],
   "metadata": {
    "collapsed": false,
    "ExecuteTime": {
     "end_time": "2023-06-24T08:37:15.587102100Z",
     "start_time": "2023-06-24T08:37:15.572434500Z"
    }
   }
  }
 ],
 "metadata": {
  "kernelspec": {
   "display_name": "Python 3",
   "language": "python",
   "name": "python3"
  },
  "language_info": {
   "codemirror_mode": {
    "name": "ipython",
    "version": 2
   },
   "file_extension": ".py",
   "mimetype": "text/x-python",
   "name": "python",
   "nbconvert_exporter": "python",
   "pygments_lexer": "ipython2",
   "version": "2.7.6"
  }
 },
 "nbformat": 4,
 "nbformat_minor": 0
}
