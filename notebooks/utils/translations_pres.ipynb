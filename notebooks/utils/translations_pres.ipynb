{
 "cells": [
  {
   "cell_type": "code",
   "execution_count": 9,
   "metadata": {},
   "outputs": [],
   "source": [
    "import pandas as pd"
   ]
  },
  {
   "cell_type": "code",
   "execution_count": 10,
   "metadata": {},
   "outputs": [
    {
     "data": {
      "text/html": [
       "<div>\n",
       "<style scoped>\n",
       "    .dataframe tbody tr th:only-of-type {\n",
       "        vertical-align: middle;\n",
       "    }\n",
       "\n",
       "    .dataframe tbody tr th {\n",
       "        vertical-align: top;\n",
       "    }\n",
       "\n",
       "    .dataframe thead th {\n",
       "        text-align: right;\n",
       "    }\n",
       "</style>\n",
       "<table border=\"1\" class=\"dataframe\">\n",
       "  <thead>\n",
       "    <tr style=\"text-align: right;\">\n",
       "      <th></th>\n",
       "      <th>text</th>\n",
       "      <th>emotions</th>\n",
       "      <th>text_pl</th>\n",
       "    </tr>\n",
       "  </thead>\n",
       "  <tbody>\n",
       "    <tr>\n",
       "      <th>0</th>\n",
       "      <td>i feel awful about it too because it s my job ...</td>\n",
       "      <td>sadness</td>\n",
       "      <td>Też czuję się z tym okropnie, bo moim zadaniem...</td>\n",
       "    </tr>\n",
       "    <tr>\n",
       "      <th>1</th>\n",
       "      <td>im alone i feel awful</td>\n",
       "      <td>sadness</td>\n",
       "      <td>Jestem sama czuję się okropnie</td>\n",
       "    </tr>\n",
       "    <tr>\n",
       "      <th>2</th>\n",
       "      <td>ive probably mentioned this before but i reall...</td>\n",
       "      <td>joy</td>\n",
       "      <td>Prawdopodobnie wspomniałem o tym wcześniej, al...</td>\n",
       "    </tr>\n",
       "    <tr>\n",
       "      <th>3</th>\n",
       "      <td>i was feeling a little low few days back</td>\n",
       "      <td>sadness</td>\n",
       "      <td>Czułem się trochę nisko kilka dni temu</td>\n",
       "    </tr>\n",
       "    <tr>\n",
       "      <th>4</th>\n",
       "      <td>i beleive that i am much more sensitive to oth...</td>\n",
       "      <td>love</td>\n",
       "      <td>Wyobrażam sobie, że jestem znacznie bardziej w...</td>\n",
       "    </tr>\n",
       "    <tr>\n",
       "      <th>...</th>\n",
       "      <td>...</td>\n",
       "      <td>...</td>\n",
       "      <td>...</td>\n",
       "    </tr>\n",
       "    <tr>\n",
       "      <th>39995</th>\n",
       "      <td>i witness what i feel helpless to change i tak...</td>\n",
       "      <td>sadness</td>\n",
       "      <td>Jestem świadkiem tego, co czuję się bezradny z...</td>\n",
       "    </tr>\n",
       "    <tr>\n",
       "      <th>39996</th>\n",
       "      <td>i feel unwelcome and i feel very self consciou...</td>\n",
       "      <td>sadness</td>\n",
       "      <td>Czuję się niemile widziany i czuję się bardzo ...</td>\n",
       "    </tr>\n",
       "    <tr>\n",
       "      <th>39997</th>\n",
       "      <td>i feel like boston is so romantic when its rai...</td>\n",
       "      <td>love</td>\n",
       "      <td>Czuję, że Boston jest taki romantyczny, kiedy ...</td>\n",
       "    </tr>\n",
       "    <tr>\n",
       "      <th>39998</th>\n",
       "      <td>i thought sure i was coming down with somethin...</td>\n",
       "      <td>joy</td>\n",
       "      <td>Myślałem, że z czymś zejdę, ale dziś rano czuj...</td>\n",
       "    </tr>\n",
       "    <tr>\n",
       "      <th>39999</th>\n",
       "      <td>i cant be bothered to look it up right now and...</td>\n",
       "      <td>joy</td>\n",
       "      <td>Nie mogę się teraz tym przejmować, pół kielisz...</td>\n",
       "    </tr>\n",
       "  </tbody>\n",
       "</table>\n",
       "<p>40000 rows × 3 columns</p>\n",
       "</div>"
      ],
      "text/plain": [
       "                                                    text emotions  \\\n",
       "0      i feel awful about it too because it s my job ...  sadness   \n",
       "1                                  im alone i feel awful  sadness   \n",
       "2      ive probably mentioned this before but i reall...      joy   \n",
       "3               i was feeling a little low few days back  sadness   \n",
       "4      i beleive that i am much more sensitive to oth...     love   \n",
       "...                                                  ...      ...   \n",
       "39995  i witness what i feel helpless to change i tak...  sadness   \n",
       "39996  i feel unwelcome and i feel very self consciou...  sadness   \n",
       "39997  i feel like boston is so romantic when its rai...     love   \n",
       "39998  i thought sure i was coming down with somethin...      joy   \n",
       "39999  i cant be bothered to look it up right now and...      joy   \n",
       "\n",
       "                                                 text_pl  \n",
       "0      Też czuję się z tym okropnie, bo moim zadaniem...  \n",
       "1                         Jestem sama czuję się okropnie  \n",
       "2      Prawdopodobnie wspomniałem o tym wcześniej, al...  \n",
       "3                 Czułem się trochę nisko kilka dni temu  \n",
       "4      Wyobrażam sobie, że jestem znacznie bardziej w...  \n",
       "...                                                  ...  \n",
       "39995  Jestem świadkiem tego, co czuję się bezradny z...  \n",
       "39996  Czuję się niemile widziany i czuję się bardzo ...  \n",
       "39997  Czuję, że Boston jest taki romantyczny, kiedy ...  \n",
       "39998  Myślałem, że z czymś zejdę, ale dziś rano czuj...  \n",
       "39999  Nie mogę się teraz tym przejmować, pół kielisz...  \n",
       "\n",
       "[40000 rows x 3 columns]"
      ]
     },
     "execution_count": 10,
     "metadata": {},
     "output_type": "execute_result"
    }
   ],
   "source": [
    "emotions_df = pd.read_json('../data/translated/emotions/emotions_dataset_pl.json')\n",
    "emotions_df"
   ]
  },
  {
   "cell_type": "code",
   "execution_count": 11,
   "metadata": {},
   "outputs": [
    {
     "data": {
      "text/html": [
       "<div>\n",
       "<style scoped>\n",
       "    .dataframe tbody tr th:only-of-type {\n",
       "        vertical-align: middle;\n",
       "    }\n",
       "\n",
       "    .dataframe tbody tr th {\n",
       "        vertical-align: top;\n",
       "    }\n",
       "\n",
       "    .dataframe thead th {\n",
       "        text-align: right;\n",
       "    }\n",
       "</style>\n",
       "<table border=\"1\" class=\"dataframe\">\n",
       "  <thead>\n",
       "    <tr style=\"text-align: right;\">\n",
       "      <th></th>\n",
       "      <th>is_sarcastic</th>\n",
       "      <th>headline</th>\n",
       "      <th>article_link</th>\n",
       "      <th>headline_pl</th>\n",
       "    </tr>\n",
       "  </thead>\n",
       "  <tbody>\n",
       "    <tr>\n",
       "      <th>0</th>\n",
       "      <td>1</td>\n",
       "      <td>thirtysomething scientists unveil doomsday clo...</td>\n",
       "      <td>https://www.theonion.com/thirtysomething-scien...</td>\n",
       "      <td>Naukowcy z lat trzydziestych odkrywają zegar z...</td>\n",
       "    </tr>\n",
       "    <tr>\n",
       "      <th>1</th>\n",
       "      <td>0</td>\n",
       "      <td>dem rep. totally nails why congress is falling...</td>\n",
       "      <td>https://www.huffingtonpost.com/entry/donna-edw...</td>\n",
       "      <td>Reprezentantka rządu USA wyjaśnia, dlaczego Ko...</td>\n",
       "    </tr>\n",
       "    <tr>\n",
       "      <th>2</th>\n",
       "      <td>0</td>\n",
       "      <td>eat your veggies: 9 deliciously different recipes</td>\n",
       "      <td>https://www.huffingtonpost.com/entry/eat-your-...</td>\n",
       "      <td>Jedz warzywa: 9 pysznie różnych przepisów</td>\n",
       "    </tr>\n",
       "    <tr>\n",
       "      <th>3</th>\n",
       "      <td>1</td>\n",
       "      <td>inclement weather prevents liar from getting t...</td>\n",
       "      <td>https://local.theonion.com/inclement-weather-p...</td>\n",
       "      <td>Nieprzyjemna pogoda uniemożliwia kłamcy dotarc...</td>\n",
       "    </tr>\n",
       "    <tr>\n",
       "      <th>4</th>\n",
       "      <td>1</td>\n",
       "      <td>mother comes pretty close to using word 'strea...</td>\n",
       "      <td>https://www.theonion.com/mother-comes-pretty-c...</td>\n",
       "      <td>matka jest bardzo blisko użycia słowa \"streami...</td>\n",
       "    </tr>\n",
       "    <tr>\n",
       "      <th>...</th>\n",
       "      <td>...</td>\n",
       "      <td>...</td>\n",
       "      <td>...</td>\n",
       "      <td>...</td>\n",
       "    </tr>\n",
       "    <tr>\n",
       "      <th>28614</th>\n",
       "      <td>1</td>\n",
       "      <td>jews to celebrate rosh hashasha or something</td>\n",
       "      <td>https://www.theonion.com/jews-to-celebrate-ros...</td>\n",
       "      <td>Żydzi świętują Rosh Hashasha czy coś</td>\n",
       "    </tr>\n",
       "    <tr>\n",
       "      <th>28615</th>\n",
       "      <td>1</td>\n",
       "      <td>internal affairs investigator disappointed con...</td>\n",
       "      <td>https://local.theonion.com/internal-affairs-in...</td>\n",
       "      <td>Śledczy spraw wewnętrznych rozczarowany spiski...</td>\n",
       "    </tr>\n",
       "    <tr>\n",
       "      <th>28616</th>\n",
       "      <td>0</td>\n",
       "      <td>the most beautiful acceptance speech this week...</td>\n",
       "      <td>https://www.huffingtonpost.com/entry/andrew-ah...</td>\n",
       "      <td>Najpiękniejsza przemowa akceptacyjna w tym tyg...</td>\n",
       "    </tr>\n",
       "    <tr>\n",
       "      <th>28617</th>\n",
       "      <td>1</td>\n",
       "      <td>mars probe destroyed by orbiting spielberg-gat...</td>\n",
       "      <td>https://www.theonion.com/mars-probe-destroyed-...</td>\n",
       "      <td>Mars zniszczony przez pałac kosmiczny na orbic...</td>\n",
       "    </tr>\n",
       "    <tr>\n",
       "      <th>28618</th>\n",
       "      <td>1</td>\n",
       "      <td>dad clarifies this not a food stop</td>\n",
       "      <td>https://www.theonion.com/dad-clarifies-this-no...</td>\n",
       "      <td>Tata wyjaśnia, że to nie jest przerwa na jedzenie</td>\n",
       "    </tr>\n",
       "  </tbody>\n",
       "</table>\n",
       "<p>28619 rows × 4 columns</p>\n",
       "</div>"
      ],
      "text/plain": [
       "       is_sarcastic                                           headline  \\\n",
       "0                 1  thirtysomething scientists unveil doomsday clo...   \n",
       "1                 0  dem rep. totally nails why congress is falling...   \n",
       "2                 0  eat your veggies: 9 deliciously different recipes   \n",
       "3                 1  inclement weather prevents liar from getting t...   \n",
       "4                 1  mother comes pretty close to using word 'strea...   \n",
       "...             ...                                                ...   \n",
       "28614             1       jews to celebrate rosh hashasha or something   \n",
       "28615             1  internal affairs investigator disappointed con...   \n",
       "28616             0  the most beautiful acceptance speech this week...   \n",
       "28617             1  mars probe destroyed by orbiting spielberg-gat...   \n",
       "28618             1                 dad clarifies this not a food stop   \n",
       "\n",
       "                                            article_link  \\\n",
       "0      https://www.theonion.com/thirtysomething-scien...   \n",
       "1      https://www.huffingtonpost.com/entry/donna-edw...   \n",
       "2      https://www.huffingtonpost.com/entry/eat-your-...   \n",
       "3      https://local.theonion.com/inclement-weather-p...   \n",
       "4      https://www.theonion.com/mother-comes-pretty-c...   \n",
       "...                                                  ...   \n",
       "28614  https://www.theonion.com/jews-to-celebrate-ros...   \n",
       "28615  https://local.theonion.com/internal-affairs-in...   \n",
       "28616  https://www.huffingtonpost.com/entry/andrew-ah...   \n",
       "28617  https://www.theonion.com/mars-probe-destroyed-...   \n",
       "28618  https://www.theonion.com/dad-clarifies-this-no...   \n",
       "\n",
       "                                             headline_pl  \n",
       "0      Naukowcy z lat trzydziestych odkrywają zegar z...  \n",
       "1      Reprezentantka rządu USA wyjaśnia, dlaczego Ko...  \n",
       "2              Jedz warzywa: 9 pysznie różnych przepisów  \n",
       "3      Nieprzyjemna pogoda uniemożliwia kłamcy dotarc...  \n",
       "4      matka jest bardzo blisko użycia słowa \"streami...  \n",
       "...                                                  ...  \n",
       "28614               Żydzi świętują Rosh Hashasha czy coś  \n",
       "28615  Śledczy spraw wewnętrznych rozczarowany spiski...  \n",
       "28616  Najpiękniejsza przemowa akceptacyjna w tym tyg...  \n",
       "28617  Mars zniszczony przez pałac kosmiczny na orbic...  \n",
       "28618  Tata wyjaśnia, że to nie jest przerwa na jedzenie  \n",
       "\n",
       "[28619 rows x 4 columns]"
      ]
     },
     "execution_count": 11,
     "metadata": {},
     "output_type": "execute_result"
    }
   ],
   "source": [
    "sarcasm_df = pd.read_json('../data/translated/sarcasm/sarcasm_headlines_dataset_pl.json')\n",
    "sarcasm_df"
   ]
  },
  {
   "cell_type": "code",
   "execution_count": 13,
   "metadata": {},
   "outputs": [
    {
     "data": {
      "application/vnd.jupyter.widget-view+json": {
       "model_id": "b860548435474c57bfaecd6178901493",
       "version_major": 2,
       "version_minor": 0
      },
      "text/plain": [
       "Downloading builder script:   0%|          | 0.00/4.43k [00:00<?, ?B/s]"
      ]
     },
     "metadata": {},
     "output_type": "display_data"
    },
    {
     "data": {
      "application/vnd.jupyter.widget-view+json": {
       "model_id": "9e1c4c95f613450aa70634fb7d7d5e2d",
       "version_major": 2,
       "version_minor": 0
      },
      "text/plain": [
       "Downloading metadata:   0%|          | 0.00/2.58k [00:00<?, ?B/s]"
      ]
     },
     "metadata": {},
     "output_type": "display_data"
    },
    {
     "data": {
      "application/vnd.jupyter.widget-view+json": {
       "model_id": "d046cc30852c4de299aa4dc88660fe52",
       "version_major": 2,
       "version_minor": 0
      },
      "text/plain": [
       "Downloading readme:   0%|          | 0.00/7.34k [00:00<?, ?B/s]"
      ]
     },
     "metadata": {},
     "output_type": "display_data"
    },
    {
     "name": "stdout",
     "output_type": "stream",
     "text": [
      "Downloading and preparing dataset hate_speech_pl/default to C:/Users/Artur/.cache/huggingface/datasets/hate_speech_pl/default/1.1.0/40101693880e807040a6b999faa7441cc231e95c81eefa5922ff4a76c8aa48fd...\n"
     ]
    },
    {
     "data": {
      "application/vnd.jupyter.widget-view+json": {
       "model_id": "ee302c9854564595ae40ab7b4dd46e0c",
       "version_major": 2,
       "version_minor": 0
      },
      "text/plain": [
       "Downloading data files:   0%|          | 0/3 [00:00<?, ?it/s]"
      ]
     },
     "metadata": {},
     "output_type": "display_data"
    },
    {
     "data": {
      "application/vnd.jupyter.widget-view+json": {
       "model_id": "387fbcbf70144422b0b8b84f854ed3a6",
       "version_major": 2,
       "version_minor": 0
      },
      "text/plain": [
       "Downloading data:   0%|          | 0.00/147k [00:00<?, ?B/s]"
      ]
     },
     "metadata": {},
     "output_type": "display_data"
    },
    {
     "data": {
      "application/vnd.jupyter.widget-view+json": {
       "model_id": "ad261d05f851422ba07d3a2b847d6f70",
       "version_major": 2,
       "version_minor": 0
      },
      "text/plain": [
       "Downloading data:   0%|          | 0.00/862k [00:00<?, ?B/s]"
      ]
     },
     "metadata": {},
     "output_type": "display_data"
    },
    {
     "data": {
      "application/vnd.jupyter.widget-view+json": {
       "model_id": "c1ea4062281f4d5ea1ae727803cd28c1",
       "version_major": 2,
       "version_minor": 0
      },
      "text/plain": [
       "Downloading data:   0%|          | 0.00/389k [00:00<?, ?B/s]"
      ]
     },
     "metadata": {},
     "output_type": "display_data"
    },
    {
     "data": {
      "application/vnd.jupyter.widget-view+json": {
       "model_id": "b81fdc0f16f94f08af15d891fe67c91d",
       "version_major": 2,
       "version_minor": 0
      },
      "text/plain": [
       "Generating train split:   0%|          | 0/13887 [00:00<?, ? examples/s]"
      ]
     },
     "metadata": {},
     "output_type": "display_data"
    },
    {
     "name": "stdout",
     "output_type": "stream",
     "text": [
      "Dataset hate_speech_pl downloaded and prepared to C:/Users/Artur/.cache/huggingface/datasets/hate_speech_pl/default/1.1.0/40101693880e807040a6b999faa7441cc231e95c81eefa5922ff4a76c8aa48fd. Subsequent calls will reuse this data.\n"
     ]
    },
    {
     "data": {
      "application/vnd.jupyter.widget-view+json": {
       "model_id": "dd1da18e32154a26a1b558233371574c",
       "version_major": 2,
       "version_minor": 0
      },
      "text/plain": [
       "  0%|          | 0/1 [00:00<?, ?it/s]"
      ]
     },
     "metadata": {},
     "output_type": "display_data"
    }
   ],
   "source": [
    "from datasets import load_dataset\n",
    "dataset = load_dataset(\"hate_speech_pl\")"
   ]
  },
  {
   "cell_type": "code",
   "execution_count": 14,
   "metadata": {},
   "outputs": [
    {
     "data": {
      "text/plain": [
       "DatasetDict({\n",
       "    train: Dataset({\n",
       "        features: ['id', 'text_id', 'annotator_id', 'minority_id', 'negative_emotions', 'call_to_action', 'source_of_knowledge', 'irony_sarcasm', 'topic', 'text', 'rating'],\n",
       "        num_rows: 13887\n",
       "    })\n",
       "})"
      ]
     },
     "execution_count": 14,
     "metadata": {},
     "output_type": "execute_result"
    }
   ],
   "source": [
    "dataset"
   ]
  },
  {
   "cell_type": "code",
   "execution_count": 28,
   "metadata": {},
   "outputs": [
    {
     "data": {
      "text/html": [
       "<div>\n",
       "<style scoped>\n",
       "    .dataframe tbody tr th:only-of-type {\n",
       "        vertical-align: middle;\n",
       "    }\n",
       "\n",
       "    .dataframe tbody tr th {\n",
       "        vertical-align: top;\n",
       "    }\n",
       "\n",
       "    .dataframe thead th {\n",
       "        text-align: right;\n",
       "    }\n",
       "</style>\n",
       "<table border=\"1\" class=\"dataframe\">\n",
       "  <thead>\n",
       "    <tr style=\"text-align: right;\">\n",
       "      <th></th>\n",
       "      <th>id</th>\n",
       "      <th>text_id</th>\n",
       "      <th>annotator_id</th>\n",
       "      <th>minority_id</th>\n",
       "      <th>negative_emotions</th>\n",
       "      <th>call_to_action</th>\n",
       "      <th>source_of_knowledge</th>\n",
       "      <th>irony_sarcasm</th>\n",
       "      <th>topic</th>\n",
       "      <th>text</th>\n",
       "      <th>rating</th>\n",
       "    </tr>\n",
       "  </thead>\n",
       "  <tbody>\n",
       "    <tr>\n",
       "      <th>0</th>\n",
       "      <td>1</td>\n",
       "      <td>121713</td>\n",
       "      <td>1</td>\n",
       "      <td>72</td>\n",
       "      <td>True</td>\n",
       "      <td>True</td>\n",
       "      <td>2</td>\n",
       "      <td>True</td>\n",
       "      <td>18</td>\n",
       "      <td>&lt;font color=\"blue\"&gt; Niemiec&lt;/font&gt; mówi co in...</td>\n",
       "      <td>0</td>\n",
       "    </tr>\n",
       "  </tbody>\n",
       "</table>\n",
       "</div>"
      ],
      "text/plain": [
       "   id  text_id  annotator_id  minority_id  negative_emotions  call_to_action  \\\n",
       "0   1   121713             1           72               True            True   \n",
       "\n",
       "   source_of_knowledge  irony_sarcasm  topic  \\\n",
       "0                    2           True     18   \n",
       "\n",
       "                                                text  rating  \n",
       "0   <font color=\"blue\"> Niemiec</font> mówi co in...       0  "
      ]
     },
     "execution_count": 28,
     "metadata": {},
     "output_type": "execute_result"
    }
   ],
   "source": [
    "df_pandas = pd.DataFrame(dataset)\n",
    "json = df_pandas.iloc[0]['train']\n",
    "x = pd.json_normalize(json)\n",
    "x"
   ]
  }
 ],
 "metadata": {
  "kernelspec": {
   "display_name": "nlp",
   "language": "python",
   "name": "python3"
  },
  "language_info": {
   "codemirror_mode": {
    "name": "ipython",
    "version": 3
   },
   "file_extension": ".py",
   "mimetype": "text/x-python",
   "name": "python",
   "nbconvert_exporter": "python",
   "pygments_lexer": "ipython3",
   "version": "3.10.11"
  },
  "orig_nbformat": 4
 },
 "nbformat": 4,
 "nbformat_minor": 2
}
