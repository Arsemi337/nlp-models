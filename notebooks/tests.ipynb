{
 "cells": [
  {
   "cell_type": "code",
   "execution_count": 59,
   "metadata": {},
   "outputs": [],
   "source": [
    "import numpy as np\n",
    "import tensorflow as tf\n",
    "import string\n",
    "import pandas as pd"
   ]
  },
  {
   "cell_type": "code",
   "execution_count": 6,
   "metadata": {},
   "outputs": [
    {
     "name": "stdout",
     "output_type": "stream",
     "text": [
      "[('gnój', 0.7589576840400696), ('świństwo', 0.7465105056762695), ('chuj', 0.7174330353736877), ('paskudztwo', 0.7162799835205078), ('łajno', 0.7053852677345276), ('syf', 0.6966545581817627), ('szambo', 0.6793105602264404), ('szajs', 0.6724998950958252), ('obrzydlistwo', 0.6678872108459473), ('żarcie', 0.6655970215797424)]\n"
     ]
    },
    {
     "name": "stderr",
     "output_type": "stream",
     "text": [
      "c:\\Users\\Artur\\.conda\\envs\\nlp\\lib\\site-packages\\gensim\\models\\keyedvectors.py:849: RuntimeWarning: invalid value encountered in divide\n",
      "  dists = dot(self.vectors[clip_start:clip_end], mean) / self.norms[clip_start:clip_end]\n"
     ]
    }
   ],
   "source": [
    "from gensim.models import KeyedVectors\n",
    "\n",
    "word2vec = KeyedVectors.load(\"./word2vec/word2vec_100_3_polish.bin\")"
   ]
  },
  {
   "cell_type": "code",
   "execution_count": 15,
   "metadata": {},
   "outputs": [
    {
     "name": "stdout",
     "output_type": "stream",
     "text": [
      "[('coś', 0.8059569597244263), ('ktokolwiek', 0.7318310737609863), ('nic', 0.7306963205337524), ('co', 0.6965216398239136), ('cośkolwiek', 0.6400914192199707), ('wszystko', 0.6129156947135925), ('czego', 0.5883895754814148), ('ktoś', 0.5792883634567261), ('nikt', 0.5630813837051392), ('któż', 0.554350733757019)]\n"
     ]
    }
   ],
   "source": [
    "print(word2vec.similar_by_word(\"cokolwiek\"))\n"
   ]
  },
  {
   "cell_type": "code",
   "execution_count": 29,
   "metadata": {},
   "outputs": [
    {
     "data": {
      "text/plain": [
       "gensim.models.keyedvectors.KeyedVectors"
      ]
     },
     "execution_count": 29,
     "metadata": {},
     "output_type": "execute_result"
    }
   ],
   "source": [
    "type(word2vec)"
   ]
  },
  {
   "cell_type": "code",
   "execution_count": 30,
   "metadata": {},
   "outputs": [
    {
     "data": {
      "text/plain": [
       "array([-1.685019, -1.215587,  0.133417, -1.289307, -3.898652,  1.207245,\n",
       "        2.295241,  0.959504, -0.890345,  2.634293,  1.099217, -0.152267,\n",
       "       -6.729102,  1.343308, -1.297526, -9.898701, -5.91792 , -2.328752,\n",
       "        3.296124, -2.757482, -4.022297,  2.390555,  0.58566 , -0.240787,\n",
       "        1.582225, -0.564365, -6.794726,  3.514125, -0.817453, -3.794007,\n",
       "        0.724562,  2.002141, -0.217938, -0.432564, -2.364502,  1.53295 ,\n",
       "       -3.836174,  0.73244 , -0.281896,  0.754913, -3.024617, -0.22978 ,\n",
       "       -0.024458, -3.143121,  2.039253,  1.258927, -2.456024, -4.329937,\n",
       "       -5.147488, -1.260532,  0.97882 , -1.268077, -1.087059, -2.035576,\n",
       "       -4.509109, -4.925411,  1.146704,  0.061383,  3.25395 ,  2.518304,\n",
       "        4.893778,  4.039767,  2.163444, -1.435957, -0.725813,  1.164832,\n",
       "       -0.4246  ,  1.667463,  3.007585,  2.395657, -2.307959, -1.789699,\n",
       "        1.314376, -0.937874, -2.027981,  3.947403,  2.076706,  0.929517,\n",
       "        4.068125,  1.361365,  2.547499, -1.437108,  6.235761,  1.222567,\n",
       "       -1.187808, -3.385838,  1.798123,  1.903644, -1.064647,  1.175644,\n",
       "       -0.460288, -0.826047,  1.803584, -5.980828,  4.872738, -3.012415,\n",
       "       -1.4708  , -0.050617, -0.984711,  2.749985], dtype=float32)"
      ]
     },
     "execution_count": 30,
     "metadata": {},
     "output_type": "execute_result"
    }
   ],
   "source": [
    "word2vec['tablica']"
   ]
  },
  {
   "cell_type": "code",
   "execution_count": 32,
   "metadata": {},
   "outputs": [
    {
     "data": {
      "text/plain": [
       "[('kosiński', 0.6873142123222351),\n",
       " ('gliński', 0.68422931432724),\n",
       " ('walicki', 0.6840715408325195)]"
      ]
     },
     "execution_count": 32,
     "metadata": {},
     "output_type": "execute_result"
    }
   ],
   "source": [
    "word2vec.most_similar(positive=['andrzej', 'wajda'], negative=['drzewo'], topn=3)"
   ]
  },
  {
   "cell_type": "code",
   "execution_count": 35,
   "metadata": {},
   "outputs": [
    {
     "data": {
      "text/plain": [
       "array([0., 0., 0., 0., 0., 0., 0., 0., 0., 0., 0., 0., 0., 0., 0., 0., 0.,\n",
       "       0., 0., 0., 0., 0., 0., 0., 0., 0., 0., 0., 0., 0., 0., 0., 0., 0.,\n",
       "       0., 0., 0., 0., 0., 0., 0., 0., 0., 0., 0., 0., 0., 0., 0., 0., 0.,\n",
       "       0., 0., 0., 0., 0., 0., 0., 0., 0., 0., 0., 0., 0., 0., 0., 0., 0.,\n",
       "       0., 0., 0., 0., 0., 0., 0., 0., 0., 0., 0., 0., 0., 0., 0., 0., 0.,\n",
       "       0., 0., 0., 0., 0., 0., 0., 0., 0., 0., 0., 0., 0., 0., 0.])"
      ]
     },
     "execution_count": 35,
     "metadata": {},
     "output_type": "execute_result"
    }
   ],
   "source": [
    "vector_size = word2vec.vector_size\n",
    "np.zeros(vector_size)"
   ]
  },
  {
   "cell_type": "code",
   "execution_count": 41,
   "metadata": {},
   "outputs": [],
   "source": [
    "def sent_vec(sent):\n",
    "    vector_size = word2vec.vector_size\n",
    "    wv_res = np.zeros(vector_size)\n",
    "    ctr = 1\n",
    "    for w in sent:\n",
    "        if w in word2vec:\n",
    "            ctr += 1\n",
    "            wv_res += word2vec[w]\n",
    "    wv_res = wv_res/ctr\n",
    "    return wv_res"
   ]
  },
  {
   "cell_type": "code",
   "execution_count": 43,
   "metadata": {},
   "outputs": [
    {
     "data": {
      "text/plain": [
       "array([-2.49788852,  0.2035175 , -0.0770346 ,  2.05110163,  0.46415685,\n",
       "       -0.17582978,  0.89057395, -1.66688608,  1.93133506, -1.45339842,\n",
       "       -0.51043954, -0.44381384, -0.90379239, -1.06102286, -0.07277377,\n",
       "       -0.02924063, -1.82581185,  0.99949637, -0.14863477, -3.45292513,\n",
       "       -0.04713723,  1.29985688,  0.41799019, -1.13693786, -1.68193579,\n",
       "       -0.05978159, -1.73891593, -0.58130138,  1.63089833,  1.67860425,\n",
       "        3.22720475, -0.42828629,  1.54153368, -0.31636889,  1.04639946,\n",
       "       -0.20151566,  1.00468317, -0.30013726, -0.09945052, -0.01132406,\n",
       "       -0.58687967, -3.08190854, -3.32336361,  1.18924788, -1.84455646,\n",
       "        1.67540182, -0.37212718, -0.91040205,  0.35761841,  1.43571077,\n",
       "       -1.64340066, -0.03937728, -0.1447864 ,  0.23220734,  1.0326711 ,\n",
       "       -0.58826082, -1.29384488,  0.64056633, -0.27361966, -0.68913904,\n",
       "       -0.6865316 , -3.02270944, -0.28458342, -1.61082422, -0.06319317,\n",
       "        1.85134114,  0.27202051,  0.83400212,  0.58290739, -0.45207556,\n",
       "       -2.66356737, -4.46884749,  1.50696875, -0.87594367,  1.43169742,\n",
       "        1.16457103, -0.75740074, -0.94511149, -3.05586833,  3.15754629,\n",
       "        0.41638356,  0.81890273, -0.14630688, -3.69049361,  1.30065179,\n",
       "        4.03447153, -2.38152287, -3.53670926,  3.15976176, -0.15516499,\n",
       "       -1.48382872, -3.59689738, -1.67204884,  0.31333267, -2.53370912,\n",
       "       -0.72906033, -1.43365252,  1.49394108, -1.75878887, -1.65056524])"
      ]
     },
     "execution_count": 43,
     "metadata": {},
     "output_type": "execute_result"
    }
   ],
   "source": [
    "sent_vec(\"Andrzej Wajda, gałkowy lód\")"
   ]
  },
  {
   "cell_type": "code",
   "execution_count": 46,
   "metadata": {},
   "outputs": [],
   "source": [
    "import spacy\n",
    "from spacy.lang.pl.examples import sentences "
   ]
  },
  {
   "cell_type": "code",
   "execution_count": 52,
   "metadata": {},
   "outputs": [
    {
     "name": "stdout",
     "output_type": "stream",
     "text": [
      "Poczuł przyjemną woń mocnej kawy.\n",
      "Poczuł VERB ROOT\n",
      "przyjemną ADJ amod\n",
      "woń NOUN iobj\n",
      "mocnej ADJ amod\n",
      "kawy NOUN nmod:arg\n",
      ". PUNCT punct\n"
     ]
    }
   ],
   "source": [
    "nlp = spacy.load(\"pl_core_news_sm\")\n",
    "doc = nlp(sentences[0])\n",
    "print(doc.text)\n",
    "for token in doc:\n",
    "    print(token.text, token.pos_, token.dep_)"
   ]
  },
  {
   "cell_type": "code",
   "execution_count": 53,
   "metadata": {},
   "outputs": [
    {
     "name": "stdout",
     "output_type": "stream",
     "text": [
      "{'jednak', 'która', 'dwoje', 'bedzie', 'dziś', 'mozliwe', 'we', 'ją', 'zadna', 'ktore', 'wasza', 'tym', 'którego', 'jakos', 'ty', 'więc', 'wami', 'wasz', 'ktorzy', 'dla', 'moga', 'vii', 'swoje', 'jakichś', 'tutaj', 'xi', 'tych', 'caly', 'przedtem', 'czy', 'iv', 'było', 'takze', 'gdy', 'jakiś', 'acz', 'je', 'cos', 'mam', 'one', 'mogą', 'znów', 'który', 'wszystkich', 'natychmiast', 'których', 'ktos', 'również', 'jedno', 'ze', 'sposob', 'ja', 'nawet', 'aby', 'inna', 'dlatego', 'ktoś', 'moi', 'prawie', 'jako', 'czyli', 'jeden', 'te', 'chce', 'dwa', 'coraz', 'znowu', 'jakoś', 'jakiz', 'dokąd', 'pod', 'gdzieś', 'jemu', 'kims', 'ta', 'nimi', 'byla', 'niż', 'im', 'powinno', 'żaden', 'moja', 'powinni', 'bylo', 'toba', 'az', 'przez', 'soba', 'cała', 'gdzies', 'mój', 'za', 'nia', 'jedna', 'cie', 'którzy', 'ci', 'zadne', 'inny', 'miał', 'powinien', 'ktora', 'sposób', 'dlaczego', 'dość', 'skąd', 'tobie', 'tu', 'bo', 'tobą', 'wszystko', 'nam', 'vi', 'mna', 'ich', 'żadne', 'ponieważ', 'o', 'sobą', 'dwaj', 'tam', 'xv', 'by', 'wam', 'totez', 'żadnych', 'tel', 'której', 'taka', 'twoja', 'jesli', 'obok', 'czasem', 'nas', 'ona', 'jakichs', 'że', 'tę', 'wtedy', 'wszystkie', 'innych', 'ktorej', 'właśnie', 'jeżeli', 'jej', 'jaki', 'ku', 'u', 'dzisiaj', 'wielu', 'można', 'coś', 'niemu', 'naszych', 'dwie', 'temu', 'bowiem', 'były', 'zadnych', 'nic', 'pan', 'on', 'wszystkim', 'także', 'byc', 'ponad', 'twoi', 'ktorego', 'natomiast', 'jezeli', 'jakaś', 'według', 'nasi', 'tys', 'bede', 'ktory', 'kilku', 'jednym', 'mimo', 'miedzy', 'wszyscy', 'każdy', 'twoj', 'przed', 'będę', 'zeby', 'poza', 'juz', 'między', 'daleko', 'jeszcze', 'xiv', 'jakby', 'takich', 'jednakze', 'zawsze', 'totobą', 'będzie', 'wiele', 'jakiż', 'kierunku', 'wasze', 'sama', 'został', 'go', 'skad', 'być', 'moj', 'wie', 'mozna', 'około', 'tego', 'kazdy', 'jest', 'żeby', 'moze', 'ale', 'cokolwiek', 'żadna', 'dosc', 'przeciez', 'na', 'wlasnie', 'iz', 'po', 'są', 'kilka', 'jeśli', 'bez', 'ach', 'alez', 'którym', 'a', 'godz', 'raz', 'nad', 'naszego', 'was', 'xii', 'mnie', 'ktokolwiek', 'sam', 'ono', 'bardziej', 'mu', 'zostal', 'jakie', 'się', 'byl', 'twoje', 'oni', 'tzw', 'jedynie', 'sobie', 'ktorych', 'podczas', 'przecież', 'gdzie', 'gdyż', 'gdziekolwiek', 'niz', 'trzeba', 'też', 'jakis', 'w', 'duzo', 'zapewne', 'beda', 'cię', 'my', 'ma', 'ten', 'mało', 'ani', 'nią', 'jakkolwiek', 'twoim', 'moim', 'no', 'nie', 'takie', 'twój', 'jak', 'możliwe', 'zaś', 'nich', 'jednakże', 'gdyby', 'kto', 'cali', 'bardzo', 'lub', 'iż', 'przy', 'była', 'teraz', 'pana', 'moje', 'aż', 'tylko', 'więcej', 'czemu', 'z', 'cala', 'bynajmniej', 'owszem', 'mi', 'co', 'twym', 'które', 'często', 'oraz', 'nasze', 'to', 'przede', 'był', 'ktorym', 'inne', 'dobrze', 'jakas', 'oto', 'pomimo', 'niego', 'powinna', 'do', 'rowniez', 'toteż', 'nim', 'xiii', 'gdyz', 'dużo', 'pani', 'lecz', 'mną', 'jego', 'ix', 'nami', 'dzis', 'mają', 'cały', 'od', 'albo', 'aj', 'wśród', 'znow', 'dokad', 'choć', 'sie', 'wy', 'już', 'może', 'i', 'wasi', 'tak', 'aczkolwiek', 'zaden', 'razie', 'ależ', 'viii', 'mamy', 'tej', 'niech', 'roku', 'kimś', 'czasami', 'ok', 'taki', 'ile', 'bym', 'niej', 'byly', 'musi', 'nasz', 'nigdy', 'ciebie', 'jestem', 'byli', 'kiedy', 'poniewaz', 'będą', 'nasza'}\n"
     ]
    }
   ],
   "source": [
    "stop_words = nlp.Defaults.stop_words\n",
    "print(stop_words)"
   ]
  },
  {
   "cell_type": "code",
   "execution_count": 56,
   "metadata": {},
   "outputs": [
    {
     "name": "stdout",
     "output_type": "stream",
     "text": [
      "!\"#$%&'()*+,-./:;<=>?@[\\]^_`{|}~\n"
     ]
    }
   ],
   "source": [
    "punctuations = string.punctuation\n",
    "print(punctuations)"
   ]
  },
  {
   "cell_type": "code",
   "execution_count": 57,
   "metadata": {},
   "outputs": [],
   "source": [
    "# Creating our tokenizer function\n",
    "def spacy_tokenizer(sentence):\n",
    "    # Creating our token object, which is used to create documents with linguistic annotations.\n",
    "    doc = nlp(sentence)\n",
    "\n",
    "\n",
    "\n",
    "    # print(doc)\n",
    "    # print(type(doc))\n",
    "\n",
    "    # Lemmatizing each token and converting each token into lowercase\n",
    "    mytokens = [ word.lemma_.lower().strip() for word in doc ]\n",
    "\n",
    "    # print(mytokens)\n",
    "\n",
    "    # Removing stop words\n",
    "    mytokens = [ word for word in mytokens if word not in stop_words and word not in punctuations ]\n",
    "\n",
    "    # return preprocessed list of tokens\n",
    "    return mytokens"
   ]
  },
  {
   "cell_type": "code",
   "execution_count": 68,
   "metadata": {},
   "outputs": [
    {
     "data": {
      "text/html": [
       "<div>\n",
       "<style scoped>\n",
       "    .dataframe tbody tr th:only-of-type {\n",
       "        vertical-align: middle;\n",
       "    }\n",
       "\n",
       "    .dataframe tbody tr th {\n",
       "        vertical-align: top;\n",
       "    }\n",
       "\n",
       "    .dataframe thead th {\n",
       "        text-align: right;\n",
       "    }\n",
       "</style>\n",
       "<table border=\"1\" class=\"dataframe\">\n",
       "  <thead>\n",
       "    <tr style=\"text-align: right;\">\n",
       "      <th></th>\n",
       "      <th>is_sarcastic</th>\n",
       "      <th>headline</th>\n",
       "      <th>article_link</th>\n",
       "      <th>headline_pl</th>\n",
       "    </tr>\n",
       "  </thead>\n",
       "  <tbody>\n",
       "    <tr>\n",
       "      <th>0</th>\n",
       "      <td>1</td>\n",
       "      <td>thirtysomething scientists unveil doomsday clo...</td>\n",
       "      <td>https://www.theonion.com/thirtysomething-scien...</td>\n",
       "      <td>Naukowcy z lat trzydziestych odkrywają zegar z...</td>\n",
       "    </tr>\n",
       "    <tr>\n",
       "      <th>1</th>\n",
       "      <td>0</td>\n",
       "      <td>dem rep. totally nails why congress is falling...</td>\n",
       "      <td>https://www.huffingtonpost.com/entry/donna-edw...</td>\n",
       "      <td>Reprezentantka rządu USA wyjaśnia, dlaczego Ko...</td>\n",
       "    </tr>\n",
       "    <tr>\n",
       "      <th>2</th>\n",
       "      <td>0</td>\n",
       "      <td>eat your veggies: 9 deliciously different recipes</td>\n",
       "      <td>https://www.huffingtonpost.com/entry/eat-your-...</td>\n",
       "      <td>Jedz warzywa: 9 pysznie różnych przepisów</td>\n",
       "    </tr>\n",
       "    <tr>\n",
       "      <th>3</th>\n",
       "      <td>1</td>\n",
       "      <td>inclement weather prevents liar from getting t...</td>\n",
       "      <td>https://local.theonion.com/inclement-weather-p...</td>\n",
       "      <td>Nieprzyjemna pogoda uniemożliwia kłamcy dotarc...</td>\n",
       "    </tr>\n",
       "    <tr>\n",
       "      <th>4</th>\n",
       "      <td>1</td>\n",
       "      <td>mother comes pretty close to using word 'strea...</td>\n",
       "      <td>https://www.theonion.com/mother-comes-pretty-c...</td>\n",
       "      <td>matka jest bardzo blisko użycia słowa \"streami...</td>\n",
       "    </tr>\n",
       "    <tr>\n",
       "      <th>...</th>\n",
       "      <td>...</td>\n",
       "      <td>...</td>\n",
       "      <td>...</td>\n",
       "      <td>...</td>\n",
       "    </tr>\n",
       "    <tr>\n",
       "      <th>28614</th>\n",
       "      <td>1</td>\n",
       "      <td>jews to celebrate rosh hashasha or something</td>\n",
       "      <td>https://www.theonion.com/jews-to-celebrate-ros...</td>\n",
       "      <td>Żydzi świętują Rosh Hashasha czy coś</td>\n",
       "    </tr>\n",
       "    <tr>\n",
       "      <th>28615</th>\n",
       "      <td>1</td>\n",
       "      <td>internal affairs investigator disappointed con...</td>\n",
       "      <td>https://local.theonion.com/internal-affairs-in...</td>\n",
       "      <td>Śledczy spraw wewnętrznych rozczarowany spiski...</td>\n",
       "    </tr>\n",
       "    <tr>\n",
       "      <th>28616</th>\n",
       "      <td>0</td>\n",
       "      <td>the most beautiful acceptance speech this week...</td>\n",
       "      <td>https://www.huffingtonpost.com/entry/andrew-ah...</td>\n",
       "      <td>Najpiękniejsza przemowa akceptacyjna w tym tyg...</td>\n",
       "    </tr>\n",
       "    <tr>\n",
       "      <th>28617</th>\n",
       "      <td>1</td>\n",
       "      <td>mars probe destroyed by orbiting spielberg-gat...</td>\n",
       "      <td>https://www.theonion.com/mars-probe-destroyed-...</td>\n",
       "      <td>Mars zniszczony przez pałac kosmiczny na orbic...</td>\n",
       "    </tr>\n",
       "    <tr>\n",
       "      <th>28618</th>\n",
       "      <td>1</td>\n",
       "      <td>dad clarifies this not a food stop</td>\n",
       "      <td>https://www.theonion.com/dad-clarifies-this-no...</td>\n",
       "      <td>Tata wyjaśnia, że to nie jest przerwa na jedzenie</td>\n",
       "    </tr>\n",
       "  </tbody>\n",
       "</table>\n",
       "<p>28619 rows × 4 columns</p>\n",
       "</div>"
      ],
      "text/plain": [
       "       is_sarcastic                                           headline  \\\n",
       "0                 1  thirtysomething scientists unveil doomsday clo...   \n",
       "1                 0  dem rep. totally nails why congress is falling...   \n",
       "2                 0  eat your veggies: 9 deliciously different recipes   \n",
       "3                 1  inclement weather prevents liar from getting t...   \n",
       "4                 1  mother comes pretty close to using word 'strea...   \n",
       "...             ...                                                ...   \n",
       "28614             1       jews to celebrate rosh hashasha or something   \n",
       "28615             1  internal affairs investigator disappointed con...   \n",
       "28616             0  the most beautiful acceptance speech this week...   \n",
       "28617             1  mars probe destroyed by orbiting spielberg-gat...   \n",
       "28618             1                 dad clarifies this not a food stop   \n",
       "\n",
       "                                            article_link  \\\n",
       "0      https://www.theonion.com/thirtysomething-scien...   \n",
       "1      https://www.huffingtonpost.com/entry/donna-edw...   \n",
       "2      https://www.huffingtonpost.com/entry/eat-your-...   \n",
       "3      https://local.theonion.com/inclement-weather-p...   \n",
       "4      https://www.theonion.com/mother-comes-pretty-c...   \n",
       "...                                                  ...   \n",
       "28614  https://www.theonion.com/jews-to-celebrate-ros...   \n",
       "28615  https://local.theonion.com/internal-affairs-in...   \n",
       "28616  https://www.huffingtonpost.com/entry/andrew-ah...   \n",
       "28617  https://www.theonion.com/mars-probe-destroyed-...   \n",
       "28618  https://www.theonion.com/dad-clarifies-this-no...   \n",
       "\n",
       "                                             headline_pl  \n",
       "0      Naukowcy z lat trzydziestych odkrywają zegar z...  \n",
       "1      Reprezentantka rządu USA wyjaśnia, dlaczego Ko...  \n",
       "2              Jedz warzywa: 9 pysznie różnych przepisów  \n",
       "3      Nieprzyjemna pogoda uniemożliwia kłamcy dotarc...  \n",
       "4      matka jest bardzo blisko użycia słowa \"streami...  \n",
       "...                                                  ...  \n",
       "28614               Żydzi świętują Rosh Hashasha czy coś  \n",
       "28615  Śledczy spraw wewnętrznych rozczarowany spiski...  \n",
       "28616  Najpiękniejsza przemowa akceptacyjna w tym tyg...  \n",
       "28617  Mars zniszczony przez pałac kosmiczny na orbic...  \n",
       "28618  Tata wyjaśnia, że to nie jest przerwa na jedzenie  \n",
       "\n",
       "[28619 rows x 4 columns]"
      ]
     },
     "execution_count": 68,
     "metadata": {},
     "output_type": "execute_result"
    }
   ],
   "source": [
    "df = pd.read_json('../data/translated/sarcasm/sarcasm_headlines_dataset_pl.json')\n",
    "df"
   ]
  },
  {
   "cell_type": "code",
   "execution_count": 69,
   "metadata": {},
   "outputs": [
    {
     "data": {
      "text/html": [
       "<div>\n",
       "<style scoped>\n",
       "    .dataframe tbody tr th:only-of-type {\n",
       "        vertical-align: middle;\n",
       "    }\n",
       "\n",
       "    .dataframe tbody tr th {\n",
       "        vertical-align: top;\n",
       "    }\n",
       "\n",
       "    .dataframe thead th {\n",
       "        text-align: right;\n",
       "    }\n",
       "</style>\n",
       "<table border=\"1\" class=\"dataframe\">\n",
       "  <thead>\n",
       "    <tr style=\"text-align: right;\">\n",
       "      <th></th>\n",
       "      <th>is_sarcastic</th>\n",
       "      <th>headline_pl</th>\n",
       "    </tr>\n",
       "  </thead>\n",
       "  <tbody>\n",
       "    <tr>\n",
       "      <th>0</th>\n",
       "      <td>1</td>\n",
       "      <td>Naukowcy z lat trzydziestych odkrywają zegar z...</td>\n",
       "    </tr>\n",
       "    <tr>\n",
       "      <th>1</th>\n",
       "      <td>0</td>\n",
       "      <td>Reprezentantka rządu USA wyjaśnia, dlaczego Ko...</td>\n",
       "    </tr>\n",
       "    <tr>\n",
       "      <th>2</th>\n",
       "      <td>0</td>\n",
       "      <td>Jedz warzywa: 9 pysznie różnych przepisów</td>\n",
       "    </tr>\n",
       "    <tr>\n",
       "      <th>3</th>\n",
       "      <td>1</td>\n",
       "      <td>Nieprzyjemna pogoda uniemożliwia kłamcy dotarc...</td>\n",
       "    </tr>\n",
       "    <tr>\n",
       "      <th>4</th>\n",
       "      <td>1</td>\n",
       "      <td>matka jest bardzo blisko użycia słowa \"streami...</td>\n",
       "    </tr>\n",
       "    <tr>\n",
       "      <th>...</th>\n",
       "      <td>...</td>\n",
       "      <td>...</td>\n",
       "    </tr>\n",
       "    <tr>\n",
       "      <th>28614</th>\n",
       "      <td>1</td>\n",
       "      <td>Żydzi świętują Rosh Hashasha czy coś</td>\n",
       "    </tr>\n",
       "    <tr>\n",
       "      <th>28615</th>\n",
       "      <td>1</td>\n",
       "      <td>Śledczy spraw wewnętrznych rozczarowany spiski...</td>\n",
       "    </tr>\n",
       "    <tr>\n",
       "      <th>28616</th>\n",
       "      <td>0</td>\n",
       "      <td>Najpiękniejsza przemowa akceptacyjna w tym tyg...</td>\n",
       "    </tr>\n",
       "    <tr>\n",
       "      <th>28617</th>\n",
       "      <td>1</td>\n",
       "      <td>Mars zniszczony przez pałac kosmiczny na orbic...</td>\n",
       "    </tr>\n",
       "    <tr>\n",
       "      <th>28618</th>\n",
       "      <td>1</td>\n",
       "      <td>Tata wyjaśnia, że to nie jest przerwa na jedzenie</td>\n",
       "    </tr>\n",
       "  </tbody>\n",
       "</table>\n",
       "<p>28619 rows × 2 columns</p>\n",
       "</div>"
      ],
      "text/plain": [
       "       is_sarcastic                                        headline_pl\n",
       "0                 1  Naukowcy z lat trzydziestych odkrywają zegar z...\n",
       "1                 0  Reprezentantka rządu USA wyjaśnia, dlaczego Ko...\n",
       "2                 0          Jedz warzywa: 9 pysznie różnych przepisów\n",
       "3                 1  Nieprzyjemna pogoda uniemożliwia kłamcy dotarc...\n",
       "4                 1  matka jest bardzo blisko użycia słowa \"streami...\n",
       "...             ...                                                ...\n",
       "28614             1               Żydzi świętują Rosh Hashasha czy coś\n",
       "28615             1  Śledczy spraw wewnętrznych rozczarowany spiski...\n",
       "28616             0  Najpiękniejsza przemowa akceptacyjna w tym tyg...\n",
       "28617             1  Mars zniszczony przez pałac kosmiczny na orbic...\n",
       "28618             1  Tata wyjaśnia, że to nie jest przerwa na jedzenie\n",
       "\n",
       "[28619 rows x 2 columns]"
      ]
     },
     "execution_count": 69,
     "metadata": {},
     "output_type": "execute_result"
    }
   ],
   "source": [
    "df = df.drop(columns=['article_link', 'headline'])\n",
    "df"
   ]
  },
  {
   "cell_type": "code",
   "execution_count": 70,
   "metadata": {},
   "outputs": [
    {
     "data": {
      "text/html": [
       "<div>\n",
       "<style scoped>\n",
       "    .dataframe tbody tr th:only-of-type {\n",
       "        vertical-align: middle;\n",
       "    }\n",
       "\n",
       "    .dataframe tbody tr th {\n",
       "        vertical-align: top;\n",
       "    }\n",
       "\n",
       "    .dataframe thead th {\n",
       "        text-align: right;\n",
       "    }\n",
       "</style>\n",
       "<table border=\"1\" class=\"dataframe\">\n",
       "  <thead>\n",
       "    <tr style=\"text-align: right;\">\n",
       "      <th></th>\n",
       "      <th>is_sarcastic</th>\n",
       "      <th>headline_pl</th>\n",
       "      <th>tokens</th>\n",
       "    </tr>\n",
       "  </thead>\n",
       "  <tbody>\n",
       "    <tr>\n",
       "      <th>0</th>\n",
       "      <td>1</td>\n",
       "      <td>Naukowcy z lat trzydziestych odkrywają zegar z...</td>\n",
       "      <td>[naukowiec, rok, trzydziesty, odkrywać, zegar,...</td>\n",
       "    </tr>\n",
       "    <tr>\n",
       "      <th>1</th>\n",
       "      <td>0</td>\n",
       "      <td>Reprezentantka rządu USA wyjaśnia, dlaczego Ko...</td>\n",
       "      <td>[reprezentantek, rząd, usa, wyjaśniać, kongres...</td>\n",
       "    </tr>\n",
       "    <tr>\n",
       "      <th>2</th>\n",
       "      <td>0</td>\n",
       "      <td>Jedz warzywa: 9 pysznie różnych przepisów</td>\n",
       "      <td>[jedz, warzywać, 9, pysznie, różny, przepis]</td>\n",
       "    </tr>\n",
       "    <tr>\n",
       "      <th>3</th>\n",
       "      <td>1</td>\n",
       "      <td>Nieprzyjemna pogoda uniemożliwia kłamcy dotarc...</td>\n",
       "      <td>[nieprzyjemny, pogoda, uniemożliwiać, kłamca, ...</td>\n",
       "    </tr>\n",
       "    <tr>\n",
       "      <th>4</th>\n",
       "      <td>1</td>\n",
       "      <td>matka jest bardzo blisko użycia słowa \"streami...</td>\n",
       "      <td>[matka, blisko, użyć, słowo, streaming, popraw...</td>\n",
       "    </tr>\n",
       "    <tr>\n",
       "      <th>...</th>\n",
       "      <td>...</td>\n",
       "      <td>...</td>\n",
       "      <td>...</td>\n",
       "    </tr>\n",
       "    <tr>\n",
       "      <th>28614</th>\n",
       "      <td>1</td>\n",
       "      <td>Żydzi świętują Rosh Hashasha czy coś</td>\n",
       "      <td>[żydzi, świętować, rosh, hashasha]</td>\n",
       "    </tr>\n",
       "    <tr>\n",
       "      <th>28615</th>\n",
       "      <td>1</td>\n",
       "      <td>Śledczy spraw wewnętrznych rozczarowany spiski...</td>\n",
       "      <td>[śledczy, sprawa, wewnętrzny, rozczarować, spi...</td>\n",
       "    </tr>\n",
       "    <tr>\n",
       "      <th>28616</th>\n",
       "      <td>0</td>\n",
       "      <td>Najpiękniejsza przemowa akceptacyjna w tym tyg...</td>\n",
       "      <td>[najpiękniejsza, przemowy, akceptacyjny, tydzi...</td>\n",
       "    </tr>\n",
       "    <tr>\n",
       "      <th>28617</th>\n",
       "      <td>1</td>\n",
       "      <td>Mars zniszczony przez pałac kosmiczny na orbic...</td>\n",
       "      <td>[mars, zniszczona, pałac, kosmiczny, orbicie, ...</td>\n",
       "    </tr>\n",
       "    <tr>\n",
       "      <th>28618</th>\n",
       "      <td>1</td>\n",
       "      <td>Tata wyjaśnia, że to nie jest przerwa na jedzenie</td>\n",
       "      <td>[tata, wyjaśniać, przerwa, jeść]</td>\n",
       "    </tr>\n",
       "  </tbody>\n",
       "</table>\n",
       "<p>28619 rows × 3 columns</p>\n",
       "</div>"
      ],
      "text/plain": [
       "       is_sarcastic                                        headline_pl  \\\n",
       "0                 1  Naukowcy z lat trzydziestych odkrywają zegar z...   \n",
       "1                 0  Reprezentantka rządu USA wyjaśnia, dlaczego Ko...   \n",
       "2                 0          Jedz warzywa: 9 pysznie różnych przepisów   \n",
       "3                 1  Nieprzyjemna pogoda uniemożliwia kłamcy dotarc...   \n",
       "4                 1  matka jest bardzo blisko użycia słowa \"streami...   \n",
       "...             ...                                                ...   \n",
       "28614             1               Żydzi świętują Rosh Hashasha czy coś   \n",
       "28615             1  Śledczy spraw wewnętrznych rozczarowany spiski...   \n",
       "28616             0  Najpiękniejsza przemowa akceptacyjna w tym tyg...   \n",
       "28617             1  Mars zniszczony przez pałac kosmiczny na orbic...   \n",
       "28618             1  Tata wyjaśnia, że to nie jest przerwa na jedzenie   \n",
       "\n",
       "                                                  tokens  \n",
       "0      [naukowiec, rok, trzydziesty, odkrywać, zegar,...  \n",
       "1      [reprezentantek, rząd, usa, wyjaśniać, kongres...  \n",
       "2           [jedz, warzywać, 9, pysznie, różny, przepis]  \n",
       "3      [nieprzyjemny, pogoda, uniemożliwiać, kłamca, ...  \n",
       "4      [matka, blisko, użyć, słowo, streaming, popraw...  \n",
       "...                                                  ...  \n",
       "28614                 [żydzi, świętować, rosh, hashasha]  \n",
       "28615  [śledczy, sprawa, wewnętrzny, rozczarować, spi...  \n",
       "28616  [najpiękniejsza, przemowy, akceptacyjny, tydzi...  \n",
       "28617  [mars, zniszczona, pałac, kosmiczny, orbicie, ...  \n",
       "28618                   [tata, wyjaśniać, przerwa, jeść]  \n",
       "\n",
       "[28619 rows x 3 columns]"
      ]
     },
     "execution_count": 70,
     "metadata": {},
     "output_type": "execute_result"
    }
   ],
   "source": [
    "df['tokens'] = df['headline_pl'].apply(spacy_tokenizer)\n",
    "df"
   ]
  },
  {
   "cell_type": "code",
   "execution_count": 66,
   "metadata": {},
   "outputs": [
    {
     "name": "stderr",
     "output_type": "stream",
     "text": [
      "C:\\Users\\Artur\\AppData\\Local\\Temp\\ipykernel_12944\\2429806923.py:1: SettingWithCopyWarning: \n",
      "A value is trying to be set on a copy of a slice from a DataFrame.\n",
      "Try using .loc[row_indexer,col_indexer] = value instead\n",
      "\n",
      "See the caveats in the documentation: https://pandas.pydata.org/pandas-docs/stable/user_guide/indexing.html#returning-a-view-versus-a-copy\n",
      "  df['tokens'] = df['headline_pl'].apply(spacy_tokenizer)\n"
     ]
    }
   ],
   "source": [
    "df['tokens'] = df['headline_pl'].apply(spacy_tokenizer)"
   ]
  },
  {
   "cell_type": "code",
   "execution_count": 71,
   "metadata": {},
   "outputs": [
    {
     "data": {
      "text/html": [
       "<div>\n",
       "<style scoped>\n",
       "    .dataframe tbody tr th:only-of-type {\n",
       "        vertical-align: middle;\n",
       "    }\n",
       "\n",
       "    .dataframe tbody tr th {\n",
       "        vertical-align: top;\n",
       "    }\n",
       "\n",
       "    .dataframe thead th {\n",
       "        text-align: right;\n",
       "    }\n",
       "</style>\n",
       "<table border=\"1\" class=\"dataframe\">\n",
       "  <thead>\n",
       "    <tr style=\"text-align: right;\">\n",
       "      <th></th>\n",
       "      <th>is_sarcastic</th>\n",
       "      <th>headline_pl</th>\n",
       "      <th>tokens</th>\n",
       "    </tr>\n",
       "  </thead>\n",
       "  <tbody>\n",
       "    <tr>\n",
       "      <th>0</th>\n",
       "      <td>1</td>\n",
       "      <td>Naukowcy z lat trzydziestych odkrywają zegar z...</td>\n",
       "      <td>[naukowiec, rok, trzydziesty, odkrywać, zegar,...</td>\n",
       "    </tr>\n",
       "    <tr>\n",
       "      <th>1</th>\n",
       "      <td>0</td>\n",
       "      <td>Reprezentantka rządu USA wyjaśnia, dlaczego Ko...</td>\n",
       "      <td>[reprezentantek, rząd, usa, wyjaśniać, kongres...</td>\n",
       "    </tr>\n",
       "    <tr>\n",
       "      <th>2</th>\n",
       "      <td>0</td>\n",
       "      <td>Jedz warzywa: 9 pysznie różnych przepisów</td>\n",
       "      <td>[jedz, warzywać, 9, pysznie, różny, przepis]</td>\n",
       "    </tr>\n",
       "    <tr>\n",
       "      <th>3</th>\n",
       "      <td>1</td>\n",
       "      <td>Nieprzyjemna pogoda uniemożliwia kłamcy dotarc...</td>\n",
       "      <td>[nieprzyjemny, pogoda, uniemożliwiać, kłamca, ...</td>\n",
       "    </tr>\n",
       "    <tr>\n",
       "      <th>4</th>\n",
       "      <td>1</td>\n",
       "      <td>matka jest bardzo blisko użycia słowa \"streami...</td>\n",
       "      <td>[matka, blisko, użyć, słowo, streaming, popraw...</td>\n",
       "    </tr>\n",
       "    <tr>\n",
       "      <th>...</th>\n",
       "      <td>...</td>\n",
       "      <td>...</td>\n",
       "      <td>...</td>\n",
       "    </tr>\n",
       "    <tr>\n",
       "      <th>28614</th>\n",
       "      <td>1</td>\n",
       "      <td>Żydzi świętują Rosh Hashasha czy coś</td>\n",
       "      <td>[żydzi, świętować, rosh, hashasha]</td>\n",
       "    </tr>\n",
       "    <tr>\n",
       "      <th>28615</th>\n",
       "      <td>1</td>\n",
       "      <td>Śledczy spraw wewnętrznych rozczarowany spiski...</td>\n",
       "      <td>[śledczy, sprawa, wewnętrzny, rozczarować, spi...</td>\n",
       "    </tr>\n",
       "    <tr>\n",
       "      <th>28616</th>\n",
       "      <td>0</td>\n",
       "      <td>Najpiękniejsza przemowa akceptacyjna w tym tyg...</td>\n",
       "      <td>[najpiękniejsza, przemowy, akceptacyjny, tydzi...</td>\n",
       "    </tr>\n",
       "    <tr>\n",
       "      <th>28617</th>\n",
       "      <td>1</td>\n",
       "      <td>Mars zniszczony przez pałac kosmiczny na orbic...</td>\n",
       "      <td>[mars, zniszczona, pałac, kosmiczny, orbicie, ...</td>\n",
       "    </tr>\n",
       "    <tr>\n",
       "      <th>28618</th>\n",
       "      <td>1</td>\n",
       "      <td>Tata wyjaśnia, że to nie jest przerwa na jedzenie</td>\n",
       "      <td>[tata, wyjaśniać, przerwa, jeść]</td>\n",
       "    </tr>\n",
       "  </tbody>\n",
       "</table>\n",
       "<p>28619 rows × 3 columns</p>\n",
       "</div>"
      ],
      "text/plain": [
       "       is_sarcastic                                        headline_pl  \\\n",
       "0                 1  Naukowcy z lat trzydziestych odkrywają zegar z...   \n",
       "1                 0  Reprezentantka rządu USA wyjaśnia, dlaczego Ko...   \n",
       "2                 0          Jedz warzywa: 9 pysznie różnych przepisów   \n",
       "3                 1  Nieprzyjemna pogoda uniemożliwia kłamcy dotarc...   \n",
       "4                 1  matka jest bardzo blisko użycia słowa \"streami...   \n",
       "...             ...                                                ...   \n",
       "28614             1               Żydzi świętują Rosh Hashasha czy coś   \n",
       "28615             1  Śledczy spraw wewnętrznych rozczarowany spiski...   \n",
       "28616             0  Najpiękniejsza przemowa akceptacyjna w tym tyg...   \n",
       "28617             1  Mars zniszczony przez pałac kosmiczny na orbic...   \n",
       "28618             1  Tata wyjaśnia, że to nie jest przerwa na jedzenie   \n",
       "\n",
       "                                                  tokens  \n",
       "0      [naukowiec, rok, trzydziesty, odkrywać, zegar,...  \n",
       "1      [reprezentantek, rząd, usa, wyjaśniać, kongres...  \n",
       "2           [jedz, warzywać, 9, pysznie, różny, przepis]  \n",
       "3      [nieprzyjemny, pogoda, uniemożliwiać, kłamca, ...  \n",
       "4      [matka, blisko, użyć, słowo, streaming, popraw...  \n",
       "...                                                  ...  \n",
       "28614                 [żydzi, świętować, rosh, hashasha]  \n",
       "28615  [śledczy, sprawa, wewnętrzny, rozczarować, spi...  \n",
       "28616  [najpiękniejsza, przemowy, akceptacyjny, tydzi...  \n",
       "28617  [mars, zniszczona, pałac, kosmiczny, orbicie, ...  \n",
       "28618                   [tata, wyjaśniać, przerwa, jeść]  \n",
       "\n",
       "[28619 rows x 3 columns]"
      ]
     },
     "execution_count": 71,
     "metadata": {},
     "output_type": "execute_result"
    }
   ],
   "source": [
    "df"
   ]
  },
  {
   "cell_type": "code",
   "execution_count": 74,
   "metadata": {},
   "outputs": [
    {
     "data": {
      "text/html": [
       "<div>\n",
       "<style scoped>\n",
       "    .dataframe tbody tr th:only-of-type {\n",
       "        vertical-align: middle;\n",
       "    }\n",
       "\n",
       "    .dataframe tbody tr th {\n",
       "        vertical-align: top;\n",
       "    }\n",
       "\n",
       "    .dataframe thead th {\n",
       "        text-align: right;\n",
       "    }\n",
       "</style>\n",
       "<table border=\"1\" class=\"dataframe\">\n",
       "  <thead>\n",
       "    <tr style=\"text-align: right;\">\n",
       "      <th></th>\n",
       "      <th>is_sarcastic</th>\n",
       "      <th>headline_pl</th>\n",
       "      <th>tokens</th>\n",
       "      <th>vec</th>\n",
       "    </tr>\n",
       "  </thead>\n",
       "  <tbody>\n",
       "    <tr>\n",
       "      <th>0</th>\n",
       "      <td>1</td>\n",
       "      <td>Naukowcy z lat trzydziestych odkrywają zegar z...</td>\n",
       "      <td>[naukowiec, rok, trzydziesty, odkrywać, zegar,...</td>\n",
       "      <td>[-0.7384665177928077, -0.8411665691269768, -0....</td>\n",
       "    </tr>\n",
       "    <tr>\n",
       "      <th>1</th>\n",
       "      <td>0</td>\n",
       "      <td>Reprezentantka rządu USA wyjaśnia, dlaczego Ko...</td>\n",
       "      <td>[reprezentantek, rząd, usa, wyjaśniać, kongres...</td>\n",
       "      <td>[0.4179558770524131, -1.4228616489304438, -0.4...</td>\n",
       "    </tr>\n",
       "    <tr>\n",
       "      <th>2</th>\n",
       "      <td>0</td>\n",
       "      <td>Jedz warzywa: 9 pysznie różnych przepisów</td>\n",
       "      <td>[jedz, warzywać, 9, pysznie, różny, przepis]</td>\n",
       "      <td>[-0.16232979893684388, -2.700317549705505, 0.1...</td>\n",
       "    </tr>\n",
       "    <tr>\n",
       "      <th>3</th>\n",
       "      <td>1</td>\n",
       "      <td>Nieprzyjemna pogoda uniemożliwia kłamcy dotarc...</td>\n",
       "      <td>[nieprzyjemny, pogoda, uniemożliwiać, kłamca, ...</td>\n",
       "      <td>[0.48092331488927204, -0.4984319607416789, -1....</td>\n",
       "    </tr>\n",
       "    <tr>\n",
       "      <th>4</th>\n",
       "      <td>1</td>\n",
       "      <td>matka jest bardzo blisko użycia słowa \"streami...</td>\n",
       "      <td>[matka, blisko, użyć, słowo, streaming, popraw...</td>\n",
       "      <td>[0.44403269461223055, 0.06520771980285645, -0....</td>\n",
       "    </tr>\n",
       "    <tr>\n",
       "      <th>...</th>\n",
       "      <td>...</td>\n",
       "      <td>...</td>\n",
       "      <td>...</td>\n",
       "      <td>...</td>\n",
       "    </tr>\n",
       "    <tr>\n",
       "      <th>28614</th>\n",
       "      <td>1</td>\n",
       "      <td>Żydzi świętują Rosh Hashasha czy coś</td>\n",
       "      <td>[żydzi, świętować, rosh, hashasha]</td>\n",
       "      <td>[0.6254103456934293, -0.33766500155131024, 0.5...</td>\n",
       "    </tr>\n",
       "    <tr>\n",
       "      <th>28615</th>\n",
       "      <td>1</td>\n",
       "      <td>Śledczy spraw wewnętrznych rozczarowany spiski...</td>\n",
       "      <td>[śledczy, sprawa, wewnętrzny, rozczarować, spi...</td>\n",
       "      <td>[0.0876303669065237, 0.51351273432374, -0.7531...</td>\n",
       "    </tr>\n",
       "    <tr>\n",
       "      <th>28616</th>\n",
       "      <td>0</td>\n",
       "      <td>Najpiękniejsza przemowa akceptacyjna w tym tyg...</td>\n",
       "      <td>[najpiękniejsza, przemowy, akceptacyjny, tydzi...</td>\n",
       "      <td>[1.4082615077495575, -0.8714271609981855, 1.01...</td>\n",
       "    </tr>\n",
       "    <tr>\n",
       "      <th>28617</th>\n",
       "      <td>1</td>\n",
       "      <td>Mars zniszczony przez pałac kosmiczny na orbic...</td>\n",
       "      <td>[mars, zniszczona, pałac, kosmiczny, orbicie, ...</td>\n",
       "      <td>[-2.4199483752250672, -0.4894144177436829, 0.0...</td>\n",
       "    </tr>\n",
       "    <tr>\n",
       "      <th>28618</th>\n",
       "      <td>1</td>\n",
       "      <td>Tata wyjaśnia, że to nie jest przerwa na jedzenie</td>\n",
       "      <td>[tata, wyjaśniać, przerwa, jeść]</td>\n",
       "      <td>[0.18519079983234404, -2.1892378821969034, 0.1...</td>\n",
       "    </tr>\n",
       "  </tbody>\n",
       "</table>\n",
       "<p>28619 rows × 4 columns</p>\n",
       "</div>"
      ],
      "text/plain": [
       "       is_sarcastic                                        headline_pl  \\\n",
       "0                 1  Naukowcy z lat trzydziestych odkrywają zegar z...   \n",
       "1                 0  Reprezentantka rządu USA wyjaśnia, dlaczego Ko...   \n",
       "2                 0          Jedz warzywa: 9 pysznie różnych przepisów   \n",
       "3                 1  Nieprzyjemna pogoda uniemożliwia kłamcy dotarc...   \n",
       "4                 1  matka jest bardzo blisko użycia słowa \"streami...   \n",
       "...             ...                                                ...   \n",
       "28614             1               Żydzi świętują Rosh Hashasha czy coś   \n",
       "28615             1  Śledczy spraw wewnętrznych rozczarowany spiski...   \n",
       "28616             0  Najpiękniejsza przemowa akceptacyjna w tym tyg...   \n",
       "28617             1  Mars zniszczony przez pałac kosmiczny na orbic...   \n",
       "28618             1  Tata wyjaśnia, że to nie jest przerwa na jedzenie   \n",
       "\n",
       "                                                  tokens  \\\n",
       "0      [naukowiec, rok, trzydziesty, odkrywać, zegar,...   \n",
       "1      [reprezentantek, rząd, usa, wyjaśniać, kongres...   \n",
       "2           [jedz, warzywać, 9, pysznie, różny, przepis]   \n",
       "3      [nieprzyjemny, pogoda, uniemożliwiać, kłamca, ...   \n",
       "4      [matka, blisko, użyć, słowo, streaming, popraw...   \n",
       "...                                                  ...   \n",
       "28614                 [żydzi, świętować, rosh, hashasha]   \n",
       "28615  [śledczy, sprawa, wewnętrzny, rozczarować, spi...   \n",
       "28616  [najpiękniejsza, przemowy, akceptacyjny, tydzi...   \n",
       "28617  [mars, zniszczona, pałac, kosmiczny, orbicie, ...   \n",
       "28618                   [tata, wyjaśniać, przerwa, jeść]   \n",
       "\n",
       "                                                     vec  \n",
       "0      [-0.7384665177928077, -0.8411665691269768, -0....  \n",
       "1      [0.4179558770524131, -1.4228616489304438, -0.4...  \n",
       "2      [-0.16232979893684388, -2.700317549705505, 0.1...  \n",
       "3      [0.48092331488927204, -0.4984319607416789, -1....  \n",
       "4      [0.44403269461223055, 0.06520771980285645, -0....  \n",
       "...                                                  ...  \n",
       "28614  [0.6254103456934293, -0.33766500155131024, 0.5...  \n",
       "28615  [0.0876303669065237, 0.51351273432374, -0.7531...  \n",
       "28616  [1.4082615077495575, -0.8714271609981855, 1.01...  \n",
       "28617  [-2.4199483752250672, -0.4894144177436829, 0.0...  \n",
       "28618  [0.18519079983234404, -2.1892378821969034, 0.1...  \n",
       "\n",
       "[28619 rows x 4 columns]"
      ]
     },
     "execution_count": 74,
     "metadata": {},
     "output_type": "execute_result"
    }
   ],
   "source": [
    "df['vec'] = df['tokens'].apply(sent_vec)\n",
    "df"
   ]
  },
  {
   "cell_type": "code",
   "execution_count": 77,
   "metadata": {},
   "outputs": [],
   "source": [
    "X = df['vec'].to_list()\n",
    "y = df['is_sarcastic'].to_list()"
   ]
  },
  {
   "cell_type": "code",
   "execution_count": 78,
   "metadata": {},
   "outputs": [],
   "source": [
    "from sklearn.model_selection import train_test_split\n",
    "X_train, X_test, y_train, y_test = train_test_split(X, y, test_size=0.2,stratify=y)"
   ]
  },
  {
   "cell_type": "code",
   "execution_count": 79,
   "metadata": {},
   "outputs": [],
   "source": [
    "from sklearn.linear_model import LogisticRegression\n",
    "classifier = LogisticRegression()"
   ]
  },
  {
   "cell_type": "code",
   "execution_count": 80,
   "metadata": {},
   "outputs": [
    {
     "data": {
      "text/html": [
       "<style>#sk-container-id-1 {color: black;background-color: white;}#sk-container-id-1 pre{padding: 0;}#sk-container-id-1 div.sk-toggleable {background-color: white;}#sk-container-id-1 label.sk-toggleable__label {cursor: pointer;display: block;width: 100%;margin-bottom: 0;padding: 0.3em;box-sizing: border-box;text-align: center;}#sk-container-id-1 label.sk-toggleable__label-arrow:before {content: \"▸\";float: left;margin-right: 0.25em;color: #696969;}#sk-container-id-1 label.sk-toggleable__label-arrow:hover:before {color: black;}#sk-container-id-1 div.sk-estimator:hover label.sk-toggleable__label-arrow:before {color: black;}#sk-container-id-1 div.sk-toggleable__content {max-height: 0;max-width: 0;overflow: hidden;text-align: left;background-color: #f0f8ff;}#sk-container-id-1 div.sk-toggleable__content pre {margin: 0.2em;color: black;border-radius: 0.25em;background-color: #f0f8ff;}#sk-container-id-1 input.sk-toggleable__control:checked~div.sk-toggleable__content {max-height: 200px;max-width: 100%;overflow: auto;}#sk-container-id-1 input.sk-toggleable__control:checked~label.sk-toggleable__label-arrow:before {content: \"▾\";}#sk-container-id-1 div.sk-estimator input.sk-toggleable__control:checked~label.sk-toggleable__label {background-color: #d4ebff;}#sk-container-id-1 div.sk-label input.sk-toggleable__control:checked~label.sk-toggleable__label {background-color: #d4ebff;}#sk-container-id-1 input.sk-hidden--visually {border: 0;clip: rect(1px 1px 1px 1px);clip: rect(1px, 1px, 1px, 1px);height: 1px;margin: -1px;overflow: hidden;padding: 0;position: absolute;width: 1px;}#sk-container-id-1 div.sk-estimator {font-family: monospace;background-color: #f0f8ff;border: 1px dotted black;border-radius: 0.25em;box-sizing: border-box;margin-bottom: 0.5em;}#sk-container-id-1 div.sk-estimator:hover {background-color: #d4ebff;}#sk-container-id-1 div.sk-parallel-item::after {content: \"\";width: 100%;border-bottom: 1px solid gray;flex-grow: 1;}#sk-container-id-1 div.sk-label:hover label.sk-toggleable__label {background-color: #d4ebff;}#sk-container-id-1 div.sk-serial::before {content: \"\";position: absolute;border-left: 1px solid gray;box-sizing: border-box;top: 0;bottom: 0;left: 50%;z-index: 0;}#sk-container-id-1 div.sk-serial {display: flex;flex-direction: column;align-items: center;background-color: white;padding-right: 0.2em;padding-left: 0.2em;position: relative;}#sk-container-id-1 div.sk-item {position: relative;z-index: 1;}#sk-container-id-1 div.sk-parallel {display: flex;align-items: stretch;justify-content: center;background-color: white;position: relative;}#sk-container-id-1 div.sk-item::before, #sk-container-id-1 div.sk-parallel-item::before {content: \"\";position: absolute;border-left: 1px solid gray;box-sizing: border-box;top: 0;bottom: 0;left: 50%;z-index: -1;}#sk-container-id-1 div.sk-parallel-item {display: flex;flex-direction: column;z-index: 1;position: relative;background-color: white;}#sk-container-id-1 div.sk-parallel-item:first-child::after {align-self: flex-end;width: 50%;}#sk-container-id-1 div.sk-parallel-item:last-child::after {align-self: flex-start;width: 50%;}#sk-container-id-1 div.sk-parallel-item:only-child::after {width: 0;}#sk-container-id-1 div.sk-dashed-wrapped {border: 1px dashed gray;margin: 0 0.4em 0.5em 0.4em;box-sizing: border-box;padding-bottom: 0.4em;background-color: white;}#sk-container-id-1 div.sk-label label {font-family: monospace;font-weight: bold;display: inline-block;line-height: 1.2em;}#sk-container-id-1 div.sk-label-container {text-align: center;}#sk-container-id-1 div.sk-container {/* jupyter's `normalize.less` sets `[hidden] { display: none; }` but bootstrap.min.css set `[hidden] { display: none !important; }` so we also need the `!important` here to be able to override the default hidden behavior on the sphinx rendered scikit-learn.org. See: https://github.com/scikit-learn/scikit-learn/issues/21755 */display: inline-block !important;position: relative;}#sk-container-id-1 div.sk-text-repr-fallback {display: none;}</style><div id=\"sk-container-id-1\" class=\"sk-top-container\"><div class=\"sk-text-repr-fallback\"><pre>LogisticRegression()</pre><b>In a Jupyter environment, please rerun this cell to show the HTML representation or trust the notebook. <br />On GitHub, the HTML representation is unable to render, please try loading this page with nbviewer.org.</b></div><div class=\"sk-container\" hidden><div class=\"sk-item\"><div class=\"sk-estimator sk-toggleable\"><input class=\"sk-toggleable__control sk-hidden--visually\" id=\"sk-estimator-id-1\" type=\"checkbox\" checked><label for=\"sk-estimator-id-1\" class=\"sk-toggleable__label sk-toggleable__label-arrow\">LogisticRegression</label><div class=\"sk-toggleable__content\"><pre>LogisticRegression()</pre></div></div></div></div></div>"
      ],
      "text/plain": [
       "LogisticRegression()"
      ]
     },
     "execution_count": 80,
     "metadata": {},
     "output_type": "execute_result"
    }
   ],
   "source": [
    "classifier.fit(X_train,y_train)"
   ]
  },
  {
   "cell_type": "code",
   "execution_count": 81,
   "metadata": {},
   "outputs": [
    {
     "name": "stdout",
     "output_type": "stream",
     "text": [
      "Logistic Regression Accuracy: 0.6708595387840671\n",
      "Logistic Regression Precision: 0.6645841468176493\n",
      "Logistic Regression Recall: 0.6241290795746242\n"
     ]
    }
   ],
   "source": [
    "from sklearn import metrics\n",
    "predicted = classifier.predict(X_test)\n",
    "print(\"Logistic Regression Accuracy:\",metrics.accuracy_score(y_test, predicted))\n",
    "print(\"Logistic Regression Precision:\",metrics.precision_score(y_test, predicted))\n",
    "print(\"Logistic Regression Recall:\",metrics.recall_score(y_test, predicted))"
   ]
  },
  {
   "cell_type": "code",
   "execution_count": null,
   "metadata": {},
   "outputs": [],
   "source": []
  }
 ],
 "metadata": {
  "kernelspec": {
   "display_name": "nlp",
   "language": "python",
   "name": "python3"
  },
  "language_info": {
   "codemirror_mode": {
    "name": "ipython",
    "version": 3
   },
   "file_extension": ".py",
   "mimetype": "text/x-python",
   "name": "python",
   "nbconvert_exporter": "python",
   "pygments_lexer": "ipython3",
   "version": "3.10.11"
  },
  "orig_nbformat": 4
 },
 "nbformat": 4,
 "nbformat_minor": 2
}
