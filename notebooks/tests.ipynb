{
 "cells": [
  {
   "cell_type": "code",
   "execution_count": 1,
   "metadata": {},
   "outputs": [],
   "source": [
    "import numpy as np\n",
    "import tensorflow as tf\n",
    "import string\n",
    "import pandas as pd"
   ]
  },
  {
   "cell_type": "code",
   "execution_count": 5,
   "metadata": {},
   "outputs": [
    {
     "data": {
      "text/plain": [
       "gensim.models.keyedvectors.KeyedVectors"
      ]
     },
     "execution_count": 5,
     "metadata": {},
     "output_type": "execute_result"
    }
   ],
   "source": [
    "from gensim.models import KeyedVectors\n",
    "\n",
    "word2vec = KeyedVectors.load(\"./word2vec/word2vec_100_3_polish.bin\")\n",
    "type(word2vec)"
   ]
  },
  {
   "cell_type": "code",
   "execution_count": 3,
   "metadata": {},
   "outputs": [
    {
     "name": "stdout",
     "output_type": "stream",
     "text": [
      "[('coś', 0.8059569597244263), ('ktokolwiek', 0.7318310737609863), ('nic', 0.7306963205337524), ('co', 0.6965216398239136), ('cośkolwiek', 0.6400914192199707), ('wszystko', 0.6129156947135925), ('czego', 0.5883895754814148), ('ktoś', 0.5792883634567261), ('nikt', 0.5630813837051392), ('któż', 0.554350733757019)]\n"
     ]
    },
    {
     "name": "stderr",
     "output_type": "stream",
     "text": [
      "c:\\Users\\Artur\\.conda\\envs\\nlp\\lib\\site-packages\\gensim\\models\\keyedvectors.py:849: RuntimeWarning: invalid value encountered in divide\n",
      "  dists = dot(self.vectors[clip_start:clip_end], mean) / self.norms[clip_start:clip_end]\n"
     ]
    }
   ],
   "source": [
    "print(word2vec.similar_by_word(\"cokolwiek\"))\n"
   ]
  },
  {
   "cell_type": "code",
   "execution_count": 4,
   "metadata": {},
   "outputs": [
    {
     "data": {
      "text/plain": [
       "gensim.models.keyedvectors.KeyedVectors"
      ]
     },
     "execution_count": 4,
     "metadata": {},
     "output_type": "execute_result"
    }
   ],
   "source": [
    "type(word2vec)"
   ]
  },
  {
   "cell_type": "code",
   "execution_count": 5,
   "metadata": {},
   "outputs": [
    {
     "data": {
      "text/plain": [
       "array([-1.685019, -1.215587,  0.133417, -1.289307, -3.898652,  1.207245,\n",
       "        2.295241,  0.959504, -0.890345,  2.634293,  1.099217, -0.152267,\n",
       "       -6.729102,  1.343308, -1.297526, -9.898701, -5.91792 , -2.328752,\n",
       "        3.296124, -2.757482, -4.022297,  2.390555,  0.58566 , -0.240787,\n",
       "        1.582225, -0.564365, -6.794726,  3.514125, -0.817453, -3.794007,\n",
       "        0.724562,  2.002141, -0.217938, -0.432564, -2.364502,  1.53295 ,\n",
       "       -3.836174,  0.73244 , -0.281896,  0.754913, -3.024617, -0.22978 ,\n",
       "       -0.024458, -3.143121,  2.039253,  1.258927, -2.456024, -4.329937,\n",
       "       -5.147488, -1.260532,  0.97882 , -1.268077, -1.087059, -2.035576,\n",
       "       -4.509109, -4.925411,  1.146704,  0.061383,  3.25395 ,  2.518304,\n",
       "        4.893778,  4.039767,  2.163444, -1.435957, -0.725813,  1.164832,\n",
       "       -0.4246  ,  1.667463,  3.007585,  2.395657, -2.307959, -1.789699,\n",
       "        1.314376, -0.937874, -2.027981,  3.947403,  2.076706,  0.929517,\n",
       "        4.068125,  1.361365,  2.547499, -1.437108,  6.235761,  1.222567,\n",
       "       -1.187808, -3.385838,  1.798123,  1.903644, -1.064647,  1.175644,\n",
       "       -0.460288, -0.826047,  1.803584, -5.980828,  4.872738, -3.012415,\n",
       "       -1.4708  , -0.050617, -0.984711,  2.749985], dtype=float32)"
      ]
     },
     "execution_count": 5,
     "metadata": {},
     "output_type": "execute_result"
    }
   ],
   "source": [
    "word2vec['tablica']"
   ]
  },
  {
   "cell_type": "code",
   "execution_count": 6,
   "metadata": {},
   "outputs": [
    {
     "data": {
      "text/plain": [
       "[('kosiński', 0.6873142123222351),\n",
       " ('gliński', 0.68422931432724),\n",
       " ('walicki', 0.6840715408325195)]"
      ]
     },
     "execution_count": 6,
     "metadata": {},
     "output_type": "execute_result"
    }
   ],
   "source": [
    "word2vec.most_similar(positive=['andrzej', 'wajda'], negative=['drzewo'], topn=3)"
   ]
  },
  {
   "cell_type": "code",
   "execution_count": 7,
   "metadata": {},
   "outputs": [
    {
     "data": {
      "text/plain": [
       "array([0., 0., 0., 0., 0., 0., 0., 0., 0., 0., 0., 0., 0., 0., 0., 0., 0.,\n",
       "       0., 0., 0., 0., 0., 0., 0., 0., 0., 0., 0., 0., 0., 0., 0., 0., 0.,\n",
       "       0., 0., 0., 0., 0., 0., 0., 0., 0., 0., 0., 0., 0., 0., 0., 0., 0.,\n",
       "       0., 0., 0., 0., 0., 0., 0., 0., 0., 0., 0., 0., 0., 0., 0., 0., 0.,\n",
       "       0., 0., 0., 0., 0., 0., 0., 0., 0., 0., 0., 0., 0., 0., 0., 0., 0.,\n",
       "       0., 0., 0., 0., 0., 0., 0., 0., 0., 0., 0., 0., 0., 0., 0.])"
      ]
     },
     "execution_count": 7,
     "metadata": {},
     "output_type": "execute_result"
    }
   ],
   "source": [
    "vector_size = word2vec.vector_size\n",
    "np.zeros(vector_size)"
   ]
  },
  {
   "cell_type": "code",
   "execution_count": 20,
   "metadata": {},
   "outputs": [],
   "source": [
    "def sent_vec(sent):\n",
    "    vector_size = word2vec.vector_size\n",
    "    wv_res = np.zeros(vector_size)\n",
    "    ctr = 1\n",
    "    for w in sent:\n",
    "        if w in word2vec:\n",
    "            ctr += 1\n",
    "            wv_res += word2vec[w]\n",
    "    wv_res = wv_res/ctr\n",
    "    return wv_res"
   ]
  },
  {
   "cell_type": "code",
   "execution_count": 8,
   "metadata": {},
   "outputs": [],
   "source": [
    "def sent_vec(sent):\n",
    "    split = sent.split()\n",
    "    vector_size = word2vec.vector_size\n",
    "    wv_res = np.zeros(vector_size)\n",
    "    ctr = 1\n",
    "    for w in split:\n",
    "        if w in word2vec:\n",
    "            ctr += 1\n",
    "            wv_res += word2vec[w]\n",
    "    wv_res = wv_res/ctr\n",
    "    return wv_res"
   ]
  },
  {
   "cell_type": "code",
   "execution_count": 9,
   "metadata": {},
   "outputs": [
    {
     "data": {
      "text/plain": [
       "False"
      ]
     },
     "execution_count": 9,
     "metadata": {},
     "output_type": "execute_result"
    }
   ],
   "source": [
    "# for w in \"jedziemy, panowie\":\n",
    "    # print(w)\n",
    "\"hg\" in word2vec\n",
    "\n",
    "# \"jedziemy, panowie\".split()\n",
    "\n"
   ]
  },
  {
   "cell_type": "code",
   "execution_count": 10,
   "metadata": {},
   "outputs": [
    {
     "data": {
      "text/plain": [
       "array([-1.1805023 , -0.15151067, -0.02679   , -1.83786038, -0.30769134,\n",
       "       -1.05648263, -0.80560364,  1.84856463, -1.26818934, -0.859691  ,\n",
       "       -0.60106432,  1.8067813 ,  1.5490794 , -0.71242403,  0.27092167,\n",
       "       -1.18887337,  0.43725899,  0.39164765,  0.611302  , -0.39735633,\n",
       "        0.277807  , -0.85363733,  1.90716671,  0.70203402, -0.19657966,\n",
       "       -0.13693766, -1.32814499,  1.05240129,  0.109232  ,  1.237841  ,\n",
       "       -0.77398929, -0.68191463,  0.75211036,  0.16940401, -0.13060533,\n",
       "        0.44415599, -0.98361233,  1.99457929,  0.06036067, -2.46248941,\n",
       "       -0.24354434,  1.61639806,  0.83092135,  0.05269066,  0.41963934,\n",
       "       -0.25939632, -1.11373836, -0.56293801,  0.51600566,  1.2679346 ,\n",
       "        0.27763267, -0.48919835, -2.37647132,  0.84262133,  0.19658833,\n",
       "        0.04164833, -0.65694935,  0.94761566,  0.498363  , -0.57956367,\n",
       "        0.80958835, -1.15448699,  0.87509896,  0.41904432,  0.98638569,\n",
       "        0.36362867, -0.08832633, -0.09382667,  0.147856  , -0.01913866,\n",
       "       -0.25526632, -0.51678865,  0.63735568, -0.605648  ,  0.91222035,\n",
       "        0.75449399, -0.90210703, -0.63922899, -0.85365631,  0.85952231,\n",
       "       -0.36244133, -1.21875502,  0.040238  , -1.20790527, -0.06299433,\n",
       "       -1.52098873, -0.044153  , -0.082457  ,  0.01091133,  0.24738899,\n",
       "       -1.07422868, -0.99418133,  0.51936166,  1.15054601,  0.45626831,\n",
       "       -0.37901069, -1.47645238,  0.71644801, -0.28741633,  1.70810365])"
      ]
     },
     "execution_count": 10,
     "metadata": {},
     "output_type": "execute_result"
    }
   ],
   "source": [
    "sent_vec(\"Andrzej Wajda, gałkowy lód\")"
   ]
  },
  {
   "cell_type": "code",
   "execution_count": 11,
   "metadata": {},
   "outputs": [],
   "source": [
    "import spacy\n",
    "from spacy.lang.pl.examples import sentences "
   ]
  },
  {
   "cell_type": "code",
   "execution_count": 12,
   "metadata": {},
   "outputs": [
    {
     "name": "stdout",
     "output_type": "stream",
     "text": [
      "Poczuł przyjemną woń mocnej kawy.\n",
      "Poczuł VERB ROOT\n",
      "przyjemną ADJ amod\n",
      "woń NOUN iobj\n",
      "mocnej ADJ amod\n",
      "kawy NOUN nmod:arg\n",
      ". PUNCT punct\n"
     ]
    }
   ],
   "source": [
    "nlp = spacy.load(\"pl_core_news_sm\")\n",
    "doc = nlp(sentences[0])\n",
    "print(doc.text)\n",
    "for token in doc:\n",
    "    print(token.text, token.pos_, token.dep_)"
   ]
  },
  {
   "cell_type": "code",
   "execution_count": 13,
   "metadata": {},
   "outputs": [
    {
     "name": "stdout",
     "output_type": "stream",
     "text": [
      "{'bede', 'będę', 'zaś', 'swoje', 'jakby', 'je', 'dobrze', 'jest', 'xi', 'gdyż', 'sobą', 'czyli', 'vi', 'którego', 'dwaj', 'gdyby', 'tak', 'jakkolwiek', 'roku', 'sama', 'tam', 'ich', 'jemu', 'jakichś', 'których', 'nasze', 'były', 'bym', 'żadna', 'niż', 'jeżeli', 'dokąd', 'która', 'przed', 'znów', 'jeszcze', 'kazdy', 'chce', 'sam', 'aż', 'tego', 'ktokolwiek', 'inny', 'naszych', 'ktory', 'moja', 'że', 'ktoś', 'gdyz', 'przeciez', 'ze', 'xiv', 'kilka', 'przedtem', 'między', 'bardzo', 'cie', 'poniewaz', 'nimi', 'ta', 'skad', 'inne', 'jedynie', 'naszego', 'totez', 'ja', 'moim', 'jeśli', 'natychmiast', 'ona', 'zeby', 'dla', 'coraz', 'jednakże', 'godz', 'kto', 'podczas', 'twoja', 'vii', 'jednakze', 'nasi', 'coś', 'dlatego', 'tu', 'jakie', 'więc', 'duzo', 'toteż', 'cos', 'niego', 'on', 'bez', 'one', 'dzis', 'wami', 'mimo', 'cala', 'wasze', 'dużo', 'także', 'ponad', 'rowniez', 'moi', 'które', 'więcej', 'kims', 'cokolwiek', 'wszystko', 'mozliwe', 'totobą', 'twoim', 'pani', 'czasami', 'gdzie', 'się', 'ktorych', 'niz', 'sposob', 'alez', 'zawsze', 'ponieważ', 'ależ', 'taka', 'nad', 'kiedy', 'nie', 'poza', 'dosc', 'moga', 'żaden', 'wie', 'który', 'ktorego', 'pomimo', 'na', 'którym', 'daleko', 'was', 'wszyscy', 'już', 'zaden', 'natomiast', 'był', 'obok', 'kierunku', 'razie', 'dlaczego', 'wszystkich', 'znowu', 'mozna', 'oni', 'bowiem', 'jedno', 'wielu', 'ty', 'mi', 'wszystkie', 'ani', 'jestem', 'ktorzy', 'mało', 'zadne', 'wiele', 'powinna', 'tej', 'iż', 'z', 'mną', 'niej', 'jak', 'tę', 'albo', 'niech', 'takie', 'cię', 'często', 'żadne', 'bylo', 'pod', 'soba', 'im', 'nim', 'to', 'toba', 'jedna', 'nią', 'moje', 'jakiż', 'aj', 'ci', 'być', 'dzisiaj', 'może', 'przy', 'dwoje', 'możliwe', 'dwa', 'dwie', 'mam', 'byli', 'jakoś', 'bynajmniej', 'trzeba', 'przede', 'ją', 'jakas', 'była', 'raz', 'cali', 'ktore', 'tzw', 'nigdy', 'powinni', 'lecz', 'gdy', 'xii', 'bo', 'ktorej', 'tutaj', 'zadnych', 'dziś', 'wśród', 'zadna', 'mogą', 'czemu', 'twoj', 'byc', 'go', 'my', 'by', 'mnie', 'wam', 'ok', 'czy', 'każdy', 'będą', 'mają', 'te', 'skąd', 'jakichs', 'az', 'jednym', 'którzy', 'sposób', 'gdzies', 'sobie', 'jednak', 'bardziej', 'jeden', 'tym', 'zostal', 'niemu', 'ciebie', 'wasi', 'według', 'byl', 'za', 'bedzie', 'takze', 'oraz', 'kimś', 'zapewne', 'miedzy', 'wszystkim', 'jakaś', 'ile', 'ma', 'ktora', 'twym', 'choć', 'ix', 'juz', 'aczkolwiek', 'jakiś', 'viii', 'wasz', 'a', 'nawet', 'nam', 'twoje', 'tylko', 'w', 'jakos', 'jezeli', 'o', 'wy', 'mu', 'wtedy', 'teraz', 'acz', 'mamy', 'wasza', 'kilku', 'jakiz', 'powinno', 'można', 'nasza', 'dokad', 'mna', 'nami', 'iv', 'żadnych', 'co', 'jesli', 'innych', 'cały', 'po', 'byla', 'czasem', 'ku', 'od', 'sie', 'moj', 'pan', 'są', 'xiii', 'prawie', 'taki', 'nic', 'temu', 'i', 'nasz', 'do', 'ach', 'iz', 'oto', 'tobie', 'owszem', 'jej', 'tobą', 'jakis', 'caly', 'moze', 'takich', 'ktorym', 'znow', 'również', 'ono', 'aby', 'wlasnie', 'gdziekolwiek', 'nich', 'tych', 'żeby', 'jako', 'cała', 'lub', 'twoi', 'ale', 'nas', 'u', 'było', 'przez', 'dość', 'jego', 'mój', 'byly', 'ktos', 'też', 'tys', 'gdzieś', 'właśnie', 'której', 'no', 'około', 'będzie', 'został', 'przecież', 'xv', 'musi', 'nia', 'we', 'tel', 'beda', 'inna', 'twój', 'jaki', 'miał', 'ten', 'powinien', 'pana'}\n"
     ]
    }
   ],
   "source": [
    "stop_words = nlp.Defaults.stop_words\n",
    "print(stop_words)"
   ]
  },
  {
   "cell_type": "code",
   "execution_count": 75,
   "metadata": {},
   "outputs": [
    {
     "data": {
      "text/plain": [
       "381"
      ]
     },
     "execution_count": 75,
     "metadata": {},
     "output_type": "execute_result"
    }
   ],
   "source": [
    "len(stop_words)"
   ]
  },
  {
   "cell_type": "code",
   "execution_count": null,
   "metadata": {},
   "outputs": [],
   "source": [
    "stop_words.remove('nie')"
   ]
  },
  {
   "cell_type": "code",
   "execution_count": 78,
   "metadata": {},
   "outputs": [
    {
     "data": {
      "text/plain": [
       "380"
      ]
     },
     "execution_count": 78,
     "metadata": {},
     "output_type": "execute_result"
    }
   ],
   "source": [
    "len(stop_words)"
   ]
  },
  {
   "cell_type": "code",
   "execution_count": 79,
   "metadata": {},
   "outputs": [
    {
     "name": "stdout",
     "output_type": "stream",
     "text": [
      "!\"#$%&'()*+,-./:;<=>?@[\\]^_`{|}~\n"
     ]
    }
   ],
   "source": [
    "punctuations = string.punctuation\n",
    "print(punctuations)"
   ]
  },
  {
   "cell_type": "code",
   "execution_count": 81,
   "metadata": {},
   "outputs": [],
   "source": [
    "# Creating our tokenizer function\n",
    "def spacy_tokenizer(sentence):\n",
    "    # Creating our token object, which is used to create documents with linguistic annotations.\n",
    "    doc = nlp(sentence)\n",
    "\n",
    "\n",
    "\n",
    "    # print(doc)\n",
    "    # print(type(doc))\n",
    "\n",
    "    # Lemmatizing each token and converting each token into lowercase\n",
    "    mytokens = [ word.lemma_.lower().strip() for word in doc ]\n",
    "\n",
    "    # print(mytokens)\n",
    "\n",
    "    # Removing stop words\n",
    "    mytokens = [ word for word in mytokens if word not in stop_words and word not in punctuations ]\n",
    "\n",
    "    # return preprocessed list of tokens\n",
    "    return mytokens"
   ]
  },
  {
   "cell_type": "code",
   "execution_count": 82,
   "metadata": {},
   "outputs": [
    {
     "data": {
      "text/html": [
       "<div>\n",
       "<style scoped>\n",
       "    .dataframe tbody tr th:only-of-type {\n",
       "        vertical-align: middle;\n",
       "    }\n",
       "\n",
       "    .dataframe tbody tr th {\n",
       "        vertical-align: top;\n",
       "    }\n",
       "\n",
       "    .dataframe thead th {\n",
       "        text-align: right;\n",
       "    }\n",
       "</style>\n",
       "<table border=\"1\" class=\"dataframe\">\n",
       "  <thead>\n",
       "    <tr style=\"text-align: right;\">\n",
       "      <th></th>\n",
       "      <th>is_sarcastic</th>\n",
       "      <th>headline</th>\n",
       "      <th>article_link</th>\n",
       "      <th>headline_pl</th>\n",
       "    </tr>\n",
       "  </thead>\n",
       "  <tbody>\n",
       "    <tr>\n",
       "      <th>0</th>\n",
       "      <td>1</td>\n",
       "      <td>thirtysomething scientists unveil doomsday clo...</td>\n",
       "      <td>https://www.theonion.com/thirtysomething-scien...</td>\n",
       "      <td>Naukowcy z lat trzydziestych odkrywają zegar z...</td>\n",
       "    </tr>\n",
       "    <tr>\n",
       "      <th>1</th>\n",
       "      <td>0</td>\n",
       "      <td>dem rep. totally nails why congress is falling...</td>\n",
       "      <td>https://www.huffingtonpost.com/entry/donna-edw...</td>\n",
       "      <td>Reprezentantka rządu USA wyjaśnia, dlaczego Ko...</td>\n",
       "    </tr>\n",
       "    <tr>\n",
       "      <th>2</th>\n",
       "      <td>0</td>\n",
       "      <td>eat your veggies: 9 deliciously different recipes</td>\n",
       "      <td>https://www.huffingtonpost.com/entry/eat-your-...</td>\n",
       "      <td>Jedz warzywa: 9 pysznie różnych przepisów</td>\n",
       "    </tr>\n",
       "    <tr>\n",
       "      <th>3</th>\n",
       "      <td>1</td>\n",
       "      <td>inclement weather prevents liar from getting t...</td>\n",
       "      <td>https://local.theonion.com/inclement-weather-p...</td>\n",
       "      <td>Nieprzyjemna pogoda uniemożliwia kłamcy dotarc...</td>\n",
       "    </tr>\n",
       "    <tr>\n",
       "      <th>4</th>\n",
       "      <td>1</td>\n",
       "      <td>mother comes pretty close to using word 'strea...</td>\n",
       "      <td>https://www.theonion.com/mother-comes-pretty-c...</td>\n",
       "      <td>matka jest bardzo blisko użycia słowa \"streami...</td>\n",
       "    </tr>\n",
       "    <tr>\n",
       "      <th>...</th>\n",
       "      <td>...</td>\n",
       "      <td>...</td>\n",
       "      <td>...</td>\n",
       "      <td>...</td>\n",
       "    </tr>\n",
       "    <tr>\n",
       "      <th>28614</th>\n",
       "      <td>1</td>\n",
       "      <td>jews to celebrate rosh hashasha or something</td>\n",
       "      <td>https://www.theonion.com/jews-to-celebrate-ros...</td>\n",
       "      <td>Żydzi świętują Rosh Hashasha czy coś</td>\n",
       "    </tr>\n",
       "    <tr>\n",
       "      <th>28615</th>\n",
       "      <td>1</td>\n",
       "      <td>internal affairs investigator disappointed con...</td>\n",
       "      <td>https://local.theonion.com/internal-affairs-in...</td>\n",
       "      <td>Śledczy spraw wewnętrznych rozczarowany spiski...</td>\n",
       "    </tr>\n",
       "    <tr>\n",
       "      <th>28616</th>\n",
       "      <td>0</td>\n",
       "      <td>the most beautiful acceptance speech this week...</td>\n",
       "      <td>https://www.huffingtonpost.com/entry/andrew-ah...</td>\n",
       "      <td>Najpiękniejsza przemowa akceptacyjna w tym tyg...</td>\n",
       "    </tr>\n",
       "    <tr>\n",
       "      <th>28617</th>\n",
       "      <td>1</td>\n",
       "      <td>mars probe destroyed by orbiting spielberg-gat...</td>\n",
       "      <td>https://www.theonion.com/mars-probe-destroyed-...</td>\n",
       "      <td>Mars zniszczony przez pałac kosmiczny na orbic...</td>\n",
       "    </tr>\n",
       "    <tr>\n",
       "      <th>28618</th>\n",
       "      <td>1</td>\n",
       "      <td>dad clarifies this not a food stop</td>\n",
       "      <td>https://www.theonion.com/dad-clarifies-this-no...</td>\n",
       "      <td>Tata wyjaśnia, że to nie jest przerwa na jedzenie</td>\n",
       "    </tr>\n",
       "  </tbody>\n",
       "</table>\n",
       "<p>28619 rows × 4 columns</p>\n",
       "</div>"
      ],
      "text/plain": [
       "       is_sarcastic                                           headline  \\\n",
       "0                 1  thirtysomething scientists unveil doomsday clo...   \n",
       "1                 0  dem rep. totally nails why congress is falling...   \n",
       "2                 0  eat your veggies: 9 deliciously different recipes   \n",
       "3                 1  inclement weather prevents liar from getting t...   \n",
       "4                 1  mother comes pretty close to using word 'strea...   \n",
       "...             ...                                                ...   \n",
       "28614             1       jews to celebrate rosh hashasha or something   \n",
       "28615             1  internal affairs investigator disappointed con...   \n",
       "28616             0  the most beautiful acceptance speech this week...   \n",
       "28617             1  mars probe destroyed by orbiting spielberg-gat...   \n",
       "28618             1                 dad clarifies this not a food stop   \n",
       "\n",
       "                                            article_link  \\\n",
       "0      https://www.theonion.com/thirtysomething-scien...   \n",
       "1      https://www.huffingtonpost.com/entry/donna-edw...   \n",
       "2      https://www.huffingtonpost.com/entry/eat-your-...   \n",
       "3      https://local.theonion.com/inclement-weather-p...   \n",
       "4      https://www.theonion.com/mother-comes-pretty-c...   \n",
       "...                                                  ...   \n",
       "28614  https://www.theonion.com/jews-to-celebrate-ros...   \n",
       "28615  https://local.theonion.com/internal-affairs-in...   \n",
       "28616  https://www.huffingtonpost.com/entry/andrew-ah...   \n",
       "28617  https://www.theonion.com/mars-probe-destroyed-...   \n",
       "28618  https://www.theonion.com/dad-clarifies-this-no...   \n",
       "\n",
       "                                             headline_pl  \n",
       "0      Naukowcy z lat trzydziestych odkrywają zegar z...  \n",
       "1      Reprezentantka rządu USA wyjaśnia, dlaczego Ko...  \n",
       "2              Jedz warzywa: 9 pysznie różnych przepisów  \n",
       "3      Nieprzyjemna pogoda uniemożliwia kłamcy dotarc...  \n",
       "4      matka jest bardzo blisko użycia słowa \"streami...  \n",
       "...                                                  ...  \n",
       "28614               Żydzi świętują Rosh Hashasha czy coś  \n",
       "28615  Śledczy spraw wewnętrznych rozczarowany spiski...  \n",
       "28616  Najpiękniejsza przemowa akceptacyjna w tym tyg...  \n",
       "28617  Mars zniszczony przez pałac kosmiczny na orbic...  \n",
       "28618  Tata wyjaśnia, że to nie jest przerwa na jedzenie  \n",
       "\n",
       "[28619 rows x 4 columns]"
      ]
     },
     "execution_count": 82,
     "metadata": {},
     "output_type": "execute_result"
    }
   ],
   "source": [
    "df = pd.read_json('../data/translated/sarcasm/sarcasm_headlines_dataset_pl.json')\n",
    "df"
   ]
  },
  {
   "cell_type": "code",
   "execution_count": 83,
   "metadata": {},
   "outputs": [
    {
     "data": {
      "text/html": [
       "<div>\n",
       "<style scoped>\n",
       "    .dataframe tbody tr th:only-of-type {\n",
       "        vertical-align: middle;\n",
       "    }\n",
       "\n",
       "    .dataframe tbody tr th {\n",
       "        vertical-align: top;\n",
       "    }\n",
       "\n",
       "    .dataframe thead th {\n",
       "        text-align: right;\n",
       "    }\n",
       "</style>\n",
       "<table border=\"1\" class=\"dataframe\">\n",
       "  <thead>\n",
       "    <tr style=\"text-align: right;\">\n",
       "      <th></th>\n",
       "      <th>is_sarcastic</th>\n",
       "      <th>headline_pl</th>\n",
       "    </tr>\n",
       "  </thead>\n",
       "  <tbody>\n",
       "    <tr>\n",
       "      <th>0</th>\n",
       "      <td>1</td>\n",
       "      <td>Naukowcy z lat trzydziestych odkrywają zegar z...</td>\n",
       "    </tr>\n",
       "    <tr>\n",
       "      <th>1</th>\n",
       "      <td>0</td>\n",
       "      <td>Reprezentantka rządu USA wyjaśnia, dlaczego Ko...</td>\n",
       "    </tr>\n",
       "    <tr>\n",
       "      <th>2</th>\n",
       "      <td>0</td>\n",
       "      <td>Jedz warzywa: 9 pysznie różnych przepisów</td>\n",
       "    </tr>\n",
       "    <tr>\n",
       "      <th>3</th>\n",
       "      <td>1</td>\n",
       "      <td>Nieprzyjemna pogoda uniemożliwia kłamcy dotarc...</td>\n",
       "    </tr>\n",
       "    <tr>\n",
       "      <th>4</th>\n",
       "      <td>1</td>\n",
       "      <td>matka jest bardzo blisko użycia słowa \"streami...</td>\n",
       "    </tr>\n",
       "    <tr>\n",
       "      <th>...</th>\n",
       "      <td>...</td>\n",
       "      <td>...</td>\n",
       "    </tr>\n",
       "    <tr>\n",
       "      <th>28614</th>\n",
       "      <td>1</td>\n",
       "      <td>Żydzi świętują Rosh Hashasha czy coś</td>\n",
       "    </tr>\n",
       "    <tr>\n",
       "      <th>28615</th>\n",
       "      <td>1</td>\n",
       "      <td>Śledczy spraw wewnętrznych rozczarowany spiski...</td>\n",
       "    </tr>\n",
       "    <tr>\n",
       "      <th>28616</th>\n",
       "      <td>0</td>\n",
       "      <td>Najpiękniejsza przemowa akceptacyjna w tym tyg...</td>\n",
       "    </tr>\n",
       "    <tr>\n",
       "      <th>28617</th>\n",
       "      <td>1</td>\n",
       "      <td>Mars zniszczony przez pałac kosmiczny na orbic...</td>\n",
       "    </tr>\n",
       "    <tr>\n",
       "      <th>28618</th>\n",
       "      <td>1</td>\n",
       "      <td>Tata wyjaśnia, że to nie jest przerwa na jedzenie</td>\n",
       "    </tr>\n",
       "  </tbody>\n",
       "</table>\n",
       "<p>28619 rows × 2 columns</p>\n",
       "</div>"
      ],
      "text/plain": [
       "       is_sarcastic                                        headline_pl\n",
       "0                 1  Naukowcy z lat trzydziestych odkrywają zegar z...\n",
       "1                 0  Reprezentantka rządu USA wyjaśnia, dlaczego Ko...\n",
       "2                 0          Jedz warzywa: 9 pysznie różnych przepisów\n",
       "3                 1  Nieprzyjemna pogoda uniemożliwia kłamcy dotarc...\n",
       "4                 1  matka jest bardzo blisko użycia słowa \"streami...\n",
       "...             ...                                                ...\n",
       "28614             1               Żydzi świętują Rosh Hashasha czy coś\n",
       "28615             1  Śledczy spraw wewnętrznych rozczarowany spiski...\n",
       "28616             0  Najpiękniejsza przemowa akceptacyjna w tym tyg...\n",
       "28617             1  Mars zniszczony przez pałac kosmiczny na orbic...\n",
       "28618             1  Tata wyjaśnia, że to nie jest przerwa na jedzenie\n",
       "\n",
       "[28619 rows x 2 columns]"
      ]
     },
     "execution_count": 83,
     "metadata": {},
     "output_type": "execute_result"
    }
   ],
   "source": [
    "df = df.drop(columns=['article_link', 'headline'])\n",
    "df"
   ]
  },
  {
   "cell_type": "code",
   "execution_count": 84,
   "metadata": {},
   "outputs": [
    {
     "data": {
      "text/html": [
       "<div>\n",
       "<style scoped>\n",
       "    .dataframe tbody tr th:only-of-type {\n",
       "        vertical-align: middle;\n",
       "    }\n",
       "\n",
       "    .dataframe tbody tr th {\n",
       "        vertical-align: top;\n",
       "    }\n",
       "\n",
       "    .dataframe thead th {\n",
       "        text-align: right;\n",
       "    }\n",
       "</style>\n",
       "<table border=\"1\" class=\"dataframe\">\n",
       "  <thead>\n",
       "    <tr style=\"text-align: right;\">\n",
       "      <th></th>\n",
       "      <th>is_sarcastic</th>\n",
       "      <th>headline_pl</th>\n",
       "      <th>tokens</th>\n",
       "    </tr>\n",
       "  </thead>\n",
       "  <tbody>\n",
       "    <tr>\n",
       "      <th>0</th>\n",
       "      <td>1</td>\n",
       "      <td>Naukowcy z lat trzydziestych odkrywają zegar z...</td>\n",
       "      <td>[naukowiec, rok, trzydziesty, odkrywać, zegar,...</td>\n",
       "    </tr>\n",
       "    <tr>\n",
       "      <th>1</th>\n",
       "      <td>0</td>\n",
       "      <td>Reprezentantka rządu USA wyjaśnia, dlaczego Ko...</td>\n",
       "      <td>[reprezentantek, rząd, usa, wyjaśniać, kongres...</td>\n",
       "    </tr>\n",
       "    <tr>\n",
       "      <th>2</th>\n",
       "      <td>0</td>\n",
       "      <td>Jedz warzywa: 9 pysznie różnych przepisów</td>\n",
       "      <td>[jedz, warzywać, 9, pysznie, różny, przepis]</td>\n",
       "    </tr>\n",
       "    <tr>\n",
       "      <th>3</th>\n",
       "      <td>1</td>\n",
       "      <td>Nieprzyjemna pogoda uniemożliwia kłamcy dotarc...</td>\n",
       "      <td>[nieprzyjemny, pogoda, uniemożliwiać, kłamca, ...</td>\n",
       "    </tr>\n",
       "    <tr>\n",
       "      <th>4</th>\n",
       "      <td>1</td>\n",
       "      <td>matka jest bardzo blisko użycia słowa \"streami...</td>\n",
       "      <td>[matka, blisko, użyć, słowo, streaming, popraw...</td>\n",
       "    </tr>\n",
       "    <tr>\n",
       "      <th>...</th>\n",
       "      <td>...</td>\n",
       "      <td>...</td>\n",
       "      <td>...</td>\n",
       "    </tr>\n",
       "    <tr>\n",
       "      <th>28614</th>\n",
       "      <td>1</td>\n",
       "      <td>Żydzi świętują Rosh Hashasha czy coś</td>\n",
       "      <td>[żydzi, świętować, rosh, hashasha]</td>\n",
       "    </tr>\n",
       "    <tr>\n",
       "      <th>28615</th>\n",
       "      <td>1</td>\n",
       "      <td>Śledczy spraw wewnętrznych rozczarowany spiski...</td>\n",
       "      <td>[śledczy, sprawa, wewnętrzny, rozczarować, spi...</td>\n",
       "    </tr>\n",
       "    <tr>\n",
       "      <th>28616</th>\n",
       "      <td>0</td>\n",
       "      <td>Najpiękniejsza przemowa akceptacyjna w tym tyg...</td>\n",
       "      <td>[najpiękniejsza, przemowy, akceptacyjny, tydzi...</td>\n",
       "    </tr>\n",
       "    <tr>\n",
       "      <th>28617</th>\n",
       "      <td>1</td>\n",
       "      <td>Mars zniszczony przez pałac kosmiczny na orbic...</td>\n",
       "      <td>[mars, zniszczona, pałac, kosmiczny, orbicie, ...</td>\n",
       "    </tr>\n",
       "    <tr>\n",
       "      <th>28618</th>\n",
       "      <td>1</td>\n",
       "      <td>Tata wyjaśnia, że to nie jest przerwa na jedzenie</td>\n",
       "      <td>[tata, wyjaśniać, nie, przerwa, jeść]</td>\n",
       "    </tr>\n",
       "  </tbody>\n",
       "</table>\n",
       "<p>28619 rows × 3 columns</p>\n",
       "</div>"
      ],
      "text/plain": [
       "       is_sarcastic                                        headline_pl  \\\n",
       "0                 1  Naukowcy z lat trzydziestych odkrywają zegar z...   \n",
       "1                 0  Reprezentantka rządu USA wyjaśnia, dlaczego Ko...   \n",
       "2                 0          Jedz warzywa: 9 pysznie różnych przepisów   \n",
       "3                 1  Nieprzyjemna pogoda uniemożliwia kłamcy dotarc...   \n",
       "4                 1  matka jest bardzo blisko użycia słowa \"streami...   \n",
       "...             ...                                                ...   \n",
       "28614             1               Żydzi świętują Rosh Hashasha czy coś   \n",
       "28615             1  Śledczy spraw wewnętrznych rozczarowany spiski...   \n",
       "28616             0  Najpiękniejsza przemowa akceptacyjna w tym tyg...   \n",
       "28617             1  Mars zniszczony przez pałac kosmiczny na orbic...   \n",
       "28618             1  Tata wyjaśnia, że to nie jest przerwa na jedzenie   \n",
       "\n",
       "                                                  tokens  \n",
       "0      [naukowiec, rok, trzydziesty, odkrywać, zegar,...  \n",
       "1      [reprezentantek, rząd, usa, wyjaśniać, kongres...  \n",
       "2           [jedz, warzywać, 9, pysznie, różny, przepis]  \n",
       "3      [nieprzyjemny, pogoda, uniemożliwiać, kłamca, ...  \n",
       "4      [matka, blisko, użyć, słowo, streaming, popraw...  \n",
       "...                                                  ...  \n",
       "28614                 [żydzi, świętować, rosh, hashasha]  \n",
       "28615  [śledczy, sprawa, wewnętrzny, rozczarować, spi...  \n",
       "28616  [najpiękniejsza, przemowy, akceptacyjny, tydzi...  \n",
       "28617  [mars, zniszczona, pałac, kosmiczny, orbicie, ...  \n",
       "28618              [tata, wyjaśniać, nie, przerwa, jeść]  \n",
       "\n",
       "[28619 rows x 3 columns]"
      ]
     },
     "execution_count": 84,
     "metadata": {},
     "output_type": "execute_result"
    }
   ],
   "source": [
    "df['tokens'] = df['headline_pl'].apply(spacy_tokenizer)\n",
    "df"
   ]
  },
  {
   "cell_type": "code",
   "execution_count": 86,
   "metadata": {},
   "outputs": [
    {
     "data": {
      "text/html": [
       "<div>\n",
       "<style scoped>\n",
       "    .dataframe tbody tr th:only-of-type {\n",
       "        vertical-align: middle;\n",
       "    }\n",
       "\n",
       "    .dataframe tbody tr th {\n",
       "        vertical-align: top;\n",
       "    }\n",
       "\n",
       "    .dataframe thead th {\n",
       "        text-align: right;\n",
       "    }\n",
       "</style>\n",
       "<table border=\"1\" class=\"dataframe\">\n",
       "  <thead>\n",
       "    <tr style=\"text-align: right;\">\n",
       "      <th></th>\n",
       "      <th>is_sarcastic</th>\n",
       "      <th>headline_pl</th>\n",
       "      <th>tokens</th>\n",
       "      <th>vec</th>\n",
       "    </tr>\n",
       "  </thead>\n",
       "  <tbody>\n",
       "    <tr>\n",
       "      <th>0</th>\n",
       "      <td>1</td>\n",
       "      <td>Naukowcy z lat trzydziestych odkrywają zegar z...</td>\n",
       "      <td>[naukowiec, rok, trzydziesty, odkrywać, zegar,...</td>\n",
       "      <td>[-0.7384665177928077, -0.8411665691269768, -0....</td>\n",
       "    </tr>\n",
       "    <tr>\n",
       "      <th>1</th>\n",
       "      <td>0</td>\n",
       "      <td>Reprezentantka rządu USA wyjaśnia, dlaczego Ko...</td>\n",
       "      <td>[reprezentantek, rząd, usa, wyjaśniać, kongres...</td>\n",
       "      <td>[0.4179558770524131, -1.4228616489304438, -0.4...</td>\n",
       "    </tr>\n",
       "    <tr>\n",
       "      <th>2</th>\n",
       "      <td>0</td>\n",
       "      <td>Jedz warzywa: 9 pysznie różnych przepisów</td>\n",
       "      <td>[jedz, warzywać, 9, pysznie, różny, przepis]</td>\n",
       "      <td>[-0.16232979893684388, -2.700317549705505, 0.1...</td>\n",
       "    </tr>\n",
       "    <tr>\n",
       "      <th>3</th>\n",
       "      <td>1</td>\n",
       "      <td>Nieprzyjemna pogoda uniemożliwia kłamcy dotarc...</td>\n",
       "      <td>[nieprzyjemny, pogoda, uniemożliwiać, kłamca, ...</td>\n",
       "      <td>[0.48092331488927204, -0.4984319607416789, -1....</td>\n",
       "    </tr>\n",
       "    <tr>\n",
       "      <th>4</th>\n",
       "      <td>1</td>\n",
       "      <td>matka jest bardzo blisko użycia słowa \"streami...</td>\n",
       "      <td>[matka, blisko, użyć, słowo, streaming, popraw...</td>\n",
       "      <td>[0.44403269461223055, 0.06520771980285645, -0....</td>\n",
       "    </tr>\n",
       "    <tr>\n",
       "      <th>...</th>\n",
       "      <td>...</td>\n",
       "      <td>...</td>\n",
       "      <td>...</td>\n",
       "      <td>...</td>\n",
       "    </tr>\n",
       "    <tr>\n",
       "      <th>28614</th>\n",
       "      <td>1</td>\n",
       "      <td>Żydzi świętują Rosh Hashasha czy coś</td>\n",
       "      <td>[żydzi, świętować, rosh, hashasha]</td>\n",
       "      <td>[0.6254103456934293, -0.33766500155131024, 0.5...</td>\n",
       "    </tr>\n",
       "    <tr>\n",
       "      <th>28615</th>\n",
       "      <td>1</td>\n",
       "      <td>Śledczy spraw wewnętrznych rozczarowany spiski...</td>\n",
       "      <td>[śledczy, sprawa, wewnętrzny, rozczarować, spi...</td>\n",
       "      <td>[-0.05065411494837867, 0.46039387500948376, -1...</td>\n",
       "    </tr>\n",
       "    <tr>\n",
       "      <th>28616</th>\n",
       "      <td>0</td>\n",
       "      <td>Najpiękniejsza przemowa akceptacyjna w tym tyg...</td>\n",
       "      <td>[najpiękniejsza, przemowy, akceptacyjny, tydzi...</td>\n",
       "      <td>[1.4082615077495575, -0.8714271609981855, 1.01...</td>\n",
       "    </tr>\n",
       "    <tr>\n",
       "      <th>28617</th>\n",
       "      <td>1</td>\n",
       "      <td>Mars zniszczony przez pałac kosmiczny na orbic...</td>\n",
       "      <td>[mars, zniszczona, pałac, kosmiczny, orbicie, ...</td>\n",
       "      <td>[-2.4199483752250672, -0.4894144177436829, 0.0...</td>\n",
       "    </tr>\n",
       "    <tr>\n",
       "      <th>28618</th>\n",
       "      <td>1</td>\n",
       "      <td>Tata wyjaśnia, że to nie jest przerwa na jedzenie</td>\n",
       "      <td>[tata, wyjaśniać, nie, przerwa, jeść]</td>\n",
       "      <td>[-0.0384959951043129, -1.8184577350815136, -0....</td>\n",
       "    </tr>\n",
       "  </tbody>\n",
       "</table>\n",
       "<p>28619 rows × 4 columns</p>\n",
       "</div>"
      ],
      "text/plain": [
       "       is_sarcastic                                        headline_pl  \\\n",
       "0                 1  Naukowcy z lat trzydziestych odkrywają zegar z...   \n",
       "1                 0  Reprezentantka rządu USA wyjaśnia, dlaczego Ko...   \n",
       "2                 0          Jedz warzywa: 9 pysznie różnych przepisów   \n",
       "3                 1  Nieprzyjemna pogoda uniemożliwia kłamcy dotarc...   \n",
       "4                 1  matka jest bardzo blisko użycia słowa \"streami...   \n",
       "...             ...                                                ...   \n",
       "28614             1               Żydzi świętują Rosh Hashasha czy coś   \n",
       "28615             1  Śledczy spraw wewnętrznych rozczarowany spiski...   \n",
       "28616             0  Najpiękniejsza przemowa akceptacyjna w tym tyg...   \n",
       "28617             1  Mars zniszczony przez pałac kosmiczny na orbic...   \n",
       "28618             1  Tata wyjaśnia, że to nie jest przerwa na jedzenie   \n",
       "\n",
       "                                                  tokens  \\\n",
       "0      [naukowiec, rok, trzydziesty, odkrywać, zegar,...   \n",
       "1      [reprezentantek, rząd, usa, wyjaśniać, kongres...   \n",
       "2           [jedz, warzywać, 9, pysznie, różny, przepis]   \n",
       "3      [nieprzyjemny, pogoda, uniemożliwiać, kłamca, ...   \n",
       "4      [matka, blisko, użyć, słowo, streaming, popraw...   \n",
       "...                                                  ...   \n",
       "28614                 [żydzi, świętować, rosh, hashasha]   \n",
       "28615  [śledczy, sprawa, wewnętrzny, rozczarować, spi...   \n",
       "28616  [najpiękniejsza, przemowy, akceptacyjny, tydzi...   \n",
       "28617  [mars, zniszczona, pałac, kosmiczny, orbicie, ...   \n",
       "28618              [tata, wyjaśniać, nie, przerwa, jeść]   \n",
       "\n",
       "                                                     vec  \n",
       "0      [-0.7384665177928077, -0.8411665691269768, -0....  \n",
       "1      [0.4179558770524131, -1.4228616489304438, -0.4...  \n",
       "2      [-0.16232979893684388, -2.700317549705505, 0.1...  \n",
       "3      [0.48092331488927204, -0.4984319607416789, -1....  \n",
       "4      [0.44403269461223055, 0.06520771980285645, -0....  \n",
       "...                                                  ...  \n",
       "28614  [0.6254103456934293, -0.33766500155131024, 0.5...  \n",
       "28615  [-0.05065411494837867, 0.46039387500948376, -1...  \n",
       "28616  [1.4082615077495575, -0.8714271609981855, 1.01...  \n",
       "28617  [-2.4199483752250672, -0.4894144177436829, 0.0...  \n",
       "28618  [-0.0384959951043129, -1.8184577350815136, -0....  \n",
       "\n",
       "[28619 rows x 4 columns]"
      ]
     },
     "execution_count": 86,
     "metadata": {},
     "output_type": "execute_result"
    }
   ],
   "source": [
    "df['vec'] = df['tokens'].apply(sent_vec)\n",
    "df"
   ]
  },
  {
   "cell_type": "code",
   "execution_count": 87,
   "metadata": {},
   "outputs": [],
   "source": [
    "X = np.array(df['vec'].to_list())\n",
    "y = np.array(df['is_sarcastic'].to_list())"
   ]
  },
  {
   "cell_type": "code",
   "execution_count": 88,
   "metadata": {},
   "outputs": [],
   "source": [
    "from sklearn.model_selection import train_test_split\n",
    "X_train, X_test, y_train, y_test = train_test_split(X, y, test_size=0.2, stratify=y)"
   ]
  },
  {
   "cell_type": "code",
   "execution_count": 2,
   "metadata": {},
   "outputs": [],
   "source": [
    "from sklearn.naive_bayes import GaussianNB\n",
    "classifier = GaussianNB()"
   ]
  },
  {
   "cell_type": "code",
   "execution_count": 100,
   "metadata": {},
   "outputs": [
    {
     "data": {
      "text/html": [
       "<style>#sk-container-id-3 {color: black;background-color: white;}#sk-container-id-3 pre{padding: 0;}#sk-container-id-3 div.sk-toggleable {background-color: white;}#sk-container-id-3 label.sk-toggleable__label {cursor: pointer;display: block;width: 100%;margin-bottom: 0;padding: 0.3em;box-sizing: border-box;text-align: center;}#sk-container-id-3 label.sk-toggleable__label-arrow:before {content: \"▸\";float: left;margin-right: 0.25em;color: #696969;}#sk-container-id-3 label.sk-toggleable__label-arrow:hover:before {color: black;}#sk-container-id-3 div.sk-estimator:hover label.sk-toggleable__label-arrow:before {color: black;}#sk-container-id-3 div.sk-toggleable__content {max-height: 0;max-width: 0;overflow: hidden;text-align: left;background-color: #f0f8ff;}#sk-container-id-3 div.sk-toggleable__content pre {margin: 0.2em;color: black;border-radius: 0.25em;background-color: #f0f8ff;}#sk-container-id-3 input.sk-toggleable__control:checked~div.sk-toggleable__content {max-height: 200px;max-width: 100%;overflow: auto;}#sk-container-id-3 input.sk-toggleable__control:checked~label.sk-toggleable__label-arrow:before {content: \"▾\";}#sk-container-id-3 div.sk-estimator input.sk-toggleable__control:checked~label.sk-toggleable__label {background-color: #d4ebff;}#sk-container-id-3 div.sk-label input.sk-toggleable__control:checked~label.sk-toggleable__label {background-color: #d4ebff;}#sk-container-id-3 input.sk-hidden--visually {border: 0;clip: rect(1px 1px 1px 1px);clip: rect(1px, 1px, 1px, 1px);height: 1px;margin: -1px;overflow: hidden;padding: 0;position: absolute;width: 1px;}#sk-container-id-3 div.sk-estimator {font-family: monospace;background-color: #f0f8ff;border: 1px dotted black;border-radius: 0.25em;box-sizing: border-box;margin-bottom: 0.5em;}#sk-container-id-3 div.sk-estimator:hover {background-color: #d4ebff;}#sk-container-id-3 div.sk-parallel-item::after {content: \"\";width: 100%;border-bottom: 1px solid gray;flex-grow: 1;}#sk-container-id-3 div.sk-label:hover label.sk-toggleable__label {background-color: #d4ebff;}#sk-container-id-3 div.sk-serial::before {content: \"\";position: absolute;border-left: 1px solid gray;box-sizing: border-box;top: 0;bottom: 0;left: 50%;z-index: 0;}#sk-container-id-3 div.sk-serial {display: flex;flex-direction: column;align-items: center;background-color: white;padding-right: 0.2em;padding-left: 0.2em;position: relative;}#sk-container-id-3 div.sk-item {position: relative;z-index: 1;}#sk-container-id-3 div.sk-parallel {display: flex;align-items: stretch;justify-content: center;background-color: white;position: relative;}#sk-container-id-3 div.sk-item::before, #sk-container-id-3 div.sk-parallel-item::before {content: \"\";position: absolute;border-left: 1px solid gray;box-sizing: border-box;top: 0;bottom: 0;left: 50%;z-index: -1;}#sk-container-id-3 div.sk-parallel-item {display: flex;flex-direction: column;z-index: 1;position: relative;background-color: white;}#sk-container-id-3 div.sk-parallel-item:first-child::after {align-self: flex-end;width: 50%;}#sk-container-id-3 div.sk-parallel-item:last-child::after {align-self: flex-start;width: 50%;}#sk-container-id-3 div.sk-parallel-item:only-child::after {width: 0;}#sk-container-id-3 div.sk-dashed-wrapped {border: 1px dashed gray;margin: 0 0.4em 0.5em 0.4em;box-sizing: border-box;padding-bottom: 0.4em;background-color: white;}#sk-container-id-3 div.sk-label label {font-family: monospace;font-weight: bold;display: inline-block;line-height: 1.2em;}#sk-container-id-3 div.sk-label-container {text-align: center;}#sk-container-id-3 div.sk-container {/* jupyter's `normalize.less` sets `[hidden] { display: none; }` but bootstrap.min.css set `[hidden] { display: none !important; }` so we also need the `!important` here to be able to override the default hidden behavior on the sphinx rendered scikit-learn.org. See: https://github.com/scikit-learn/scikit-learn/issues/21755 */display: inline-block !important;position: relative;}#sk-container-id-3 div.sk-text-repr-fallback {display: none;}</style><div id=\"sk-container-id-3\" class=\"sk-top-container\"><div class=\"sk-text-repr-fallback\"><pre>GaussianNB()</pre><b>In a Jupyter environment, please rerun this cell to show the HTML representation or trust the notebook. <br />On GitHub, the HTML representation is unable to render, please try loading this page with nbviewer.org.</b></div><div class=\"sk-container\" hidden><div class=\"sk-item\"><div class=\"sk-estimator sk-toggleable\"><input class=\"sk-toggleable__control sk-hidden--visually\" id=\"sk-estimator-id-3\" type=\"checkbox\" checked><label for=\"sk-estimator-id-3\" class=\"sk-toggleable__label sk-toggleable__label-arrow\">GaussianNB</label><div class=\"sk-toggleable__content\"><pre>GaussianNB()</pre></div></div></div></div></div>"
      ],
      "text/plain": [
       "GaussianNB()"
      ]
     },
     "execution_count": 100,
     "metadata": {},
     "output_type": "execute_result"
    }
   ],
   "source": [
    "classifier.fit(X_train,y_train)"
   ]
  },
  {
   "cell_type": "code",
   "execution_count": 91,
   "metadata": {},
   "outputs": [
    {
     "name": "stdout",
     "output_type": "stream",
     "text": [
      "Logistic Regression Accuracy: 0.6502445842068484\n",
      "Logistic Regression Precision: 0.6300681736634374\n",
      "Logistic Regression Recall: 0.643931059772644\n"
     ]
    }
   ],
   "source": [
    "from sklearn import metrics\n",
    "predicted = classifier.predict(X_test)\n",
    "print(\"Logistic Regression Accuracy:\",metrics.accuracy_score(y_test, predicted))\n",
    "print(\"Logistic Regression Precision:\",metrics.precision_score(y_test, predicted))\n",
    "print(\"Logistic Regression Recall:\",metrics.recall_score(y_test, predicted))"
   ]
  },
  {
   "cell_type": "code",
   "execution_count": 92,
   "metadata": {},
   "outputs": [],
   "source": [
    "from keras.models import Sequential\n",
    "from keras.layers import Dense, Dropout, Flatten, LSTM\n",
    "\n",
    "model=Sequential()\n",
    "model.add(Flatten())\n",
    "model.add(Dense(512, activation='relu'))\n",
    "model.add(Dense(256, activation='relu'))\n",
    "model.add(Dense(128, activation='relu'))\n",
    "model.add(Dense(64, activation='relu'))\n",
    "model.add(Dense(32, activation='relu'))\n",
    "# model.add(Dropout(0.50))\n",
    "model.add(Dense(16, activation='relu'))\n",
    "\n",
    "model.add(Dense(8, activation='relu'))\n",
    "# model.add(Dropout(0.20))\n",
    "model.add(Dense(2, activation='sigmoid'))  # sigmod for bin. classification."
   ]
  },
  {
   "cell_type": "code",
   "execution_count": 93,
   "metadata": {},
   "outputs": [],
   "source": [
    "model.compile(optimizer=\"adam\", loss=tf.keras.losses.SparseCategoricalCrossentropy(), metrics=[\"accuracy\"])"
   ]
  },
  {
   "cell_type": "code",
   "execution_count": 94,
   "metadata": {},
   "outputs": [
    {
     "data": {
      "text/plain": [
       "numpy.ndarray"
      ]
     },
     "execution_count": 94,
     "metadata": {},
     "output_type": "execute_result"
    }
   ],
   "source": [
    "type(X_test)"
   ]
  },
  {
   "cell_type": "code",
   "execution_count": 95,
   "metadata": {},
   "outputs": [
    {
     "name": "stdout",
     "output_type": "stream",
     "text": [
      "Epoch 1/10\n",
      "2862/2862 [==============================] - 8s 3ms/step - loss: 0.6126 - accuracy: 0.6680 - val_loss: 0.5897 - val_accuracy: 0.6929\n",
      "Epoch 2/10\n",
      "2862/2862 [==============================] - 7s 2ms/step - loss: 0.5697 - accuracy: 0.7048 - val_loss: 0.5729 - val_accuracy: 0.6976\n",
      "Epoch 3/10\n",
      "2862/2862 [==============================] - 7s 2ms/step - loss: 0.5404 - accuracy: 0.7259 - val_loss: 0.5735 - val_accuracy: 0.7107\n",
      "Epoch 4/10\n",
      "2862/2862 [==============================] - 7s 2ms/step - loss: 0.5075 - accuracy: 0.7505 - val_loss: 0.5781 - val_accuracy: 0.7128\n",
      "Epoch 5/10\n",
      "2862/2862 [==============================] - 7s 2ms/step - loss: 0.4692 - accuracy: 0.7695 - val_loss: 0.6002 - val_accuracy: 0.7049\n",
      "Epoch 6/10\n",
      "2862/2862 [==============================] - 7s 2ms/step - loss: 0.4278 - accuracy: 0.7943 - val_loss: 0.6460 - val_accuracy: 0.6890\n",
      "Epoch 7/10\n",
      "2862/2862 [==============================] - 8s 3ms/step - loss: 0.3808 - accuracy: 0.8224 - val_loss: 0.7094 - val_accuracy: 0.6946\n",
      "Epoch 8/10\n",
      "2862/2862 [==============================] - 7s 2ms/step - loss: 0.3333 - accuracy: 0.8481 - val_loss: 0.8257 - val_accuracy: 0.6859\n",
      "Epoch 9/10\n",
      "2862/2862 [==============================] - 7s 2ms/step - loss: 0.2808 - accuracy: 0.8780 - val_loss: 0.8239 - val_accuracy: 0.6770\n",
      "Epoch 10/10\n",
      "2862/2862 [==============================] - 7s 2ms/step - loss: 0.2391 - accuracy: 0.9011 - val_loss: 0.8818 - val_accuracy: 0.6852\n"
     ]
    },
    {
     "data": {
      "text/plain": [
       "<keras.callbacks.History at 0x1d887dba440>"
      ]
     },
     "execution_count": 95,
     "metadata": {},
     "output_type": "execute_result"
    }
   ],
   "source": [
    "model.fit(x=X_train, y=y_train, validation_data=(X_test, y_test), epochs=10, batch_size=8)"
   ]
  },
  {
   "cell_type": "code",
   "execution_count": null,
   "metadata": {},
   "outputs": [],
   "source": []
  }
 ],
 "metadata": {
  "kernelspec": {
   "display_name": "nlp",
   "language": "python",
   "name": "python3"
  },
  "language_info": {
   "codemirror_mode": {
    "name": "ipython",
    "version": 3
   },
   "file_extension": ".py",
   "mimetype": "text/x-python",
   "name": "python",
   "nbconvert_exporter": "python",
   "pygments_lexer": "ipython3",
   "version": "3.10.11"
  },
  "orig_nbformat": 4
 },
 "nbformat": 4,
 "nbformat_minor": 2
}
