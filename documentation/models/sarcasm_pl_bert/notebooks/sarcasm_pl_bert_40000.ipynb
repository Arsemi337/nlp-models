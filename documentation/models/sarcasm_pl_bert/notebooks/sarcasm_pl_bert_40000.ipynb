{
  "cells": [
    {
      "cell_type": "code",
      "execution_count": 3,
      "outputs": [],
      "source": [
        "import os\n",
        "\n",
        "import pandas as pd\n",
        "import tensorflow as tf\n",
        "import matplotlib.pyplot as plt\n",
        "import numpy as np"
      ],
      "metadata": {
        "ExecuteTime": {
          "end_time": "2023-05-30T17:58:50.297894300Z",
          "start_time": "2023-05-30T17:58:47.834357100Z"
        },
        "id": "GItKokk78mFR"
      }
    },
    {
      "cell_type": "code",
      "execution_count": 4,
      "outputs": [
        {
          "output_type": "execute_result",
          "data": {
            "text/plain": [
              "       is_sarcastic                                           headline  \\\n",
              "0                 1  thirtysomething scientists unveil doomsday clo...   \n",
              "1                 0  dem rep. totally nails why congress is falling...   \n",
              "2                 0  eat your veggies: 9 deliciously different recipes   \n",
              "3                 1  inclement weather prevents liar from getting t...   \n",
              "4                 1  mother comes pretty close to using word 'strea...   \n",
              "...             ...                                                ...   \n",
              "28614             1       jews to celebrate rosh hashasha or something   \n",
              "28615             1  internal affairs investigator disappointed con...   \n",
              "28616             0  the most beautiful acceptance speech this week...   \n",
              "28617             1  mars probe destroyed by orbiting spielberg-gat...   \n",
              "28618             1                 dad clarifies this not a food stop   \n",
              "\n",
              "                                            article_link  \\\n",
              "0      https://www.theonion.com/thirtysomething-scien...   \n",
              "1      https://www.huffingtonpost.com/entry/donna-edw...   \n",
              "2      https://www.huffingtonpost.com/entry/eat-your-...   \n",
              "3      https://local.theonion.com/inclement-weather-p...   \n",
              "4      https://www.theonion.com/mother-comes-pretty-c...   \n",
              "...                                                  ...   \n",
              "28614  https://www.theonion.com/jews-to-celebrate-ros...   \n",
              "28615  https://local.theonion.com/internal-affairs-in...   \n",
              "28616  https://www.huffingtonpost.com/entry/andrew-ah...   \n",
              "28617  https://www.theonion.com/mars-probe-destroyed-...   \n",
              "28618  https://www.theonion.com/dad-clarifies-this-no...   \n",
              "\n",
              "                                             headline_pl  \n",
              "0      Naukowcy z lat trzydziestych odkrywają zegar z...  \n",
              "1      Reprezentantka rządu USA wyjaśnia, dlaczego Ko...  \n",
              "2              Jedz warzywa: 9 pysznie różnych przepisów  \n",
              "3      Nieprzyjemna pogoda uniemożliwia kłamcy dotarc...  \n",
              "4      matka jest bardzo blisko użycia słowa \"streami...  \n",
              "...                                                  ...  \n",
              "28614               Żydzi świętują Rosh Hashasha czy coś  \n",
              "28615  Śledczy spraw wewnętrznych rozczarowany spiski...  \n",
              "28616  Najpiękniejsza przemowa akceptacyjna w tym tyg...  \n",
              "28617  Mars zniszczony przez pałac kosmiczny na orbic...  \n",
              "28618  Tata wyjaśnia, że to nie jest przerwa na jedzenie  \n",
              "\n",
              "[28619 rows x 4 columns]"
            ],
            "text/html": [
              "\n",
              "  <div id=\"df-4c8ae8e5-ec3c-4e75-aad3-5f22ca085aec\">\n",
              "    <div class=\"colab-df-container\">\n",
              "      <div>\n",
              "<style scoped>\n",
              "    .dataframe tbody tr th:only-of-type {\n",
              "        vertical-align: middle;\n",
              "    }\n",
              "\n",
              "    .dataframe tbody tr th {\n",
              "        vertical-align: top;\n",
              "    }\n",
              "\n",
              "    .dataframe thead th {\n",
              "        text-align: right;\n",
              "    }\n",
              "</style>\n",
              "<table border=\"1\" class=\"dataframe\">\n",
              "  <thead>\n",
              "    <tr style=\"text-align: right;\">\n",
              "      <th></th>\n",
              "      <th>is_sarcastic</th>\n",
              "      <th>headline</th>\n",
              "      <th>article_link</th>\n",
              "      <th>headline_pl</th>\n",
              "    </tr>\n",
              "  </thead>\n",
              "  <tbody>\n",
              "    <tr>\n",
              "      <th>0</th>\n",
              "      <td>1</td>\n",
              "      <td>thirtysomething scientists unveil doomsday clo...</td>\n",
              "      <td>https://www.theonion.com/thirtysomething-scien...</td>\n",
              "      <td>Naukowcy z lat trzydziestych odkrywają zegar z...</td>\n",
              "    </tr>\n",
              "    <tr>\n",
              "      <th>1</th>\n",
              "      <td>0</td>\n",
              "      <td>dem rep. totally nails why congress is falling...</td>\n",
              "      <td>https://www.huffingtonpost.com/entry/donna-edw...</td>\n",
              "      <td>Reprezentantka rządu USA wyjaśnia, dlaczego Ko...</td>\n",
              "    </tr>\n",
              "    <tr>\n",
              "      <th>2</th>\n",
              "      <td>0</td>\n",
              "      <td>eat your veggies: 9 deliciously different recipes</td>\n",
              "      <td>https://www.huffingtonpost.com/entry/eat-your-...</td>\n",
              "      <td>Jedz warzywa: 9 pysznie różnych przepisów</td>\n",
              "    </tr>\n",
              "    <tr>\n",
              "      <th>3</th>\n",
              "      <td>1</td>\n",
              "      <td>inclement weather prevents liar from getting t...</td>\n",
              "      <td>https://local.theonion.com/inclement-weather-p...</td>\n",
              "      <td>Nieprzyjemna pogoda uniemożliwia kłamcy dotarc...</td>\n",
              "    </tr>\n",
              "    <tr>\n",
              "      <th>4</th>\n",
              "      <td>1</td>\n",
              "      <td>mother comes pretty close to using word 'strea...</td>\n",
              "      <td>https://www.theonion.com/mother-comes-pretty-c...</td>\n",
              "      <td>matka jest bardzo blisko użycia słowa \"streami...</td>\n",
              "    </tr>\n",
              "    <tr>\n",
              "      <th>...</th>\n",
              "      <td>...</td>\n",
              "      <td>...</td>\n",
              "      <td>...</td>\n",
              "      <td>...</td>\n",
              "    </tr>\n",
              "    <tr>\n",
              "      <th>28614</th>\n",
              "      <td>1</td>\n",
              "      <td>jews to celebrate rosh hashasha or something</td>\n",
              "      <td>https://www.theonion.com/jews-to-celebrate-ros...</td>\n",
              "      <td>Żydzi świętują Rosh Hashasha czy coś</td>\n",
              "    </tr>\n",
              "    <tr>\n",
              "      <th>28615</th>\n",
              "      <td>1</td>\n",
              "      <td>internal affairs investigator disappointed con...</td>\n",
              "      <td>https://local.theonion.com/internal-affairs-in...</td>\n",
              "      <td>Śledczy spraw wewnętrznych rozczarowany spiski...</td>\n",
              "    </tr>\n",
              "    <tr>\n",
              "      <th>28616</th>\n",
              "      <td>0</td>\n",
              "      <td>the most beautiful acceptance speech this week...</td>\n",
              "      <td>https://www.huffingtonpost.com/entry/andrew-ah...</td>\n",
              "      <td>Najpiękniejsza przemowa akceptacyjna w tym tyg...</td>\n",
              "    </tr>\n",
              "    <tr>\n",
              "      <th>28617</th>\n",
              "      <td>1</td>\n",
              "      <td>mars probe destroyed by orbiting spielberg-gat...</td>\n",
              "      <td>https://www.theonion.com/mars-probe-destroyed-...</td>\n",
              "      <td>Mars zniszczony przez pałac kosmiczny na orbic...</td>\n",
              "    </tr>\n",
              "    <tr>\n",
              "      <th>28618</th>\n",
              "      <td>1</td>\n",
              "      <td>dad clarifies this not a food stop</td>\n",
              "      <td>https://www.theonion.com/dad-clarifies-this-no...</td>\n",
              "      <td>Tata wyjaśnia, że to nie jest przerwa na jedzenie</td>\n",
              "    </tr>\n",
              "  </tbody>\n",
              "</table>\n",
              "<p>28619 rows × 4 columns</p>\n",
              "</div>\n",
              "      <button class=\"colab-df-convert\" onclick=\"convertToInteractive('df-4c8ae8e5-ec3c-4e75-aad3-5f22ca085aec')\"\n",
              "              title=\"Convert this dataframe to an interactive table.\"\n",
              "              style=\"display:none;\">\n",
              "        \n",
              "  <svg xmlns=\"http://www.w3.org/2000/svg\" height=\"24px\"viewBox=\"0 0 24 24\"\n",
              "       width=\"24px\">\n",
              "    <path d=\"M0 0h24v24H0V0z\" fill=\"none\"/>\n",
              "    <path d=\"M18.56 5.44l.94 2.06.94-2.06 2.06-.94-2.06-.94-.94-2.06-.94 2.06-2.06.94zm-11 1L8.5 8.5l.94-2.06 2.06-.94-2.06-.94L8.5 2.5l-.94 2.06-2.06.94zm10 10l.94 2.06.94-2.06 2.06-.94-2.06-.94-.94-2.06-.94 2.06-2.06.94z\"/><path d=\"M17.41 7.96l-1.37-1.37c-.4-.4-.92-.59-1.43-.59-.52 0-1.04.2-1.43.59L10.3 9.45l-7.72 7.72c-.78.78-.78 2.05 0 2.83L4 21.41c.39.39.9.59 1.41.59.51 0 1.02-.2 1.41-.59l7.78-7.78 2.81-2.81c.8-.78.8-2.07 0-2.86zM5.41 20L4 18.59l7.72-7.72 1.47 1.35L5.41 20z\"/>\n",
              "  </svg>\n",
              "      </button>\n",
              "      \n",
              "  <style>\n",
              "    .colab-df-container {\n",
              "      display:flex;\n",
              "      flex-wrap:wrap;\n",
              "      gap: 12px;\n",
              "    }\n",
              "\n",
              "    .colab-df-convert {\n",
              "      background-color: #E8F0FE;\n",
              "      border: none;\n",
              "      border-radius: 50%;\n",
              "      cursor: pointer;\n",
              "      display: none;\n",
              "      fill: #1967D2;\n",
              "      height: 32px;\n",
              "      padding: 0 0 0 0;\n",
              "      width: 32px;\n",
              "    }\n",
              "\n",
              "    .colab-df-convert:hover {\n",
              "      background-color: #E2EBFA;\n",
              "      box-shadow: 0px 1px 2px rgba(60, 64, 67, 0.3), 0px 1px 3px 1px rgba(60, 64, 67, 0.15);\n",
              "      fill: #174EA6;\n",
              "    }\n",
              "\n",
              "    [theme=dark] .colab-df-convert {\n",
              "      background-color: #3B4455;\n",
              "      fill: #D2E3FC;\n",
              "    }\n",
              "\n",
              "    [theme=dark] .colab-df-convert:hover {\n",
              "      background-color: #434B5C;\n",
              "      box-shadow: 0px 1px 3px 1px rgba(0, 0, 0, 0.15);\n",
              "      filter: drop-shadow(0px 1px 2px rgba(0, 0, 0, 0.3));\n",
              "      fill: #FFFFFF;\n",
              "    }\n",
              "  </style>\n",
              "\n",
              "      <script>\n",
              "        const buttonEl =\n",
              "          document.querySelector('#df-4c8ae8e5-ec3c-4e75-aad3-5f22ca085aec button.colab-df-convert');\n",
              "        buttonEl.style.display =\n",
              "          google.colab.kernel.accessAllowed ? 'block' : 'none';\n",
              "\n",
              "        async function convertToInteractive(key) {\n",
              "          const element = document.querySelector('#df-4c8ae8e5-ec3c-4e75-aad3-5f22ca085aec');\n",
              "          const dataTable =\n",
              "            await google.colab.kernel.invokeFunction('convertToInteractive',\n",
              "                                                     [key], {});\n",
              "          if (!dataTable) return;\n",
              "\n",
              "          const docLinkHtml = 'Like what you see? Visit the ' +\n",
              "            '<a target=\"_blank\" href=https://colab.research.google.com/notebooks/data_table.ipynb>data table notebook</a>'\n",
              "            + ' to learn more about interactive tables.';\n",
              "          element.innerHTML = '';\n",
              "          dataTable['output_type'] = 'display_data';\n",
              "          await google.colab.output.renderOutput(dataTable, element);\n",
              "          const docLink = document.createElement('div');\n",
              "          docLink.innerHTML = docLinkHtml;\n",
              "          element.appendChild(docLink);\n",
              "        }\n",
              "      </script>\n",
              "    </div>\n",
              "  </div>\n",
              "  "
            ]
          },
          "metadata": {},
          "execution_count": 4
        }
      ],
      "source": [
        "df = pd.read_json('data/translated/sarcasm/sarcasm_headlines_dataset_pl.json')\n",
        "df"
      ],
      "metadata": {
        "ExecuteTime": {
          "end_time": "2023-05-30T17:58:50.371636900Z",
          "start_time": "2023-05-30T17:58:50.293378100Z"
        },
        "colab": {
          "base_uri": "https://localhost:8080/",
          "height": 424
        },
        "id": "rXr5Hw_U8mFT",
        "outputId": "e6e2ff49-7a53-4190-9d71-e44f5723fd58"
      }
    },
    {
      "cell_type": "code",
      "execution_count": 5,
      "outputs": [
        {
          "output_type": "execute_result",
          "data": {
            "text/plain": [
              "       is_sarcastic                                        headline_pl\n",
              "0                 1  Naukowcy z lat trzydziestych odkrywają zegar z...\n",
              "1                 0  Reprezentantka rządu USA wyjaśnia, dlaczego Ko...\n",
              "2                 0          Jedz warzywa: 9 pysznie różnych przepisów\n",
              "3                 1  Nieprzyjemna pogoda uniemożliwia kłamcy dotarc...\n",
              "4                 1  matka jest bardzo blisko użycia słowa \"streami...\n",
              "...             ...                                                ...\n",
              "28614             1               Żydzi świętują Rosh Hashasha czy coś\n",
              "28615             1  Śledczy spraw wewnętrznych rozczarowany spiski...\n",
              "28616             0  Najpiękniejsza przemowa akceptacyjna w tym tyg...\n",
              "28617             1  Mars zniszczony przez pałac kosmiczny na orbic...\n",
              "28618             1  Tata wyjaśnia, że to nie jest przerwa na jedzenie\n",
              "\n",
              "[28619 rows x 2 columns]"
            ],
            "text/html": [
              "\n",
              "  <div id=\"df-50540c2b-696a-483a-9034-9c8a83294281\">\n",
              "    <div class=\"colab-df-container\">\n",
              "      <div>\n",
              "<style scoped>\n",
              "    .dataframe tbody tr th:only-of-type {\n",
              "        vertical-align: middle;\n",
              "    }\n",
              "\n",
              "    .dataframe tbody tr th {\n",
              "        vertical-align: top;\n",
              "    }\n",
              "\n",
              "    .dataframe thead th {\n",
              "        text-align: right;\n",
              "    }\n",
              "</style>\n",
              "<table border=\"1\" class=\"dataframe\">\n",
              "  <thead>\n",
              "    <tr style=\"text-align: right;\">\n",
              "      <th></th>\n",
              "      <th>is_sarcastic</th>\n",
              "      <th>headline_pl</th>\n",
              "    </tr>\n",
              "  </thead>\n",
              "  <tbody>\n",
              "    <tr>\n",
              "      <th>0</th>\n",
              "      <td>1</td>\n",
              "      <td>Naukowcy z lat trzydziestych odkrywają zegar z...</td>\n",
              "    </tr>\n",
              "    <tr>\n",
              "      <th>1</th>\n",
              "      <td>0</td>\n",
              "      <td>Reprezentantka rządu USA wyjaśnia, dlaczego Ko...</td>\n",
              "    </tr>\n",
              "    <tr>\n",
              "      <th>2</th>\n",
              "      <td>0</td>\n",
              "      <td>Jedz warzywa: 9 pysznie różnych przepisów</td>\n",
              "    </tr>\n",
              "    <tr>\n",
              "      <th>3</th>\n",
              "      <td>1</td>\n",
              "      <td>Nieprzyjemna pogoda uniemożliwia kłamcy dotarc...</td>\n",
              "    </tr>\n",
              "    <tr>\n",
              "      <th>4</th>\n",
              "      <td>1</td>\n",
              "      <td>matka jest bardzo blisko użycia słowa \"streami...</td>\n",
              "    </tr>\n",
              "    <tr>\n",
              "      <th>...</th>\n",
              "      <td>...</td>\n",
              "      <td>...</td>\n",
              "    </tr>\n",
              "    <tr>\n",
              "      <th>28614</th>\n",
              "      <td>1</td>\n",
              "      <td>Żydzi świętują Rosh Hashasha czy coś</td>\n",
              "    </tr>\n",
              "    <tr>\n",
              "      <th>28615</th>\n",
              "      <td>1</td>\n",
              "      <td>Śledczy spraw wewnętrznych rozczarowany spiski...</td>\n",
              "    </tr>\n",
              "    <tr>\n",
              "      <th>28616</th>\n",
              "      <td>0</td>\n",
              "      <td>Najpiękniejsza przemowa akceptacyjna w tym tyg...</td>\n",
              "    </tr>\n",
              "    <tr>\n",
              "      <th>28617</th>\n",
              "      <td>1</td>\n",
              "      <td>Mars zniszczony przez pałac kosmiczny na orbic...</td>\n",
              "    </tr>\n",
              "    <tr>\n",
              "      <th>28618</th>\n",
              "      <td>1</td>\n",
              "      <td>Tata wyjaśnia, że to nie jest przerwa na jedzenie</td>\n",
              "    </tr>\n",
              "  </tbody>\n",
              "</table>\n",
              "<p>28619 rows × 2 columns</p>\n",
              "</div>\n",
              "      <button class=\"colab-df-convert\" onclick=\"convertToInteractive('df-50540c2b-696a-483a-9034-9c8a83294281')\"\n",
              "              title=\"Convert this dataframe to an interactive table.\"\n",
              "              style=\"display:none;\">\n",
              "        \n",
              "  <svg xmlns=\"http://www.w3.org/2000/svg\" height=\"24px\"viewBox=\"0 0 24 24\"\n",
              "       width=\"24px\">\n",
              "    <path d=\"M0 0h24v24H0V0z\" fill=\"none\"/>\n",
              "    <path d=\"M18.56 5.44l.94 2.06.94-2.06 2.06-.94-2.06-.94-.94-2.06-.94 2.06-2.06.94zm-11 1L8.5 8.5l.94-2.06 2.06-.94-2.06-.94L8.5 2.5l-.94 2.06-2.06.94zm10 10l.94 2.06.94-2.06 2.06-.94-2.06-.94-.94-2.06-.94 2.06-2.06.94z\"/><path d=\"M17.41 7.96l-1.37-1.37c-.4-.4-.92-.59-1.43-.59-.52 0-1.04.2-1.43.59L10.3 9.45l-7.72 7.72c-.78.78-.78 2.05 0 2.83L4 21.41c.39.39.9.59 1.41.59.51 0 1.02-.2 1.41-.59l7.78-7.78 2.81-2.81c.8-.78.8-2.07 0-2.86zM5.41 20L4 18.59l7.72-7.72 1.47 1.35L5.41 20z\"/>\n",
              "  </svg>\n",
              "      </button>\n",
              "      \n",
              "  <style>\n",
              "    .colab-df-container {\n",
              "      display:flex;\n",
              "      flex-wrap:wrap;\n",
              "      gap: 12px;\n",
              "    }\n",
              "\n",
              "    .colab-df-convert {\n",
              "      background-color: #E8F0FE;\n",
              "      border: none;\n",
              "      border-radius: 50%;\n",
              "      cursor: pointer;\n",
              "      display: none;\n",
              "      fill: #1967D2;\n",
              "      height: 32px;\n",
              "      padding: 0 0 0 0;\n",
              "      width: 32px;\n",
              "    }\n",
              "\n",
              "    .colab-df-convert:hover {\n",
              "      background-color: #E2EBFA;\n",
              "      box-shadow: 0px 1px 2px rgba(60, 64, 67, 0.3), 0px 1px 3px 1px rgba(60, 64, 67, 0.15);\n",
              "      fill: #174EA6;\n",
              "    }\n",
              "\n",
              "    [theme=dark] .colab-df-convert {\n",
              "      background-color: #3B4455;\n",
              "      fill: #D2E3FC;\n",
              "    }\n",
              "\n",
              "    [theme=dark] .colab-df-convert:hover {\n",
              "      background-color: #434B5C;\n",
              "      box-shadow: 0px 1px 3px 1px rgba(0, 0, 0, 0.15);\n",
              "      filter: drop-shadow(0px 1px 2px rgba(0, 0, 0, 0.3));\n",
              "      fill: #FFFFFF;\n",
              "    }\n",
              "  </style>\n",
              "\n",
              "      <script>\n",
              "        const buttonEl =\n",
              "          document.querySelector('#df-50540c2b-696a-483a-9034-9c8a83294281 button.colab-df-convert');\n",
              "        buttonEl.style.display =\n",
              "          google.colab.kernel.accessAllowed ? 'block' : 'none';\n",
              "\n",
              "        async function convertToInteractive(key) {\n",
              "          const element = document.querySelector('#df-50540c2b-696a-483a-9034-9c8a83294281');\n",
              "          const dataTable =\n",
              "            await google.colab.kernel.invokeFunction('convertToInteractive',\n",
              "                                                     [key], {});\n",
              "          if (!dataTable) return;\n",
              "\n",
              "          const docLinkHtml = 'Like what you see? Visit the ' +\n",
              "            '<a target=\"_blank\" href=https://colab.research.google.com/notebooks/data_table.ipynb>data table notebook</a>'\n",
              "            + ' to learn more about interactive tables.';\n",
              "          element.innerHTML = '';\n",
              "          dataTable['output_type'] = 'display_data';\n",
              "          await google.colab.output.renderOutput(dataTable, element);\n",
              "          const docLink = document.createElement('div');\n",
              "          docLink.innerHTML = docLinkHtml;\n",
              "          element.appendChild(docLink);\n",
              "        }\n",
              "      </script>\n",
              "    </div>\n",
              "  </div>\n",
              "  "
            ]
          },
          "metadata": {},
          "execution_count": 5
        }
      ],
      "source": [
        "df = df.drop(columns=['article_link', 'headline'])\n",
        "df"
      ],
      "metadata": {
        "ExecuteTime": {
          "end_time": "2023-05-30T17:58:50.385278800Z",
          "start_time": "2023-05-30T17:58:50.370632400Z"
        },
        "colab": {
          "base_uri": "https://localhost:8080/",
          "height": 424
        },
        "id": "9xlZYbUP8mFT",
        "outputId": "1c8f1793-2240-413d-d0a1-53ee73d0df3d"
      }
    },
    {
      "cell_type": "code",
      "execution_count": 6,
      "outputs": [
        {
          "output_type": "display_data",
          "data": {
            "text/plain": [
              "<Figure size 640x480 with 1 Axes>"
            ],
            "image/png": "[encoded data removed]"
          },
          "metadata": {}
        }
      ],
      "source": [
        "data = df[\"is_sarcastic\"]\n",
        "data.value_counts().plot.bar()\n",
        "plt.show()"
      ],
      "metadata": {
        "ExecuteTime": {
          "end_time": "2023-05-30T17:58:50.504282300Z",
          "start_time": "2023-05-30T17:58:50.385278800Z"
        },
        "colab": {
          "base_uri": "https://localhost:8080/",
          "height": 425
        },
        "id": "eqtKrp2f8mFU",
        "outputId": "e28026d6-7bdf-4c94-e88c-20d93234b800"
      }
    },
    {
      "cell_type": "code",
      "execution_count": null,
      "outputs": [],
      "source": [
        "!pip install datasets\n",
        "from datasets import Dataset\n",
        "\n",
        "raw_dataset = Dataset.from_pandas(df).remove_columns(\"__index_level_0__\")\n",
        "raw_dataset"
      ],
      "metadata": {
        "ExecuteTime": {
          "end_time": "2023-05-30T17:58:50.960366500Z",
          "start_time": "2023-05-30T17:58:50.499145300Z"
        },
        "id": "cZg3Mge18mFU"
      }
    },
    {
      "cell_type": "code",
      "execution_count": null,
      "outputs": [],
      "source": [
        "!pip install transformers\n",
        "from transformers import AutoTokenizer\n",
        "\n",
        "checkpoint = \"dkleczek/bert-base-polish-uncased-v1\"\n",
        "tokenizer = AutoTokenizer.from_pretrained(checkpoint, model_max_length=512)"
      ],
      "metadata": {
        "ExecuteTime": {
          "end_time": "2023-05-30T17:58:51.871400300Z",
          "start_time": "2023-05-30T17:58:50.949861200Z"
        },
        "id": "PwgZ7i5M8mFU"
      }
    },
    {
      "cell_type": "code",
      "execution_count": 9,
      "outputs": [
        {
          "output_type": "display_data",
          "data": {
            "text/plain": [
              "Map:   0%|          | 0/28619 [00:00<?, ? examples/s]"
            ],
            "application/vnd.jupyter.widget-view+json": {
              "version_major": 2,
              "version_minor": 0,
              "model_id": "bce77a17f5eb4dd290503c9e869ff0e9"
            }
          },
          "metadata": {}
        }
      ],
      "source": [
        "def tokenize_function(example):\n",
        "    return tokenizer(example[\"headline_pl\"], truncation=True)\n",
        "\n",
        "\n",
        "tokenized_dataset = raw_dataset.map(tokenize_function, batched=True)"
      ],
      "metadata": {
        "ExecuteTime": {
          "end_time": "2023-05-30T17:58:52.510590400Z",
          "start_time": "2023-05-30T17:58:51.872401600Z"
        },
        "colab": {
          "base_uri": "https://localhost:8080/",
          "height": 17,
          "referenced_widgets": [
            "bce77a17f5eb4dd290503c9e869ff0e9",
            "26c064844495458eb46c4f8a8b1f0688",
            "2b2f6d7fa85e4fe98ccefc0221ea7fce",
            "0bda2887b39d434e861d310e0b21b6c3",
            "2fb2e403cb6246c7841f4f15484f86c4",
            "a90ec14820644c3fb88717f58460eda7",
            "a0778ee875c24594ab41ccf6b6ff7d81",
            "e57dd11ed48942f88e7b9a7910e7ee58",
            "886798b473344addaf7107db904643b8",
            "93f6998340cc4b1596e1d6eb5c6fd5a2",
            "020b8ac3197a4d258e544662479ce11f"
          ]
        },
        "id": "OxhTARSg8mFU",
        "outputId": "ec6c4614-8b54-443a-f0bc-0e1c40e37cfb"
      }
    },
    {
      "cell_type": "code",
      "execution_count": 10,
      "outputs": [],
      "source": [
        "# Train set: 80%, Validation set: 10%, Test set: 10%\n",
        "split_train_val_and_test_dataset = tokenized_dataset.train_test_split(train_size=0.8)\n",
        "split_val_test_dataset = split_train_val_and_test_dataset[\"test\"].train_test_split(test_size=0.5)\n",
        "\n",
        "tokenized_train_dataset = split_train_val_and_test_dataset[\"train\"]\n",
        "tokenized_val_dataset = split_val_test_dataset[\"train\"]\n",
        "tokenized_test_dataset = split_val_test_dataset[\"test\"]"
      ],
      "metadata": {
        "ExecuteTime": {
          "end_time": "2023-05-30T17:58:52.527978100Z",
          "start_time": "2023-05-30T17:58:52.514100700Z"
        },
        "id": "temaWg6X8mFU"
      }
    },
    {
      "cell_type": "code",
      "execution_count": 13,
      "outputs": [],
      "source": [
        "from transformers import DataCollatorWithPadding\n",
        "\n",
        "batch_size = 8\n",
        "\n",
        "\n",
        "def convert_to_tf_dataset(hf_dataset, collator, batch_size=batch_size, shuffle=False):\n",
        "    return hf_dataset.to_tf_dataset(\n",
        "        columns=[\"attention_mask\", \"input_ids\", \"token_type_ids\"],\n",
        "        label_cols=[\"is_sarcastic\"],\n",
        "        collate_fn=collator,\n",
        "        shuffle=shuffle,\n",
        "        batch_size=batch_size,\n",
        "    )\n",
        "\n",
        "\n",
        "data_collator = DataCollatorWithPadding(tokenizer=tokenizer, return_tensors=\"tf\")\n",
        "\n",
        "tf_train_dataset = convert_to_tf_dataset(hf_dataset=tokenized_train_dataset, collator=data_collator)\n",
        "tf_val_dataset = convert_to_tf_dataset(hf_dataset=tokenized_val_dataset, collator=data_collator)\n",
        "tf_test_dataset = convert_to_tf_dataset(hf_dataset=tokenized_test_dataset, collator=data_collator)"
      ],
      "metadata": {
        "ExecuteTime": {
          "end_time": "2023-05-30T17:58:54.161101300Z",
          "start_time": "2023-05-30T17:58:52.527978100Z"
        },
        "id": "B0T-CfBm8mFV"
      }
    },
    {
      "cell_type": "code",
      "execution_count": 14,
      "outputs": [],
      "source": [
        "import sys\n",
        "\n",
        "import Constants\n",
        "\n",
        "# Callbacks\n",
        "training_number = 1\n",
        "model_name = \"sarcasm_pl_bert\"\n",
        "training_folder = f\"training_{training_number}\"\n",
        "checkpoint_filename = \"cp-{epoch:04d}.ckpt\"\n",
        "training_path = os.path.join(Constants.TRAINING_CHECKPOINTS_PATH, model_name, training_folder)\n",
        "checkpoint_path = os.path.join(training_path, checkpoint_filename)\n",
        "checkpoint_cb = tf.keras.callbacks.ModelCheckpoint(checkpoint_path, verbose=1, save_weights_only=True)\n",
        "\n",
        "early_stop_cb = tf.keras.callbacks.EarlyStopping(patience=3)"
      ],
      "metadata": {
        "ExecuteTime": {
          "end_time": "2023-05-30T17:58:54.425209900Z",
          "start_time": "2023-05-30T17:58:54.164398700Z"
        },
        "id": "X-_H3lKc8mFV"
      }
    },
    {
      "cell_type": "code",
      "execution_count": 15,
      "outputs": [
        {
          "output_type": "execute_result",
          "data": {
            "text/plain": [
              "'../../training_checkpoints/sarcasm_pl_bert/training_1/cp-{epoch:04d}.ckpt'"
            ],
            "application/vnd.google.colaboratory.intrinsic+json": {
              "type": "string"
            }
          },
          "metadata": {},
          "execution_count": 15
        }
      ],
      "source": [
        "checkpoint_path"
      ],
      "metadata": {
        "ExecuteTime": {
          "end_time": "2023-05-30T17:58:54.442222800Z",
          "start_time": "2023-05-30T17:58:54.426210500Z"
        },
        "colab": {
          "base_uri": "https://localhost:8080/",
          "height": 35
        },
        "id": "lfpB_kNe8mFV",
        "outputId": "2e73c8ab-50b1-4b7f-e306-2cdbcd486323"
      }
    },
    {
      "cell_type": "code",
      "execution_count": 16,
      "outputs": [],
      "source": [
        "from tensorflow.keras.optimizers.schedules import PolynomialDecay\n",
        "from tensorflow.keras.optimizers import Adam\n",
        "\n",
        "num_epochs = 10\n",
        "# The number of training steps is the number of samples in the dataset, divided by the batch size then multiplied\n",
        "# by the total number of epochs. Note that the tf_train_dataset here is a batched tf.data.Dataset,\n",
        "# not the original Hugging Face Dataset, so its len() is already num_samples // batch_size.\n",
        "num_train_steps = len(tf_train_dataset) * num_epochs\n",
        "lr_scheduler = PolynomialDecay(\n",
        "    initial_learning_rate=5e-5, end_learning_rate=0.0, decay_steps=num_train_steps\n",
        ")\n",
        "\n",
        "optimizer = Adam(learning_rate=lr_scheduler)"
      ],
      "metadata": {
        "ExecuteTime": {
          "end_time": "2023-05-30T17:58:54.484470200Z",
          "start_time": "2023-05-30T17:58:54.444280400Z"
        },
        "id": "OvmRG3sH8mFW"
      }
    },
    {
      "cell_type": "code",
      "execution_count": 17,
      "outputs": [
        {
          "output_type": "display_data",
          "data": {
            "text/plain": [
              "Downloading pytorch_model.bin:   0%|          | 0.00/531M [00:00<?, ?B/s]"
            ],
            "application/vnd.jupyter.widget-view+json": {
              "version_major": 2,
              "version_minor": 0,
              "model_id": "767d42f0540548319f13f34ac61c71ca"
            }
          },
          "metadata": {}
        },
        {
          "output_type": "stream",
          "name": "stderr",
          "text": [
            "All PyTorch model weights were used when initializing TFBertForSequenceClassification.\n",
            "\n",
            "Some weights or buffers of the TF 2.0 model TFBertForSequenceClassification were not initialized from the PyTorch model and are newly initialized: ['classifier.weight', 'classifier.bias']\n",
            "You should probably TRAIN this model on a down-stream task to be able to use it for predictions and inference.\n"
          ]
        }
      ],
      "source": [
        "from transformers import TFAutoModelForSequenceClassification\n",
        "\n",
        "model = TFAutoModelForSequenceClassification.from_pretrained(checkpoint, num_labels=2, from_pt=True)"
      ],
      "metadata": {
        "ExecuteTime": {
          "end_time": "2023-05-30T17:58:56.590115800Z",
          "start_time": "2023-05-30T17:58:54.457305700Z"
        },
        "colab": {
          "base_uri": "https://localhost:8080/",
          "height": 118,
          "referenced_widgets": [
            "767d42f0540548319f13f34ac61c71ca",
            "8bd89402f9ff40da929636b81175d77a",
            "7612c48df91641d086693c51fe211b85",
            "a48cb489ad60486ab21b1a9df94e4f32",
            "1b98a7f02523471592bd970d34e1edcd",
            "a09747329a06470b85aa44d862261f4a",
            "cf2af92814804ff5a0d527cfeef8a09a",
            "5117546f89fc4e4b87ac8f3a1e828a4e",
            "43a7cf3b29864e238d0f1478b1886858",
            "4a312597a6844dba904a65fc4eec1063",
            "d727a88af1774043a8b37aac2992e80d"
          ]
        },
        "id": "shti1Idr8mFW",
        "outputId": "07b75ee2-77cb-45ac-8558-20d098dfcb41"
      }
    },
    {
      "cell_type": "code",
      "execution_count": 18,
      "outputs": [],
      "source": [
        "# Compile\n",
        "loss = tf.keras.losses.SparseCategoricalCrossentropy(from_logits=True)\n",
        "metrics = [\"accuracy\"]\n",
        "model.compile(optimizer=optimizer, loss=loss, metrics=metrics)"
      ],
      "metadata": {
        "ExecuteTime": {
          "end_time": "2023-05-30T17:58:56.599624800Z",
          "start_time": "2023-05-30T17:58:56.563096600Z"
        },
        "id": "wrFX7r608mFW"
      }
    },
    {
      "cell_type": "code",
      "execution_count": 19,
      "outputs": [
        {
          "output_type": "stream",
          "name": "stdout",
          "text": [
            "Epoch 1/10\n",
            "2862/2862 [==============================] - ETA: 0s - loss: 0.4108 - accuracy: 0.8117\n",
            "Epoch 1: saving model to ../../training_checkpoints/sarcasm_pl_bert/training_1/cp-0001.ckpt\n",
            "2862/2862 [==============================] - 377s 113ms/step - loss: 0.4108 - accuracy: 0.8117 - val_loss: 0.3432 - val_accuracy: 0.8456\n",
            "Epoch 2/10\n",
            "2862/2862 [==============================] - ETA: 0s - loss: 0.2144 - accuracy: 0.9144\n",
            "Epoch 2: saving model to ../../training_checkpoints/sarcasm_pl_bert/training_1/cp-0002.ckpt\n",
            "2862/2862 [==============================] - 295s 103ms/step - loss: 0.2144 - accuracy: 0.9144 - val_loss: 0.4641 - val_accuracy: 0.8393\n",
            "Epoch 3/10\n",
            "2862/2862 [==============================] - ETA: 0s - loss: 0.1005 - accuracy: 0.9660\n",
            "Epoch 3: saving model to ../../training_checkpoints/sarcasm_pl_bert/training_1/cp-0003.ckpt\n",
            "2862/2862 [==============================] - 297s 104ms/step - loss: 0.1005 - accuracy: 0.9660 - val_loss: 0.5383 - val_accuracy: 0.8431\n",
            "Epoch 4/10\n",
            "2862/2862 [==============================] - ETA: 0s - loss: 0.0626 - accuracy: 0.9797\n",
            "Epoch 4: saving model to ../../training_checkpoints/sarcasm_pl_bert/training_1/cp-0004.ckpt\n",
            "2862/2862 [==============================] - 300s 105ms/step - loss: 0.0626 - accuracy: 0.9797 - val_loss: 0.7751 - val_accuracy: 0.8319\n"
          ]
        }
      ],
      "source": [
        "history = model.fit(tf_train_dataset, validation_data=tf_val_dataset, epochs=num_epochs, callbacks=[checkpoint_cb, early_stop_cb])"
      ],
      "metadata": {
        "ExecuteTime": {
          "end_time": "2023-05-30T18:11:58.766255400Z",
          "start_time": "2023-05-30T17:58:56.590115800Z"
        },
        "colab": {
          "base_uri": "https://localhost:8080/"
        },
        "id": "ueN9TXYR8mFW",
        "outputId": "f03ecb46-1542-4dc0-8352-fa3081d13bf2"
      }
    },
    {
      "cell_type": "code",
      "execution_count": 25,
      "outputs": [
        {
          "output_type": "display_data",
          "data": {
            "text/plain": [
              "<Figure size 640x480 with 1 Axes>"
            ],
            "image/png": "[encoded data removed]"
          },
          "metadata": {}
        },
        {
          "output_type": "display_data",
          "data": {
            "text/plain": [
              "<Figure size 640x480 with 1 Axes>"
            ],
            "image/png": "[encoded data removed]"
          },
          "metadata": {}
        }
      ],
      "source": [
        "plt.plot(history.history['accuracy'])\n",
        "plt.plot(history.history['val_accuracy'])\n",
        "plt.title('Model accuracy')\n",
        "plt.ylabel('Accuracy')\n",
        "plt.xlabel('Epoch')\n",
        "plt.legend(['Train', 'Val'], loc='upper left')\n",
        "plt.savefig(f\"documentation/models/{model_name}/figures/{training_folder}_accuracy.png\")\n",
        "plt.show()\n",
        "\n",
        "plt.plot(history.history['loss'])\n",
        "plt.plot(history.history['val_loss'])\n",
        "plt.title('Model loss')\n",
        "plt.ylabel('Loss')\n",
        "plt.xlabel('Epoch')\n",
        "plt.legend(['Train', 'Val'], loc='upper left')\n",
        "plt.savefig(f\"documentation/models/{model_name}/figures/{training_folder}_loss.png\")\n",
        "plt.show()"
      ],
      "metadata": {
        "ExecuteTime": {
          "end_time": "2023-05-30T18:13:35.678641Z",
          "start_time": "2023-05-30T18:13:35.373242500Z"
        },
        "colab": {
          "base_uri": "https://localhost:8080/",
          "height": 927
        },
        "id": "o__UKtkS8mFW",
        "outputId": "3df9c53d-c41f-4d74-9d4b-f5af75174488"
      }
    },
    {
      "cell_type": "code",
      "execution_count": 26,
      "outputs": [],
      "source": [
        "import shutil\n",
        "\n",
        "best_model_checkpoint_index = np.argmin(history.history[\"val_accuracy\"]) + 1\n",
        "best_model_weights_path = os.path.join(training_path, checkpoint_filename.format(epoch=best_model_checkpoint_index))\n",
        "best_model = model\n",
        "best_model.load_weights(best_model_weights_path)\n",
        "\n",
        "shutil.rmtree(training_path)"
      ],
      "metadata": {
        "ExecuteTime": {
          "end_time": "2023-05-30T18:13:43.853508Z",
          "start_time": "2023-05-30T18:13:40.913424500Z"
        },
        "id": "fNdfTSum8mFX"
      }
    },
    {
      "cell_type": "code",
      "execution_count": 34,
      "outputs": [
        {
          "output_type": "stream",
          "name": "stderr",
          "text": [
            "WARNING:absl:Found untraced functions such as embeddings_layer_call_fn, embeddings_layer_call_and_return_conditional_losses, encoder_layer_call_fn, encoder_layer_call_and_return_conditional_losses, pooler_layer_call_fn while saving (showing 5 of 420). These functions will not be directly callable after loading.\n"
          ]
        }
      ],
      "source": [
        "saved_model_name = f\"{model_name}_{training_number}\"\n",
        "\n",
        "# Save to Saved Model format\n",
        "best_model.save(os.path.join(\"trained_models\", saved_model_name, Constants.DEFAULT_MODEL_VERSION))"
      ],
      "metadata": {
        "ExecuteTime": {
          "end_time": "2023-05-30T18:14:22.918774700Z",
          "start_time": "2023-05-30T18:13:44.021018200Z"
        },
        "colab": {
          "base_uri": "https://localhost:8080/"
        },
        "id": "B2rFV5aq8mFX",
        "outputId": "70e127a6-a497-4cb0-aa24-d56bb452ea79"
      }
    },
    {
      "cell_type": "code",
      "execution_count": 28,
      "outputs": [
        {
          "output_type": "stream",
          "name": "stdout",
          "text": [
            "358/358 [==============================] - 15s 41ms/step - loss: 0.7200 - accuracy: 0.8435\n"
          ]
        },
        {
          "output_type": "execute_result",
          "data": {
            "text/plain": [
              "[0.7200444936752319, 0.8434661030769348]"
            ]
          },
          "metadata": {},
          "execution_count": 28
        }
      ],
      "source": [
        "# Evaluation\n",
        "best_model.evaluate(tf_test_dataset, batch_size=32)"
      ],
      "metadata": {
        "ExecuteTime": {
          "end_time": "2023-05-30T18:14:32.361033800Z",
          "start_time": "2023-05-30T18:14:22.923280900Z"
        },
        "colab": {
          "base_uri": "https://localhost:8080/"
        },
        "id": "E_Do0gEI8mFX",
        "outputId": "e6389d6a-8520-4b1f-b3a8-66756eeae9f4"
      }
    },
    {
      "cell_type": "code",
      "execution_count": 29,
      "outputs": [
        {
          "output_type": "stream",
          "name": "stdout",
          "text": [
            "358/358 [==============================] - 17s 40ms/step\n"
          ]
        }
      ],
      "source": [
        "# Getting predictions\n",
        "prediction_logits = best_model.predict(tf_test_dataset)['logits']\n",
        "probabilities = tf.nn.softmax(prediction_logits)\n",
        "class_preds = np.argmax(probabilities, axis=1)"
      ],
      "metadata": {
        "ExecuteTime": {
          "end_time": "2023-05-30T18:14:42.328256600Z",
          "start_time": "2023-05-30T18:14:32.342431Z"
        },
        "colab": {
          "base_uri": "https://localhost:8080/"
        },
        "id": "iVwiYhF68mFX",
        "outputId": "98b8c2e1-fc04-4e8c-b4b3-1b9a0eb864cd"
      }
    },
    {
      "cell_type": "code",
      "execution_count": 30,
      "outputs": [
        {
          "output_type": "stream",
          "name": "stdout",
          "text": [
            "Precision score:  0.8873362445414847\n",
            "Recall score:  0.7610486891385768\n",
            "F1 score:  0.8193548387096775\n"
          ]
        }
      ],
      "source": [
        "from sklearn.metrics import precision_score, recall_score, f1_score\n",
        "\n",
        "precision = precision_score(tokenized_test_dataset['is_sarcastic'], class_preds)\n",
        "recall = recall_score(tokenized_test_dataset['is_sarcastic'], class_preds)\n",
        "f1 = f1_score(tokenized_test_dataset['is_sarcastic'], class_preds)\n",
        "\n",
        "print(f\"Precision score: \", precision)\n",
        "print(f\"Recall score: \", recall)\n",
        "print(f\"F1 score: \", f1)"
      ],
      "metadata": {
        "ExecuteTime": {
          "end_time": "2023-05-30T18:14:42.373444500Z",
          "start_time": "2023-05-30T18:14:42.327257600Z"
        },
        "colab": {
          "base_uri": "https://localhost:8080/"
        },
        "id": "TI-4PLA98mFX",
        "outputId": "3e124fd7-4bcd-4185-adec-cdeeea5c6a5a"
      }
    },
    {
      "cell_type": "code",
      "execution_count": 32,
      "outputs": [
        {
          "output_type": "display_data",
          "data": {
            "text/plain": [
              "<Figure size 640x480 with 2 Axes>"
            ],
            "image/png": "[encoded data removed]"
          },
          "metadata": {}
        }
      ],
      "source": [
        "from sklearn.metrics import confusion_matrix, ConfusionMatrixDisplay\n",
        "\n",
        "result = confusion_matrix(tokenized_test_dataset['is_sarcastic'], class_preds)\n",
        "\n",
        "disp = ConfusionMatrixDisplay(confusion_matrix=result)\n",
        "disp.plot()\n",
        "plt.savefig(f\"documentation/models/{model_name}/figures/{training_folder}_confmatrix.png\")\n",
        "plt.show()"
      ],
      "metadata": {
        "ExecuteTime": {
          "end_time": "2023-05-30T18:14:42.528978Z",
          "start_time": "2023-05-30T18:14:42.376650100Z"
        },
        "colab": {
          "base_uri": "https://localhost:8080/",
          "height": 449
        },
        "id": "Gz2vhNeE8mFY",
        "outputId": "c8b148ed-48db-4865-93c8-761e197a620a"
      }
    },
    {
      "cell_type": "code",
      "execution_count": 33,
      "outputs": [
        {
          "output_type": "stream",
          "name": "stdout",
          "text": [
            "\n",
            "        BAD PREDICTION:\n",
            "        - INDEX: 2\n",
            "        - TEXT: Jedz warzywa: 9 pysznie różnych przepisów\n",
            "        - PREDICTED VALUE: 1\n",
            "        - CORRECT VALUE: 0\n",
            "        \n",
            "\n",
            "        BAD PREDICTION:\n",
            "        - INDEX: 3\n",
            "        - TEXT: Nieprzyjemna pogoda uniemożliwia kłamcy dotarcie do pracy\n",
            "        - PREDICTED VALUE: 0\n",
            "        - CORRECT VALUE: 1\n",
            "        \n",
            "\n",
            "        BAD PREDICTION:\n",
            "        - INDEX: 4\n",
            "        - TEXT: matka jest bardzo blisko użycia słowa \"streaming\" poprawnie\n",
            "        - PREDICTED VALUE: 0\n",
            "        - CORRECT VALUE: 1\n",
            "        \n",
            "\n",
            "        BAD PREDICTION:\n",
            "        - INDEX: 5\n",
            "        - TEXT: Białe dziedzictwo\n",
            "        - PREDICTED VALUE: 1\n",
            "        - CORRECT VALUE: 0\n",
            "        \n",
            "\n",
            "        BAD PREDICTION:\n",
            "        - INDEX: 7\n",
            "        - TEXT: Darowizna Richarda Brandona na ocieplenie świata prawie tyle samo, co koszt nieudanych lotów balonem\n",
            "        - PREDICTED VALUE: 0\n",
            "        - CORRECT VALUE: 1\n",
            "        \n",
            "\n",
            "        BAD PREDICTION:\n",
            "        - INDEX: 14\n",
            "        - TEXT: Ford stworzył nowy SUV, który będzie działał wyłącznie na benzynie\n",
            "        - PREDICTED VALUE: 0\n",
            "        - CORRECT VALUE: 1\n",
            "        \n",
            "\n",
            "        BAD PREDICTION:\n",
            "        - INDEX: 18\n",
            "        - TEXT: Nie pozostawiaj osoby niepełnosprawnej w tyle\n",
            "        - PREDICTED VALUE: 1\n",
            "        - CORRECT VALUE: 0\n",
            "        \n",
            "\n",
            "        BAD PREDICTION:\n",
            "        - INDEX: 19\n",
            "        - TEXT: Lin-Manuel Miranda chciałby przypomnieć ci, żebyś odłożył telefon.\n",
            "        - PREDICTED VALUE: 1\n",
            "        - CORRECT VALUE: 0\n",
            "        \n",
            "\n",
            "        BAD PREDICTION:\n",
            "        - INDEX: 21\n",
            "        - TEXT: strażnik w grze wideo pod ścisłym rozkazem wielokrotnego chodzenia tym samym odcinkiem korytarza\n",
            "        - PREDICTED VALUE: 0\n",
            "        - CORRECT VALUE: 1\n",
            "        \n",
            "\n",
            "        BAD PREDICTION:\n",
            "        - INDEX: 23\n",
            "        - TEXT: Kot tak przerażony w schronisku, że nawet na ciebie nie spojrzy\n",
            "        - PREDICTED VALUE: 1\n",
            "        - CORRECT VALUE: 0\n",
            "        \n",
            "\n",
            "        BAD PREDICTION:\n",
            "        - INDEX: 24\n",
            "        - TEXT: Bill Clinton: „Silnie popieram” Obamacare\n",
            "        - PREDICTED VALUE: 1\n",
            "        - CORRECT VALUE: 0\n",
            "        \n",
            "\n",
            "        BAD PREDICTION:\n",
            "        - INDEX: 25\n",
            "        - TEXT: Agent Secret Service nie taki tajemniczy w byciu fanem Davida Alana Griera\n",
            "        - PREDICTED VALUE: 0\n",
            "        - CORRECT VALUE: 1\n",
            "        \n",
            "\n",
            "        BAD PREDICTION:\n",
            "        - INDEX: 26\n",
            "        - TEXT: Nowa era pomarańczy: rosnące podziały\n",
            "        - PREDICTED VALUE: 1\n",
            "        - CORRECT VALUE: 0\n",
            "        \n",
            "\n",
            "        BAD PREDICTION:\n",
            "        - INDEX: 29\n",
            "        - TEXT: Zajęło mi 21 lat, żeby wyjść z szafy i to powiedzieć.\n",
            "        - PREDICTED VALUE: 1\n",
            "        - CORRECT VALUE: 0\n",
            "        \n",
            "\n",
            "        BAD PREDICTION:\n",
            "        - INDEX: 36\n",
            "        - TEXT: Ekspansywny stan Obamy w przemówieniu związkowym dotykającym prawa patentowego, entomologii, filmów Roberta Altmana\n",
            "        - PREDICTED VALUE: 0\n",
            "        - CORRECT VALUE: 1\n",
            "        \n",
            "\n",
            "        BAD PREDICTION:\n",
            "        - INDEX: 38\n",
            "        - TEXT: Policja twierdzi, że kobieta wymyśliła historię ataku dwóch mężczyzn, jeden w kapeluszu z atutem (aktualizacja)\n",
            "        - PREDICTED VALUE: 1\n",
            "        - CORRECT VALUE: 0\n",
            "        \n",
            "\n",
            "        BAD PREDICTION:\n",
            "        - INDEX: 39\n",
            "        - TEXT: Naacp żąda mniejszej reprezentacji mniejszości narodowych\n",
            "        - PREDICTED VALUE: 0\n",
            "        - CORRECT VALUE: 1\n",
            "        \n",
            "\n",
            "        BAD PREDICTION:\n",
            "        - INDEX: 40\n",
            "        - TEXT: Najlepsze ubrania dla dziecka w życiu\n",
            "        - PREDICTED VALUE: 1\n",
            "        - CORRECT VALUE: 0\n",
            "        \n",
            "\n",
            "        BAD PREDICTION:\n",
            "        - INDEX: 41\n",
            "        - TEXT: Florystka, która odrzuciła parę gejów, chce, aby Sąd Najwyższy wysłuchał jej sprawy\n",
            "        - PREDICTED VALUE: 1\n",
            "        - CORRECT VALUE: 0\n",
            "        \n",
            "\n",
            "        BAD PREDICTION:\n",
            "        - INDEX: 42\n",
            "        - TEXT: Wciąż przetwarzamy zakończenie chodzących martwych \"obcych\"\n",
            "        - PREDICTED VALUE: 1\n",
            "        - CORRECT VALUE: 0\n",
            "        \n",
            "\n",
            "        BAD PREDICTION:\n",
            "        - INDEX: 43\n",
            "        - TEXT: Nowy projekt Google dostarcza krytyczne informacje na smartfony uchodźców\n",
            "        - PREDICTED VALUE: 1\n",
            "        - CORRECT VALUE: 0\n",
            "        \n",
            "\n",
            "        BAD PREDICTION:\n",
            "        - INDEX: 44\n",
            "        - TEXT: Nowy podręcznik historii ożywia nienawiść do historii wśród uczniów\n",
            "        - PREDICTED VALUE: 0\n",
            "        - CORRECT VALUE: 1\n",
            "        \n",
            "\n",
            "        BAD PREDICTION:\n",
            "        - INDEX: 45\n",
            "        - TEXT: 10 sposobów, w jakie ludzie sukcesu myślą inaczej\n",
            "        - PREDICTED VALUE: 1\n",
            "        - CORRECT VALUE: 0\n",
            "        \n",
            "\n",
            "        BAD PREDICTION:\n",
            "        - INDEX: 46\n",
            "        - TEXT: Raport: most prawdopodobnie ma cały bałagan nietoperzy pod nim\n",
            "        - PREDICTED VALUE: 0\n",
            "        - CORRECT VALUE: 1\n",
            "        \n",
            "\n",
            "        BAD PREDICTION:\n",
            "        - INDEX: 49\n",
            "        - TEXT: Bóg odzyskuje silną potrzebę przywrócenia dinozaurów\n",
            "        - PREDICTED VALUE: 0\n",
            "        - CORRECT VALUE: 1\n",
            "        \n"
          ]
        }
      ],
      "source": [
        "bad_prediction_count = 0\n",
        "predictions_index = 0\n",
        "\n",
        "while bad_prediction_count < 25 and predictions_index < raw_dataset.num_rows:\n",
        "    predictions_index += 1\n",
        "\n",
        "    # if bad prediction then show text and increase count\n",
        "    if class_preds[predictions_index] != raw_dataset[predictions_index]['is_sarcastic']:\n",
        "        print(f\"\"\"\n",
        "        BAD PREDICTION:\n",
        "        - INDEX: {predictions_index}\n",
        "        - TEXT: {raw_dataset[predictions_index]['headline_pl']}\n",
        "        - PREDICTED VALUE: {class_preds[predictions_index]}\n",
        "        - CORRECT VALUE: {raw_dataset[predictions_index]['is_sarcastic']}\n",
        "        \"\"\")\n",
        "        bad_prediction_count += 1"
      ],
      "metadata": {
        "ExecuteTime": {
          "end_time": "2023-05-30T18:14:42.571652500Z",
          "start_time": "2023-05-30T18:14:42.531980100Z"
        },
        "colab": {
          "base_uri": "https://localhost:8080/"
        },
        "id": "Z_BIH5Bl8mFY",
        "outputId": "4c452851-7eaa-4330-a161-cb9b22a5a28a"
      }
    },
    {
      "cell_type": "code",
      "execution_count": 36,
      "outputs": [
        {
          "output_type": "stream",
          "name": "stdout",
          "text": [
            "  adding: documentation/models/ (stored 0%)\n",
            "  adding: documentation/models/.ipynb_checkpoints/ (stored 0%)\n",
            "  adding: documentation/models/sarcasm_pl_bert/ (stored 0%)\n",
            "  adding: documentation/models/sarcasm_pl_bert/figures/ (stored 0%)\n",
            "  adding: documentation/models/sarcasm_pl_bert/figures/training_1_loss.png (deflated 9%)\n",
            "  adding: documentation/models/sarcasm_pl_bert/figures/training_1_accuracy.png (deflated 10%)\n",
            "  adding: documentation/models/sarcasm_pl_bert/figures/training_1_confmatrix.png (deflated 16%)\n",
            "  adding: documentation/models/sarcasm_pl_bert/.ipynb_checkpoints/ (stored 0%)\n"
          ]
        }
      ],
      "source": [
        "!zip -r documentation.zip documentation/models"
      ],
      "metadata": {
        "ExecuteTime": {
          "start_time": "2023-05-30T18:14:42.561526900Z"
        },
        "colab": {
          "base_uri": "https://localhost:8080/"
        },
        "id": "T8dAlN7d8mFY",
        "outputId": "e69c3436-a644-4398-fe39-58c09087ee4e"
      }
    },
    {
      "cell_type": "code",
      "source": [
        "from google.colab import files\n",
        "files.download(\"documentation.zip\")"
      ],
      "metadata": {
        "colab": {
          "base_uri": "https://localhost:8080/",
          "height": 17
        },
        "id": "J2f8gAr7E_J2",
        "outputId": "5a4c1adc-b691-4534-aedf-36adc58c38d6"
      },
      "execution_count": 37,
      "outputs": [
        {
          "output_type": "display_data",
          "data": {
            "text/plain": [
              "<IPython.core.display.Javascript object>"
            ],
            "application/javascript": [
              "\n",
              "    async function download(id, filename, size) {\n",
              "      if (!google.colab.kernel.accessAllowed) {\n",
              "        return;\n",
              "      }\n",
              "      const div = document.createElement('div');\n",
              "      const label = document.createElement('label');\n",
              "      label.textContent = `Downloading \"${filename}\": `;\n",
              "      div.appendChild(label);\n",
              "      const progress = document.createElement('progress');\n",
              "      progress.max = size;\n",
              "      div.appendChild(progress);\n",
              "      document.body.appendChild(div);\n",
              "\n",
              "      const buffers = [];\n",
              "      let downloaded = 0;\n",
              "\n",
              "      const channel = await google.colab.kernel.comms.open(id);\n",
              "      // Send a message to notify the kernel that we're ready.\n",
              "      channel.send({})\n",
              "\n",
              "      for await (const message of channel.messages) {\n",
              "        // Send a message to notify the kernel that we're ready.\n",
              "        channel.send({})\n",
              "        if (message.buffers) {\n",
              "          for (const buffer of message.buffers) {\n",
              "            buffers.push(buffer);\n",
              "            downloaded += buffer.byteLength;\n",
              "            progress.value = downloaded;\n",
              "          }\n",
              "        }\n",
              "      }\n",
              "      const blob = new Blob(buffers, {type: 'application/binary'});\n",
              "      const a = document.createElement('a');\n",
              "      a.href = window.URL.createObjectURL(blob);\n",
              "      a.download = filename;\n",
              "      div.appendChild(a);\n",
              "      a.click();\n",
              "      div.remove();\n",
              "    }\n",
              "  "
            ]
          },
          "metadata": {}
        },
        {
          "output_type": "display_data",
          "data": {
            "text/plain": [
              "<IPython.core.display.Javascript object>"
            ],
            "application/javascript": [
              "download(\"download_4500b98a-4a1b-4250-9a04-05d424cb1b10\", \"documentation.zip\", 63799)"
            ]
          },
          "metadata": {}
        }
      ]
    }
  ],
  "metadata": {
    "kernelspec": {
      "display_name": "Python 3",
      "name": "python3"
    },
    "language_info": {
      "codemirror_mode": {
        "name": "ipython",
        "version": 2
      },
      "file_extension": ".py",
      "mimetype": "text/x-python",
      "name": "python",
      "nbconvert_exporter": "python",
      "pygments_lexer": "ipython2",
      "version": "2.7.6"
    },
    "colab": {
      "provenance": [],
      "gpuType": "T4"
    },
    "accelerator": "GPU",
    "widgets": {
      "application/vnd.jupyter.widget-state+json": {
        "bce77a17f5eb4dd290503c9e869ff0e9": {
          "model_module": "@jupyter-widgets/controls",
          "model_name": "HBoxModel",
          "model_module_version": "1.5.0",
          "state": {
            "_dom_classes": [],
            "_model_module": "@jupyter-widgets/controls",
            "_model_module_version": "1.5.0",
            "_model_name": "HBoxModel",
            "_view_count": null,
            "_view_module": "@jupyter-widgets/controls",
            "_view_module_version": "1.5.0",
            "_view_name": "HBoxView",
            "box_style": "",
            "children": [
              "IPY_MODEL_26c064844495458eb46c4f8a8b1f0688",
              "IPY_MODEL_2b2f6d7fa85e4fe98ccefc0221ea7fce",
              "IPY_MODEL_0bda2887b39d434e861d310e0b21b6c3"
            ],
            "layout": "IPY_MODEL_2fb2e403cb6246c7841f4f15484f86c4"
          }
        },
        "26c064844495458eb46c4f8a8b1f0688": {
          "model_module": "@jupyter-widgets/controls",
          "model_name": "HTMLModel",
          "model_module_version": "1.5.0",
          "state": {
            "_dom_classes": [],
            "_model_module": "@jupyter-widgets/controls",
            "_model_module_version": "1.5.0",
            "_model_name": "HTMLModel",
            "_view_count": null,
            "_view_module": "@jupyter-widgets/controls",
            "_view_module_version": "1.5.0",
            "_view_name": "HTMLView",
            "description": "",
            "description_tooltip": null,
            "layout": "IPY_MODEL_a90ec14820644c3fb88717f58460eda7",
            "placeholder": "​",
            "style": "IPY_MODEL_a0778ee875c24594ab41ccf6b6ff7d81",
            "value": "Map: 100%"
          }
        },
        "2b2f6d7fa85e4fe98ccefc0221ea7fce": {
          "model_module": "@jupyter-widgets/controls",
          "model_name": "FloatProgressModel",
          "model_module_version": "1.5.0",
          "state": {
            "_dom_classes": [],
            "_model_module": "@jupyter-widgets/controls",
            "_model_module_version": "1.5.0",
            "_model_name": "FloatProgressModel",
            "_view_count": null,
            "_view_module": "@jupyter-widgets/controls",
            "_view_module_version": "1.5.0",
            "_view_name": "ProgressView",
            "bar_style": "",
            "description": "",
            "description_tooltip": null,
            "layout": "IPY_MODEL_e57dd11ed48942f88e7b9a7910e7ee58",
            "max": 28619,
            "min": 0,
            "orientation": "horizontal",
            "style": "IPY_MODEL_886798b473344addaf7107db904643b8",
            "value": 28619
          }
        },
        "0bda2887b39d434e861d310e0b21b6c3": {
          "model_module": "@jupyter-widgets/controls",
          "model_name": "HTMLModel",
          "model_module_version": "1.5.0",
          "state": {
            "_dom_classes": [],
            "_model_module": "@jupyter-widgets/controls",
            "_model_module_version": "1.5.0",
            "_model_name": "HTMLModel",
            "_view_count": null,
            "_view_module": "@jupyter-widgets/controls",
            "_view_module_version": "1.5.0",
            "_view_name": "HTMLView",
            "description": "",
            "description_tooltip": null,
            "layout": "IPY_MODEL_93f6998340cc4b1596e1d6eb5c6fd5a2",
            "placeholder": "​",
            "style": "IPY_MODEL_020b8ac3197a4d258e544662479ce11f",
            "value": " 28619/28619 [00:02&lt;00:00, 14394.15 examples/s]"
          }
        },
        "2fb2e403cb6246c7841f4f15484f86c4": {
          "model_module": "@jupyter-widgets/base",
          "model_name": "LayoutModel",
          "model_module_version": "1.2.0",
          "state": {
            "_model_module": "@jupyter-widgets/base",
            "_model_module_version": "1.2.0",
            "_model_name": "LayoutModel",
            "_view_count": null,
            "_view_module": "@jupyter-widgets/base",
            "_view_module_version": "1.2.0",
            "_view_name": "LayoutView",
            "align_content": null,
            "align_items": null,
            "align_self": null,
            "border": null,
            "bottom": null,
            "display": null,
            "flex": null,
            "flex_flow": null,
            "grid_area": null,
            "grid_auto_columns": null,
            "grid_auto_flow": null,
            "grid_auto_rows": null,
            "grid_column": null,
            "grid_gap": null,
            "grid_row": null,
            "grid_template_areas": null,
            "grid_template_columns": null,
            "grid_template_rows": null,
            "height": null,
            "justify_content": null,
            "justify_items": null,
            "left": null,
            "margin": null,
            "max_height": null,
            "max_width": null,
            "min_height": null,
            "min_width": null,
            "object_fit": null,
            "object_position": null,
            "order": null,
            "overflow": null,
            "overflow_x": null,
            "overflow_y": null,
            "padding": null,
            "right": null,
            "top": null,
            "visibility": "hidden",
            "width": null
          }
        },
        "a90ec14820644c3fb88717f58460eda7": {
          "model_module": "@jupyter-widgets/base",
          "model_name": "LayoutModel",
          "model_module_version": "1.2.0",
          "state": {
            "_model_module": "@jupyter-widgets/base",
            "_model_module_version": "1.2.0",
            "_model_name": "LayoutModel",
            "_view_count": null,
            "_view_module": "@jupyter-widgets/base",
            "_view_module_version": "1.2.0",
            "_view_name": "LayoutView",
            "align_content": null,
            "align_items": null,
            "align_self": null,
            "border": null,
            "bottom": null,
            "display": null,
            "flex": null,
            "flex_flow": null,
            "grid_area": null,
            "grid_auto_columns": null,
            "grid_auto_flow": null,
            "grid_auto_rows": null,
            "grid_column": null,
            "grid_gap": null,
            "grid_row": null,
            "grid_template_areas": null,
            "grid_template_columns": null,
            "grid_template_rows": null,
            "height": null,
            "justify_content": null,
            "justify_items": null,
            "left": null,
            "margin": null,
            "max_height": null,
            "max_width": null,
            "min_height": null,
            "min_width": null,
            "object_fit": null,
            "object_position": null,
            "order": null,
            "overflow": null,
            "overflow_x": null,
            "overflow_y": null,
            "padding": null,
            "right": null,
            "top": null,
            "visibility": null,
            "width": null
          }
        },
        "a0778ee875c24594ab41ccf6b6ff7d81": {
          "model_module": "@jupyter-widgets/controls",
          "model_name": "DescriptionStyleModel",
          "model_module_version": "1.5.0",
          "state": {
            "_model_module": "@jupyter-widgets/controls",
            "_model_module_version": "1.5.0",
            "_model_name": "DescriptionStyleModel",
            "_view_count": null,
            "_view_module": "@jupyter-widgets/base",
            "_view_module_version": "1.2.0",
            "_view_name": "StyleView",
            "description_width": ""
          }
        },
        "e57dd11ed48942f88e7b9a7910e7ee58": {
          "model_module": "@jupyter-widgets/base",
          "model_name": "LayoutModel",
          "model_module_version": "1.2.0",
          "state": {
            "_model_module": "@jupyter-widgets/base",
            "_model_module_version": "1.2.0",
            "_model_name": "LayoutModel",
            "_view_count": null,
            "_view_module": "@jupyter-widgets/base",
            "_view_module_version": "1.2.0",
            "_view_name": "LayoutView",
            "align_content": null,
            "align_items": null,
            "align_self": null,
            "border": null,
            "bottom": null,
            "display": null,
            "flex": null,
            "flex_flow": null,
            "grid_area": null,
            "grid_auto_columns": null,
            "grid_auto_flow": null,
            "grid_auto_rows": null,
            "grid_column": null,
            "grid_gap": null,
            "grid_row": null,
            "grid_template_areas": null,
            "grid_template_columns": null,
            "grid_template_rows": null,
            "height": null,
            "justify_content": null,
            "justify_items": null,
            "left": null,
            "margin": null,
            "max_height": null,
            "max_width": null,
            "min_height": null,
            "min_width": null,
            "object_fit": null,
            "object_position": null,
            "order": null,
            "overflow": null,
            "overflow_x": null,
            "overflow_y": null,
            "padding": null,
            "right": null,
            "top": null,
            "visibility": null,
            "width": null
          }
        },
        "886798b473344addaf7107db904643b8": {
          "model_module": "@jupyter-widgets/controls",
          "model_name": "ProgressStyleModel",
          "model_module_version": "1.5.0",
          "state": {
            "_model_module": "@jupyter-widgets/controls",
            "_model_module_version": "1.5.0",
            "_model_name": "ProgressStyleModel",
            "_view_count": null,
            "_view_module": "@jupyter-widgets/base",
            "_view_module_version": "1.2.0",
            "_view_name": "StyleView",
            "bar_color": null,
            "description_width": ""
          }
        },
        "93f6998340cc4b1596e1d6eb5c6fd5a2": {
          "model_module": "@jupyter-widgets/base",
          "model_name": "LayoutModel",
          "model_module_version": "1.2.0",
          "state": {
            "_model_module": "@jupyter-widgets/base",
            "_model_module_version": "1.2.0",
            "_model_name": "LayoutModel",
            "_view_count": null,
            "_view_module": "@jupyter-widgets/base",
            "_view_module_version": "1.2.0",
            "_view_name": "LayoutView",
            "align_content": null,
            "align_items": null,
            "align_self": null,
            "border": null,
            "bottom": null,
            "display": null,
            "flex": null,
            "flex_flow": null,
            "grid_area": null,
            "grid_auto_columns": null,
            "grid_auto_flow": null,
            "grid_auto_rows": null,
            "grid_column": null,
            "grid_gap": null,
            "grid_row": null,
            "grid_template_areas": null,
            "grid_template_columns": null,
            "grid_template_rows": null,
            "height": null,
            "justify_content": null,
            "justify_items": null,
            "left": null,
            "margin": null,
            "max_height": null,
            "max_width": null,
            "min_height": null,
            "min_width": null,
            "object_fit": null,
            "object_position": null,
            "order": null,
            "overflow": null,
            "overflow_x": null,
            "overflow_y": null,
            "padding": null,
            "right": null,
            "top": null,
            "visibility": null,
            "width": null
          }
        },
        "020b8ac3197a4d258e544662479ce11f": {
          "model_module": "@jupyter-widgets/controls",
          "model_name": "DescriptionStyleModel",
          "model_module_version": "1.5.0",
          "state": {
            "_model_module": "@jupyter-widgets/controls",
            "_model_module_version": "1.5.0",
            "_model_name": "DescriptionStyleModel",
            "_view_count": null,
            "_view_module": "@jupyter-widgets/base",
            "_view_module_version": "1.2.0",
            "_view_name": "StyleView",
            "description_width": ""
          }
        },
        "767d42f0540548319f13f34ac61c71ca": {
          "model_module": "@jupyter-widgets/controls",
          "model_name": "HBoxModel",
          "model_module_version": "1.5.0",
          "state": {
            "_dom_classes": [],
            "_model_module": "@jupyter-widgets/controls",
            "_model_module_version": "1.5.0",
            "_model_name": "HBoxModel",
            "_view_count": null,
            "_view_module": "@jupyter-widgets/controls",
            "_view_module_version": "1.5.0",
            "_view_name": "HBoxView",
            "box_style": "",
            "children": [
              "IPY_MODEL_8bd89402f9ff40da929636b81175d77a",
              "IPY_MODEL_7612c48df91641d086693c51fe211b85",
              "IPY_MODEL_a48cb489ad60486ab21b1a9df94e4f32"
            ],
            "layout": "IPY_MODEL_1b98a7f02523471592bd970d34e1edcd"
          }
        },
        "8bd89402f9ff40da929636b81175d77a": {
          "model_module": "@jupyter-widgets/controls",
          "model_name": "HTMLModel",
          "model_module_version": "1.5.0",
          "state": {
            "_dom_classes": [],
            "_model_module": "@jupyter-widgets/controls",
            "_model_module_version": "1.5.0",
            "_model_name": "HTMLModel",
            "_view_count": null,
            "_view_module": "@jupyter-widgets/controls",
            "_view_module_version": "1.5.0",
            "_view_name": "HTMLView",
            "description": "",
            "description_tooltip": null,
            "layout": "IPY_MODEL_a09747329a06470b85aa44d862261f4a",
            "placeholder": "​",
            "style": "IPY_MODEL_cf2af92814804ff5a0d527cfeef8a09a",
            "value": "Downloading pytorch_model.bin: 100%"
          }
        },
        "7612c48df91641d086693c51fe211b85": {
          "model_module": "@jupyter-widgets/controls",
          "model_name": "FloatProgressModel",
          "model_module_version": "1.5.0",
          "state": {
            "_dom_classes": [],
            "_model_module": "@jupyter-widgets/controls",
            "_model_module_version": "1.5.0",
            "_model_name": "FloatProgressModel",
            "_view_count": null,
            "_view_module": "@jupyter-widgets/controls",
            "_view_module_version": "1.5.0",
            "_view_name": "ProgressView",
            "bar_style": "success",
            "description": "",
            "description_tooltip": null,
            "layout": "IPY_MODEL_5117546f89fc4e4b87ac8f3a1e828a4e",
            "max": 531146902,
            "min": 0,
            "orientation": "horizontal",
            "style": "IPY_MODEL_43a7cf3b29864e238d0f1478b1886858",
            "value": 531146902
          }
        },
        "a48cb489ad60486ab21b1a9df94e4f32": {
          "model_module": "@jupyter-widgets/controls",
          "model_name": "HTMLModel",
          "model_module_version": "1.5.0",
          "state": {
            "_dom_classes": [],
            "_model_module": "@jupyter-widgets/controls",
            "_model_module_version": "1.5.0",
            "_model_name": "HTMLModel",
            "_view_count": null,
            "_view_module": "@jupyter-widgets/controls",
            "_view_module_version": "1.5.0",
            "_view_name": "HTMLView",
            "description": "",
            "description_tooltip": null,
            "layout": "IPY_MODEL_4a312597a6844dba904a65fc4eec1063",
            "placeholder": "​",
            "style": "IPY_MODEL_d727a88af1774043a8b37aac2992e80d",
            "value": " 531M/531M [00:15&lt;00:00, 24.3MB/s]"
          }
        },
        "1b98a7f02523471592bd970d34e1edcd": {
          "model_module": "@jupyter-widgets/base",
          "model_name": "LayoutModel",
          "model_module_version": "1.2.0",
          "state": {
            "_model_module": "@jupyter-widgets/base",
            "_model_module_version": "1.2.0",
            "_model_name": "LayoutModel",
            "_view_count": null,
            "_view_module": "@jupyter-widgets/base",
            "_view_module_version": "1.2.0",
            "_view_name": "LayoutView",
            "align_content": null,
            "align_items": null,
            "align_self": null,
            "border": null,
            "bottom": null,
            "display": null,
            "flex": null,
            "flex_flow": null,
            "grid_area": null,
            "grid_auto_columns": null,
            "grid_auto_flow": null,
            "grid_auto_rows": null,
            "grid_column": null,
            "grid_gap": null,
            "grid_row": null,
            "grid_template_areas": null,
            "grid_template_columns": null,
            "grid_template_rows": null,
            "height": null,
            "justify_content": null,
            "justify_items": null,
            "left": null,
            "margin": null,
            "max_height": null,
            "max_width": null,
            "min_height": null,
            "min_width": null,
            "object_fit": null,
            "object_position": null,
            "order": null,
            "overflow": null,
            "overflow_x": null,
            "overflow_y": null,
            "padding": null,
            "right": null,
            "top": null,
            "visibility": null,
            "width": null
          }
        },
        "a09747329a06470b85aa44d862261f4a": {
          "model_module": "@jupyter-widgets/base",
          "model_name": "LayoutModel",
          "model_module_version": "1.2.0",
          "state": {
            "_model_module": "@jupyter-widgets/base",
            "_model_module_version": "1.2.0",
            "_model_name": "LayoutModel",
            "_view_count": null,
            "_view_module": "@jupyter-widgets/base",
            "_view_module_version": "1.2.0",
            "_view_name": "LayoutView",
            "align_content": null,
            "align_items": null,
            "align_self": null,
            "border": null,
            "bottom": null,
            "display": null,
            "flex": null,
            "flex_flow": null,
            "grid_area": null,
            "grid_auto_columns": null,
            "grid_auto_flow": null,
            "grid_auto_rows": null,
            "grid_column": null,
            "grid_gap": null,
            "grid_row": null,
            "grid_template_areas": null,
            "grid_template_columns": null,
            "grid_template_rows": null,
            "height": null,
            "justify_content": null,
            "justify_items": null,
            "left": null,
            "margin": null,
            "max_height": null,
            "max_width": null,
            "min_height": null,
            "min_width": null,
            "object_fit": null,
            "object_position": null,
            "order": null,
            "overflow": null,
            "overflow_x": null,
            "overflow_y": null,
            "padding": null,
            "right": null,
            "top": null,
            "visibility": null,
            "width": null
          }
        },
        "cf2af92814804ff5a0d527cfeef8a09a": {
          "model_module": "@jupyter-widgets/controls",
          "model_name": "DescriptionStyleModel",
          "model_module_version": "1.5.0",
          "state": {
            "_model_module": "@jupyter-widgets/controls",
            "_model_module_version": "1.5.0",
            "_model_name": "DescriptionStyleModel",
            "_view_count": null,
            "_view_module": "@jupyter-widgets/base",
            "_view_module_version": "1.2.0",
            "_view_name": "StyleView",
            "description_width": ""
          }
        },
        "5117546f89fc4e4b87ac8f3a1e828a4e": {
          "model_module": "@jupyter-widgets/base",
          "model_name": "LayoutModel",
          "model_module_version": "1.2.0",
          "state": {
            "_model_module": "@jupyter-widgets/base",
            "_model_module_version": "1.2.0",
            "_model_name": "LayoutModel",
            "_view_count": null,
            "_view_module": "@jupyter-widgets/base",
            "_view_module_version": "1.2.0",
            "_view_name": "LayoutView",
            "align_content": null,
            "align_items": null,
            "align_self": null,
            "border": null,
            "bottom": null,
            "display": null,
            "flex": null,
            "flex_flow": null,
            "grid_area": null,
            "grid_auto_columns": null,
            "grid_auto_flow": null,
            "grid_auto_rows": null,
            "grid_column": null,
            "grid_gap": null,
            "grid_row": null,
            "grid_template_areas": null,
            "grid_template_columns": null,
            "grid_template_rows": null,
            "height": null,
            "justify_content": null,
            "justify_items": null,
            "left": null,
            "margin": null,
            "max_height": null,
            "max_width": null,
            "min_height": null,
            "min_width": null,
            "object_fit": null,
            "object_position": null,
            "order": null,
            "overflow": null,
            "overflow_x": null,
            "overflow_y": null,
            "padding": null,
            "right": null,
            "top": null,
            "visibility": null,
            "width": null
          }
        },
        "43a7cf3b29864e238d0f1478b1886858": {
          "model_module": "@jupyter-widgets/controls",
          "model_name": "ProgressStyleModel",
          "model_module_version": "1.5.0",
          "state": {
            "_model_module": "@jupyter-widgets/controls",
            "_model_module_version": "1.5.0",
            "_model_name": "ProgressStyleModel",
            "_view_count": null,
            "_view_module": "@jupyter-widgets/base",
            "_view_module_version": "1.2.0",
            "_view_name": "StyleView",
            "bar_color": null,
            "description_width": ""
          }
        },
        "4a312597a6844dba904a65fc4eec1063": {
          "model_module": "@jupyter-widgets/base",
          "model_name": "LayoutModel",
          "model_module_version": "1.2.0",
          "state": {
            "_model_module": "@jupyter-widgets/base",
            "_model_module_version": "1.2.0",
            "_model_name": "LayoutModel",
            "_view_count": null,
            "_view_module": "@jupyter-widgets/base",
            "_view_module_version": "1.2.0",
            "_view_name": "LayoutView",
            "align_content": null,
            "align_items": null,
            "align_self": null,
            "border": null,
            "bottom": null,
            "display": null,
            "flex": null,
            "flex_flow": null,
            "grid_area": null,
            "grid_auto_columns": null,
            "grid_auto_flow": null,
            "grid_auto_rows": null,
            "grid_column": null,
            "grid_gap": null,
            "grid_row": null,
            "grid_template_areas": null,
            "grid_template_columns": null,
            "grid_template_rows": null,
            "height": null,
            "justify_content": null,
            "justify_items": null,
            "left": null,
            "margin": null,
            "max_height": null,
            "max_width": null,
            "min_height": null,
            "min_width": null,
            "object_fit": null,
            "object_position": null,
            "order": null,
            "overflow": null,
            "overflow_x": null,
            "overflow_y": null,
            "padding": null,
            "right": null,
            "top": null,
            "visibility": null,
            "width": null
          }
        },
        "d727a88af1774043a8b37aac2992e80d": {
          "model_module": "@jupyter-widgets/controls",
          "model_name": "DescriptionStyleModel",
          "model_module_version": "1.5.0",
          "state": {
            "_model_module": "@jupyter-widgets/controls",
            "_model_module_version": "1.5.0",
            "_model_name": "DescriptionStyleModel",
            "_view_count": null,
            "_view_module": "@jupyter-widgets/base",
            "_view_module_version": "1.2.0",
            "_view_name": "StyleView",
            "description_width": ""
          }
        }
      }
    }
  },
  "nbformat": 4,
  "nbformat_minor": 0
}