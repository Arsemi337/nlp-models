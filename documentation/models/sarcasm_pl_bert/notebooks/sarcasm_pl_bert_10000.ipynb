{
  "cells": [
    {
      "cell_type": "code",
      "execution_count": 38,
      "outputs": [],
      "source": [
        "import os\n",
        "\n",
        "import pandas as pd\n",
        "import tensorflow as tf\n",
        "import matplotlib.pyplot as plt\n",
        "import numpy as np"
      ],
      "metadata": {
        "ExecuteTime": {
          "end_time": "2023-05-30T17:58:50.297894300Z",
          "start_time": "2023-05-30T17:58:47.834357100Z"
        },
        "id": "GItKokk78mFR"
      }
    },
    {
      "cell_type": "code",
      "execution_count": 42,
      "outputs": [
        {
          "output_type": "execute_result",
          "data": {
            "text/plain": [
              "       is_sarcastic                                           headline  \\\n",
              "0                 1  thirtysomething scientists unveil doomsday clo...   \n",
              "1                 0  dem rep. totally nails why congress is falling...   \n",
              "2                 0  eat your veggies: 9 deliciously different recipes   \n",
              "3                 1  inclement weather prevents liar from getting t...   \n",
              "4                 1  mother comes pretty close to using word 'strea...   \n",
              "...             ...                                                ...   \n",
              "28614             1       jews to celebrate rosh hashasha or something   \n",
              "28615             1  internal affairs investigator disappointed con...   \n",
              "28616             0  the most beautiful acceptance speech this week...   \n",
              "28617             1  mars probe destroyed by orbiting spielberg-gat...   \n",
              "28618             1                 dad clarifies this not a food stop   \n",
              "\n",
              "                                            article_link  \\\n",
              "0      https://www.theonion.com/thirtysomething-scien...   \n",
              "1      https://www.huffingtonpost.com/entry/donna-edw...   \n",
              "2      https://www.huffingtonpost.com/entry/eat-your-...   \n",
              "3      https://local.theonion.com/inclement-weather-p...   \n",
              "4      https://www.theonion.com/mother-comes-pretty-c...   \n",
              "...                                                  ...   \n",
              "28614  https://www.theonion.com/jews-to-celebrate-ros...   \n",
              "28615  https://local.theonion.com/internal-affairs-in...   \n",
              "28616  https://www.huffingtonpost.com/entry/andrew-ah...   \n",
              "28617  https://www.theonion.com/mars-probe-destroyed-...   \n",
              "28618  https://www.theonion.com/dad-clarifies-this-no...   \n",
              "\n",
              "                                             headline_pl  \n",
              "0      Naukowcy z lat trzydziestych odkrywają zegar z...  \n",
              "1      Reprezentantka rządu USA wyjaśnia, dlaczego Ko...  \n",
              "2              Jedz warzywa: 9 pysznie różnych przepisów  \n",
              "3      Nieprzyjemna pogoda uniemożliwia kłamcy dotarc...  \n",
              "4      matka jest bardzo blisko użycia słowa \"streami...  \n",
              "...                                                  ...  \n",
              "28614               Żydzi świętują Rosh Hashasha czy coś  \n",
              "28615  Śledczy spraw wewnętrznych rozczarowany spiski...  \n",
              "28616  Najpiękniejsza przemowa akceptacyjna w tym tyg...  \n",
              "28617  Mars zniszczony przez pałac kosmiczny na orbic...  \n",
              "28618  Tata wyjaśnia, że to nie jest przerwa na jedzenie  \n",
              "\n",
              "[28619 rows x 4 columns]"
            ],
            "text/html": [
              "\n",
              "  <div id=\"df-aa111f50-ecca-4f24-9240-be78386784c6\">\n",
              "    <div class=\"colab-df-container\">\n",
              "      <div>\n",
              "<style scoped>\n",
              "    .dataframe tbody tr th:only-of-type {\n",
              "        vertical-align: middle;\n",
              "    }\n",
              "\n",
              "    .dataframe tbody tr th {\n",
              "        vertical-align: top;\n",
              "    }\n",
              "\n",
              "    .dataframe thead th {\n",
              "        text-align: right;\n",
              "    }\n",
              "</style>\n",
              "<table border=\"1\" class=\"dataframe\">\n",
              "  <thead>\n",
              "    <tr style=\"text-align: right;\">\n",
              "      <th></th>\n",
              "      <th>is_sarcastic</th>\n",
              "      <th>headline</th>\n",
              "      <th>article_link</th>\n",
              "      <th>headline_pl</th>\n",
              "    </tr>\n",
              "  </thead>\n",
              "  <tbody>\n",
              "    <tr>\n",
              "      <th>0</th>\n",
              "      <td>1</td>\n",
              "      <td>thirtysomething scientists unveil doomsday clo...</td>\n",
              "      <td>https://www.theonion.com/thirtysomething-scien...</td>\n",
              "      <td>Naukowcy z lat trzydziestych odkrywają zegar z...</td>\n",
              "    </tr>\n",
              "    <tr>\n",
              "      <th>1</th>\n",
              "      <td>0</td>\n",
              "      <td>dem rep. totally nails why congress is falling...</td>\n",
              "      <td>https://www.huffingtonpost.com/entry/donna-edw...</td>\n",
              "      <td>Reprezentantka rządu USA wyjaśnia, dlaczego Ko...</td>\n",
              "    </tr>\n",
              "    <tr>\n",
              "      <th>2</th>\n",
              "      <td>0</td>\n",
              "      <td>eat your veggies: 9 deliciously different recipes</td>\n",
              "      <td>https://www.huffingtonpost.com/entry/eat-your-...</td>\n",
              "      <td>Jedz warzywa: 9 pysznie różnych przepisów</td>\n",
              "    </tr>\n",
              "    <tr>\n",
              "      <th>3</th>\n",
              "      <td>1</td>\n",
              "      <td>inclement weather prevents liar from getting t...</td>\n",
              "      <td>https://local.theonion.com/inclement-weather-p...</td>\n",
              "      <td>Nieprzyjemna pogoda uniemożliwia kłamcy dotarc...</td>\n",
              "    </tr>\n",
              "    <tr>\n",
              "      <th>4</th>\n",
              "      <td>1</td>\n",
              "      <td>mother comes pretty close to using word 'strea...</td>\n",
              "      <td>https://www.theonion.com/mother-comes-pretty-c...</td>\n",
              "      <td>matka jest bardzo blisko użycia słowa \"streami...</td>\n",
              "    </tr>\n",
              "    <tr>\n",
              "      <th>...</th>\n",
              "      <td>...</td>\n",
              "      <td>...</td>\n",
              "      <td>...</td>\n",
              "      <td>...</td>\n",
              "    </tr>\n",
              "    <tr>\n",
              "      <th>28614</th>\n",
              "      <td>1</td>\n",
              "      <td>jews to celebrate rosh hashasha or something</td>\n",
              "      <td>https://www.theonion.com/jews-to-celebrate-ros...</td>\n",
              "      <td>Żydzi świętują Rosh Hashasha czy coś</td>\n",
              "    </tr>\n",
              "    <tr>\n",
              "      <th>28615</th>\n",
              "      <td>1</td>\n",
              "      <td>internal affairs investigator disappointed con...</td>\n",
              "      <td>https://local.theonion.com/internal-affairs-in...</td>\n",
              "      <td>Śledczy spraw wewnętrznych rozczarowany spiski...</td>\n",
              "    </tr>\n",
              "    <tr>\n",
              "      <th>28616</th>\n",
              "      <td>0</td>\n",
              "      <td>the most beautiful acceptance speech this week...</td>\n",
              "      <td>https://www.huffingtonpost.com/entry/andrew-ah...</td>\n",
              "      <td>Najpiękniejsza przemowa akceptacyjna w tym tyg...</td>\n",
              "    </tr>\n",
              "    <tr>\n",
              "      <th>28617</th>\n",
              "      <td>1</td>\n",
              "      <td>mars probe destroyed by orbiting spielberg-gat...</td>\n",
              "      <td>https://www.theonion.com/mars-probe-destroyed-...</td>\n",
              "      <td>Mars zniszczony przez pałac kosmiczny na orbic...</td>\n",
              "    </tr>\n",
              "    <tr>\n",
              "      <th>28618</th>\n",
              "      <td>1</td>\n",
              "      <td>dad clarifies this not a food stop</td>\n",
              "      <td>https://www.theonion.com/dad-clarifies-this-no...</td>\n",
              "      <td>Tata wyjaśnia, że to nie jest przerwa na jedzenie</td>\n",
              "    </tr>\n",
              "  </tbody>\n",
              "</table>\n",
              "<p>28619 rows × 4 columns</p>\n",
              "</div>\n",
              "      <button class=\"colab-df-convert\" onclick=\"convertToInteractive('df-aa111f50-ecca-4f24-9240-be78386784c6')\"\n",
              "              title=\"Convert this dataframe to an interactive table.\"\n",
              "              style=\"display:none;\">\n",
              "        \n",
              "  <svg xmlns=\"http://www.w3.org/2000/svg\" height=\"24px\"viewBox=\"0 0 24 24\"\n",
              "       width=\"24px\">\n",
              "    <path d=\"M0 0h24v24H0V0z\" fill=\"none\"/>\n",
              "    <path d=\"M18.56 5.44l.94 2.06.94-2.06 2.06-.94-2.06-.94-.94-2.06-.94 2.06-2.06.94zm-11 1L8.5 8.5l.94-2.06 2.06-.94-2.06-.94L8.5 2.5l-.94 2.06-2.06.94zm10 10l.94 2.06.94-2.06 2.06-.94-2.06-.94-.94-2.06-.94 2.06-2.06.94z\"/><path d=\"M17.41 7.96l-1.37-1.37c-.4-.4-.92-.59-1.43-.59-.52 0-1.04.2-1.43.59L10.3 9.45l-7.72 7.72c-.78.78-.78 2.05 0 2.83L4 21.41c.39.39.9.59 1.41.59.51 0 1.02-.2 1.41-.59l7.78-7.78 2.81-2.81c.8-.78.8-2.07 0-2.86zM5.41 20L4 18.59l7.72-7.72 1.47 1.35L5.41 20z\"/>\n",
              "  </svg>\n",
              "      </button>\n",
              "      \n",
              "  <style>\n",
              "    .colab-df-container {\n",
              "      display:flex;\n",
              "      flex-wrap:wrap;\n",
              "      gap: 12px;\n",
              "    }\n",
              "\n",
              "    .colab-df-convert {\n",
              "      background-color: #E8F0FE;\n",
              "      border: none;\n",
              "      border-radius: 50%;\n",
              "      cursor: pointer;\n",
              "      display: none;\n",
              "      fill: #1967D2;\n",
              "      height: 32px;\n",
              "      padding: 0 0 0 0;\n",
              "      width: 32px;\n",
              "    }\n",
              "\n",
              "    .colab-df-convert:hover {\n",
              "      background-color: #E2EBFA;\n",
              "      box-shadow: 0px 1px 2px rgba(60, 64, 67, 0.3), 0px 1px 3px 1px rgba(60, 64, 67, 0.15);\n",
              "      fill: #174EA6;\n",
              "    }\n",
              "\n",
              "    [theme=dark] .colab-df-convert {\n",
              "      background-color: #3B4455;\n",
              "      fill: #D2E3FC;\n",
              "    }\n",
              "\n",
              "    [theme=dark] .colab-df-convert:hover {\n",
              "      background-color: #434B5C;\n",
              "      box-shadow: 0px 1px 3px 1px rgba(0, 0, 0, 0.15);\n",
              "      filter: drop-shadow(0px 1px 2px rgba(0, 0, 0, 0.3));\n",
              "      fill: #FFFFFF;\n",
              "    }\n",
              "  </style>\n",
              "\n",
              "      <script>\n",
              "        const buttonEl =\n",
              "          document.querySelector('#df-aa111f50-ecca-4f24-9240-be78386784c6 button.colab-df-convert');\n",
              "        buttonEl.style.display =\n",
              "          google.colab.kernel.accessAllowed ? 'block' : 'none';\n",
              "\n",
              "        async function convertToInteractive(key) {\n",
              "          const element = document.querySelector('#df-aa111f50-ecca-4f24-9240-be78386784c6');\n",
              "          const dataTable =\n",
              "            await google.colab.kernel.invokeFunction('convertToInteractive',\n",
              "                                                     [key], {});\n",
              "          if (!dataTable) return;\n",
              "\n",
              "          const docLinkHtml = 'Like what you see? Visit the ' +\n",
              "            '<a target=\"_blank\" href=https://colab.research.google.com/notebooks/data_table.ipynb>data table notebook</a>'\n",
              "            + ' to learn more about interactive tables.';\n",
              "          element.innerHTML = '';\n",
              "          dataTable['output_type'] = 'display_data';\n",
              "          await google.colab.output.renderOutput(dataTable, element);\n",
              "          const docLink = document.createElement('div');\n",
              "          docLink.innerHTML = docLinkHtml;\n",
              "          element.appendChild(docLink);\n",
              "        }\n",
              "      </script>\n",
              "    </div>\n",
              "  </div>\n",
              "  "
            ]
          },
          "metadata": {},
          "execution_count": 42
        }
      ],
      "source": [
        "df = pd.read_json('data/translated/sarcasm/sarcasm_headlines_dataset_pl.json')\n",
        "df"
      ],
      "metadata": {
        "ExecuteTime": {
          "end_time": "2023-05-30T17:58:50.371636900Z",
          "start_time": "2023-05-30T17:58:50.293378100Z"
        },
        "colab": {
          "base_uri": "https://localhost:8080/",
          "height": 424
        },
        "id": "rXr5Hw_U8mFT",
        "outputId": "49cbf561-ebcb-4382-9bda-74795486df38"
      }
    },
    {
      "cell_type": "code",
      "execution_count": 43,
      "outputs": [
        {
          "output_type": "execute_result",
          "data": {
            "text/plain": [
              "      is_sarcastic                                        headline_pl\n",
              "0                1  Naukowcy z lat trzydziestych odkrywają zegar z...\n",
              "1                0  Reprezentantka rządu USA wyjaśnia, dlaczego Ko...\n",
              "2                0          Jedz warzywa: 9 pysznie różnych przepisów\n",
              "3                1  Nieprzyjemna pogoda uniemożliwia kłamcy dotarc...\n",
              "4                1  matka jest bardzo blisko użycia słowa \"streami...\n",
              "...            ...                                                ...\n",
              "9995             0         Posłuchajcie America: A Huffpost Road Trip\n",
              "9996             0     Premiera wideo z \"White Christmas\" Ginger Minj\n",
              "9997             0  Przewodnik pragmatyka, aby wyjść silniejszym p...\n",
              "9998             1  Misje „wielkiej kradzieży auto vs” skupiają si...\n",
              "9999             0             Test na syndrom chronicznego zmęczenia\n",
              "\n",
              "[10000 rows x 2 columns]"
            ],
            "text/html": [
              "\n",
              "  <div id=\"df-085c8233-17f2-4651-813c-0b9d4809640c\">\n",
              "    <div class=\"colab-df-container\">\n",
              "      <div>\n",
              "<style scoped>\n",
              "    .dataframe tbody tr th:only-of-type {\n",
              "        vertical-align: middle;\n",
              "    }\n",
              "\n",
              "    .dataframe tbody tr th {\n",
              "        vertical-align: top;\n",
              "    }\n",
              "\n",
              "    .dataframe thead th {\n",
              "        text-align: right;\n",
              "    }\n",
              "</style>\n",
              "<table border=\"1\" class=\"dataframe\">\n",
              "  <thead>\n",
              "    <tr style=\"text-align: right;\">\n",
              "      <th></th>\n",
              "      <th>is_sarcastic</th>\n",
              "      <th>headline_pl</th>\n",
              "    </tr>\n",
              "  </thead>\n",
              "  <tbody>\n",
              "    <tr>\n",
              "      <th>0</th>\n",
              "      <td>1</td>\n",
              "      <td>Naukowcy z lat trzydziestych odkrywają zegar z...</td>\n",
              "    </tr>\n",
              "    <tr>\n",
              "      <th>1</th>\n",
              "      <td>0</td>\n",
              "      <td>Reprezentantka rządu USA wyjaśnia, dlaczego Ko...</td>\n",
              "    </tr>\n",
              "    <tr>\n",
              "      <th>2</th>\n",
              "      <td>0</td>\n",
              "      <td>Jedz warzywa: 9 pysznie różnych przepisów</td>\n",
              "    </tr>\n",
              "    <tr>\n",
              "      <th>3</th>\n",
              "      <td>1</td>\n",
              "      <td>Nieprzyjemna pogoda uniemożliwia kłamcy dotarc...</td>\n",
              "    </tr>\n",
              "    <tr>\n",
              "      <th>4</th>\n",
              "      <td>1</td>\n",
              "      <td>matka jest bardzo blisko użycia słowa \"streami...</td>\n",
              "    </tr>\n",
              "    <tr>\n",
              "      <th>...</th>\n",
              "      <td>...</td>\n",
              "      <td>...</td>\n",
              "    </tr>\n",
              "    <tr>\n",
              "      <th>9995</th>\n",
              "      <td>0</td>\n",
              "      <td>Posłuchajcie America: A Huffpost Road Trip</td>\n",
              "    </tr>\n",
              "    <tr>\n",
              "      <th>9996</th>\n",
              "      <td>0</td>\n",
              "      <td>Premiera wideo z \"White Christmas\" Ginger Minj</td>\n",
              "    </tr>\n",
              "    <tr>\n",
              "      <th>9997</th>\n",
              "      <td>0</td>\n",
              "      <td>Przewodnik pragmatyka, aby wyjść silniejszym p...</td>\n",
              "    </tr>\n",
              "    <tr>\n",
              "      <th>9998</th>\n",
              "      <td>1</td>\n",
              "      <td>Misje „wielkiej kradzieży auto vs” skupiają si...</td>\n",
              "    </tr>\n",
              "    <tr>\n",
              "      <th>9999</th>\n",
              "      <td>0</td>\n",
              "      <td>Test na syndrom chronicznego zmęczenia</td>\n",
              "    </tr>\n",
              "  </tbody>\n",
              "</table>\n",
              "<p>10000 rows × 2 columns</p>\n",
              "</div>\n",
              "      <button class=\"colab-df-convert\" onclick=\"convertToInteractive('df-085c8233-17f2-4651-813c-0b9d4809640c')\"\n",
              "              title=\"Convert this dataframe to an interactive table.\"\n",
              "              style=\"display:none;\">\n",
              "        \n",
              "  <svg xmlns=\"http://www.w3.org/2000/svg\" height=\"24px\"viewBox=\"0 0 24 24\"\n",
              "       width=\"24px\">\n",
              "    <path d=\"M0 0h24v24H0V0z\" fill=\"none\"/>\n",
              "    <path d=\"M18.56 5.44l.94 2.06.94-2.06 2.06-.94-2.06-.94-.94-2.06-.94 2.06-2.06.94zm-11 1L8.5 8.5l.94-2.06 2.06-.94-2.06-.94L8.5 2.5l-.94 2.06-2.06.94zm10 10l.94 2.06.94-2.06 2.06-.94-2.06-.94-.94-2.06-.94 2.06-2.06.94z\"/><path d=\"M17.41 7.96l-1.37-1.37c-.4-.4-.92-.59-1.43-.59-.52 0-1.04.2-1.43.59L10.3 9.45l-7.72 7.72c-.78.78-.78 2.05 0 2.83L4 21.41c.39.39.9.59 1.41.59.51 0 1.02-.2 1.41-.59l7.78-7.78 2.81-2.81c.8-.78.8-2.07 0-2.86zM5.41 20L4 18.59l7.72-7.72 1.47 1.35L5.41 20z\"/>\n",
              "  </svg>\n",
              "      </button>\n",
              "      \n",
              "  <style>\n",
              "    .colab-df-container {\n",
              "      display:flex;\n",
              "      flex-wrap:wrap;\n",
              "      gap: 12px;\n",
              "    }\n",
              "\n",
              "    .colab-df-convert {\n",
              "      background-color: #E8F0FE;\n",
              "      border: none;\n",
              "      border-radius: 50%;\n",
              "      cursor: pointer;\n",
              "      display: none;\n",
              "      fill: #1967D2;\n",
              "      height: 32px;\n",
              "      padding: 0 0 0 0;\n",
              "      width: 32px;\n",
              "    }\n",
              "\n",
              "    .colab-df-convert:hover {\n",
              "      background-color: #E2EBFA;\n",
              "      box-shadow: 0px 1px 2px rgba(60, 64, 67, 0.3), 0px 1px 3px 1px rgba(60, 64, 67, 0.15);\n",
              "      fill: #174EA6;\n",
              "    }\n",
              "\n",
              "    [theme=dark] .colab-df-convert {\n",
              "      background-color: #3B4455;\n",
              "      fill: #D2E3FC;\n",
              "    }\n",
              "\n",
              "    [theme=dark] .colab-df-convert:hover {\n",
              "      background-color: #434B5C;\n",
              "      box-shadow: 0px 1px 3px 1px rgba(0, 0, 0, 0.15);\n",
              "      filter: drop-shadow(0px 1px 2px rgba(0, 0, 0, 0.3));\n",
              "      fill: #FFFFFF;\n",
              "    }\n",
              "  </style>\n",
              "\n",
              "      <script>\n",
              "        const buttonEl =\n",
              "          document.querySelector('#df-085c8233-17f2-4651-813c-0b9d4809640c button.colab-df-convert');\n",
              "        buttonEl.style.display =\n",
              "          google.colab.kernel.accessAllowed ? 'block' : 'none';\n",
              "\n",
              "        async function convertToInteractive(key) {\n",
              "          const element = document.querySelector('#df-085c8233-17f2-4651-813c-0b9d4809640c');\n",
              "          const dataTable =\n",
              "            await google.colab.kernel.invokeFunction('convertToInteractive',\n",
              "                                                     [key], {});\n",
              "          if (!dataTable) return;\n",
              "\n",
              "          const docLinkHtml = 'Like what you see? Visit the ' +\n",
              "            '<a target=\"_blank\" href=https://colab.research.google.com/notebooks/data_table.ipynb>data table notebook</a>'\n",
              "            + ' to learn more about interactive tables.';\n",
              "          element.innerHTML = '';\n",
              "          dataTable['output_type'] = 'display_data';\n",
              "          await google.colab.output.renderOutput(dataTable, element);\n",
              "          const docLink = document.createElement('div');\n",
              "          docLink.innerHTML = docLinkHtml;\n",
              "          element.appendChild(docLink);\n",
              "        }\n",
              "      </script>\n",
              "    </div>\n",
              "  </div>\n",
              "  "
            ]
          },
          "metadata": {},
          "execution_count": 43
        }
      ],
      "source": [
        "df = df.drop(columns=['article_link', 'headline'])\n",
        "df = df.iloc[:10000]\n",
        "df"
      ],
      "metadata": {
        "ExecuteTime": {
          "end_time": "2023-05-30T17:58:50.385278800Z",
          "start_time": "2023-05-30T17:58:50.370632400Z"
        },
        "colab": {
          "base_uri": "https://localhost:8080/",
          "height": 424
        },
        "id": "9xlZYbUP8mFT",
        "outputId": "1a2c29c7-3da6-4c5e-b03e-d73cafb0ca0d"
      }
    },
    {
      "cell_type": "code",
      "execution_count": 44,
      "outputs": [
        {
          "output_type": "display_data",
          "data": {
            "text/plain": [
              "<Figure size 640x480 with 1 Axes>"
            ],
            "image/png": "[encoded data removed]"
          },
          "metadata": {}
        }
      ],
      "source": [
        "data = df[\"is_sarcastic\"]\n",
        "data.value_counts().plot.bar()\n",
        "plt.show()"
      ],
      "metadata": {
        "ExecuteTime": {
          "end_time": "2023-05-30T17:58:50.504282300Z",
          "start_time": "2023-05-30T17:58:50.385278800Z"
        },
        "colab": {
          "base_uri": "https://localhost:8080/",
          "height": 425
        },
        "id": "eqtKrp2f8mFU",
        "outputId": "a525e5bf-08de-4b1b-fe4c-8b71c7426c1b"
      }
    },
    {
      "cell_type": "code",
      "execution_count": null,
      "outputs": [],
      "source": [
        "!pip install datasets\n",
        "from datasets import Dataset\n",
        "\n",
        "raw_dataset = Dataset.from_pandas(df).remove_columns(\"__index_level_0__\")\n",
        "raw_dataset"
      ],
      "metadata": {
        "ExecuteTime": {
          "end_time": "2023-05-30T17:58:50.960366500Z",
          "start_time": "2023-05-30T17:58:50.499145300Z"
        },
        "id": "cZg3Mge18mFU"
      }
    },
    {
      "cell_type": "code",
      "execution_count": null,
      "outputs": [],
      "source": [
        "!pip install transformers\n",
        "from transformers import AutoTokenizer\n",
        "\n",
        "checkpoint = \"dkleczek/bert-base-polish-uncased-v1\"\n",
        "tokenizer = AutoTokenizer.from_pretrained(checkpoint, model_max_length=512)"
      ],
      "metadata": {
        "ExecuteTime": {
          "end_time": "2023-05-30T17:58:51.871400300Z",
          "start_time": "2023-05-30T17:58:50.949861200Z"
        },
        "id": "PwgZ7i5M8mFU"
      }
    },
    {
      "cell_type": "code",
      "execution_count": 47,
      "outputs": [
        {
          "output_type": "display_data",
          "data": {
            "text/plain": [
              "Map:   0%|          | 0/10000 [00:00<?, ? examples/s]"
            ],
            "application/vnd.jupyter.widget-view+json": {
              "version_major": 2,
              "version_minor": 0,
              "model_id": "de0385b9a2a044d69b7bce6ede0a33b0"
            }
          },
          "metadata": {}
        }
      ],
      "source": [
        "def tokenize_function(example):\n",
        "    return tokenizer(example[\"headline_pl\"], truncation=True)\n",
        "\n",
        "\n",
        "tokenized_dataset = raw_dataset.map(tokenize_function, batched=True)"
      ],
      "metadata": {
        "ExecuteTime": {
          "end_time": "2023-05-30T17:58:52.510590400Z",
          "start_time": "2023-05-30T17:58:51.872401600Z"
        },
        "colab": {
          "base_uri": "https://localhost:8080/",
          "height": 17,
          "referenced_widgets": [
            "de0385b9a2a044d69b7bce6ede0a33b0",
            "8fd36a5468c94fcbbe01b44a6f23efc3",
            "a572d0582bad4b94bcddb85e6d380c29",
            "7070ca4d52514aa28fcec21486ce4938",
            "86ea9e97311a40c9a5f9404af000d0c4",
            "af13c9a051db42f981aa5f17047aa4ff",
            "e2b67dfc541049c9959ac15eac7af0fa",
            "da459c7075784896ba42550e898fa887",
            "3629a6950c844167b3f6dfba6253c755",
            "6b399b902997473997ea6b3062532a53",
            "2db98d8f87714d30877885d12d861290"
          ]
        },
        "id": "OxhTARSg8mFU",
        "outputId": "1bbb9dc8-a8cf-4ee0-8c37-209c721c37da"
      }
    },
    {
      "cell_type": "code",
      "execution_count": 48,
      "outputs": [],
      "source": [
        "# Train set: 80%, Validation set: 10%, Test set: 10%\n",
        "split_train_val_and_test_dataset = tokenized_dataset.train_test_split(train_size=0.8)\n",
        "split_val_test_dataset = split_train_val_and_test_dataset[\"test\"].train_test_split(test_size=0.5)\n",
        "\n",
        "tokenized_train_dataset = split_train_val_and_test_dataset[\"train\"]\n",
        "tokenized_val_dataset = split_val_test_dataset[\"train\"]\n",
        "tokenized_test_dataset = split_val_test_dataset[\"test\"]"
      ],
      "metadata": {
        "ExecuteTime": {
          "end_time": "2023-05-30T17:58:52.527978100Z",
          "start_time": "2023-05-30T17:58:52.514100700Z"
        },
        "id": "temaWg6X8mFU"
      }
    },
    {
      "cell_type": "code",
      "execution_count": 49,
      "outputs": [
        {
          "output_type": "stream",
          "name": "stderr",
          "text": [
            "/usr/local/lib/python3.10/dist-packages/datasets/arrow_dataset.py:388: FutureWarning: The output of `to_tf_dataset` will change when a passing single element list for `labels` or `columns` in the next datasets version. To return a tuple structure rather than dict, pass a single string.\n",
            "Old behaviour: columns=['a'], labels=['labels'] -> (tf.Tensor, tf.Tensor)  \n",
            "             : columns='a', labels='labels' -> (tf.Tensor, tf.Tensor)  \n",
            "New behaviour: columns=['a'],labels=['labels'] -> ({'a': tf.Tensor}, {'labels': tf.Tensor})  \n",
            "             : columns='a', labels='labels' -> (tf.Tensor, tf.Tensor) \n",
            "  warnings.warn(\n",
            "You're using a BertTokenizerFast tokenizer. Please note that with a fast tokenizer, using the `__call__` method is faster than using a method to encode the text followed by a call to the `pad` method to get a padded encoding.\n"
          ]
        }
      ],
      "source": [
        "from transformers import DataCollatorWithPadding\n",
        "\n",
        "batch_size = 8\n",
        "\n",
        "\n",
        "def convert_to_tf_dataset(hf_dataset, collator, batch_size=batch_size, shuffle=False):\n",
        "    return hf_dataset.to_tf_dataset(\n",
        "        columns=[\"attention_mask\", \"input_ids\", \"token_type_ids\"],\n",
        "        label_cols=[\"is_sarcastic\"],\n",
        "        collate_fn=collator,\n",
        "        shuffle=shuffle,\n",
        "        batch_size=batch_size,\n",
        "    )\n",
        "\n",
        "\n",
        "data_collator = DataCollatorWithPadding(tokenizer=tokenizer, return_tensors=\"tf\")\n",
        "\n",
        "tf_train_dataset = convert_to_tf_dataset(hf_dataset=tokenized_train_dataset, collator=data_collator)\n",
        "tf_val_dataset = convert_to_tf_dataset(hf_dataset=tokenized_val_dataset, collator=data_collator)\n",
        "tf_test_dataset = convert_to_tf_dataset(hf_dataset=tokenized_test_dataset, collator=data_collator)"
      ],
      "metadata": {
        "ExecuteTime": {
          "end_time": "2023-05-30T17:58:54.161101300Z",
          "start_time": "2023-05-30T17:58:52.527978100Z"
        },
        "colab": {
          "base_uri": "https://localhost:8080/"
        },
        "id": "B0T-CfBm8mFV",
        "outputId": "3ec2f964-623f-43da-900d-2f678a92da8a"
      }
    },
    {
      "cell_type": "code",
      "execution_count": 50,
      "outputs": [],
      "source": [
        "import sys\n",
        "\n",
        "import Constants\n",
        "\n",
        "# Callbacks\n",
        "training_number = 2\n",
        "model_name = \"sarcasm_pl_bert\"\n",
        "training_folder = f\"training_{training_number}\"\n",
        "checkpoint_filename = \"cp-{epoch:04d}.ckpt\"\n",
        "training_path = os.path.join(Constants.TRAINING_CHECKPOINTS_PATH, model_name, training_folder)\n",
        "checkpoint_path = os.path.join(training_path, checkpoint_filename)\n",
        "checkpoint_cb = tf.keras.callbacks.ModelCheckpoint(checkpoint_path, verbose=1, save_weights_only=True)\n",
        "\n",
        "early_stop_cb = tf.keras.callbacks.EarlyStopping(patience=3)"
      ],
      "metadata": {
        "ExecuteTime": {
          "end_time": "2023-05-30T17:58:54.425209900Z",
          "start_time": "2023-05-30T17:58:54.164398700Z"
        },
        "id": "X-_H3lKc8mFV"
      }
    },
    {
      "cell_type": "code",
      "execution_count": 51,
      "outputs": [
        {
          "output_type": "execute_result",
          "data": {
            "text/plain": [
              "'../../training_checkpoints/sarcasm_pl_bert/training_2/cp-{epoch:04d}.ckpt'"
            ],
            "application/vnd.google.colaboratory.intrinsic+json": {
              "type": "string"
            }
          },
          "metadata": {},
          "execution_count": 51
        }
      ],
      "source": [
        "checkpoint_path"
      ],
      "metadata": {
        "ExecuteTime": {
          "end_time": "2023-05-30T17:58:54.442222800Z",
          "start_time": "2023-05-30T17:58:54.426210500Z"
        },
        "colab": {
          "base_uri": "https://localhost:8080/",
          "height": 35
        },
        "id": "lfpB_kNe8mFV",
        "outputId": "fff1af03-2bb3-4502-a764-11920c20673a"
      }
    },
    {
      "cell_type": "code",
      "execution_count": 52,
      "outputs": [],
      "source": [
        "from tensorflow.keras.optimizers.schedules import PolynomialDecay\n",
        "from tensorflow.keras.optimizers import Adam\n",
        "\n",
        "num_epochs = 10\n",
        "# The number of training steps is the number of samples in the dataset, divided by the batch size then multiplied\n",
        "# by the total number of epochs. Note that the tf_train_dataset here is a batched tf.data.Dataset,\n",
        "# not the original Hugging Face Dataset, so its len() is already num_samples // batch_size.\n",
        "num_train_steps = len(tf_train_dataset) * num_epochs\n",
        "lr_scheduler = PolynomialDecay(\n",
        "    initial_learning_rate=5e-5, end_learning_rate=0.0, decay_steps=num_train_steps\n",
        ")\n",
        "\n",
        "optimizer = Adam(learning_rate=lr_scheduler)"
      ],
      "metadata": {
        "ExecuteTime": {
          "end_time": "2023-05-30T17:58:54.484470200Z",
          "start_time": "2023-05-30T17:58:54.444280400Z"
        },
        "id": "OvmRG3sH8mFW"
      }
    },
    {
      "cell_type": "code",
      "execution_count": 54,
      "outputs": [
        {
          "output_type": "stream",
          "name": "stderr",
          "text": [
            "All PyTorch model weights were used when initializing TFBertForSequenceClassification.\n",
            "\n",
            "Some weights or buffers of the TF 2.0 model TFBertForSequenceClassification were not initialized from the PyTorch model and are newly initialized: ['classifier.weight', 'classifier.bias']\n",
            "You should probably TRAIN this model on a down-stream task to be able to use it for predictions and inference.\n"
          ]
        }
      ],
      "source": [
        "from transformers import TFAutoModelForSequenceClassification\n",
        "\n",
        "model = TFAutoModelForSequenceClassification.from_pretrained(checkpoint, num_labels=2, from_pt=True)"
      ],
      "metadata": {
        "ExecuteTime": {
          "end_time": "2023-05-30T17:58:56.590115800Z",
          "start_time": "2023-05-30T17:58:54.457305700Z"
        },
        "colab": {
          "base_uri": "https://localhost:8080/"
        },
        "id": "shti1Idr8mFW",
        "outputId": "d147d010-bdc7-46fa-909c-dbb777aac0ec"
      }
    },
    {
      "cell_type": "code",
      "execution_count": 55,
      "outputs": [],
      "source": [
        "# Compile\n",
        "loss = tf.keras.losses.SparseCategoricalCrossentropy(from_logits=True)\n",
        "metrics = [\"accuracy\"]\n",
        "model.compile(optimizer=optimizer, loss=loss, metrics=metrics)"
      ],
      "metadata": {
        "ExecuteTime": {
          "end_time": "2023-05-30T17:58:56.599624800Z",
          "start_time": "2023-05-30T17:58:56.563096600Z"
        },
        "id": "wrFX7r608mFW"
      }
    },
    {
      "cell_type": "code",
      "execution_count": 56,
      "outputs": [
        {
          "output_type": "stream",
          "name": "stdout",
          "text": [
            "Epoch 1/10\n",
            "1000/1000 [==============================] - ETA: 0s - loss: 0.4683 - accuracy: 0.7785\n",
            "Epoch 1: saving model to ../../training_checkpoints/sarcasm_pl_bert/training_2/cp-0001.ckpt\n",
            "1000/1000 [==============================] - 176s 125ms/step - loss: 0.4683 - accuracy: 0.7785 - val_loss: 0.3953 - val_accuracy: 0.8290\n",
            "Epoch 2/10\n",
            "1000/1000 [==============================] - ETA: 0s - loss: 0.2307 - accuracy: 0.9101\n",
            "Epoch 2: saving model to ../../training_checkpoints/sarcasm_pl_bert/training_2/cp-0002.ckpt\n",
            "1000/1000 [==============================] - 112s 112ms/step - loss: 0.2307 - accuracy: 0.9101 - val_loss: 0.4310 - val_accuracy: 0.8310\n",
            "Epoch 3/10\n",
            "1000/1000 [==============================] - ETA: 0s - loss: 0.1133 - accuracy: 0.9575\n",
            "Epoch 3: saving model to ../../training_checkpoints/sarcasm_pl_bert/training_2/cp-0003.ckpt\n",
            "1000/1000 [==============================] - 111s 111ms/step - loss: 0.1133 - accuracy: 0.9575 - val_loss: 0.5261 - val_accuracy: 0.8270\n",
            "Epoch 4/10\n",
            "1000/1000 [==============================] - ETA: 0s - loss: 0.0598 - accuracy: 0.9801\n",
            "Epoch 4: saving model to ../../training_checkpoints/sarcasm_pl_bert/training_2/cp-0004.ckpt\n",
            "1000/1000 [==============================] - 111s 111ms/step - loss: 0.0598 - accuracy: 0.9801 - val_loss: 0.5920 - val_accuracy: 0.8190\n"
          ]
        }
      ],
      "source": [
        "history = model.fit(tf_train_dataset, validation_data=tf_val_dataset, epochs=num_epochs, callbacks=[checkpoint_cb, early_stop_cb])"
      ],
      "metadata": {
        "ExecuteTime": {
          "end_time": "2023-05-30T18:11:58.766255400Z",
          "start_time": "2023-05-30T17:58:56.590115800Z"
        },
        "colab": {
          "base_uri": "https://localhost:8080/"
        },
        "id": "ueN9TXYR8mFW",
        "outputId": "2ddfb8f9-f887-4308-a429-6f408a0dc9e7"
      }
    },
    {
      "cell_type": "code",
      "execution_count": 57,
      "outputs": [
        {
          "output_type": "display_data",
          "data": {
            "text/plain": [
              "<Figure size 640x480 with 1 Axes>"
            ],
            "image/png": "[encoded data removed]"
          },
          "metadata": {}
        },
        {
          "output_type": "display_data",
          "data": {
            "text/plain": [
              "<Figure size 640x480 with 1 Axes>"
            ],
            "image/png": "[encoded data removed]"
          },
          "metadata": {}
        }
      ],
      "source": [
        "plt.plot(history.history['accuracy'])\n",
        "plt.plot(history.history['val_accuracy'])\n",
        "plt.title('Model accuracy')\n",
        "plt.ylabel('Accuracy')\n",
        "plt.xlabel('Epoch')\n",
        "plt.legend(['Train', 'Val'], loc='upper left')\n",
        "plt.savefig(f\"documentation/models/{model_name}/figures/{training_folder}_accuracy.png\")\n",
        "plt.show()\n",
        "\n",
        "plt.plot(history.history['loss'])\n",
        "plt.plot(history.history['val_loss'])\n",
        "plt.title('Model loss')\n",
        "plt.ylabel('Loss')\n",
        "plt.xlabel('Epoch')\n",
        "plt.legend(['Train', 'Val'], loc='upper left')\n",
        "plt.savefig(f\"documentation/models/{model_name}/figures/{training_folder}_loss.png\")\n",
        "plt.show()"
      ],
      "metadata": {
        "ExecuteTime": {
          "end_time": "2023-05-30T18:13:35.678641Z",
          "start_time": "2023-05-30T18:13:35.373242500Z"
        },
        "colab": {
          "base_uri": "https://localhost:8080/",
          "height": 927
        },
        "id": "o__UKtkS8mFW",
        "outputId": "ee49c160-1b1f-43f1-df45-34f163bbdc8a"
      }
    },
    {
      "cell_type": "code",
      "execution_count": 58,
      "outputs": [],
      "source": [
        "import shutil\n",
        "\n",
        "best_model_checkpoint_index = np.argmin(history.history[\"val_accuracy\"]) + 1\n",
        "best_model_weights_path = os.path.join(training_path, checkpoint_filename.format(epoch=best_model_checkpoint_index))\n",
        "best_model = model\n",
        "best_model.load_weights(best_model_weights_path)\n",
        "\n",
        "shutil.rmtree(training_path)"
      ],
      "metadata": {
        "ExecuteTime": {
          "end_time": "2023-05-30T18:13:43.853508Z",
          "start_time": "2023-05-30T18:13:40.913424500Z"
        },
        "id": "fNdfTSum8mFX"
      }
    },
    {
      "cell_type": "code",
      "execution_count": 59,
      "outputs": [
        {
          "output_type": "stream",
          "name": "stderr",
          "text": [
            "WARNING:absl:Found untraced functions such as embeddings_layer_call_fn, embeddings_layer_call_and_return_conditional_losses, encoder_layer_call_fn, encoder_layer_call_and_return_conditional_losses, pooler_layer_call_fn while saving (showing 5 of 420). These functions will not be directly callable after loading.\n"
          ]
        }
      ],
      "source": [
        "saved_model_name = f\"{model_name}_{training_number}\"\n",
        "\n",
        "# Save to Saved Model format\n",
        "best_model.save(os.path.join(\"trained_models\", saved_model_name, Constants.DEFAULT_MODEL_VERSION))"
      ],
      "metadata": {
        "ExecuteTime": {
          "end_time": "2023-05-30T18:14:22.918774700Z",
          "start_time": "2023-05-30T18:13:44.021018200Z"
        },
        "colab": {
          "base_uri": "https://localhost:8080/"
        },
        "id": "B2rFV5aq8mFX",
        "outputId": "6917c47b-fbe4-4142-8dd5-037dcaf8c1e2"
      }
    },
    {
      "cell_type": "code",
      "execution_count": 60,
      "outputs": [
        {
          "output_type": "stream",
          "name": "stdout",
          "text": [
            "125/125 [==============================] - 6s 50ms/step - loss: 0.5558 - accuracy: 0.8310\n"
          ]
        },
        {
          "output_type": "execute_result",
          "data": {
            "text/plain": [
              "[0.5558102130889893, 0.8309999704360962]"
            ]
          },
          "metadata": {},
          "execution_count": 60
        }
      ],
      "source": [
        "# Evaluation\n",
        "best_model.evaluate(tf_test_dataset, batch_size=32)"
      ],
      "metadata": {
        "ExecuteTime": {
          "end_time": "2023-05-30T18:14:32.361033800Z",
          "start_time": "2023-05-30T18:14:22.923280900Z"
        },
        "colab": {
          "base_uri": "https://localhost:8080/"
        },
        "id": "E_Do0gEI8mFX",
        "outputId": "5bc978ec-135d-43de-8e89-968a896d494e"
      }
    },
    {
      "cell_type": "code",
      "execution_count": 61,
      "outputs": [
        {
          "output_type": "stream",
          "name": "stdout",
          "text": [
            "125/125 [==============================] - 8s 38ms/step\n"
          ]
        }
      ],
      "source": [
        "# Getting predictions\n",
        "prediction_logits = best_model.predict(tf_test_dataset)['logits']\n",
        "probabilities = tf.nn.softmax(prediction_logits)\n",
        "class_preds = np.argmax(probabilities, axis=1)"
      ],
      "metadata": {
        "ExecuteTime": {
          "end_time": "2023-05-30T18:14:42.328256600Z",
          "start_time": "2023-05-30T18:14:32.342431Z"
        },
        "colab": {
          "base_uri": "https://localhost:8080/"
        },
        "id": "iVwiYhF68mFX",
        "outputId": "ee32c0cc-c489-450a-f796-227d98bf6b21"
      }
    },
    {
      "cell_type": "code",
      "execution_count": 62,
      "outputs": [
        {
          "output_type": "stream",
          "name": "stdout",
          "text": [
            "Precision score:  0.7980582524271844\n",
            "Recall score:  0.8634453781512605\n",
            "F1 score:  0.8294651866801211\n"
          ]
        }
      ],
      "source": [
        "from sklearn.metrics import precision_score, recall_score, f1_score\n",
        "\n",
        "precision = precision_score(tokenized_test_dataset['is_sarcastic'], class_preds)\n",
        "recall = recall_score(tokenized_test_dataset['is_sarcastic'], class_preds)\n",
        "f1 = f1_score(tokenized_test_dataset['is_sarcastic'], class_preds)\n",
        "\n",
        "print(f\"Precision score: \", precision)\n",
        "print(f\"Recall score: \", recall)\n",
        "print(f\"F1 score: \", f1)"
      ],
      "metadata": {
        "ExecuteTime": {
          "end_time": "2023-05-30T18:14:42.373444500Z",
          "start_time": "2023-05-30T18:14:42.327257600Z"
        },
        "colab": {
          "base_uri": "https://localhost:8080/"
        },
        "id": "TI-4PLA98mFX",
        "outputId": "935737d1-5b8b-4954-f51e-4747b91bcb7d"
      }
    },
    {
      "cell_type": "code",
      "execution_count": 63,
      "outputs": [
        {
          "output_type": "display_data",
          "data": {
            "text/plain": [
              "<Figure size 640x480 with 2 Axes>"
            ],
            "image/png": "[encoded data removed]"
          },
          "metadata": {}
        }
      ],
      "source": [
        "from sklearn.metrics import confusion_matrix, ConfusionMatrixDisplay\n",
        "\n",
        "result = confusion_matrix(tokenized_test_dataset['is_sarcastic'], class_preds)\n",
        "\n",
        "disp = ConfusionMatrixDisplay(confusion_matrix=result)\n",
        "disp.plot()\n",
        "plt.savefig(f\"documentation/models/{model_name}/figures/{training_folder}_confmatrix.png\")\n",
        "plt.show()"
      ],
      "metadata": {
        "ExecuteTime": {
          "end_time": "2023-05-30T18:14:42.528978Z",
          "start_time": "2023-05-30T18:14:42.376650100Z"
        },
        "colab": {
          "base_uri": "https://localhost:8080/",
          "height": 449
        },
        "id": "Gz2vhNeE8mFY",
        "outputId": "e2d6765b-06a7-4234-fb2a-fe32b72a041b"
      }
    },
    {
      "cell_type": "code",
      "execution_count": 64,
      "outputs": [
        {
          "output_type": "stream",
          "name": "stdout",
          "text": [
            "\n",
            "        BAD PREDICTION:\n",
            "        - INDEX: 1\n",
            "        - TEXT: Reprezentantka rządu USA wyjaśnia, dlaczego Kongresowi brakuje równości płci i rasy\n",
            "        - PREDICTED VALUE: 1\n",
            "        - CORRECT VALUE: 0\n",
            "        \n",
            "\n",
            "        BAD PREDICTION:\n",
            "        - INDEX: 2\n",
            "        - TEXT: Jedz warzywa: 9 pysznie różnych przepisów\n",
            "        - PREDICTED VALUE: 1\n",
            "        - CORRECT VALUE: 0\n",
            "        \n",
            "\n",
            "        BAD PREDICTION:\n",
            "        - INDEX: 4\n",
            "        - TEXT: matka jest bardzo blisko użycia słowa \"streaming\" poprawnie\n",
            "        - PREDICTED VALUE: 0\n",
            "        - CORRECT VALUE: 1\n",
            "        \n",
            "\n",
            "        BAD PREDICTION:\n",
            "        - INDEX: 5\n",
            "        - TEXT: Białe dziedzictwo\n",
            "        - PREDICTED VALUE: 1\n",
            "        - CORRECT VALUE: 0\n",
            "        \n",
            "\n",
            "        BAD PREDICTION:\n",
            "        - INDEX: 9\n",
            "        - TEXT: Wielu rodziców zna ten scenariusz.\n",
            "        - PREDICTED VALUE: 1\n",
            "        - CORRECT VALUE: 0\n",
            "        \n",
            "\n",
            "        BAD PREDICTION:\n",
            "        - INDEX: 10\n",
            "        - TEXT: Ta lesbijka jest uważana za ojca w Indiach (i niesamowita w tym)\n",
            "        - PREDICTED VALUE: 1\n",
            "        - CORRECT VALUE: 0\n",
            "        \n",
            "\n",
            "        BAD PREDICTION:\n",
            "        - INDEX: 11\n",
            "        - TEXT: Amanda Peet o swojej córce: seks to wyjątkowy uścisk\n",
            "        - PREDICTED VALUE: 1\n",
            "        - CORRECT VALUE: 0\n",
            "        \n",
            "\n",
            "        BAD PREDICTION:\n",
            "        - INDEX: 12\n",
            "        - TEXT: Co należy wiedzieć o obecnych metodach leczenia eboli\n",
            "        - PREDICTED VALUE: 1\n",
            "        - CORRECT VALUE: 0\n",
            "        \n",
            "\n",
            "        BAD PREDICTION:\n",
            "        - INDEX: 19\n",
            "        - TEXT: Lin-Manuel Miranda chciałby przypomnieć ci, żebyś odłożył telefon.\n",
            "        - PREDICTED VALUE: 1\n",
            "        - CORRECT VALUE: 0\n",
            "        \n",
            "\n",
            "        BAD PREDICTION:\n",
            "        - INDEX: 20\n",
            "        - TEXT: 60 dziennikarzy zabitych w 2014 roku w wyniku ataków na międzynarodową prasę\n",
            "        - PREDICTED VALUE: 1\n",
            "        - CORRECT VALUE: 0\n",
            "        \n",
            "\n",
            "        BAD PREDICTION:\n",
            "        - INDEX: 22\n",
            "        - TEXT: Jak żyć 110\n",
            "        - PREDICTED VALUE: 1\n",
            "        - CORRECT VALUE: 0\n",
            "        \n",
            "\n",
            "        BAD PREDICTION:\n",
            "        - INDEX: 23\n",
            "        - TEXT: Kot tak przerażony w schronisku, że nawet na ciebie nie spojrzy\n",
            "        - PREDICTED VALUE: 1\n",
            "        - CORRECT VALUE: 0\n",
            "        \n",
            "\n",
            "        BAD PREDICTION:\n",
            "        - INDEX: 24\n",
            "        - TEXT: Bill Clinton: „Silnie popieram” Obamacare\n",
            "        - PREDICTED VALUE: 1\n",
            "        - CORRECT VALUE: 0\n",
            "        \n",
            "\n",
            "        BAD PREDICTION:\n",
            "        - INDEX: 25\n",
            "        - TEXT: Agent Secret Service nie taki tajemniczy w byciu fanem Davida Alana Griera\n",
            "        - PREDICTED VALUE: 0\n",
            "        - CORRECT VALUE: 1\n",
            "        \n",
            "\n",
            "        BAD PREDICTION:\n",
            "        - INDEX: 26\n",
            "        - TEXT: Nowa era pomarańczy: rosnące podziały\n",
            "        - PREDICTED VALUE: 1\n",
            "        - CORRECT VALUE: 0\n",
            "        \n",
            "\n",
            "        BAD PREDICTION:\n",
            "        - INDEX: 27\n",
            "        - TEXT: Rzeczy, których nauczyłam się w pierwszym miesiącu ciąży\n",
            "        - PREDICTED VALUE: 1\n",
            "        - CORRECT VALUE: 0\n",
            "        \n",
            "\n",
            "        BAD PREDICTION:\n",
            "        - INDEX: 28\n",
            "        - TEXT: Lamelo Ball zdobywa 92 punkty w jednym meczu koszykówki w szkole średniej\n",
            "        - PREDICTED VALUE: 1\n",
            "        - CORRECT VALUE: 0\n",
            "        \n",
            "\n",
            "        BAD PREDICTION:\n",
            "        - INDEX: 30\n",
            "        - TEXT: 10 najważniejszych lekcji życia od babci\n",
            "        - PREDICTED VALUE: 1\n",
            "        - CORRECT VALUE: 0\n",
            "        \n",
            "\n",
            "        BAD PREDICTION:\n",
            "        - INDEX: 32\n",
            "        - TEXT: Starszy, ale wciąż młody w sercu\n",
            "        - PREDICTED VALUE: 1\n",
            "        - CORRECT VALUE: 0\n",
            "        \n",
            "\n",
            "        BAD PREDICTION:\n",
            "        - INDEX: 37\n",
            "        - TEXT: Gwiazdy z siwymi włosami dowodzą, że starzenie się nie jest takie złe\n",
            "        - PREDICTED VALUE: 1\n",
            "        - CORRECT VALUE: 0\n",
            "        \n",
            "\n",
            "        BAD PREDICTION:\n",
            "        - INDEX: 39\n",
            "        - TEXT: Naacp żąda mniejszej reprezentacji mniejszości narodowych\n",
            "        - PREDICTED VALUE: 0\n",
            "        - CORRECT VALUE: 1\n",
            "        \n",
            "\n",
            "        BAD PREDICTION:\n",
            "        - INDEX: 41\n",
            "        - TEXT: Florystka, która odrzuciła parę gejów, chce, aby Sąd Najwyższy wysłuchał jej sprawy\n",
            "        - PREDICTED VALUE: 1\n",
            "        - CORRECT VALUE: 0\n",
            "        \n",
            "\n",
            "        BAD PREDICTION:\n",
            "        - INDEX: 42\n",
            "        - TEXT: Wciąż przetwarzamy zakończenie chodzących martwych \"obcych\"\n",
            "        - PREDICTED VALUE: 1\n",
            "        - CORRECT VALUE: 0\n",
            "        \n",
            "\n",
            "        BAD PREDICTION:\n",
            "        - INDEX: 43\n",
            "        - TEXT: Nowy projekt Google dostarcza krytyczne informacje na smartfony uchodźców\n",
            "        - PREDICTED VALUE: 1\n",
            "        - CORRECT VALUE: 0\n",
            "        \n",
            "\n",
            "        BAD PREDICTION:\n",
            "        - INDEX: 44\n",
            "        - TEXT: Nowy podręcznik historii ożywia nienawiść do historii wśród uczniów\n",
            "        - PREDICTED VALUE: 0\n",
            "        - CORRECT VALUE: 1\n",
            "        \n"
          ]
        }
      ],
      "source": [
        "bad_prediction_count = 0\n",
        "predictions_index = 0\n",
        "\n",
        "while bad_prediction_count < 25 and predictions_index < raw_dataset.num_rows:\n",
        "    predictions_index += 1\n",
        "\n",
        "    # if bad prediction then show text and increase count\n",
        "    if class_preds[predictions_index] != raw_dataset[predictions_index]['is_sarcastic']:\n",
        "        print(f\"\"\"\n",
        "        BAD PREDICTION:\n",
        "        - INDEX: {predictions_index}\n",
        "        - TEXT: {raw_dataset[predictions_index]['headline_pl']}\n",
        "        - PREDICTED VALUE: {class_preds[predictions_index]}\n",
        "        - CORRECT VALUE: {raw_dataset[predictions_index]['is_sarcastic']}\n",
        "        \"\"\")\n",
        "        bad_prediction_count += 1"
      ],
      "metadata": {
        "ExecuteTime": {
          "end_time": "2023-05-30T18:14:42.571652500Z",
          "start_time": "2023-05-30T18:14:42.531980100Z"
        },
        "colab": {
          "base_uri": "https://localhost:8080/"
        },
        "id": "Z_BIH5Bl8mFY",
        "outputId": "4ec2c635-49c7-4dcc-de27-5094c7e33671"
      }
    },
    {
      "cell_type": "code",
      "execution_count": 65,
      "outputs": [
        {
          "output_type": "stream",
          "name": "stdout",
          "text": [
            "updating: documentation/models/ (stored 0%)\n",
            "updating: documentation/models/.ipynb_checkpoints/ (stored 0%)\n",
            "updating: documentation/models/sarcasm_pl_bert/ (stored 0%)\n",
            "updating: documentation/models/sarcasm_pl_bert/figures/ (stored 0%)\n",
            "updating: documentation/models/sarcasm_pl_bert/figures/training_1_loss.png (deflated 9%)\n",
            "updating: documentation/models/sarcasm_pl_bert/figures/training_1_accuracy.png (deflated 10%)\n",
            "updating: documentation/models/sarcasm_pl_bert/figures/training_1_confmatrix.png (deflated 16%)\n",
            "updating: documentation/models/sarcasm_pl_bert/.ipynb_checkpoints/ (stored 0%)\n",
            "  adding: documentation/models/sarcasm_pl_bert/figures/training_2_confmatrix.png (deflated 15%)\n",
            "  adding: documentation/models/sarcasm_pl_bert/figures/training_2_accuracy.png (deflated 11%)\n",
            "  adding: documentation/models/sarcasm_pl_bert/figures/training_2_loss.png (deflated 9%)\n"
          ]
        }
      ],
      "source": [
        "!zip -r documentation.zip documentation/models"
      ],
      "metadata": {
        "ExecuteTime": {
          "start_time": "2023-05-30T18:14:42.561526900Z"
        },
        "colab": {
          "base_uri": "https://localhost:8080/"
        },
        "id": "T8dAlN7d8mFY",
        "outputId": "d88f1325-0cb1-4882-c098-11db4bdace93"
      }
    },
    {
      "cell_type": "code",
      "source": [
        "from google.colab import files\n",
        "files.download(\"documentation.zip\")"
      ],
      "metadata": {
        "colab": {
          "base_uri": "https://localhost:8080/",
          "height": 17
        },
        "id": "J2f8gAr7E_J2",
        "outputId": "4cf2bc59-008c-44d6-9aa4-63a1e0b9ba4d"
      },
      "execution_count": 66,
      "outputs": [
        {
          "output_type": "display_data",
          "data": {
            "text/plain": [
              "<IPython.core.display.Javascript object>"
            ],
            "application/javascript": [
              "\n",
              "    async function download(id, filename, size) {\n",
              "      if (!google.colab.kernel.accessAllowed) {\n",
              "        return;\n",
              "      }\n",
              "      const div = document.createElement('div');\n",
              "      const label = document.createElement('label');\n",
              "      label.textContent = `Downloading \"${filename}\": `;\n",
              "      div.appendChild(label);\n",
              "      const progress = document.createElement('progress');\n",
              "      progress.max = size;\n",
              "      div.appendChild(progress);\n",
              "      document.body.appendChild(div);\n",
              "\n",
              "      const buffers = [];\n",
              "      let downloaded = 0;\n",
              "\n",
              "      const channel = await google.colab.kernel.comms.open(id);\n",
              "      // Send a message to notify the kernel that we're ready.\n",
              "      channel.send({})\n",
              "\n",
              "      for await (const message of channel.messages) {\n",
              "        // Send a message to notify the kernel that we're ready.\n",
              "        channel.send({})\n",
              "        if (message.buffers) {\n",
              "          for (const buffer of message.buffers) {\n",
              "            buffers.push(buffer);\n",
              "            downloaded += buffer.byteLength;\n",
              "            progress.value = downloaded;\n",
              "          }\n",
              "        }\n",
              "      }\n",
              "      const blob = new Blob(buffers, {type: 'application/binary'});\n",
              "      const a = document.createElement('a');\n",
              "      a.href = window.URL.createObjectURL(blob);\n",
              "      a.download = filename;\n",
              "      div.appendChild(a);\n",
              "      a.click();\n",
              "      div.remove();\n",
              "    }\n",
              "  "
            ]
          },
          "metadata": {}
        },
        {
          "output_type": "display_data",
          "data": {
            "text/plain": [
              "<IPython.core.display.Javascript object>"
            ],
            "application/javascript": [
              "download(\"download_48d30e2c-327c-4d6b-b388-f93821799f20\", \"documentation.zip\", 124567)"
            ]
          },
          "metadata": {}
        }
      ]
    }
  ],
  "metadata": {
    "kernelspec": {
      "display_name": "Python 3",
      "name": "python3"
    },
    "language_info": {
      "codemirror_mode": {
        "name": "ipython",
        "version": 2
      },
      "file_extension": ".py",
      "mimetype": "text/x-python",
      "name": "python",
      "nbconvert_exporter": "python",
      "pygments_lexer": "ipython2",
      "version": "2.7.6"
    },
    "colab": {
      "provenance": [],
      "gpuType": "T4"
    },
    "accelerator": "GPU",
    "widgets": {
      "application/vnd.jupyter.widget-state+json": {
        "de0385b9a2a044d69b7bce6ede0a33b0": {
          "model_module": "@jupyter-widgets/controls",
          "model_name": "HBoxModel",
          "model_module_version": "1.5.0",
          "state": {
            "_dom_classes": [],
            "_model_module": "@jupyter-widgets/controls",
            "_model_module_version": "1.5.0",
            "_model_name": "HBoxModel",
            "_view_count": null,
            "_view_module": "@jupyter-widgets/controls",
            "_view_module_version": "1.5.0",
            "_view_name": "HBoxView",
            "box_style": "",
            "children": [
              "IPY_MODEL_8fd36a5468c94fcbbe01b44a6f23efc3",
              "IPY_MODEL_a572d0582bad4b94bcddb85e6d380c29",
              "IPY_MODEL_7070ca4d52514aa28fcec21486ce4938"
            ],
            "layout": "IPY_MODEL_86ea9e97311a40c9a5f9404af000d0c4"
          }
        },
        "8fd36a5468c94fcbbe01b44a6f23efc3": {
          "model_module": "@jupyter-widgets/controls",
          "model_name": "HTMLModel",
          "model_module_version": "1.5.0",
          "state": {
            "_dom_classes": [],
            "_model_module": "@jupyter-widgets/controls",
            "_model_module_version": "1.5.0",
            "_model_name": "HTMLModel",
            "_view_count": null,
            "_view_module": "@jupyter-widgets/controls",
            "_view_module_version": "1.5.0",
            "_view_name": "HTMLView",
            "description": "",
            "description_tooltip": null,
            "layout": "IPY_MODEL_af13c9a051db42f981aa5f17047aa4ff",
            "placeholder": "​",
            "style": "IPY_MODEL_e2b67dfc541049c9959ac15eac7af0fa",
            "value": "Map:  90%"
          }
        },
        "a572d0582bad4b94bcddb85e6d380c29": {
          "model_module": "@jupyter-widgets/controls",
          "model_name": "FloatProgressModel",
          "model_module_version": "1.5.0",
          "state": {
            "_dom_classes": [],
            "_model_module": "@jupyter-widgets/controls",
            "_model_module_version": "1.5.0",
            "_model_name": "FloatProgressModel",
            "_view_count": null,
            "_view_module": "@jupyter-widgets/controls",
            "_view_module_version": "1.5.0",
            "_view_name": "ProgressView",
            "bar_style": "",
            "description": "",
            "description_tooltip": null,
            "layout": "IPY_MODEL_da459c7075784896ba42550e898fa887",
            "max": 10000,
            "min": 0,
            "orientation": "horizontal",
            "style": "IPY_MODEL_3629a6950c844167b3f6dfba6253c755",
            "value": 10000
          }
        },
        "7070ca4d52514aa28fcec21486ce4938": {
          "model_module": "@jupyter-widgets/controls",
          "model_name": "HTMLModel",
          "model_module_version": "1.5.0",
          "state": {
            "_dom_classes": [],
            "_model_module": "@jupyter-widgets/controls",
            "_model_module_version": "1.5.0",
            "_model_name": "HTMLModel",
            "_view_count": null,
            "_view_module": "@jupyter-widgets/controls",
            "_view_module_version": "1.5.0",
            "_view_name": "HTMLView",
            "description": "",
            "description_tooltip": null,
            "layout": "IPY_MODEL_6b399b902997473997ea6b3062532a53",
            "placeholder": "​",
            "style": "IPY_MODEL_2db98d8f87714d30877885d12d861290",
            "value": " 9000/10000 [00:00&lt;00:00, 13764.41 examples/s]"
          }
        },
        "86ea9e97311a40c9a5f9404af000d0c4": {
          "model_module": "@jupyter-widgets/base",
          "model_name": "LayoutModel",
          "model_module_version": "1.2.0",
          "state": {
            "_model_module": "@jupyter-widgets/base",
            "_model_module_version": "1.2.0",
            "_model_name": "LayoutModel",
            "_view_count": null,
            "_view_module": "@jupyter-widgets/base",
            "_view_module_version": "1.2.0",
            "_view_name": "LayoutView",
            "align_content": null,
            "align_items": null,
            "align_self": null,
            "border": null,
            "bottom": null,
            "display": null,
            "flex": null,
            "flex_flow": null,
            "grid_area": null,
            "grid_auto_columns": null,
            "grid_auto_flow": null,
            "grid_auto_rows": null,
            "grid_column": null,
            "grid_gap": null,
            "grid_row": null,
            "grid_template_areas": null,
            "grid_template_columns": null,
            "grid_template_rows": null,
            "height": null,
            "justify_content": null,
            "justify_items": null,
            "left": null,
            "margin": null,
            "max_height": null,
            "max_width": null,
            "min_height": null,
            "min_width": null,
            "object_fit": null,
            "object_position": null,
            "order": null,
            "overflow": null,
            "overflow_x": null,
            "overflow_y": null,
            "padding": null,
            "right": null,
            "top": null,
            "visibility": "hidden",
            "width": null
          }
        },
        "af13c9a051db42f981aa5f17047aa4ff": {
          "model_module": "@jupyter-widgets/base",
          "model_name": "LayoutModel",
          "model_module_version": "1.2.0",
          "state": {
            "_model_module": "@jupyter-widgets/base",
            "_model_module_version": "1.2.0",
            "_model_name": "LayoutModel",
            "_view_count": null,
            "_view_module": "@jupyter-widgets/base",
            "_view_module_version": "1.2.0",
            "_view_name": "LayoutView",
            "align_content": null,
            "align_items": null,
            "align_self": null,
            "border": null,
            "bottom": null,
            "display": null,
            "flex": null,
            "flex_flow": null,
            "grid_area": null,
            "grid_auto_columns": null,
            "grid_auto_flow": null,
            "grid_auto_rows": null,
            "grid_column": null,
            "grid_gap": null,
            "grid_row": null,
            "grid_template_areas": null,
            "grid_template_columns": null,
            "grid_template_rows": null,
            "height": null,
            "justify_content": null,
            "justify_items": null,
            "left": null,
            "margin": null,
            "max_height": null,
            "max_width": null,
            "min_height": null,
            "min_width": null,
            "object_fit": null,
            "object_position": null,
            "order": null,
            "overflow": null,
            "overflow_x": null,
            "overflow_y": null,
            "padding": null,
            "right": null,
            "top": null,
            "visibility": null,
            "width": null
          }
        },
        "e2b67dfc541049c9959ac15eac7af0fa": {
          "model_module": "@jupyter-widgets/controls",
          "model_name": "DescriptionStyleModel",
          "model_module_version": "1.5.0",
          "state": {
            "_model_module": "@jupyter-widgets/controls",
            "_model_module_version": "1.5.0",
            "_model_name": "DescriptionStyleModel",
            "_view_count": null,
            "_view_module": "@jupyter-widgets/base",
            "_view_module_version": "1.2.0",
            "_view_name": "StyleView",
            "description_width": ""
          }
        },
        "da459c7075784896ba42550e898fa887": {
          "model_module": "@jupyter-widgets/base",
          "model_name": "LayoutModel",
          "model_module_version": "1.2.0",
          "state": {
            "_model_module": "@jupyter-widgets/base",
            "_model_module_version": "1.2.0",
            "_model_name": "LayoutModel",
            "_view_count": null,
            "_view_module": "@jupyter-widgets/base",
            "_view_module_version": "1.2.0",
            "_view_name": "LayoutView",
            "align_content": null,
            "align_items": null,
            "align_self": null,
            "border": null,
            "bottom": null,
            "display": null,
            "flex": null,
            "flex_flow": null,
            "grid_area": null,
            "grid_auto_columns": null,
            "grid_auto_flow": null,
            "grid_auto_rows": null,
            "grid_column": null,
            "grid_gap": null,
            "grid_row": null,
            "grid_template_areas": null,
            "grid_template_columns": null,
            "grid_template_rows": null,
            "height": null,
            "justify_content": null,
            "justify_items": null,
            "left": null,
            "margin": null,
            "max_height": null,
            "max_width": null,
            "min_height": null,
            "min_width": null,
            "object_fit": null,
            "object_position": null,
            "order": null,
            "overflow": null,
            "overflow_x": null,
            "overflow_y": null,
            "padding": null,
            "right": null,
            "top": null,
            "visibility": null,
            "width": null
          }
        },
        "3629a6950c844167b3f6dfba6253c755": {
          "model_module": "@jupyter-widgets/controls",
          "model_name": "ProgressStyleModel",
          "model_module_version": "1.5.0",
          "state": {
            "_model_module": "@jupyter-widgets/controls",
            "_model_module_version": "1.5.0",
            "_model_name": "ProgressStyleModel",
            "_view_count": null,
            "_view_module": "@jupyter-widgets/base",
            "_view_module_version": "1.2.0",
            "_view_name": "StyleView",
            "bar_color": null,
            "description_width": ""
          }
        },
        "6b399b902997473997ea6b3062532a53": {
          "model_module": "@jupyter-widgets/base",
          "model_name": "LayoutModel",
          "model_module_version": "1.2.0",
          "state": {
            "_model_module": "@jupyter-widgets/base",
            "_model_module_version": "1.2.0",
            "_model_name": "LayoutModel",
            "_view_count": null,
            "_view_module": "@jupyter-widgets/base",
            "_view_module_version": "1.2.0",
            "_view_name": "LayoutView",
            "align_content": null,
            "align_items": null,
            "align_self": null,
            "border": null,
            "bottom": null,
            "display": null,
            "flex": null,
            "flex_flow": null,
            "grid_area": null,
            "grid_auto_columns": null,
            "grid_auto_flow": null,
            "grid_auto_rows": null,
            "grid_column": null,
            "grid_gap": null,
            "grid_row": null,
            "grid_template_areas": null,
            "grid_template_columns": null,
            "grid_template_rows": null,
            "height": null,
            "justify_content": null,
            "justify_items": null,
            "left": null,
            "margin": null,
            "max_height": null,
            "max_width": null,
            "min_height": null,
            "min_width": null,
            "object_fit": null,
            "object_position": null,
            "order": null,
            "overflow": null,
            "overflow_x": null,
            "overflow_y": null,
            "padding": null,
            "right": null,
            "top": null,
            "visibility": null,
            "width": null
          }
        },
        "2db98d8f87714d30877885d12d861290": {
          "model_module": "@jupyter-widgets/controls",
          "model_name": "DescriptionStyleModel",
          "model_module_version": "1.5.0",
          "state": {
            "_model_module": "@jupyter-widgets/controls",
            "_model_module_version": "1.5.0",
            "_model_name": "DescriptionStyleModel",
            "_view_count": null,
            "_view_module": "@jupyter-widgets/base",
            "_view_module_version": "1.2.0",
            "_view_name": "StyleView",
            "description_width": ""
          }
        }
      }
    }
  },
  "nbformat": 4,
  "nbformat_minor": 0
}