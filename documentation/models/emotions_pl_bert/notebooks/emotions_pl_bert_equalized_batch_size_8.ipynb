{
  "cells": [
    {
      "cell_type": "code",
      "execution_count": 1,
      "metadata": {
        "collapsed": true,
        "id": "iWrOptAE5eQw"
      },
      "outputs": [],
      "source": [
        "import os\n",
        "import pandas as pd\n",
        "import tensorflow as tf\n",
        "import matplotlib.pyplot as plt\n",
        "import numpy as np\n",
        "import constants\n",
        "import model_utils"
      ]
    },
    {
      "cell_type": "code",
      "execution_count": 2,
      "metadata": {
        "colab": {
          "base_uri": "https://localhost:8080/",
          "height": 423
        },
        "id": "hAu6YgRX5eQx",
        "outputId": "bfb9433d-4e88-4da2-d28a-8328607dc478"
      },
      "outputs": [
        {
          "output_type": "execute_result",
          "data": {
            "text/plain": [
              "                                                    text  emotions  \\\n",
              "0                                  i feel totally greedy     anger   \n",
              "1                    i feel so overwhelmed with emotions      fear   \n",
              "2      i didnt feel the g force effect i am stunned i...  surprise   \n",
              "3      ive just got to tell you all that im feeling r...     anger   \n",
              "4      i told you i was sorry you were feeling frustr...     anger   \n",
              "...                                                  ...       ...   \n",
              "39995  im feeling quite generous lately as ive been w...       joy   \n",
              "39996  i feel like some of the characters dont deserv...      love   \n",
              "39997  im feel fear within my bones that cant be shak...      fear   \n",
              "39998  ive been feeling more creative and less like a...       joy   \n",
              "39999                  i feel devastated and help hellip   sadness   \n",
              "\n",
              "                                                 text_pl  \n",
              "0                            Czuję się całkowicie chciwy  \n",
              "1                    Czuję się tak przytłoczony emocjami  \n",
              "2      Nie czułem efektu siły g Jestem oszołomiony Po...  \n",
              "3      ive just got to tell you all that I feel Racze...  \n",
              "4      Powiedziałem ci, że przepraszam, że czujesz si...  \n",
              "...                                                  ...  \n",
              "39995  czuję się ostatnio dość hojny, ponieważ pracuj...  \n",
              "39996  Czuję, że niektóre postacie nie zasługują na w...  \n",
              "39997  Czuję strach w moich kościach, którego nie moż...  \n",
              "39998  Czułem się bardziej kreatywny i mniej jak czys...  \n",
              "39999          Czuję się zdruzgotany i pomagam Hellipowi  \n",
              "\n",
              "[40000 rows x 3 columns]"
            ],
            "text/html": [
              "\n",
              "  <div id=\"df-9e2b89dd-8559-4ae9-bb3c-9f8c41961adc\">\n",
              "    <div class=\"colab-df-container\">\n",
              "      <div>\n",
              "<style scoped>\n",
              "    .dataframe tbody tr th:only-of-type {\n",
              "        vertical-align: middle;\n",
              "    }\n",
              "\n",
              "    .dataframe tbody tr th {\n",
              "        vertical-align: top;\n",
              "    }\n",
              "\n",
              "    .dataframe thead th {\n",
              "        text-align: right;\n",
              "    }\n",
              "</style>\n",
              "<table border=\"1\" class=\"dataframe\">\n",
              "  <thead>\n",
              "    <tr style=\"text-align: right;\">\n",
              "      <th></th>\n",
              "      <th>text</th>\n",
              "      <th>emotions</th>\n",
              "      <th>text_pl</th>\n",
              "    </tr>\n",
              "  </thead>\n",
              "  <tbody>\n",
              "    <tr>\n",
              "      <th>0</th>\n",
              "      <td>i feel totally greedy</td>\n",
              "      <td>anger</td>\n",
              "      <td>Czuję się całkowicie chciwy</td>\n",
              "    </tr>\n",
              "    <tr>\n",
              "      <th>1</th>\n",
              "      <td>i feel so overwhelmed with emotions</td>\n",
              "      <td>fear</td>\n",
              "      <td>Czuję się tak przytłoczony emocjami</td>\n",
              "    </tr>\n",
              "    <tr>\n",
              "      <th>2</th>\n",
              "      <td>i didnt feel the g force effect i am stunned i...</td>\n",
              "      <td>surprise</td>\n",
              "      <td>Nie czułem efektu siły g Jestem oszołomiony Po...</td>\n",
              "    </tr>\n",
              "    <tr>\n",
              "      <th>3</th>\n",
              "      <td>ive just got to tell you all that im feeling r...</td>\n",
              "      <td>anger</td>\n",
              "      <td>ive just got to tell you all that I feel Racze...</td>\n",
              "    </tr>\n",
              "    <tr>\n",
              "      <th>4</th>\n",
              "      <td>i told you i was sorry you were feeling frustr...</td>\n",
              "      <td>anger</td>\n",
              "      <td>Powiedziałem ci, że przepraszam, że czujesz si...</td>\n",
              "    </tr>\n",
              "    <tr>\n",
              "      <th>...</th>\n",
              "      <td>...</td>\n",
              "      <td>...</td>\n",
              "      <td>...</td>\n",
              "    </tr>\n",
              "    <tr>\n",
              "      <th>39995</th>\n",
              "      <td>im feeling quite generous lately as ive been w...</td>\n",
              "      <td>joy</td>\n",
              "      <td>czuję się ostatnio dość hojny, ponieważ pracuj...</td>\n",
              "    </tr>\n",
              "    <tr>\n",
              "      <th>39996</th>\n",
              "      <td>i feel like some of the characters dont deserv...</td>\n",
              "      <td>love</td>\n",
              "      <td>Czuję, że niektóre postacie nie zasługują na w...</td>\n",
              "    </tr>\n",
              "    <tr>\n",
              "      <th>39997</th>\n",
              "      <td>im feel fear within my bones that cant be shak...</td>\n",
              "      <td>fear</td>\n",
              "      <td>Czuję strach w moich kościach, którego nie moż...</td>\n",
              "    </tr>\n",
              "    <tr>\n",
              "      <th>39998</th>\n",
              "      <td>ive been feeling more creative and less like a...</td>\n",
              "      <td>joy</td>\n",
              "      <td>Czułem się bardziej kreatywny i mniej jak czys...</td>\n",
              "    </tr>\n",
              "    <tr>\n",
              "      <th>39999</th>\n",
              "      <td>i feel devastated and help hellip</td>\n",
              "      <td>sadness</td>\n",
              "      <td>Czuję się zdruzgotany i pomagam Hellipowi</td>\n",
              "    </tr>\n",
              "  </tbody>\n",
              "</table>\n",
              "<p>40000 rows × 3 columns</p>\n",
              "</div>\n",
              "      <button class=\"colab-df-convert\" onclick=\"convertToInteractive('df-9e2b89dd-8559-4ae9-bb3c-9f8c41961adc')\"\n",
              "              title=\"Convert this dataframe to an interactive table.\"\n",
              "              style=\"display:none;\">\n",
              "        \n",
              "  <svg xmlns=\"http://www.w3.org/2000/svg\" height=\"24px\"viewBox=\"0 0 24 24\"\n",
              "       width=\"24px\">\n",
              "    <path d=\"M0 0h24v24H0V0z\" fill=\"none\"/>\n",
              "    <path d=\"M18.56 5.44l.94 2.06.94-2.06 2.06-.94-2.06-.94-.94-2.06-.94 2.06-2.06.94zm-11 1L8.5 8.5l.94-2.06 2.06-.94-2.06-.94L8.5 2.5l-.94 2.06-2.06.94zm10 10l.94 2.06.94-2.06 2.06-.94-2.06-.94-.94-2.06-.94 2.06-2.06.94z\"/><path d=\"M17.41 7.96l-1.37-1.37c-.4-.4-.92-.59-1.43-.59-.52 0-1.04.2-1.43.59L10.3 9.45l-7.72 7.72c-.78.78-.78 2.05 0 2.83L4 21.41c.39.39.9.59 1.41.59.51 0 1.02-.2 1.41-.59l7.78-7.78 2.81-2.81c.8-.78.8-2.07 0-2.86zM5.41 20L4 18.59l7.72-7.72 1.47 1.35L5.41 20z\"/>\n",
              "  </svg>\n",
              "      </button>\n",
              "      \n",
              "  <style>\n",
              "    .colab-df-container {\n",
              "      display:flex;\n",
              "      flex-wrap:wrap;\n",
              "      gap: 12px;\n",
              "    }\n",
              "\n",
              "    .colab-df-convert {\n",
              "      background-color: #E8F0FE;\n",
              "      border: none;\n",
              "      border-radius: 50%;\n",
              "      cursor: pointer;\n",
              "      display: none;\n",
              "      fill: #1967D2;\n",
              "      height: 32px;\n",
              "      padding: 0 0 0 0;\n",
              "      width: 32px;\n",
              "    }\n",
              "\n",
              "    .colab-df-convert:hover {\n",
              "      background-color: #E2EBFA;\n",
              "      box-shadow: 0px 1px 2px rgba(60, 64, 67, 0.3), 0px 1px 3px 1px rgba(60, 64, 67, 0.15);\n",
              "      fill: #174EA6;\n",
              "    }\n",
              "\n",
              "    [theme=dark] .colab-df-convert {\n",
              "      background-color: #3B4455;\n",
              "      fill: #D2E3FC;\n",
              "    }\n",
              "\n",
              "    [theme=dark] .colab-df-convert:hover {\n",
              "      background-color: #434B5C;\n",
              "      box-shadow: 0px 1px 3px 1px rgba(0, 0, 0, 0.15);\n",
              "      filter: drop-shadow(0px 1px 2px rgba(0, 0, 0, 0.3));\n",
              "      fill: #FFFFFF;\n",
              "    }\n",
              "  </style>\n",
              "\n",
              "      <script>\n",
              "        const buttonEl =\n",
              "          document.querySelector('#df-9e2b89dd-8559-4ae9-bb3c-9f8c41961adc button.colab-df-convert');\n",
              "        buttonEl.style.display =\n",
              "          google.colab.kernel.accessAllowed ? 'block' : 'none';\n",
              "\n",
              "        async function convertToInteractive(key) {\n",
              "          const element = document.querySelector('#df-9e2b89dd-8559-4ae9-bb3c-9f8c41961adc');\n",
              "          const dataTable =\n",
              "            await google.colab.kernel.invokeFunction('convertToInteractive',\n",
              "                                                     [key], {});\n",
              "          if (!dataTable) return;\n",
              "\n",
              "          const docLinkHtml = 'Like what you see? Visit the ' +\n",
              "            '<a target=\"_blank\" href=https://colab.research.google.com/notebooks/data_table.ipynb>data table notebook</a>'\n",
              "            + ' to learn more about interactive tables.';\n",
              "          element.innerHTML = '';\n",
              "          dataTable['output_type'] = 'display_data';\n",
              "          await google.colab.output.renderOutput(dataTable, element);\n",
              "          const docLink = document.createElement('div');\n",
              "          docLink.innerHTML = docLinkHtml;\n",
              "          element.appendChild(docLink);\n",
              "        }\n",
              "      </script>\n",
              "    </div>\n",
              "  </div>\n",
              "  "
            ]
          },
          "metadata": {},
          "execution_count": 2
        }
      ],
      "source": [
        "df = pd.read_json('equalized_emotions_dataset_pl.json')\n",
        "df"
      ]
    },
    {
      "cell_type": "code",
      "execution_count": 3,
      "metadata": {
        "colab": {
          "base_uri": "https://localhost:8080/",
          "height": 423
        },
        "id": "okrrus7z5eQy",
        "outputId": "89c957e7-c476-4fbb-a1b9-3c9635a7bc2c"
      },
      "outputs": [
        {
          "output_type": "execute_result",
          "data": {
            "text/plain": [
              "       emotions                                            text_pl\n",
              "0         anger                        Czuję się całkowicie chciwy\n",
              "1          fear                Czuję się tak przytłoczony emocjami\n",
              "2      surprise  Nie czułem efektu siły g Jestem oszołomiony Po...\n",
              "3         anger  ive just got to tell you all that I feel Racze...\n",
              "4         anger  Powiedziałem ci, że przepraszam, że czujesz si...\n",
              "...         ...                                                ...\n",
              "39995       joy  czuję się ostatnio dość hojny, ponieważ pracuj...\n",
              "39996      love  Czuję, że niektóre postacie nie zasługują na w...\n",
              "39997      fear  Czuję strach w moich kościach, którego nie moż...\n",
              "39998       joy  Czułem się bardziej kreatywny i mniej jak czys...\n",
              "39999   sadness          Czuję się zdruzgotany i pomagam Hellipowi\n",
              "\n",
              "[40000 rows x 2 columns]"
            ],
            "text/html": [
              "\n",
              "  <div id=\"df-2d32dc17-ef6c-4204-ba2c-410a30217c34\">\n",
              "    <div class=\"colab-df-container\">\n",
              "      <div>\n",
              "<style scoped>\n",
              "    .dataframe tbody tr th:only-of-type {\n",
              "        vertical-align: middle;\n",
              "    }\n",
              "\n",
              "    .dataframe tbody tr th {\n",
              "        vertical-align: top;\n",
              "    }\n",
              "\n",
              "    .dataframe thead th {\n",
              "        text-align: right;\n",
              "    }\n",
              "</style>\n",
              "<table border=\"1\" class=\"dataframe\">\n",
              "  <thead>\n",
              "    <tr style=\"text-align: right;\">\n",
              "      <th></th>\n",
              "      <th>emotions</th>\n",
              "      <th>text_pl</th>\n",
              "    </tr>\n",
              "  </thead>\n",
              "  <tbody>\n",
              "    <tr>\n",
              "      <th>0</th>\n",
              "      <td>anger</td>\n",
              "      <td>Czuję się całkowicie chciwy</td>\n",
              "    </tr>\n",
              "    <tr>\n",
              "      <th>1</th>\n",
              "      <td>fear</td>\n",
              "      <td>Czuję się tak przytłoczony emocjami</td>\n",
              "    </tr>\n",
              "    <tr>\n",
              "      <th>2</th>\n",
              "      <td>surprise</td>\n",
              "      <td>Nie czułem efektu siły g Jestem oszołomiony Po...</td>\n",
              "    </tr>\n",
              "    <tr>\n",
              "      <th>3</th>\n",
              "      <td>anger</td>\n",
              "      <td>ive just got to tell you all that I feel Racze...</td>\n",
              "    </tr>\n",
              "    <tr>\n",
              "      <th>4</th>\n",
              "      <td>anger</td>\n",
              "      <td>Powiedziałem ci, że przepraszam, że czujesz si...</td>\n",
              "    </tr>\n",
              "    <tr>\n",
              "      <th>...</th>\n",
              "      <td>...</td>\n",
              "      <td>...</td>\n",
              "    </tr>\n",
              "    <tr>\n",
              "      <th>39995</th>\n",
              "      <td>joy</td>\n",
              "      <td>czuję się ostatnio dość hojny, ponieważ pracuj...</td>\n",
              "    </tr>\n",
              "    <tr>\n",
              "      <th>39996</th>\n",
              "      <td>love</td>\n",
              "      <td>Czuję, że niektóre postacie nie zasługują na w...</td>\n",
              "    </tr>\n",
              "    <tr>\n",
              "      <th>39997</th>\n",
              "      <td>fear</td>\n",
              "      <td>Czuję strach w moich kościach, którego nie moż...</td>\n",
              "    </tr>\n",
              "    <tr>\n",
              "      <th>39998</th>\n",
              "      <td>joy</td>\n",
              "      <td>Czułem się bardziej kreatywny i mniej jak czys...</td>\n",
              "    </tr>\n",
              "    <tr>\n",
              "      <th>39999</th>\n",
              "      <td>sadness</td>\n",
              "      <td>Czuję się zdruzgotany i pomagam Hellipowi</td>\n",
              "    </tr>\n",
              "  </tbody>\n",
              "</table>\n",
              "<p>40000 rows × 2 columns</p>\n",
              "</div>\n",
              "      <button class=\"colab-df-convert\" onclick=\"convertToInteractive('df-2d32dc17-ef6c-4204-ba2c-410a30217c34')\"\n",
              "              title=\"Convert this dataframe to an interactive table.\"\n",
              "              style=\"display:none;\">\n",
              "        \n",
              "  <svg xmlns=\"http://www.w3.org/2000/svg\" height=\"24px\"viewBox=\"0 0 24 24\"\n",
              "       width=\"24px\">\n",
              "    <path d=\"M0 0h24v24H0V0z\" fill=\"none\"/>\n",
              "    <path d=\"M18.56 5.44l.94 2.06.94-2.06 2.06-.94-2.06-.94-.94-2.06-.94 2.06-2.06.94zm-11 1L8.5 8.5l.94-2.06 2.06-.94-2.06-.94L8.5 2.5l-.94 2.06-2.06.94zm10 10l.94 2.06.94-2.06 2.06-.94-2.06-.94-.94-2.06-.94 2.06-2.06.94z\"/><path d=\"M17.41 7.96l-1.37-1.37c-.4-.4-.92-.59-1.43-.59-.52 0-1.04.2-1.43.59L10.3 9.45l-7.72 7.72c-.78.78-.78 2.05 0 2.83L4 21.41c.39.39.9.59 1.41.59.51 0 1.02-.2 1.41-.59l7.78-7.78 2.81-2.81c.8-.78.8-2.07 0-2.86zM5.41 20L4 18.59l7.72-7.72 1.47 1.35L5.41 20z\"/>\n",
              "  </svg>\n",
              "      </button>\n",
              "      \n",
              "  <style>\n",
              "    .colab-df-container {\n",
              "      display:flex;\n",
              "      flex-wrap:wrap;\n",
              "      gap: 12px;\n",
              "    }\n",
              "\n",
              "    .colab-df-convert {\n",
              "      background-color: #E8F0FE;\n",
              "      border: none;\n",
              "      border-radius: 50%;\n",
              "      cursor: pointer;\n",
              "      display: none;\n",
              "      fill: #1967D2;\n",
              "      height: 32px;\n",
              "      padding: 0 0 0 0;\n",
              "      width: 32px;\n",
              "    }\n",
              "\n",
              "    .colab-df-convert:hover {\n",
              "      background-color: #E2EBFA;\n",
              "      box-shadow: 0px 1px 2px rgba(60, 64, 67, 0.3), 0px 1px 3px 1px rgba(60, 64, 67, 0.15);\n",
              "      fill: #174EA6;\n",
              "    }\n",
              "\n",
              "    [theme=dark] .colab-df-convert {\n",
              "      background-color: #3B4455;\n",
              "      fill: #D2E3FC;\n",
              "    }\n",
              "\n",
              "    [theme=dark] .colab-df-convert:hover {\n",
              "      background-color: #434B5C;\n",
              "      box-shadow: 0px 1px 3px 1px rgba(0, 0, 0, 0.15);\n",
              "      filter: drop-shadow(0px 1px 2px rgba(0, 0, 0, 0.3));\n",
              "      fill: #FFFFFF;\n",
              "    }\n",
              "  </style>\n",
              "\n",
              "      <script>\n",
              "        const buttonEl =\n",
              "          document.querySelector('#df-2d32dc17-ef6c-4204-ba2c-410a30217c34 button.colab-df-convert');\n",
              "        buttonEl.style.display =\n",
              "          google.colab.kernel.accessAllowed ? 'block' : 'none';\n",
              "\n",
              "        async function convertToInteractive(key) {\n",
              "          const element = document.querySelector('#df-2d32dc17-ef6c-4204-ba2c-410a30217c34');\n",
              "          const dataTable =\n",
              "            await google.colab.kernel.invokeFunction('convertToInteractive',\n",
              "                                                     [key], {});\n",
              "          if (!dataTable) return;\n",
              "\n",
              "          const docLinkHtml = 'Like what you see? Visit the ' +\n",
              "            '<a target=\"_blank\" href=https://colab.research.google.com/notebooks/data_table.ipynb>data table notebook</a>'\n",
              "            + ' to learn more about interactive tables.';\n",
              "          element.innerHTML = '';\n",
              "          dataTable['output_type'] = 'display_data';\n",
              "          await google.colab.output.renderOutput(dataTable, element);\n",
              "          const docLink = document.createElement('div');\n",
              "          docLink.innerHTML = docLinkHtml;\n",
              "          element.appendChild(docLink);\n",
              "        }\n",
              "      </script>\n",
              "    </div>\n",
              "  </div>\n",
              "  "
            ]
          },
          "metadata": {},
          "execution_count": 3
        }
      ],
      "source": [
        "df = df.drop(columns=['text'])\n",
        "df"
      ]
    },
    {
      "cell_type": "code",
      "execution_count": 4,
      "metadata": {
        "colab": {
          "base_uri": "https://localhost:8080/",
          "height": 477
        },
        "id": "029Zih125eQy",
        "outputId": "2feb7e51-a01e-458f-ef52-ab9795182f2c"
      },
      "outputs": [
        {
          "output_type": "display_data",
          "data": {
            "text/plain": [
              "<Figure size 640x480 with 1 Axes>"
            ],
            "image/png": "[encoded data removed]"
          },
          "metadata": {}
        }
      ],
      "source": [
        "data = df[\"emotions\"]\n",
        "data.value_counts().plot.bar()\n",
        "plt.show()"
      ]
    },
    {
      "cell_type": "code",
      "execution_count": 5,
      "metadata": {
        "id": "-1FXsZRN5eQz"
      },
      "outputs": [],
      "source": [
        "ordered_class_labels = {\n",
        "    \"joy\": 0,\n",
        "    \"love\": 1,\n",
        "    \"surprise\": 2,\n",
        "    \"sadness\": 3,\n",
        "    \"anger\": 4,\n",
        "    \"fear\": 5,\n",
        "}"
      ]
    },
    {
      "cell_type": "code",
      "execution_count": 6,
      "metadata": {
        "id": "b-14jibe5eQz"
      },
      "outputs": [],
      "source": [
        "df = df.replace({\"emotions\": ordered_class_labels})"
      ]
    },
    {
      "cell_type": "code",
      "execution_count": 7,
      "metadata": {
        "colab": {
          "base_uri": "https://localhost:8080/"
        },
        "id": "G3d6frov5eQz",
        "outputId": "c6563307-d928-47c3-c217-a45b62d5d8a5"
      },
      "outputs": [
        {
          "output_type": "stream",
          "name": "stdout",
          "text": [
            "Looking in indexes: https://pypi.org/simple, https://us-python.pkg.dev/colab-wheels/public/simple/\n",
            "Requirement already satisfied: datasets in /usr/local/lib/python3.10/dist-packages (2.12.0)\n",
            "Requirement already satisfied: numpy>=1.17 in /usr/local/lib/python3.10/dist-packages (from datasets) (1.22.4)\n",
            "Requirement already satisfied: pyarrow>=8.0.0 in /usr/local/lib/python3.10/dist-packages (from datasets) (9.0.0)\n",
            "Requirement already satisfied: dill<0.3.7,>=0.3.0 in /usr/local/lib/python3.10/dist-packages (from datasets) (0.3.6)\n",
            "Requirement already satisfied: pandas in /usr/local/lib/python3.10/dist-packages (from datasets) (1.5.3)\n",
            "Requirement already satisfied: requests>=2.19.0 in /usr/local/lib/python3.10/dist-packages (from datasets) (2.27.1)\n",
            "Requirement already satisfied: tqdm>=4.62.1 in /usr/local/lib/python3.10/dist-packages (from datasets) (4.65.0)\n",
            "Requirement already satisfied: xxhash in /usr/local/lib/python3.10/dist-packages (from datasets) (3.2.0)\n",
            "Requirement already satisfied: multiprocess in /usr/local/lib/python3.10/dist-packages (from datasets) (0.70.14)\n",
            "Requirement already satisfied: fsspec[http]>=2021.11.1 in /usr/local/lib/python3.10/dist-packages (from datasets) (2023.4.0)\n",
            "Requirement already satisfied: aiohttp in /usr/local/lib/python3.10/dist-packages (from datasets) (3.8.4)\n",
            "Requirement already satisfied: huggingface-hub<1.0.0,>=0.11.0 in /usr/local/lib/python3.10/dist-packages (from datasets) (0.14.1)\n",
            "Requirement already satisfied: packaging in /usr/local/lib/python3.10/dist-packages (from datasets) (23.1)\n",
            "Requirement already satisfied: responses<0.19 in /usr/local/lib/python3.10/dist-packages (from datasets) (0.18.0)\n",
            "Requirement already satisfied: pyyaml>=5.1 in /usr/local/lib/python3.10/dist-packages (from datasets) (6.0)\n",
            "Requirement already satisfied: attrs>=17.3.0 in /usr/local/lib/python3.10/dist-packages (from aiohttp->datasets) (23.1.0)\n",
            "Requirement already satisfied: charset-normalizer<4.0,>=2.0 in /usr/local/lib/python3.10/dist-packages (from aiohttp->datasets) (2.0.12)\n",
            "Requirement already satisfied: multidict<7.0,>=4.5 in /usr/local/lib/python3.10/dist-packages (from aiohttp->datasets) (6.0.4)\n",
            "Requirement already satisfied: async-timeout<5.0,>=4.0.0a3 in /usr/local/lib/python3.10/dist-packages (from aiohttp->datasets) (4.0.2)\n",
            "Requirement already satisfied: yarl<2.0,>=1.0 in /usr/local/lib/python3.10/dist-packages (from aiohttp->datasets) (1.9.2)\n",
            "Requirement already satisfied: frozenlist>=1.1.1 in /usr/local/lib/python3.10/dist-packages (from aiohttp->datasets) (1.3.3)\n",
            "Requirement already satisfied: aiosignal>=1.1.2 in /usr/local/lib/python3.10/dist-packages (from aiohttp->datasets) (1.3.1)\n",
            "Requirement already satisfied: filelock in /usr/local/lib/python3.10/dist-packages (from huggingface-hub<1.0.0,>=0.11.0->datasets) (3.12.0)\n",
            "Requirement already satisfied: typing-extensions>=3.7.4.3 in /usr/local/lib/python3.10/dist-packages (from huggingface-hub<1.0.0,>=0.11.0->datasets) (4.5.0)\n",
            "Requirement already satisfied: urllib3<1.27,>=1.21.1 in /usr/local/lib/python3.10/dist-packages (from requests>=2.19.0->datasets) (1.26.15)\n",
            "Requirement already satisfied: certifi>=2017.4.17 in /usr/local/lib/python3.10/dist-packages (from requests>=2.19.0->datasets) (2022.12.7)\n",
            "Requirement already satisfied: idna<4,>=2.5 in /usr/local/lib/python3.10/dist-packages (from requests>=2.19.0->datasets) (3.4)\n",
            "Requirement already satisfied: python-dateutil>=2.8.1 in /usr/local/lib/python3.10/dist-packages (from pandas->datasets) (2.8.2)\n",
            "Requirement already satisfied: pytz>=2020.1 in /usr/local/lib/python3.10/dist-packages (from pandas->datasets) (2022.7.1)\n",
            "Requirement already satisfied: six>=1.5 in /usr/local/lib/python3.10/dist-packages (from python-dateutil>=2.8.1->pandas->datasets) (1.16.0)\n"
          ]
        },
        {
          "output_type": "execute_result",
          "data": {
            "text/plain": [
              "Dataset({\n",
              "    features: ['emotions', 'text_pl'],\n",
              "    num_rows: 40000\n",
              "})"
            ]
          },
          "metadata": {},
          "execution_count": 7
        }
      ],
      "source": [
        "!pip install datasets\n",
        "from datasets import Dataset\n",
        "\n",
        "raw_dataset = Dataset.from_pandas(df).remove_columns(\"__index_level_0__\")\n",
        "raw_dataset"
      ]
    },
    {
      "cell_type": "code",
      "execution_count": 8,
      "metadata": {
        "colab": {
          "base_uri": "https://localhost:8080/"
        },
        "id": "NwCCIKHt5eQz",
        "outputId": "430c6ce0-3b51-43af-eff2-d218b1b8aee0"
      },
      "outputs": [
        {
          "output_type": "stream",
          "name": "stdout",
          "text": [
            "Looking in indexes: https://pypi.org/simple, https://us-python.pkg.dev/colab-wheels/public/simple/\n",
            "Requirement already satisfied: transformers in /usr/local/lib/python3.10/dist-packages (4.29.2)\n",
            "Requirement already satisfied: filelock in /usr/local/lib/python3.10/dist-packages (from transformers) (3.12.0)\n",
            "Requirement already satisfied: huggingface-hub<1.0,>=0.14.1 in /usr/local/lib/python3.10/dist-packages (from transformers) (0.14.1)\n",
            "Requirement already satisfied: numpy>=1.17 in /usr/local/lib/python3.10/dist-packages (from transformers) (1.22.4)\n",
            "Requirement already satisfied: packaging>=20.0 in /usr/local/lib/python3.10/dist-packages (from transformers) (23.1)\n",
            "Requirement already satisfied: pyyaml>=5.1 in /usr/local/lib/python3.10/dist-packages (from transformers) (6.0)\n",
            "Requirement already satisfied: regex!=2019.12.17 in /usr/local/lib/python3.10/dist-packages (from transformers) (2022.10.31)\n",
            "Requirement already satisfied: requests in /usr/local/lib/python3.10/dist-packages (from transformers) (2.27.1)\n",
            "Requirement already satisfied: tokenizers!=0.11.3,<0.14,>=0.11.1 in /usr/local/lib/python3.10/dist-packages (from transformers) (0.13.3)\n",
            "Requirement already satisfied: tqdm>=4.27 in /usr/local/lib/python3.10/dist-packages (from transformers) (4.65.0)\n",
            "Requirement already satisfied: fsspec in /usr/local/lib/python3.10/dist-packages (from huggingface-hub<1.0,>=0.14.1->transformers) (2023.4.0)\n",
            "Requirement already satisfied: typing-extensions>=3.7.4.3 in /usr/local/lib/python3.10/dist-packages (from huggingface-hub<1.0,>=0.14.1->transformers) (4.5.0)\n",
            "Requirement already satisfied: urllib3<1.27,>=1.21.1 in /usr/local/lib/python3.10/dist-packages (from requests->transformers) (1.26.15)\n",
            "Requirement already satisfied: certifi>=2017.4.17 in /usr/local/lib/python3.10/dist-packages (from requests->transformers) (2022.12.7)\n",
            "Requirement already satisfied: charset-normalizer~=2.0.0 in /usr/local/lib/python3.10/dist-packages (from requests->transformers) (2.0.12)\n",
            "Requirement already satisfied: idna<4,>=2.5 in /usr/local/lib/python3.10/dist-packages (from requests->transformers) (3.4)\n"
          ]
        }
      ],
      "source": [
        "!pip install transformers\n",
        "from transformers import AutoTokenizer\n",
        "\n",
        "checkpoint = \"dkleczek/bert-base-polish-uncased-v1\"\n",
        "tokenizer = AutoTokenizer.from_pretrained(checkpoint)"
      ]
    },
    {
      "cell_type": "code",
      "execution_count": 9,
      "metadata": {
        "colab": {
          "base_uri": "https://localhost:8080/",
          "height": 35,
          "referenced_widgets": [
            "98123217c4aa41d080a1c919a3c24b1c",
            "8a453c55a7344b7e9b03c5c183d7a333",
            "ccf1b4e8e5494174ae4e42ece26925db",
            "ce900dd4b0794d7d939029e16e969b74",
            "5caf6956738644bb9f83e550e8e3f498",
            "69a49a0075ee46b1ba166ba6e6dd9066",
            "d4bab137f5704632b30d0a7c52650fe8",
            "47b4b57e12fc4d4fab47f6373fe1cf2d",
            "490cd27495504554bc6fa32a9abb8f2b",
            "0cb76bc53f7e4ed29ea6c9f7327093e0",
            "db5f14b065e84067ad73d75e4ce36d7a"
          ]
        },
        "id": "GfvdpnqJ5eQz",
        "outputId": "68721bb7-2546-4a2a-ff51-590da3536133"
      },
      "outputs": [
        {
          "output_type": "display_data",
          "data": {
            "text/plain": [
              "Map:   0%|          | 0/40000 [00:00<?, ? examples/s]"
            ],
            "application/vnd.jupyter.widget-view+json": {
              "version_major": 2,
              "version_minor": 0,
              "model_id": "98123217c4aa41d080a1c919a3c24b1c"
            }
          },
          "metadata": {}
        },
        {
          "output_type": "stream",
          "name": "stderr",
          "text": [
            "Asking to truncate to max_length but no maximum length is provided and the model has no predefined maximum length. Default to no truncation.\n"
          ]
        }
      ],
      "source": [
        "def tokenize_function(example):\n",
        "    return tokenizer(example[\"text_pl\"], truncation=True)\n",
        "\n",
        "\n",
        "tokenized_dataset = raw_dataset.map(tokenize_function, batched=True)"
      ]
    },
    {
      "cell_type": "code",
      "execution_count": 10,
      "metadata": {
        "id": "0NgkmJU35eQ0"
      },
      "outputs": [],
      "source": [
        "# Train set: 80%, Validation set: 10%, Test set: 10%\n",
        "tokenized_train_dataset, tokenized_val_dataset, tokenized_test_dataset = model_utils.split_train_val_test(\n",
        "    tokenized_dataset,\n",
        "    train_size=0.8,\n",
        "    test_size_of_val_test_batch=0.5)"
      ]
    },
    {
      "cell_type": "code",
      "execution_count": 11,
      "metadata": {
        "colab": {
          "base_uri": "https://localhost:8080/"
        },
        "id": "E-JHn_eF5eQ0",
        "outputId": "cac8de6d-d7bd-4893-a31e-07db26f0890e"
      },
      "outputs": [
        {
          "output_type": "stream",
          "name": "stderr",
          "text": [
            "/usr/local/lib/python3.10/dist-packages/datasets/arrow_dataset.py:388: FutureWarning: The output of `to_tf_dataset` will change when a passing single element list for `labels` or `columns` in the next datasets version. To return a tuple structure rather than dict, pass a single string.\n",
            "Old behaviour: columns=['a'], labels=['labels'] -> (tf.Tensor, tf.Tensor)  \n",
            "             : columns='a', labels='labels' -> (tf.Tensor, tf.Tensor)  \n",
            "New behaviour: columns=['a'],labels=['labels'] -> ({'a': tf.Tensor}, {'labels': tf.Tensor})  \n",
            "             : columns='a', labels='labels' -> (tf.Tensor, tf.Tensor) \n",
            "  warnings.warn(\n",
            "You're using a BertTokenizerFast tokenizer. Please note that with a fast tokenizer, using the `__call__` method is faster than using a method to encode the text followed by a call to the `pad` method to get a padded encoding.\n"
          ]
        }
      ],
      "source": [
        "from transformers import DataCollatorWithPadding\n",
        "\n",
        "columns = [\"attention_mask\", \"input_ids\", \"token_type_ids\"]\n",
        "label_cols = [\"emotions\"]\n",
        "batch_size = 8\n",
        "data_collator = DataCollatorWithPadding(tokenizer=tokenizer, return_tensors=\"tf\")\n",
        "\n",
        "tf_train_dataset = model_utils.convert_to_tf_dataset(tokenized_train_dataset, columns, label_cols, data_collator,\n",
        "                                                     batch_size)\n",
        "tf_val_dataset = model_utils.convert_to_tf_dataset(tokenized_val_dataset, columns, label_cols, data_collator,\n",
        "                                                   batch_size)\n",
        "tf_test_dataset = model_utils.convert_to_tf_dataset(tokenized_test_dataset, columns, label_cols, data_collator,\n",
        "                                                    batch_size)"
      ]
    },
    {
      "cell_type": "code",
      "execution_count": 12,
      "metadata": {
        "id": "oO39wgGs5eQ0"
      },
      "outputs": [],
      "source": [
        "# Model parameters\n",
        "training_number = 3\n",
        "model_name = \"emotions_pl_bert\"\n",
        "\n",
        "training_name = f\"training_{training_number}\"\n",
        "checkpoint_filename_template = \"cp-{epoch:04d}.ckpt\"\n",
        "checkpoints_dir = os.path.join(constants.TRAINING_CHECKPOINTS_PATH, model_name, training_name)\n",
        "figures_dir = \"figures\"\n",
        "checkpoint_path = os.path.join(checkpoints_dir, checkpoint_filename_template)"
      ]
    },
    {
      "cell_type": "code",
      "execution_count": 13,
      "metadata": {
        "id": "X1sI9GBj5eQ0"
      },
      "outputs": [],
      "source": [
        "# Callbacks\n",
        "checkpoint_cb = tf.keras.callbacks.ModelCheckpoint(checkpoint_path, verbose=1, save_weights_only=True)\n",
        "early_stop_cb = tf.keras.callbacks.EarlyStopping(patience=3)\n",
        "callbacks = [checkpoint_cb, early_stop_cb]"
      ]
    },
    {
      "cell_type": "code",
      "execution_count": 14,
      "metadata": {
        "id": "qnRWTJSX5eQ0"
      },
      "outputs": [],
      "source": [
        "from tensorflow.keras.optimizers.schedules import PolynomialDecay\n",
        "from tensorflow.keras.optimizers import Adam\n",
        "\n",
        "num_epochs = 10\n",
        "num_train_steps = len(tf_train_dataset) * num_epochs\n",
        "lr_scheduler = PolynomialDecay(\n",
        "    initial_learning_rate=5e-5, end_learning_rate=0.0, decay_steps=num_train_steps\n",
        ")\n",
        "\n",
        "optimizer = Adam(learning_rate=lr_scheduler)"
      ]
    },
    {
      "cell_type": "code",
      "execution_count": 15,
      "metadata": {
        "colab": {
          "base_uri": "https://localhost:8080/"
        },
        "id": "EINQOAKD5eQ1",
        "outputId": "a0800617-7fc0-4d67-f1f4-5bb01ff0f49f"
      },
      "outputs": [
        {
          "output_type": "stream",
          "name": "stderr",
          "text": [
            "All PyTorch model weights were used when initializing TFBertForSequenceClassification.\n",
            "\n",
            "Some weights or buffers of the TF 2.0 model TFBertForSequenceClassification were not initialized from the PyTorch model and are newly initialized: ['classifier.weight', 'classifier.bias']\n",
            "You should probably TRAIN this model on a down-stream task to be able to use it for predictions and inference.\n"
          ]
        }
      ],
      "source": [
        "from transformers import TFAutoModelForSequenceClassification\n",
        "\n",
        "model = TFAutoModelForSequenceClassification.from_pretrained(checkpoint, num_labels=6, from_pt=True)"
      ]
    },
    {
      "cell_type": "code",
      "execution_count": 16,
      "metadata": {
        "id": "zDhzasko5eQ1"
      },
      "outputs": [],
      "source": [
        "# Compile\n",
        "loss = tf.keras.losses.SparseCategoricalCrossentropy(from_logits=True)\n",
        "metrics = [\"accuracy\"]\n",
        "model.compile(optimizer=optimizer, loss=loss, metrics=metrics)"
      ]
    },
    {
      "cell_type": "code",
      "execution_count": 17,
      "metadata": {
        "colab": {
          "base_uri": "https://localhost:8080/"
        },
        "id": "DGBtRewP5eQ1",
        "outputId": "ebf83510-33a4-47b6-9345-d6eea7e8d6be"
      },
      "outputs": [
        {
          "output_type": "stream",
          "name": "stdout",
          "text": [
            "Epoch 1/10\n",
            "4000/4000 [==============================] - ETA: 0s - loss: 0.5724 - accuracy: 0.8064\n",
            "Epoch 1: saving model to ../../training_checkpoints/emotions_pl_bert/training_3/cp-0001.ckpt\n",
            "4000/4000 [==============================] - 603s 138ms/step - loss: 0.5724 - accuracy: 0.8064 - val_loss: 0.4779 - val_accuracy: 0.8425\n",
            "Epoch 2/10\n",
            "4000/4000 [==============================] - ETA: 0s - loss: 0.3476 - accuracy: 0.8805\n",
            "Epoch 2: saving model to ../../training_checkpoints/emotions_pl_bert/training_3/cp-0002.ckpt\n",
            "4000/4000 [==============================] - 507s 127ms/step - loss: 0.3476 - accuracy: 0.8805 - val_loss: 0.4349 - val_accuracy: 0.8630\n",
            "Epoch 3/10\n",
            "4000/4000 [==============================] - ETA: 0s - loss: 0.2610 - accuracy: 0.9082\n",
            "Epoch 3: saving model to ../../training_checkpoints/emotions_pl_bert/training_3/cp-0003.ckpt\n",
            "4000/4000 [==============================] - 514s 129ms/step - loss: 0.2610 - accuracy: 0.9082 - val_loss: 0.4334 - val_accuracy: 0.8692\n",
            "Epoch 4/10\n",
            "4000/4000 [==============================] - ETA: 0s - loss: 0.1926 - accuracy: 0.9302\n",
            "Epoch 4: saving model to ../../training_checkpoints/emotions_pl_bert/training_3/cp-0004.ckpt\n",
            "4000/4000 [==============================] - 512s 128ms/step - loss: 0.1926 - accuracy: 0.9302 - val_loss: 0.5179 - val_accuracy: 0.8585\n",
            "Epoch 5/10\n",
            "4000/4000 [==============================] - ETA: 0s - loss: 0.1414 - accuracy: 0.9478\n",
            "Epoch 5: saving model to ../../training_checkpoints/emotions_pl_bert/training_3/cp-0005.ckpt\n",
            "4000/4000 [==============================] - 521s 130ms/step - loss: 0.1414 - accuracy: 0.9478 - val_loss: 0.5437 - val_accuracy: 0.8630\n",
            "Epoch 6/10\n",
            "4000/4000 [==============================] - ETA: 0s - loss: 0.1033 - accuracy: 0.9611\n",
            "Epoch 6: saving model to ../../training_checkpoints/emotions_pl_bert/training_3/cp-0006.ckpt\n",
            "4000/4000 [==============================] - 512s 128ms/step - loss: 0.1033 - accuracy: 0.9611 - val_loss: 0.5463 - val_accuracy: 0.8695\n"
          ]
        }
      ],
      "source": [
        "history = model.fit(tf_train_dataset, validation_data=tf_val_dataset, epochs=num_epochs, callbacks=callbacks)"
      ]
    },
    {
      "cell_type": "code",
      "execution_count": 18,
      "metadata": {
        "colab": {
          "base_uri": "https://localhost:8080/",
          "height": 927
        },
        "id": "32pv8PpG5eQ1",
        "outputId": "28f629b4-1e91-46f4-b04a-aaa874bd6dbe"
      },
      "outputs": [
        {
          "output_type": "display_data",
          "data": {
            "text/plain": [
              "<Figure size 640x480 with 1 Axes>"
            ],
            "image/png": "[encoded data removed]"
          },
          "metadata": {}
        },
        {
          "output_type": "display_data",
          "data": {
            "text/plain": [
              "<Figure size 640x480 with 1 Axes>"
            ],
            "image/png": "[encoded data removed]"
          },
          "metadata": {}
        }
      ],
      "source": [
        "model_utils.plot_and_save_fig_from_history(history,\n",
        "                                           attributes=['accuracy', 'val_accuracy'],\n",
        "                                           title='Model accuracy',\n",
        "                                           y_label='Accuracy',\n",
        "                                           x_label='Epoch',\n",
        "                                           legend_descriptors=['Train', 'Val'],\n",
        "                                           figure_dir_path=figures_dir,\n",
        "                                           figure_filename=f\"{training_name}_accuracy.png\")\n",
        "\n",
        "model_utils.plot_and_save_fig_from_history(history,\n",
        "                                           attributes=['loss', 'val_loss'],\n",
        "                                           title='Model loss',\n",
        "                                           y_label='Loss',\n",
        "                                           x_label='Epoch',\n",
        "                                           legend_descriptors=['Train', 'Val'],\n",
        "                                           figure_dir_path=figures_dir,\n",
        "                                           figure_filename=f\"{training_name}_loss.png\")"
      ]
    },
    {
      "cell_type": "code",
      "execution_count": 19,
      "metadata": {
        "id": "_xsEWYUg5eQ1"
      },
      "outputs": [],
      "source": [
        "best_model = model_utils.get_best_model_from_checkpoints(model, history,\n",
        "                                                         checkpoints_dir=checkpoints_dir,\n",
        "                                                         checkpoint_filename_template=checkpoint_filename_template)"
      ]
    },
    {
      "cell_type": "code",
      "execution_count": 20,
      "metadata": {
        "colab": {
          "base_uri": "https://localhost:8080/"
        },
        "id": "Lk548ejW5eQ1",
        "outputId": "1cbc737d-bd40-4e43-d2b3-f8ca03287199"
      },
      "outputs": [
        {
          "output_type": "stream",
          "name": "stderr",
          "text": [
            "WARNING:absl:Found untraced functions such as embeddings_layer_call_fn, embeddings_layer_call_and_return_conditional_losses, encoder_layer_call_fn, encoder_layer_call_and_return_conditional_losses, pooler_layer_call_fn while saving (showing 5 of 420). These functions will not be directly callable after loading.\n"
          ]
        }
      ],
      "source": [
        "model_utils.save_model(best_model, model_name=model_name, training_number=training_number, saved_models_dir=constants.SAVED_MODEL_LOCATION, default_model_version=constants.DEFAULT_MODEL_VERSION)"
      ]
    },
    {
      "cell_type": "code",
      "execution_count": 21,
      "metadata": {
        "colab": {
          "base_uri": "https://localhost:8080/"
        },
        "id": "Ce7YShZZ5eQ1",
        "outputId": "052cb278-df43-4e33-a92f-b15376785c1b"
      },
      "outputs": [
        {
          "output_type": "stream",
          "name": "stdout",
          "text": [
            "500/500 [==============================] - 24s 47ms/step - loss: 0.4134 - accuracy: 0.8662\n"
          ]
        },
        {
          "output_type": "execute_result",
          "data": {
            "text/plain": [
              "[0.4134465456008911, 0.8662499785423279]"
            ]
          },
          "metadata": {},
          "execution_count": 21
        }
      ],
      "source": [
        "# Evaluation\n",
        "best_model.evaluate(tf_test_dataset, batch_size=batch_size)"
      ]
    },
    {
      "cell_type": "code",
      "execution_count": 22,
      "metadata": {
        "colab": {
          "base_uri": "https://localhost:8080/"
        },
        "id": "6FRo-JOX5eQ2",
        "outputId": "adc50300-cedb-4f02-e7f0-ef03f48340be"
      },
      "outputs": [
        {
          "output_type": "stream",
          "name": "stdout",
          "text": [
            "500/500 [==============================] - 26s 46ms/step\n"
          ]
        }
      ],
      "source": [
        "class_preds = model_utils.get_class_preds(model, tf_test_dataset)"
      ]
    },
    {
      "cell_type": "code",
      "execution_count": 23,
      "metadata": {
        "colab": {
          "base_uri": "https://localhost:8080/"
        },
        "id": "aF-P0RFD5eQ2",
        "outputId": "f2f41da3-d37c-4d69-9cd3-2db549dd3c68"
      },
      "outputs": [
        {
          "output_type": "stream",
          "name": "stdout",
          "text": [
            "Precision score:  0.86625\n",
            "Recall score:  0.86625\n",
            "F1 score:  0.86625\n"
          ]
        }
      ],
      "source": [
        "precision, recall, f1 = model_utils.get_classification_evaluation_metrics(\n",
        "    class_actual=tokenized_test_dataset['emotions'],\n",
        "    class_preds=class_preds,\n",
        "    average='micro')\n",
        "\n",
        "print(f\"Precision score: \", precision)\n",
        "print(f\"Recall score: \", recall)\n",
        "print(f\"F1 score: \", f1)"
      ]
    },
    {
      "cell_type": "code",
      "execution_count": 24,
      "metadata": {
        "colab": {
          "base_uri": "https://localhost:8080/",
          "height": 449
        },
        "id": "wm-WfZEA5eQ2",
        "outputId": "aa7fb400-d8ce-4e37-cc39-87e055499f46"
      },
      "outputs": [
        {
          "output_type": "display_data",
          "data": {
            "text/plain": [
              "<Figure size 640x480 with 2 Axes>"
            ],
            "image/png": "[encoded data removed]"
          },
          "metadata": {}
        }
      ],
      "source": [
        "model_utils.plot_and_save_conf_matrix(class_actual=tokenized_test_dataset['emotions'],\n",
        "                                      class_preds=class_preds,\n",
        "                                      figure_dir_path=figures_dir,\n",
        "                                      figure_filename=f\"{training_name}_confmatrix.png\")"
      ]
    },
    {
      "cell_type": "code",
      "execution_count": 25,
      "metadata": {
        "colab": {
          "base_uri": "https://localhost:8080/"
        },
        "id": "viMRizWd5eQ2",
        "outputId": "db86b529-daa0-4b5c-e613-c03b24495300"
      },
      "outputs": [
        {
          "output_type": "stream",
          "name": "stdout",
          "text": [
            "\n",
            "            BAD PREDICTION:\n",
            "            - INDEX: 3\n",
            "            - TEXT: ive just got to tell you all that I feel Raczej niecierpliwy\n",
            "            - PREDICTED VALUE: 2\n",
            "            - CORRECT VALUE: 4\n",
            "            \n",
            "\n",
            "            BAD PREDICTION:\n",
            "            - INDEX: 4\n",
            "            - TEXT: Powiedziałem ci, że przepraszam, że czujesz się sfrustrowany i zapytałem, czy myślisz, że krzyk zmieni moje zdanie\n",
            "            - PREDICTED VALUE: 1\n",
            "            - CORRECT VALUE: 4\n",
            "            \n",
            "\n",
            "            BAD PREDICTION:\n",
            "            - INDEX: 5\n",
            "            - TEXT: Czuję się nieco niepewnie prosząc o pomoc w pomaganiu mi w finansowaniu tej podróży, ponieważ wydaje się to bardzo pobłażliwą rzeczą, którą można poprosić o pomoc.\n",
            "            - PREDICTED VALUE: 1\n",
            "            - CORRECT VALUE: 5\n",
            "            \n",
            "\n",
            "            BAD PREDICTION:\n",
            "            - INDEX: 6\n",
            "            - TEXT: Czuję się mniej szalony o mojej kolekcji teraz niż wtedy, gdy byłem stale ulepszając go\n",
            "            - PREDICTED VALUE: 0\n",
            "            - CORRECT VALUE: 5\n",
            "            \n",
            "\n",
            "            BAD PREDICTION:\n",
            "            - INDEX: 7\n",
            "            - TEXT: Jedyna różnica polega na tym, że prawdopodobnie czułbym się mniej zmuszony w Singapurze, ale to niczego nie zmieni.\n",
            "            - PREDICTED VALUE: 2\n",
            "            - CORRECT VALUE: 5\n",
            "            \n",
            "\n",
            "            BAD PREDICTION:\n",
            "            - INDEX: 8\n",
            "            - TEXT: Chcę być używany przez ciebie i chcę poczuć, że moja twarz się rozgrzewa, więc jeśli twoje słowa nie działają lub nie używasz słów, nie bój się użyć ręki.\n",
            "            - PREDICTED VALUE: 0\n",
            "            - CORRECT VALUE: 1\n",
            "            \n",
            "\n",
            "            BAD PREDICTION:\n",
            "            - INDEX: 9\n",
            "            - TEXT: Wiem, dlaczego się złoszczę, ponieważ moje myśli krążą wokół kilku małych rzeczy, w których czuję, że zostałem wyruchany lub po prostu skrzywdzony.\n",
            "            - PREDICTED VALUE: 0\n",
            "            - CORRECT VALUE: 4\n",
            "            \n",
            "\n",
            "            BAD PREDICTION:\n",
            "            - INDEX: 10\n",
            "            - TEXT: Nie czułem się jakbym powodował problem w rodzaju osoby, z którą miałem konfrontacje, więc nienawidziłem wysyłania e-maili z informacją, że coś jest nie tak\n",
            "            - PREDICTED VALUE: 1\n",
            "            - CORRECT VALUE: 3\n",
            "            \n",
            "\n",
            "            BAD PREDICTION:\n",
            "            - INDEX: 12\n",
            "            - TEXT: Czuję zimny metal\n",
            "            - PREDICTED VALUE: 2\n",
            "            - CORRECT VALUE: 4\n",
            "            \n",
            "\n",
            "            BAD PREDICTION:\n",
            "            - INDEX: 13\n",
            "            - TEXT: Czuję się bardziej pewnie z moimi garnkami teraz, gdy mam piec, na którym mogę skupić swoją energię\n",
            "            - PREDICTED VALUE: 4\n",
            "            - CORRECT VALUE: 0\n",
            "            \n"
          ]
        }
      ],
      "source": [
        "model_utils.print_incorrectly_predicted_texts(texts=raw_dataset['text_pl'],\n",
        "                                              class_actual=raw_dataset['emotions'],\n",
        "                                              class_preds=class_preds)"
      ]
    },
    {
      "cell_type": "code",
      "execution_count": 28,
      "metadata": {
        "colab": {
          "base_uri": "https://localhost:8080/"
        },
        "id": "EGinKtUgJ76O",
        "outputId": "f5063ef1-0361-4284-ecde-16390fcd0f4f"
      },
      "outputs": [
        {
          "output_type": "stream",
          "name": "stdout",
          "text": [
            "updating: figures/ (stored 0%)\n",
            "updating: figures/training_3_accuracy.png (deflated 10%)\n",
            "updating: figures/training_3_loss.png (deflated 10%)\n",
            "updating: figures/training_3_confmatrix.png (deflated 10%)\n"
          ]
        }
      ],
      "source": [
        "!zip -r documentation.zip figures"
      ]
    },
    {
      "cell_type": "code",
      "execution_count": 29,
      "metadata": {
        "colab": {
          "base_uri": "https://localhost:8080/",
          "height": 17
        },
        "id": "1JD_SXqtJ9fB",
        "outputId": "996e1c60-684d-4530-e892-5765412877a4"
      },
      "outputs": [
        {
          "output_type": "display_data",
          "data": {
            "text/plain": [
              "<IPython.core.display.Javascript object>"
            ],
            "application/javascript": [
              "\n",
              "    async function download(id, filename, size) {\n",
              "      if (!google.colab.kernel.accessAllowed) {\n",
              "        return;\n",
              "      }\n",
              "      const div = document.createElement('div');\n",
              "      const label = document.createElement('label');\n",
              "      label.textContent = `Downloading \"${filename}\": `;\n",
              "      div.appendChild(label);\n",
              "      const progress = document.createElement('progress');\n",
              "      progress.max = size;\n",
              "      div.appendChild(progress);\n",
              "      document.body.appendChild(div);\n",
              "\n",
              "      const buffers = [];\n",
              "      let downloaded = 0;\n",
              "\n",
              "      const channel = await google.colab.kernel.comms.open(id);\n",
              "      // Send a message to notify the kernel that we're ready.\n",
              "      channel.send({})\n",
              "\n",
              "      for await (const message of channel.messages) {\n",
              "        // Send a message to notify the kernel that we're ready.\n",
              "        channel.send({})\n",
              "        if (message.buffers) {\n",
              "          for (const buffer of message.buffers) {\n",
              "            buffers.push(buffer);\n",
              "            downloaded += buffer.byteLength;\n",
              "            progress.value = downloaded;\n",
              "          }\n",
              "        }\n",
              "      }\n",
              "      const blob = new Blob(buffers, {type: 'application/binary'});\n",
              "      const a = document.createElement('a');\n",
              "      a.href = window.URL.createObjectURL(blob);\n",
              "      a.download = filename;\n",
              "      div.appendChild(a);\n",
              "      a.click();\n",
              "      div.remove();\n",
              "    }\n",
              "  "
            ]
          },
          "metadata": {}
        },
        {
          "output_type": "display_data",
          "data": {
            "text/plain": [
              "<IPython.core.display.Javascript object>"
            ],
            "application/javascript": [
              "download(\"download_5577c1d2-cc03-4619-ba17-24731a22bcef\", \"documentation.zip\", 73679)"
            ]
          },
          "metadata": {}
        }
      ],
      "source": [
        "from google.colab import files\n",
        "files.download(\"documentation.zip\")"
      ]
    },
    {
      "cell_type": "code",
      "source": [],
      "metadata": {
        "id": "7SZPVaYRdFQF"
      },
      "execution_count": null,
      "outputs": []
    }
  ],
  "metadata": {
    "accelerator": "GPU",
    "colab": {
      "provenance": []
    },
    "kernelspec": {
      "display_name": "Python 3",
      "name": "python3"
    },
    "language_info": {
      "codemirror_mode": {
        "name": "ipython",
        "version": 3
      },
      "file_extension": ".py",
      "mimetype": "text/x-python",
      "name": "python",
      "nbconvert_exporter": "python",
      "pygments_lexer": "ipython3",
      "version": "3.10.11"
    },
    "widgets": {
      "application/vnd.jupyter.widget-state+json": {
        "98123217c4aa41d080a1c919a3c24b1c": {
          "model_module": "@jupyter-widgets/controls",
          "model_name": "HBoxModel",
          "model_module_version": "1.5.0",
          "state": {
            "_dom_classes": [],
            "_model_module": "@jupyter-widgets/controls",
            "_model_module_version": "1.5.0",
            "_model_name": "HBoxModel",
            "_view_count": null,
            "_view_module": "@jupyter-widgets/controls",
            "_view_module_version": "1.5.0",
            "_view_name": "HBoxView",
            "box_style": "",
            "children": [
              "IPY_MODEL_8a453c55a7344b7e9b03c5c183d7a333",
              "IPY_MODEL_ccf1b4e8e5494174ae4e42ece26925db",
              "IPY_MODEL_ce900dd4b0794d7d939029e16e969b74"
            ],
            "layout": "IPY_MODEL_5caf6956738644bb9f83e550e8e3f498"
          }
        },
        "8a453c55a7344b7e9b03c5c183d7a333": {
          "model_module": "@jupyter-widgets/controls",
          "model_name": "HTMLModel",
          "model_module_version": "1.5.0",
          "state": {
            "_dom_classes": [],
            "_model_module": "@jupyter-widgets/controls",
            "_model_module_version": "1.5.0",
            "_model_name": "HTMLModel",
            "_view_count": null,
            "_view_module": "@jupyter-widgets/controls",
            "_view_module_version": "1.5.0",
            "_view_name": "HTMLView",
            "description": "",
            "description_tooltip": null,
            "layout": "IPY_MODEL_69a49a0075ee46b1ba166ba6e6dd9066",
            "placeholder": "​",
            "style": "IPY_MODEL_d4bab137f5704632b30d0a7c52650fe8",
            "value": "Map: 100%"
          }
        },
        "ccf1b4e8e5494174ae4e42ece26925db": {
          "model_module": "@jupyter-widgets/controls",
          "model_name": "FloatProgressModel",
          "model_module_version": "1.5.0",
          "state": {
            "_dom_classes": [],
            "_model_module": "@jupyter-widgets/controls",
            "_model_module_version": "1.5.0",
            "_model_name": "FloatProgressModel",
            "_view_count": null,
            "_view_module": "@jupyter-widgets/controls",
            "_view_module_version": "1.5.0",
            "_view_name": "ProgressView",
            "bar_style": "",
            "description": "",
            "description_tooltip": null,
            "layout": "IPY_MODEL_47b4b57e12fc4d4fab47f6373fe1cf2d",
            "max": 40000,
            "min": 0,
            "orientation": "horizontal",
            "style": "IPY_MODEL_490cd27495504554bc6fa32a9abb8f2b",
            "value": 40000
          }
        },
        "ce900dd4b0794d7d939029e16e969b74": {
          "model_module": "@jupyter-widgets/controls",
          "model_name": "HTMLModel",
          "model_module_version": "1.5.0",
          "state": {
            "_dom_classes": [],
            "_model_module": "@jupyter-widgets/controls",
            "_model_module_version": "1.5.0",
            "_model_name": "HTMLModel",
            "_view_count": null,
            "_view_module": "@jupyter-widgets/controls",
            "_view_module_version": "1.5.0",
            "_view_name": "HTMLView",
            "description": "",
            "description_tooltip": null,
            "layout": "IPY_MODEL_0cb76bc53f7e4ed29ea6c9f7327093e0",
            "placeholder": "​",
            "style": "IPY_MODEL_db5f14b065e84067ad73d75e4ce36d7a",
            "value": " 40000/40000 [00:04&lt;00:00, 9626.61 examples/s]"
          }
        },
        "5caf6956738644bb9f83e550e8e3f498": {
          "model_module": "@jupyter-widgets/base",
          "model_name": "LayoutModel",
          "model_module_version": "1.2.0",
          "state": {
            "_model_module": "@jupyter-widgets/base",
            "_model_module_version": "1.2.0",
            "_model_name": "LayoutModel",
            "_view_count": null,
            "_view_module": "@jupyter-widgets/base",
            "_view_module_version": "1.2.0",
            "_view_name": "LayoutView",
            "align_content": null,
            "align_items": null,
            "align_self": null,
            "border": null,
            "bottom": null,
            "display": null,
            "flex": null,
            "flex_flow": null,
            "grid_area": null,
            "grid_auto_columns": null,
            "grid_auto_flow": null,
            "grid_auto_rows": null,
            "grid_column": null,
            "grid_gap": null,
            "grid_row": null,
            "grid_template_areas": null,
            "grid_template_columns": null,
            "grid_template_rows": null,
            "height": null,
            "justify_content": null,
            "justify_items": null,
            "left": null,
            "margin": null,
            "max_height": null,
            "max_width": null,
            "min_height": null,
            "min_width": null,
            "object_fit": null,
            "object_position": null,
            "order": null,
            "overflow": null,
            "overflow_x": null,
            "overflow_y": null,
            "padding": null,
            "right": null,
            "top": null,
            "visibility": "hidden",
            "width": null
          }
        },
        "69a49a0075ee46b1ba166ba6e6dd9066": {
          "model_module": "@jupyter-widgets/base",
          "model_name": "LayoutModel",
          "model_module_version": "1.2.0",
          "state": {
            "_model_module": "@jupyter-widgets/base",
            "_model_module_version": "1.2.0",
            "_model_name": "LayoutModel",
            "_view_count": null,
            "_view_module": "@jupyter-widgets/base",
            "_view_module_version": "1.2.0",
            "_view_name": "LayoutView",
            "align_content": null,
            "align_items": null,
            "align_self": null,
            "border": null,
            "bottom": null,
            "display": null,
            "flex": null,
            "flex_flow": null,
            "grid_area": null,
            "grid_auto_columns": null,
            "grid_auto_flow": null,
            "grid_auto_rows": null,
            "grid_column": null,
            "grid_gap": null,
            "grid_row": null,
            "grid_template_areas": null,
            "grid_template_columns": null,
            "grid_template_rows": null,
            "height": null,
            "justify_content": null,
            "justify_items": null,
            "left": null,
            "margin": null,
            "max_height": null,
            "max_width": null,
            "min_height": null,
            "min_width": null,
            "object_fit": null,
            "object_position": null,
            "order": null,
            "overflow": null,
            "overflow_x": null,
            "overflow_y": null,
            "padding": null,
            "right": null,
            "top": null,
            "visibility": null,
            "width": null
          }
        },
        "d4bab137f5704632b30d0a7c52650fe8": {
          "model_module": "@jupyter-widgets/controls",
          "model_name": "DescriptionStyleModel",
          "model_module_version": "1.5.0",
          "state": {
            "_model_module": "@jupyter-widgets/controls",
            "_model_module_version": "1.5.0",
            "_model_name": "DescriptionStyleModel",
            "_view_count": null,
            "_view_module": "@jupyter-widgets/base",
            "_view_module_version": "1.2.0",
            "_view_name": "StyleView",
            "description_width": ""
          }
        },
        "47b4b57e12fc4d4fab47f6373fe1cf2d": {
          "model_module": "@jupyter-widgets/base",
          "model_name": "LayoutModel",
          "model_module_version": "1.2.0",
          "state": {
            "_model_module": "@jupyter-widgets/base",
            "_model_module_version": "1.2.0",
            "_model_name": "LayoutModel",
            "_view_count": null,
            "_view_module": "@jupyter-widgets/base",
            "_view_module_version": "1.2.0",
            "_view_name": "LayoutView",
            "align_content": null,
            "align_items": null,
            "align_self": null,
            "border": null,
            "bottom": null,
            "display": null,
            "flex": null,
            "flex_flow": null,
            "grid_area": null,
            "grid_auto_columns": null,
            "grid_auto_flow": null,
            "grid_auto_rows": null,
            "grid_column": null,
            "grid_gap": null,
            "grid_row": null,
            "grid_template_areas": null,
            "grid_template_columns": null,
            "grid_template_rows": null,
            "height": null,
            "justify_content": null,
            "justify_items": null,
            "left": null,
            "margin": null,
            "max_height": null,
            "max_width": null,
            "min_height": null,
            "min_width": null,
            "object_fit": null,
            "object_position": null,
            "order": null,
            "overflow": null,
            "overflow_x": null,
            "overflow_y": null,
            "padding": null,
            "right": null,
            "top": null,
            "visibility": null,
            "width": null
          }
        },
        "490cd27495504554bc6fa32a9abb8f2b": {
          "model_module": "@jupyter-widgets/controls",
          "model_name": "ProgressStyleModel",
          "model_module_version": "1.5.0",
          "state": {
            "_model_module": "@jupyter-widgets/controls",
            "_model_module_version": "1.5.0",
            "_model_name": "ProgressStyleModel",
            "_view_count": null,
            "_view_module": "@jupyter-widgets/base",
            "_view_module_version": "1.2.0",
            "_view_name": "StyleView",
            "bar_color": null,
            "description_width": ""
          }
        },
        "0cb76bc53f7e4ed29ea6c9f7327093e0": {
          "model_module": "@jupyter-widgets/base",
          "model_name": "LayoutModel",
          "model_module_version": "1.2.0",
          "state": {
            "_model_module": "@jupyter-widgets/base",
            "_model_module_version": "1.2.0",
            "_model_name": "LayoutModel",
            "_view_count": null,
            "_view_module": "@jupyter-widgets/base",
            "_view_module_version": "1.2.0",
            "_view_name": "LayoutView",
            "align_content": null,
            "align_items": null,
            "align_self": null,
            "border": null,
            "bottom": null,
            "display": null,
            "flex": null,
            "flex_flow": null,
            "grid_area": null,
            "grid_auto_columns": null,
            "grid_auto_flow": null,
            "grid_auto_rows": null,
            "grid_column": null,
            "grid_gap": null,
            "grid_row": null,
            "grid_template_areas": null,
            "grid_template_columns": null,
            "grid_template_rows": null,
            "height": null,
            "justify_content": null,
            "justify_items": null,
            "left": null,
            "margin": null,
            "max_height": null,
            "max_width": null,
            "min_height": null,
            "min_width": null,
            "object_fit": null,
            "object_position": null,
            "order": null,
            "overflow": null,
            "overflow_x": null,
            "overflow_y": null,
            "padding": null,
            "right": null,
            "top": null,
            "visibility": null,
            "width": null
          }
        },
        "db5f14b065e84067ad73d75e4ce36d7a": {
          "model_module": "@jupyter-widgets/controls",
          "model_name": "DescriptionStyleModel",
          "model_module_version": "1.5.0",
          "state": {
            "_model_module": "@jupyter-widgets/controls",
            "_model_module_version": "1.5.0",
            "_model_name": "DescriptionStyleModel",
            "_view_count": null,
            "_view_module": "@jupyter-widgets/base",
            "_view_module_version": "1.2.0",
            "_view_name": "StyleView",
            "description_width": ""
          }
        }
      }
    }
  },
  "nbformat": 4,
  "nbformat_minor": 0
}