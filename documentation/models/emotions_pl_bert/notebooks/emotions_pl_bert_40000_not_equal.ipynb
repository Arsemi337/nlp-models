{
  "cells": [
    {
      "cell_type": "code",
      "execution_count": 33,
      "metadata": {
        "ExecuteTime": {
          "end_time": "2023-05-14T13:04:22.886311600Z",
          "start_time": "2023-05-14T13:04:20.469379600Z"
        },
        "collapsed": true,
        "id": "iWrOptAE5eQw"
      },
      "outputs": [],
      "source": [
        "import sys\n",
        "\n",
        "sys.path.append('../../notebooks')\n",
        "import os\n",
        "import pandas as pd\n",
        "import tensorflow as tf\n",
        "import matplotlib.pyplot as plt\n",
        "import numpy as np\n",
        "import constants\n",
        "import model_utils"
      ]
    },
    {
      "cell_type": "code",
      "execution_count": 34,
      "metadata": {
        "ExecuteTime": {
          "end_time": "2023-05-14T13:04:22.997388500Z",
          "start_time": "2023-05-14T13:04:22.889820500Z"
        },
        "colab": {
          "base_uri": "https://localhost:8080/",
          "height": 424
        },
        "id": "hAu6YgRX5eQx",
        "outputId": "2cc75fda-4af0-47d5-9689-06e78f9ad864"
      },
      "outputs": [
        {
          "output_type": "execute_result",
          "data": {
            "text/plain": [
              "                                                    text emotions  \\\n",
              "0      i feel awful about it too because it s my job ...  sadness   \n",
              "1                                  im alone i feel awful  sadness   \n",
              "2      ive probably mentioned this before but i reall...      joy   \n",
              "3               i was feeling a little low few days back  sadness   \n",
              "4      i beleive that i am much more sensitive to oth...     love   \n",
              "...                                                  ...      ...   \n",
              "39995  i witness what i feel helpless to change i tak...  sadness   \n",
              "39996  i feel unwelcome and i feel very self consciou...  sadness   \n",
              "39997  i feel like boston is so romantic when its rai...     love   \n",
              "39998  i thought sure i was coming down with somethin...      joy   \n",
              "39999  i cant be bothered to look it up right now and...      joy   \n",
              "\n",
              "                                                 text_pl  \n",
              "0      Też czuję się z tym okropnie, bo moim zadaniem...  \n",
              "1                         Jestem sama czuję się okropnie  \n",
              "2      Prawdopodobnie wspomniałem o tym wcześniej, al...  \n",
              "3                 Czułem się trochę nisko kilka dni temu  \n",
              "4      Wyobrażam sobie, że jestem znacznie bardziej w...  \n",
              "...                                                  ...  \n",
              "39995  Jestem świadkiem tego, co czuję się bezradny z...  \n",
              "39996  Czuję się niemile widziany i czuję się bardzo ...  \n",
              "39997  Czuję, że Boston jest taki romantyczny, kiedy ...  \n",
              "39998  Myślałem, że z czymś zejdę, ale dziś rano czuj...  \n",
              "39999  Nie mogę się teraz tym przejmować, pół kielisz...  \n",
              "\n",
              "[40000 rows x 3 columns]"
            ],
            "text/html": [
              "\n",
              "  <div id=\"df-1d1e2f1c-3118-40bc-8c7c-5319d2e0412a\">\n",
              "    <div class=\"colab-df-container\">\n",
              "      <div>\n",
              "<style scoped>\n",
              "    .dataframe tbody tr th:only-of-type {\n",
              "        vertical-align: middle;\n",
              "    }\n",
              "\n",
              "    .dataframe tbody tr th {\n",
              "        vertical-align: top;\n",
              "    }\n",
              "\n",
              "    .dataframe thead th {\n",
              "        text-align: right;\n",
              "    }\n",
              "</style>\n",
              "<table border=\"1\" class=\"dataframe\">\n",
              "  <thead>\n",
              "    <tr style=\"text-align: right;\">\n",
              "      <th></th>\n",
              "      <th>text</th>\n",
              "      <th>emotions</th>\n",
              "      <th>text_pl</th>\n",
              "    </tr>\n",
              "  </thead>\n",
              "  <tbody>\n",
              "    <tr>\n",
              "      <th>0</th>\n",
              "      <td>i feel awful about it too because it s my job ...</td>\n",
              "      <td>sadness</td>\n",
              "      <td>Też czuję się z tym okropnie, bo moim zadaniem...</td>\n",
              "    </tr>\n",
              "    <tr>\n",
              "      <th>1</th>\n",
              "      <td>im alone i feel awful</td>\n",
              "      <td>sadness</td>\n",
              "      <td>Jestem sama czuję się okropnie</td>\n",
              "    </tr>\n",
              "    <tr>\n",
              "      <th>2</th>\n",
              "      <td>ive probably mentioned this before but i reall...</td>\n",
              "      <td>joy</td>\n",
              "      <td>Prawdopodobnie wspomniałem o tym wcześniej, al...</td>\n",
              "    </tr>\n",
              "    <tr>\n",
              "      <th>3</th>\n",
              "      <td>i was feeling a little low few days back</td>\n",
              "      <td>sadness</td>\n",
              "      <td>Czułem się trochę nisko kilka dni temu</td>\n",
              "    </tr>\n",
              "    <tr>\n",
              "      <th>4</th>\n",
              "      <td>i beleive that i am much more sensitive to oth...</td>\n",
              "      <td>love</td>\n",
              "      <td>Wyobrażam sobie, że jestem znacznie bardziej w...</td>\n",
              "    </tr>\n",
              "    <tr>\n",
              "      <th>...</th>\n",
              "      <td>...</td>\n",
              "      <td>...</td>\n",
              "      <td>...</td>\n",
              "    </tr>\n",
              "    <tr>\n",
              "      <th>39995</th>\n",
              "      <td>i witness what i feel helpless to change i tak...</td>\n",
              "      <td>sadness</td>\n",
              "      <td>Jestem świadkiem tego, co czuję się bezradny z...</td>\n",
              "    </tr>\n",
              "    <tr>\n",
              "      <th>39996</th>\n",
              "      <td>i feel unwelcome and i feel very self consciou...</td>\n",
              "      <td>sadness</td>\n",
              "      <td>Czuję się niemile widziany i czuję się bardzo ...</td>\n",
              "    </tr>\n",
              "    <tr>\n",
              "      <th>39997</th>\n",
              "      <td>i feel like boston is so romantic when its rai...</td>\n",
              "      <td>love</td>\n",
              "      <td>Czuję, że Boston jest taki romantyczny, kiedy ...</td>\n",
              "    </tr>\n",
              "    <tr>\n",
              "      <th>39998</th>\n",
              "      <td>i thought sure i was coming down with somethin...</td>\n",
              "      <td>joy</td>\n",
              "      <td>Myślałem, że z czymś zejdę, ale dziś rano czuj...</td>\n",
              "    </tr>\n",
              "    <tr>\n",
              "      <th>39999</th>\n",
              "      <td>i cant be bothered to look it up right now and...</td>\n",
              "      <td>joy</td>\n",
              "      <td>Nie mogę się teraz tym przejmować, pół kielisz...</td>\n",
              "    </tr>\n",
              "  </tbody>\n",
              "</table>\n",
              "<p>40000 rows × 3 columns</p>\n",
              "</div>\n",
              "      <button class=\"colab-df-convert\" onclick=\"convertToInteractive('df-1d1e2f1c-3118-40bc-8c7c-5319d2e0412a')\"\n",
              "              title=\"Convert this dataframe to an interactive table.\"\n",
              "              style=\"display:none;\">\n",
              "        \n",
              "  <svg xmlns=\"http://www.w3.org/2000/svg\" height=\"24px\"viewBox=\"0 0 24 24\"\n",
              "       width=\"24px\">\n",
              "    <path d=\"M0 0h24v24H0V0z\" fill=\"none\"/>\n",
              "    <path d=\"M18.56 5.44l.94 2.06.94-2.06 2.06-.94-2.06-.94-.94-2.06-.94 2.06-2.06.94zm-11 1L8.5 8.5l.94-2.06 2.06-.94-2.06-.94L8.5 2.5l-.94 2.06-2.06.94zm10 10l.94 2.06.94-2.06 2.06-.94-2.06-.94-.94-2.06-.94 2.06-2.06.94z\"/><path d=\"M17.41 7.96l-1.37-1.37c-.4-.4-.92-.59-1.43-.59-.52 0-1.04.2-1.43.59L10.3 9.45l-7.72 7.72c-.78.78-.78 2.05 0 2.83L4 21.41c.39.39.9.59 1.41.59.51 0 1.02-.2 1.41-.59l7.78-7.78 2.81-2.81c.8-.78.8-2.07 0-2.86zM5.41 20L4 18.59l7.72-7.72 1.47 1.35L5.41 20z\"/>\n",
              "  </svg>\n",
              "      </button>\n",
              "      \n",
              "  <style>\n",
              "    .colab-df-container {\n",
              "      display:flex;\n",
              "      flex-wrap:wrap;\n",
              "      gap: 12px;\n",
              "    }\n",
              "\n",
              "    .colab-df-convert {\n",
              "      background-color: #E8F0FE;\n",
              "      border: none;\n",
              "      border-radius: 50%;\n",
              "      cursor: pointer;\n",
              "      display: none;\n",
              "      fill: #1967D2;\n",
              "      height: 32px;\n",
              "      padding: 0 0 0 0;\n",
              "      width: 32px;\n",
              "    }\n",
              "\n",
              "    .colab-df-convert:hover {\n",
              "      background-color: #E2EBFA;\n",
              "      box-shadow: 0px 1px 2px rgba(60, 64, 67, 0.3), 0px 1px 3px 1px rgba(60, 64, 67, 0.15);\n",
              "      fill: #174EA6;\n",
              "    }\n",
              "\n",
              "    [theme=dark] .colab-df-convert {\n",
              "      background-color: #3B4455;\n",
              "      fill: #D2E3FC;\n",
              "    }\n",
              "\n",
              "    [theme=dark] .colab-df-convert:hover {\n",
              "      background-color: #434B5C;\n",
              "      box-shadow: 0px 1px 3px 1px rgba(0, 0, 0, 0.15);\n",
              "      filter: drop-shadow(0px 1px 2px rgba(0, 0, 0, 0.3));\n",
              "      fill: #FFFFFF;\n",
              "    }\n",
              "  </style>\n",
              "\n",
              "      <script>\n",
              "        const buttonEl =\n",
              "          document.querySelector('#df-1d1e2f1c-3118-40bc-8c7c-5319d2e0412a button.colab-df-convert');\n",
              "        buttonEl.style.display =\n",
              "          google.colab.kernel.accessAllowed ? 'block' : 'none';\n",
              "\n",
              "        async function convertToInteractive(key) {\n",
              "          const element = document.querySelector('#df-1d1e2f1c-3118-40bc-8c7c-5319d2e0412a');\n",
              "          const dataTable =\n",
              "            await google.colab.kernel.invokeFunction('convertToInteractive',\n",
              "                                                     [key], {});\n",
              "          if (!dataTable) return;\n",
              "\n",
              "          const docLinkHtml = 'Like what you see? Visit the ' +\n",
              "            '<a target=\"_blank\" href=https://colab.research.google.com/notebooks/data_table.ipynb>data table notebook</a>'\n",
              "            + ' to learn more about interactive tables.';\n",
              "          element.innerHTML = '';\n",
              "          dataTable['output_type'] = 'display_data';\n",
              "          await google.colab.output.renderOutput(dataTable, element);\n",
              "          const docLink = document.createElement('div');\n",
              "          docLink.innerHTML = docLinkHtml;\n",
              "          element.appendChild(docLink);\n",
              "        }\n",
              "      </script>\n",
              "    </div>\n",
              "  </div>\n",
              "  "
            ]
          },
          "metadata": {},
          "execution_count": 34
        }
      ],
      "source": [
        "df = pd.read_json('data/translated/emotions/emotions_dataset_pl.json')\n",
        "df"
      ]
    },
    {
      "cell_type": "code",
      "execution_count": 35,
      "metadata": {
        "colab": {
          "base_uri": "https://localhost:8080/",
          "height": 424
        },
        "id": "okrrus7z5eQy",
        "outputId": "c7889529-ce05-460c-9412-bac65f7e2479"
      },
      "outputs": [
        {
          "output_type": "execute_result",
          "data": {
            "text/plain": [
              "      emotions                                            text_pl\n",
              "0      sadness  Też czuję się z tym okropnie, bo moim zadaniem...\n",
              "1      sadness                     Jestem sama czuję się okropnie\n",
              "2          joy  Prawdopodobnie wspomniałem o tym wcześniej, al...\n",
              "3      sadness             Czułem się trochę nisko kilka dni temu\n",
              "4         love  Wyobrażam sobie, że jestem znacznie bardziej w...\n",
              "...        ...                                                ...\n",
              "39995  sadness  Jestem świadkiem tego, co czuję się bezradny z...\n",
              "39996  sadness  Czuję się niemile widziany i czuję się bardzo ...\n",
              "39997     love  Czuję, że Boston jest taki romantyczny, kiedy ...\n",
              "39998      joy  Myślałem, że z czymś zejdę, ale dziś rano czuj...\n",
              "39999      joy  Nie mogę się teraz tym przejmować, pół kielisz...\n",
              "\n",
              "[40000 rows x 2 columns]"
            ],
            "text/html": [
              "\n",
              "  <div id=\"df-6e692ec8-aaa3-497a-bc32-25edbe7f2949\">\n",
              "    <div class=\"colab-df-container\">\n",
              "      <div>\n",
              "<style scoped>\n",
              "    .dataframe tbody tr th:only-of-type {\n",
              "        vertical-align: middle;\n",
              "    }\n",
              "\n",
              "    .dataframe tbody tr th {\n",
              "        vertical-align: top;\n",
              "    }\n",
              "\n",
              "    .dataframe thead th {\n",
              "        text-align: right;\n",
              "    }\n",
              "</style>\n",
              "<table border=\"1\" class=\"dataframe\">\n",
              "  <thead>\n",
              "    <tr style=\"text-align: right;\">\n",
              "      <th></th>\n",
              "      <th>emotions</th>\n",
              "      <th>text_pl</th>\n",
              "    </tr>\n",
              "  </thead>\n",
              "  <tbody>\n",
              "    <tr>\n",
              "      <th>0</th>\n",
              "      <td>sadness</td>\n",
              "      <td>Też czuję się z tym okropnie, bo moim zadaniem...</td>\n",
              "    </tr>\n",
              "    <tr>\n",
              "      <th>1</th>\n",
              "      <td>sadness</td>\n",
              "      <td>Jestem sama czuję się okropnie</td>\n",
              "    </tr>\n",
              "    <tr>\n",
              "      <th>2</th>\n",
              "      <td>joy</td>\n",
              "      <td>Prawdopodobnie wspomniałem o tym wcześniej, al...</td>\n",
              "    </tr>\n",
              "    <tr>\n",
              "      <th>3</th>\n",
              "      <td>sadness</td>\n",
              "      <td>Czułem się trochę nisko kilka dni temu</td>\n",
              "    </tr>\n",
              "    <tr>\n",
              "      <th>4</th>\n",
              "      <td>love</td>\n",
              "      <td>Wyobrażam sobie, że jestem znacznie bardziej w...</td>\n",
              "    </tr>\n",
              "    <tr>\n",
              "      <th>...</th>\n",
              "      <td>...</td>\n",
              "      <td>...</td>\n",
              "    </tr>\n",
              "    <tr>\n",
              "      <th>39995</th>\n",
              "      <td>sadness</td>\n",
              "      <td>Jestem świadkiem tego, co czuję się bezradny z...</td>\n",
              "    </tr>\n",
              "    <tr>\n",
              "      <th>39996</th>\n",
              "      <td>sadness</td>\n",
              "      <td>Czuję się niemile widziany i czuję się bardzo ...</td>\n",
              "    </tr>\n",
              "    <tr>\n",
              "      <th>39997</th>\n",
              "      <td>love</td>\n",
              "      <td>Czuję, że Boston jest taki romantyczny, kiedy ...</td>\n",
              "    </tr>\n",
              "    <tr>\n",
              "      <th>39998</th>\n",
              "      <td>joy</td>\n",
              "      <td>Myślałem, że z czymś zejdę, ale dziś rano czuj...</td>\n",
              "    </tr>\n",
              "    <tr>\n",
              "      <th>39999</th>\n",
              "      <td>joy</td>\n",
              "      <td>Nie mogę się teraz tym przejmować, pół kielisz...</td>\n",
              "    </tr>\n",
              "  </tbody>\n",
              "</table>\n",
              "<p>40000 rows × 2 columns</p>\n",
              "</div>\n",
              "      <button class=\"colab-df-convert\" onclick=\"convertToInteractive('df-6e692ec8-aaa3-497a-bc32-25edbe7f2949')\"\n",
              "              title=\"Convert this dataframe to an interactive table.\"\n",
              "              style=\"display:none;\">\n",
              "        \n",
              "  <svg xmlns=\"http://www.w3.org/2000/svg\" height=\"24px\"viewBox=\"0 0 24 24\"\n",
              "       width=\"24px\">\n",
              "    <path d=\"M0 0h24v24H0V0z\" fill=\"none\"/>\n",
              "    <path d=\"M18.56 5.44l.94 2.06.94-2.06 2.06-.94-2.06-.94-.94-2.06-.94 2.06-2.06.94zm-11 1L8.5 8.5l.94-2.06 2.06-.94-2.06-.94L8.5 2.5l-.94 2.06-2.06.94zm10 10l.94 2.06.94-2.06 2.06-.94-2.06-.94-.94-2.06-.94 2.06-2.06.94z\"/><path d=\"M17.41 7.96l-1.37-1.37c-.4-.4-.92-.59-1.43-.59-.52 0-1.04.2-1.43.59L10.3 9.45l-7.72 7.72c-.78.78-.78 2.05 0 2.83L4 21.41c.39.39.9.59 1.41.59.51 0 1.02-.2 1.41-.59l7.78-7.78 2.81-2.81c.8-.78.8-2.07 0-2.86zM5.41 20L4 18.59l7.72-7.72 1.47 1.35L5.41 20z\"/>\n",
              "  </svg>\n",
              "      </button>\n",
              "      \n",
              "  <style>\n",
              "    .colab-df-container {\n",
              "      display:flex;\n",
              "      flex-wrap:wrap;\n",
              "      gap: 12px;\n",
              "    }\n",
              "\n",
              "    .colab-df-convert {\n",
              "      background-color: #E8F0FE;\n",
              "      border: none;\n",
              "      border-radius: 50%;\n",
              "      cursor: pointer;\n",
              "      display: none;\n",
              "      fill: #1967D2;\n",
              "      height: 32px;\n",
              "      padding: 0 0 0 0;\n",
              "      width: 32px;\n",
              "    }\n",
              "\n",
              "    .colab-df-convert:hover {\n",
              "      background-color: #E2EBFA;\n",
              "      box-shadow: 0px 1px 2px rgba(60, 64, 67, 0.3), 0px 1px 3px 1px rgba(60, 64, 67, 0.15);\n",
              "      fill: #174EA6;\n",
              "    }\n",
              "\n",
              "    [theme=dark] .colab-df-convert {\n",
              "      background-color: #3B4455;\n",
              "      fill: #D2E3FC;\n",
              "    }\n",
              "\n",
              "    [theme=dark] .colab-df-convert:hover {\n",
              "      background-color: #434B5C;\n",
              "      box-shadow: 0px 1px 3px 1px rgba(0, 0, 0, 0.15);\n",
              "      filter: drop-shadow(0px 1px 2px rgba(0, 0, 0, 0.3));\n",
              "      fill: #FFFFFF;\n",
              "    }\n",
              "  </style>\n",
              "\n",
              "      <script>\n",
              "        const buttonEl =\n",
              "          document.querySelector('#df-6e692ec8-aaa3-497a-bc32-25edbe7f2949 button.colab-df-convert');\n",
              "        buttonEl.style.display =\n",
              "          google.colab.kernel.accessAllowed ? 'block' : 'none';\n",
              "\n",
              "        async function convertToInteractive(key) {\n",
              "          const element = document.querySelector('#df-6e692ec8-aaa3-497a-bc32-25edbe7f2949');\n",
              "          const dataTable =\n",
              "            await google.colab.kernel.invokeFunction('convertToInteractive',\n",
              "                                                     [key], {});\n",
              "          if (!dataTable) return;\n",
              "\n",
              "          const docLinkHtml = 'Like what you see? Visit the ' +\n",
              "            '<a target=\"_blank\" href=https://colab.research.google.com/notebooks/data_table.ipynb>data table notebook</a>'\n",
              "            + ' to learn more about interactive tables.';\n",
              "          element.innerHTML = '';\n",
              "          dataTable['output_type'] = 'display_data';\n",
              "          await google.colab.output.renderOutput(dataTable, element);\n",
              "          const docLink = document.createElement('div');\n",
              "          docLink.innerHTML = docLinkHtml;\n",
              "          element.appendChild(docLink);\n",
              "        }\n",
              "      </script>\n",
              "    </div>\n",
              "  </div>\n",
              "  "
            ]
          },
          "metadata": {},
          "execution_count": 35
        }
      ],
      "source": [
        "df = df.drop(columns=['text'])\n",
        "df"
      ]
    },
    {
      "cell_type": "code",
      "execution_count": 39,
      "metadata": {
        "ExecuteTime": {
          "end_time": "2023-05-14T13:04:24.988411800Z",
          "start_time": "2023-05-14T13:04:24.975256400Z"
        },
        "colab": {
          "base_uri": "https://localhost:8080/",
          "height": 424
        },
        "id": "uVplvE_O5eQy",
        "outputId": "c64d22e1-7499-4561-9ed8-270de420b66e"
      },
      "outputs": [
        {
          "output_type": "execute_result",
          "data": {
            "text/plain": [
              "      emotions                                            text_pl\n",
              "0      sadness  Też czuję się z tym okropnie, bo moim zadaniem...\n",
              "1      sadness                     Jestem sama czuję się okropnie\n",
              "2          joy  Prawdopodobnie wspomniałem o tym wcześniej, al...\n",
              "3      sadness             Czułem się trochę nisko kilka dni temu\n",
              "4         love  Wyobrażam sobie, że jestem znacznie bardziej w...\n",
              "...        ...                                                ...\n",
              "39995  sadness  Jestem świadkiem tego, co czuję się bezradny z...\n",
              "39996  sadness  Czuję się niemile widziany i czuję się bardzo ...\n",
              "39997     love  Czuję, że Boston jest taki romantyczny, kiedy ...\n",
              "39998      joy  Myślałem, że z czymś zejdę, ale dziś rano czuj...\n",
              "39999      joy  Nie mogę się teraz tym przejmować, pół kielisz...\n",
              "\n",
              "[40000 rows x 2 columns]"
            ],
            "text/html": [
              "\n",
              "  <div id=\"df-0ab4b8f8-a8ce-40cd-9303-b74a0db616d3\">\n",
              "    <div class=\"colab-df-container\">\n",
              "      <div>\n",
              "<style scoped>\n",
              "    .dataframe tbody tr th:only-of-type {\n",
              "        vertical-align: middle;\n",
              "    }\n",
              "\n",
              "    .dataframe tbody tr th {\n",
              "        vertical-align: top;\n",
              "    }\n",
              "\n",
              "    .dataframe thead th {\n",
              "        text-align: right;\n",
              "    }\n",
              "</style>\n",
              "<table border=\"1\" class=\"dataframe\">\n",
              "  <thead>\n",
              "    <tr style=\"text-align: right;\">\n",
              "      <th></th>\n",
              "      <th>emotions</th>\n",
              "      <th>text_pl</th>\n",
              "    </tr>\n",
              "  </thead>\n",
              "  <tbody>\n",
              "    <tr>\n",
              "      <th>0</th>\n",
              "      <td>sadness</td>\n",
              "      <td>Też czuję się z tym okropnie, bo moim zadaniem...</td>\n",
              "    </tr>\n",
              "    <tr>\n",
              "      <th>1</th>\n",
              "      <td>sadness</td>\n",
              "      <td>Jestem sama czuję się okropnie</td>\n",
              "    </tr>\n",
              "    <tr>\n",
              "      <th>2</th>\n",
              "      <td>joy</td>\n",
              "      <td>Prawdopodobnie wspomniałem o tym wcześniej, al...</td>\n",
              "    </tr>\n",
              "    <tr>\n",
              "      <th>3</th>\n",
              "      <td>sadness</td>\n",
              "      <td>Czułem się trochę nisko kilka dni temu</td>\n",
              "    </tr>\n",
              "    <tr>\n",
              "      <th>4</th>\n",
              "      <td>love</td>\n",
              "      <td>Wyobrażam sobie, że jestem znacznie bardziej w...</td>\n",
              "    </tr>\n",
              "    <tr>\n",
              "      <th>...</th>\n",
              "      <td>...</td>\n",
              "      <td>...</td>\n",
              "    </tr>\n",
              "    <tr>\n",
              "      <th>39995</th>\n",
              "      <td>sadness</td>\n",
              "      <td>Jestem świadkiem tego, co czuję się bezradny z...</td>\n",
              "    </tr>\n",
              "    <tr>\n",
              "      <th>39996</th>\n",
              "      <td>sadness</td>\n",
              "      <td>Czuję się niemile widziany i czuję się bardzo ...</td>\n",
              "    </tr>\n",
              "    <tr>\n",
              "      <th>39997</th>\n",
              "      <td>love</td>\n",
              "      <td>Czuję, że Boston jest taki romantyczny, kiedy ...</td>\n",
              "    </tr>\n",
              "    <tr>\n",
              "      <th>39998</th>\n",
              "      <td>joy</td>\n",
              "      <td>Myślałem, że z czymś zejdę, ale dziś rano czuj...</td>\n",
              "    </tr>\n",
              "    <tr>\n",
              "      <th>39999</th>\n",
              "      <td>joy</td>\n",
              "      <td>Nie mogę się teraz tym przejmować, pół kielisz...</td>\n",
              "    </tr>\n",
              "  </tbody>\n",
              "</table>\n",
              "<p>40000 rows × 2 columns</p>\n",
              "</div>\n",
              "      <button class=\"colab-df-convert\" onclick=\"convertToInteractive('df-0ab4b8f8-a8ce-40cd-9303-b74a0db616d3')\"\n",
              "              title=\"Convert this dataframe to an interactive table.\"\n",
              "              style=\"display:none;\">\n",
              "        \n",
              "  <svg xmlns=\"http://www.w3.org/2000/svg\" height=\"24px\"viewBox=\"0 0 24 24\"\n",
              "       width=\"24px\">\n",
              "    <path d=\"M0 0h24v24H0V0z\" fill=\"none\"/>\n",
              "    <path d=\"M18.56 5.44l.94 2.06.94-2.06 2.06-.94-2.06-.94-.94-2.06-.94 2.06-2.06.94zm-11 1L8.5 8.5l.94-2.06 2.06-.94-2.06-.94L8.5 2.5l-.94 2.06-2.06.94zm10 10l.94 2.06.94-2.06 2.06-.94-2.06-.94-.94-2.06-.94 2.06-2.06.94z\"/><path d=\"M17.41 7.96l-1.37-1.37c-.4-.4-.92-.59-1.43-.59-.52 0-1.04.2-1.43.59L10.3 9.45l-7.72 7.72c-.78.78-.78 2.05 0 2.83L4 21.41c.39.39.9.59 1.41.59.51 0 1.02-.2 1.41-.59l7.78-7.78 2.81-2.81c.8-.78.8-2.07 0-2.86zM5.41 20L4 18.59l7.72-7.72 1.47 1.35L5.41 20z\"/>\n",
              "  </svg>\n",
              "      </button>\n",
              "      \n",
              "  <style>\n",
              "    .colab-df-container {\n",
              "      display:flex;\n",
              "      flex-wrap:wrap;\n",
              "      gap: 12px;\n",
              "    }\n",
              "\n",
              "    .colab-df-convert {\n",
              "      background-color: #E8F0FE;\n",
              "      border: none;\n",
              "      border-radius: 50%;\n",
              "      cursor: pointer;\n",
              "      display: none;\n",
              "      fill: #1967D2;\n",
              "      height: 32px;\n",
              "      padding: 0 0 0 0;\n",
              "      width: 32px;\n",
              "    }\n",
              "\n",
              "    .colab-df-convert:hover {\n",
              "      background-color: #E2EBFA;\n",
              "      box-shadow: 0px 1px 2px rgba(60, 64, 67, 0.3), 0px 1px 3px 1px rgba(60, 64, 67, 0.15);\n",
              "      fill: #174EA6;\n",
              "    }\n",
              "\n",
              "    [theme=dark] .colab-df-convert {\n",
              "      background-color: #3B4455;\n",
              "      fill: #D2E3FC;\n",
              "    }\n",
              "\n",
              "    [theme=dark] .colab-df-convert:hover {\n",
              "      background-color: #434B5C;\n",
              "      box-shadow: 0px 1px 3px 1px rgba(0, 0, 0, 0.15);\n",
              "      filter: drop-shadow(0px 1px 2px rgba(0, 0, 0, 0.3));\n",
              "      fill: #FFFFFF;\n",
              "    }\n",
              "  </style>\n",
              "\n",
              "      <script>\n",
              "        const buttonEl =\n",
              "          document.querySelector('#df-0ab4b8f8-a8ce-40cd-9303-b74a0db616d3 button.colab-df-convert');\n",
              "        buttonEl.style.display =\n",
              "          google.colab.kernel.accessAllowed ? 'block' : 'none';\n",
              "\n",
              "        async function convertToInteractive(key) {\n",
              "          const element = document.querySelector('#df-0ab4b8f8-a8ce-40cd-9303-b74a0db616d3');\n",
              "          const dataTable =\n",
              "            await google.colab.kernel.invokeFunction('convertToInteractive',\n",
              "                                                     [key], {});\n",
              "          if (!dataTable) return;\n",
              "\n",
              "          const docLinkHtml = 'Like what you see? Visit the ' +\n",
              "            '<a target=\"_blank\" href=https://colab.research.google.com/notebooks/data_table.ipynb>data table notebook</a>'\n",
              "            + ' to learn more about interactive tables.';\n",
              "          element.innerHTML = '';\n",
              "          dataTable['output_type'] = 'display_data';\n",
              "          await google.colab.output.renderOutput(dataTable, element);\n",
              "          const docLink = document.createElement('div');\n",
              "          docLink.innerHTML = docLinkHtml;\n",
              "          element.appendChild(docLink);\n",
              "        }\n",
              "      </script>\n",
              "    </div>\n",
              "  </div>\n",
              "  "
            ]
          },
          "metadata": {},
          "execution_count": 39
        }
      ],
      "source": [
        "# It is only fine-tuning, thus 400k data samples is a complete overkill. It can be reduced to 40k.\n",
        "df = df.iloc[:40000]\n",
        "df"
      ]
    },
    {
      "cell_type": "code",
      "execution_count": 40,
      "metadata": {
        "ExecuteTime": {
          "end_time": "2023-05-14T13:04:25.785922100Z",
          "start_time": "2023-05-14T13:04:25.682714800Z"
        },
        "colab": {
          "base_uri": "https://localhost:8080/",
          "height": 473
        },
        "id": "029Zih125eQy",
        "outputId": "1bdc1aab-4941-4f24-cf9a-e2a0ee6ea76c"
      },
      "outputs": [
        {
          "output_type": "display_data",
          "data": {
            "text/plain": [
              "<Figure size 640x480 with 1 Axes>"
            ],
            "image/png": "[encoded data removed]"
          },
          "metadata": {}
        }
      ],
      "source": [
        "data = df[\"emotions\"]\n",
        "data.value_counts().plot.bar()\n",
        "plt.show()"
      ]
    },
    {
      "cell_type": "code",
      "execution_count": 41,
      "metadata": {
        "ExecuteTime": {
          "end_time": "2023-05-14T13:04:26.585925100Z",
          "start_time": "2023-05-14T13:04:26.574415400Z"
        },
        "id": "-1FXsZRN5eQz"
      },
      "outputs": [],
      "source": [
        "ordered_class_labels = {\n",
        "    \"joy\": 0,\n",
        "    \"love\": 1,\n",
        "    \"surprise\": 2,\n",
        "    \"sadness\": 3,\n",
        "    \"anger\": 4,\n",
        "    \"fear\": 5,\n",
        "}"
      ]
    },
    {
      "cell_type": "code",
      "execution_count": 42,
      "metadata": {
        "ExecuteTime": {
          "end_time": "2023-05-14T13:04:27.377268900Z",
          "start_time": "2023-05-14T13:04:27.350646200Z"
        },
        "id": "b-14jibe5eQz"
      },
      "outputs": [],
      "source": [
        "df = df.replace({\"emotions\": ordered_class_labels})"
      ]
    },
    {
      "cell_type": "code",
      "execution_count": null,
      "metadata": {
        "ExecuteTime": {
          "end_time": "2023-05-14T13:04:28.419031Z",
          "start_time": "2023-05-14T13:04:27.981206300Z"
        },
        "id": "G3d6frov5eQz"
      },
      "outputs": [],
      "source": [
        "!pip install datasets\n",
        "from datasets import Dataset\n",
        "\n",
        "raw_dataset = Dataset.from_pandas(df).remove_columns(\"__index_level_0__\")\n",
        "raw_dataset"
      ]
    },
    {
      "cell_type": "code",
      "execution_count": null,
      "metadata": {
        "ExecuteTime": {
          "end_time": "2023-05-14T13:04:29.773340Z",
          "start_time": "2023-05-14T13:04:28.930987600Z"
        },
        "id": "NwCCIKHt5eQz"
      },
      "outputs": [],
      "source": [
        "!pip install transformers\n",
        "from transformers import AutoTokenizer\n",
        "\n",
        "checkpoint = \"dkleczek/bert-base-polish-uncased-v1\"\n",
        "tokenizer = AutoTokenizer.from_pretrained(checkpoint)"
      ]
    },
    {
      "cell_type": "code",
      "execution_count": 45,
      "metadata": {
        "ExecuteTime": {
          "end_time": "2023-05-14T13:04:31.352758900Z",
          "start_time": "2023-05-14T13:04:30.221415800Z"
        },
        "colab": {
          "base_uri": "https://localhost:8080/",
          "height": 34,
          "referenced_widgets": [
            "7c345229c4d84d33a9e58b92ceb76fff",
            "0794d77bdc134201a9435e6f401fccbf",
            "d5d67ec0e5a943a98137fc436e74898a",
            "3dd16f511e504a88aeb3fafe44420f24",
            "09684462e752457dab750c4a408bfb22",
            "e7cdd083d8b941cba60df1500c663e97",
            "ee6bccecac0f411d92aec009b45813a3",
            "219baeebf3eb4c69a220e1f32fc0e14e",
            "183958a093e54f69b9fa9cbb9fce40fa",
            "883b8d1808384598a6a81e1a61108e84",
            "36f54aeb7ae647619d04006dbbb3d098"
          ]
        },
        "id": "GfvdpnqJ5eQz",
        "outputId": "3e5a7c9d-3ba3-4949-d85d-2bb29809c267"
      },
      "outputs": [
        {
          "output_type": "display_data",
          "data": {
            "text/plain": [
              "Map:   0%|          | 0/40000 [00:00<?, ? examples/s]"
            ],
            "application/vnd.jupyter.widget-view+json": {
              "version_major": 2,
              "version_minor": 0,
              "model_id": "7c345229c4d84d33a9e58b92ceb76fff"
            }
          },
          "metadata": {}
        },
        {
          "output_type": "stream",
          "name": "stderr",
          "text": [
            "Asking to truncate to max_length but no maximum length is provided and the model has no predefined maximum length. Default to no truncation.\n"
          ]
        }
      ],
      "source": [
        "def tokenize_function(example):\n",
        "    return tokenizer(example[\"text_pl\"], truncation=True)\n",
        "\n",
        "\n",
        "tokenized_dataset = raw_dataset.map(tokenize_function, batched=True)"
      ]
    },
    {
      "cell_type": "code",
      "execution_count": 46,
      "metadata": {
        "ExecuteTime": {
          "end_time": "2023-05-14T13:04:31.836991800Z",
          "start_time": "2023-05-14T13:04:31.809152500Z"
        },
        "id": "0NgkmJU35eQ0"
      },
      "outputs": [],
      "source": [
        "# Train set: 80%, Validation set: 10%, Test set: 10%\n",
        "tokenized_train_dataset, tokenized_val_dataset, tokenized_test_dataset = model_utils.split_train_val_test(\n",
        "    tokenized_dataset,\n",
        "    train_size=0.8,\n",
        "    test_size_of_val_test_batch=0.5)"
      ]
    },
    {
      "cell_type": "code",
      "execution_count": 47,
      "metadata": {
        "ExecuteTime": {
          "end_time": "2023-05-14T13:04:34.614153900Z",
          "start_time": "2023-05-14T13:04:32.943653400Z"
        },
        "colab": {
          "base_uri": "https://localhost:8080/"
        },
        "id": "E-JHn_eF5eQ0",
        "outputId": "dab140bd-f4f1-475d-d676-d1e92519d303"
      },
      "outputs": [
        {
          "output_type": "stream",
          "name": "stderr",
          "text": [
            "/usr/local/lib/python3.10/dist-packages/datasets/arrow_dataset.py:388: FutureWarning: The output of `to_tf_dataset` will change when a passing single element list for `labels` or `columns` in the next datasets version. To return a tuple structure rather than dict, pass a single string.\n",
            "Old behaviour: columns=['a'], labels=['labels'] -> (tf.Tensor, tf.Tensor)  \n",
            "             : columns='a', labels='labels' -> (tf.Tensor, tf.Tensor)  \n",
            "New behaviour: columns=['a'],labels=['labels'] -> ({'a': tf.Tensor}, {'labels': tf.Tensor})  \n",
            "             : columns='a', labels='labels' -> (tf.Tensor, tf.Tensor) \n",
            "  warnings.warn(\n",
            "You're using a BertTokenizerFast tokenizer. Please note that with a fast tokenizer, using the `__call__` method is faster than using a method to encode the text followed by a call to the `pad` method to get a padded encoding.\n"
          ]
        }
      ],
      "source": [
        "from transformers import DataCollatorWithPadding\n",
        "\n",
        "columns = [\"attention_mask\", \"input_ids\", \"token_type_ids\"]\n",
        "label_cols = [\"emotions\"]\n",
        "batch_size = 8\n",
        "data_collator = DataCollatorWithPadding(tokenizer=tokenizer, return_tensors=\"tf\")\n",
        "\n",
        "tf_train_dataset = model_utils.convert_to_tf_dataset(tokenized_train_dataset, columns, label_cols, data_collator,\n",
        "                                                     batch_size)\n",
        "tf_val_dataset = model_utils.convert_to_tf_dataset(tokenized_val_dataset, columns, label_cols, data_collator,\n",
        "                                                   batch_size)\n",
        "tf_test_dataset = model_utils.convert_to_tf_dataset(tokenized_test_dataset, columns, label_cols, data_collator,\n",
        "                                                    batch_size)"
      ]
    },
    {
      "cell_type": "code",
      "execution_count": 48,
      "metadata": {
        "ExecuteTime": {
          "end_time": "2023-05-14T13:04:34.860092500Z",
          "start_time": "2023-05-14T13:04:34.613154400Z"
        },
        "id": "oO39wgGs5eQ0"
      },
      "outputs": [],
      "source": [
        "# Model parameters\n",
        "training_number = 2\n",
        "model_name = \"emotions_pl_bert\"\n",
        "\n",
        "training_name = f\"training_{training_number}\"\n",
        "checkpoint_filename_template = \"cp-{epoch:04d}.ckpt\"\n",
        "checkpoints_dir = os.path.join(constants.TRAINING_CHECKPOINTS_PATH, model_name, training_name)\n",
        "figures_dir = f\"documentation/models/emotions_pl_bert/figures\"\n",
        "checkpoint_path = os.path.join(checkpoints_dir, checkpoint_filename_template)"
      ]
    },
    {
      "cell_type": "code",
      "execution_count": 49,
      "metadata": {
        "ExecuteTime": {
          "end_time": "2023-05-14T13:04:36.625023Z",
          "start_time": "2023-05-14T13:04:36.618025200Z"
        },
        "id": "X1sI9GBj5eQ0"
      },
      "outputs": [],
      "source": [
        "# Callbacks\n",
        "checkpoint_cb = tf.keras.callbacks.ModelCheckpoint(checkpoint_path, verbose=1, save_weights_only=True)\n",
        "early_stop_cb = tf.keras.callbacks.EarlyStopping(patience=3)\n",
        "callbacks = [checkpoint_cb, early_stop_cb]"
      ]
    },
    {
      "cell_type": "code",
      "execution_count": 50,
      "metadata": {
        "ExecuteTime": {
          "end_time": "2023-05-14T13:04:37.829174300Z",
          "start_time": "2023-05-14T13:04:37.818661Z"
        },
        "id": "qnRWTJSX5eQ0"
      },
      "outputs": [],
      "source": [
        "from tensorflow.keras.optimizers.schedules import PolynomialDecay\n",
        "from tensorflow.keras.optimizers import Adam\n",
        "\n",
        "num_epochs = 10\n",
        "num_train_steps = len(tf_train_dataset) * num_epochs\n",
        "lr_scheduler = PolynomialDecay(\n",
        "    initial_learning_rate=5e-5, end_learning_rate=0.0, decay_steps=num_train_steps\n",
        ")\n",
        "\n",
        "optimizer = Adam(learning_rate=lr_scheduler)"
      ]
    },
    {
      "cell_type": "code",
      "execution_count": 51,
      "metadata": {
        "ExecuteTime": {
          "end_time": "2023-05-14T13:04:41.703902300Z",
          "start_time": "2023-05-14T13:04:39.807554900Z"
        },
        "colab": {
          "base_uri": "https://localhost:8080/"
        },
        "id": "EINQOAKD5eQ1",
        "outputId": "f4d08920-0286-4d04-a433-12ec966389c6"
      },
      "outputs": [
        {
          "output_type": "stream",
          "name": "stderr",
          "text": [
            "All PyTorch model weights were used when initializing TFBertForSequenceClassification.\n",
            "\n",
            "Some weights or buffers of the TF 2.0 model TFBertForSequenceClassification were not initialized from the PyTorch model and are newly initialized: ['classifier.weight', 'classifier.bias']\n",
            "You should probably TRAIN this model on a down-stream task to be able to use it for predictions and inference.\n"
          ]
        }
      ],
      "source": [
        "from transformers import TFAutoModelForSequenceClassification\n",
        "\n",
        "model = TFAutoModelForSequenceClassification.from_pretrained(checkpoint, num_labels=6, from_pt=True)"
      ]
    },
    {
      "cell_type": "code",
      "execution_count": 52,
      "metadata": {
        "ExecuteTime": {
          "end_time": "2023-05-14T13:04:43.128116600Z",
          "start_time": "2023-05-14T13:04:43.105062600Z"
        },
        "id": "zDhzasko5eQ1"
      },
      "outputs": [],
      "source": [
        "# Compile\n",
        "loss = tf.keras.losses.SparseCategoricalCrossentropy(from_logits=True)\n",
        "metrics = [\"accuracy\"]\n",
        "model.compile(optimizer=optimizer, loss=loss, metrics=metrics)"
      ]
    },
    {
      "cell_type": "code",
      "execution_count": 53,
      "metadata": {
        "ExecuteTime": {
          "end_time": "2023-05-14T13:29:30.471938900Z",
          "start_time": "2023-05-14T13:04:44.376071300Z"
        },
        "colab": {
          "base_uri": "https://localhost:8080/"
        },
        "id": "DGBtRewP5eQ1",
        "outputId": "40624162-3e87-45f4-db8a-3182a43241b6"
      },
      "outputs": [
        {
          "output_type": "stream",
          "name": "stdout",
          "text": [
            "Epoch 1/10\n",
            "4000/4000 [==============================] - ETA: 0s - loss: 0.5450 - accuracy: 0.8046\n",
            "Epoch 1: saving model to training_checkpoints/emotions_pl_bert/training_2/cp-0001.ckpt\n",
            "4000/4000 [==============================] - 626s 142ms/step - loss: 0.5450 - accuracy: 0.8046 - val_loss: 0.3800 - val_accuracy: 0.8475\n",
            "Epoch 2/10\n",
            "4000/4000 [==============================] - ETA: 0s - loss: 0.3181 - accuracy: 0.8752\n",
            "Epoch 2: saving model to training_checkpoints/emotions_pl_bert/training_2/cp-0002.ckpt\n",
            "4000/4000 [==============================] - 522s 130ms/step - loss: 0.3181 - accuracy: 0.8752 - val_loss: 0.4071 - val_accuracy: 0.8560\n",
            "Epoch 3/10\n",
            "4000/4000 [==============================] - ETA: 0s - loss: 0.2332 - accuracy: 0.9043\n",
            "Epoch 3: saving model to training_checkpoints/emotions_pl_bert/training_2/cp-0003.ckpt\n",
            "4000/4000 [==============================] - 531s 133ms/step - loss: 0.2332 - accuracy: 0.9043 - val_loss: 0.4290 - val_accuracy: 0.8545\n",
            "Epoch 4/10\n",
            "4000/4000 [==============================] - ETA: 0s - loss: 0.1713 - accuracy: 0.9330\n",
            "Epoch 4: saving model to training_checkpoints/emotions_pl_bert/training_2/cp-0004.ckpt\n",
            "4000/4000 [==============================] - 543s 136ms/step - loss: 0.1713 - accuracy: 0.9330 - val_loss: 0.4746 - val_accuracy: 0.8590\n"
          ]
        }
      ],
      "source": [
        "history = model.fit(tf_train_dataset, validation_data=tf_val_dataset, epochs=num_epochs, callbacks=callbacks)"
      ]
    },
    {
      "cell_type": "code",
      "execution_count": 54,
      "metadata": {
        "ExecuteTime": {
          "end_time": "2023-05-14T13:29:35.071945100Z",
          "start_time": "2023-05-14T13:29:34.887657900Z"
        },
        "colab": {
          "base_uri": "https://localhost:8080/",
          "height": 927
        },
        "id": "32pv8PpG5eQ1",
        "outputId": "d63a72d1-f5d4-4a60-8fc1-ebf114a7728b"
      },
      "outputs": [
        {
          "output_type": "display_data",
          "data": {
            "text/plain": [
              "<Figure size 640x480 with 1 Axes>"
            ],
            "image/png": "[encoded data removed]"
          },
          "metadata": {}
        },
        {
          "output_type": "display_data",
          "data": {
            "text/plain": [
              "<Figure size 640x480 with 1 Axes>"
            ],
            "image/png": "[encoded data removed]"
          },
          "metadata": {}
        }
      ],
      "source": [
        "model_utils.plot_and_save_fig_from_history(history,\n",
        "                                           attributes=['accuracy', 'val_accuracy'],\n",
        "                                           title='Model accuracy',\n",
        "                                           y_label='Accuracy',\n",
        "                                           x_label='Epoch',\n",
        "                                           legend_descriptors=['Train', 'Val'],\n",
        "                                           figure_dir_path=figures_dir,\n",
        "                                           figure_filename=f\"{training_name}_accuracy.png\")\n",
        "\n",
        "model_utils.plot_and_save_fig_from_history(history,\n",
        "                                           attributes=['loss', 'val_loss'],\n",
        "                                           title='Model loss',\n",
        "                                           y_label='Loss',\n",
        "                                           x_label='Epoch',\n",
        "                                           legend_descriptors=['Train', 'Val'],\n",
        "                                           figure_dir_path=figures_dir,\n",
        "                                           figure_filename=f\"{training_name}_loss.png\")"
      ]
    },
    {
      "cell_type": "code",
      "execution_count": 55,
      "metadata": {
        "ExecuteTime": {
          "end_time": "2023-05-14T13:31:31.668078700Z",
          "start_time": "2023-05-14T13:31:28.286724500Z"
        },
        "id": "_xsEWYUg5eQ1"
      },
      "outputs": [],
      "source": [
        "best_model = model_utils.get_best_model_from_checkpoints(model, history,\n",
        "                                                         checkpoints_dir=checkpoints_dir,\n",
        "                                                         checkpoint_filename_template=checkpoint_filename_template)"
      ]
    },
    {
      "cell_type": "code",
      "execution_count": 56,
      "metadata": {
        "ExecuteTime": {
          "end_time": "2023-05-14T13:32:13.165307700Z",
          "start_time": "2023-05-14T13:31:31.670079700Z"
        },
        "colab": {
          "base_uri": "https://localhost:8080/"
        },
        "id": "Lk548ejW5eQ1",
        "outputId": "5b1fb754-d359-4c95-ec9a-ccd9daedf20f"
      },
      "outputs": [
        {
          "output_type": "stream",
          "name": "stderr",
          "text": [
            "WARNING:absl:Found untraced functions such as embeddings_layer_call_fn, embeddings_layer_call_and_return_conditional_losses, encoder_layer_call_fn, encoder_layer_call_and_return_conditional_losses, pooler_layer_call_fn while saving (showing 5 of 420). These functions will not be directly callable after loading.\n"
          ]
        }
      ],
      "source": [
        "model_utils.save_model(best_model, model_name=model_name, training_number=training_number, saved_models_dir=constants.SAVED_MODEL_LOCATION, default_model_version=constants.DEFAULT_MODEL_VERSION)"
      ]
    },
    {
      "cell_type": "code",
      "execution_count": 57,
      "metadata": {
        "ExecuteTime": {
          "end_time": "2023-05-14T13:32:22.042504100Z",
          "start_time": "2023-05-14T13:32:13.166307200Z"
        },
        "colab": {
          "base_uri": "https://localhost:8080/"
        },
        "id": "Ce7YShZZ5eQ1",
        "outputId": "ec19932d-1639-4194-d6b8-0f316121f687"
      },
      "outputs": [
        {
          "output_type": "stream",
          "name": "stdout",
          "text": [
            "500/500 [==============================] - 24s 48ms/step - loss: 0.4046 - accuracy: 0.8487\n"
          ]
        },
        {
          "output_type": "execute_result",
          "data": {
            "text/plain": [
              "[0.4045797288417816, 0.8487499952316284]"
            ]
          },
          "metadata": {},
          "execution_count": 57
        }
      ],
      "source": [
        "# Evaluation\n",
        "best_model.evaluate(tf_test_dataset, batch_size=batch_size)"
      ]
    },
    {
      "cell_type": "code",
      "execution_count": 58,
      "metadata": {
        "ExecuteTime": {
          "end_time": "2023-05-12T14:15:04.333778900Z",
          "start_time": "2023-05-12T14:14:54.558304900Z"
        },
        "colab": {
          "base_uri": "https://localhost:8080/"
        },
        "id": "6FRo-JOX5eQ2",
        "outputId": "90e20115-b0c0-4ce3-a0cc-92ccec779a1d"
      },
      "outputs": [
        {
          "output_type": "stream",
          "name": "stdout",
          "text": [
            "500/500 [==============================] - 28s 49ms/step\n"
          ]
        }
      ],
      "source": [
        "class_preds = model_utils.get_class_preds(model, tf_test_dataset)"
      ]
    },
    {
      "cell_type": "code",
      "execution_count": 59,
      "metadata": {
        "colab": {
          "base_uri": "https://localhost:8080/"
        },
        "id": "aF-P0RFD5eQ2",
        "outputId": "1f7156b4-1ed8-44ad-f81d-e2b276351f36"
      },
      "outputs": [
        {
          "output_type": "stream",
          "name": "stdout",
          "text": [
            "Precision score:  0.84875\n",
            "Recall score:  0.84875\n",
            "F1 score:  0.84875\n"
          ]
        }
      ],
      "source": [
        "precision, recall, f1 = model_utils.get_classification_evaluation_metrics_for_emotions(\n",
        "    class_actual=tokenized_test_dataset['emotions'],\n",
        "    class_preds=class_preds)\n",
        "\n",
        "print(f\"Precision score: \", precision)\n",
        "print(f\"Recall score: \", recall)\n",
        "print(f\"F1 score: \", f1)"
      ]
    },
    {
      "cell_type": "code",
      "execution_count": 60,
      "metadata": {
        "colab": {
          "base_uri": "https://localhost:8080/",
          "height": 449
        },
        "id": "wm-WfZEA5eQ2",
        "outputId": "6c8f7708-63be-464f-a91e-1095e7101bd9"
      },
      "outputs": [
        {
          "output_type": "display_data",
          "data": {
            "text/plain": [
              "<Figure size 640x480 with 2 Axes>"
            ],
            "image/png": "[encoded data removed]"
          },
          "metadata": {}
        }
      ],
      "source": [
        "model_utils.plot_and_save_conf_matrix(class_actual=tokenized_test_dataset['emotions'],\n",
        "                                      class_preds=class_preds,\n",
        "                                      figure_dir_path=figures_dir,\n",
        "                                      figure_filename=f\"{training_name}_confmatrix.png\")"
      ]
    },
    {
      "cell_type": "code",
      "execution_count": 61,
      "metadata": {
        "colab": {
          "base_uri": "https://localhost:8080/"
        },
        "id": "viMRizWd5eQ2",
        "outputId": "703938fe-2408-4307-b36b-162355f31a48"
      },
      "outputs": [
        {
          "output_type": "stream",
          "name": "stdout",
          "text": [
            "\n",
            "            BAD PREDICTION:\n",
            "            - INDEX: 1\n",
            "            - TEXT: Jestem sama czuję się okropnie\n",
            "            - PREDICTED VALUE: 1\n",
            "            - CORRECT VALUE: 3\n",
            "            \n",
            "\n",
            "            BAD PREDICTION:\n",
            "            - INDEX: 2\n",
            "            - TEXT: Prawdopodobnie wspomniałem o tym wcześniej, ale naprawdę czuję się dumny z siebie, że faktycznie dotrzymuję kroku mojemu noworocznemu postanowieniu miesięcznych i tygodniowych celów.\n",
            "            - PREDICTED VALUE: 3\n",
            "            - CORRECT VALUE: 0\n",
            "            \n",
            "\n",
            "            BAD PREDICTION:\n",
            "            - INDEX: 4\n",
            "            - TEXT: Wyobrażam sobie, że jestem znacznie bardziej wrażliwy na uczucia innych ludzi i wydaję się być bardziej współczujący.\n",
            "            - PREDICTED VALUE: 4\n",
            "            - CORRECT VALUE: 1\n",
            "            \n",
            "\n",
            "            BAD PREDICTION:\n",
            "            - INDEX: 5\n",
            "            - TEXT: Jestem sfrustrowany chrześcijanami, ponieważ czuję, że ciągle mówi się o kochaniu siebie nawzajem, o byciu tam dla siebie i modleniu się za siebie nawzajem i widziałem, że nie zawsze tak jest.\n",
            "            - PREDICTED VALUE: 0\n",
            "            - CORRECT VALUE: 1\n",
            "            \n",
            "\n",
            "            BAD PREDICTION:\n",
            "            - INDEX: 7\n",
            "            - TEXT: Jestem szczególnie zadowolony z tego, ponieważ nadchodzi już od dawna.\n",
            "            - PREDICTED VALUE: 5\n",
            "            - CORRECT VALUE: 0\n",
            "            \n",
            "\n",
            "            BAD PREDICTION:\n",
            "            - INDEX: 8\n",
            "            - TEXT: Zmagałem się z tymi okropnymi uczuciami i mówiłem takie słodkie rzeczy o tym, że nie zasługuję na przyjaźń moją i moich sióstr i dobrze się zgodziliśmy, że była w samochodzie, zaczynając odjeżdżać, kiedy wyciągnęła rękę.\n",
            "            - PREDICTED VALUE: 5\n",
            "            - CORRECT VALUE: 0\n",
            "            \n",
            "\n",
            "            BAD PREDICTION:\n",
            "            - INDEX: 9\n",
            "            - TEXT: Czuję się wściekła, ale jednocześnie bezradna\n",
            "            - PREDICTED VALUE: 0\n",
            "            - CORRECT VALUE: 4\n",
            "            \n",
            "\n",
            "            BAD PREDICTION:\n",
            "            - INDEX: 10\n",
            "            - TEXT: Powiedziałem, że czuję się trochę buntowniczy.\n",
            "            - PREDICTED VALUE: 3\n",
            "            - CORRECT VALUE: 4\n",
            "            \n",
            "\n",
            "            BAD PREDICTION:\n",
            "            - INDEX: 13\n",
            "            - TEXT: Obudziłem się czując się szczególnie podle, próbowałem to zignorować, ale było coraz gorzej i gorzej\n",
            "            - PREDICTED VALUE: 3\n",
            "            - CORRECT VALUE: 4\n",
            "            \n",
            "\n",
            "            BAD PREDICTION:\n",
            "            - INDEX: 14\n",
            "            - TEXT: Czułem, jak ohydna ćma wdziera się do mojego mózgu, szukając mojego mózgu jako środka do kontrolowania i zniewalania mnie, tak jak te paskudne robaki zrobiły Chekovowi w gwiezdnej wędrówce gniew Khana.\n",
            "            - PREDICTED VALUE: 5\n",
            "            - CORRECT VALUE: 4\n",
            "            \n"
          ]
        }
      ],
      "source": [
        "model_utils.print_incorrectly_predicted_texts(texts=raw_dataset['text_pl'],\n",
        "                                              class_actual=raw_dataset['emotions'],\n",
        "                                              class_preds=class_preds)"
      ]
    },
    {
      "cell_type": "code",
      "source": [
        "!zip -r documentation.zip documentation/models"
      ],
      "metadata": {
        "colab": {
          "base_uri": "https://localhost:8080/"
        },
        "id": "EGinKtUgJ76O",
        "outputId": "949ad042-a0c3-4b07-ebf6-c9dc35a7fdb0"
      },
      "execution_count": 62,
      "outputs": [
        {
          "output_type": "stream",
          "name": "stdout",
          "text": [
            "updating: documentation/models/ (stored 0%)\n",
            "updating: documentation/models/.ipynb_checkpoints/ (stored 0%)\n",
            "updating: documentation/models/emotions_pl_bert/ (stored 0%)\n",
            "updating: documentation/models/emotions_pl_bert/figures/ (stored 0%)\n",
            "updating: documentation/models/emotions_pl_bert/figures/training_1_loss.png (deflated 9%)\n",
            "updating: documentation/models/emotions_pl_bert/figures/training_1_accuracy.png (deflated 9%)\n",
            "updating: documentation/models/emotions_pl_bert/figures/.ipynb_checkpoints/ (stored 0%)\n",
            "updating: documentation/models/emotions_pl_bert/figures/training_1_confmatrix.png (deflated 12%)\n",
            "updating: documentation/models/emotions_pl_bert/.ipynb_checkpoints/ (stored 0%)\n",
            "  adding: documentation/models/emotions_pl_bert/figures/training_2_confmatrix.png (deflated 11%)\n",
            "  adding: documentation/models/emotions_pl_bert/figures/training_2_accuracy.png (deflated 10%)\n",
            "  adding: documentation/models/emotions_pl_bert/figures/training_2_loss.png (deflated 11%)\n"
          ]
        }
      ]
    },
    {
      "cell_type": "code",
      "source": [
        "from google.colab import files\n",
        "files.download(\"documentation.zip\")"
      ],
      "metadata": {
        "colab": {
          "base_uri": "https://localhost:8080/",
          "height": 17
        },
        "id": "1JD_SXqtJ9fB",
        "outputId": "87a9bc87-f865-4265-917c-7291045138ac"
      },
      "execution_count": 63,
      "outputs": [
        {
          "output_type": "display_data",
          "data": {
            "text/plain": [
              "<IPython.core.display.Javascript object>"
            ],
            "application/javascript": [
              "\n",
              "    async function download(id, filename, size) {\n",
              "      if (!google.colab.kernel.accessAllowed) {\n",
              "        return;\n",
              "      }\n",
              "      const div = document.createElement('div');\n",
              "      const label = document.createElement('label');\n",
              "      label.textContent = `Downloading \"${filename}\": `;\n",
              "      div.appendChild(label);\n",
              "      const progress = document.createElement('progress');\n",
              "      progress.max = size;\n",
              "      div.appendChild(progress);\n",
              "      document.body.appendChild(div);\n",
              "\n",
              "      const buffers = [];\n",
              "      let downloaded = 0;\n",
              "\n",
              "      const channel = await google.colab.kernel.comms.open(id);\n",
              "      // Send a message to notify the kernel that we're ready.\n",
              "      channel.send({})\n",
              "\n",
              "      for await (const message of channel.messages) {\n",
              "        // Send a message to notify the kernel that we're ready.\n",
              "        channel.send({})\n",
              "        if (message.buffers) {\n",
              "          for (const buffer of message.buffers) {\n",
              "            buffers.push(buffer);\n",
              "            downloaded += buffer.byteLength;\n",
              "            progress.value = downloaded;\n",
              "          }\n",
              "        }\n",
              "      }\n",
              "      const blob = new Blob(buffers, {type: 'application/binary'});\n",
              "      const a = document.createElement('a');\n",
              "      a.href = window.URL.createObjectURL(blob);\n",
              "      a.download = filename;\n",
              "      div.appendChild(a);\n",
              "      a.click();\n",
              "      div.remove();\n",
              "    }\n",
              "  "
            ]
          },
          "metadata": {}
        },
        {
          "output_type": "display_data",
          "data": {
            "text/plain": [
              "<IPython.core.display.Javascript object>"
            ],
            "application/javascript": [
              "download(\"download_aef7b575-c250-4d53-a6b3-00c4cf969a54\", \"documentation.zip\", 140301)"
            ]
          },
          "metadata": {}
        }
      ]
    }
  ],
  "metadata": {
    "kernelspec": {
      "display_name": "Python 3",
      "name": "python3"
    },
    "language_info": {
      "codemirror_mode": {
        "name": "ipython",
        "version": 3
      },
      "file_extension": ".py",
      "mimetype": "text/x-python",
      "name": "python",
      "nbconvert_exporter": "python",
      "pygments_lexer": "ipython3",
      "version": "3.10.11"
    },
    "colab": {
      "provenance": [],
      "gpuType": "T4"
    },
    "accelerator": "GPU",
    "widgets": {
      "application/vnd.jupyter.widget-state+json": {
        "7c345229c4d84d33a9e58b92ceb76fff": {
          "model_module": "@jupyter-widgets/controls",
          "model_name": "HBoxModel",
          "model_module_version": "1.5.0",
          "state": {
            "_dom_classes": [],
            "_model_module": "@jupyter-widgets/controls",
            "_model_module_version": "1.5.0",
            "_model_name": "HBoxModel",
            "_view_count": null,
            "_view_module": "@jupyter-widgets/controls",
            "_view_module_version": "1.5.0",
            "_view_name": "HBoxView",
            "box_style": "",
            "children": [
              "IPY_MODEL_0794d77bdc134201a9435e6f401fccbf",
              "IPY_MODEL_d5d67ec0e5a943a98137fc436e74898a",
              "IPY_MODEL_3dd16f511e504a88aeb3fafe44420f24"
            ],
            "layout": "IPY_MODEL_09684462e752457dab750c4a408bfb22"
          }
        },
        "0794d77bdc134201a9435e6f401fccbf": {
          "model_module": "@jupyter-widgets/controls",
          "model_name": "HTMLModel",
          "model_module_version": "1.5.0",
          "state": {
            "_dom_classes": [],
            "_model_module": "@jupyter-widgets/controls",
            "_model_module_version": "1.5.0",
            "_model_name": "HTMLModel",
            "_view_count": null,
            "_view_module": "@jupyter-widgets/controls",
            "_view_module_version": "1.5.0",
            "_view_name": "HTMLView",
            "description": "",
            "description_tooltip": null,
            "layout": "IPY_MODEL_e7cdd083d8b941cba60df1500c663e97",
            "placeholder": "​",
            "style": "IPY_MODEL_ee6bccecac0f411d92aec009b45813a3",
            "value": "Map:  98%"
          }
        },
        "d5d67ec0e5a943a98137fc436e74898a": {
          "model_module": "@jupyter-widgets/controls",
          "model_name": "FloatProgressModel",
          "model_module_version": "1.5.0",
          "state": {
            "_dom_classes": [],
            "_model_module": "@jupyter-widgets/controls",
            "_model_module_version": "1.5.0",
            "_model_name": "FloatProgressModel",
            "_view_count": null,
            "_view_module": "@jupyter-widgets/controls",
            "_view_module_version": "1.5.0",
            "_view_name": "ProgressView",
            "bar_style": "",
            "description": "",
            "description_tooltip": null,
            "layout": "IPY_MODEL_219baeebf3eb4c69a220e1f32fc0e14e",
            "max": 40000,
            "min": 0,
            "orientation": "horizontal",
            "style": "IPY_MODEL_183958a093e54f69b9fa9cbb9fce40fa",
            "value": 40000
          }
        },
        "3dd16f511e504a88aeb3fafe44420f24": {
          "model_module": "@jupyter-widgets/controls",
          "model_name": "HTMLModel",
          "model_module_version": "1.5.0",
          "state": {
            "_dom_classes": [],
            "_model_module": "@jupyter-widgets/controls",
            "_model_module_version": "1.5.0",
            "_model_name": "HTMLModel",
            "_view_count": null,
            "_view_module": "@jupyter-widgets/controls",
            "_view_module_version": "1.5.0",
            "_view_name": "HTMLView",
            "description": "",
            "description_tooltip": null,
            "layout": "IPY_MODEL_883b8d1808384598a6a81e1a61108e84",
            "placeholder": "​",
            "style": "IPY_MODEL_36f54aeb7ae647619d04006dbbb3d098",
            "value": " 39000/40000 [00:05&lt;00:00, 9289.63 examples/s]"
          }
        },
        "09684462e752457dab750c4a408bfb22": {
          "model_module": "@jupyter-widgets/base",
          "model_name": "LayoutModel",
          "model_module_version": "1.2.0",
          "state": {
            "_model_module": "@jupyter-widgets/base",
            "_model_module_version": "1.2.0",
            "_model_name": "LayoutModel",
            "_view_count": null,
            "_view_module": "@jupyter-widgets/base",
            "_view_module_version": "1.2.0",
            "_view_name": "LayoutView",
            "align_content": null,
            "align_items": null,
            "align_self": null,
            "border": null,
            "bottom": null,
            "display": null,
            "flex": null,
            "flex_flow": null,
            "grid_area": null,
            "grid_auto_columns": null,
            "grid_auto_flow": null,
            "grid_auto_rows": null,
            "grid_column": null,
            "grid_gap": null,
            "grid_row": null,
            "grid_template_areas": null,
            "grid_template_columns": null,
            "grid_template_rows": null,
            "height": null,
            "justify_content": null,
            "justify_items": null,
            "left": null,
            "margin": null,
            "max_height": null,
            "max_width": null,
            "min_height": null,
            "min_width": null,
            "object_fit": null,
            "object_position": null,
            "order": null,
            "overflow": null,
            "overflow_x": null,
            "overflow_y": null,
            "padding": null,
            "right": null,
            "top": null,
            "visibility": "hidden",
            "width": null
          }
        },
        "e7cdd083d8b941cba60df1500c663e97": {
          "model_module": "@jupyter-widgets/base",
          "model_name": "LayoutModel",
          "model_module_version": "1.2.0",
          "state": {
            "_model_module": "@jupyter-widgets/base",
            "_model_module_version": "1.2.0",
            "_model_name": "LayoutModel",
            "_view_count": null,
            "_view_module": "@jupyter-widgets/base",
            "_view_module_version": "1.2.0",
            "_view_name": "LayoutView",
            "align_content": null,
            "align_items": null,
            "align_self": null,
            "border": null,
            "bottom": null,
            "display": null,
            "flex": null,
            "flex_flow": null,
            "grid_area": null,
            "grid_auto_columns": null,
            "grid_auto_flow": null,
            "grid_auto_rows": null,
            "grid_column": null,
            "grid_gap": null,
            "grid_row": null,
            "grid_template_areas": null,
            "grid_template_columns": null,
            "grid_template_rows": null,
            "height": null,
            "justify_content": null,
            "justify_items": null,
            "left": null,
            "margin": null,
            "max_height": null,
            "max_width": null,
            "min_height": null,
            "min_width": null,
            "object_fit": null,
            "object_position": null,
            "order": null,
            "overflow": null,
            "overflow_x": null,
            "overflow_y": null,
            "padding": null,
            "right": null,
            "top": null,
            "visibility": null,
            "width": null
          }
        },
        "ee6bccecac0f411d92aec009b45813a3": {
          "model_module": "@jupyter-widgets/controls",
          "model_name": "DescriptionStyleModel",
          "model_module_version": "1.5.0",
          "state": {
            "_model_module": "@jupyter-widgets/controls",
            "_model_module_version": "1.5.0",
            "_model_name": "DescriptionStyleModel",
            "_view_count": null,
            "_view_module": "@jupyter-widgets/base",
            "_view_module_version": "1.2.0",
            "_view_name": "StyleView",
            "description_width": ""
          }
        },
        "219baeebf3eb4c69a220e1f32fc0e14e": {
          "model_module": "@jupyter-widgets/base",
          "model_name": "LayoutModel",
          "model_module_version": "1.2.0",
          "state": {
            "_model_module": "@jupyter-widgets/base",
            "_model_module_version": "1.2.0",
            "_model_name": "LayoutModel",
            "_view_count": null,
            "_view_module": "@jupyter-widgets/base",
            "_view_module_version": "1.2.0",
            "_view_name": "LayoutView",
            "align_content": null,
            "align_items": null,
            "align_self": null,
            "border": null,
            "bottom": null,
            "display": null,
            "flex": null,
            "flex_flow": null,
            "grid_area": null,
            "grid_auto_columns": null,
            "grid_auto_flow": null,
            "grid_auto_rows": null,
            "grid_column": null,
            "grid_gap": null,
            "grid_row": null,
            "grid_template_areas": null,
            "grid_template_columns": null,
            "grid_template_rows": null,
            "height": null,
            "justify_content": null,
            "justify_items": null,
            "left": null,
            "margin": null,
            "max_height": null,
            "max_width": null,
            "min_height": null,
            "min_width": null,
            "object_fit": null,
            "object_position": null,
            "order": null,
            "overflow": null,
            "overflow_x": null,
            "overflow_y": null,
            "padding": null,
            "right": null,
            "top": null,
            "visibility": null,
            "width": null
          }
        },
        "183958a093e54f69b9fa9cbb9fce40fa": {
          "model_module": "@jupyter-widgets/controls",
          "model_name": "ProgressStyleModel",
          "model_module_version": "1.5.0",
          "state": {
            "_model_module": "@jupyter-widgets/controls",
            "_model_module_version": "1.5.0",
            "_model_name": "ProgressStyleModel",
            "_view_count": null,
            "_view_module": "@jupyter-widgets/base",
            "_view_module_version": "1.2.0",
            "_view_name": "StyleView",
            "bar_color": null,
            "description_width": ""
          }
        },
        "883b8d1808384598a6a81e1a61108e84": {
          "model_module": "@jupyter-widgets/base",
          "model_name": "LayoutModel",
          "model_module_version": "1.2.0",
          "state": {
            "_model_module": "@jupyter-widgets/base",
            "_model_module_version": "1.2.0",
            "_model_name": "LayoutModel",
            "_view_count": null,
            "_view_module": "@jupyter-widgets/base",
            "_view_module_version": "1.2.0",
            "_view_name": "LayoutView",
            "align_content": null,
            "align_items": null,
            "align_self": null,
            "border": null,
            "bottom": null,
            "display": null,
            "flex": null,
            "flex_flow": null,
            "grid_area": null,
            "grid_auto_columns": null,
            "grid_auto_flow": null,
            "grid_auto_rows": null,
            "grid_column": null,
            "grid_gap": null,
            "grid_row": null,
            "grid_template_areas": null,
            "grid_template_columns": null,
            "grid_template_rows": null,
            "height": null,
            "justify_content": null,
            "justify_items": null,
            "left": null,
            "margin": null,
            "max_height": null,
            "max_width": null,
            "min_height": null,
            "min_width": null,
            "object_fit": null,
            "object_position": null,
            "order": null,
            "overflow": null,
            "overflow_x": null,
            "overflow_y": null,
            "padding": null,
            "right": null,
            "top": null,
            "visibility": null,
            "width": null
          }
        },
        "36f54aeb7ae647619d04006dbbb3d098": {
          "model_module": "@jupyter-widgets/controls",
          "model_name": "DescriptionStyleModel",
          "model_module_version": "1.5.0",
          "state": {
            "_model_module": "@jupyter-widgets/controls",
            "_model_module_version": "1.5.0",
            "_model_name": "DescriptionStyleModel",
            "_view_count": null,
            "_view_module": "@jupyter-widgets/base",
            "_view_module_version": "1.2.0",
            "_view_name": "StyleView",
            "description_width": ""
          }
        }
      }
    }
  },
  "nbformat": 4,
  "nbformat_minor": 0
}