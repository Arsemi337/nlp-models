{
  "cells": [
    {
      "cell_type": "code",
      "execution_count": 1,
      "metadata": {
        "ExecuteTime": {
          "end_time": "2023-05-14T13:04:22.886311600Z",
          "start_time": "2023-05-14T13:04:20.469379600Z"
        },
        "collapsed": true,
        "id": "iWrOptAE5eQw"
      },
      "outputs": [],
      "source": [
        "import sys\n",
        "\n",
        "sys.path.append('../../notebooks')\n",
        "import os\n",
        "import pandas as pd\n",
        "import tensorflow as tf\n",
        "import matplotlib.pyplot as plt\n",
        "import numpy as np\n",
        "import constants\n",
        "import model_utils"
      ]
    },
    {
      "cell_type": "code",
      "execution_count": 2,
      "metadata": {
        "ExecuteTime": {
          "end_time": "2023-05-14T13:04:22.997388500Z",
          "start_time": "2023-05-14T13:04:22.889820500Z"
        },
        "colab": {
          "base_uri": "https://localhost:8080/",
          "height": 424
        },
        "id": "hAu6YgRX5eQx",
        "outputId": "eb145b16-a907-464c-c391-63fabe4f1341"
      },
      "outputs": [
        {
          "output_type": "execute_result",
          "data": {
            "text/plain": [
              "                                                    text emotions  \\\n",
              "0      i feel awful about it too because it s my job ...  sadness   \n",
              "1                                  im alone i feel awful  sadness   \n",
              "2      ive probably mentioned this before but i reall...      joy   \n",
              "3               i was feeling a little low few days back  sadness   \n",
              "4      i beleive that i am much more sensitive to oth...     love   \n",
              "...                                                  ...      ...   \n",
              "39995  i witness what i feel helpless to change i tak...  sadness   \n",
              "39996  i feel unwelcome and i feel very self consciou...  sadness   \n",
              "39997  i feel like boston is so romantic when its rai...     love   \n",
              "39998  i thought sure i was coming down with somethin...      joy   \n",
              "39999  i cant be bothered to look it up right now and...      joy   \n",
              "\n",
              "                                                 text_pl  \n",
              "0      Też czuję się z tym okropnie, bo moim zadaniem...  \n",
              "1                         Jestem sama czuję się okropnie  \n",
              "2      Prawdopodobnie wspomniałem o tym wcześniej, al...  \n",
              "3                 Czułem się trochę nisko kilka dni temu  \n",
              "4      Wyobrażam sobie, że jestem znacznie bardziej w...  \n",
              "...                                                  ...  \n",
              "39995  Jestem świadkiem tego, co czuję się bezradny z...  \n",
              "39996  Czuję się niemile widziany i czuję się bardzo ...  \n",
              "39997  Czuję, że Boston jest taki romantyczny, kiedy ...  \n",
              "39998  Myślałem, że z czymś zejdę, ale dziś rano czuj...  \n",
              "39999  Nie mogę się teraz tym przejmować, pół kielisz...  \n",
              "\n",
              "[40000 rows x 3 columns]"
            ],
            "text/html": [
              "\n",
              "  <div id=\"df-f36a0ab2-e188-44a7-9ca3-7d6773cad6b3\">\n",
              "    <div class=\"colab-df-container\">\n",
              "      <div>\n",
              "<style scoped>\n",
              "    .dataframe tbody tr th:only-of-type {\n",
              "        vertical-align: middle;\n",
              "    }\n",
              "\n",
              "    .dataframe tbody tr th {\n",
              "        vertical-align: top;\n",
              "    }\n",
              "\n",
              "    .dataframe thead th {\n",
              "        text-align: right;\n",
              "    }\n",
              "</style>\n",
              "<table border=\"1\" class=\"dataframe\">\n",
              "  <thead>\n",
              "    <tr style=\"text-align: right;\">\n",
              "      <th></th>\n",
              "      <th>text</th>\n",
              "      <th>emotions</th>\n",
              "      <th>text_pl</th>\n",
              "    </tr>\n",
              "  </thead>\n",
              "  <tbody>\n",
              "    <tr>\n",
              "      <th>0</th>\n",
              "      <td>i feel awful about it too because it s my job ...</td>\n",
              "      <td>sadness</td>\n",
              "      <td>Też czuję się z tym okropnie, bo moim zadaniem...</td>\n",
              "    </tr>\n",
              "    <tr>\n",
              "      <th>1</th>\n",
              "      <td>im alone i feel awful</td>\n",
              "      <td>sadness</td>\n",
              "      <td>Jestem sama czuję się okropnie</td>\n",
              "    </tr>\n",
              "    <tr>\n",
              "      <th>2</th>\n",
              "      <td>ive probably mentioned this before but i reall...</td>\n",
              "      <td>joy</td>\n",
              "      <td>Prawdopodobnie wspomniałem o tym wcześniej, al...</td>\n",
              "    </tr>\n",
              "    <tr>\n",
              "      <th>3</th>\n",
              "      <td>i was feeling a little low few days back</td>\n",
              "      <td>sadness</td>\n",
              "      <td>Czułem się trochę nisko kilka dni temu</td>\n",
              "    </tr>\n",
              "    <tr>\n",
              "      <th>4</th>\n",
              "      <td>i beleive that i am much more sensitive to oth...</td>\n",
              "      <td>love</td>\n",
              "      <td>Wyobrażam sobie, że jestem znacznie bardziej w...</td>\n",
              "    </tr>\n",
              "    <tr>\n",
              "      <th>...</th>\n",
              "      <td>...</td>\n",
              "      <td>...</td>\n",
              "      <td>...</td>\n",
              "    </tr>\n",
              "    <tr>\n",
              "      <th>39995</th>\n",
              "      <td>i witness what i feel helpless to change i tak...</td>\n",
              "      <td>sadness</td>\n",
              "      <td>Jestem świadkiem tego, co czuję się bezradny z...</td>\n",
              "    </tr>\n",
              "    <tr>\n",
              "      <th>39996</th>\n",
              "      <td>i feel unwelcome and i feel very self consciou...</td>\n",
              "      <td>sadness</td>\n",
              "      <td>Czuję się niemile widziany i czuję się bardzo ...</td>\n",
              "    </tr>\n",
              "    <tr>\n",
              "      <th>39997</th>\n",
              "      <td>i feel like boston is so romantic when its rai...</td>\n",
              "      <td>love</td>\n",
              "      <td>Czuję, że Boston jest taki romantyczny, kiedy ...</td>\n",
              "    </tr>\n",
              "    <tr>\n",
              "      <th>39998</th>\n",
              "      <td>i thought sure i was coming down with somethin...</td>\n",
              "      <td>joy</td>\n",
              "      <td>Myślałem, że z czymś zejdę, ale dziś rano czuj...</td>\n",
              "    </tr>\n",
              "    <tr>\n",
              "      <th>39999</th>\n",
              "      <td>i cant be bothered to look it up right now and...</td>\n",
              "      <td>joy</td>\n",
              "      <td>Nie mogę się teraz tym przejmować, pół kielisz...</td>\n",
              "    </tr>\n",
              "  </tbody>\n",
              "</table>\n",
              "<p>40000 rows × 3 columns</p>\n",
              "</div>\n",
              "      <button class=\"colab-df-convert\" onclick=\"convertToInteractive('df-f36a0ab2-e188-44a7-9ca3-7d6773cad6b3')\"\n",
              "              title=\"Convert this dataframe to an interactive table.\"\n",
              "              style=\"display:none;\">\n",
              "        \n",
              "  <svg xmlns=\"http://www.w3.org/2000/svg\" height=\"24px\"viewBox=\"0 0 24 24\"\n",
              "       width=\"24px\">\n",
              "    <path d=\"M0 0h24v24H0V0z\" fill=\"none\"/>\n",
              "    <path d=\"M18.56 5.44l.94 2.06.94-2.06 2.06-.94-2.06-.94-.94-2.06-.94 2.06-2.06.94zm-11 1L8.5 8.5l.94-2.06 2.06-.94-2.06-.94L8.5 2.5l-.94 2.06-2.06.94zm10 10l.94 2.06.94-2.06 2.06-.94-2.06-.94-.94-2.06-.94 2.06-2.06.94z\"/><path d=\"M17.41 7.96l-1.37-1.37c-.4-.4-.92-.59-1.43-.59-.52 0-1.04.2-1.43.59L10.3 9.45l-7.72 7.72c-.78.78-.78 2.05 0 2.83L4 21.41c.39.39.9.59 1.41.59.51 0 1.02-.2 1.41-.59l7.78-7.78 2.81-2.81c.8-.78.8-2.07 0-2.86zM5.41 20L4 18.59l7.72-7.72 1.47 1.35L5.41 20z\"/>\n",
              "  </svg>\n",
              "      </button>\n",
              "      \n",
              "  <style>\n",
              "    .colab-df-container {\n",
              "      display:flex;\n",
              "      flex-wrap:wrap;\n",
              "      gap: 12px;\n",
              "    }\n",
              "\n",
              "    .colab-df-convert {\n",
              "      background-color: #E8F0FE;\n",
              "      border: none;\n",
              "      border-radius: 50%;\n",
              "      cursor: pointer;\n",
              "      display: none;\n",
              "      fill: #1967D2;\n",
              "      height: 32px;\n",
              "      padding: 0 0 0 0;\n",
              "      width: 32px;\n",
              "    }\n",
              "\n",
              "    .colab-df-convert:hover {\n",
              "      background-color: #E2EBFA;\n",
              "      box-shadow: 0px 1px 2px rgba(60, 64, 67, 0.3), 0px 1px 3px 1px rgba(60, 64, 67, 0.15);\n",
              "      fill: #174EA6;\n",
              "    }\n",
              "\n",
              "    [theme=dark] .colab-df-convert {\n",
              "      background-color: #3B4455;\n",
              "      fill: #D2E3FC;\n",
              "    }\n",
              "\n",
              "    [theme=dark] .colab-df-convert:hover {\n",
              "      background-color: #434B5C;\n",
              "      box-shadow: 0px 1px 3px 1px rgba(0, 0, 0, 0.15);\n",
              "      filter: drop-shadow(0px 1px 2px rgba(0, 0, 0, 0.3));\n",
              "      fill: #FFFFFF;\n",
              "    }\n",
              "  </style>\n",
              "\n",
              "      <script>\n",
              "        const buttonEl =\n",
              "          document.querySelector('#df-f36a0ab2-e188-44a7-9ca3-7d6773cad6b3 button.colab-df-convert');\n",
              "        buttonEl.style.display =\n",
              "          google.colab.kernel.accessAllowed ? 'block' : 'none';\n",
              "\n",
              "        async function convertToInteractive(key) {\n",
              "          const element = document.querySelector('#df-f36a0ab2-e188-44a7-9ca3-7d6773cad6b3');\n",
              "          const dataTable =\n",
              "            await google.colab.kernel.invokeFunction('convertToInteractive',\n",
              "                                                     [key], {});\n",
              "          if (!dataTable) return;\n",
              "\n",
              "          const docLinkHtml = 'Like what you see? Visit the ' +\n",
              "            '<a target=\"_blank\" href=https://colab.research.google.com/notebooks/data_table.ipynb>data table notebook</a>'\n",
              "            + ' to learn more about interactive tables.';\n",
              "          element.innerHTML = '';\n",
              "          dataTable['output_type'] = 'display_data';\n",
              "          await google.colab.output.renderOutput(dataTable, element);\n",
              "          const docLink = document.createElement('div');\n",
              "          docLink.innerHTML = docLinkHtml;\n",
              "          element.appendChild(docLink);\n",
              "        }\n",
              "      </script>\n",
              "    </div>\n",
              "  </div>\n",
              "  "
            ]
          },
          "metadata": {},
          "execution_count": 2
        }
      ],
      "source": [
        "df = pd.read_json('data/translated/emotions/emotions_dataset_pl.json')\n",
        "df"
      ]
    },
    {
      "cell_type": "code",
      "execution_count": 3,
      "metadata": {
        "colab": {
          "base_uri": "https://localhost:8080/",
          "height": 424
        },
        "id": "okrrus7z5eQy",
        "outputId": "d2da5768-77eb-4b46-dcf3-e47fbcd58c4a"
      },
      "outputs": [
        {
          "output_type": "execute_result",
          "data": {
            "text/plain": [
              "      emotions                                            text_pl\n",
              "0      sadness  Też czuję się z tym okropnie, bo moim zadaniem...\n",
              "1      sadness                     Jestem sama czuję się okropnie\n",
              "2          joy  Prawdopodobnie wspomniałem o tym wcześniej, al...\n",
              "3      sadness             Czułem się trochę nisko kilka dni temu\n",
              "4         love  Wyobrażam sobie, że jestem znacznie bardziej w...\n",
              "...        ...                                                ...\n",
              "39995  sadness  Jestem świadkiem tego, co czuję się bezradny z...\n",
              "39996  sadness  Czuję się niemile widziany i czuję się bardzo ...\n",
              "39997     love  Czuję, że Boston jest taki romantyczny, kiedy ...\n",
              "39998      joy  Myślałem, że z czymś zejdę, ale dziś rano czuj...\n",
              "39999      joy  Nie mogę się teraz tym przejmować, pół kielisz...\n",
              "\n",
              "[40000 rows x 2 columns]"
            ],
            "text/html": [
              "\n",
              "  <div id=\"df-883719bd-1520-4491-bb95-24dc3f5f78b7\">\n",
              "    <div class=\"colab-df-container\">\n",
              "      <div>\n",
              "<style scoped>\n",
              "    .dataframe tbody tr th:only-of-type {\n",
              "        vertical-align: middle;\n",
              "    }\n",
              "\n",
              "    .dataframe tbody tr th {\n",
              "        vertical-align: top;\n",
              "    }\n",
              "\n",
              "    .dataframe thead th {\n",
              "        text-align: right;\n",
              "    }\n",
              "</style>\n",
              "<table border=\"1\" class=\"dataframe\">\n",
              "  <thead>\n",
              "    <tr style=\"text-align: right;\">\n",
              "      <th></th>\n",
              "      <th>emotions</th>\n",
              "      <th>text_pl</th>\n",
              "    </tr>\n",
              "  </thead>\n",
              "  <tbody>\n",
              "    <tr>\n",
              "      <th>0</th>\n",
              "      <td>sadness</td>\n",
              "      <td>Też czuję się z tym okropnie, bo moim zadaniem...</td>\n",
              "    </tr>\n",
              "    <tr>\n",
              "      <th>1</th>\n",
              "      <td>sadness</td>\n",
              "      <td>Jestem sama czuję się okropnie</td>\n",
              "    </tr>\n",
              "    <tr>\n",
              "      <th>2</th>\n",
              "      <td>joy</td>\n",
              "      <td>Prawdopodobnie wspomniałem o tym wcześniej, al...</td>\n",
              "    </tr>\n",
              "    <tr>\n",
              "      <th>3</th>\n",
              "      <td>sadness</td>\n",
              "      <td>Czułem się trochę nisko kilka dni temu</td>\n",
              "    </tr>\n",
              "    <tr>\n",
              "      <th>4</th>\n",
              "      <td>love</td>\n",
              "      <td>Wyobrażam sobie, że jestem znacznie bardziej w...</td>\n",
              "    </tr>\n",
              "    <tr>\n",
              "      <th>...</th>\n",
              "      <td>...</td>\n",
              "      <td>...</td>\n",
              "    </tr>\n",
              "    <tr>\n",
              "      <th>39995</th>\n",
              "      <td>sadness</td>\n",
              "      <td>Jestem świadkiem tego, co czuję się bezradny z...</td>\n",
              "    </tr>\n",
              "    <tr>\n",
              "      <th>39996</th>\n",
              "      <td>sadness</td>\n",
              "      <td>Czuję się niemile widziany i czuję się bardzo ...</td>\n",
              "    </tr>\n",
              "    <tr>\n",
              "      <th>39997</th>\n",
              "      <td>love</td>\n",
              "      <td>Czuję, że Boston jest taki romantyczny, kiedy ...</td>\n",
              "    </tr>\n",
              "    <tr>\n",
              "      <th>39998</th>\n",
              "      <td>joy</td>\n",
              "      <td>Myślałem, że z czymś zejdę, ale dziś rano czuj...</td>\n",
              "    </tr>\n",
              "    <tr>\n",
              "      <th>39999</th>\n",
              "      <td>joy</td>\n",
              "      <td>Nie mogę się teraz tym przejmować, pół kielisz...</td>\n",
              "    </tr>\n",
              "  </tbody>\n",
              "</table>\n",
              "<p>40000 rows × 2 columns</p>\n",
              "</div>\n",
              "      <button class=\"colab-df-convert\" onclick=\"convertToInteractive('df-883719bd-1520-4491-bb95-24dc3f5f78b7')\"\n",
              "              title=\"Convert this dataframe to an interactive table.\"\n",
              "              style=\"display:none;\">\n",
              "        \n",
              "  <svg xmlns=\"http://www.w3.org/2000/svg\" height=\"24px\"viewBox=\"0 0 24 24\"\n",
              "       width=\"24px\">\n",
              "    <path d=\"M0 0h24v24H0V0z\" fill=\"none\"/>\n",
              "    <path d=\"M18.56 5.44l.94 2.06.94-2.06 2.06-.94-2.06-.94-.94-2.06-.94 2.06-2.06.94zm-11 1L8.5 8.5l.94-2.06 2.06-.94-2.06-.94L8.5 2.5l-.94 2.06-2.06.94zm10 10l.94 2.06.94-2.06 2.06-.94-2.06-.94-.94-2.06-.94 2.06-2.06.94z\"/><path d=\"M17.41 7.96l-1.37-1.37c-.4-.4-.92-.59-1.43-.59-.52 0-1.04.2-1.43.59L10.3 9.45l-7.72 7.72c-.78.78-.78 2.05 0 2.83L4 21.41c.39.39.9.59 1.41.59.51 0 1.02-.2 1.41-.59l7.78-7.78 2.81-2.81c.8-.78.8-2.07 0-2.86zM5.41 20L4 18.59l7.72-7.72 1.47 1.35L5.41 20z\"/>\n",
              "  </svg>\n",
              "      </button>\n",
              "      \n",
              "  <style>\n",
              "    .colab-df-container {\n",
              "      display:flex;\n",
              "      flex-wrap:wrap;\n",
              "      gap: 12px;\n",
              "    }\n",
              "\n",
              "    .colab-df-convert {\n",
              "      background-color: #E8F0FE;\n",
              "      border: none;\n",
              "      border-radius: 50%;\n",
              "      cursor: pointer;\n",
              "      display: none;\n",
              "      fill: #1967D2;\n",
              "      height: 32px;\n",
              "      padding: 0 0 0 0;\n",
              "      width: 32px;\n",
              "    }\n",
              "\n",
              "    .colab-df-convert:hover {\n",
              "      background-color: #E2EBFA;\n",
              "      box-shadow: 0px 1px 2px rgba(60, 64, 67, 0.3), 0px 1px 3px 1px rgba(60, 64, 67, 0.15);\n",
              "      fill: #174EA6;\n",
              "    }\n",
              "\n",
              "    [theme=dark] .colab-df-convert {\n",
              "      background-color: #3B4455;\n",
              "      fill: #D2E3FC;\n",
              "    }\n",
              "\n",
              "    [theme=dark] .colab-df-convert:hover {\n",
              "      background-color: #434B5C;\n",
              "      box-shadow: 0px 1px 3px 1px rgba(0, 0, 0, 0.15);\n",
              "      filter: drop-shadow(0px 1px 2px rgba(0, 0, 0, 0.3));\n",
              "      fill: #FFFFFF;\n",
              "    }\n",
              "  </style>\n",
              "\n",
              "      <script>\n",
              "        const buttonEl =\n",
              "          document.querySelector('#df-883719bd-1520-4491-bb95-24dc3f5f78b7 button.colab-df-convert');\n",
              "        buttonEl.style.display =\n",
              "          google.colab.kernel.accessAllowed ? 'block' : 'none';\n",
              "\n",
              "        async function convertToInteractive(key) {\n",
              "          const element = document.querySelector('#df-883719bd-1520-4491-bb95-24dc3f5f78b7');\n",
              "          const dataTable =\n",
              "            await google.colab.kernel.invokeFunction('convertToInteractive',\n",
              "                                                     [key], {});\n",
              "          if (!dataTable) return;\n",
              "\n",
              "          const docLinkHtml = 'Like what you see? Visit the ' +\n",
              "            '<a target=\"_blank\" href=https://colab.research.google.com/notebooks/data_table.ipynb>data table notebook</a>'\n",
              "            + ' to learn more about interactive tables.';\n",
              "          element.innerHTML = '';\n",
              "          dataTable['output_type'] = 'display_data';\n",
              "          await google.colab.output.renderOutput(dataTable, element);\n",
              "          const docLink = document.createElement('div');\n",
              "          docLink.innerHTML = docLinkHtml;\n",
              "          element.appendChild(docLink);\n",
              "        }\n",
              "      </script>\n",
              "    </div>\n",
              "  </div>\n",
              "  "
            ]
          },
          "metadata": {},
          "execution_count": 3
        }
      ],
      "source": [
        "df = df.drop(columns=['text'])\n",
        "df"
      ]
    },
    {
      "cell_type": "code",
      "execution_count": 4,
      "metadata": {
        "ExecuteTime": {
          "end_time": "2023-05-14T13:04:23.151450300Z",
          "start_time": "2023-05-14T13:04:23.015402200Z"
        },
        "id": "jPHhvhsZ5eQy"
      },
      "outputs": [],
      "source": [
        "surprise_count = len(df.loc[df['emotions'] == 'surprise'])\n",
        "\n",
        "joy = df.loc[df['emotions'] == 'joy'].iloc[:surprise_count]\n",
        "sadness = df.loc[df['emotions'] == 'sadness'].iloc[:surprise_count]\n",
        "anger = df.loc[df['emotions'] == 'anger'].iloc[:surprise_count]\n",
        "fear = df.loc[df['emotions'] == 'fear'].iloc[:surprise_count]\n",
        "love = df.loc[df['emotions'] == 'love'].iloc[:surprise_count]\n",
        "surprise = df.loc[df['emotions'] == 'surprise']"
      ]
    },
    {
      "cell_type": "code",
      "execution_count": 5,
      "metadata": {
        "ExecuteTime": {
          "end_time": "2023-05-14T13:04:23.384172800Z",
          "start_time": "2023-05-14T13:04:23.311267700Z"
        },
        "colab": {
          "base_uri": "https://localhost:8080/",
          "height": 424
        },
        "id": "8nnBys0R5eQy",
        "outputId": "d9f612ad-aa19-4f7c-bd09-c5bb5418a641"
      },
      "outputs": [
        {
          "output_type": "execute_result",
          "data": {
            "text/plain": [
              "       emotions                                            text_pl\n",
              "2         anger  Myślę o tym i czuję się zniesmaczony sobą, pon...\n",
              "6           joy  Miałem wiele obaw o wymuszanie tego problemu, ...\n",
              "7      surprise  Uwielbiam sposób, w jaki rozpraszasz słowa jak...\n",
              "8         anger                     Czuję się śmiesznie pogorszony\n",
              "12      sadness  Powiedziałem funkcjonariuszowi, że cierpię na ...\n",
              "...         ...                                                ...\n",
              "39774  surprise  Widzę to czuję dziwne uczucie rzeczy pędzących...\n",
              "39788     anger  Podoba mi się sposób w jaki mówisz, że cię wku...\n",
              "39901       joy  Rozumiem to, ale jestem tak śmierdząco wrażliw...\n",
              "39913   sadness  Zawsze czuję się karana za coś, co musi przez ...\n",
              "39946     anger  Przechodzę przez ruchy wstawania, ubierania si...\n",
              "\n",
              "[9018 rows x 2 columns]"
            ],
            "text/html": [
              "\n",
              "  <div id=\"df-227a9dc9-d6c7-43fe-9085-c09b970b5cae\">\n",
              "    <div class=\"colab-df-container\">\n",
              "      <div>\n",
              "<style scoped>\n",
              "    .dataframe tbody tr th:only-of-type {\n",
              "        vertical-align: middle;\n",
              "    }\n",
              "\n",
              "    .dataframe tbody tr th {\n",
              "        vertical-align: top;\n",
              "    }\n",
              "\n",
              "    .dataframe thead th {\n",
              "        text-align: right;\n",
              "    }\n",
              "</style>\n",
              "<table border=\"1\" class=\"dataframe\">\n",
              "  <thead>\n",
              "    <tr style=\"text-align: right;\">\n",
              "      <th></th>\n",
              "      <th>emotions</th>\n",
              "      <th>text_pl</th>\n",
              "    </tr>\n",
              "  </thead>\n",
              "  <tbody>\n",
              "    <tr>\n",
              "      <th>2</th>\n",
              "      <td>anger</td>\n",
              "      <td>Myślę o tym i czuję się zniesmaczony sobą, pon...</td>\n",
              "    </tr>\n",
              "    <tr>\n",
              "      <th>6</th>\n",
              "      <td>joy</td>\n",
              "      <td>Miałem wiele obaw o wymuszanie tego problemu, ...</td>\n",
              "    </tr>\n",
              "    <tr>\n",
              "      <th>7</th>\n",
              "      <td>surprise</td>\n",
              "      <td>Uwielbiam sposób, w jaki rozpraszasz słowa jak...</td>\n",
              "    </tr>\n",
              "    <tr>\n",
              "      <th>8</th>\n",
              "      <td>anger</td>\n",
              "      <td>Czuję się śmiesznie pogorszony</td>\n",
              "    </tr>\n",
              "    <tr>\n",
              "      <th>12</th>\n",
              "      <td>sadness</td>\n",
              "      <td>Powiedziałem funkcjonariuszowi, że cierpię na ...</td>\n",
              "    </tr>\n",
              "    <tr>\n",
              "      <th>...</th>\n",
              "      <td>...</td>\n",
              "      <td>...</td>\n",
              "    </tr>\n",
              "    <tr>\n",
              "      <th>39774</th>\n",
              "      <td>surprise</td>\n",
              "      <td>Widzę to czuję dziwne uczucie rzeczy pędzących...</td>\n",
              "    </tr>\n",
              "    <tr>\n",
              "      <th>39788</th>\n",
              "      <td>anger</td>\n",
              "      <td>Podoba mi się sposób w jaki mówisz, że cię wku...</td>\n",
              "    </tr>\n",
              "    <tr>\n",
              "      <th>39901</th>\n",
              "      <td>joy</td>\n",
              "      <td>Rozumiem to, ale jestem tak śmierdząco wrażliw...</td>\n",
              "    </tr>\n",
              "    <tr>\n",
              "      <th>39913</th>\n",
              "      <td>sadness</td>\n",
              "      <td>Zawsze czuję się karana za coś, co musi przez ...</td>\n",
              "    </tr>\n",
              "    <tr>\n",
              "      <th>39946</th>\n",
              "      <td>anger</td>\n",
              "      <td>Przechodzę przez ruchy wstawania, ubierania si...</td>\n",
              "    </tr>\n",
              "  </tbody>\n",
              "</table>\n",
              "<p>9018 rows × 2 columns</p>\n",
              "</div>\n",
              "      <button class=\"colab-df-convert\" onclick=\"convertToInteractive('df-227a9dc9-d6c7-43fe-9085-c09b970b5cae')\"\n",
              "              title=\"Convert this dataframe to an interactive table.\"\n",
              "              style=\"display:none;\">\n",
              "        \n",
              "  <svg xmlns=\"http://www.w3.org/2000/svg\" height=\"24px\"viewBox=\"0 0 24 24\"\n",
              "       width=\"24px\">\n",
              "    <path d=\"M0 0h24v24H0V0z\" fill=\"none\"/>\n",
              "    <path d=\"M18.56 5.44l.94 2.06.94-2.06 2.06-.94-2.06-.94-.94-2.06-.94 2.06-2.06.94zm-11 1L8.5 8.5l.94-2.06 2.06-.94-2.06-.94L8.5 2.5l-.94 2.06-2.06.94zm10 10l.94 2.06.94-2.06 2.06-.94-2.06-.94-.94-2.06-.94 2.06-2.06.94z\"/><path d=\"M17.41 7.96l-1.37-1.37c-.4-.4-.92-.59-1.43-.59-.52 0-1.04.2-1.43.59L10.3 9.45l-7.72 7.72c-.78.78-.78 2.05 0 2.83L4 21.41c.39.39.9.59 1.41.59.51 0 1.02-.2 1.41-.59l7.78-7.78 2.81-2.81c.8-.78.8-2.07 0-2.86zM5.41 20L4 18.59l7.72-7.72 1.47 1.35L5.41 20z\"/>\n",
              "  </svg>\n",
              "      </button>\n",
              "      \n",
              "  <style>\n",
              "    .colab-df-container {\n",
              "      display:flex;\n",
              "      flex-wrap:wrap;\n",
              "      gap: 12px;\n",
              "    }\n",
              "\n",
              "    .colab-df-convert {\n",
              "      background-color: #E8F0FE;\n",
              "      border: none;\n",
              "      border-radius: 50%;\n",
              "      cursor: pointer;\n",
              "      display: none;\n",
              "      fill: #1967D2;\n",
              "      height: 32px;\n",
              "      padding: 0 0 0 0;\n",
              "      width: 32px;\n",
              "    }\n",
              "\n",
              "    .colab-df-convert:hover {\n",
              "      background-color: #E2EBFA;\n",
              "      box-shadow: 0px 1px 2px rgba(60, 64, 67, 0.3), 0px 1px 3px 1px rgba(60, 64, 67, 0.15);\n",
              "      fill: #174EA6;\n",
              "    }\n",
              "\n",
              "    [theme=dark] .colab-df-convert {\n",
              "      background-color: #3B4455;\n",
              "      fill: #D2E3FC;\n",
              "    }\n",
              "\n",
              "    [theme=dark] .colab-df-convert:hover {\n",
              "      background-color: #434B5C;\n",
              "      box-shadow: 0px 1px 3px 1px rgba(0, 0, 0, 0.15);\n",
              "      filter: drop-shadow(0px 1px 2px rgba(0, 0, 0, 0.3));\n",
              "      fill: #FFFFFF;\n",
              "    }\n",
              "  </style>\n",
              "\n",
              "      <script>\n",
              "        const buttonEl =\n",
              "          document.querySelector('#df-227a9dc9-d6c7-43fe-9085-c09b970b5cae button.colab-df-convert');\n",
              "        buttonEl.style.display =\n",
              "          google.colab.kernel.accessAllowed ? 'block' : 'none';\n",
              "\n",
              "        async function convertToInteractive(key) {\n",
              "          const element = document.querySelector('#df-227a9dc9-d6c7-43fe-9085-c09b970b5cae');\n",
              "          const dataTable =\n",
              "            await google.colab.kernel.invokeFunction('convertToInteractive',\n",
              "                                                     [key], {});\n",
              "          if (!dataTable) return;\n",
              "\n",
              "          const docLinkHtml = 'Like what you see? Visit the ' +\n",
              "            '<a target=\"_blank\" href=https://colab.research.google.com/notebooks/data_table.ipynb>data table notebook</a>'\n",
              "            + ' to learn more about interactive tables.';\n",
              "          element.innerHTML = '';\n",
              "          dataTable['output_type'] = 'display_data';\n",
              "          await google.colab.output.renderOutput(dataTable, element);\n",
              "          const docLink = document.createElement('div');\n",
              "          docLink.innerHTML = docLinkHtml;\n",
              "          element.appendChild(docLink);\n",
              "        }\n",
              "      </script>\n",
              "    </div>\n",
              "  </div>\n",
              "  "
            ]
          },
          "metadata": {},
          "execution_count": 5
        }
      ],
      "source": [
        "frames = [joy, sadness, anger, fear, love, surprise]\n",
        "equal_dataset = pd.concat(frames)\n",
        "\n",
        "np.random.shuffle(equal_dataset.values)\n",
        "equal_dataset"
      ]
    },
    {
      "cell_type": "code",
      "execution_count": 6,
      "metadata": {
        "ExecuteTime": {
          "end_time": "2023-05-14T13:04:24.988411800Z",
          "start_time": "2023-05-14T13:04:24.975256400Z"
        },
        "id": "uVplvE_O5eQy"
      },
      "outputs": [],
      "source": [
        "# It is only fine-tuning, thus 400k data samples is a complete overkill. It can be reduced to 40k.\n",
        "df = equal_dataset.iloc[:40000]"
      ]
    },
    {
      "cell_type": "code",
      "execution_count": 7,
      "metadata": {
        "ExecuteTime": {
          "end_time": "2023-05-14T13:04:25.785922100Z",
          "start_time": "2023-05-14T13:04:25.682714800Z"
        },
        "colab": {
          "base_uri": "https://localhost:8080/",
          "height": 472
        },
        "id": "029Zih125eQy",
        "outputId": "fe57439a-8f15-4c6a-c0b0-5777c705349b"
      },
      "outputs": [
        {
          "output_type": "display_data",
          "data": {
            "text/plain": [
              "<Figure size 640x480 with 1 Axes>"
            ],
            "image/png": "[encoded data removed]"
          },
          "metadata": {}
        }
      ],
      "source": [
        "data = df[\"emotions\"]\n",
        "data.value_counts().plot.bar()\n",
        "plt.show()"
      ]
    },
    {
      "cell_type": "code",
      "execution_count": 8,
      "metadata": {
        "ExecuteTime": {
          "end_time": "2023-05-14T13:04:26.585925100Z",
          "start_time": "2023-05-14T13:04:26.574415400Z"
        },
        "id": "-1FXsZRN5eQz"
      },
      "outputs": [],
      "source": [
        "ordered_class_labels = {\n",
        "    \"joy\": 0,\n",
        "    \"love\": 1,\n",
        "    \"surprise\": 2,\n",
        "    \"sadness\": 3,\n",
        "    \"anger\": 4,\n",
        "    \"fear\": 5,\n",
        "}"
      ]
    },
    {
      "cell_type": "code",
      "execution_count": 9,
      "metadata": {
        "ExecuteTime": {
          "end_time": "2023-05-14T13:04:27.377268900Z",
          "start_time": "2023-05-14T13:04:27.350646200Z"
        },
        "id": "b-14jibe5eQz"
      },
      "outputs": [],
      "source": [
        "df = df.replace({\"emotions\": ordered_class_labels})"
      ]
    },
    {
      "cell_type": "code",
      "execution_count": null,
      "metadata": {
        "ExecuteTime": {
          "end_time": "2023-05-14T13:04:28.419031Z",
          "start_time": "2023-05-14T13:04:27.981206300Z"
        },
        "id": "G3d6frov5eQz"
      },
      "outputs": [],
      "source": [
        "!pip install datasets\n",
        "from datasets import Dataset\n",
        "\n",
        "raw_dataset = Dataset.from_pandas(df).remove_columns(\"__index_level_0__\")\n",
        "raw_dataset"
      ]
    },
    {
      "cell_type": "code",
      "execution_count": null,
      "metadata": {
        "ExecuteTime": {
          "end_time": "2023-05-14T13:04:29.773340Z",
          "start_time": "2023-05-14T13:04:28.930987600Z"
        },
        "id": "NwCCIKHt5eQz"
      },
      "outputs": [],
      "source": [
        "!pip install transformers\n",
        "from transformers import AutoTokenizer\n",
        "\n",
        "checkpoint = \"dkleczek/bert-base-polish-uncased-v1\"\n",
        "tokenizer = AutoTokenizer.from_pretrained(checkpoint)"
      ]
    },
    {
      "cell_type": "code",
      "execution_count": 12,
      "metadata": {
        "ExecuteTime": {
          "end_time": "2023-05-14T13:04:31.352758900Z",
          "start_time": "2023-05-14T13:04:30.221415800Z"
        },
        "colab": {
          "base_uri": "https://localhost:8080/",
          "height": 34,
          "referenced_widgets": [
            "fb37cc660e9b442bb7e3b1d3ca8b5d7f",
            "b5a6a6dca1634651b7f6faf4776ac343",
            "532a737bcbb8488490fa3d900fd4bc46",
            "d8f83bb448504b20821f160a7b37493e",
            "0e7fd1a1e45240208a069b8ec51e9cfb",
            "9f8b065f446945c28f8c1132990ca8ba",
            "5c71b8bbf69b4cf7961e43e2e0c9216f",
            "fa37548abe2f4032a5e2ef89cc9eb8c3",
            "1a83ec0a824f40eea85376d4a7f2e4b7",
            "af1a43fe792743f996c864f4edcea292",
            "30acb499d33644c4807d6443db7ca1ad"
          ]
        },
        "id": "GfvdpnqJ5eQz",
        "outputId": "d498a28a-2fcb-437c-9881-cb4954b1e7b0"
      },
      "outputs": [
        {
          "output_type": "display_data",
          "data": {
            "text/plain": [
              "Map:   0%|          | 0/9018 [00:00<?, ? examples/s]"
            ],
            "application/vnd.jupyter.widget-view+json": {
              "version_major": 2,
              "version_minor": 0,
              "model_id": "fb37cc660e9b442bb7e3b1d3ca8b5d7f"
            }
          },
          "metadata": {}
        },
        {
          "output_type": "stream",
          "name": "stderr",
          "text": [
            "Asking to truncate to max_length but no maximum length is provided and the model has no predefined maximum length. Default to no truncation.\n"
          ]
        }
      ],
      "source": [
        "def tokenize_function(example):\n",
        "    return tokenizer(example[\"text_pl\"], truncation=True)\n",
        "\n",
        "\n",
        "tokenized_dataset = raw_dataset.map(tokenize_function, batched=True)"
      ]
    },
    {
      "cell_type": "code",
      "execution_count": 13,
      "metadata": {
        "ExecuteTime": {
          "end_time": "2023-05-14T13:04:31.836991800Z",
          "start_time": "2023-05-14T13:04:31.809152500Z"
        },
        "id": "0NgkmJU35eQ0"
      },
      "outputs": [],
      "source": [
        "# Train set: 80%, Validation set: 10%, Test set: 10%\n",
        "tokenized_train_dataset, tokenized_val_dataset, tokenized_test_dataset = model_utils.split_train_val_test(\n",
        "    tokenized_dataset,\n",
        "    train_size=0.8,\n",
        "    test_size_of_val_test_batch=0.5)"
      ]
    },
    {
      "cell_type": "code",
      "execution_count": 14,
      "metadata": {
        "ExecuteTime": {
          "end_time": "2023-05-14T13:04:34.614153900Z",
          "start_time": "2023-05-14T13:04:32.943653400Z"
        },
        "colab": {
          "base_uri": "https://localhost:8080/"
        },
        "id": "E-JHn_eF5eQ0",
        "outputId": "cc1464cd-0ccf-4dd2-e512-69a80f6ae6e6"
      },
      "outputs": [
        {
          "output_type": "stream",
          "name": "stderr",
          "text": [
            "/usr/local/lib/python3.10/dist-packages/datasets/arrow_dataset.py:388: FutureWarning: The output of `to_tf_dataset` will change when a passing single element list for `labels` or `columns` in the next datasets version. To return a tuple structure rather than dict, pass a single string.\n",
            "Old behaviour: columns=['a'], labels=['labels'] -> (tf.Tensor, tf.Tensor)  \n",
            "             : columns='a', labels='labels' -> (tf.Tensor, tf.Tensor)  \n",
            "New behaviour: columns=['a'],labels=['labels'] -> ({'a': tf.Tensor}, {'labels': tf.Tensor})  \n",
            "             : columns='a', labels='labels' -> (tf.Tensor, tf.Tensor) \n",
            "  warnings.warn(\n",
            "You're using a BertTokenizerFast tokenizer. Please note that with a fast tokenizer, using the `__call__` method is faster than using a method to encode the text followed by a call to the `pad` method to get a padded encoding.\n"
          ]
        }
      ],
      "source": [
        "from transformers import DataCollatorWithPadding\n",
        "\n",
        "columns = [\"attention_mask\", \"input_ids\", \"token_type_ids\"]\n",
        "label_cols = [\"emotions\"]\n",
        "batch_size = 8\n",
        "data_collator = DataCollatorWithPadding(tokenizer=tokenizer, return_tensors=\"tf\")\n",
        "\n",
        "tf_train_dataset = model_utils.convert_to_tf_dataset(tokenized_train_dataset, columns, label_cols, data_collator,\n",
        "                                                     batch_size)\n",
        "tf_val_dataset = model_utils.convert_to_tf_dataset(tokenized_val_dataset, columns, label_cols, data_collator,\n",
        "                                                   batch_size)\n",
        "tf_test_dataset = model_utils.convert_to_tf_dataset(tokenized_test_dataset, columns, label_cols, data_collator,\n",
        "                                                    batch_size)"
      ]
    },
    {
      "cell_type": "code",
      "execution_count": 15,
      "metadata": {
        "ExecuteTime": {
          "end_time": "2023-05-14T13:04:34.860092500Z",
          "start_time": "2023-05-14T13:04:34.613154400Z"
        },
        "id": "oO39wgGs5eQ0"
      },
      "outputs": [],
      "source": [
        "# Model parameters\n",
        "training_number = 1\n",
        "model_name = \"emotions_pl_bert\"\n",
        "\n",
        "training_name = f\"training_{training_number}\"\n",
        "checkpoint_filename_template = \"cp-{epoch:04d}.ckpt\"\n",
        "checkpoints_dir = os.path.join(constants.TRAINING_CHECKPOINTS_PATH, model_name, training_name)\n",
        "figures_dir = f\"documentation/models/emotions_pl_bert/figures\"\n",
        "checkpoint_path = os.path.join(checkpoints_dir, checkpoint_filename_template)"
      ]
    },
    {
      "cell_type": "code",
      "execution_count": 16,
      "metadata": {
        "ExecuteTime": {
          "end_time": "2023-05-14T13:04:36.625023Z",
          "start_time": "2023-05-14T13:04:36.618025200Z"
        },
        "id": "X1sI9GBj5eQ0"
      },
      "outputs": [],
      "source": [
        "# Callbacks\n",
        "checkpoint_cb = tf.keras.callbacks.ModelCheckpoint(checkpoint_path, verbose=1, save_weights_only=True)\n",
        "early_stop_cb = tf.keras.callbacks.EarlyStopping(patience=3)\n",
        "callbacks = [checkpoint_cb, early_stop_cb]"
      ]
    },
    {
      "cell_type": "code",
      "execution_count": 17,
      "metadata": {
        "ExecuteTime": {
          "end_time": "2023-05-14T13:04:37.829174300Z",
          "start_time": "2023-05-14T13:04:37.818661Z"
        },
        "id": "qnRWTJSX5eQ0"
      },
      "outputs": [],
      "source": [
        "from tensorflow.keras.optimizers.schedules import PolynomialDecay\n",
        "from tensorflow.keras.optimizers import Adam\n",
        "\n",
        "num_epochs = 10\n",
        "num_train_steps = len(tf_train_dataset) * num_epochs\n",
        "lr_scheduler = PolynomialDecay(\n",
        "    initial_learning_rate=5e-5, end_learning_rate=0.0, decay_steps=num_train_steps\n",
        ")\n",
        "\n",
        "optimizer = Adam(learning_rate=lr_scheduler)"
      ]
    },
    {
      "cell_type": "code",
      "execution_count": 18,
      "metadata": {
        "ExecuteTime": {
          "end_time": "2023-05-14T13:04:41.703902300Z",
          "start_time": "2023-05-14T13:04:39.807554900Z"
        },
        "colab": {
          "base_uri": "https://localhost:8080/"
        },
        "id": "EINQOAKD5eQ1",
        "outputId": "18d3ae8a-9e73-4fca-a351-b4edaf9cbf4a"
      },
      "outputs": [
        {
          "output_type": "stream",
          "name": "stderr",
          "text": [
            "All PyTorch model weights were used when initializing TFBertForSequenceClassification.\n",
            "\n",
            "Some weights or buffers of the TF 2.0 model TFBertForSequenceClassification were not initialized from the PyTorch model and are newly initialized: ['classifier.weight', 'classifier.bias']\n",
            "You should probably TRAIN this model on a down-stream task to be able to use it for predictions and inference.\n"
          ]
        }
      ],
      "source": [
        "from transformers import TFAutoModelForSequenceClassification\n",
        "\n",
        "model = TFAutoModelForSequenceClassification.from_pretrained(checkpoint, num_labels=6, from_pt=True)"
      ]
    },
    {
      "cell_type": "code",
      "execution_count": 19,
      "metadata": {
        "ExecuteTime": {
          "end_time": "2023-05-14T13:04:43.128116600Z",
          "start_time": "2023-05-14T13:04:43.105062600Z"
        },
        "id": "zDhzasko5eQ1"
      },
      "outputs": [],
      "source": [
        "# Compile\n",
        "loss = tf.keras.losses.SparseCategoricalCrossentropy(from_logits=True)\n",
        "metrics = [\"accuracy\"]\n",
        "model.compile(optimizer=optimizer, loss=loss, metrics=metrics)"
      ]
    },
    {
      "cell_type": "code",
      "execution_count": 20,
      "metadata": {
        "ExecuteTime": {
          "end_time": "2023-05-14T13:29:30.471938900Z",
          "start_time": "2023-05-14T13:04:44.376071300Z"
        },
        "colab": {
          "base_uri": "https://localhost:8080/"
        },
        "id": "DGBtRewP5eQ1",
        "outputId": "27a1a252-146f-4c68-9572-20c10faec61a"
      },
      "outputs": [
        {
          "output_type": "stream",
          "name": "stdout",
          "text": [
            "Epoch 1/10\n",
            "902/902 [==============================] - ETA: 0s - loss: 0.8103 - accuracy: 0.7149\n",
            "Epoch 1: saving model to training_checkpoints/emotions_pl_bert/training_1/cp-0001.ckpt\n",
            "902/902 [==============================] - 222s 182ms/step - loss: 0.8103 - accuracy: 0.7149 - val_loss: 0.5423 - val_accuracy: 0.8237\n",
            "Epoch 2/10\n",
            "902/902 [==============================] - ETA: 0s - loss: 0.3961 - accuracy: 0.8736\n",
            "Epoch 2: saving model to training_checkpoints/emotions_pl_bert/training_1/cp-0002.ckpt\n",
            "902/902 [==============================] - 125s 139ms/step - loss: 0.3961 - accuracy: 0.8736 - val_loss: 0.5766 - val_accuracy: 0.8304\n",
            "Epoch 3/10\n",
            "902/902 [==============================] - ETA: 0s - loss: 0.2381 - accuracy: 0.9206\n",
            "Epoch 3: saving model to training_checkpoints/emotions_pl_bert/training_1/cp-0003.ckpt\n",
            "902/902 [==============================] - 127s 140ms/step - loss: 0.2381 - accuracy: 0.9206 - val_loss: 0.5188 - val_accuracy: 0.8348\n",
            "Epoch 4/10\n",
            "902/902 [==============================] - ETA: 0s - loss: 0.1499 - accuracy: 0.9502\n",
            "Epoch 4: saving model to training_checkpoints/emotions_pl_bert/training_1/cp-0004.ckpt\n",
            "902/902 [==============================] - 129s 143ms/step - loss: 0.1499 - accuracy: 0.9502 - val_loss: 0.6274 - val_accuracy: 0.8226\n",
            "Epoch 5/10\n",
            "902/902 [==============================] - ETA: 0s - loss: 0.1066 - accuracy: 0.9649\n",
            "Epoch 5: saving model to training_checkpoints/emotions_pl_bert/training_1/cp-0005.ckpt\n",
            "902/902 [==============================] - 130s 144ms/step - loss: 0.1066 - accuracy: 0.9649 - val_loss: 0.6975 - val_accuracy: 0.8359\n",
            "Epoch 6/10\n",
            "902/902 [==============================] - ETA: 0s - loss: 0.0717 - accuracy: 0.9759\n",
            "Epoch 6: saving model to training_checkpoints/emotions_pl_bert/training_1/cp-0006.ckpt\n",
            "902/902 [==============================] - 131s 146ms/step - loss: 0.0717 - accuracy: 0.9759 - val_loss: 0.6923 - val_accuracy: 0.8537\n"
          ]
        }
      ],
      "source": [
        "history = model.fit(tf_train_dataset, validation_data=tf_val_dataset, epochs=num_epochs, callbacks=callbacks)"
      ]
    },
    {
      "cell_type": "code",
      "execution_count": 21,
      "metadata": {
        "ExecuteTime": {
          "end_time": "2023-05-14T13:29:35.071945100Z",
          "start_time": "2023-05-14T13:29:34.887657900Z"
        },
        "colab": {
          "base_uri": "https://localhost:8080/",
          "height": 927
        },
        "id": "32pv8PpG5eQ1",
        "outputId": "178667c4-6f2a-426d-a5cc-2016a8daf639"
      },
      "outputs": [
        {
          "output_type": "display_data",
          "data": {
            "text/plain": [
              "<Figure size 640x480 with 1 Axes>"
            ],
            "image/png": "[encoded data removed]"
          },
          "metadata": {}
        },
        {
          "output_type": "display_data",
          "data": {
            "text/plain": [
              "<Figure size 640x480 with 1 Axes>"
            ],
            "image/png": "[encoded data removed]"
          },
          "metadata": {}
        }
      ],
      "source": [
        "model_utils.plot_and_save_fig_from_history(history,\n",
        "                                           attributes=['accuracy', 'val_accuracy'],\n",
        "                                           title='Model accuracy',\n",
        "                                           y_label='Accuracy',\n",
        "                                           x_label='Epoch',\n",
        "                                           legend_descriptors=['Train', 'Val'],\n",
        "                                           figure_dir_path=figures_dir,\n",
        "                                           figure_filename=f\"{training_name}_accuracy.png\")\n",
        "\n",
        "model_utils.plot_and_save_fig_from_history(history,\n",
        "                                           attributes=['loss', 'val_loss'],\n",
        "                                           title='Model loss',\n",
        "                                           y_label='Loss',\n",
        "                                           x_label='Epoch',\n",
        "                                           legend_descriptors=['Train', 'Val'],\n",
        "                                           figure_dir_path=figures_dir,\n",
        "                                           figure_filename=f\"{training_name}_loss.png\")"
      ]
    },
    {
      "cell_type": "code",
      "execution_count": 22,
      "metadata": {
        "ExecuteTime": {
          "end_time": "2023-05-14T13:31:31.668078700Z",
          "start_time": "2023-05-14T13:31:28.286724500Z"
        },
        "id": "_xsEWYUg5eQ1"
      },
      "outputs": [],
      "source": [
        "best_model = model_utils.get_best_model_from_checkpoints(model, history,\n",
        "                                                         checkpoints_dir=checkpoints_dir,\n",
        "                                                         checkpoint_filename_template=checkpoint_filename_template)"
      ]
    },
    {
      "cell_type": "code",
      "execution_count": 23,
      "metadata": {
        "ExecuteTime": {
          "end_time": "2023-05-14T13:32:13.165307700Z",
          "start_time": "2023-05-14T13:31:31.670079700Z"
        },
        "colab": {
          "base_uri": "https://localhost:8080/"
        },
        "id": "Lk548ejW5eQ1",
        "outputId": "c5f18f01-8c2b-478a-cc57-7366e4627ab0"
      },
      "outputs": [
        {
          "output_type": "stream",
          "name": "stderr",
          "text": [
            "WARNING:absl:Found untraced functions such as embeddings_layer_call_fn, embeddings_layer_call_and_return_conditional_losses, encoder_layer_call_fn, encoder_layer_call_and_return_conditional_losses, pooler_layer_call_fn while saving (showing 5 of 420). These functions will not be directly callable after loading.\n"
          ]
        }
      ],
      "source": [
        "model_utils.save_model(best_model, model_name=model_name, training_number=training_number, saved_models_dir=constants.SAVED_MODEL_LOCATION, default_model_version=constants.DEFAULT_MODEL_VERSION)"
      ]
    },
    {
      "cell_type": "code",
      "execution_count": 24,
      "metadata": {
        "ExecuteTime": {
          "end_time": "2023-05-14T13:32:22.042504100Z",
          "start_time": "2023-05-14T13:32:13.166307200Z"
        },
        "colab": {
          "base_uri": "https://localhost:8080/"
        },
        "id": "Ce7YShZZ5eQ1",
        "outputId": "680ba5fe-0389-4d28-cb1b-72e080e0deb4"
      },
      "outputs": [
        {
          "output_type": "stream",
          "name": "stdout",
          "text": [
            "113/113 [==============================] - 5s 45ms/step - loss: 0.5687 - accuracy: 0.8359\n"
          ]
        },
        {
          "output_type": "execute_result",
          "data": {
            "text/plain": [
              "[0.568745493888855, 0.8359201550483704]"
            ]
          },
          "metadata": {},
          "execution_count": 24
        }
      ],
      "source": [
        "# Evaluation\n",
        "best_model.evaluate(tf_test_dataset, batch_size=batch_size)"
      ]
    },
    {
      "cell_type": "code",
      "execution_count": 25,
      "metadata": {
        "ExecuteTime": {
          "end_time": "2023-05-12T14:15:04.333778900Z",
          "start_time": "2023-05-12T14:14:54.558304900Z"
        },
        "colab": {
          "base_uri": "https://localhost:8080/"
        },
        "id": "6FRo-JOX5eQ2",
        "outputId": "6b4a4296-6eca-43e7-9921-82cf51026d16"
      },
      "outputs": [
        {
          "output_type": "stream",
          "name": "stdout",
          "text": [
            "113/113 [==============================] - 10s 59ms/step\n"
          ]
        }
      ],
      "source": [
        "class_preds = model_utils.get_class_preds(model, tf_test_dataset)"
      ]
    },
    {
      "cell_type": "code",
      "execution_count": 26,
      "metadata": {
        "colab": {
          "base_uri": "https://localhost:8080/"
        },
        "id": "aF-P0RFD5eQ2",
        "outputId": "b8c43cb9-1b0c-4930-fc36-841a782fa27a"
      },
      "outputs": [
        {
          "output_type": "stream",
          "name": "stdout",
          "text": [
            "Precision score:  0.835920177383592\n",
            "Recall score:  0.835920177383592\n",
            "F1 score:  0.835920177383592\n"
          ]
        }
      ],
      "source": [
        "precision, recall, f1 = model_utils.get_classification_evaluation_metrics_for_emotions(\n",
        "    class_actual=tokenized_test_dataset['emotions'],\n",
        "    class_preds=class_preds)\n",
        "\n",
        "print(f\"Precision score: \", precision)\n",
        "print(f\"Recall score: \", recall)\n",
        "print(f\"F1 score: \", f1)"
      ]
    },
    {
      "cell_type": "code",
      "execution_count": 27,
      "metadata": {
        "colab": {
          "base_uri": "https://localhost:8080/",
          "height": 449
        },
        "id": "wm-WfZEA5eQ2",
        "outputId": "bffdd1aa-2a61-4f15-c919-97ea6112b6bb"
      },
      "outputs": [
        {
          "output_type": "display_data",
          "data": {
            "text/plain": [
              "<Figure size 640x480 with 2 Axes>"
            ],
            "image/png": "[encoded data removed]"
          },
          "metadata": {}
        }
      ],
      "source": [
        "model_utils.plot_and_save_conf_matrix(class_actual=tokenized_test_dataset['emotions'],\n",
        "                                      class_preds=class_preds,\n",
        "                                      figure_dir_path=figures_dir,\n",
        "                                      figure_filename=f\"{training_name}_confmatrix.png\")"
      ]
    },
    {
      "cell_type": "code",
      "execution_count": 28,
      "metadata": {
        "colab": {
          "base_uri": "https://localhost:8080/"
        },
        "id": "viMRizWd5eQ2",
        "outputId": "56e6ec3b-2e59-4981-de8c-d0d429593f85"
      },
      "outputs": [
        {
          "output_type": "stream",
          "name": "stdout",
          "text": [
            "\n",
            "            BAD PREDICTION:\n",
            "            - INDEX: 1\n",
            "            - TEXT: Miałem wiele obaw o wymuszanie tego problemu, ale modliłem się o to i nie tylko byłem szczery z moimi uczuciami, byłem przekonany, że mam rację.\n",
            "            - PREDICTED VALUE: 3\n",
            "            - CORRECT VALUE: 0\n",
            "            \n",
            "\n",
            "            BAD PREDICTION:\n",
            "            - INDEX: 3\n",
            "            - TEXT: Czuję się śmiesznie pogorszony\n",
            "            - PREDICTED VALUE: 3\n",
            "            - CORRECT VALUE: 4\n",
            "            \n",
            "\n",
            "            BAD PREDICTION:\n",
            "            - INDEX: 5\n",
            "            - TEXT: Czuję się coraz bardziej wzburzony\n",
            "            - PREDICTED VALUE: 5\n",
            "            - CORRECT VALUE: 4\n",
            "            \n",
            "\n",
            "            BAD PREDICTION:\n",
            "            - INDEX: 6\n",
            "            - TEXT: Osobiście uważam, że system, który nie może zagwarantować, że żaden niewinny obywatel nigdy nie zostanie skazany za błąd, powinien nakładać na skazanych wyroki, które można odwrócić, jeśli taki błąd później wyjdzie na jaw.\n",
            "            - PREDICTED VALUE: 1\n",
            "            - CORRECT VALUE: 0\n",
            "            \n",
            "\n",
            "            BAD PREDICTION:\n",
            "            - INDEX: 7\n",
            "            - TEXT: Czuję chęć bycia kreatywnym zazwyczaj jakaś forma szycia najlepiej pikowanie ale ive szyte sukienki dla moich córek\n",
            "            - PREDICTED VALUE: 5\n",
            "            - CORRECT VALUE: 0\n",
            "            \n",
            "\n",
            "            BAD PREDICTION:\n",
            "            - INDEX: 8\n",
            "            - TEXT: Czułam to w ramionach dzisiaj były trochę wrażliwe\n",
            "            - PREDICTED VALUE: 4\n",
            "            - CORRECT VALUE: 1\n",
            "            \n",
            "\n",
            "            BAD PREDICTION:\n",
            "            - INDEX: 9\n",
            "            - TEXT: Czuję, że mojemu kotkowi podoba się tutaj i byłby bardziej zaniepokojony niż cokolwiek innego przy zmianie miejsca i personelu\n",
            "            - PREDICTED VALUE: 0\n",
            "            - CORRECT VALUE: 3\n",
            "            \n",
            "\n",
            "            BAD PREDICTION:\n",
            "            - INDEX: 10\n",
            "            - TEXT: Czuję się tak samo zdumiony jej przybyciem, jak niezliczoną ilością dzieci, które widzę za każdym razem, gdy wędruję po świecie.\n",
            "            - PREDICTED VALUE: 1\n",
            "            - CORRECT VALUE: 2\n",
            "            \n",
            "\n",
            "            BAD PREDICTION:\n",
            "            - INDEX: 12\n",
            "            - TEXT: Czuję się jak śmieć lub zniechęcony czymś, czego się nauczyłem, że jeśli robię cokolwiek z mojego duchowego worka sztuczek, zawsze czuję się lepiej\n",
            "            - PREDICTED VALUE: 0\n",
            "            - CORRECT VALUE: 3\n",
            "            \n",
            "\n",
            "            BAD PREDICTION:\n",
            "            - INDEX: 13\n",
            "            - TEXT: Czuję się niesamowicie szczęśliwy z wielkości Boga\n",
            "            - PREDICTED VALUE: 5\n",
            "            - CORRECT VALUE: 0\n",
            "            \n"
          ]
        }
      ],
      "source": [
        "model_utils.print_incorrectly_predicted_texts(texts=raw_dataset['text_pl'],\n",
        "                                              class_actual=raw_dataset['emotions'],\n",
        "                                              class_preds=class_preds)"
      ]
    },
    {
      "cell_type": "code",
      "source": [
        "!zip -r documentation.zip documentation/models"
      ],
      "metadata": {
        "colab": {
          "base_uri": "https://localhost:8080/"
        },
        "id": "EGinKtUgJ76O",
        "outputId": "0f86b158-d387-46ab-b61f-e38c8cf90aa5"
      },
      "execution_count": 29,
      "outputs": [
        {
          "output_type": "stream",
          "name": "stdout",
          "text": [
            "  adding: documentation/models/ (stored 0%)\n",
            "  adding: documentation/models/.ipynb_checkpoints/ (stored 0%)\n",
            "  adding: documentation/models/emotions_pl_bert/ (stored 0%)\n",
            "  adding: documentation/models/emotions_pl_bert/figures/ (stored 0%)\n",
            "  adding: documentation/models/emotions_pl_bert/figures/training_1_loss.png (deflated 9%)\n",
            "  adding: documentation/models/emotions_pl_bert/figures/training_1_accuracy.png (deflated 9%)\n",
            "  adding: documentation/models/emotions_pl_bert/figures/.ipynb_checkpoints/ (stored 0%)\n",
            "  adding: documentation/models/emotions_pl_bert/figures/training_1_confmatrix.png (deflated 12%)\n",
            "  adding: documentation/models/emotions_pl_bert/.ipynb_checkpoints/ (stored 0%)\n"
          ]
        }
      ]
    },
    {
      "cell_type": "code",
      "source": [
        "from google.colab import files\n",
        "files.download(\"documentation.zip\")"
      ],
      "metadata": {
        "colab": {
          "base_uri": "https://localhost:8080/",
          "height": 17
        },
        "id": "1JD_SXqtJ9fB",
        "outputId": "47d9eb53-78b5-4eaa-aa80-9ece0231c4ef"
      },
      "execution_count": 30,
      "outputs": [
        {
          "output_type": "display_data",
          "data": {
            "text/plain": [
              "<IPython.core.display.Javascript object>"
            ],
            "application/javascript": [
              "\n",
              "    async function download(id, filename, size) {\n",
              "      if (!google.colab.kernel.accessAllowed) {\n",
              "        return;\n",
              "      }\n",
              "      const div = document.createElement('div');\n",
              "      const label = document.createElement('label');\n",
              "      label.textContent = `Downloading \"${filename}\": `;\n",
              "      div.appendChild(label);\n",
              "      const progress = document.createElement('progress');\n",
              "      progress.max = size;\n",
              "      div.appendChild(progress);\n",
              "      document.body.appendChild(div);\n",
              "\n",
              "      const buffers = [];\n",
              "      let downloaded = 0;\n",
              "\n",
              "      const channel = await google.colab.kernel.comms.open(id);\n",
              "      // Send a message to notify the kernel that we're ready.\n",
              "      channel.send({})\n",
              "\n",
              "      for await (const message of channel.messages) {\n",
              "        // Send a message to notify the kernel that we're ready.\n",
              "        channel.send({})\n",
              "        if (message.buffers) {\n",
              "          for (const buffer of message.buffers) {\n",
              "            buffers.push(buffer);\n",
              "            downloaded += buffer.byteLength;\n",
              "            progress.value = downloaded;\n",
              "          }\n",
              "        }\n",
              "      }\n",
              "      const blob = new Blob(buffers, {type: 'application/binary'});\n",
              "      const a = document.createElement('a');\n",
              "      a.href = window.URL.createObjectURL(blob);\n",
              "      a.download = filename;\n",
              "      div.appendChild(a);\n",
              "      a.click();\n",
              "      div.remove();\n",
              "    }\n",
              "  "
            ]
          },
          "metadata": {}
        },
        {
          "output_type": "display_data",
          "data": {
            "text/plain": [
              "<IPython.core.display.Javascript object>"
            ],
            "application/javascript": [
              "download(\"download_bccb3d20-8ebf-4be9-ad60-5f38350b2e58\", \"documentation.zip\", 68876)"
            ]
          },
          "metadata": {}
        }
      ]
    }
  ],
  "metadata": {
    "kernelspec": {
      "display_name": "Python 3",
      "name": "python3"
    },
    "language_info": {
      "codemirror_mode": {
        "name": "ipython",
        "version": 3
      },
      "file_extension": ".py",
      "mimetype": "text/x-python",
      "name": "python",
      "nbconvert_exporter": "python",
      "pygments_lexer": "ipython3",
      "version": "3.10.11"
    },
    "colab": {
      "provenance": [],
      "gpuType": "T4"
    },
    "accelerator": "GPU",
    "widgets": {
      "application/vnd.jupyter.widget-state+json": {
        "fb37cc660e9b442bb7e3b1d3ca8b5d7f": {
          "model_module": "@jupyter-widgets/controls",
          "model_name": "HBoxModel",
          "model_module_version": "1.5.0",
          "state": {
            "_dom_classes": [],
            "_model_module": "@jupyter-widgets/controls",
            "_model_module_version": "1.5.0",
            "_model_name": "HBoxModel",
            "_view_count": null,
            "_view_module": "@jupyter-widgets/controls",
            "_view_module_version": "1.5.0",
            "_view_name": "HBoxView",
            "box_style": "",
            "children": [
              "IPY_MODEL_b5a6a6dca1634651b7f6faf4776ac343",
              "IPY_MODEL_532a737bcbb8488490fa3d900fd4bc46",
              "IPY_MODEL_d8f83bb448504b20821f160a7b37493e"
            ],
            "layout": "IPY_MODEL_0e7fd1a1e45240208a069b8ec51e9cfb"
          }
        },
        "b5a6a6dca1634651b7f6faf4776ac343": {
          "model_module": "@jupyter-widgets/controls",
          "model_name": "HTMLModel",
          "model_module_version": "1.5.0",
          "state": {
            "_dom_classes": [],
            "_model_module": "@jupyter-widgets/controls",
            "_model_module_version": "1.5.0",
            "_model_name": "HTMLModel",
            "_view_count": null,
            "_view_module": "@jupyter-widgets/controls",
            "_view_module_version": "1.5.0",
            "_view_name": "HTMLView",
            "description": "",
            "description_tooltip": null,
            "layout": "IPY_MODEL_9f8b065f446945c28f8c1132990ca8ba",
            "placeholder": "​",
            "style": "IPY_MODEL_5c71b8bbf69b4cf7961e43e2e0c9216f",
            "value": "Map: 100%"
          }
        },
        "532a737bcbb8488490fa3d900fd4bc46": {
          "model_module": "@jupyter-widgets/controls",
          "model_name": "FloatProgressModel",
          "model_module_version": "1.5.0",
          "state": {
            "_dom_classes": [],
            "_model_module": "@jupyter-widgets/controls",
            "_model_module_version": "1.5.0",
            "_model_name": "FloatProgressModel",
            "_view_count": null,
            "_view_module": "@jupyter-widgets/controls",
            "_view_module_version": "1.5.0",
            "_view_name": "ProgressView",
            "bar_style": "",
            "description": "",
            "description_tooltip": null,
            "layout": "IPY_MODEL_fa37548abe2f4032a5e2ef89cc9eb8c3",
            "max": 9018,
            "min": 0,
            "orientation": "horizontal",
            "style": "IPY_MODEL_1a83ec0a824f40eea85376d4a7f2e4b7",
            "value": 9018
          }
        },
        "d8f83bb448504b20821f160a7b37493e": {
          "model_module": "@jupyter-widgets/controls",
          "model_name": "HTMLModel",
          "model_module_version": "1.5.0",
          "state": {
            "_dom_classes": [],
            "_model_module": "@jupyter-widgets/controls",
            "_model_module_version": "1.5.0",
            "_model_name": "HTMLModel",
            "_view_count": null,
            "_view_module": "@jupyter-widgets/controls",
            "_view_module_version": "1.5.0",
            "_view_name": "HTMLView",
            "description": "",
            "description_tooltip": null,
            "layout": "IPY_MODEL_af1a43fe792743f996c864f4edcea292",
            "placeholder": "​",
            "style": "IPY_MODEL_30acb499d33644c4807d6443db7ca1ad",
            "value": " 9000/9018 [00:01&lt;00:00, 7452.86 examples/s]"
          }
        },
        "0e7fd1a1e45240208a069b8ec51e9cfb": {
          "model_module": "@jupyter-widgets/base",
          "model_name": "LayoutModel",
          "model_module_version": "1.2.0",
          "state": {
            "_model_module": "@jupyter-widgets/base",
            "_model_module_version": "1.2.0",
            "_model_name": "LayoutModel",
            "_view_count": null,
            "_view_module": "@jupyter-widgets/base",
            "_view_module_version": "1.2.0",
            "_view_name": "LayoutView",
            "align_content": null,
            "align_items": null,
            "align_self": null,
            "border": null,
            "bottom": null,
            "display": null,
            "flex": null,
            "flex_flow": null,
            "grid_area": null,
            "grid_auto_columns": null,
            "grid_auto_flow": null,
            "grid_auto_rows": null,
            "grid_column": null,
            "grid_gap": null,
            "grid_row": null,
            "grid_template_areas": null,
            "grid_template_columns": null,
            "grid_template_rows": null,
            "height": null,
            "justify_content": null,
            "justify_items": null,
            "left": null,
            "margin": null,
            "max_height": null,
            "max_width": null,
            "min_height": null,
            "min_width": null,
            "object_fit": null,
            "object_position": null,
            "order": null,
            "overflow": null,
            "overflow_x": null,
            "overflow_y": null,
            "padding": null,
            "right": null,
            "top": null,
            "visibility": "hidden",
            "width": null
          }
        },
        "9f8b065f446945c28f8c1132990ca8ba": {
          "model_module": "@jupyter-widgets/base",
          "model_name": "LayoutModel",
          "model_module_version": "1.2.0",
          "state": {
            "_model_module": "@jupyter-widgets/base",
            "_model_module_version": "1.2.0",
            "_model_name": "LayoutModel",
            "_view_count": null,
            "_view_module": "@jupyter-widgets/base",
            "_view_module_version": "1.2.0",
            "_view_name": "LayoutView",
            "align_content": null,
            "align_items": null,
            "align_self": null,
            "border": null,
            "bottom": null,
            "display": null,
            "flex": null,
            "flex_flow": null,
            "grid_area": null,
            "grid_auto_columns": null,
            "grid_auto_flow": null,
            "grid_auto_rows": null,
            "grid_column": null,
            "grid_gap": null,
            "grid_row": null,
            "grid_template_areas": null,
            "grid_template_columns": null,
            "grid_template_rows": null,
            "height": null,
            "justify_content": null,
            "justify_items": null,
            "left": null,
            "margin": null,
            "max_height": null,
            "max_width": null,
            "min_height": null,
            "min_width": null,
            "object_fit": null,
            "object_position": null,
            "order": null,
            "overflow": null,
            "overflow_x": null,
            "overflow_y": null,
            "padding": null,
            "right": null,
            "top": null,
            "visibility": null,
            "width": null
          }
        },
        "5c71b8bbf69b4cf7961e43e2e0c9216f": {
          "model_module": "@jupyter-widgets/controls",
          "model_name": "DescriptionStyleModel",
          "model_module_version": "1.5.0",
          "state": {
            "_model_module": "@jupyter-widgets/controls",
            "_model_module_version": "1.5.0",
            "_model_name": "DescriptionStyleModel",
            "_view_count": null,
            "_view_module": "@jupyter-widgets/base",
            "_view_module_version": "1.2.0",
            "_view_name": "StyleView",
            "description_width": ""
          }
        },
        "fa37548abe2f4032a5e2ef89cc9eb8c3": {
          "model_module": "@jupyter-widgets/base",
          "model_name": "LayoutModel",
          "model_module_version": "1.2.0",
          "state": {
            "_model_module": "@jupyter-widgets/base",
            "_model_module_version": "1.2.0",
            "_model_name": "LayoutModel",
            "_view_count": null,
            "_view_module": "@jupyter-widgets/base",
            "_view_module_version": "1.2.0",
            "_view_name": "LayoutView",
            "align_content": null,
            "align_items": null,
            "align_self": null,
            "border": null,
            "bottom": null,
            "display": null,
            "flex": null,
            "flex_flow": null,
            "grid_area": null,
            "grid_auto_columns": null,
            "grid_auto_flow": null,
            "grid_auto_rows": null,
            "grid_column": null,
            "grid_gap": null,
            "grid_row": null,
            "grid_template_areas": null,
            "grid_template_columns": null,
            "grid_template_rows": null,
            "height": null,
            "justify_content": null,
            "justify_items": null,
            "left": null,
            "margin": null,
            "max_height": null,
            "max_width": null,
            "min_height": null,
            "min_width": null,
            "object_fit": null,
            "object_position": null,
            "order": null,
            "overflow": null,
            "overflow_x": null,
            "overflow_y": null,
            "padding": null,
            "right": null,
            "top": null,
            "visibility": null,
            "width": null
          }
        },
        "1a83ec0a824f40eea85376d4a7f2e4b7": {
          "model_module": "@jupyter-widgets/controls",
          "model_name": "ProgressStyleModel",
          "model_module_version": "1.5.0",
          "state": {
            "_model_module": "@jupyter-widgets/controls",
            "_model_module_version": "1.5.0",
            "_model_name": "ProgressStyleModel",
            "_view_count": null,
            "_view_module": "@jupyter-widgets/base",
            "_view_module_version": "1.2.0",
            "_view_name": "StyleView",
            "bar_color": null,
            "description_width": ""
          }
        },
        "af1a43fe792743f996c864f4edcea292": {
          "model_module": "@jupyter-widgets/base",
          "model_name": "LayoutModel",
          "model_module_version": "1.2.0",
          "state": {
            "_model_module": "@jupyter-widgets/base",
            "_model_module_version": "1.2.0",
            "_model_name": "LayoutModel",
            "_view_count": null,
            "_view_module": "@jupyter-widgets/base",
            "_view_module_version": "1.2.0",
            "_view_name": "LayoutView",
            "align_content": null,
            "align_items": null,
            "align_self": null,
            "border": null,
            "bottom": null,
            "display": null,
            "flex": null,
            "flex_flow": null,
            "grid_area": null,
            "grid_auto_columns": null,
            "grid_auto_flow": null,
            "grid_auto_rows": null,
            "grid_column": null,
            "grid_gap": null,
            "grid_row": null,
            "grid_template_areas": null,
            "grid_template_columns": null,
            "grid_template_rows": null,
            "height": null,
            "justify_content": null,
            "justify_items": null,
            "left": null,
            "margin": null,
            "max_height": null,
            "max_width": null,
            "min_height": null,
            "min_width": null,
            "object_fit": null,
            "object_position": null,
            "order": null,
            "overflow": null,
            "overflow_x": null,
            "overflow_y": null,
            "padding": null,
            "right": null,
            "top": null,
            "visibility": null,
            "width": null
          }
        },
        "30acb499d33644c4807d6443db7ca1ad": {
          "model_module": "@jupyter-widgets/controls",
          "model_name": "DescriptionStyleModel",
          "model_module_version": "1.5.0",
          "state": {
            "_model_module": "@jupyter-widgets/controls",
            "_model_module_version": "1.5.0",
            "_model_name": "DescriptionStyleModel",
            "_view_count": null,
            "_view_module": "@jupyter-widgets/base",
            "_view_module_version": "1.2.0",
            "_view_name": "StyleView",
            "description_width": ""
          }
        }
      }
    }
  },
  "nbformat": 4,
  "nbformat_minor": 0
}